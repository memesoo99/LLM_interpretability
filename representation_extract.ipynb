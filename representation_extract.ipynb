{
 "cells": [
  {
   "cell_type": "code",
   "execution_count": 1,
   "id": "655266f4-1074-4fa5-959f-976d2e1bda51",
   "metadata": {},
   "outputs": [
    {
     "name": "stdout",
     "output_type": "stream",
     "text": [
      "Python 3.11.10\n"
     ]
    }
   ],
   "source": [
    "!python --version"
   ]
  },
  {
   "cell_type": "code",
   "execution_count": 2,
   "id": "2b873552-e276-4053-8d85-4fddcab0b9e8",
   "metadata": {},
   "outputs": [
    {
     "name": "stderr",
     "output_type": "stream",
     "text": [
      "/home/jupyter/.local/lib/python3.11/site-packages/tqdm/auto.py:21: TqdmWarning: IProgress not found. Please update jupyter and ipywidgets. See https://ipywidgets.readthedocs.io/en/stable/user_install.html\n",
      "  from .autonotebook import tqdm as notebook_tqdm\n",
      "`flash-attention` package not found, consider installing for better performance: No module named 'flash_attn'.\n",
      "Current `flash-attention` does not support `window_size`. Either upgrade or use `attn_implementation='eager'`.\n",
      "Loading checkpoint shards: 100%|███████████████████████████████████████████████████████████████████████████████████████████████████| 2/2 [00:04<00:00,  2.45s/it]\n"
     ]
    }
   ],
   "source": [
    "import torch\n",
    "from transformers import AutoTokenizer, AutoModelForCausalLM\n",
    "\n",
    "import json\n",
    "\n",
    "# Initialize model and tokenizer\n",
    "model_name = \"microsoft/Phi-3-mini-4k-instruct\" #3.8\n",
    "model = AutoModelForCausalLM.from_pretrained(model_name, device_map=\"cuda\", torch_dtype=\"auto\", trust_remote_code=True)\n",
    "tokenizer = AutoTokenizer.from_pretrained(model_name)"
   ]
  },
  {
   "cell_type": "code",
   "execution_count": 3,
   "id": "bd5850c0-1136-45ef-8132-6b4997356dd5",
   "metadata": {},
   "outputs": [
    {
     "name": "stdout",
     "output_type": "stream",
     "text": [
      "Defaulting to user installation because normal site-packages is not writeable\n",
      "Requirement already satisfied: datasets in ./.local/lib/python3.9/site-packages (3.1.0)\n",
      "Requirement already satisfied: filelock in /opt/conda/envs/py39/lib/python3.9/site-packages (from datasets) (3.16.1)\n",
      "Requirement already satisfied: numpy>=1.17 in /opt/conda/envs/py39/lib/python3.9/site-packages (from datasets) (1.26.4)\n",
      "Requirement already satisfied: pyarrow>=15.0.0 in ./.local/lib/python3.9/site-packages (from datasets) (18.0.0)\n",
      "Requirement already satisfied: dill<0.3.9,>=0.3.0 in ./.local/lib/python3.9/site-packages (from datasets) (0.3.8)\n",
      "Requirement already satisfied: pandas in ./.local/lib/python3.9/site-packages (from datasets) (2.2.3)\n",
      "Requirement already satisfied: requests>=2.32.2 in /opt/conda/envs/py39/lib/python3.9/site-packages (from datasets) (2.32.3)\n",
      "Requirement already satisfied: tqdm>=4.66.3 in /opt/conda/envs/py39/lib/python3.9/site-packages (from datasets) (4.66.6)\n",
      "Requirement already satisfied: xxhash in ./.local/lib/python3.9/site-packages (from datasets) (3.5.0)\n",
      "Requirement already satisfied: multiprocess<0.70.17 in ./.local/lib/python3.9/site-packages (from datasets) (0.70.16)\n",
      "Requirement already satisfied: fsspec[http]<=2024.9.0,>=2023.1.0 in ./.local/lib/python3.9/site-packages (from datasets) (2024.9.0)\n",
      "Requirement already satisfied: aiohttp in /opt/conda/envs/py39/lib/python3.9/site-packages (from datasets) (3.10.10)\n",
      "Requirement already satisfied: huggingface-hub>=0.23.0 in /opt/conda/envs/py39/lib/python3.9/site-packages (from datasets) (0.26.2)\n",
      "Requirement already satisfied: packaging in /opt/conda/envs/py39/lib/python3.9/site-packages (from datasets) (24.1)\n",
      "Requirement already satisfied: pyyaml>=5.1 in /opt/conda/envs/py39/lib/python3.9/site-packages (from datasets) (6.0.2)\n",
      "Requirement already satisfied: aiohappyeyeballs>=2.3.0 in /opt/conda/envs/py39/lib/python3.9/site-packages (from aiohttp->datasets) (2.4.3)\n",
      "Requirement already satisfied: aiosignal>=1.1.2 in /opt/conda/envs/py39/lib/python3.9/site-packages (from aiohttp->datasets) (1.3.1)\n",
      "Requirement already satisfied: attrs>=17.3.0 in /opt/conda/envs/py39/lib/python3.9/site-packages (from aiohttp->datasets) (24.2.0)\n",
      "Requirement already satisfied: frozenlist>=1.1.1 in /opt/conda/envs/py39/lib/python3.9/site-packages (from aiohttp->datasets) (1.5.0)\n",
      "Requirement already satisfied: multidict<7.0,>=4.5 in /opt/conda/envs/py39/lib/python3.9/site-packages (from aiohttp->datasets) (6.1.0)\n",
      "Requirement already satisfied: yarl<2.0,>=1.12.0 in /opt/conda/envs/py39/lib/python3.9/site-packages (from aiohttp->datasets) (1.17.1)\n",
      "Requirement already satisfied: async-timeout<5.0,>=4.0 in /opt/conda/envs/py39/lib/python3.9/site-packages (from aiohttp->datasets) (4.0.3)\n",
      "Requirement already satisfied: typing-extensions>=3.7.4.3 in /opt/conda/envs/py39/lib/python3.9/site-packages (from huggingface-hub>=0.23.0->datasets) (4.12.2)\n",
      "Requirement already satisfied: charset-normalizer<4,>=2 in /opt/conda/envs/py39/lib/python3.9/site-packages (from requests>=2.32.2->datasets) (3.4.0)\n",
      "Requirement already satisfied: idna<4,>=2.5 in /opt/conda/envs/py39/lib/python3.9/site-packages (from requests>=2.32.2->datasets) (3.10)\n",
      "Requirement already satisfied: urllib3<3,>=1.21.1 in /opt/conda/envs/py39/lib/python3.9/site-packages (from requests>=2.32.2->datasets) (2.2.3)\n",
      "Requirement already satisfied: certifi>=2017.4.17 in /opt/conda/envs/py39/lib/python3.9/site-packages (from requests>=2.32.2->datasets) (2024.8.30)\n",
      "Requirement already satisfied: python-dateutil>=2.8.2 in ./.local/lib/python3.9/site-packages (from pandas->datasets) (2.9.0.post0)\n",
      "Requirement already satisfied: pytz>=2020.1 in ./.local/lib/python3.9/site-packages (from pandas->datasets) (2024.2)\n",
      "Requirement already satisfied: tzdata>=2022.7 in ./.local/lib/python3.9/site-packages (from pandas->datasets) (2024.2)\n",
      "Requirement already satisfied: six>=1.5 in ./.local/lib/python3.9/site-packages (from python-dateutil>=2.8.2->pandas->datasets) (1.16.0)\n",
      "Requirement already satisfied: propcache>=0.2.0 in /opt/conda/envs/py39/lib/python3.9/site-packages (from yarl<2.0,>=1.12.0->aiohttp->datasets) (0.2.0)\n",
      "\u001b[33mWARNING: There was an error checking the latest version of pip.\u001b[0m\u001b[33m\n",
      "\u001b[0m"
     ]
    }
   ],
   "source": [
    "!pip install datasets\n",
    "from datasets import load_dataset"
   ]
  },
  {
   "cell_type": "code",
   "execution_count": 3,
   "id": "d18cef01-9a8b-449a-8604-12f9bb361300",
   "metadata": {},
   "outputs": [],
   "source": [
    "# Define a function to get activations directly from the forward pass\n",
    "def get_middle_layer_residual(model, inputs, layer_idx=16):\n",
    "    residuals = []\n",
    "    for i, layer in enumerate(model.model.layers):\n",
    "        inputs = layer(inputs)\n",
    "        if i == layer_idx:\n",
    "            # Capture the output after the 16th layer\n",
    "            residuals = inputs[0]  # Adjust indexing based on layer output format\n",
    "            break\n",
    "    return residuals"
   ]
  },
  {
   "cell_type": "code",
   "execution_count": null,
   "id": "4c960c2e-87df-4278-b1b5-506f0657f299",
   "metadata": {},
   "outputs": [],
   "source": [
    "# [batch, 100 * 4096]\n",
    "# 1x 4096 -> 1x409610?\n",
    "# 4096*4096*10*2\n",
    "# 335,544,320"
   ]
  },
  {
   "cell_type": "code",
   "execution_count": 4,
   "id": "3a4ba2ce-6b1a-4ca4-b4cb-fd5e7bcf12f9",
   "metadata": {},
   "outputs": [],
   "source": [
    "# Select the middle layer for residuals (e.g., for a 12-layer model, pick layer 6)\n",
    "# Prepare storage\n",
    "batch_size = 32\n",
    "samples_per_file = 5000\n",
    "max_samples = 100000\n",
    "sample_count = 0\n",
    "file_count = 1\n",
    "data_batch = []"
   ]
  },
  {
   "cell_type": "code",
   "execution_count": 5,
   "id": "657b2b5f-0323-4ddc-8e3c-05f80d0bb303",
   "metadata": {},
   "outputs": [],
   "source": [
    "sentence = [\"Hello how are you\", \"I am good thanks a lot\"]\n",
    "inputs = tokenizer(sentence, padding=True, truncation=True, return_tensors=\"pt\").to(\"cuda\")"
   ]
  },
  {
   "cell_type": "code",
   "execution_count": 6,
   "id": "cc5915a3-96f6-4230-ae22-645d8e803064",
   "metadata": {},
   "outputs": [],
   "source": [
    "#WIP Need to test \n",
    "#Purpose - Given a tokenizer output and model output - Stores the word and corresponding vector to a dictionary\n",
    "def get_word_vector_pairs(tokenizer_output, model_output):\n",
    "    wordVectorPairs = []\n",
    "    for i in range(len(inputs['input_ids'])):\n",
    "        masked_input = (inputs['input_ids'][i] * inputs['attention_mask'][i]).cpu().tolist()\n",
    "        print(masked_input)\n",
    "        for j, word in enumerate(masked_input):\n",
    "            print(word)\n",
    "            print(SSD)\n",
    "            if word == 0:\n",
    "                continue\n",
    "            else:\n",
    "                wordVectorPairs.append(word, model_output[i][j])\n",
    "    return wordVectorPairs\n",
    "                \n",
    "            "
   ]
  },
  {
   "cell_type": "code",
   "execution_count": null,
   "id": "8b152b4c-8a8d-4cf5-89df-bf03f7b14324",
   "metadata": {},
   "outputs": [],
   "source": [
    "# Process dataset in batches\n",
    "for i in range(0, len(dataset), batch_size):\n",
    "    if sample_count >= max_samples:\n",
    "        break\n",
    "\n",
    "    # Select a batch of samples\n",
    "    batch = dataset[i : i + batch_size]\n",
    "    texts = [sample[\"text\"] for sample in batch]\n",
    "\n",
    "    # Tokenize the batch of text\n",
    "    inputs = tokenizer(texts, padding=True, truncation=True, return_tensors=\"pt\").to(\"cuda\")\n",
    "\n",
    "    # Get the activations for the middle layer\n",
    "    with torch.no_grad():\n",
    "        residuals = get_middle_layer_residual(model, inputs)\n",
    "\n",
    "    # Append text and residuals for each item in the batch\n",
    "    for j, text in enumerate(texts):\n",
    "        data_batch.extend(get_word_vector_pairs(inputs, residuals))\n",
    "        #data_batch.append({\"text\": text, \"residual\": residuals[j].cpu().numpy().tolist()})\n",
    "        sample_count += 1\n",
    "\n",
    "    # Save batch to disk every 5,000 samples\n",
    "    if sample_count % samples_per_file == 0 and data_batch:\n",
    "        with open(f\"residual_data_batch_{file_count}.jsonl\", \"w\") as f:\n",
    "            for entry in data_batch:\n",
    "                f.write(json.dumps(entry) + \"\\n\")\n",
    "        data_batch.clear()\n",
    "        file_count += 1"
   ]
  },
  {
   "cell_type": "code",
   "execution_count": null,
   "id": "74e6e985-ae48-4512-a583-86236b69c285",
   "metadata": {},
   "outputs": [],
   "source": [
    "# import torch\n",
    "# from transformers import AutoTokenizer, AutoModelForCausalLM\n",
    "# from datasets import load_dataset\n",
    "# import json\n",
    "\n",
    "# Initialize model and tokenizer\n",
    "# model_name = \"microsoft/Phi-3-mini-4k-instruct\"\n",
    "# model = AutoModelForCausalLM.from_pretrained(model_name, device_map=\"cuda\", torch_dtype=\"auto\", trust_remote_code=True)\n",
    "# tokenizer = AutoTokenizer.from_pretrained(model_name)"
   ]
  },
  {
   "cell_type": "code",
   "execution_count": null,
   "id": "3867c70c-9707-47a0-ac35-27bbd3beb2a0",
   "metadata": {},
   "outputs": [],
   "source": [
    "## HOOK Approach \n",
    "\n",
    "# Select the middle layer for residuals (e.g., for a 12-layer model, pick layer 6)\n",
    "layer_to_capture = 16\n",
    "batch_size = 12  # Tweak based on GPU memory availability\n",
    "samples_per_file = 5000\n",
    "max_samples = 100000\n",
    "\n",
    "# Create hooks for the residuals\n",
    "residuals = []\n",
    "\n",
    "def hook_fn(module, input, output):\n",
    "    residuals.append(output.detach().cpu())\n",
    "\n",
    "# Register hook\n",
    "layer = model.model.layers[layer_to_capture]\n",
    "hook_handle = layer.register_forward_hook(hook_fn)\n",
    "\n",
    "# Load Pile dataset\n",
    "dataset = load_dataset(\"the_pile\", split=\"train\")\n",
    "\n",
    "# Prepare storage\n",
    "sample_count = 0\n",
    "file_count = 1\n",
    "data_batch = []\n",
    "\n",
    "# Process dataset in batches\n",
    "for i in range(0, len(dataset), batch_size):\n",
    "    if sample_count >= max_samples:\n",
    "        break\n",
    "\n",
    "    # Select a batch of samples\n",
    "    batch = dataset[i : i + batch_size]\n",
    "    texts = [sample['text'] for sample in batch]\n",
    "    \n",
    "    # Tokenize the batch of text\n",
    "    inputs = tokenizer(texts, padding=True, truncation=True, return_tensors=\"pt\").to(\"cuda\")\n",
    "\n",
    "    # Run forward pass to capture residuals for the entire batch\n",
    "    with torch.no_grad():\n",
    "        model(**inputs)\n",
    "\n",
    "    # Append text and residuals for each item in the batch\n",
    "    for j, text in enumerate(texts):\n",
    "        if j < len(residuals):\n",
    "            data_batch.append({\"text\": text, \"residual\": residuals[j].numpy().tolist()})\n",
    "            sample_count += 1\n",
    "\n",
    "    residuals.clear()  # Clear residuals to save memory\n",
    "\n",
    "    # Save batch to disk every 5,000 samples\n",
    "    if sample_count % samples_per_file == 0 and data_batch:\n",
    "        with open(f\"residual_data_batch_{file_count}.jsonl\", \"w\") as f:\n",
    "            for entry in data_batch:\n",
    "                f.write(json.dumps(entry) + \"\\n\")\n",
    "        data_batch.clear()\n",
    "        file_count += 1\n",
    "\n",
    "# Remove the hook after processing\n",
    "hook_handle.remove()"
   ]
  },
  {
   "cell_type": "code",
   "execution_count": null,
   "id": "1453d967-5afd-4c63-9b79-e3ed87605ed6",
   "metadata": {},
   "outputs": [],
   "source": []
  },
  {
   "cell_type": "code",
   "execution_count": null,
   "id": "8fbe0b4a-7044-439a-9f87-07572b525977",
   "metadata": {},
   "outputs": [],
   "source": [
    "\n",
    "# Define a function to get activations directly from the forward pass\n",
    "def get_middle_layer_residual(model, inputs, layer_idx=16):\n",
    "    residuals = []\n",
    "    for i, layer in enumerate(model.model.layers):\n",
    "        inputs = layer(inputs)\n",
    "        if i == layer_idx:\n",
    "            # Capture the output after the 16th layer\n",
    "            residuals = inputs[0]  # Adjust indexing based on layer output format\n",
    "            break\n",
    "    return residuals\n",
    "\n",
    "# Load Pile dataset\n",
    "dataset = load_dataset(\"the_pile\", split=\"train\")\n",
    "\n",
    "# Prepare storage\n",
    "batch_size = 64\n",
    "samples_per_file = 5000\n",
    "max_samples = 100000\n",
    "sample_count = 0\n",
    "file_count = 1\n",
    "data_batch = []\n",
    "\n"
   ]
  },
  {
   "cell_type": "code",
   "execution_count": null,
   "id": "688a3ac0-953e-4121-8eae-6167b0f142c9",
   "metadata": {},
   "outputs": [],
   "source": []
  }
 ],
 "metadata": {
  "environment": {
   "kernel": "python3",
   "name": "common-cu113.m112",
   "type": "gcloud",
   "uri": "gcr.io/deeplearning-platform-release/base-cu113:m112"
  },
  "kernelspec": {
   "display_name": "Python 3 (ipykernel)",
   "language": "python",
   "name": "python3"
  },
  "language_info": {
   "codemirror_mode": {
    "name": "ipython",
    "version": 3
   },
   "file_extension": ".py",
   "mimetype": "text/x-python",
   "name": "python",
   "nbconvert_exporter": "python",
   "pygments_lexer": "ipython3",
   "version": "3.7.12"
  }
 },
 "nbformat": 4,
 "nbformat_minor": 5
}
