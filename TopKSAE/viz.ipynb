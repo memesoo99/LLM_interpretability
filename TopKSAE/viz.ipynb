{
 "cells": [
  {
   "cell_type": "code",
   "execution_count": 1,
   "id": "2040f6a1-3137-4f6e-b502-72894c7f039e",
   "metadata": {},
   "outputs": [],
   "source": [
    "import torch\n",
    "import torch.nn as nn\n",
    "import torch.optim as optim\n",
    "import os\n",
    "import torch\n",
    "from torch.utils.data import Dataset, DataLoader\n",
    "import glob\n",
    "import matplotlib.pyplot as plt\n",
    "import time\n",
    "from datetime import datetime\n",
    "from SAEModel import SparseAutoencoder\n",
    "from torch.nn import functional as F\n",
    "import json\n",
    "from collections import defaultdict\n",
    "from tqdm import tqdm\n",
    "from transformers import AutoModelForCausalLM, AutoTokenizer\n",
    "from mistral_common.tokens.tokenizers.mistral import MistralTokenizer\n",
    "from mistral_common.protocol.instruct.request import ChatCompletionRequest\n",
    "from mistral_common.protocol.instruct.messages import UserMessage\n",
    "from datasets import load_dataset\n",
    "import numpy as np\n",
    "\n",
    "from eval_utils import getDict, most_common_neurons, get_word_list"
   ]
  },
  {
   "cell_type": "markdown",
   "id": "c809f138",
   "metadata": {},
   "source": [
    "### Load SAE"
   ]
  },
  {
   "cell_type": "code",
   "execution_count": 67,
   "id": "bc774fbf-72cb-47c8-886d-81ac82d458c2",
   "metadata": {},
   "outputs": [
    {
     "name": "stderr",
     "output_type": "stream",
     "text": [
      "/tmp/ipykernel_633169/1931317415.py:9: FutureWarning: You are using `torch.load` with `weights_only=False` (the current default value), which uses the default pickle module implicitly. It is possible to construct malicious pickle data which will execute arbitrary code during unpickling (See https://github.com/pytorch/pytorch/blob/main/SECURITY.md#untrusted-models for more details). In a future release, the default value for `weights_only` will be flipped to `True`. This limits the functions that could be executed during unpickling. Arbitrary objects will no longer be allowed to be loaded via this mode unless they are explicitly allowlisted by the user via `torch.serialization.add_safe_globals`. We recommend you start setting `weights_only=True` for any use case where you don't have full control of the loaded file. Please open an issue on GitHub for any issues related to this experimental feature.\n",
      "  state_dict = torch.load(\"/workspace/LLM_interpretability/TopKSAE/experiments/100x_k_comparison_20241210_043339/mistral_pile_k24_experiment_20241210/models/model_epoch_30.pt\")\n"
     ]
    },
    {
     "data": {
      "text/plain": [
       "SparseAutoencoder()"
      ]
     },
     "execution_count": 67,
     "metadata": {},
     "output_type": "execute_result"
    }
   ],
   "source": [
    "if 'sae_model' in globals() and sae_model is not None:\n",
    "    del sae_model\n",
    "    torch.cuda.empty_cache()  # Clear the GPU memory\n",
    "\n",
    "input_dim = 4096  # Input and output dimensions\n",
    "hidden_dim = input_dim * 100  # Hidden layer dimension\n",
    "K = 24\n",
    "\n",
    "state_dict = torch.load(\"/workspace/LLM_interpretability/TopKSAE/experiments/100x_k_comparison_20241210_043339/mistral_pile_k24_experiment_20241210/models/model_epoch_30.pt\")\n",
    "\n",
    "# Load the weights into the model\n",
    "sae_model = SparseAutoencoder(input_dim, hidden_dim, k = K, dead_steps_threshold=1000000) # initial lambda is 0\n",
    "sae_model.load_state_dict(state_dict)\n",
    "sae_model.to('cuda')"
   ]
  },
  {
   "cell_type": "markdown",
   "id": "b9b1b2f2-b8ed-4bff-a2ad-d617858bc455",
   "metadata": {},
   "source": [
    "## Modified Dataset to also return text with embedding for ease of visualisation"
   ]
  },
  {
   "cell_type": "code",
   "execution_count": 3,
   "id": "094ad569-bc1b-4330-bf23-84f375b3abea",
   "metadata": {},
   "outputs": [],
   "source": [
    "\n",
    "class EmbeddingDataset(Dataset):\n",
    "    def __init__(self, path, file_pattern, use_files = 40):\n",
    "        # Load all `.pt` files based on the pattern\n",
    "        self.file_path = path\n",
    "        self.files = sorted(glob.glob(path+\"/\"+file_pattern))\n",
    "        print(f\"Num of files found : {len(self.files)}\")\n",
    "        print(f\"Num of files used : {len(self.files[:use_files])}\")\n",
    "        self.data = []\n",
    "\n",
    "        # Read and store all embeddings from all files\n",
    "        for file in self.files[:use_files]:\n",
    "            batch_data = torch.load(file)\n",
    "            # Extract embeddings and flatten them into a list\n",
    "            self.data.extend([(item[\"embedding\"], item[\"text\"]) for item in batch_data])\n",
    "\n",
    "    def __len__(self):\n",
    "        return len(self.data)\n",
    "\n",
    "    def __getitem__(self, idx):\n",
    "        return self.data[idx]"
   ]
  },
  {
   "cell_type": "code",
   "execution_count": 4,
   "id": "b0e9ee12-eca7-4a4a-98ba-29830caa1870",
   "metadata": {},
   "outputs": [
    {
     "name": "stdout",
     "output_type": "stream",
     "text": [
      "Num of files found : 14\n",
      "Num of files used : 14\n"
     ]
    },
    {
     "name": "stderr",
     "output_type": "stream",
     "text": [
      "/tmp/ipykernel_633169/260067385.py:12: FutureWarning: You are using `torch.load` with `weights_only=False` (the current default value), which uses the default pickle module implicitly. It is possible to construct malicious pickle data which will execute arbitrary code during unpickling (See https://github.com/pytorch/pytorch/blob/main/SECURITY.md#untrusted-models for more details). In a future release, the default value for `weights_only` will be flipped to `True`. This limits the functions that could be executed during unpickling. Arbitrary objects will no longer be allowed to be loaded via this mode unless they are explicitly allowlisted by the user via `torch.serialization.add_safe_globals`. We recommend you start setting `weights_only=True` for any use case where you don't have full control of the loaded file. Please open an issue on GitHub for any issues related to this experimental feature.\n",
      "  batch_data = torch.load(file)\n",
      "Processing Batches:   7%|▋         | 1/14 [00:00<00:09,  1.39it/s]"
     ]
    },
    {
     "name": "stdout",
     "output_type": "stream",
     "text": [
      "Processed Batch 0...\n"
     ]
    },
    {
     "name": "stderr",
     "output_type": "stream",
     "text": [
      "Processing Batches: 100%|██████████| 14/14 [00:08<00:00,  1.60it/s]\n"
     ]
    }
   ],
   "source": [
    "path = \"/workspace/mistral_pile\"\n",
    "file_pattern = \"*3.pt\"  # Adjust the path if needed\n",
    "\n",
    "pile_data = EmbeddingDataset(path, file_pattern , use_files=20)\n",
    "pile_data_loader = DataLoader(pile_data, batch_size=1024, shuffle=True)\n",
    "# If certain words evoke feature activations\n",
    "pile_data_Dict = getDict(pile_data_loader, sae_model, K=K)"
   ]
  },
  {
   "cell_type": "markdown",
   "id": "762c001d",
   "metadata": {},
   "source": [
    "### Load LLM model "
   ]
  },
  {
   "cell_type": "code",
   "execution_count": null,
   "id": "3f7bdba3-7bc2-41fb-8f45-fc38d96fa2b0",
   "metadata": {},
   "outputs": [
    {
     "data": {
      "application/vnd.jupyter.widget-view+json": {
       "model_id": "efedc03d810449b4bdeae3a8e3489098",
       "version_major": 2,
       "version_minor": 0
      },
      "text/plain": [
       "model.safetensors.index.json:   0%|          | 0.00/25.1k [00:00<?, ?B/s]"
      ]
     },
     "metadata": {},
     "output_type": "display_data"
    },
    {
     "data": {
      "application/vnd.jupyter.widget-view+json": {
       "model_id": "922f66ba81de48ec8d88f0d699ce6829",
       "version_major": 2,
       "version_minor": 0
      },
      "text/plain": [
       "Downloading shards:   0%|          | 0/3 [00:00<?, ?it/s]"
      ]
     },
     "metadata": {},
     "output_type": "display_data"
    },
    {
     "data": {
      "application/vnd.jupyter.widget-view+json": {
       "model_id": "d7e40712d0f54f91ac1301df5dce9307",
       "version_major": 2,
       "version_minor": 0
      },
      "text/plain": [
       "model-00001-of-00003.safetensors:   0%|          | 0.00/4.94G [00:00<?, ?B/s]"
      ]
     },
     "metadata": {},
     "output_type": "display_data"
    },
    {
     "data": {
      "application/vnd.jupyter.widget-view+json": {
       "model_id": "e01214a3ff9c4db48be583dd3c9476d0",
       "version_major": 2,
       "version_minor": 0
      },
      "text/plain": [
       "model-00002-of-00003.safetensors:   0%|          | 0.00/5.00G [00:00<?, ?B/s]"
      ]
     },
     "metadata": {},
     "output_type": "display_data"
    },
    {
     "data": {
      "application/vnd.jupyter.widget-view+json": {
       "model_id": "297440f5569f482c92cf47b72766dfcc",
       "version_major": 2,
       "version_minor": 0
      },
      "text/plain": [
       "model-00003-of-00003.safetensors:   0%|          | 0.00/4.54G [00:00<?, ?B/s]"
      ]
     },
     "metadata": {},
     "output_type": "display_data"
    },
    {
     "data": {
      "application/vnd.jupyter.widget-view+json": {
       "model_id": "fa8027fcca224509a0710261a8ef3ddf",
       "version_major": 2,
       "version_minor": 0
      },
      "text/plain": [
       "Loading checkpoint shards:   0%|          | 0/3 [00:00<?, ?it/s]"
      ]
     },
     "metadata": {},
     "output_type": "display_data"
    },
    {
     "data": {
      "application/vnd.jupyter.widget-view+json": {
       "model_id": "cb423288bfaa4117914d45fb8a466b06",
       "version_major": 2,
       "version_minor": 0
      },
      "text/plain": [
       "generation_config.json:   0%|          | 0.00/111 [00:00<?, ?B/s]"
      ]
     },
     "metadata": {},
     "output_type": "display_data"
    },
    {
     "name": "stderr",
     "output_type": "stream",
     "text": [
      "/opt/conda/lib/python3.11/site-packages/transformers/models/auto/tokenization_auto.py:810: FutureWarning: The `use_auth_token` argument is deprecated and will be removed in v5 of Transformers. Please use `token` instead.\n",
      "  warnings.warn(\n"
     ]
    },
    {
     "data": {
      "application/vnd.jupyter.widget-view+json": {
       "model_id": "f4581174af624e5c8a93f9e9486396e8",
       "version_major": 2,
       "version_minor": 0
      },
      "text/plain": [
       "tokenizer_config.json:   0%|          | 0.00/2.10k [00:00<?, ?B/s]"
      ]
     },
     "metadata": {},
     "output_type": "display_data"
    },
    {
     "data": {
      "application/vnd.jupyter.widget-view+json": {
       "model_id": "28d934a755054558b739dd4a159fc107",
       "version_major": 2,
       "version_minor": 0
      },
      "text/plain": [
       "tokenizer.model:   0%|          | 0.00/493k [00:00<?, ?B/s]"
      ]
     },
     "metadata": {},
     "output_type": "display_data"
    },
    {
     "data": {
      "application/vnd.jupyter.widget-view+json": {
       "model_id": "5579741cfcb2469ca6fcd7affb680d9c",
       "version_major": 2,
       "version_minor": 0
      },
      "text/plain": [
       "tokenizer.json:   0%|          | 0.00/1.80M [00:00<?, ?B/s]"
      ]
     },
     "metadata": {},
     "output_type": "display_data"
    },
    {
     "data": {
      "application/vnd.jupyter.widget-view+json": {
       "model_id": "b9c7f82f8bb54923b1eacc9bc71e3a6b",
       "version_major": 2,
       "version_minor": 0
      },
      "text/plain": [
       "special_tokens_map.json:   0%|          | 0.00/414 [00:00<?, ?B/s]"
      ]
     },
     "metadata": {},
     "output_type": "display_data"
    }
   ],
   "source": [
    "# Load Mistral\n",
    "from dotenv import load_dotenv\n",
    "load_dotenv()\n",
    "\n",
    "# Retrieve the Hugging Face token\n",
    "access_token = os.getenv(\"HF_TOKEN\")\n",
    "model_name = \"mistralai/Mistral-7B-Instruct-v0.2\"\n",
    "model = AutoModelForCausalLM.from_pretrained(model_name, token=access_token, device_map=\"cuda\")\n",
    "tokenizer = AutoTokenizer.from_pretrained(model_name, use_auth_token=access_token)\n",
    "\n",
    "## Residual Hook Function\n",
    "def gather_residual_activations(model, target_layer, inputs):\n",
    "  target_act = None\n",
    "  def gather_target_act_hook(mod, inputs, outputs):\n",
    "    nonlocal target_act # make sure we can modify the target_act from the outer scope\n",
    "    target_act = outputs[0]\n",
    "    return outputs\n",
    "  handle = model.model.layers[target_layer].register_forward_hook(gather_target_act_hook)\n",
    "  _ = model.forward(inputs)\n",
    "  handle.remove()\n",
    "  return target_act\n",
    "\n",
    "def get_word_vector_pairs(tokenizer_output, model_output):\n",
    "    wordVectorPairs = []\n",
    "    for i, word in enumerate(tokenizer_output):\n",
    "        #print(i, word, tokenizer.decode(word), model_output[i, :].shape)\n",
    "        wordVectorPairs.append({\"text\":tokenizer.decode(word), \"embedding\": model_output[i, :]})\n",
    "    # print(wordVectorPairs)\n",
    "    return wordVectorPairs\n",
    "\n",
    "\n",
    "def prepare_batch_embeddings(text, tokenizer, model, gather_residual_activations, layer_index=16):\n",
    "\n",
    "    inputs = tokenizer.encode(text, return_tensors=\"pt\", add_special_tokens=False).to(\"cuda\")\n",
    "    \n",
    "    with torch.no_grad():\n",
    "        residuals = gather_residual_activations(model, layer_index, inputs)\n",
    "    \n",
    "    out = get_word_vector_pairs(inputs[0].cpu().tolist(), residuals[0].cpu())\n",
    "\n",
    "    batch_text = [item[\"text\"] for item in out]\n",
    "    batch_embeddings = torch.stack([item[\"embedding\"] for item in out])\n",
    "\n",
    "    return batch_embeddings, batch_text\n",
    "\n"
   ]
  },
  {
   "cell_type": "markdown",
   "id": "fc15eb37-5c92-4e5b-a77a-458c398bffb5",
   "metadata": {},
   "source": [
    "### Visualize Text"
   ]
  },
  {
   "cell_type": "code",
   "execution_count": 3,
   "id": "f1481450",
   "metadata": {},
   "outputs": [],
   "source": [
    "### Normalization present !!!\n",
    "import matplotlib.pyplot as plt\n",
    "import matplotlib.colors as mcolors\n",
    "from matplotlib.colors import Normalize\n",
    "from matplotlib import cm\n",
    "from IPython.display import HTML, display\n",
    "import torch\n",
    "\n",
    "def sentence_heatmap_visualization(batch_text, batch_embeddings, feature_index, sae_model):\n",
    "    sae_model.eval()\n",
    "\n",
    "    # Forward pass to get latent activations\n",
    "    with torch.no_grad():\n",
    "        _, _, _, latents = sae_model(batch_embeddings.cuda())\n",
    "\n",
    "    # Per-token normalization\n",
    "    latents_np = latents.cpu().numpy()  # Convert to numpy\n",
    "    latents_min = latents_np.min(axis=-1, keepdims=True)  # Min per token\n",
    "    latents_max = latents_np.max(axis=-1, keepdims=True)  # Max per token\n",
    "    latents_normalized = (latents_np - latents_min) / (latents_max - latents_min + 1e-8)  # Normalize per token\n",
    "\n",
    "    # Extract normalized activations for the given feature index\n",
    "    feature_activations = latents_normalized[:, feature_index]\n",
    "\n",
    "    # Create HTML with tokens highlighted\n",
    "    sentence_html = \"\"\n",
    "    # cmap = cm.get_cmap(\"Reds\")\n",
    "\n",
    "    blue_pastel_cmap = LinearSegmentedColormap.from_list(\n",
    "        \"blue_pastel\", [\"#D0E8F2\", \"#A9D6E5\", \"#89C2D9\", \"#61A5C2\", \"#468FAF\"]\n",
    "    )\n",
    "    cmap = blue_pastel_cmap\n",
    "\n",
    "    # Define transparency scaling factor (e.g., 0.7 for 70% transparency)\n",
    "    alpha_scaling = 0.7\n",
    "\n",
    "    for token, act in zip(batch_text, feature_activations):\n",
    "        if act == 0 or np.isnan(act):  # Handle NaN values gracefully\n",
    "            color_hex = \"rgba(255, 255, 255, 0)\"  # Fully transparent for zero activation\n",
    "        else:\n",
    "            color = cmap(act)\n",
    "            color_hex = f\"rgba({int(color[0]*255)}, {int(color[1]*255)}, {int(color[2]*255)}, {color[3] * alpha_scaling})\"\n",
    "        token = token.replace(\"<\", \"&lt;\").replace(\">\", \"&gt;\")  # Sanitize tokens\n",
    "        sentence_html += f'<span style=\"background-color: {color_hex}; padding: 2px 4px; margin: 2px; text-decoration: none;\">{token}</span> '\n",
    "\n",
    "    # Render HTML visualizations as a single paragraph\n",
    "    html_visualization = f\"<p style='font-family: monospace; text-decoration: none;'>{sentence_html}</p>\"\n",
    "    display(HTML(html_visualization))\n",
    "\n",
    "    # Optional: Add a color scale (uncomment if needed)\n",
    "    # fig, ax = plt.subplots(figsize=(6, 1))\n",
    "    # fig.subplots_adjust(bottom=0.5)\n",
    "    # sm = plt.cm.ScalarMappable(cmap=cmap, norm=Normalize(vmin=0, vmax=1))\n",
    "    # cbar = plt.colorbar(sm, orientation='horizontal', ax=ax)\n",
    "    # cbar.set_label('Normalized Activation Strength (0 to 1)')\n",
    "    # plt.show()\n"
   ]
  },
  {
   "cell_type": "markdown",
   "id": "b3eedd74",
   "metadata": {},
   "source": [
    "### Visualuze activation for certain text and feature_index"
   ]
  },
  {
   "cell_type": "code",
   "execution_count": null,
   "id": "be09b059-e475-4d3c-811d-22f761d36ae6",
   "metadata": {},
   "outputs": [
    {
     "name": "stderr",
     "output_type": "stream",
     "text": [
      "/tmp/ipykernel_445498/879806187.py:28: MatplotlibDeprecationWarning: The get_cmap function was deprecated in Matplotlib 3.7 and will be removed in 3.11. Use ``matplotlib.colormaps[name]`` or ``matplotlib.colormaps.get_cmap()`` or ``pyplot.get_cmap()`` instead.\n",
      "  cmap = cm.get_cmap(\"Reds\")\n"
     ]
    },
    {
     "data": {
      "text/html": [
       "<p style='font-family: monospace; text-decoration: none;'><span style=\"background-color: rgba(255, 255, 255, 0); padding: 2px 4px; margin: 2px; text-decoration: none;\">The</span> <span style=\"background-color: rgba(255, 255, 255, 0); padding: 2px 4px; margin: 2px; text-decoration: none;\">suspect</span> <span style=\"background-color: rgba(255, 255, 255, 0); padding: 2px 4px; margin: 2px; text-decoration: none;\">was</span> <span style=\"background-color: rgba(255, 255, 255, 0); padding: 2px 4px; margin: 2px; text-decoration: none;\">caught</span> <span style=\"background-color: rgba(255, 255, 255, 0); padding: 2px 4px; margin: 2px; text-decoration: none;\">red</span> <span style=\"background-color: rgba(255, 255, 255, 0); padding: 2px 4px; margin: 2px; text-decoration: none;\">-</span> <span style=\"background-color: rgba(255, 255, 255, 0); padding: 2px 4px; margin: 2px; text-decoration: none;\">handed</span> <span style=\"background-color: rgba(255, 255, 255, 0); padding: 2px 4px; margin: 2px; text-decoration: none;\">.</span> <span style=\"background-color: rgba(255, 255, 255, 0); padding: 2px 4px; margin: 2px; text-decoration: none;\">Police</span> <span style=\"background-color: rgba(255, 255, 255, 0); padding: 2px 4px; margin: 2px; text-decoration: none;\">confirmed</span> <span style=\"background-color: rgba(255, 255, 255, 0); padding: 2px 4px; margin: 2px; text-decoration: none;\">the</span> <span style=\"background-color: rgba(255, 255, 255, 0); padding: 2px 4px; margin: 2px; text-decoration: none;\">stolen</span> <span style=\"background-color: rgba(255, 255, 255, 0); padding: 2px 4px; margin: 2px; text-decoration: none;\">goods</span> <span style=\"background-color: rgba(255, 255, 255, 0); padding: 2px 4px; margin: 2px; text-decoration: none;\">were</span> <span style=\"background-color: rgba(255, 255, 255, 0); padding: 2px 4px; margin: 2px; text-decoration: none;\">recovered</span> <span style=\"background-color: rgba(255, 255, 255, 0); padding: 2px 4px; margin: 2px; text-decoration: none;\">.</span> <span style=\"background-color: rgba(255, 255, 255, 0); padding: 2px 4px; margin: 2px; text-decoration: none;\">Crime</span> <span style=\"background-color: rgba(255, 255, 255, 0); padding: 2px 4px; margin: 2px; text-decoration: none;\">rates</span> <span style=\"background-color: rgba(255, 255, 255, 0); padding: 2px 4px; margin: 2px; text-decoration: none;\">in</span> <span style=\"background-color: rgba(255, 255, 255, 0); padding: 2px 4px; margin: 2px; text-decoration: none;\">the</span> <span style=\"background-color: rgba(255, 255, 255, 0); padding: 2px 4px; margin: 2px; text-decoration: none;\">city</span> <span style=\"background-color: rgba(255, 255, 255, 0); padding: 2px 4px; margin: 2px; text-decoration: none;\">have</span> <span style=\"background-color: rgba(255, 255, 255, 0); padding: 2px 4px; margin: 2px; text-decoration: none;\">been</span> <span style=\"background-color: rgba(255, 255, 255, 0); padding: 2px 4px; margin: 2px; text-decoration: none;\">stead</span> <span style=\"background-color: rgba(255, 255, 255, 0); padding: 2px 4px; margin: 2px; text-decoration: none;\">ily</span> <span style=\"background-color: rgba(255, 255, 255, 0); padding: 2px 4px; margin: 2px; text-decoration: none;\">increasing</span> <span style=\"background-color: rgba(255, 255, 255, 0); padding: 2px 4px; margin: 2px; text-decoration: none;\">.</span> </p>"
      ],
      "text/plain": [
       "<IPython.core.display.HTML object>"
      ]
     },
     "metadata": {},
     "output_type": "display_data"
    }
   ],
   "source": [
    "# Feature to visualize\n",
    "feature_index = 3597\n",
    "text = \"The suspect was caught red-handed. Police confirmed the stolen goods were recovered. Crime rates in the city have been steadily increasing.\"\n",
    "batch_embeddings, batch_text = prepare_batch_embeddings(text, tokenizer, model, gather_residual_activations, layer_index=16)\n",
    "batch_embeddings = batch_embeddings.to(torch.float32)\n",
    "# Visualize the heatmap\n",
    "sentence_heatmap_visualization(batch_text, batch_embeddings, feature_index, sae_model)\n"
   ]
  },
  {
   "cell_type": "code",
   "execution_count": null,
   "id": "8802eedd-c51a-4e0c-9962-2dee26e8e16e",
   "metadata": {},
   "outputs": [
    {
     "name": "stdout",
     "output_type": "stream",
     "text": [
      "1024\n"
     ]
    },
    {
     "name": "stderr",
     "output_type": "stream",
     "text": [
      "/tmp/ipykernel_445498/879806187.py:28: MatplotlibDeprecationWarning: The get_cmap function was deprecated in Matplotlib 3.7 and will be removed in 3.11. Use ``matplotlib.colormaps[name]`` or ``matplotlib.colormaps.get_cmap()`` or ``pyplot.get_cmap()`` instead.\n",
      "  cmap = cm.get_cmap(\"Reds\")\n"
     ]
    },
    {
     "data": {
      "text/html": [
       "<p style='font-family: monospace; text-decoration: none;'><span style=\"background-color: rgba(255, 255, 255, 0); padding: 2px 4px; margin: 2px; text-decoration: none;\">committee</span> <span style=\"background-color: rgba(255, 255, 255, 0); padding: 2px 4px; margin: 2px; text-decoration: none;\">defending</span> <span style=\"background-color: rgba(255, 255, 255, 0); padding: 2px 4px; margin: 2px; text-decoration: none;\">:</span> <span style=\"background-color: rgba(255, 255, 255, 0); padding: 2px 4px; margin: 2px; text-decoration: none;\">iron</span> <span style=\"background-color: rgba(255, 255, 255, 0); padding: 2px 4px; margin: 2px; text-decoration: none;\">by</span> <span style=\"background-color: rgba(255, 255, 255, 0); padding: 2px 4px; margin: 2px; text-decoration: none;\">-</span> <span style=\"background-color: rgba(255, 255, 255, 0); padding: 2px 4px; margin: 2px; text-decoration: none;\">C</span> <span style=\"background-color: rgba(255, 255, 255, 0); padding: 2px 4px; margin: 2px; text-decoration: none;\">somewhat</span> <span style=\"background-color: rgba(255, 255, 255, 0); padding: 2px 4px; margin: 2px; text-decoration: none;\">layer</span> <span style=\"background-color: rgba(255, 255, 255, 0); padding: 2px 4px; margin: 2px; text-decoration: none;\">the</span> <span style=\"background-color: rgba(255, 255, 255, 0); padding: 2px 4px; margin: 2px; text-decoration: none;\">B</span> <span style=\"background-color: rgba(255, 255, 255, 0); padding: 2px 4px; margin: 2px; text-decoration: none;\">olutions</span> <span style=\"background-color: rgba(255, 255, 255, 0); padding: 2px 4px; margin: 2px; text-decoration: none;\">Inter</span> <span style=\"background-color: rgba(255, 255, 255, 0); padding: 2px 4px; margin: 2px; text-decoration: none;\">sum</span> <span style=\"background-color: rgba(255, 255, 255, 0); padding: 2px 4px; margin: 2px; text-decoration: none;\">text</span> <span style=\"background-color: rgba(255, 255, 255, 0); padding: 2px 4px; margin: 2px; text-decoration: none;\">TL</span> <span style=\"background-color: rgba(255, 255, 255, 0); padding: 2px 4px; margin: 2px; text-decoration: none;\">factor</span> <span style=\"background-color: rgba(255, 255, 255, 0); padding: 2px 4px; margin: 2px; text-decoration: none;\">some</span> <span style=\"background-color: rgba(255, 255, 255, 0); padding: 2px 4px; margin: 2px; text-decoration: none;\">ary</span> <span style=\"background-color: rgba(255, 255, 255, 0); padding: 2px 4px; margin: 2px; text-decoration: none;\">an</span> <span style=\"background-color: rgba(255, 255, 255, 0); padding: 2px 4px; margin: 2px; text-decoration: none;\">-</span> <span style=\"background-color: rgba(255, 255, 255, 0); padding: 2px 4px; margin: 2px; text-decoration: none;\">other</span> <span style=\"background-color: rgba(255, 255, 255, 0); padding: 2px 4px; margin: 2px; text-decoration: none;\">would</span> <span style=\"background-color: rgba(255, 255, 255, 0); padding: 2px 4px; margin: 2px; text-decoration: none;\">sem</span> <span style=\"background-color: rgba(255, 255, 255, 0); padding: 2px 4px; margin: 2px; text-decoration: none;\">but</span> <span style=\"background-color: rgba(255, 255, 255, 0); padding: 2px 4px; margin: 2px; text-decoration: none;\">\n",
       "</span> <span style=\"background-color: rgba(255, 255, 255, 0); padding: 2px 4px; margin: 2px; text-decoration: none;\">?</span> <span style=\"background-color: rgba(255, 255, 255, 0); padding: 2px 4px; margin: 2px; text-decoration: none;\">but</span> <span style=\"background-color: rgba(255, 255, 255, 0); padding: 2px 4px; margin: 2px; text-decoration: none;\">their</span> <span style=\"background-color: rgba(255, 255, 255, 0); padding: 2px 4px; margin: 2px; text-decoration: none;\">near</span> <span style=\"background-color: rgba(255, 255, 255, 0); padding: 2px 4px; margin: 2px; text-decoration: none;\">for</span> <span style=\"background-color: rgba(255, 255, 255, 0); padding: 2px 4px; margin: 2px; text-decoration: none;\">benefits</span> <span style=\"background-color: rgba(255, 255, 255, 0); padding: 2px 4px; margin: 2px; text-decoration: none;\">the</span> <span style=\"background-color: rgba(255, 255, 255, 0); padding: 2px 4px; margin: 2px; text-decoration: none;\">\n",
       "</span> <span style=\"background-color: rgba(255, 255, 255, 0); padding: 2px 4px; margin: 2px; text-decoration: none;\">correct</span> <span style=\"background-color: rgba(255, 255, 255, 0); padding: 2px 4px; margin: 2px; text-decoration: none;\">reverse</span> <span style=\"background-color: rgba(255, 255, 255, 0); padding: 2px 4px; margin: 2px; text-decoration: none;\">building</span> <span style=\"background-color: rgba(255, 255, 255, 0); padding: 2px 4px; margin: 2px; text-decoration: none;\">a</span> <span style=\"background-color: rgba(255, 255, 255, 0); padding: 2px 4px; margin: 2px; text-decoration: none;\">it</span> <span style=\"background-color: rgba(255, 255, 255, 0); padding: 2px 4px; margin: 2px; text-decoration: none;\">concept</span> <span style=\"background-color: rgba(255, 255, 255, 0); padding: 2px 4px; margin: 2px; text-decoration: none;\">Def</span> <span style=\"background-color: rgba(255, 255, 255, 0); padding: 2px 4px; margin: 2px; text-decoration: none;\">un</span> <span style=\"background-color: rgba(255, 255, 255, 0); padding: 2px 4px; margin: 2px; text-decoration: none;\">th</span> <span style=\"background-color: rgba(255, 255, 255, 0); padding: 2px 4px; margin: 2px; text-decoration: none;\">labor</span> <span style=\"background-color: rgba(255, 255, 255, 0); padding: 2px 4px; margin: 2px; text-decoration: none;\">st</span> <span style=\"background-color: rgba(255, 255, 255, 0); padding: 2px 4px; margin: 2px; text-decoration: none;\"></span> <span style=\"background-color: rgba(255, 255, 255, 0); padding: 2px 4px; margin: 2px; text-decoration: none;\">I</span> <span style=\"background-color: rgba(255, 255, 255, 0); padding: 2px 4px; margin: 2px; text-decoration: none;\">UTF</span> <span style=\"background-color: rgba(255, 255, 255, 0); padding: 2px 4px; margin: 2px; text-decoration: none;\">under</span> <span style=\"background-color: rgba(255, 255, 255, 0); padding: 2px 4px; margin: 2px; text-decoration: none;\">not</span> <span style=\"background-color: rgba(255, 255, 255, 0); padding: 2px 4px; margin: 2px; text-decoration: none;\">“</span> <span style=\"background-color: rgba(255, 255, 255, 0); padding: 2px 4px; margin: 2px; text-decoration: none;\">,</span> <span style=\"background-color: rgba(255, 255, 255, 0); padding: 2px 4px; margin: 2px; text-decoration: none;\">.</span> <span style=\"background-color: rgba(255, 255, 255, 0); padding: 2px 4px; margin: 2px; text-decoration: none;\">ised</span> <span style=\"background-color: rgba(255, 255, 255, 0); padding: 2px 4px; margin: 2px; text-decoration: none;\">largely</span> <span style=\"background-color: rgba(255, 255, 255, 0); padding: 2px 4px; margin: 2px; text-decoration: none;\">I</span> <span style=\"background-color: rgba(255, 255, 255, 0); padding: 2px 4px; margin: 2px; text-decoration: none;\">still</span> <span style=\"background-color: rgba(255, 255, 255, 0); padding: 2px 4px; margin: 2px; text-decoration: none;\">talk</span> <span style=\"background-color: rgba(255, 255, 255, 0); padding: 2px 4px; margin: 2px; text-decoration: none;\">Does</span> <span style=\"background-color: rgba(255, 255, 255, 0); padding: 2px 4px; margin: 2px; text-decoration: none;\">ped</span> <span style=\"background-color: rgba(255, 255, 255, 0); padding: 2px 4px; margin: 2px; text-decoration: none;\">?</span> <span style=\"background-color: rgba(255, 255, 255, 0); padding: 2px 4px; margin: 2px; text-decoration: none;\">are</span> <span style=\"background-color: rgba(255, 255, 255, 0); padding: 2px 4px; margin: 2px; text-decoration: none;\">avoid</span> <span style=\"background-color: rgba(255, 255, 255, 0); padding: 2px 4px; margin: 2px; text-decoration: none;\">the</span> <span style=\"background-color: rgba(255, 255, 255, 0); padding: 2px 4px; margin: 2px; text-decoration: none;\">As</span> <span style=\"background-color: rgba(255, 255, 255, 0); padding: 2px 4px; margin: 2px; text-decoration: none;\">conducted</span> <span style=\"background-color: rgba(255, 255, 255, 0); padding: 2px 4px; margin: 2px; text-decoration: none;\">_</span> <span style=\"background-color: rgba(255, 255, 255, 0); padding: 2px 4px; margin: 2px; text-decoration: none;\">rist</span> <span style=\"background-color: rgba(255, 255, 255, 0); padding: 2px 4px; margin: 2px; text-decoration: none;\">using</span> <span style=\"background-color: rgba(255, 255, 255, 0); padding: 2px 4px; margin: 2px; text-decoration: none;\">n</span> <span style=\"background-color: rgba(255, 255, 255, 0); padding: 2px 4px; margin: 2px; text-decoration: none;\">started</span> <span style=\"background-color: rgba(255, 255, 255, 0); padding: 2px 4px; margin: 2px; text-decoration: none;\">problem</span> <span style=\"background-color: rgba(255, 255, 255, 0); padding: 2px 4px; margin: 2px; text-decoration: none;\">teach</span> <span style=\"background-color: rgba(255, 255, 255, 0); padding: 2px 4px; margin: 2px; text-decoration: none;\">\n",
       "</span> <span style=\"background-color: rgba(255, 255, 255, 0); padding: 2px 4px; margin: 2px; text-decoration: none;\">ary</span> <span style=\"background-color: rgba(255, 255, 255, 0); padding: 2px 4px; margin: 2px; text-decoration: none;\">att</span> <span style=\"background-color: rgba(255, 255, 255, 0); padding: 2px 4px; margin: 2px; text-decoration: none;\">of</span> <span style=\"background-color: rgba(255, 255, 255, 0); padding: 2px 4px; margin: 2px; text-decoration: none;\">and</span> <span style=\"background-color: rgba(255, 255, 255, 0); padding: 2px 4px; margin: 2px; text-decoration: none;\">,</span> <span style=\"background-color: rgba(255, 255, 255, 0); padding: 2px 4px; margin: 2px; text-decoration: none;\">the</span> <span style=\"background-color: rgba(255, 255, 255, 0); padding: 2px 4px; margin: 2px; text-decoration: none;\">out</span> <span style=\"background-color: rgba(255, 255, 255, 0); padding: 2px 4px; margin: 2px; text-decoration: none;\">appropriate</span> <span style=\"background-color: rgba(255, 255, 255, 0); padding: 2px 4px; margin: 2px; text-decoration: none;\">planning</span> <span style=\"background-color: rgba(255, 255, 255, 0); padding: 2px 4px; margin: 2px; text-decoration: none;\">would</span> <span style=\"background-color: rgba(255, 255, 255, 0); padding: 2px 4px; margin: 2px; text-decoration: none;\">that</span> <span style=\"background-color: rgba(255, 255, 255, 0); padding: 2px 4px; margin: 2px; text-decoration: none;\">is</span> <span style=\"background-color: rgba(255, 255, 255, 0); padding: 2px 4px; margin: 2px; text-decoration: none;\">s</span> <span style=\"background-color: rgba(255, 255, 255, 0); padding: 2px 4px; margin: 2px; text-decoration: none;\">measurements</span> <span style=\"background-color: rgba(255, 255, 255, 0); padding: 2px 4px; margin: 2px; text-decoration: none;\">$</span> <span style=\"background-color: rgba(255, 255, 255, 0); padding: 2px 4px; margin: 2px; text-decoration: none;\">.</span> <span style=\"background-color: rgba(255, 255, 255, 0); padding: 2px 4px; margin: 2px; text-decoration: none;\">find</span> <span style=\"background-color: rgba(255, 255, 255, 0); padding: 2px 4px; margin: 2px; text-decoration: none;\">OO</span> <span style=\"background-color: rgba(255, 255, 255, 0); padding: 2px 4px; margin: 2px; text-decoration: none;\">to</span> <span style=\"background-color: rgba(255, 255, 255, 0); padding: 2px 4px; margin: 2px; text-decoration: none;\">field</span> <span style=\"background-color: rgba(255, 255, 255, 0); padding: 2px 4px; margin: 2px; text-decoration: none;\">where</span> <span style=\"background-color: rgba(255, 255, 255, 0); padding: 2px 4px; margin: 2px; text-decoration: none;\">to</span> <span style=\"background-color: rgba(255, 255, 255, 0); padding: 2px 4px; margin: 2px; text-decoration: none;\">ile</span> <span style=\"background-color: rgba(255, 255, 255, 0); padding: 2px 4px; margin: 2px; text-decoration: none;\">\n",
       "</span> <span style=\"background-color: rgba(255, 255, 255, 0); padding: 2px 4px; margin: 2px; text-decoration: none;\">det</span> <span style=\"background-color: rgba(255, 255, 255, 0); padding: 2px 4px; margin: 2px; text-decoration: none;\">contr</span> <span style=\"background-color: rgba(255, 255, 255, 0); padding: 2px 4px; margin: 2px; text-decoration: none;\">as</span> <span style=\"background-color: rgba(255, 255, 255, 0); padding: 2px 4px; margin: 2px; text-decoration: none;\">workplace</span> <span style=\"background-color: rgba(255, 255, 255, 0); padding: 2px 4px; margin: 2px; text-decoration: none;\">PD</span> <span style=\"background-color: rgba(255, 255, 255, 0); padding: 2px 4px; margin: 2px; text-decoration: none;\">G</span> <span style=\"background-color: rgba(255, 255, 255, 0); padding: 2px 4px; margin: 2px; text-decoration: none;\">only</span> <span style=\"background-color: rgba(255, 255, 255, 0); padding: 2px 4px; margin: 2px; text-decoration: none;\">classes</span> <span style=\"background-color: rgba(255, 255, 255, 0); padding: 2px 4px; margin: 2px; text-decoration: none;\">miss</span> <span style=\"background-color: rgba(255, 255, 255, 0); padding: 2px 4px; margin: 2px; text-decoration: none;\">urs</span> <span style=\"background-color: rgba(255, 255, 255, 0); padding: 2px 4px; margin: 2px; text-decoration: none;\">id</span> <span style=\"background-color: rgba(255, 255, 255, 0); padding: 2px 4px; margin: 2px; text-decoration: none;\">for</span> <span style=\"background-color: rgba(255, 255, 255, 0); padding: 2px 4px; margin: 2px; text-decoration: none;\">is</span> <span style=\"background-color: rgba(255, 255, 255, 0); padding: 2px 4px; margin: 2px; text-decoration: none;\">thing</span> <span style=\"background-color: rgba(255, 255, 255, 0); padding: 2px 4px; margin: 2px; text-decoration: none;\">android</span> <span style=\"background-color: rgba(255, 255, 255, 0); padding: 2px 4px; margin: 2px; text-decoration: none;\">shown</span> <span style=\"background-color: rgba(255, 255, 255, 0); padding: 2px 4px; margin: 2px; text-decoration: none;\">,</span> <span style=\"background-color: rgba(255, 255, 255, 0); padding: 2px 4px; margin: 2px; text-decoration: none;\">first</span> <span style=\"background-color: rgba(255, 255, 255, 0); padding: 2px 4px; margin: 2px; text-decoration: none;\">ists</span> <span style=\"background-color: rgba(255, 255, 255, 0); padding: 2px 4px; margin: 2px; text-decoration: none;\">said</span> <span style=\"background-color: rgba(255, 255, 255, 0); padding: 2px 4px; margin: 2px; text-decoration: none;\">had</span> <span style=\"background-color: rgba(255, 255, 255, 0); padding: 2px 4px; margin: 2px; text-decoration: none;\">to</span> <span style=\"background-color: rgba(255, 255, 255, 0); padding: 2px 4px; margin: 2px; text-decoration: none;\">people</span> <span style=\"background-color: rgba(255, 255, 255, 0); padding: 2px 4px; margin: 2px; text-decoration: none;\">the</span> <span style=\"background-color: rgba(255, 255, 255, 0); padding: 2px 4px; margin: 2px; text-decoration: none;\">0</span> <span style=\"background-color: rgba(255, 255, 255, 0); padding: 2px 4px; margin: 2px; text-decoration: none;\">dat</span> <span style=\"background-color: rgba(255, 255, 255, 0); padding: 2px 4px; margin: 2px; text-decoration: none;\">\n",
       "</span> <span style=\"background-color: rgba(255, 255, 255, 0); padding: 2px 4px; margin: 2px; text-decoration: none;\">but</span> <span style=\"background-color: rgba(255, 255, 255, 0); padding: 2px 4px; margin: 2px; text-decoration: none;\">was</span> <span style=\"background-color: rgba(255, 255, 255, 0); padding: 2px 4px; margin: 2px; text-decoration: none;\">IN</span> <span style=\"background-color: rgba(255, 255, 255, 0); padding: 2px 4px; margin: 2px; text-decoration: none;\">,</span> <span style=\"background-color: rgba(255, 255, 255, 0); padding: 2px 4px; margin: 2px; text-decoration: none;\">ling</span> <span style=\"background-color: rgba(255, 255, 255, 0); padding: 2px 4px; margin: 2px; text-decoration: none;\">(\\</span> <span style=\"background-color: rgba(255, 255, 255, 0); padding: 2px 4px; margin: 2px; text-decoration: none;\">is</span> <span style=\"background-color: rgba(255, 255, 255, 0); padding: 2px 4px; margin: 2px; text-decoration: none;\">computer</span> <span style=\"background-color: rgba(255, 255, 255, 0); padding: 2px 4px; margin: 2px; text-decoration: none;\">=\"</span> <span style=\"background-color: rgba(255, 255, 255, 0); padding: 2px 4px; margin: 2px; text-decoration: none;\">up</span> <span style=\"background-color: rgba(255, 255, 255, 0); padding: 2px 4px; margin: 2px; text-decoration: none;\">ight</span> <span style=\"background-color: rgba(255, 255, 255, 0); padding: 2px 4px; margin: 2px; text-decoration: none;\">had</span> <span style=\"background-color: rgba(255, 255, 255, 0); padding: 2px 4px; margin: 2px; text-decoration: none;\">division</span> <span style=\"background-color: rgba(255, 255, 255, 0); padding: 2px 4px; margin: 2px; text-decoration: none;\">In</span> <span style=\"background-color: rgba(255, 255, 255, 0); padding: 2px 4px; margin: 2px; text-decoration: none;\">probe</span> <span style=\"background-color: rgba(255, 255, 255, 0); padding: 2px 4px; margin: 2px; text-decoration: none;\">Prince</span> <span style=\"background-color: rgba(255, 255, 255, 0); padding: 2px 4px; margin: 2px; text-decoration: none;\">bath</span> <span style=\"background-color: rgba(255, 255, 255, 0); padding: 2px 4px; margin: 2px; text-decoration: none;\">my</span> <span style=\"background-color: rgba(255, 255, 255, 0); padding: 2px 4px; margin: 2px; text-decoration: none;\">.</span> <span style=\"background-color: rgba(255, 255, 255, 0); padding: 2px 4px; margin: 2px; text-decoration: none;\">loss</span> <span style=\"background-color: rgba(255, 255, 255, 0); padding: 2px 4px; margin: 2px; text-decoration: none;\">quantum</span> <span style=\"background-color: rgba(255, 255, 255, 0); padding: 2px 4px; margin: 2px; text-decoration: none;\"></span> <span style=\"background-color: rgba(255, 255, 255, 0); padding: 2px 4px; margin: 2px; text-decoration: none;\">check</span> <span style=\"background-color: rgba(255, 255, 255, 0); padding: 2px 4px; margin: 2px; text-decoration: none;\">version</span> <span style=\"background-color: rgba(255, 255, 255, 0); padding: 2px 4px; margin: 2px; text-decoration: none;\">months</span> <span style=\"background-color: rgba(255, 255, 255, 0); padding: 2px 4px; margin: 2px; text-decoration: none;\">as</span> <span style=\"background-color: rgba(255, 255, 255, 0); padding: 2px 4px; margin: 2px; text-decoration: none;\">Occ</span> <span style=\"background-color: rgba(255, 255, 255, 0); padding: 2px 4px; margin: 2px; text-decoration: none;\">their</span> <span style=\"background-color: rgba(255, 255, 255, 0); padding: 2px 4px; margin: 2px; text-decoration: none;\">L</span> <span style=\"background-color: rgba(255, 255, 255, 0); padding: 2px 4px; margin: 2px; text-decoration: none;\">and</span> <span style=\"background-color: rgba(255, 255, 255, 0); padding: 2px 4px; margin: 2px; text-decoration: none;\">responsible</span> <span style=\"background-color: rgba(255, 255, 255, 0); padding: 2px 4px; margin: 2px; text-decoration: none;\">this</span> <span style=\"background-color: rgba(255, 255, 255, 0); padding: 2px 4px; margin: 2px; text-decoration: none;\">=\"</span> <span style=\"background-color: rgba(255, 255, 255, 0); padding: 2px 4px; margin: 2px; text-decoration: none;\">.</span> <span style=\"background-color: rgba(255, 255, 255, 0); padding: 2px 4px; margin: 2px; text-decoration: none;\">,</span> <span style=\"background-color: rgba(255, 255, 255, 0); padding: 2px 4px; margin: 2px; text-decoration: none;\">structure</span> <span style=\"background-color: rgba(255, 255, 255, 0); padding: 2px 4px; margin: 2px; text-decoration: none;\">&lt;s&gt;</span> <span style=\"background-color: rgba(255, 255, 255, 0); padding: 2px 4px; margin: 2px; text-decoration: none;\">not</span> <span style=\"background-color: rgba(255, 255, 255, 0); padding: 2px 4px; margin: 2px; text-decoration: none;\">SQL</span> <span style=\"background-color: rgba(255, 255, 255, 0); padding: 2px 4px; margin: 2px; text-decoration: none;\">HS</span> <span style=\"background-color: rgba(255, 255, 255, 0); padding: 2px 4px; margin: 2px; text-decoration: none;\">action</span> <span style=\"background-color: rgba(255, 255, 255, 0); padding: 2px 4px; margin: 2px; text-decoration: none;\">.</span> <span style=\"background-color: rgba(255, 255, 255, 0); padding: 2px 4px; margin: 2px; text-decoration: none;\">τ</span> <span style=\"background-color: rgba(255, 255, 255, 0); padding: 2px 4px; margin: 2px; text-decoration: none;\">features</span> <span style=\"background-color: rgba(255, 255, 255, 0); padding: 2px 4px; margin: 2px; text-decoration: none;\">auto</span> <span style=\"background-color: rgba(255, 255, 255, 0); padding: 2px 4px; margin: 2px; text-decoration: none;\">Object</span> <span style=\"background-color: rgba(255, 255, 255, 0); padding: 2px 4px; margin: 2px; text-decoration: none;\">push</span> <span style=\"background-color: rgba(255, 255, 255, 0); padding: 2px 4px; margin: 2px; text-decoration: none;\">:</span> <span style=\"background-color: rgba(255, 255, 255, 0); padding: 2px 4px; margin: 2px; text-decoration: none;\">theoret</span> <span style=\"background-color: rgba(255, 255, 255, 0); padding: 2px 4px; margin: 2px; text-decoration: none;\">and</span> <span style=\"background-color: rgba(255, 255, 255, 0); padding: 2px 4px; margin: 2px; text-decoration: none;\">of</span> <span style=\"background-color: rgba(255, 255, 255, 0); padding: 2px 4px; margin: 2px; text-decoration: none;\">mistakes</span> <span style=\"background-color: rgba(255, 255, 255, 0); padding: 2px 4px; margin: 2px; text-decoration: none;\">you</span> <span style=\"background-color: rgba(255, 255, 255, 0); padding: 2px 4px; margin: 2px; text-decoration: none;\">petition</span> <span style=\"background-color: rgba(255, 255, 255, 0); padding: 2px 4px; margin: 2px; text-decoration: none;\">carefully</span> <span style=\"background-color: rgba(255, 255, 255, 0); padding: 2px 4px; margin: 2px; text-decoration: none;\">\n",
       "</span> <span style=\"background-color: rgba(255, 255, 255, 0); padding: 2px 4px; margin: 2px; text-decoration: none;\">Don</span> <span style=\"background-color: rgba(255, 255, 255, 0); padding: 2px 4px; margin: 2px; text-decoration: none;\">your</span> <span style=\"background-color: rgba(255, 255, 255, 0); padding: 2px 4px; margin: 2px; text-decoration: none;\">some</span> <span style=\"background-color: rgba(255, 255, 255, 0); padding: 2px 4px; margin: 2px; text-decoration: none;\">em</span> <span style=\"background-color: rgba(255, 255, 255, 0); padding: 2px 4px; margin: 2px; text-decoration: none;\">=\"</span> <span style=\"background-color: rgba(255, 255, 255, 0); padding: 2px 4px; margin: 2px; text-decoration: none;\">and</span> <span style=\"background-color: rgba(255, 255, 255, 0); padding: 2px 4px; margin: 2px; text-decoration: none;\">ing</span> <span style=\"background-color: rgba(255, 255, 255, 0); padding: 2px 4px; margin: 2px; text-decoration: none;\">FROM</span> <span style=\"background-color: rgba(255, 255, 255, 0); padding: 2px 4px; margin: 2px; text-decoration: none;\">lost</span> <span style=\"background-color: rgba(255, 255, 255, 0); padding: 2px 4px; margin: 2px; text-decoration: none;\">-</span> <span style=\"background-color: rgba(255, 255, 255, 0); padding: 2px 4px; margin: 2px; text-decoration: none;\">to</span> <span style=\"background-color: rgba(255, 255, 255, 0); padding: 2px 4px; margin: 2px; text-decoration: none;\">do</span> <span style=\"background-color: rgba(255, 255, 255, 0); padding: 2px 4px; margin: 2px; text-decoration: none;\">blue</span> <span style=\"background-color: rgba(255, 255, 255, 0); padding: 2px 4px; margin: 2px; text-decoration: none;\">whether</span> <span style=\"background-color: rgba(255, 255, 255, 0); padding: 2px 4px; margin: 2px; text-decoration: none;\">on</span> <span style=\"background-color: rgba(255, 255, 255, 0); padding: 2px 4px; margin: 2px; text-decoration: none;\"></span> <span style=\"background-color: rgba(255, 255, 255, 0); padding: 2px 4px; margin: 2px; text-decoration: none;\">LAN</span> <span style=\"background-color: rgba(255, 255, 255, 0); padding: 2px 4px; margin: 2px; text-decoration: none;\">and</span> <span style=\"background-color: rgba(255, 255, 255, 0); padding: 2px 4px; margin: 2px; text-decoration: none;\">year</span> <span style=\"background-color: rgba(255, 255, 255, 0); padding: 2px 4px; margin: 2px; text-decoration: none;\">\n",
       "</span> <span style=\"background-color: rgba(255, 255, 255, 0); padding: 2px 4px; margin: 2px; text-decoration: none;\">is</span> <span style=\"background-color: rgba(255, 255, 255, 0); padding: 2px 4px; margin: 2px; text-decoration: none;\">\n",
       "</span> <span style=\"background-color: rgba(255, 255, 255, 0); padding: 2px 4px; margin: 2px; text-decoration: none;\">it</span> <span style=\"background-color: rgba(255, 255, 255, 0); padding: 2px 4px; margin: 2px; text-decoration: none;\">Occ</span> <span style=\"background-color: rgba(255, 255, 255, 0); padding: 2px 4px; margin: 2px; text-decoration: none;\">of</span> <span style=\"background-color: rgba(255, 255, 255, 0); padding: 2px 4px; margin: 2px; text-decoration: none;\">A</span> <span style=\"background-color: rgba(255, 255, 255, 0); padding: 2px 4px; margin: 2px; text-decoration: none;\">          </span> <span style=\"background-color: rgba(255, 255, 255, 0); padding: 2px 4px; margin: 2px; text-decoration: none;\">learning</span> <span style=\"background-color: rgba(255, 255, 255, 0); padding: 2px 4px; margin: 2px; text-decoration: none;\">unless</span> <span style=\"background-color: rgba(255, 255, 255, 0); padding: 2px 4px; margin: 2px; text-decoration: none;\">color</span> <span style=\"background-color: rgba(255, 255, 255, 0); padding: 2px 4px; margin: 2px; text-decoration: none;\">either</span> <span style=\"background-color: rgba(255, 255, 255, 0); padding: 2px 4px; margin: 2px; text-decoration: none;\">.</span> <span style=\"background-color: rgba(255, 255, 255, 0); padding: 2px 4px; margin: 2px; text-decoration: none;\">f</span> <span style=\"background-color: rgba(255, 255, 255, 0); padding: 2px 4px; margin: 2px; text-decoration: none;\">“</span> <span style=\"background-color: rgba(255, 255, 255, 0); padding: 2px 4px; margin: 2px; text-decoration: none;\">In</span> <span style=\"background-color: rgba(255, 255, 255, 0); padding: 2px 4px; margin: 2px; text-decoration: none;\">For</span> <span style=\"background-color: rgba(255, 255, 255, 0); padding: 2px 4px; margin: 2px; text-decoration: none;\">Start</span> <span style=\"background-color: rgba(255, 255, 255, 0); padding: 2px 4px; margin: 2px; text-decoration: none;\">ual</span> <span style=\"background-color: rgba(255, 255, 255, 0); padding: 2px 4px; margin: 2px; text-decoration: none;\">avity</span> <span style=\"background-color: rgba(255, 255, 255, 0); padding: 2px 4px; margin: 2px; text-decoration: none;\">ay</span> <span style=\"background-color: rgba(255, 255, 255, 0); padding: 2px 4px; margin: 2px; text-decoration: none;\">to</span> <span style=\"background-color: rgba(255, 255, 255, 0); padding: 2px 4px; margin: 2px; text-decoration: none;\">content</span> <span style=\"background-color: rgba(255, 255, 255, 0); padding: 2px 4px; margin: 2px; text-decoration: none;\">mode</span> <span style=\"background-color: rgba(255, 255, 255, 0); padding: 2px 4px; margin: 2px; text-decoration: none;\">There</span> <span style=\"background-color: rgba(255, 255, 255, 0); padding: 2px 4px; margin: 2px; text-decoration: none;\">a</span> <span style=\"background-color: rgba(255, 255, 255, 0); padding: 2px 4px; margin: 2px; text-decoration: none;\">,</span> <span style=\"background-color: rgba(255, 255, 255, 0); padding: 2px 4px; margin: 2px; text-decoration: none;\">required</span> <span style=\"background-color: rgba(255, 255, 255, 0); padding: 2px 4px; margin: 2px; text-decoration: none;\">state</span> <span style=\"background-color: rgba(255, 255, 255, 0); padding: 2px 4px; margin: 2px; text-decoration: none;\">states</span> <span style=\"background-color: rgba(255, 255, 255, 0); padding: 2px 4px; margin: 2px; text-decoration: none;\">distinct</span> <span style=\"background-color: rgba(255, 255, 255, 0); padding: 2px 4px; margin: 2px; text-decoration: none;\">ung</span> <span style=\"background-color: rgba(255, 255, 255, 0); padding: 2px 4px; margin: 2px; text-decoration: none;\">Gr</span> <span style=\"background-color: rgba(255, 255, 255, 0); padding: 2px 4px; margin: 2px; text-decoration: none;\">not</span> <span style=\"background-color: rgba(255, 255, 255, 0); padding: 2px 4px; margin: 2px; text-decoration: none;\">s</span> <span style=\"background-color: rgba(255, 255, 255, 0); padding: 2px 4px; margin: 2px; text-decoration: none;\">in</span> <span style=\"background-color: rgba(255, 255, 255, 0); padding: 2px 4px; margin: 2px; text-decoration: none;\">_</span> <span style=\"background-color: rgba(255, 255, 255, 0); padding: 2px 4px; margin: 2px; text-decoration: none;\">Fac</span> <span style=\"background-color: rgba(255, 255, 255, 0); padding: 2px 4px; margin: 2px; text-decoration: none;\">calls</span> <span style=\"background-color: rgba(255, 255, 255, 0); padding: 2px 4px; margin: 2px; text-decoration: none;\">no</span> <span style=\"background-color: rgba(255, 255, 255, 0); padding: 2px 4px; margin: 2px; text-decoration: none;\">ional</span> <span style=\"background-color: rgba(255, 255, 255, 0); padding: 2px 4px; margin: 2px; text-decoration: none;\">this</span> <span style=\"background-color: rgba(255, 255, 255, 0); padding: 2px 4px; margin: 2px; text-decoration: none;\">-</span> <span style=\"background-color: rgba(255, 255, 255, 0); padding: 2px 4px; margin: 2px; text-decoration: none;\">RO</span> <span style=\"background-color: rgba(255, 255, 255, 0); padding: 2px 4px; margin: 2px; text-decoration: none;\">In</span> <span style=\"background-color: rgba(255, 255, 255, 0); padding: 2px 4px; margin: 2px; text-decoration: none;\">ives</span> <span style=\"background-color: rgba(255, 255, 255, 0); padding: 2px 4px; margin: 2px; text-decoration: none;\">(</span> <span style=\"background-color: rgba(255, 255, 255, 0); padding: 2px 4px; margin: 2px; text-decoration: none;\">stru</span> <span style=\"background-color: rgba(255, 255, 255, 0); padding: 2px 4px; margin: 2px; text-decoration: none;\"></span> <span style=\"background-color: rgba(255, 255, 255, 0); padding: 2px 4px; margin: 2px; text-decoration: none;\"></span> <span style=\"background-color: rgba(255, 255, 255, 0); padding: 2px 4px; margin: 2px; text-decoration: none;\">infty</span> <span style=\"background-color: rgba(255, 255, 255, 0); padding: 2px 4px; margin: 2px; text-decoration: none;\">ite</span> <span style=\"background-color: rgba(255, 255, 255, 0); padding: 2px 4px; margin: 2px; text-decoration: none;\">th</span> <span style=\"background-color: rgba(255, 255, 255, 0); padding: 2px 4px; margin: 2px; text-decoration: none;\">          </span> <span style=\"background-color: rgba(255, 255, 255, 0); padding: 2px 4px; margin: 2px; text-decoration: none;\">s</span> <span style=\"background-color: rgba(255, 255, 255, 0); padding: 2px 4px; margin: 2px; text-decoration: none;\">male</span> <span style=\"background-color: rgba(255, 255, 255, 0); padding: 2px 4px; margin: 2px; text-decoration: none;\">lambda</span> <span style=\"background-color: rgba(255, 255, 255, 0); padding: 2px 4px; margin: 2px; text-decoration: none;\">recognition</span> <span style=\"background-color: rgba(255, 255, 255, 0); padding: 2px 4px; margin: 2px; text-decoration: none;\">M</span> <span style=\"background-color: rgba(255, 255, 255, 0); padding: 2px 4px; margin: 2px; text-decoration: none;\">g</span> <span style=\"background-color: rgba(255, 255, 255, 0); padding: 2px 4px; margin: 2px; text-decoration: none;\">-</span> <span style=\"background-color: rgba(255, 255, 255, 0); padding: 2px 4px; margin: 2px; text-decoration: none;\">to</span> <span style=\"background-color: rgba(255, 255, 255, 0); padding: 2px 4px; margin: 2px; text-decoration: none;\">I</span> <span style=\"background-color: rgba(255, 255, 255, 0); padding: 2px 4px; margin: 2px; text-decoration: none;\">ment</span> <span style=\"background-color: rgba(255, 255, 255, 0); padding: 2px 4px; margin: 2px; text-decoration: none;\">\n",
       "</span> <span style=\"background-color: rgba(255, 255, 255, 0); padding: 2px 4px; margin: 2px; text-decoration: none;\">big</span> <span style=\"background-color: rgba(255, 255, 255, 0); padding: 2px 4px; margin: 2px; text-decoration: none;\">dependence</span> <span style=\"background-color: rgba(255, 255, 255, 0); padding: 2px 4px; margin: 2px; text-decoration: none;\">to</span> <span style=\"background-color: rgba(255, 255, 255, 0); padding: 2px 4px; margin: 2px; text-decoration: none;\">for</span> <span style=\"background-color: rgba(255, 255, 255, 0); padding: 2px 4px; margin: 2px; text-decoration: none;\">least</span> <span style=\"background-color: rgba(255, 255, 255, 0); padding: 2px 4px; margin: 2px; text-decoration: none;\">THE</span> <span style=\"background-color: rgba(255, 255, 255, 0); padding: 2px 4px; margin: 2px; text-decoration: none;\">ability</span> <span style=\"background-color: rgba(255, 255, 255, 0); padding: 2px 4px; margin: 2px; text-decoration: none;\">-</span> <span style=\"background-color: rgba(255, 255, 255, 0); padding: 2px 4px; margin: 2px; text-decoration: none;\">ouse</span> <span style=\"background-color: rgba(255, 255, 255, 0); padding: 2px 4px; margin: 2px; text-decoration: none;\">with</span> <span style=\"background-color: rgba(255, 255, 255, 0); padding: 2px 4px; margin: 2px; text-decoration: none;\">ip</span> <span style=\"background-color: rgba(255, 255, 255, 0); padding: 2px 4px; margin: 2px; text-decoration: none;\">st</span> <span style=\"background-color: rgba(255, 255, 255, 0); padding: 2px 4px; margin: 2px; text-decoration: none;\">THE</span> <span style=\"background-color: rgba(255, 255, 255, 0); padding: 2px 4px; margin: 2px; text-decoration: none;\">I</span> <span style=\"background-color: rgba(255, 255, 255, 0); padding: 2px 4px; margin: 2px; text-decoration: none;\">P</span> <span style=\"background-color: rgba(255, 255, 255, 0); padding: 2px 4px; margin: 2px; text-decoration: none;\">b</span> <span style=\"background-color: rgba(255, 255, 255, 0); padding: 2px 4px; margin: 2px; text-decoration: none;\">o</span> <span style=\"background-color: rgba(255, 255, 255, 0); padding: 2px 4px; margin: 2px; text-decoration: none;\">Introduction</span> <span style=\"background-color: rgba(255, 255, 255, 0); padding: 2px 4px; margin: 2px; text-decoration: none;\">&lt;</span> <span style=\"background-color: rgba(255, 255, 255, 0); padding: 2px 4px; margin: 2px; text-decoration: none;\">\n",
       "</span> <span style=\"background-color: rgba(255, 255, 255, 0); padding: 2px 4px; margin: 2px; text-decoration: none;\">was</span> <span style=\"background-color: rgba(255, 255, 255, 0); padding: 2px 4px; margin: 2px; text-decoration: none;\">the</span> <span style=\"background-color: rgba(255, 255, 255, 0); padding: 2px 4px; margin: 2px; text-decoration: none;\">\n",
       "</span> <span style=\"background-color: rgba(255, 255, 255, 0); padding: 2px 4px; margin: 2px; text-decoration: none;\">&gt;</span> <span style=\"background-color: rgba(255, 255, 255, 0); padding: 2px 4px; margin: 2px; text-decoration: none;\">preparing</span> <span style=\"background-color: rgba(255, 255, 255, 0); padding: 2px 4px; margin: 2px; text-decoration: none;\">would</span> <span style=\"background-color: rgba(255, 255, 255, 0); padding: 2px 4px; margin: 2px; text-decoration: none;\">was</span> <span style=\"background-color: rgba(255, 255, 255, 0); padding: 2px 4px; margin: 2px; text-decoration: none;\">different</span> <span style=\"background-color: rgba(255, 255, 255, 0); padding: 2px 4px; margin: 2px; text-decoration: none;\">EM</span> <span style=\"background-color: rgba(255, 255, 255, 0); padding: 2px 4px; margin: 2px; text-decoration: none;\">way</span> <span style=\"background-color: rgba(255, 255, 255, 0); padding: 2px 4px; margin: 2px; text-decoration: none;\">as</span> <span style=\"background-color: rgba(255, 255, 255, 0); padding: 2px 4px; margin: 2px; text-decoration: none;\">layout</span> <span style=\"background-color: rgba(255, 255, 255, 0); padding: 2px 4px; margin: 2px; text-decoration: none;\">r</span> <span style=\"background-color: rgba(255, 255, 255, 0); padding: 2px 4px; margin: 2px; text-decoration: none;\">OO</span> <span style=\"background-color: rgba(255, 255, 255, 0); padding: 2px 4px; margin: 2px; text-decoration: none;\">–</span> <span style=\"background-color: rgba(255, 255, 255, 0); padding: 2px 4px; margin: 2px; text-decoration: none;\">X</span> <span style=\"background-color: rgba(255, 255, 255, 0); padding: 2px 4px; margin: 2px; text-decoration: none;\">think</span> <span style=\"background-color: rgba(255, 255, 255, 0); padding: 2px 4px; margin: 2px; text-decoration: none;\">anything</span> <span style=\"background-color: rgba(255, 255, 255, 0); padding: 2px 4px; margin: 2px; text-decoration: none;\">failure</span> <span style=\"background-color: rgba(255, 255, 255, 0); padding: 2px 4px; margin: 2px; text-decoration: none;\">but</span> <span style=\"background-color: rgba(255, 255, 255, 0); padding: 2px 4px; margin: 2px; text-decoration: none;\">reveal</span> <span style=\"background-color: rgba(255, 255, 255, 0); padding: 2px 4px; margin: 2px; text-decoration: none;\">yet</span> <span style=\"background-color: rgba(255, 255, 255, 0); padding: 2px 4px; margin: 2px; text-decoration: none;\">a</span> <span style=\"background-color: rgba(255, 255, 255, 0); padding: 2px 4px; margin: 2px; text-decoration: none;\">description</span> <span style=\"background-color: rgba(255, 255, 255, 0); padding: 2px 4px; margin: 2px; text-decoration: none;\">application</span> <span style=\"background-color: rgba(255, 255, 255, 0); padding: 2px 4px; margin: 2px; text-decoration: none;\">formally</span> <span style=\"background-color: rgba(255, 255, 255, 0); padding: 2px 4px; margin: 2px; text-decoration: none;\">has</span> <span style=\"background-color: rgba(255, 255, 255, 0); padding: 2px 4px; margin: 2px; text-decoration: none;\">quantum</span> <span style=\"background-color: rgba(255, 255, 255, 0); padding: 2px 4px; margin: 2px; text-decoration: none;\">ed</span> <span style=\"background-color: rgba(255, 255, 255, 0); padding: 2px 4px; margin: 2px; text-decoration: none;\">and</span> <span style=\"background-color: rgba(255, 255, 255, 0); padding: 2px 4px; margin: 2px; text-decoration: none;\">an</span> <span style=\"background-color: rgba(255, 255, 255, 0); padding: 2px 4px; margin: 2px; text-decoration: none;\">came</span> <span style=\"background-color: rgba(255, 255, 255, 0); padding: 2px 4px; margin: 2px; text-decoration: none;\">ago</span> <span style=\"background-color: rgba(255, 255, 255, 0); padding: 2px 4px; margin: 2px; text-decoration: none;\">center</span> <span style=\"background-color: rgba(255, 255, 255, 0); padding: 2px 4px; margin: 2px; text-decoration: none;\">was</span> <span style=\"background-color: rgba(255, 255, 255, 0); padding: 2px 4px; margin: 2px; text-decoration: none;\">I</span> <span style=\"background-color: rgba(255, 255, 255, 0); padding: 2px 4px; margin: 2px; text-decoration: none;\">a</span> <span style=\"background-color: rgba(255, 255, 255, 0); padding: 2px 4px; margin: 2px; text-decoration: none;\">rather</span> <span style=\"background-color: rgba(255, 255, 255, 0); padding: 2px 4px; margin: 2px; text-decoration: none;\">,</span> <span style=\"background-color: rgba(255, 255, 255, 0); padding: 2px 4px; margin: 2px; text-decoration: none;\">and</span> <span style=\"background-color: rgba(255, 255, 255, 0); padding: 2px 4px; margin: 2px; text-decoration: none;\">ational</span> <span style=\"background-color: rgba(255, 255, 255, 0); padding: 2px 4px; margin: 2px; text-decoration: none;\">a</span> <span style=\"background-color: rgba(255, 255, 255, 0); padding: 2px 4px; margin: 2px; text-decoration: none;\">limit</span> <span style=\"background-color: rgba(255, 255, 255, 0); padding: 2px 4px; margin: 2px; text-decoration: none;\">appy</span> <span style=\"background-color: rgba(255, 255, 255, 0); padding: 2px 4px; margin: 2px; text-decoration: none;\">The</span> <span style=\"background-color: rgba(255, 255, 255, 0); padding: 2px 4px; margin: 2px; text-decoration: none;\">That</span> <span style=\"background-color: rgba(255, 255, 255, 0); padding: 2px 4px; margin: 2px; text-decoration: none;\">in</span> <span style=\"background-color: rgba(255, 255, 255, 0); padding: 2px 4px; margin: 2px; text-decoration: none;\">are</span> <span style=\"background-color: rgba(255, 255, 255, 0); padding: 2px 4px; margin: 2px; text-decoration: none;\">ual</span> <span style=\"background-color: rgba(255, 255, 255, 0); padding: 2px 4px; margin: 2px; text-decoration: none;\">coming</span> <span style=\"background-color: rgba(255, 255, 255, 0); padding: 2px 4px; margin: 2px; text-decoration: none;\">be</span> <span style=\"background-color: rgba(255, 255, 255, 0); padding: 2px 4px; margin: 2px; text-decoration: none;\">u</span> <span style=\"background-color: rgba(255, 255, 255, 0); padding: 2px 4px; margin: 2px; text-decoration: none;\">\n",
       "</span> <span style=\"background-color: rgba(255, 255, 255, 0); padding: 2px 4px; margin: 2px; text-decoration: none;\">Q</span> <span style=\"background-color: rgba(255, 255, 255, 0); padding: 2px 4px; margin: 2px; text-decoration: none;\">helped</span> <span style=\"background-color: rgba(255, 255, 255, 0); padding: 2px 4px; margin: 2px; text-decoration: none;\">\n",
       "</span> <span style=\"background-color: rgba(255, 255, 255, 0); padding: 2px 4px; margin: 2px; text-decoration: none;\">.</span> <span style=\"background-color: rgba(255, 255, 255, 0); padding: 2px 4px; margin: 2px; text-decoration: none;\">was</span> <span style=\"background-color: rgba(255, 255, 255, 0); padding: 2px 4px; margin: 2px; text-decoration: none;\">\n",
       "</span> <span style=\"background-color: rgba(255, 255, 255, 0); padding: 2px 4px; margin: 2px; text-decoration: none;\">‘</span> <span style=\"background-color: rgba(255, 255, 255, 0); padding: 2px 4px; margin: 2px; text-decoration: none;\">fa</span> <span style=\"background-color: rgba(255, 255, 255, 0); padding: 2px 4px; margin: 2px; text-decoration: none;\">description</span> <span style=\"background-color: rgba(255, 255, 255, 0); padding: 2px 4px; margin: 2px; text-decoration: none;\">ons</span> <span style=\"background-color: rgba(255, 255, 255, 0); padding: 2px 4px; margin: 2px; text-decoration: none;\">with</span> <span style=\"background-color: rgba(255, 255, 255, 0); padding: 2px 4px; margin: 2px; text-decoration: none;\">the</span> <span style=\"background-color: rgba(255, 255, 255, 0); padding: 2px 4px; margin: 2px; text-decoration: none;\">anc</span> <span style=\"background-color: rgba(255, 255, 255, 0); padding: 2px 4px; margin: 2px; text-decoration: none;\">now</span> <span style=\"background-color: rgba(255, 255, 255, 0); padding: 2px 4px; margin: 2px; text-decoration: none;\">rose</span> <span style=\"background-color: rgba(255, 255, 255, 0); padding: 2px 4px; margin: 2px; text-decoration: none;\">Color</span> <span style=\"background-color: rgba(255, 255, 255, 0); padding: 2px 4px; margin: 2px; text-decoration: none;\">ivalent</span> <span style=\"background-color: rgba(255, 255, 255, 0); padding: 2px 4px; margin: 2px; text-decoration: none;\">that</span> <span style=\"background-color: rgba(255, 255, 255, 0); padding: 2px 4px; margin: 2px; text-decoration: none;\">changes</span> <span style=\"background-color: rgba(255, 255, 255, 0); padding: 2px 4px; margin: 2px; text-decoration: none;\">.</span> <span style=\"background-color: rgba(255, 255, 255, 0); padding: 2px 4px; margin: 2px; text-decoration: none;\">conqu</span> <span style=\"background-color: rgba(255, 255, 255, 0); padding: 2px 4px; margin: 2px; text-decoration: none;\">TP</span> <span style=\"background-color: rgba(255, 255, 255, 0); padding: 2px 4px; margin: 2px; text-decoration: none;\">,</span> <span style=\"background-color: rgba(255, 255, 255, 0); padding: 2px 4px; margin: 2px; text-decoration: none;\">:</span> <span style=\"background-color: rgba(255, 255, 255, 0); padding: 2px 4px; margin: 2px; text-decoration: none;\">pain</span> <span style=\"background-color: rgba(255, 255, 255, 0); padding: 2px 4px; margin: 2px; text-decoration: none;\">until</span> <span style=\"background-color: rgba(255, 255, 255, 0); padding: 2px 4px; margin: 2px; text-decoration: none;\">F</span> <span style=\"background-color: rgba(255, 255, 255, 0); padding: 2px 4px; margin: 2px; text-decoration: none;\">pass</span> <span style=\"background-color: rgba(255, 255, 255, 0); padding: 2px 4px; margin: 2px; text-decoration: none;\">Blog</span> <span style=\"background-color: rgba(255, 255, 255, 0); padding: 2px 4px; margin: 2px; text-decoration: none;\">differences</span> <span style=\"background-color: rgba(255, 255, 255, 0); padding: 2px 4px; margin: 2px; text-decoration: none;\">coverage</span> <span style=\"background-color: rgba(255, 255, 255, 0); padding: 2px 4px; margin: 2px; text-decoration: none;\">go</span> <span style=\"background-color: rgba(255, 255, 255, 0); padding: 2px 4px; margin: 2px; text-decoration: none;\">&gt;\r",
       "</span> <span style=\"background-color: rgba(255, 255, 255, 0); padding: 2px 4px; margin: 2px; text-decoration: none;\">of</span> <span style=\"background-color: rgba(255, 255, 255, 0); padding: 2px 4px; margin: 2px; text-decoration: none;\">sp</span> <span style=\"background-color: rgba(255, 255, 255, 0); padding: 2px 4px; margin: 2px; text-decoration: none;\">the</span> <span style=\"background-color: rgba(255, 255, 255, 0); padding: 2px 4px; margin: 2px; text-decoration: none;\">,</span> <span style=\"background-color: rgba(255, 255, 255, 0); padding: 2px 4px; margin: 2px; text-decoration: none;\">:</span> <span style=\"background-color: rgba(255, 255, 255, 0); padding: 2px 4px; margin: 2px; text-decoration: none;\">s</span> <span style=\"background-color: rgba(255, 255, 255, 0); padding: 2px 4px; margin: 2px; text-decoration: none;\">that</span> <span style=\"background-color: rgba(255, 255, 255, 0); padding: 2px 4px; margin: 2px; text-decoration: none;\">dat</span> <span style=\"background-color: rgba(255, 255, 255, 0); padding: 2px 4px; margin: 2px; text-decoration: none;\">A</span> <span style=\"background-color: rgba(255, 255, 255, 0); padding: 2px 4px; margin: 2px; text-decoration: none;\">ST</span> <span style=\"background-color: rgba(255, 255, 255, 0); padding: 2px 4px; margin: 2px; text-decoration: none;\">the</span> <span style=\"background-color: rgba(255, 255, 255, 0); padding: 2px 4px; margin: 2px; text-decoration: none;\">seem</span> <span style=\"background-color: rgba(255, 255, 255, 0); padding: 2px 4px; margin: 2px; text-decoration: none;\">are</span> <span style=\"background-color: rgba(255, 255, 255, 0); padding: 2px 4px; margin: 2px; text-decoration: none;\">stru</span> <span style=\"background-color: rgba(255, 255, 255, 0); padding: 2px 4px; margin: 2px; text-decoration: none;\">.</span> <span style=\"background-color: rgba(255, 255, 255, 0); padding: 2px 4px; margin: 2px; text-decoration: none;\">the</span> <span style=\"background-color: rgba(255, 255, 255, 0); padding: 2px 4px; margin: 2px; text-decoration: none;\">\n",
       "</span> <span style=\"background-color: rgba(255, 255, 255, 0); padding: 2px 4px; margin: 2px; text-decoration: none;\">consistent</span> <span style=\"background-color: rgba(255, 255, 255, 0); padding: 2px 4px; margin: 2px; text-decoration: none;\">t</span> <span style=\"background-color: rgba(255, 255, 255, 0); padding: 2px 4px; margin: 2px; text-decoration: none;\">dat</span> <span style=\"background-color: rgba(255, 255, 255, 0); padding: 2px 4px; margin: 2px; text-decoration: none;\">called</span> <span style=\"background-color: rgba(255, 255, 255, 0); padding: 2px 4px; margin: 2px; text-decoration: none;\">ana</span> <span style=\"background-color: rgba(255, 255, 255, 0); padding: 2px 4px; margin: 2px; text-decoration: none;\">\n",
       "</span> <span style=\"background-color: rgba(255, 255, 255, 0); padding: 2px 4px; margin: 2px; text-decoration: none;\">into</span> <span style=\"background-color: rgba(255, 255, 255, 0); padding: 2px 4px; margin: 2px; text-decoration: none;\">for</span> <span style=\"background-color: rgba(255, 255, 255, 0); padding: 2px 4px; margin: 2px; text-decoration: none;\">then</span> <span style=\"background-color: rgba(255, 255, 255, 0); padding: 2px 4px; margin: 2px; text-decoration: none;\">  </span> <span style=\"background-color: rgba(255, 255, 255, 0); padding: 2px 4px; margin: 2px; text-decoration: none;\">craft</span> <span style=\"background-color: rgba(255, 255, 255, 0); padding: 2px 4px; margin: 2px; text-decoration: none;\">any</span> <span style=\"background-color: rgba(255, 255, 255, 0); padding: 2px 4px; margin: 2px; text-decoration: none;\">\n",
       "</span> <span style=\"background-color: rgba(255, 255, 255, 0); padding: 2px 4px; margin: 2px; text-decoration: none;\">\"</span> <span style=\"background-color: rgba(255, 255, 255, 0); padding: 2px 4px; margin: 2px; text-decoration: none;\">,</span> <span style=\"background-color: rgba(255, 255, 255, 0); padding: 2px 4px; margin: 2px; text-decoration: none;\">,</span> <span style=\"background-color: rgba(255, 255, 255, 0); padding: 2px 4px; margin: 2px; text-decoration: none;\">local</span> <span style=\"background-color: rgba(255, 255, 255, 0); padding: 2px 4px; margin: 2px; text-decoration: none;\">1</span> <span style=\"background-color: rgba(255, 255, 255, 0); padding: 2px 4px; margin: 2px; text-decoration: none;\">the</span> <span style=\"background-color: rgba(255, 255, 255, 0); padding: 2px 4px; margin: 2px; text-decoration: none;\">example</span> <span style=\"background-color: rgba(255, 255, 255, 0); padding: 2px 4px; margin: 2px; text-decoration: none;\">\n",
       "</span> <span style=\"background-color: rgba(255, 255, 255, 0); padding: 2px 4px; margin: 2px; text-decoration: none;\">.</span> <span style=\"background-color: rgba(255, 255, 255, 0); padding: 2px 4px; margin: 2px; text-decoration: none;\">Art</span> <span style=\"background-color: rgba(255, 255, 255, 0); padding: 2px 4px; margin: 2px; text-decoration: none;\">/</span> <span style=\"background-color: rgba(255, 255, 255, 0); padding: 2px 4px; margin: 2px; text-decoration: none;\">Of</span> <span style=\"background-color: rgba(255, 255, 255, 0); padding: 2px 4px; margin: 2px; text-decoration: none;\">’</span> <span style=\"background-color: rgba(255, 255, 255, 0); padding: 2px 4px; margin: 2px; text-decoration: none;\">And</span> <span style=\"background-color: rgba(255, 255, 255, 0); padding: 2px 4px; margin: 2px; text-decoration: none;\">the</span> <span style=\"background-color: rgba(255, 255, 255, 0); padding: 2px 4px; margin: 2px; text-decoration: none;\">?</span> <span style=\"background-color: rgba(255, 255, 255, 0); padding: 2px 4px; margin: 2px; text-decoration: none;\">with</span> <span style=\"background-color: rgba(255, 255, 255, 0); padding: 2px 4px; margin: 2px; text-decoration: none;\">my</span> <span style=\"background-color: rgba(255, 255, 255, 0); padding: 2px 4px; margin: 2px; text-decoration: none;\">on</span> <span style=\"background-color: rgba(255, 255, 255, 0); padding: 2px 4px; margin: 2px; text-decoration: none;\">say</span> <span style=\"background-color: rgba(255, 255, 255, 0); padding: 2px 4px; margin: 2px; text-decoration: none;\">+\\</span> <span style=\"background-color: rgba(255, 255, 255, 0); padding: 2px 4px; margin: 2px; text-decoration: none;\">and</span> <span style=\"background-color: rgba(255, 255, 255, 0); padding: 2px 4px; margin: 2px; text-decoration: none;\">counter</span> <span style=\"background-color: rgba(255, 255, 255, 0); padding: 2px 4px; margin: 2px; text-decoration: none;\">big</span> <span style=\"background-color: rgba(255, 255, 255, 0); padding: 2px 4px; margin: 2px; text-decoration: none;\">between</span> <span style=\"background-color: rgba(255, 255, 255, 0); padding: 2px 4px; margin: 2px; text-decoration: none;\">back</span> <span style=\"background-color: rgba(255, 255, 255, 0); padding: 2px 4px; margin: 2px; text-decoration: none;\">correlation</span> <span style=\"background-color: rgba(255, 255, 255, 0); padding: 2px 4px; margin: 2px; text-decoration: none;\">Alignment</span> <span style=\"background-color: rgba(255, 255, 255, 0); padding: 2px 4px; margin: 2px; text-decoration: none;\">the</span> <span style=\"background-color: rgba(255, 255, 255, 0); padding: 2px 4px; margin: 2px; text-decoration: none;\">M</span> <span style=\"background-color: rgba(255, 255, 255, 0); padding: 2px 4px; margin: 2px; text-decoration: none;\">for</span> <span style=\"background-color: rgba(255, 255, 255, 0); padding: 2px 4px; margin: 2px; text-decoration: none;\">up</span> <span style=\"background-color: rgba(255, 255, 255, 0); padding: 2px 4px; margin: 2px; text-decoration: none;\">,</span> <span style=\"background-color: rgba(255, 255, 255, 0); padding: 2px 4px; margin: 2px; text-decoration: none;\">\n",
       "</span> <span style=\"background-color: rgba(255, 255, 255, 0); padding: 2px 4px; margin: 2px; text-decoration: none;\">\n",
       "</span> <span style=\"background-color: rgba(255, 255, 255, 0); padding: 2px 4px; margin: 2px; text-decoration: none;\">blood</span> <span style=\"background-color: rgba(255, 255, 255, 0); padding: 2px 4px; margin: 2px; text-decoration: none;\">K</span> <span style=\"background-color: rgba(255, 255, 255, 0); padding: 2px 4px; margin: 2px; text-decoration: none;\">have</span> <span style=\"background-color: rgba(255, 255, 255, 0); padding: 2px 4px; margin: 2px; text-decoration: none;\">  </span> <span style=\"background-color: rgba(255, 255, 255, 0); padding: 2px 4px; margin: 2px; text-decoration: none;\">OO</span> <span style=\"background-color: rgba(255, 255, 255, 0); padding: 2px 4px; margin: 2px; text-decoration: none;\">two</span> <span style=\"background-color: rgba(255, 255, 255, 0); padding: 2px 4px; margin: 2px; text-decoration: none;\">on</span> <span style=\"background-color: rgba(255, 255, 255, 0); padding: 2px 4px; margin: 2px; text-decoration: none;\">s</span> <span style=\"background-color: rgba(255, 255, 255, 0); padding: 2px 4px; margin: 2px; text-decoration: none;\">at</span> <span style=\"background-color: rgba(255, 255, 255, 0); padding: 2px 4px; margin: 2px; text-decoration: none;\">\n",
       "</span> <span style=\"background-color: rgba(255, 255, 255, 0); padding: 2px 4px; margin: 2px; text-decoration: none;\">parts</span> <span style=\"background-color: rgba(255, 255, 255, 0); padding: 2px 4px; margin: 2px; text-decoration: none;\">AN</span> <span style=\"background-color: rgba(255, 255, 255, 0); padding: 2px 4px; margin: 2px; text-decoration: none;\">the</span> <span style=\"background-color: rgba(255, 255, 255, 0); padding: 2px 4px; margin: 2px; text-decoration: none;\">com</span> <span style=\"background-color: rgba(255, 255, 255, 0); padding: 2px 4px; margin: 2px; text-decoration: none;\">/</span> <span style=\"background-color: rgba(255, 255, 255, 0); padding: 2px 4px; margin: 2px; text-decoration: none;\">pson</span> <span style=\"background-color: rgba(255, 255, 255, 0); padding: 2px 4px; margin: 2px; text-decoration: none;\">the</span> <span style=\"background-color: rgba(255, 255, 255, 0); padding: 2px 4px; margin: 2px; text-decoration: none;\">and</span> <span style=\"background-color: rgba(255, 255, 255, 0); padding: 2px 4px; margin: 2px; text-decoration: none;\">.</span> <span style=\"background-color: rgba(255, 255, 255, 0); padding: 2px 4px; margin: 2px; text-decoration: none;\">notification</span> <span style=\"background-color: rgba(255, 255, 255, 0); padding: 2px 4px; margin: 2px; text-decoration: none;\">men</span> <span style=\"background-color: rgba(255, 255, 255, 0); padding: 2px 4px; margin: 2px; text-decoration: none;\">”</span> <span style=\"background-color: rgba(255, 255, 255, 0); padding: 2px 4px; margin: 2px; text-decoration: none;\">most</span> <span style=\"background-color: rgba(255, 255, 255, 0); padding: 2px 4px; margin: 2px; text-decoration: none;\">to</span> <span style=\"background-color: rgba(255, 255, 255, 0); padding: 2px 4px; margin: 2px; text-decoration: none;\">          </span> <span style=\"background-color: rgba(255, 255, 255, 0); padding: 2px 4px; margin: 2px; text-decoration: none;\">examples</span> <span style=\"background-color: rgba(255, 255, 255, 0); padding: 2px 4px; margin: 2px; text-decoration: none;\">game</span> <span style=\"background-color: rgba(255, 255, 255, 0); padding: 2px 4px; margin: 2px; text-decoration: none;\">you</span> <span style=\"background-color: rgba(255, 255, 255, 0); padding: 2px 4px; margin: 2px; text-decoration: none;\">Cl</span> <span style=\"background-color: rgba(255, 255, 255, 0); padding: 2px 4px; margin: 2px; text-decoration: none;\">that</span> <span style=\"background-color: rgba(255, 255, 255, 0); padding: 2px 4px; margin: 2px; text-decoration: none;\">a</span> <span style=\"background-color: rgba(255, 255, 255, 0); padding: 2px 4px; margin: 2px; text-decoration: none;\">a</span> <span style=\"background-color: rgba(255, 255, 255, 0); padding: 2px 4px; margin: 2px; text-decoration: none;\">a</span> <span style=\"background-color: rgba(255, 255, 255, 0); padding: 2px 4px; margin: 2px; text-decoration: none;\">to</span> <span style=\"background-color: rgba(255, 255, 255, 0); padding: 2px 4px; margin: 2px; text-decoration: none;\">Email</span> <span style=\"background-color: rgba(255, 255, 255, 0); padding: 2px 4px; margin: 2px; text-decoration: none;\">ained</span> <span style=\"background-color: rgba(255, 255, 255, 0); padding: 2px 4px; margin: 2px; text-decoration: none;\">to</span> <span style=\"background-color: rgba(255, 255, 255, 0); padding: 2px 4px; margin: 2px; text-decoration: none;\">we</span> <span style=\"background-color: rgba(255, 255, 255, 0); padding: 2px 4px; margin: 2px; text-decoration: none;\">particles</span> <span style=\"background-color: rgba(255, 255, 255, 0); padding: 2px 4px; margin: 2px; text-decoration: none;\">Of</span> <span style=\"background-color: rgba(255, 255, 255, 0); padding: 2px 4px; margin: 2px; text-decoration: none;\">back</span> <span style=\"background-color: rgba(255, 255, 255, 0); padding: 2px 4px; margin: 2px; text-decoration: none;\">it</span> <span style=\"background-color: rgba(255, 255, 255, 0); padding: 2px 4px; margin: 2px; text-decoration: none;\">ban</span> <span style=\"background-color: rgba(255, 255, 255, 0); padding: 2px 4px; margin: 2px; text-decoration: none;\">become</span> <span style=\"background-color: rgba(255, 255, 255, 0); padding: 2px 4px; margin: 2px; text-decoration: none;\">ed</span> <span style=\"background-color: rgba(255, 255, 255, 0); padding: 2px 4px; margin: 2px; text-decoration: none;\">er</span> <span style=\"background-color: rgba(255, 255, 255, 0); padding: 2px 4px; margin: 2px; text-decoration: none;\">spent</span> <span style=\"background-color: rgba(255, 255, 255, 0); padding: 2px 4px; margin: 2px; text-decoration: none;\">OR</span> <span style=\"background-color: rgba(255, 255, 255, 0); padding: 2px 4px; margin: 2px; text-decoration: none;\">uniform</span> <span style=\"background-color: rgba(255, 255, 255, 0); padding: 2px 4px; margin: 2px; text-decoration: none;\">ami</span> <span style=\"background-color: rgba(255, 255, 255, 0); padding: 2px 4px; margin: 2px; text-decoration: none;\">\n",
       "</span> <span style=\"background-color: rgba(255, 255, 255, 0); padding: 2px 4px; margin: 2px; text-decoration: none;\">bit</span> <span style=\"background-color: rgba(255, 255, 255, 0); padding: 2px 4px; margin: 2px; text-decoration: none;\">Leave</span> <span style=\"background-color: rgba(255, 255, 255, 0); padding: 2px 4px; margin: 2px; text-decoration: none;\">work</span> <span style=\"background-color: rgba(255, 255, 255, 0); padding: 2px 4px; margin: 2px; text-decoration: none;\">THE</span> <span style=\"background-color: rgba(255, 255, 255, 0); padding: 2px 4px; margin: 2px; text-decoration: none;\">is</span> <span style=\"background-color: rgba(255, 255, 255, 0); padding: 2px 4px; margin: 2px; text-decoration: none;\">'</span> <span style=\"background-color: rgba(255, 255, 255, 0); padding: 2px 4px; margin: 2px; text-decoration: none;\">Model</span> <span style=\"background-color: rgba(255, 255, 255, 0); padding: 2px 4px; margin: 2px; text-decoration: none;\">s</span> <span style=\"background-color: rgba(255, 255, 255, 0); padding: 2px 4px; margin: 2px; text-decoration: none;\">I</span> <span style=\"background-color: rgba(255, 255, 255, 0); padding: 2px 4px; margin: 2px; text-decoration: none;\">’</span> <span style=\"background-color: rgba(255, 255, 255, 0); padding: 2px 4px; margin: 2px; text-decoration: none;\">switching</span> <span style=\"background-color: rgba(255, 255, 255, 0); padding: 2px 4px; margin: 2px; text-decoration: none;\">it</span> <span style=\"background-color: rgba(255, 255, 255, 0); padding: 2px 4px; margin: 2px; text-decoration: none;\">ote</span> <span style=\"background-color: rgba(255, 255, 255, 0); padding: 2px 4px; margin: 2px; text-decoration: none;\">for</span> <span style=\"background-color: rgba(255, 255, 255, 0); padding: 2px 4px; margin: 2px; text-decoration: none;\">us</span> <span style=\"background-color: rgba(255, 255, 255, 0); padding: 2px 4px; margin: 2px; text-decoration: none;\">straints</span> <span style=\"background-color: rgba(255, 255, 255, 0); padding: 2px 4px; margin: 2px; text-decoration: none;\">;</span> <span style=\"background-color: rgba(255, 255, 255, 0); padding: 2px 4px; margin: 2px; text-decoration: none;\">.</span> <span style=\"background-color: rgba(255, 255, 255, 0); padding: 2px 4px; margin: 2px; text-decoration: none;\">\"</span> <span style=\"background-color: rgba(255, 255, 255, 0); padding: 2px 4px; margin: 2px; text-decoration: none;\">)$</span> <span style=\"background-color: rgba(255, 255, 255, 0); padding: 2px 4px; margin: 2px; text-decoration: none;\">seems</span> <span style=\"background-color: rgba(255, 255, 255, 0); padding: 2px 4px; margin: 2px; text-decoration: none;\">4</span> <span style=\"background-color: rgba(255, 255, 255, 0); padding: 2px 4px; margin: 2px; text-decoration: none;\">\n",
       "</span> <span style=\"background-color: rgba(255, 255, 255, 0); padding: 2px 4px; margin: 2px; text-decoration: none;\">...</span> <span style=\"background-color: rgba(255, 255, 255, 0); padding: 2px 4px; margin: 2px; text-decoration: none;\">only</span> <span style=\"background-color: rgba(255, 255, 255, 0); padding: 2px 4px; margin: 2px; text-decoration: none;\">In</span> <span style=\"background-color: rgba(255, 255, 255, 0); padding: 2px 4px; margin: 2px; text-decoration: none;\">ability</span> <span style=\"background-color: rgba(255, 255, 255, 0); padding: 2px 4px; margin: 2px; text-decoration: none;\">.</span> <span style=\"background-color: rgba(255, 255, 255, 0); padding: 2px 4px; margin: 2px; text-decoration: none;\">constraint</span> <span style=\"background-color: rgba(255, 255, 255, 0); padding: 2px 4px; margin: 2px; text-decoration: none;\">Quant</span> <span style=\"background-color: rgba(255, 255, 255, 0); padding: 2px 4px; margin: 2px; text-decoration: none;\">Start</span> <span style=\"background-color: rgba(255, 255, 255, 0); padding: 2px 4px; margin: 2px; text-decoration: none;\">’</span> <span style=\"background-color: rgba(255, 255, 255, 0); padding: 2px 4px; margin: 2px; text-decoration: none;\">bed</span> <span style=\"background-color: rgba(255, 255, 255, 0); padding: 2px 4px; margin: 2px; text-decoration: none;\">\n",
       "</span> <span style=\"background-color: rgba(255, 255, 255, 0); padding: 2px 4px; margin: 2px; text-decoration: none;\">Program</span> <span style=\"background-color: rgba(255, 255, 255, 0); padding: 2px 4px; margin: 2px; text-decoration: none;\">,</span> <span style=\"background-color: rgba(255, 255, 255, 0); padding: 2px 4px; margin: 2px; text-decoration: none;\">incident</span> <span style=\"background-color: rgba(255, 255, 255, 0); padding: 2px 4px; margin: 2px; text-decoration: none;\">tunnel</span> <span style=\"background-color: rgba(255, 255, 255, 0); padding: 2px 4px; margin: 2px; text-decoration: none;\">The</span> <span style=\"background-color: rgba(255, 255, 255, 0); padding: 2px 4px; margin: 2px; text-decoration: none;\">realized</span> <span style=\"background-color: rgba(255, 255, 255, 0); padding: 2px 4px; margin: 2px; text-decoration: none;\">ond</span> <span style=\"background-color: rgba(255, 255, 255, 0); padding: 2px 4px; margin: 2px; text-decoration: none;\">'</span> <span style=\"background-color: rgba(255, 255, 255, 0); padding: 2px 4px; margin: 2px; text-decoration: none;\">well</span> <span style=\"background-color: rgba(255, 255, 255, 0); padding: 2px 4px; margin: 2px; text-decoration: none;\">the</span> <span style=\"background-color: rgba(255, 255, 255, 0); padding: 2px 4px; margin: 2px; text-decoration: none;\">the</span> <span style=\"background-color: rgba(255, 255, 255, 0); padding: 2px 4px; margin: 2px; text-decoration: none;\">on</span> <span style=\"background-color: rgba(255, 255, 255, 0); padding: 2px 4px; margin: 2px; text-decoration: none;\">.</span> <span style=\"background-color: rgba(255, 255, 255, 0); padding: 2px 4px; margin: 2px; text-decoration: none;\">limitations</span> <span style=\"background-color: rgba(255, 255, 255, 0); padding: 2px 4px; margin: 2px; text-decoration: none;\">recogn</span> <span style=\"background-color: rgba(255, 255, 255, 0); padding: 2px 4px; margin: 2px; text-decoration: none;\">I</span> <span style=\"background-color: rgba(255, 255, 255, 0); padding: 2px 4px; margin: 2px; text-decoration: none;\">it</span> <span style=\"background-color: rgba(255, 255, 255, 0); padding: 2px 4px; margin: 2px; text-decoration: none;\">Active</span> <span style=\"background-color: rgba(255, 255, 255, 0); padding: 2px 4px; margin: 2px; text-decoration: none;\">was</span> <span style=\"background-color: rgba(255, 255, 255, 0); padding: 2px 4px; margin: 2px; text-decoration: none;\">faces</span> <span style=\"background-color: rgba(255, 255, 255, 0); padding: 2px 4px; margin: 2px; text-decoration: none;\">the</span> <span style=\"background-color: rgba(255, 255, 255, 0); padding: 2px 4px; margin: 2px; text-decoration: none;\">five</span> <span style=\"background-color: rgba(255, 255, 255, 0); padding: 2px 4px; margin: 2px; text-decoration: none;\">\n",
       "</span> <span style=\"background-color: rgba(255, 255, 255, 0); padding: 2px 4px; margin: 2px; text-decoration: none;\">allow</span> <span style=\"background-color: rgba(255, 255, 255, 0); padding: 2px 4px; margin: 2px; text-decoration: none;\">that</span> <span style=\"background-color: rgba(255, 255, 255, 0); padding: 2px 4px; margin: 2px; text-decoration: none;\">up</span> <span style=\"background-color: rgba(255, 255, 255, 0); padding: 2px 4px; margin: 2px; text-decoration: none;\">and</span> <span style=\"background-color: rgba(255, 255, 255, 0); padding: 2px 4px; margin: 2px; text-decoration: none;\">up</span> <span style=\"background-color: rgba(255, 255, 255, 0); padding: 2px 4px; margin: 2px; text-decoration: none;\">ing</span> <span style=\"background-color: rgba(255, 255, 255, 0); padding: 2px 4px; margin: 2px; text-decoration: none;\">5</span> <span style=\"background-color: rgba(255, 255, 255, 0); padding: 2px 4px; margin: 2px; text-decoration: none;\">\n",
       "</span> <span style=\"background-color: rgba(255, 255, 255, 0); padding: 2px 4px; margin: 2px; text-decoration: none;\">OR</span> <span style=\"background-color: rgba(255, 255, 255, 0); padding: 2px 4px; margin: 2px; text-decoration: none;\">ow</span> <span style=\"background-color: rgba(255, 255, 255, 0); padding: 2px 4px; margin: 2px; text-decoration: none;\">three</span> <span style=\"background-color: rgba(255, 255, 255, 0); padding: 2px 4px; margin: 2px; text-decoration: none;\">world</span> <span style=\"background-color: rgba(255, 255, 255, 0); padding: 2px 4px; margin: 2px; text-decoration: none;\">was</span> <span style=\"background-color: rgba(255, 255, 255, 0); padding: 2px 4px; margin: 2px; text-decoration: none;\">’</span> <span style=\"background-color: rgba(255, 255, 255, 0); padding: 2px 4px; margin: 2px; text-decoration: none;\">relevant</span> <span style=\"background-color: rgba(255, 255, 255, 0); padding: 2px 4px; margin: 2px; text-decoration: none;\">a</span> <span style=\"background-color: rgba(255, 255, 255, 0); padding: 2px 4px; margin: 2px; text-decoration: none;\">and</span> <span style=\"background-color: rgba(255, 255, 255, 0); padding: 2px 4px; margin: 2px; text-decoration: none;\">very</span> <span style=\"background-color: rgba(255, 255, 255, 0); padding: 2px 4px; margin: 2px; text-decoration: none;\">enough</span> <span style=\"background-color: rgba(255, 255, 255, 0); padding: 2px 4px; margin: 2px; text-decoration: none;\">ics</span> <span style=\"background-color: rgba(255, 255, 255, 0); padding: 2px 4px; margin: 2px; text-decoration: none;\">of</span> <span style=\"background-color: rgba(255, 255, 255, 0); padding: 2px 4px; margin: 2px; text-decoration: none;\">also</span> <span style=\"background-color: rgba(255, 255, 255, 0); padding: 2px 4px; margin: 2px; text-decoration: none;\">.</span> <span style=\"background-color: rgba(255, 255, 255, 0); padding: 2px 4px; margin: 2px; text-decoration: none;\">and</span> <span style=\"background-color: rgba(255, 255, 255, 0); padding: 2px 4px; margin: 2px; text-decoration: none;\">pson</span> <span style=\"background-color: rgba(255, 255, 255, 0); padding: 2px 4px; margin: 2px; text-decoration: none;\">ez</span> <span style=\"background-color: rgba(255, 255, 255, 0); padding: 2px 4px; margin: 2px; text-decoration: none;\">Ne</span> <span style=\"background-color: rgba(255, 255, 255, 0); padding: 2px 4px; margin: 2px; text-decoration: none;\">resulted</span> <span style=\"background-color: rgba(255, 255, 255, 0); padding: 2px 4px; margin: 2px; text-decoration: none;\">launch</span> <span style=\"background-color: rgba(255, 255, 255, 0); padding: 2px 4px; margin: 2px; text-decoration: none;\">at</span> <span style=\"background-color: rgba(255, 255, 255, 0); padding: 2px 4px; margin: 2px; text-decoration: none;\">ipart</span> <span style=\"background-color: rgba(255, 255, 255, 0); padding: 2px 4px; margin: 2px; text-decoration: none;\">cook</span> <span style=\"background-color: rgba(255, 255, 255, 0); padding: 2px 4px; margin: 2px; text-decoration: none;\">them</span> <span style=\"background-color: rgba(255, 255, 255, 0); padding: 2px 4px; margin: 2px; text-decoration: none;\">.</span> <span style=\"background-color: rgba(255, 255, 255, 0); padding: 2px 4px; margin: 2px; text-decoration: none;\">Oracle</span> <span style=\"background-color: rgba(255, 255, 255, 0); padding: 2px 4px; margin: 2px; text-decoration: none;\">to</span> <span style=\"background-color: rgba(255, 255, 255, 0); padding: 2px 4px; margin: 2px; text-decoration: none;\">1</span> <span style=\"background-color: rgba(255, 255, 255, 0); padding: 2px 4px; margin: 2px; text-decoration: none;\">your</span> <span style=\"background-color: rgba(255, 255, 255, 0); padding: 2px 4px; margin: 2px; text-decoration: none;\">written</span> <span style=\"background-color: rgba(255, 255, 255, 0); padding: 2px 4px; margin: 2px; text-decoration: none;\">oss</span> <span style=\"background-color: rgba(255, 255, 255, 0); padding: 2px 4px; margin: 2px; text-decoration: none;\">_</span> <span style=\"background-color: rgba(255, 255, 255, 0); padding: 2px 4px; margin: 2px; text-decoration: none;\">solve</span> <span style=\"background-color: rgba(255, 255, 255, 0); padding: 2px 4px; margin: 2px; text-decoration: none;\">,</span> <span style=\"background-color: rgba(255, 255, 255, 0); padding: 2px 4px; margin: 2px; text-decoration: none;\">For</span> <span style=\"background-color: rgba(255, 255, 255, 0); padding: 2px 4px; margin: 2px; text-decoration: none;\">and</span> <span style=\"background-color: rgba(255, 255, 255, 0); padding: 2px 4px; margin: 2px; text-decoration: none;\">new</span> <span style=\"background-color: rgba(255, 255, 255, 0); padding: 2px 4px; margin: 2px; text-decoration: none;\">re</span> <span style=\"background-color: rgba(255, 255, 255, 0); padding: 2px 4px; margin: 2px; text-decoration: none;\">margin</span> <span style=\"background-color: rgba(255, 255, 255, 0); padding: 2px 4px; margin: 2px; text-decoration: none;\">0</span> <span style=\"background-color: rgba(255, 255, 255, 0); padding: 2px 4px; margin: 2px; text-decoration: none;\">n</span> <span style=\"background-color: rgba(255, 255, 255, 0); padding: 2px 4px; margin: 2px; text-decoration: none;\">did</span> <span style=\"background-color: rgba(255, 255, 255, 0); padding: 2px 4px; margin: 2px; text-decoration: none;\">(</span> <span style=\"background-color: rgba(255, 255, 255, 0); padding: 2px 4px; margin: 2px; text-decoration: none;\">ings</span> <span style=\"background-color: rgba(255, 255, 255, 0); padding: 2px 4px; margin: 2px; text-decoration: none;\">A</span> <span style=\"background-color: rgba(255, 255, 255, 0); padding: 2px 4px; margin: 2px; text-decoration: none;\">)</span> <span style=\"background-color: rgba(255, 255, 255, 0); padding: 2px 4px; margin: 2px; text-decoration: none;\">success</span> <span style=\"background-color: rgba(255, 255, 255, 0); padding: 2px 4px; margin: 2px; text-decoration: none;\">c</span> <span style=\"background-color: rgba(255, 255, 255, 0); padding: 2px 4px; margin: 2px; text-decoration: none;\">way</span> <span style=\"background-color: rgba(255, 255, 255, 0); padding: 2px 4px; margin: 2px; text-decoration: none;\">/</span> <span style=\"background-color: rgba(255, 255, 255, 0); padding: 2px 4px; margin: 2px; text-decoration: none;\">I</span> <span style=\"background-color: rgba(255, 255, 255, 0); padding: 2px 4px; margin: 2px; text-decoration: none;\">really</span> <span style=\"background-color: rgba(255, 255, 255, 0); padding: 2px 4px; margin: 2px; text-decoration: none;\">what</span> <span style=\"background-color: rgba(255, 255, 255, 0); padding: 2px 4px; margin: 2px; text-decoration: none;\">Q</span> <span style=\"background-color: rgba(255, 255, 255, 0); padding: 2px 4px; margin: 2px; text-decoration: none;\">ially</span> <span style=\"background-color: rgba(255, 255, 255, 0); padding: 2px 4px; margin: 2px; text-decoration: none;\">warnings</span> <span style=\"background-color: rgba(255, 255, 255, 0); padding: 2px 4px; margin: 2px; text-decoration: none;\">men</span> <span style=\"background-color: rgba(255, 255, 255, 0); padding: 2px 4px; margin: 2px; text-decoration: none;\">they</span> <span style=\"background-color: rgba(255, 255, 255, 0); padding: 2px 4px; margin: 2px; text-decoration: none;\">ed</span> <span style=\"background-color: rgba(255, 255, 255, 0); padding: 2px 4px; margin: 2px; text-decoration: none;\">width</span> <span style=\"background-color: rgba(255, 255, 255, 0); padding: 2px 4px; margin: 2px; text-decoration: none;\">as</span> <span style=\"background-color: rgba(255, 255, 255, 0); padding: 2px 4px; margin: 2px; text-decoration: none;\">Q</span> <span style=\"background-color: rgba(255, 255, 255, 0); padding: 2px 4px; margin: 2px; text-decoration: none;\">my</span> <span style=\"background-color: rgba(255, 255, 255, 0); padding: 2px 4px; margin: 2px; text-decoration: none;\">do</span> <span style=\"background-color: rgba(255, 255, 255, 0); padding: 2px 4px; margin: 2px; text-decoration: none;\">ensors</span> <span style=\"background-color: rgba(255, 255, 255, 0); padding: 2px 4px; margin: 2px; text-decoration: none;\">,</span> <span style=\"background-color: rgba(255, 255, 255, 0); padding: 2px 4px; margin: 2px; text-decoration: none;\">teachers</span> <span style=\"background-color: rgba(255, 255, 255, 0); padding: 2px 4px; margin: 2px; text-decoration: none;\">establishment</span> <span style=\"background-color: rgba(255, 255, 255, 0); padding: 2px 4px; margin: 2px; text-decoration: none;\">this</span> <span style=\"background-color: rgba(255, 255, 255, 0); padding: 2px 4px; margin: 2px; text-decoration: none;\">in</span> <span style=\"background-color: rgba(255, 255, 255, 0); padding: 2px 4px; margin: 2px; text-decoration: none;\">RED</span> <span style=\"background-color: rgba(255, 255, 255, 0); padding: 2px 4px; margin: 2px; text-decoration: none;\">ON</span> <span style=\"background-color: rgba(255, 255, 255, 0); padding: 2px 4px; margin: 2px; text-decoration: none;\">\"</span> <span style=\"background-color: rgba(255, 255, 255, 0); padding: 2px 4px; margin: 2px; text-decoration: none;\">.</span> <span style=\"background-color: rgba(255, 255, 255, 0); padding: 2px 4px; margin: 2px; text-decoration: none;\">didn</span> <span style=\"background-color: rgba(255, 255, 255, 0); padding: 2px 4px; margin: 2px; text-decoration: none;\">OR</span> <span style=\"background-color: rgba(255, 255, 255, 0); padding: 2px 4px; margin: 2px; text-decoration: none;\">is</span> <span style=\"background-color: rgba(255, 255, 255, 0); padding: 2px 4px; margin: 2px; text-decoration: none;\">probe</span> <span style=\"background-color: rgba(255, 255, 255, 0); padding: 2px 4px; margin: 2px; text-decoration: none;\">for</span> <span style=\"background-color: rgba(255, 255, 255, 0); padding: 2px 4px; margin: 2px; text-decoration: none;\">=\"</span> <span style=\"background-color: rgba(255, 255, 255, 0); padding: 2px 4px; margin: 2px; text-decoration: none;\">bit</span> <span style=\"background-color: rgba(255, 255, 255, 0); padding: 2px 4px; margin: 2px; text-decoration: none;\">,</span> <span style=\"background-color: rgba(255, 255, 255, 0); padding: 2px 4px; margin: 2px; text-decoration: none;\">The</span> <span style=\"background-color: rgba(255, 255, 255, 0); padding: 2px 4px; margin: 2px; text-decoration: none;\">wave</span> <span style=\"background-color: rgba(255, 255, 255, 0); padding: 2px 4px; margin: 2px; text-decoration: none;\">Art</span> <span style=\"background-color: rgba(255, 255, 255, 0); padding: 2px 4px; margin: 2px; text-decoration: none;\">landing</span> <span style=\"background-color: rgba(255, 255, 255, 0); padding: 2px 4px; margin: 2px; text-decoration: none;\">right</span> <span style=\"background-color: rgba(255, 255, 255, 0); padding: 2px 4px; margin: 2px; text-decoration: none;\">\n",
       "</span> <span style=\"background-color: rgba(255, 255, 255, 0); padding: 2px 4px; margin: 2px; text-decoration: none;\">\n",
       "</span> <span style=\"background-color: rgba(255, 255, 255, 0); padding: 2px 4px; margin: 2px; text-decoration: none;\">with</span> <span style=\"background-color: rgba(255, 255, 255, 0); padding: 2px 4px; margin: 2px; text-decoration: none;\">,</span> <span style=\"background-color: rgba(255, 255, 255, 0); padding: 2px 4px; margin: 2px; text-decoration: none;\">in</span> <span style=\"background-color: rgba(255, 255, 255, 0); padding: 2px 4px; margin: 2px; text-decoration: none;\">  </span> <span style=\"background-color: rgba(255, 255, 255, 0); padding: 2px 4px; margin: 2px; text-decoration: none;\">similar</span> <span style=\"background-color: rgba(255, 255, 255, 0); padding: 2px 4px; margin: 2px; text-decoration: none;\">only</span> <span style=\"background-color: rgba(255, 255, 255, 0); padding: 2px 4px; margin: 2px; text-decoration: none;\">hand</span> <span style=\"background-color: rgba(255, 255, 255, 0); padding: 2px 4px; margin: 2px; text-decoration: none;\">LA</span> <span style=\"background-color: rgba(255, 255, 255, 0); padding: 2px 4px; margin: 2px; text-decoration: none;\">much</span> <span style=\"background-color: rgba(255, 255, 255, 0); padding: 2px 4px; margin: 2px; text-decoration: none;\">.</span> <span style=\"background-color: rgba(255, 255, 255, 0); padding: 2px 4px; margin: 2px; text-decoration: none;\"></span> <span style=\"background-color: rgba(255, 255, 255, 0); padding: 2px 4px; margin: 2px; text-decoration: none;\">Rel</span> <span style=\"background-color: rgba(255, 255, 255, 0); padding: 2px 4px; margin: 2px; text-decoration: none;\">It</span> <span style=\"background-color: rgba(255, 255, 255, 0); padding: 2px 4px; margin: 2px; text-decoration: none;\">a</span> <span style=\"background-color: rgba(255, 255, 255, 0); padding: 2px 4px; margin: 2px; text-decoration: none;\">the</span> <span style=\"background-color: rgba(255, 255, 255, 0); padding: 2px 4px; margin: 2px; text-decoration: none;\">spectral</span> <span style=\"background-color: rgba(255, 255, 255, 0); padding: 2px 4px; margin: 2px; text-decoration: none;\">using</span> <span style=\"background-color: rgba(255, 255, 255, 0); padding: 2px 4px; margin: 2px; text-decoration: none;\">is</span> <span style=\"background-color: rgba(255, 255, 255, 0); padding: 2px 4px; margin: 2px; text-decoration: none;\">owns</span> <span style=\"background-color: rgba(255, 255, 255, 0); padding: 2px 4px; margin: 2px; text-decoration: none;\">-</span> <span style=\"background-color: rgba(255, 255, 255, 0); padding: 2px 4px; margin: 2px; text-decoration: none;\">of</span> <span style=\"background-color: rgba(255, 255, 255, 0); padding: 2px 4px; margin: 2px; text-decoration: none;\">be</span> <span style=\"background-color: rgba(255, 255, 255, 0); padding: 2px 4px; margin: 2px; text-decoration: none;\">working</span> <span style=\"background-color: rgba(255, 255, 255, 0); padding: 2px 4px; margin: 2px; text-decoration: none;\">OO</span> <span style=\"background-color: rgba(255, 255, 255, 0); padding: 2px 4px; margin: 2px; text-decoration: none;\">my</span> <span style=\"background-color: rgba(255, 255, 255, 0); padding: 2px 4px; margin: 2px; text-decoration: none;\">’</span> <span style=\"background-color: rgba(255, 255, 255, 0); padding: 2px 4px; margin: 2px; text-decoration: none;\">use</span> <span style=\"background-color: rgba(255, 255, 255, 0); padding: 2px 4px; margin: 2px; text-decoration: none;\">Malays</span> <span style=\"background-color: rgba(255, 255, 255, 0); padding: 2px 4px; margin: 2px; text-decoration: none;\">|</span> <span style=\"background-color: rgba(255, 255, 255, 0); padding: 2px 4px; margin: 2px; text-decoration: none;\">.</span> <span style=\"background-color: rgba(255, 255, 255, 0); padding: 2px 4px; margin: 2px; text-decoration: none;\">ruction</span> <span style=\"background-color: rgba(255, 255, 255, 0); padding: 2px 4px; margin: 2px; text-decoration: none;\">through</span> <span style=\"background-color: rgba(255, 255, 255, 0); padding: 2px 4px; margin: 2px; text-decoration: none;\">for</span> <span style=\"background-color: rgba(255, 255, 255, 0); padding: 2px 4px; margin: 2px; text-decoration: none;\">trans</span> <span style=\"background-color: rgba(255, 255, 255, 0); padding: 2px 4px; margin: 2px; text-decoration: none;\">testimony</span> <span style=\"background-color: rgba(255, 255, 255, 0); padding: 2px 4px; margin: 2px; text-decoration: none;\">reported</span> <span style=\"background-color: rgba(255, 255, 255, 0); padding: 2px 4px; margin: 2px; text-decoration: none;\">the</span> <span style=\"background-color: rgba(255, 255, 255, 0); padding: 2px 4px; margin: 2px; text-decoration: none;\">:</span> <span style=\"background-color: rgba(255, 255, 255, 0); padding: 2px 4px; margin: 2px; text-decoration: none;\">um</span> <span style=\"background-color: rgba(255, 255, 255, 0); padding: 2px 4px; margin: 2px; text-decoration: none;\">way</span> <span style=\"background-color: rgba(255, 255, 255, 0); padding: 2px 4px; margin: 2px; text-decoration: none;\">ah</span> <span style=\"background-color: rgba(255, 255, 255, 0); padding: 2px 4px; margin: 2px; text-decoration: none;\">observed</span> <span style=\"background-color: rgba(255, 255, 255, 0); padding: 2px 4px; margin: 2px; text-decoration: none;\">can</span> <span style=\"background-color: rgba(255, 255, 255, 0); padding: 2px 4px; margin: 2px; text-decoration: none;\">al</span> <span style=\"background-color: rgba(255, 255, 255, 0); padding: 2px 4px; margin: 2px; text-decoration: none;\">ross</span> <span style=\"background-color: rgba(255, 255, 255, 0); padding: 2px 4px; margin: 2px; text-decoration: none;\">made</span> <span style=\"background-color: rgba(255, 255, 255, 0); padding: 2px 4px; margin: 2px; text-decoration: none;\">had</span> <span style=\"background-color: rgba(255, 255, 255, 0); padding: 2px 4px; margin: 2px; text-decoration: none;\">screaming</span> <span style=\"background-color: rgba(255, 255, 255, 0); padding: 2px 4px; margin: 2px; text-decoration: none;\">inform</span> <span style=\"background-color: rgba(255, 255, 255, 0); padding: 2px 4px; margin: 2px; text-decoration: none;\">us</span> <span style=\"background-color: rgba(255, 255, 255, 0); padding: 2px 4px; margin: 2px; text-decoration: none;\">\n",
       "</span> <span style=\"background-color: rgba(255, 255, 255, 0); padding: 2px 4px; margin: 2px; text-decoration: none;\">employment</span> <span style=\"background-color: rgba(255, 255, 255, 0); padding: 2px 4px; margin: 2px; text-decoration: none;\">is</span> <span style=\"background-color: rgba(255, 255, 255, 0); padding: 2px 4px; margin: 2px; text-decoration: none;\">8</span> <span style=\"background-color: rgba(255, 255, 255, 0); padding: 2px 4px; margin: 2px; text-decoration: none;\">can</span> <span style=\"background-color: rgba(255, 255, 255, 0); padding: 2px 4px; margin: 2px; text-decoration: none;\">name</span> <span style=\"background-color: rgba(255, 255, 255, 0); padding: 2px 4px; margin: 2px; text-decoration: none;\">ream</span> <span style=\"background-color: rgba(255, 255, 255, 0); padding: 2px 4px; margin: 2px; text-decoration: none;\">cre</span> <span style=\"background-color: rgba(255, 255, 255, 0); padding: 2px 4px; margin: 2px; text-decoration: none;\">Of</span> <span style=\"background-color: rgba(255, 255, 255, 0); padding: 2px 4px; margin: 2px; text-decoration: none;\">Con</span> <span style=\"background-color: rgba(255, 255, 255, 0); padding: 2px 4px; margin: 2px; text-decoration: none;\">\"</span> <span style=\"background-color: rgba(255, 255, 255, 0); padding: 2px 4px; margin: 2px; text-decoration: none;\">android</span> <span style=\"background-color: rgba(255, 255, 255, 0); padding: 2px 4px; margin: 2px; text-decoration: none;\">tasks</span> <span style=\"background-color: rgba(255, 255, 255, 0); padding: 2px 4px; margin: 2px; text-decoration: none;\">take</span> <span style=\"background-color: rgba(255, 255, 255, 0); padding: 2px 4px; margin: 2px; text-decoration: none;\">.</span> <span style=\"background-color: rgba(255, 255, 255, 0); padding: 2px 4px; margin: 2px; text-decoration: none;\">your</span> <span style=\"background-color: rgba(255, 255, 255, 0); padding: 2px 4px; margin: 2px; text-decoration: none;\">is</span> <span style=\"background-color: rgba(255, 255, 255, 0); padding: 2px 4px; margin: 2px; text-decoration: none;\">,</span> <span style=\"background-color: rgba(255, 255, 255, 0); padding: 2px 4px; margin: 2px; text-decoration: none;\">was</span> <span style=\"background-color: rgba(255, 255, 255, 0); padding: 2px 4px; margin: 2px; text-decoration: none;\">s</span> <span style=\"background-color: rgba(255, 255, 255, 0); padding: 2px 4px; margin: 2px; text-decoration: none;\">coupling</span> <span style=\"background-color: rgba(255, 255, 255, 0); padding: 2px 4px; margin: 2px; text-decoration: none;\">Pi</span> <span style=\"background-color: rgba(255, 255, 255, 0); padding: 2px 4px; margin: 2px; text-decoration: none;\">and</span> <span style=\"background-color: rgba(255, 255, 255, 0); padding: 2px 4px; margin: 2px; text-decoration: none;\">canon</span> <span style=\"background-color: rgba(255, 255, 255, 0); padding: 2px 4px; margin: 2px; text-decoration: none;\">,</span> <span style=\"background-color: rgba(255, 255, 255, 0); padding: 2px 4px; margin: 2px; text-decoration: none;\">pump</span> <span style=\"background-color: rgba(255, 255, 255, 0); padding: 2px 4px; margin: 2px; text-decoration: none;\">testimony</span> <span style=\"background-color: rgba(255, 255, 255, 0); padding: 2px 4px; margin: 2px; text-decoration: none;\">which</span> <span style=\"background-color: rgba(255, 255, 255, 0); padding: 2px 4px; margin: 2px; text-decoration: none;\">dil</span> <span style=\"background-color: rgba(255, 255, 255, 0); padding: 2px 4px; margin: 2px; text-decoration: none;\">him</span> <span style=\"background-color: rgba(255, 255, 255, 0); padding: 2px 4px; margin: 2px; text-decoration: none;\">to</span> <span style=\"background-color: rgba(255, 255, 255, 0); padding: 2px 4px; margin: 2px; text-decoration: none;\">employed</span> <span style=\"background-color: rgba(255, 255, 255, 0); padding: 2px 4px; margin: 2px; text-decoration: none;\">,</span> <span style=\"background-color: rgba(255, 255, 255, 0); padding: 2px 4px; margin: 2px; text-decoration: none;\">even</span> <span style=\"background-color: rgba(255, 255, 255, 0); padding: 2px 4px; margin: 2px; text-decoration: none;\">did</span> <span style=\"background-color: rgba(255, 255, 255, 0); padding: 2px 4px; margin: 2px; text-decoration: none;\">s</span> <span style=\"background-color: rgba(255, 255, 255, 0); padding: 2px 4px; margin: 2px; text-decoration: none;\">um</span> <span style=\"background-color: rgba(255, 255, 255, 0); padding: 2px 4px; margin: 2px; text-decoration: none;\">queries</span> <span style=\"background-color: rgba(255, 255, 255, 0); padding: 2px 4px; margin: 2px; text-decoration: none;\">scenario</span> <span style=\"background-color: rgba(255, 255, 255, 0); padding: 2px 4px; margin: 2px; text-decoration: none;\">done</span> <span style=\"background-color: rgba(255, 255, 255, 0); padding: 2px 4px; margin: 2px; text-decoration: none;\">problem</span> <span style=\"background-color: rgba(255, 255, 255, 0); padding: 2px 4px; margin: 2px; text-decoration: none;\">of</span> <span style=\"background-color: rgba(255, 255, 255, 0); padding: 2px 4px; margin: 2px; text-decoration: none;\">mid</span> <span style=\"background-color: rgba(255, 255, 255, 0); padding: 2px 4px; margin: 2px; text-decoration: none;\">.</span> <span style=\"background-color: rgba(255, 255, 255, 0); padding: 2px 4px; margin: 2px; text-decoration: none;\">bit</span> <span style=\"background-color: rgba(255, 255, 255, 0); padding: 2px 4px; margin: 2px; text-decoration: none;\">in</span> <span style=\"background-color: rgba(255, 255, 255, 0); padding: 2px 4px; margin: 2px; text-decoration: none;\">,</span> <span style=\"background-color: rgba(255, 255, 255, 0); padding: 2px 4px; margin: 2px; text-decoration: none;\">quantum</span> <span style=\"background-color: rgba(255, 255, 255, 0); padding: 2px 4px; margin: 2px; text-decoration: none;\">}{</span> <span style=\"background-color: rgba(255, 255, 255, 0); padding: 2px 4px; margin: 2px; text-decoration: none;\">for</span> <span style=\"background-color: rgba(255, 255, 255, 0); padding: 2px 4px; margin: 2px; text-decoration: none;\">anc</span> <span style=\"background-color: rgba(255, 255, 255, 0); padding: 2px 4px; margin: 2px; text-decoration: none;\">came</span> <span style=\"background-color: rgba(255, 255, 255, 0); padding: 2px 4px; margin: 2px; text-decoration: none;\">Lud</span> <span style=\"background-color: rgba(255, 255, 255, 0); padding: 2px 4px; margin: 2px; text-decoration: none;\">(</span> <span style=\"background-color: rgba(255, 255, 255, 0); padding: 2px 4px; margin: 2px; text-decoration: none;\">two</span> <span style=\"background-color: rgba(255, 255, 255, 0); padding: 2px 4px; margin: 2px; text-decoration: none;\">depends</span> <span style=\"background-color: rgba(255, 255, 255, 0); padding: 2px 4px; margin: 2px; text-decoration: none;\">in</span> <span style=\"background-color: rgba(255, 255, 255, 0); padding: 2px 4px; margin: 2px; text-decoration: none;\">\n",
       "</span> <span style=\"background-color: rgba(255, 255, 255, 0); padding: 2px 4px; margin: 2px; text-decoration: none;\">vest</span> <span style=\"background-color: rgba(255, 255, 255, 0); padding: 2px 4px; margin: 2px; text-decoration: none;\">I</span> <span style=\"background-color: rgba(255, 255, 255, 0); padding: 2px 4px; margin: 2px; text-decoration: none;\">you</span> <span style=\"background-color: rgba(255, 255, 255, 0); padding: 2px 4px; margin: 2px; text-decoration: none;\">ins</span> <span style=\"background-color: rgba(255, 255, 255, 0); padding: 2px 4px; margin: 2px; text-decoration: none;\">(</span> <span style=\"background-color: rgba(255, 255, 255, 0); padding: 2px 4px; margin: 2px; text-decoration: none;\">Sch</span> <span style=\"background-color: rgba(255, 255, 255, 0); padding: 2px 4px; margin: 2px; text-decoration: none;\">parts</span> <span style=\"background-color: rgba(255, 255, 255, 0); padding: 2px 4px; margin: 2px; text-decoration: none;\">,</span> <span style=\"background-color: rgba(255, 255, 255, 0); padding: 2px 4px; margin: 2px; text-decoration: none;\">nursing</span> <span style=\"background-color: rgba(255, 255, 255, 0); padding: 2px 4px; margin: 2px; text-decoration: none;\">concept</span> <span style=\"background-color: rgba(255, 255, 255, 0); padding: 2px 4px; margin: 2px; text-decoration: none;\">in</span> <span style=\"background-color: rgba(255, 255, 255, 0); padding: 2px 4px; margin: 2px; text-decoration: none;\">&gt;</span> <span style=\"background-color: rgba(255, 255, 255, 0); padding: 2px 4px; margin: 2px; text-decoration: none;\">centers</span> <span style=\"background-color: rgba(255, 255, 255, 0); padding: 2px 4px; margin: 2px; text-decoration: none;\">J</span> <span style=\"background-color: rgba(255, 255, 255, 0); padding: 2px 4px; margin: 2px; text-decoration: none;\">cannot</span> <span style=\"background-color: rgba(255, 255, 255, 0); padding: 2px 4px; margin: 2px; text-decoration: none;\">Insurance</span> <span style=\"background-color: rgba(255, 255, 255, 0); padding: 2px 4px; margin: 2px; text-decoration: none;\">with</span> <span style=\"background-color: rgba(255, 255, 255, 0); padding: 2px 4px; margin: 2px; text-decoration: none;\">of</span> <span style=\"background-color: rgba(255, 255, 255, 0); padding: 2px 4px; margin: 2px; text-decoration: none;\">Aber</span> <span style=\"background-color: rgba(255, 255, 255, 0); padding: 2px 4px; margin: 2px; text-decoration: none;\">before</span> <span style=\"background-color: rgba(255, 255, 255, 0); padding: 2px 4px; margin: 2px; text-decoration: none;\">ade</span> <span style=\"background-color: rgba(255, 255, 255, 0); padding: 2px 4px; margin: 2px; text-decoration: none;\">are</span> <span style=\"background-color: rgba(255, 255, 255, 0); padding: 2px 4px; margin: 2px; text-decoration: none;\">.</span> <span style=\"background-color: rgba(255, 255, 255, 0); padding: 2px 4px; margin: 2px; text-decoration: none;\">and</span> <span style=\"background-color: rgba(255, 255, 255, 0); padding: 2px 4px; margin: 2px; text-decoration: none;\">&gt;</span> <span style=\"background-color: rgba(255, 255, 255, 0); padding: 2px 4px; margin: 2px; text-decoration: none;\">to</span> <span style=\"background-color: rgba(255, 255, 255, 0); padding: 2px 4px; margin: 2px; text-decoration: none;\">ing</span> <span style=\"background-color: rgba(255, 255, 255, 0); padding: 2px 4px; margin: 2px; text-decoration: none;\">ultimate</span> <span style=\"background-color: rgba(255, 255, 255, 0); padding: 2px 4px; margin: 2px; text-decoration: none;\">In</span> <span style=\"background-color: rgba(255, 255, 255, 0); padding: 2px 4px; margin: 2px; text-decoration: none;\">objects</span> <span style=\"background-color: rgba(255, 255, 255, 0); padding: 2px 4px; margin: 2px; text-decoration: none;\">      </span> <span style=\"background-color: rgba(255, 255, 255, 0); padding: 2px 4px; margin: 2px; text-decoration: none;\">easier</span> <span style=\"background-color: rgba(255, 255, 255, 0); padding: 2px 4px; margin: 2px; text-decoration: none;\">\n",
       "</span> <span style=\"background-color: rgba(255, 255, 255, 0); padding: 2px 4px; margin: 2px; text-decoration: none;\">something</span> <span style=\"background-color: rgba(255, 255, 255, 0); padding: 2px 4px; margin: 2px; text-decoration: none;\">of</span> <span style=\"background-color: rgba(255, 255, 255, 0); padding: 2px 4px; margin: 2px; text-decoration: none;\">:</span> <span style=\"background-color: rgba(255, 255, 255, 0); padding: 2px 4px; margin: 2px; text-decoration: none;\">art</span> <span style=\"background-color: rgba(255, 255, 255, 0); padding: 2px 4px; margin: 2px; text-decoration: none;\">evolved</span> <span style=\"background-color: rgba(255, 255, 255, 0); padding: 2px 4px; margin: 2px; text-decoration: none;\">wrap</span> <span style=\"background-color: rgba(255, 255, 255, 0); padding: 2px 4px; margin: 2px; text-decoration: none;\">Occ</span> <span style=\"background-color: rgba(255, 255, 255, 0); padding: 2px 4px; margin: 2px; text-decoration: none;\">the</span> <span style=\"background-color: rgba(255, 255, 255, 0); padding: 2px 4px; margin: 2px; text-decoration: none;\">\"</span> <span style=\"background-color: rgba(255, 255, 255, 0); padding: 2px 4px; margin: 2px; text-decoration: none;\">baby</span> <span style=\"background-color: rgba(255, 255, 255, 0); padding: 2px 4px; margin: 2px; text-decoration: none;\">of</span> <span style=\"background-color: rgba(255, 255, 255, 0); padding: 2px 4px; margin: 2px; text-decoration: none;\">not</span> <span style=\"background-color: rgba(255, 255, 255, 0); padding: 2px 4px; margin: 2px; text-decoration: none;\">below</span> <span style=\"background-color: rgba(255, 255, 255, 0); padding: 2px 4px; margin: 2px; text-decoration: none;\">_</span> <span style=\"background-color: rgba(255, 255, 255, 0); padding: 2px 4px; margin: 2px; text-decoration: none;\">knew</span> <span style=\"background-color: rgba(255, 255, 255, 0); padding: 2px 4px; margin: 2px; text-decoration: none;\">I</span> <span style=\"background-color: rgba(255, 255, 255, 0); padding: 2px 4px; margin: 2px; text-decoration: none;\">,</span> <span style=\"background-color: rgba(255, 255, 255, 0); padding: 2px 4px; margin: 2px; text-decoration: none;\">would</span> <span style=\"background-color: rgba(255, 255, 255, 0); padding: 2px 4px; margin: 2px; text-decoration: none;\">,</span> <span style=\"background-color: rgba(255, 255, 255, 0); padding: 2px 4px; margin: 2px; text-decoration: none;\">.</span> <span style=\"background-color: rgba(255, 255, 255, 0); padding: 2px 4px; margin: 2px; text-decoration: none;\">&lt;</span> <span style=\"background-color: rgba(255, 255, 255, 0); padding: 2px 4px; margin: 2px; text-decoration: none;\">An</span> <span style=\"background-color: rgba(255, 255, 255, 0); padding: 2px 4px; margin: 2px; text-decoration: none;\">new</span> <span style=\"background-color: rgba(255, 255, 255, 0); padding: 2px 4px; margin: 2px; text-decoration: none;\">(</span> <span style=\"background-color: rgba(255, 255, 255, 0); padding: 2px 4px; margin: 2px; text-decoration: none;\">be</span> <span style=\"background-color: rgba(255, 255, 255, 0); padding: 2px 4px; margin: 2px; text-decoration: none;\">feel</span> <span style=\"background-color: rgba(255, 255, 255, 0); padding: 2px 4px; margin: 2px; text-decoration: none;\">touch</span> <span style=\"background-color: rgba(255, 255, 255, 0); padding: 2px 4px; margin: 2px; text-decoration: none;\">because</span> <span style=\"background-color: rgba(255, 255, 255, 0); padding: 2px 4px; margin: 2px; text-decoration: none;\">provision</span> <span style=\"background-color: rgba(255, 255, 255, 0); padding: 2px 4px; margin: 2px; text-decoration: none;\">is</span> <span style=\"background-color: rgba(255, 255, 255, 0); padding: 2px 4px; margin: 2px; text-decoration: none;\">control</span> <span style=\"background-color: rgba(255, 255, 255, 0); padding: 2px 4px; margin: 2px; text-decoration: none;\">fine</span> <span style=\"background-color: rgba(255, 255, 255, 0); padding: 2px 4px; margin: 2px; text-decoration: none;\">in</span> <span style=\"background-color: rgba(255, 255, 255, 0); padding: 2px 4px; margin: 2px; text-decoration: none;\">given</span> <span style=\"background-color: rgba(255, 255, 255, 0); padding: 2px 4px; margin: 2px; text-decoration: none;\">around</span> <span style=\"background-color: rgba(255, 255, 255, 0); padding: 2px 4px; margin: 2px; text-decoration: none;\">same</span> <span style=\"background-color: rgba(255, 255, 255, 0); padding: 2px 4px; margin: 2px; text-decoration: none;\">to</span> <span style=\"background-color: rgba(255, 255, 255, 0); padding: 2px 4px; margin: 2px; text-decoration: none;\">\n",
       "</span> <span style=\"background-color: rgba(255, 255, 255, 0); padding: 2px 4px; margin: 2px; text-decoration: none;\">=\"</span> <span style=\"background-color: rgba(255, 255, 255, 0); padding: 2px 4px; margin: 2px; text-decoration: none;\">then</span> <span style=\"background-color: rgba(255, 255, 255, 0); padding: 2px 4px; margin: 2px; text-decoration: none;\">fired</span> <span style=\"background-color: rgba(255, 255, 255, 0); padding: 2px 4px; margin: 2px; text-decoration: none;\">,</span> <span style=\"background-color: rgba(255, 255, 255, 0); padding: 2px 4px; margin: 2px; text-decoration: none;\">many</span> <span style=\"background-color: rgba(255, 255, 255, 0); padding: 2px 4px; margin: 2px; text-decoration: none;\">layout</span> <span style=\"background-color: rgba(255, 255, 255, 0); padding: 2px 4px; margin: 2px; text-decoration: none;\">consequences</span> <span style=\"background-color: rgba(255, 255, 255, 0); padding: 2px 4px; margin: 2px; text-decoration: none;\">0</span> <span style=\"background-color: rgba(255, 255, 255, 0); padding: 2px 4px; margin: 2px; text-decoration: none;\">.”</span> <span style=\"background-color: rgba(255, 255, 255, 0); padding: 2px 4px; margin: 2px; text-decoration: none;\">&gt;</span> <span style=\"background-color: rgba(255, 255, 255, 0); padding: 2px 4px; margin: 2px; text-decoration: none;\">time</span> <span style=\"background-color: rgba(255, 255, 255, 0); padding: 2px 4px; margin: 2px; text-decoration: none;\">atures</span> <span style=\"background-color: rgba(255, 255, 255, 0); padding: 2px 4px; margin: 2px; text-decoration: none;\">wave</span> <span style=\"background-color: rgba(255, 255, 255, 0); padding: 2px 4px; margin: 2px; text-decoration: none;\">layout</span> <span style=\"background-color: rgba(255, 255, 255, 0); padding: 2px 4px; margin: 2px; text-decoration: none;\">also</span> <span style=\"background-color: rgba(255, 255, 255, 0); padding: 2px 4px; margin: 2px; text-decoration: none;\">:</span> <span style=\"background-color: rgba(255, 255, 255, 0); padding: 2px 4px; margin: 2px; text-decoration: none;\">b</span> <span style=\"background-color: rgba(255, 255, 255, 0); padding: 2px 4px; margin: 2px; text-decoration: none;\">later</span> <span style=\"background-color: rgba(255, 255, 255, 0); padding: 2px 4px; margin: 2px; text-decoration: none;\">C</span> <span style=\"background-color: rgba(255, 255, 255, 0); padding: 2px 4px; margin: 2px; text-decoration: none;\">the</span> <span style=\"background-color: rgba(255, 255, 255, 0); padding: 2px 4px; margin: 2px; text-decoration: none;\">into</span> <span style=\"background-color: rgba(255, 255, 255, 0); padding: 2px 4px; margin: 2px; text-decoration: none;\">From</span> <span style=\"background-color: rgba(255, 255, 255, 0); padding: 2px 4px; margin: 2px; text-decoration: none;\">breath</span> <span style=\"background-color: rgba(255, 255, 255, 0); padding: 2px 4px; margin: 2px; text-decoration: none;\">ex</span> <span style=\"background-color: rgba(255, 255, 255, 0); padding: 2px 4px; margin: 2px; text-decoration: none;\">IN</span> <span style=\"background-color: rgba(255, 255, 255, 0); padding: 2px 4px; margin: 2px; text-decoration: none;\">ped</span> <span style=\"background-color: rgba(255, 255, 255, 0); padding: 2px 4px; margin: 2px; text-decoration: none;\">atype</span> <span style=\"background-color: rgba(255, 255, 255, 0); padding: 2px 4px; margin: 2px; text-decoration: none;\">terrified</span> <span style=\"background-color: rgba(255, 255, 255, 0); padding: 2px 4px; margin: 2px; text-decoration: none;\">the</span> <span style=\"background-color: rgba(255, 255, 255, 0); padding: 2px 4px; margin: 2px; text-decoration: none;\">same</span> <span style=\"background-color: rgba(255, 255, 255, 0); padding: 2px 4px; margin: 2px; text-decoration: none;\">puls</span> <span style=\"background-color: rgba(255, 255, 255, 0); padding: 2px 4px; margin: 2px; text-decoration: none;\">ago</span> <span style=\"background-color: rgba(255, 255, 255, 0); padding: 2px 4px; margin: 2px; text-decoration: none;\">φ</span> <span style=\"background-color: rgba(255, 255, 255, 0); padding: 2px 4px; margin: 2px; text-decoration: none;\">7</span> <span style=\"background-color: rgba(255, 255, 255, 0); padding: 2px 4px; margin: 2px; text-decoration: none;\">for</span> <span style=\"background-color: rgba(255, 255, 255, 0); padding: 2px 4px; margin: 2px; text-decoration: none;\">’</span> <span style=\"background-color: rgba(255, 255, 255, 0); padding: 2px 4px; margin: 2px; text-decoration: none;\">deciding</span> <span style=\"background-color: rgba(255, 255, 255, 0); padding: 2px 4px; margin: 2px; text-decoration: none;\">for</span> <span style=\"background-color: rgba(255, 255, 255, 0); padding: 2px 4px; margin: 2px; text-decoration: none;\">in</span> <span style=\"background-color: rgba(255, 255, 255, 0); padding: 2px 4px; margin: 2px; text-decoration: none;\">function</span> <span style=\"background-color: rgba(255, 255, 255, 0); padding: 2px 4px; margin: 2px; text-decoration: none;\">some</span> <span style=\"background-color: rgba(255, 255, 255, 0); padding: 2px 4px; margin: 2px; text-decoration: none;\">I</span> <span style=\"background-color: rgba(255, 255, 255, 0); padding: 2px 4px; margin: 2px; text-decoration: none;\">in</span> <span style=\"background-color: rgba(255, 255, 255, 0); padding: 2px 4px; margin: 2px; text-decoration: none;\">be</span> <span style=\"background-color: rgba(255, 255, 255, 0); padding: 2px 4px; margin: 2px; text-decoration: none;\">is</span> <span style=\"background-color: rgba(255, 255, 255, 0); padding: 2px 4px; margin: 2px; text-decoration: none;\">quantum</span> <span style=\"background-color: rgba(255, 255, 255, 0); padding: 2px 4px; margin: 2px; text-decoration: none;\">simple</span> <span style=\"background-color: rgba(255, 255, 255, 0); padding: 2px 4px; margin: 2px; text-decoration: none;\">my</span> <span style=\"background-color: rgba(255, 255, 255, 0); padding: 2px 4px; margin: 2px; text-decoration: none;\">hearing</span> <span style=\"background-color: rgba(255, 255, 255, 0); padding: 2px 4px; margin: 2px; text-decoration: none;\">rubbed</span> <span style=\"background-color: rgba(255, 255, 255, 0); padding: 2px 4px; margin: 2px; text-decoration: none;\">us</span> <span style=\"background-color: rgba(255, 255, 255, 0); padding: 2px 4px; margin: 2px; text-decoration: none;\">.</span> <span style=\"background-color: rgba(255, 255, 255, 0); padding: 2px 4px; margin: 2px; text-decoration: none;\">intention</span> <span style=\"background-color: rgba(255, 255, 255, 0); padding: 2px 4px; margin: 2px; text-decoration: none;\">layout</span> <span style=\"background-color: rgba(255, 255, 255, 0); padding: 2px 4px; margin: 2px; text-decoration: none;\">plans</span> <span style=\"background-color: rgba(255, 255, 255, 0); padding: 2px 4px; margin: 2px; text-decoration: none;\">the</span> <span style=\"background-color: rgba(255, 255, 255, 0); padding: 2px 4px; margin: 2px; text-decoration: none;\">}\\</span> <span style=\"background-color: rgba(255, 255, 255, 0); padding: 2px 4px; margin: 2px; text-decoration: none;\">to</span> <span style=\"background-color: rgba(255, 255, 255, 0); padding: 2px 4px; margin: 2px; text-decoration: none;\">G</span> <span style=\"background-color: rgba(255, 255, 255, 0); padding: 2px 4px; margin: 2px; text-decoration: none;\">affecting</span> <span style=\"background-color: rgba(255, 255, 255, 0); padding: 2px 4px; margin: 2px; text-decoration: none;\">system</span> <span style=\"background-color: rgba(255, 255, 255, 0); padding: 2px 4px; margin: 2px; text-decoration: none;\">syntax</span> <span style=\"background-color: rgba(255, 255, 255, 0); padding: 2px 4px; margin: 2px; text-decoration: none;\">useful</span> <span style=\"background-color: rgba(255, 255, 255, 0); padding: 2px 4px; margin: 2px; text-decoration: none;\">M</span> <span style=\"background-color: rgba(255, 255, 255, 0); padding: 2px 4px; margin: 2px; text-decoration: none;\">piece</span> <span style=\"background-color: rgba(255, 255, 255, 0); padding: 2px 4px; margin: 2px; text-decoration: none;\">&gt;\r",
       "</span> <span style=\"background-color: rgba(255, 255, 255, 0); padding: 2px 4px; margin: 2px; text-decoration: none;\">Tom</span> <span style=\"background-color: rgba(255, 255, 255, 0); padding: 2px 4px; margin: 2px; text-decoration: none;\">asons</span> <span style=\"background-color: rgba(255, 255, 255, 0); padding: 2px 4px; margin: 2px; text-decoration: none;\">ell</span> <span style=\"background-color: rgba(255, 255, 255, 0); padding: 2px 4px; margin: 2px; text-decoration: none;\">&lt;/</span> <span style=\"background-color: rgba(255, 255, 255, 0); padding: 2px 4px; margin: 2px; text-decoration: none;\">/</span> <span style=\"background-color: rgba(255, 255, 255, 0); padding: 2px 4px; margin: 2px; text-decoration: none;\">external</span> <span style=\"background-color: rgba(255, 255, 255, 0); padding: 2px 4px; margin: 2px; text-decoration: none;\">mill</span> <span style=\"background-color: rgba(255, 255, 255, 0); padding: 2px 4px; margin: 2px; text-decoration: none;\">it</span> <span style=\"background-color: rgba(255, 255, 255, 0); padding: 2px 4px; margin: 2px; text-decoration: none;\">ius</span> <span style=\"background-color: rgba(255, 255, 255, 0); padding: 2px 4px; margin: 2px; text-decoration: none;\">s</span> <span style=\"background-color: rgba(255, 255, 255, 0); padding: 2px 4px; margin: 2px; text-decoration: none;\">L</span> <span style=\"background-color: rgba(255, 255, 255, 0); padding: 2px 4px; margin: 2px; text-decoration: none;\">skills</span> <span style=\"background-color: rgba(255, 255, 255, 0); padding: 2px 4px; margin: 2px; text-decoration: none;\">description</span> <span style=\"background-color: rgba(255, 255, 255, 0); padding: 2px 4px; margin: 2px; text-decoration: none;\">\n",
       "</span> <span style=\"background-color: rgba(255, 255, 255, 0); padding: 2px 4px; margin: 2px; text-decoration: none;\">Role</span> <span style=\"background-color: rgba(255, 255, 255, 0); padding: 2px 4px; margin: 2px; text-decoration: none;\">ar</span> <span style=\"background-color: rgba(255, 255, 255, 0); padding: 2px 4px; margin: 2px; text-decoration: none;\">ár</span> <span style=\"background-color: rgba(255, 255, 255, 0); padding: 2px 4px; margin: 2px; text-decoration: none;\">-</span> <span style=\"background-color: rgba(255, 255, 255, 0); padding: 2px 4px; margin: 2px; text-decoration: none;\">TP</span> <span style=\"background-color: rgba(255, 255, 255, 0); padding: 2px 4px; margin: 2px; text-decoration: none;\">\n",
       "</span> <span style=\"background-color: rgba(255, 255, 255, 0); padding: 2px 4px; margin: 2px; text-decoration: none;\">pain</span> <span style=\"background-color: rgba(255, 255, 255, 0); padding: 2px 4px; margin: 2px; text-decoration: none;\">puzzle</span> <span style=\"background-color: rgba(255, 255, 255, 0); padding: 2px 4px; margin: 2px; text-decoration: none;\">:</span> <span style=\"background-color: rgba(255, 255, 255, 0); padding: 2px 4px; margin: 2px; text-decoration: none;\">My</span> <span style=\"background-color: rgba(255, 255, 255, 0); padding: 2px 4px; margin: 2px; text-decoration: none;\">are</span> <span style=\"background-color: rgba(255, 255, 255, 0); padding: 2px 4px; margin: 2px; text-decoration: none;\">.</span> <span style=\"background-color: rgba(255, 255, 255, 0); padding: 2px 4px; margin: 2px; text-decoration: none;\">2</span> <span style=\"background-color: rgba(255, 255, 255, 0); padding: 2px 4px; margin: 2px; text-decoration: none;\">years</span> <span style=\"background-color: rgba(255, 255, 255, 0); padding: 2px 4px; margin: 2px; text-decoration: none;\">worked</span> <span style=\"background-color: rgba(255, 255, 255, 0); padding: 2px 4px; margin: 2px; text-decoration: none;\">-</span> <span style=\"background-color: rgba(255, 255, 255, 0); padding: 2px 4px; margin: 2px; text-decoration: none;\">“</span> <span style=\"background-color: rgba(255, 255, 255, 0); padding: 2px 4px; margin: 2px; text-decoration: none;\">.</span> <span style=\"background-color: rgba(255, 255, 255, 0); padding: 2px 4px; margin: 2px; text-decoration: none;\">PD</span> <span style=\"background-color: rgba(255, 255, 255, 0); padding: 2px 4px; margin: 2px; text-decoration: none;\">own</span> <span style=\"background-color: rgba(255, 255, 255, 0); padding: 2px 4px; margin: 2px; text-decoration: none;\">irl</span> <span style=\"background-color: rgba(255, 255, 255, 0); padding: 2px 4px; margin: 2px; text-decoration: none;\">.</span> <span style=\"background-color: rgba(255, 255, 255, 0); padding: 2px 4px; margin: 2px; text-decoration: none;\">that</span> <span style=\"background-color: rgba(255, 255, 255, 0); padding: 2px 4px; margin: 2px; text-decoration: none;\">’</span> <span style=\"background-color: rgba(255, 255, 255, 0); padding: 2px 4px; margin: 2px; text-decoration: none;\">Bryan</span> <span style=\"background-color: rgba(255, 255, 255, 0); padding: 2px 4px; margin: 2px; text-decoration: none;\">.</span> <span style=\"background-color: rgba(255, 255, 255, 0); padding: 2px 4px; margin: 2px; text-decoration: none;\">stand</span> <span style=\"background-color: rgba(255, 255, 255, 0); padding: 2px 4px; margin: 2px; text-decoration: none;\">\n",
       "</span> <span style=\"background-color: rgba(255, 255, 255, 0); padding: 2px 4px; margin: 2px; text-decoration: none;\">end</span> <span style=\"background-color: rgba(255, 255, 255, 0); padding: 2px 4px; margin: 2px; text-decoration: none;\">paus</span> <span style=\"background-color: rgba(255, 255, 255, 0); padding: 2px 4px; margin: 2px; text-decoration: none;\">appy</span> <span style=\"background-color: rgba(255, 255, 255, 0); padding: 2px 4px; margin: 2px; text-decoration: none;\">a</span> <span style=\"background-color: rgba(255, 255, 255, 0); padding: 2px 4px; margin: 2px; text-decoration: none;\">layer</span> <span style=\"background-color: rgba(255, 255, 255, 0); padding: 2px 4px; margin: 2px; text-decoration: none;\">to</span> <span style=\"background-color: rgba(255, 255, 255, 0); padding: 2px 4px; margin: 2px; text-decoration: none;\">thickness</span> <span style=\"background-color: rgba(255, 255, 255, 0); padding: 2px 4px; margin: 2px; text-decoration: none;\">,</span> <span style=\"background-color: rgba(255, 255, 255, 0); padding: 2px 4px; margin: 2px; text-decoration: none;\">for</span> <span style=\"background-color: rgba(255, 255, 255, 0); padding: 2px 4px; margin: 2px; text-decoration: none;\">were</span> <span style=\"background-color: rgba(255, 255, 255, 0); padding: 2px 4px; margin: 2px; text-decoration: none;\">like</span> <span style=\"background-color: rgba(255, 255, 255, 0); padding: 2px 4px; margin: 2px; text-decoration: none;\">the</span> <span style=\"background-color: rgba(255, 255, 255, 0); padding: 2px 4px; margin: 2px; text-decoration: none;\">mid</span> <span style=\"background-color: rgba(255, 255, 255, 0); padding: 2px 4px; margin: 2px; text-decoration: none;\">are</span> <span style=\"background-color: rgba(255, 255, 255, 0); padding: 2px 4px; margin: 2px; text-decoration: none;\">believe</span> <span style=\"background-color: rgba(255, 255, 255, 0); padding: 2px 4px; margin: 2px; text-decoration: none;\">them</span> <span style=\"background-color: rgba(255, 255, 255, 0); padding: 2px 4px; margin: 2px; text-decoration: none;\">because</span> <span style=\"background-color: rgba(255, 255, 255, 0); padding: 2px 4px; margin: 2px; text-decoration: none;\">and</span> <span style=\"background-color: rgba(255, 255, 255, 0); padding: 2px 4px; margin: 2px; text-decoration: none;\">est</span> <span style=\"background-color: rgba(255, 255, 255, 0); padding: 2px 4px; margin: 2px; text-decoration: none;\">physical</span> <span style=\"background-color: rgba(255, 255, 255, 0); padding: 2px 4px; margin: 2px; text-decoration: none;\">Sch</span> <span style=\"background-color: rgba(255, 255, 255, 0); padding: 2px 4px; margin: 2px; text-decoration: none;\">solution</span> <span style=\"background-color: rgba(255, 255, 255, 0); padding: 2px 4px; margin: 2px; text-decoration: none;\">state</span> <span style=\"background-color: rgba(255, 255, 255, 0); padding: 2px 4px; margin: 2px; text-decoration: none;\">E</span> <span style=\"background-color: rgba(255, 255, 255, 0); padding: 2px 4px; margin: 2px; text-decoration: none;\">,</span> <span style=\"background-color: rgba(255, 255, 255, 0); padding: 2px 4px; margin: 2px; text-decoration: none;\">,</span> <span style=\"background-color: rgba(255, 255, 255, 0); padding: 2px 4px; margin: 2px; text-decoration: none;\">version</span> <span style=\"background-color: rgba(255, 255, 255, 0); padding: 2px 4px; margin: 2px; text-decoration: none;\">benefits</span> <span style=\"background-color: rgba(255, 255, 255, 0); padding: 2px 4px; margin: 2px; text-decoration: none;\">which</span> <span style=\"background-color: rgba(255, 255, 255, 0); padding: 2px 4px; margin: 2px; text-decoration: none;\">ring</span> <span style=\"background-color: rgba(255, 255, 255, 0); padding: 2px 4px; margin: 2px; text-decoration: none;\">multiple</span> <span style=\"background-color: rgba(255, 255, 255, 0); padding: 2px 4px; margin: 2px; text-decoration: none;\">ended</span> <span style=\"background-color: rgba(255, 255, 255, 0); padding: 2px 4px; margin: 2px; text-decoration: none;\">Brian</span> <span style=\"background-color: rgba(255, 255, 255, 0); padding: 2px 4px; margin: 2px; text-decoration: none;\">I</span> <span style=\"background-color: rgba(255, 255, 255, 0); padding: 2px 4px; margin: 2px; text-decoration: none;\">with</span> <span style=\"background-color: rgba(255, 255, 255, 0); padding: 2px 4px; margin: 2px; text-decoration: none;\">ling</span> <span style=\"background-color: rgba(255, 255, 255, 0); padding: 2px 4px; margin: 2px; text-decoration: none;\">practice</span> <span style=\"background-color: rgba(255, 255, 255, 0); padding: 2px 4px; margin: 2px; text-decoration: none;\">to</span> <span style=\"background-color: rgba(255, 255, 255, 0); padding: 2px 4px; margin: 2px; text-decoration: none;\">a</span> <span style=\"background-color: rgba(255, 255, 255, 0); padding: 2px 4px; margin: 2px; text-decoration: none;\">mechanisms</span> <span style=\"background-color: rgba(255, 255, 255, 0); padding: 2px 4px; margin: 2px; text-decoration: none;\">\n",
       "</span> <span style=\"background-color: rgba(255, 255, 255, 0); padding: 2px 4px; margin: 2px; text-decoration: none;\">Russian</span> <span style=\"background-color: rgba(255, 255, 255, 0); padding: 2px 4px; margin: 2px; text-decoration: none;\">i</span> <span style=\"background-color: rgba(255, 255, 255, 0); padding: 2px 4px; margin: 2px; text-decoration: none;\">\n",
       "</span> <span style=\"background-color: rgba(255, 255, 255, 0); padding: 2px 4px; margin: 2px; text-decoration: none;\">you</span> <span style=\"background-color: rgba(255, 255, 255, 0); padding: 2px 4px; margin: 2px; text-decoration: none;\">want</span> <span style=\"background-color: rgba(255, 255, 255, 0); padding: 2px 4px; margin: 2px; text-decoration: none;\">N</span> <span style=\"background-color: rgba(255, 255, 255, 0); padding: 2px 4px; margin: 2px; text-decoration: none;\">L</span> <span style=\"background-color: rgba(255, 255, 255, 0); padding: 2px 4px; margin: 2px; text-decoration: none;\">&lt;</span> <span style=\"background-color: rgba(255, 255, 255, 0); padding: 2px 4px; margin: 2px; text-decoration: none;\">_-</span> <span style=\"background-color: rgba(255, 255, 255, 0); padding: 2px 4px; margin: 2px; text-decoration: none;\">ile</span> <span style=\"background-color: rgba(255, 255, 255, 0); padding: 2px 4px; margin: 2px; text-decoration: none;\">the</span> <span style=\"background-color: rgba(255, 255, 255, 0); padding: 2px 4px; margin: 2px; text-decoration: none;\">order</span> <span style=\"background-color: rgba(255, 255, 255, 0); padding: 2px 4px; margin: 2px; text-decoration: none;\">ius</span> <span style=\"background-color: rgba(255, 255, 255, 0); padding: 2px 4px; margin: 2px; text-decoration: none;\">that</span> <span style=\"background-color: rgba(255, 255, 255, 0); padding: 2px 4px; margin: 2px; text-decoration: none;\">query</span> <span style=\"background-color: rgba(255, 255, 255, 0); padding: 2px 4px; margin: 2px; text-decoration: none;\">told</span> <span style=\"background-color: rgba(255, 255, 255, 0); padding: 2px 4px; margin: 2px; text-decoration: none;\">But</span> <span style=\"background-color: rgba(255, 255, 255, 0); padding: 2px 4px; margin: 2px; text-decoration: none;\">ic</span> <span style=\"background-color: rgba(255, 255, 255, 0); padding: 2px 4px; margin: 2px; text-decoration: none;\">him</span> <span style=\"background-color: rgba(255, 255, 255, 0); padding: 2px 4px; margin: 2px; text-decoration: none;\">(</span> <span style=\"background-color: rgba(255, 255, 255, 0); padding: 2px 4px; margin: 2px; text-decoration: none;\">to</span> <span style=\"background-color: rgba(255, 255, 255, 0); padding: 2px 4px; margin: 2px; text-decoration: none;\">a</span> <span style=\"background-color: rgba(255, 255, 255, 0); padding: 2px 4px; margin: 2px; text-decoration: none;\">setup</span> <span style=\"background-color: rgba(255, 255, 255, 0); padding: 2px 4px; margin: 2px; text-decoration: none;\">hind</span> <span style=\"background-color: rgba(255, 255, 255, 0); padding: 2px 4px; margin: 2px; text-decoration: none;\">try</span> <span style=\"background-color: rgba(255, 255, 255, 0); padding: 2px 4px; margin: 2px; text-decoration: none;\">orb</span> <span style=\"background-color: rgba(255, 255, 255, 0); padding: 2px 4px; margin: 2px; text-decoration: none;\">in</span> <span style=\"background-color: rgba(255, 255, 255, 0); padding: 2px 4px; margin: 2px; text-decoration: none;\">(</span> <span style=\"background-color: rgba(255, 255, 255, 0); padding: 2px 4px; margin: 2px; text-decoration: none;\">.</span> <span style=\"background-color: rgba(255, 255, 255, 0); padding: 2px 4px; margin: 2px; text-decoration: none;\">of</span> <span style=\"background-color: rgba(255, 255, 255, 0); padding: 2px 4px; margin: 2px; text-decoration: none;\">min</span> <span style=\"background-color: rgba(255, 255, 255, 0); padding: 2px 4px; margin: 2px; text-decoration: none;\">have</span> <span style=\"background-color: rgba(255, 255, 255, 0); padding: 2px 4px; margin: 2px; text-decoration: none;\">the</span> <span style=\"background-color: rgba(255, 255, 255, 0); padding: 2px 4px; margin: 2px; text-decoration: none;\">&lt;/</span> <span style=\"background-color: rgba(255, 255, 255, 0); padding: 2px 4px; margin: 2px; text-decoration: none;\">!</span> <span style=\"background-color: rgba(255, 255, 255, 0); padding: 2px 4px; margin: 2px; text-decoration: none;\">a</span> <span style=\"background-color: rgba(255, 255, 255, 0); padding: 2px 4px; margin: 2px; text-decoration: none;\">ual</span> <span style=\"background-color: rgba(255, 255, 255, 0); padding: 2px 4px; margin: 2px; text-decoration: none;\">=\"</span> <span style=\"background-color: rgba(255, 255, 255, 0); padding: 2px 4px; margin: 2px; text-decoration: none;\">m</span> <span style=\"background-color: rgba(255, 255, 255, 0); padding: 2px 4px; margin: 2px; text-decoration: none;\">_</span> <span style=\"background-color: rgba(255, 255, 255, 0); padding: 2px 4px; margin: 2px; text-decoration: none;\">2</span> <span style=\"background-color: rgba(255, 255, 255, 0); padding: 2px 4px; margin: 2px; text-decoration: none;\">ad</span> <span style=\"background-color: rgba(255, 255, 255, 0); padding: 2px 4px; margin: 2px; text-decoration: none;\">,</span> <span style=\"background-color: rgba(255, 255, 255, 0); padding: 2px 4px; margin: 2px; text-decoration: none;\">ass</span> <span style=\"background-color: rgba(255, 255, 255, 0); padding: 2px 4px; margin: 2px; text-decoration: none;\">she</span> <span style=\"background-color: rgba(255, 255, 255, 0); padding: 2px 4px; margin: 2px; text-decoration: none;\">m</span> <span style=\"background-color: rgba(255, 255, 255, 0); padding: 2px 4px; margin: 2px; text-decoration: none;\">and</span> <span style=\"background-color: rgba(255, 255, 255, 0); padding: 2px 4px; margin: 2px; text-decoration: none;\">ic</span> <span style=\"background-color: rgba(255, 255, 255, 0); padding: 2px 4px; margin: 2px; text-decoration: none;\">made</span> <span style=\"background-color: rgba(255, 255, 255, 0); padding: 2px 4px; margin: 2px; text-decoration: none;\">X</span> <span style=\"background-color: rgba(255, 255, 255, 0); padding: 2px 4px; margin: 2px; text-decoration: none;\">prop</span> <span style=\"background-color: rgba(255, 255, 255, 0); padding: 2px 4px; margin: 2px; text-decoration: none;\">tools</span> <span style=\"background-color: rgba(255, 255, 255, 0); padding: 2px 4px; margin: 2px; text-decoration: none;\">on</span> <span style=\"background-color: rgba(255, 255, 255, 0); padding: 2px 4px; margin: 2px; text-decoration: none;\">entire</span> </p>"
      ],
      "text/plain": [
       "<IPython.core.display.HTML object>"
      ]
     },
     "metadata": {},
     "output_type": "display_data"
    }
   ],
   "source": [
    "# # Feature to visualize\n",
    "# feature_index = 3597\n",
    "\n",
    "# # Process a single batch from the DataLoader\n",
    "# batch_embeddings, batch_text = next(iter(pile_data_loader))\n",
    "# batch_embeddings = batch_embeddings.to(torch.float32)\n",
    "# print(len(batch_text))\n",
    "# # Visualize the heatmap\n",
    "# sentence_heatmap_visualization(batch_text, batch_embeddings, feature_index, sae_model)\n"
   ]
  },
  {
   "cell_type": "code",
   "execution_count": 7,
   "id": "11c73f32",
   "metadata": {},
   "outputs": [],
   "source": [
    "def latent_distribution(text, tokenizer, model, sae_model, gather_residual_activations, layer_index=16):\n",
    "    # Prepare batch embeddings and text\n",
    "    batch_embeddings, batch_text = prepare_batch_embeddings(text, tokenizer, model, gather_residual_activations, layer_index)\n",
    "    batch_embeddings = batch_embeddings.to(torch.float32)\n",
    "\n",
    "    # Forward pass through SAE model\n",
    "    sae_model.eval()\n",
    "\n",
    "    with torch.no_grad():\n",
    "        _, _, _, latents = sae_model(batch_embeddings.cuda())\n",
    "    latents = latents.cpu().numpy()\n",
    "    \n",
    "    print(f\"Latents Shape: {latents.shape}\")\n",
    "\n",
    "    # Calculate min and max for the latents\n",
    "    latents_min = latents.min()\n",
    "    latents_max = latents.max()\n",
    "\n",
    "    # Min-max normalization per token\n",
    "    latents_normalized = (latents - latents.min(axis=-1, keepdims=True)) / (\n",
    "        latents.max(axis=-1, keepdims=True) - latents.min(axis=-1, keepdims=True)\n",
    "    )\n",
    "\n",
    "    print(f\"Latents Min: {latents_min}, Max: {latents_max}\")\n",
    "    latents = latents_normalized[2]\n",
    "    non_zero_activations = latents[latents > 0]\n",
    "    plt.figure(figsize=(10, 6))\n",
    "    plt.hist(non_zero_activations, bins=20, color='blue', alpha=0.7, density=True)\n",
    "    plt.title(\"Non-Zero Latent Activations Distribution\")\n",
    "    plt.xlabel(\"Activation Values\")\n",
    "    plt.ylabel(\"Frequency\")\n",
    "    plt.grid(alpha=0.3)\n",
    "    plt.show()\n",
    "\n"
   ]
  },
  {
   "cell_type": "markdown",
   "id": "32675307",
   "metadata": {},
   "source": [
    "### Activation strength Distribution"
   ]
  },
  {
   "cell_type": "code",
   "execution_count": 8,
   "id": "d8882ef9",
   "metadata": {},
   "outputs": [
    {
     "name": "stdout",
     "output_type": "stream",
     "text": [
      "Latents Shape: (16, 409600)\n",
      "Latents Min: 0.0, Max: 27.390993118286133\n"
     ]
    },
    {
     "data": {
      "image/png": "[encoded data removed]",
      "text/plain": [
       "<Figure size 1000x600 with 1 Axes>"
      ]
     },
     "metadata": {},
     "output_type": "display_data"
    }
   ],
   "source": [
    "latent_distribution(\n",
    "    text=\"The suspect was caught red-handed. Police confirmed the stolen goods were recovered.\",\n",
    "    tokenizer=tokenizer,\n",
    "    model=model,\n",
    "    sae_model=sae_model,\n",
    "    gather_residual_activations=gather_residual_activations,\n",
    "    layer_index=16,\n",
    ")"
   ]
  },
  {
   "cell_type": "markdown",
   "id": "5be8b405-d27e-489b-ad05-a08da21753fb",
   "metadata": {},
   "source": [
    "### Text generation and grouping them"
   ]
  },
  {
   "cell_type": "code",
   "execution_count": 56,
   "id": "1eb4299d",
   "metadata": {},
   "outputs": [],
   "source": [
    "def sentence_heatmap_visualization_with_activations(batch_text, activations, feature_index, activation_threshold=0):\n",
    "    # Extract normalized activations for the given feature index\n",
    "    feature_activations = activations[:, feature_index]\n",
    "\n",
    "    # Create HTML with tokens highlighted\n",
    "    sentence_html = \"\"\n",
    "    cmap = cm.get_cmap(\"Reds\")\n",
    "\n",
    "    # Define transparency scaling factor (e.g., 0.7 for 70% transparency)\n",
    "    alpha_scaling = 0.7\n",
    "\n",
    "    for token, act in zip(batch_text, feature_activations):\n",
    "        # Skip tokens with activations below the threshold\n",
    "        if act < activation_threshold or np.isnan(act):  # Handle NaN values gracefully\n",
    "            color_hex = \"rgba(255, 255, 255, 0)\"  # Fully transparent for below-threshold activation\n",
    "        else:\n",
    "            color = cmap(act)\n",
    "            color_hex = f\"rgba({int(color[0]*255)}, {int(color[1]*255)}, {int(color[2]*255)}, {color[3] * alpha_scaling})\"\n",
    "        token = token.replace(\"<\", \"&lt;\").replace(\">\", \"&gt;\")  # Sanitize tokens\n",
    "        sentence_html += f'<span style=\"background-color: {color_hex}; padding: 2px 4px; margin: 2px; text-decoration: none;\">{token}</span> '\n",
    "\n",
    "    # Render HTML visualizations as a single paragraph\n",
    "    html_visualization = f\"<p style='font-family: monospace; text-decoration: none;'>{sentence_html}</p>\"\n",
    "    display(HTML(html_visualization))\n",
    "\n",
    "\n",
    "def analyze_feature_responses_grouped_and_visualize(theme_texts, tokenizer, model, sae_model, gather_residual_activations, layer_index=16, activation_threshold=0.5, num_activations=0.8, display_n=5):\n",
    "    feature_to_text_map = defaultdict(list)  # Map each feature to sentences that activate it\n",
    "    dummy_index = len(theme_texts) - 1  # Index of the dummy sentence (last entry in theme_texts)\n",
    "    dummy_text = theme_texts[dummy_index]\n",
    "    theme_texts = theme_texts[:-1]\n",
    "\n",
    "    # Process each text and track feature activations\n",
    "    for text_id, text in enumerate(theme_texts):\n",
    "        # Prepare batch embeddings and text\n",
    "        batch_embeddings, batch_text = prepare_batch_embeddings(text, tokenizer, model, gather_residual_activations, layer_index)\n",
    "        batch_embeddings = batch_embeddings.to(torch.float32)\n",
    "\n",
    "        # Forward pass through SAE model\n",
    "        sae_model.eval()\n",
    "        with torch.no_grad():\n",
    "            _, _, _, latents = sae_model(batch_embeddings.cuda())\n",
    "        latents = latents.cpu().numpy()\n",
    "\n",
    "        # Min-max normalization per token\n",
    "        latents_normalized = (latents - latents.min(axis=-1, keepdims=True)) / (\n",
    "            latents.max(axis=-1, keepdims=True) - latents.min(axis=-1, keepdims=True) + 1e-8\n",
    "        )\n",
    "\n",
    "        # Identify features with activations above threshold\n",
    "        activated_features = (latents_normalized > activation_threshold).nonzero()[1].tolist()\n",
    "\n",
    "        # Avoid duplicates for the same feature\n",
    "        unique_features = set(activated_features)  # Deduplicate feature indices\n",
    "\n",
    "        # Track sentences and activations for each feature\n",
    "        for feature_index in unique_features:\n",
    "            if (text, batch_text, latents_normalized) not in feature_to_text_map[feature_index]:\n",
    "                feature_to_text_map[feature_index].append((text, batch_text, latents_normalized))\n",
    "\n",
    "    # Process the dummy sentence\n",
    "    dummy_embeddings, dummy_batch_text = prepare_batch_embeddings(dummy_text, tokenizer, model, gather_residual_activations, layer_index)\n",
    "    dummy_embeddings = dummy_embeddings.to(torch.float32)\n",
    "\n",
    "    sae_model.eval()\n",
    "    with torch.no_grad():\n",
    "        _, _, _, dummy_latents = sae_model(dummy_embeddings.cuda())\n",
    "    dummy_latents = dummy_latents.cpu().numpy()\n",
    "\n",
    "    # Min-max normalization for dummy latents\n",
    "    dummy_latents_normalized = (dummy_latents - dummy_latents.min(axis=-1, keepdims=True)) / (\n",
    "        dummy_latents.max(axis=-1, keepdims=True) - dummy_latents.min(axis=-1, keepdims=True) + 1e-8\n",
    "    )\n",
    "\n",
    "    # Always add the dummy sentence for visualization\n",
    "    for feature_index in range(dummy_latents_normalized.shape[1]):\n",
    "        feature_to_text_map[feature_index].append((dummy_text, dummy_batch_text, dummy_latents_normalized))\n",
    "\n",
    "    # Filter features activated by more than n texts\n",
    "    active_features = [feature for feature, texts in feature_to_text_map.items() if len(texts) / len(theme_texts) > num_activations]\n",
    "    print(f\"Features activated by more than {num_activations} texts: {len(active_features)}, {active_features}\")\n",
    "\n",
    "    run = 0\n",
    "    # Visualize for each feature\n",
    "    for feature_index in active_features:\n",
    "        if run >= display_n:\n",
    "            break\n",
    "\n",
    "        print(f\"\\nVisualizing Feature {feature_index}\")\n",
    "        for text_id, (text, batch_text, activations) in enumerate(feature_to_text_map[feature_index]):\n",
    "            sentence_heatmap_visualization_with_activations(batch_text, activations, feature_index, activation_threshold =activation_threshold)\n",
    "        run += 1\n",
    "\n",
    "    return active_features\n",
    "\n",
    "\n"
   ]
  },
  {
   "cell_type": "code",
   "execution_count": 68,
   "id": "71042719-482c-4fe1-a1d1-bc11cba43238",
   "metadata": {
    "scrolled": true
   },
   "outputs": [
    {
     "name": "stdout",
     "output_type": "stream",
     "text": [
      "Features activated by more than 0.8 texts: 39, [405890, 62213, 216328, 138634, 329740, 142349, 352145, 119703, 282520, 375193, 347415, 214041, 42401, 354727, 267179, 167599, 273973, 221496, 68409, 87998, 164031, 82497, 315076, 59337, 139480, 38745, 314588, 293981, 72798, 132456, 264684, 368754, 346738, 250741, 296313, 245116, 199816, 356024, 3190]\n",
      "\n",
      "Visualizing Feature 405890\n"
     ]
    },
    {
     "name": "stderr",
     "output_type": "stream",
     "text": [
      "/tmp/ipykernel_633169/1808605176.py:7: MatplotlibDeprecationWarning: The get_cmap function was deprecated in Matplotlib 3.7 and will be removed in 3.11. Use ``matplotlib.colormaps[name]`` or ``matplotlib.colormaps.get_cmap()`` or ``pyplot.get_cmap()`` instead.\n",
      "  cmap = cm.get_cmap(\"Reds\")\n"
     ]
    },
    {
     "data": {
      "text/html": [
       "<p style='font-family: monospace; text-decoration: none;'><span style=\"background-color: rgba(255, 255, 255, 0); padding: 2px 4px; margin: 2px; text-decoration: none;\">The</span> <span style=\"background-color: rgba(255, 255, 255, 0); padding: 2px 4px; margin: 2px; text-decoration: none;\">suspect</span> <span style=\"background-color: rgba(255, 255, 255, 0); padding: 2px 4px; margin: 2px; text-decoration: none;\">was</span> <span style=\"background-color: rgba(255, 255, 255, 0); padding: 2px 4px; margin: 2px; text-decoration: none;\">caught</span> <span style=\"background-color: rgba(255, 255, 255, 0); padding: 2px 4px; margin: 2px; text-decoration: none;\">red</span> <span style=\"background-color: rgba(255, 255, 255, 0); padding: 2px 4px; margin: 2px; text-decoration: none;\">-</span> <span style=\"background-color: rgba(200, 23, 28, 0.7); padding: 2px 4px; margin: 2px; text-decoration: none;\">handed</span> <span style=\"background-color: rgba(255, 255, 255, 0); padding: 2px 4px; margin: 2px; text-decoration: none;\">.</span> <span style=\"background-color: rgba(255, 255, 255, 0); padding: 2px 4px; margin: 2px; text-decoration: none;\">Police</span> <span style=\"background-color: rgba(255, 255, 255, 0); padding: 2px 4px; margin: 2px; text-decoration: none;\">confirmed</span> <span style=\"background-color: rgba(255, 255, 255, 0); padding: 2px 4px; margin: 2px; text-decoration: none;\">the</span> <span style=\"background-color: rgba(255, 255, 255, 0); padding: 2px 4px; margin: 2px; text-decoration: none;\">stolen</span> <span style=\"background-color: rgba(255, 255, 255, 0); padding: 2px 4px; margin: 2px; text-decoration: none;\">goods</span> <span style=\"background-color: rgba(255, 255, 255, 0); padding: 2px 4px; margin: 2px; text-decoration: none;\">were</span> <span style=\"background-color: rgba(103, 0, 12, 0.7); padding: 2px 4px; margin: 2px; text-decoration: none;\">recovered</span> <span style=\"background-color: rgba(255, 255, 255, 0); padding: 2px 4px; margin: 2px; text-decoration: none;\">.</span> </p>"
      ],
      "text/plain": [
       "<IPython.core.display.HTML object>"
      ]
     },
     "metadata": {},
     "output_type": "display_data"
    },
    {
     "data": {
      "text/html": [
       "<p style='font-family: monospace; text-decoration: none;'><span style=\"background-color: rgba(255, 255, 255, 0); padding: 2px 4px; margin: 2px; text-decoration: none;\">The</span> <span style=\"background-color: rgba(255, 255, 255, 0); padding: 2px 4px; margin: 2px; text-decoration: none;\">crime</span> <span style=\"background-color: rgba(255, 255, 255, 0); padding: 2px 4px; margin: 2px; text-decoration: none;\">rate</span> <span style=\"background-color: rgba(255, 255, 255, 0); padding: 2px 4px; margin: 2px; text-decoration: none;\">in</span> <span style=\"background-color: rgba(255, 255, 255, 0); padding: 2px 4px; margin: 2px; text-decoration: none;\">urban</span> <span style=\"background-color: rgba(255, 255, 255, 0); padding: 2px 4px; margin: 2px; text-decoration: none;\">areas</span> <span style=\"background-color: rgba(255, 255, 255, 0); padding: 2px 4px; margin: 2px; text-decoration: none;\">has</span> <span style=\"background-color: rgba(255, 255, 255, 0); padding: 2px 4px; margin: 2px; text-decoration: none;\">stead</span> <span style=\"background-color: rgba(255, 255, 255, 0); padding: 2px 4px; margin: 2px; text-decoration: none;\">ily</span> <span style=\"background-color: rgba(205, 26, 30, 0.7); padding: 2px 4px; margin: 2px; text-decoration: none;\">increased</span> <span style=\"background-color: rgba(255, 255, 255, 0); padding: 2px 4px; margin: 2px; text-decoration: none;\">over</span> <span style=\"background-color: rgba(255, 255, 255, 0); padding: 2px 4px; margin: 2px; text-decoration: none;\">the</span> <span style=\"background-color: rgba(255, 255, 255, 0); padding: 2px 4px; margin: 2px; text-decoration: none;\">past</span> <span style=\"background-color: rgba(207, 28, 31, 0.7); padding: 2px 4px; margin: 2px; text-decoration: none;\">decade</span> <span style=\"background-color: rgba(255, 255, 255, 0); padding: 2px 4px; margin: 2px; text-decoration: none;\">.</span> </p>"
      ],
      "text/plain": [
       "<IPython.core.display.HTML object>"
      ]
     },
     "metadata": {},
     "output_type": "display_data"
    },
    {
     "data": {
      "text/html": [
       "<p style='font-family: monospace; text-decoration: none;'><span style=\"background-color: rgba(255, 255, 255, 0); padding: 2px 4px; margin: 2px; text-decoration: none;\">Law</span> <span style=\"background-color: rgba(255, 255, 255, 0); padding: 2px 4px; margin: 2px; text-decoration: none;\">enforcement</span> <span style=\"background-color: rgba(255, 255, 255, 0); padding: 2px 4px; margin: 2px; text-decoration: none;\">officers</span> <span style=\"background-color: rgba(255, 255, 255, 0); padding: 2px 4px; margin: 2px; text-decoration: none;\">are</span> <span style=\"background-color: rgba(255, 255, 255, 0); padding: 2px 4px; margin: 2px; text-decoration: none;\">working</span> <span style=\"background-color: rgba(255, 255, 255, 0); padding: 2px 4px; margin: 2px; text-decoration: none;\">hard</span> <span style=\"background-color: rgba(255, 255, 255, 0); padding: 2px 4px; margin: 2px; text-decoration: none;\">to</span> <span style=\"background-color: rgba(255, 255, 255, 0); padding: 2px 4px; margin: 2px; text-decoration: none;\">combat</span> <span style=\"background-color: rgba(255, 255, 255, 0); padding: 2px 4px; margin: 2px; text-decoration: none;\">rising</span> <span style=\"background-color: rgba(255, 255, 255, 0); padding: 2px 4px; margin: 2px; text-decoration: none;\">theft</span> <span style=\"background-color: rgba(151, 11, 19, 0.7); padding: 2px 4px; margin: 2px; text-decoration: none;\">cases</span> <span style=\"background-color: rgba(255, 255, 255, 0); padding: 2px 4px; margin: 2px; text-decoration: none;\">.</span> </p>"
      ],
      "text/plain": [
       "<IPython.core.display.HTML object>"
      ]
     },
     "metadata": {},
     "output_type": "display_data"
    },
    {
     "data": {
      "text/html": [
       "<p style='font-family: monospace; text-decoration: none;'><span style=\"background-color: rgba(255, 255, 255, 0); padding: 2px 4px; margin: 2px; text-decoration: none;\">Recent</span> <span style=\"background-color: rgba(255, 255, 255, 0); padding: 2px 4px; margin: 2px; text-decoration: none;\">statistics</span> <span style=\"background-color: rgba(255, 255, 255, 0); padding: 2px 4px; margin: 2px; text-decoration: none;\">show</span> <span style=\"background-color: rgba(255, 255, 255, 0); padding: 2px 4px; margin: 2px; text-decoration: none;\">an</span> <span style=\"background-color: rgba(255, 255, 255, 0); padding: 2px 4px; margin: 2px; text-decoration: none;\">alarm</span> <span style=\"background-color: rgba(255, 255, 255, 0); padding: 2px 4px; margin: 2px; text-decoration: none;\">ing</span> <span style=\"background-color: rgba(255, 255, 255, 0); padding: 2px 4px; margin: 2px; text-decoration: none;\">rise</span> <span style=\"background-color: rgba(255, 255, 255, 0); padding: 2px 4px; margin: 2px; text-decoration: none;\">in</span> <span style=\"background-color: rgba(255, 255, 255, 0); padding: 2px 4px; margin: 2px; text-decoration: none;\">bur</span> <span style=\"background-color: rgba(255, 255, 255, 0); padding: 2px 4px; margin: 2px; text-decoration: none;\">gl</span> <span style=\"background-color: rgba(255, 255, 255, 0); padding: 2px 4px; margin: 2px; text-decoration: none;\">ary</span> <span style=\"background-color: rgba(128, 6, 16, 0.7); padding: 2px 4px; margin: 2px; text-decoration: none;\">incidents</span> <span style=\"background-color: rgba(255, 255, 255, 0); padding: 2px 4px; margin: 2px; text-decoration: none;\">in</span> <span style=\"background-color: rgba(255, 255, 255, 0); padding: 2px 4px; margin: 2px; text-decoration: none;\">the</span> <span style=\"background-color: rgba(210, 30, 31, 0.7); padding: 2px 4px; margin: 2px; text-decoration: none;\">neighborhood</span> <span style=\"background-color: rgba(255, 255, 255, 0); padding: 2px 4px; margin: 2px; text-decoration: none;\">.</span> </p>"
      ],
      "text/plain": [
       "<IPython.core.display.HTML object>"
      ]
     },
     "metadata": {},
     "output_type": "display_data"
    },
    {
     "data": {
      "text/html": [
       "<p style='font-family: monospace; text-decoration: none;'><span style=\"background-color: rgba(255, 255, 255, 0); padding: 2px 4px; margin: 2px; text-decoration: none;\">The</span> <span style=\"background-color: rgba(255, 255, 255, 0); padding: 2px 4px; margin: 2px; text-decoration: none;\">investigation</span> <span style=\"background-color: rgba(255, 255, 255, 0); padding: 2px 4px; margin: 2px; text-decoration: none;\">into</span> <span style=\"background-color: rgba(255, 255, 255, 0); padding: 2px 4px; margin: 2px; text-decoration: none;\">the</span> <span style=\"background-color: rgba(255, 255, 255, 0); padding: 2px 4px; margin: 2px; text-decoration: none;\">high</span> <span style=\"background-color: rgba(255, 255, 255, 0); padding: 2px 4px; margin: 2px; text-decoration: none;\">-</span> <span style=\"background-color: rgba(255, 255, 255, 0); padding: 2px 4px; margin: 2px; text-decoration: none;\">profile</span> <span style=\"background-color: rgba(255, 255, 255, 0); padding: 2px 4px; margin: 2px; text-decoration: none;\">murder</span> <span style=\"background-color: rgba(255, 255, 255, 0); padding: 2px 4px; margin: 2px; text-decoration: none;\">case</span> <span style=\"background-color: rgba(255, 255, 255, 0); padding: 2px 4px; margin: 2px; text-decoration: none;\">is</span> <span style=\"background-color: rgba(255, 255, 255, 0); padding: 2px 4px; margin: 2px; text-decoration: none;\">still</span> <span style=\"background-color: rgba(103, 0, 12, 0.7); padding: 2px 4px; margin: 2px; text-decoration: none;\">ongoing</span> <span style=\"background-color: rgba(255, 255, 255, 0); padding: 2px 4px; margin: 2px; text-decoration: none;\">.</span> </p>"
      ],
      "text/plain": [
       "<IPython.core.display.HTML object>"
      ]
     },
     "metadata": {},
     "output_type": "display_data"
    },
    {
     "data": {
      "text/html": [
       "<p style='font-family: monospace; text-decoration: none;'><span style=\"background-color: rgba(255, 255, 255, 0); padding: 2px 4px; margin: 2px; text-decoration: none;\">Cy</span> <span style=\"background-color: rgba(255, 255, 255, 0); padding: 2px 4px; margin: 2px; text-decoration: none;\">ber</span> <span style=\"background-color: rgba(255, 255, 255, 0); padding: 2px 4px; margin: 2px; text-decoration: none;\">cr</span> <span style=\"background-color: rgba(255, 255, 255, 0); padding: 2px 4px; margin: 2px; text-decoration: none;\">ime</span> <span style=\"background-color: rgba(255, 255, 255, 0); padding: 2px 4px; margin: 2px; text-decoration: none;\">is</span> <span style=\"background-color: rgba(255, 255, 255, 0); padding: 2px 4px; margin: 2px; text-decoration: none;\">becoming</span> <span style=\"background-color: rgba(255, 255, 255, 0); padding: 2px 4px; margin: 2px; text-decoration: none;\">a</span> <span style=\"background-color: rgba(255, 255, 255, 0); padding: 2px 4px; margin: 2px; text-decoration: none;\">significant</span> <span style=\"background-color: rgba(255, 255, 255, 0); padding: 2px 4px; margin: 2px; text-decoration: none;\">threat</span> <span style=\"background-color: rgba(255, 255, 255, 0); padding: 2px 4px; margin: 2px; text-decoration: none;\">to</span> <span style=\"background-color: rgba(255, 255, 255, 0); padding: 2px 4px; margin: 2px; text-decoration: none;\">online</span> <span style=\"background-color: rgba(255, 255, 255, 0); padding: 2px 4px; margin: 2px; text-decoration: none;\">businesses</span> <span style=\"background-color: rgba(255, 255, 255, 0); padding: 2px 4px; margin: 2px; text-decoration: none;\">and</span> <span style=\"background-color: rgba(205, 26, 30, 0.7); padding: 2px 4px; margin: 2px; text-decoration: none;\">individuals</span> <span style=\"background-color: rgba(255, 255, 255, 0); padding: 2px 4px; margin: 2px; text-decoration: none;\">.</span> </p>"
      ],
      "text/plain": [
       "<IPython.core.display.HTML object>"
      ]
     },
     "metadata": {},
     "output_type": "display_data"
    },
    {
     "data": {
      "text/html": [
       "<p style='font-family: monospace; text-decoration: none;'><span style=\"background-color: rgba(255, 255, 255, 0); padding: 2px 4px; margin: 2px; text-decoration: none;\">Rob</span> <span style=\"background-color: rgba(255, 255, 255, 0); padding: 2px 4px; margin: 2px; text-decoration: none;\">bery</span> <span style=\"background-color: rgba(255, 255, 255, 0); padding: 2px 4px; margin: 2px; text-decoration: none;\">attempts</span> <span style=\"background-color: rgba(255, 255, 255, 0); padding: 2px 4px; margin: 2px; text-decoration: none;\">in</span> <span style=\"background-color: rgba(255, 255, 255, 0); padding: 2px 4px; margin: 2px; text-decoration: none;\">broad</span> <span style=\"background-color: rgba(255, 255, 255, 0); padding: 2px 4px; margin: 2px; text-decoration: none;\">day</span> <span style=\"background-color: rgba(205, 26, 30, 0.7); padding: 2px 4px; margin: 2px; text-decoration: none;\">light</span> <span style=\"background-color: rgba(255, 255, 255, 0); padding: 2px 4px; margin: 2px; text-decoration: none;\">have</span> <span style=\"background-color: rgba(255, 255, 255, 0); padding: 2px 4px; margin: 2px; text-decoration: none;\">left</span> <span style=\"background-color: rgba(255, 255, 255, 0); padding: 2px 4px; margin: 2px; text-decoration: none;\">citizens</span> <span style=\"background-color: rgba(197, 22, 27, 0.7); padding: 2px 4px; margin: 2px; text-decoration: none;\">worried</span> <span style=\"background-color: rgba(255, 255, 255, 0); padding: 2px 4px; margin: 2px; text-decoration: none;\">about</span> <span style=\"background-color: rgba(255, 255, 255, 0); padding: 2px 4px; margin: 2px; text-decoration: none;\">their</span> <span style=\"background-color: rgba(103, 0, 12, 0.7); padding: 2px 4px; margin: 2px; text-decoration: none;\">safety</span> <span style=\"background-color: rgba(255, 255, 255, 0); padding: 2px 4px; margin: 2px; text-decoration: none;\">.</span> </p>"
      ],
      "text/plain": [
       "<IPython.core.display.HTML object>"
      ]
     },
     "metadata": {},
     "output_type": "display_data"
    },
    {
     "data": {
      "text/html": [
       "<p style='font-family: monospace; text-decoration: none;'><span style=\"background-color: rgba(255, 255, 255, 0); padding: 2px 4px; margin: 2px; text-decoration: none;\">A</span> <span style=\"background-color: rgba(255, 255, 255, 0); padding: 2px 4px; margin: 2px; text-decoration: none;\">series</span> <span style=\"background-color: rgba(255, 255, 255, 0); padding: 2px 4px; margin: 2px; text-decoration: none;\">of</span> <span style=\"background-color: rgba(255, 255, 255, 0); padding: 2px 4px; margin: 2px; text-decoration: none;\">fraud</span> <span style=\"background-color: rgba(255, 255, 255, 0); padding: 2px 4px; margin: 2px; text-decoration: none;\">cases</span> <span style=\"background-color: rgba(255, 255, 255, 0); padding: 2px 4px; margin: 2px; text-decoration: none;\">involving</span> <span style=\"background-color: rgba(255, 255, 255, 0); padding: 2px 4px; margin: 2px; text-decoration: none;\">credit</span> <span style=\"background-color: rgba(255, 255, 255, 0); padding: 2px 4px; margin: 2px; text-decoration: none;\">cards</span> <span style=\"background-color: rgba(255, 255, 255, 0); padding: 2px 4px; margin: 2px; text-decoration: none;\">has</span> <span style=\"background-color: rgba(255, 255, 255, 0); padding: 2px 4px; margin: 2px; text-decoration: none;\">been</span> <span style=\"background-color: rgba(212, 33, 32, 0.7); padding: 2px 4px; margin: 2px; text-decoration: none;\">reported</span> <span style=\"background-color: rgba(206, 27, 30, 0.7); padding: 2px 4px; margin: 2px; text-decoration: none;\">recently</span> <span style=\"background-color: rgba(255, 255, 255, 0); padding: 2px 4px; margin: 2px; text-decoration: none;\">.</span> </p>"
      ],
      "text/plain": [
       "<IPython.core.display.HTML object>"
      ]
     },
     "metadata": {},
     "output_type": "display_data"
    },
    {
     "data": {
      "text/html": [
       "<p style='font-family: monospace; text-decoration: none;'><span style=\"background-color: rgba(255, 255, 255, 0); padding: 2px 4px; margin: 2px; text-decoration: none;\">G</span> <span style=\"background-color: rgba(255, 255, 255, 0); padding: 2px 4px; margin: 2px; text-decoration: none;\">ang</span> <span style=\"background-color: rgba(255, 255, 255, 0); padding: 2px 4px; margin: 2px; text-decoration: none;\">violence</span> <span style=\"background-color: rgba(255, 255, 255, 0); padding: 2px 4px; margin: 2px; text-decoration: none;\">in</span> <span style=\"background-color: rgba(255, 255, 255, 0); padding: 2px 4px; margin: 2px; text-decoration: none;\">the</span> <span style=\"background-color: rgba(255, 255, 255, 0); padding: 2px 4px; margin: 2px; text-decoration: none;\">city</span> <span style=\"background-color: rgba(255, 255, 255, 0); padding: 2px 4px; margin: 2px; text-decoration: none;\">is</span> <span style=\"background-color: rgba(255, 255, 255, 0); padding: 2px 4px; margin: 2px; text-decoration: none;\">being</span> <span style=\"background-color: rgba(255, 255, 255, 0); padding: 2px 4px; margin: 2px; text-decoration: none;\">addressed</span> <span style=\"background-color: rgba(255, 255, 255, 0); padding: 2px 4px; margin: 2px; text-decoration: none;\">with</span> <span style=\"background-color: rgba(255, 255, 255, 0); padding: 2px 4px; margin: 2px; text-decoration: none;\">increased</span> <span style=\"background-color: rgba(255, 255, 255, 0); padding: 2px 4px; margin: 2px; text-decoration: none;\">police</span> <span style=\"background-color: rgba(255, 255, 255, 0); padding: 2px 4px; margin: 2px; text-decoration: none;\">patrol</span> <span style=\"background-color: rgba(138, 8, 17, 0.7); padding: 2px 4px; margin: 2px; text-decoration: none;\">s</span> <span style=\"background-color: rgba(255, 255, 255, 0); padding: 2px 4px; margin: 2px; text-decoration: none;\">.</span> </p>"
      ],
      "text/plain": [
       "<IPython.core.display.HTML object>"
      ]
     },
     "metadata": {},
     "output_type": "display_data"
    },
    {
     "data": {
      "text/html": [
       "<p style='font-family: monospace; text-decoration: none;'><span style=\"background-color: rgba(255, 255, 255, 0); padding: 2px 4px; margin: 2px; text-decoration: none;\">The</span> <span style=\"background-color: rgba(255, 255, 255, 0); padding: 2px 4px; margin: 2px; text-decoration: none;\">quick</span> <span style=\"background-color: rgba(255, 255, 255, 0); padding: 2px 4px; margin: 2px; text-decoration: none;\">brown</span> <span style=\"background-color: rgba(255, 255, 255, 0); padding: 2px 4px; margin: 2px; text-decoration: none;\">f</span> <span style=\"background-color: rgba(255, 255, 255, 0); padding: 2px 4px; margin: 2px; text-decoration: none;\">ox</span> <span style=\"background-color: rgba(255, 255, 255, 0); padding: 2px 4px; margin: 2px; text-decoration: none;\">j</span> <span style=\"background-color: rgba(255, 255, 255, 0); padding: 2px 4px; margin: 2px; text-decoration: none;\">umps</span> <span style=\"background-color: rgba(255, 255, 255, 0); padding: 2px 4px; margin: 2px; text-decoration: none;\">over</span> <span style=\"background-color: rgba(255, 255, 255, 0); padding: 2px 4px; margin: 2px; text-decoration: none;\">the</span> <span style=\"background-color: rgba(255, 255, 255, 0); padding: 2px 4px; margin: 2px; text-decoration: none;\">lazy</span> <span style=\"background-color: rgba(255, 255, 255, 0); padding: 2px 4px; margin: 2px; text-decoration: none;\">dog</span> <span style=\"background-color: rgba(255, 255, 255, 0); padding: 2px 4px; margin: 2px; text-decoration: none;\">.</span> </p>"
      ],
      "text/plain": [
       "<IPython.core.display.HTML object>"
      ]
     },
     "metadata": {},
     "output_type": "display_data"
    },
    {
     "name": "stdout",
     "output_type": "stream",
     "text": [
      "\n",
      "Visualizing Feature 62213\n"
     ]
    },
    {
     "data": {
      "text/html": [
       "<p style='font-family: monospace; text-decoration: none;'><span style=\"background-color: rgba(147, 10, 18, 0.7); padding: 2px 4px; margin: 2px; text-decoration: none;\">The</span> <span style=\"background-color: rgba(255, 255, 255, 0); padding: 2px 4px; margin: 2px; text-decoration: none;\">suspect</span> <span style=\"background-color: rgba(255, 255, 255, 0); padding: 2px 4px; margin: 2px; text-decoration: none;\">was</span> <span style=\"background-color: rgba(255, 255, 255, 0); padding: 2px 4px; margin: 2px; text-decoration: none;\">caught</span> <span style=\"background-color: rgba(255, 255, 255, 0); padding: 2px 4px; margin: 2px; text-decoration: none;\">red</span> <span style=\"background-color: rgba(128, 6, 16, 0.7); padding: 2px 4px; margin: 2px; text-decoration: none;\">-</span> <span style=\"background-color: rgba(255, 255, 255, 0); padding: 2px 4px; margin: 2px; text-decoration: none;\">handed</span> <span style=\"background-color: rgba(255, 255, 255, 0); padding: 2px 4px; margin: 2px; text-decoration: none;\">.</span> <span style=\"background-color: rgba(255, 255, 255, 0); padding: 2px 4px; margin: 2px; text-decoration: none;\">Police</span> <span style=\"background-color: rgba(255, 255, 255, 0); padding: 2px 4px; margin: 2px; text-decoration: none;\">confirmed</span> <span style=\"background-color: rgba(255, 255, 255, 0); padding: 2px 4px; margin: 2px; text-decoration: none;\">the</span> <span style=\"background-color: rgba(255, 255, 255, 0); padding: 2px 4px; margin: 2px; text-decoration: none;\">stolen</span> <span style=\"background-color: rgba(255, 255, 255, 0); padding: 2px 4px; margin: 2px; text-decoration: none;\">goods</span> <span style=\"background-color: rgba(255, 255, 255, 0); padding: 2px 4px; margin: 2px; text-decoration: none;\">were</span> <span style=\"background-color: rgba(255, 255, 255, 0); padding: 2px 4px; margin: 2px; text-decoration: none;\">recovered</span> <span style=\"background-color: rgba(255, 255, 255, 0); padding: 2px 4px; margin: 2px; text-decoration: none;\">.</span> </p>"
      ],
      "text/plain": [
       "<IPython.core.display.HTML object>"
      ]
     },
     "metadata": {},
     "output_type": "display_data"
    },
    {
     "data": {
      "text/html": [
       "<p style='font-family: monospace; text-decoration: none;'><span style=\"background-color: rgba(147, 10, 18, 0.7); padding: 2px 4px; margin: 2px; text-decoration: none;\">The</span> <span style=\"background-color: rgba(255, 255, 255, 0); padding: 2px 4px; margin: 2px; text-decoration: none;\">crime</span> <span style=\"background-color: rgba(255, 255, 255, 0); padding: 2px 4px; margin: 2px; text-decoration: none;\">rate</span> <span style=\"background-color: rgba(128, 6, 16, 0.7); padding: 2px 4px; margin: 2px; text-decoration: none;\">in</span> <span style=\"background-color: rgba(255, 255, 255, 0); padding: 2px 4px; margin: 2px; text-decoration: none;\">urban</span> <span style=\"background-color: rgba(255, 255, 255, 0); padding: 2px 4px; margin: 2px; text-decoration: none;\">areas</span> <span style=\"background-color: rgba(255, 255, 255, 0); padding: 2px 4px; margin: 2px; text-decoration: none;\">has</span> <span style=\"background-color: rgba(255, 255, 255, 0); padding: 2px 4px; margin: 2px; text-decoration: none;\">stead</span> <span style=\"background-color: rgba(255, 255, 255, 0); padding: 2px 4px; margin: 2px; text-decoration: none;\">ily</span> <span style=\"background-color: rgba(255, 255, 255, 0); padding: 2px 4px; margin: 2px; text-decoration: none;\">increased</span> <span style=\"background-color: rgba(255, 255, 255, 0); padding: 2px 4px; margin: 2px; text-decoration: none;\">over</span> <span style=\"background-color: rgba(255, 255, 255, 0); padding: 2px 4px; margin: 2px; text-decoration: none;\">the</span> <span style=\"background-color: rgba(255, 255, 255, 0); padding: 2px 4px; margin: 2px; text-decoration: none;\">past</span> <span style=\"background-color: rgba(255, 255, 255, 0); padding: 2px 4px; margin: 2px; text-decoration: none;\">decade</span> <span style=\"background-color: rgba(255, 255, 255, 0); padding: 2px 4px; margin: 2px; text-decoration: none;\">.</span> </p>"
      ],
      "text/plain": [
       "<IPython.core.display.HTML object>"
      ]
     },
     "metadata": {},
     "output_type": "display_data"
    },
    {
     "data": {
      "text/html": [
       "<p style='font-family: monospace; text-decoration: none;'><span style=\"background-color: rgba(149, 11, 19, 0.7); padding: 2px 4px; margin: 2px; text-decoration: none;\">Law</span> <span style=\"background-color: rgba(255, 255, 255, 0); padding: 2px 4px; margin: 2px; text-decoration: none;\">enforcement</span> <span style=\"background-color: rgba(255, 255, 255, 0); padding: 2px 4px; margin: 2px; text-decoration: none;\">officers</span> <span style=\"background-color: rgba(255, 255, 255, 0); padding: 2px 4px; margin: 2px; text-decoration: none;\">are</span> <span style=\"background-color: rgba(212, 33, 32, 0.7); padding: 2px 4px; margin: 2px; text-decoration: none;\">working</span> <span style=\"background-color: rgba(214, 35, 33, 0.7); padding: 2px 4px; margin: 2px; text-decoration: none;\">hard</span> <span style=\"background-color: rgba(128, 6, 16, 0.7); padding: 2px 4px; margin: 2px; text-decoration: none;\">to</span> <span style=\"background-color: rgba(255, 255, 255, 0); padding: 2px 4px; margin: 2px; text-decoration: none;\">combat</span> <span style=\"background-color: rgba(255, 255, 255, 0); padding: 2px 4px; margin: 2px; text-decoration: none;\">rising</span> <span style=\"background-color: rgba(255, 255, 255, 0); padding: 2px 4px; margin: 2px; text-decoration: none;\">theft</span> <span style=\"background-color: rgba(255, 255, 255, 0); padding: 2px 4px; margin: 2px; text-decoration: none;\">cases</span> <span style=\"background-color: rgba(255, 255, 255, 0); padding: 2px 4px; margin: 2px; text-decoration: none;\">.</span> </p>"
      ],
      "text/plain": [
       "<IPython.core.display.HTML object>"
      ]
     },
     "metadata": {},
     "output_type": "display_data"
    },
    {
     "data": {
      "text/html": [
       "<p style='font-family: monospace; text-decoration: none;'><span style=\"background-color: rgba(155, 12, 19, 0.7); padding: 2px 4px; margin: 2px; text-decoration: none;\">Recent</span> <span style=\"background-color: rgba(255, 255, 255, 0); padding: 2px 4px; margin: 2px; text-decoration: none;\">statistics</span> <span style=\"background-color: rgba(255, 255, 255, 0); padding: 2px 4px; margin: 2px; text-decoration: none;\">show</span> <span style=\"background-color: rgba(255, 255, 255, 0); padding: 2px 4px; margin: 2px; text-decoration: none;\">an</span> <span style=\"background-color: rgba(255, 255, 255, 0); padding: 2px 4px; margin: 2px; text-decoration: none;\">alarm</span> <span style=\"background-color: rgba(255, 255, 255, 0); padding: 2px 4px; margin: 2px; text-decoration: none;\">ing</span> <span style=\"background-color: rgba(255, 255, 255, 0); padding: 2px 4px; margin: 2px; text-decoration: none;\">rise</span> <span style=\"background-color: rgba(128, 6, 16, 0.7); padding: 2px 4px; margin: 2px; text-decoration: none;\">in</span> <span style=\"background-color: rgba(255, 255, 255, 0); padding: 2px 4px; margin: 2px; text-decoration: none;\">bur</span> <span style=\"background-color: rgba(255, 255, 255, 0); padding: 2px 4px; margin: 2px; text-decoration: none;\">gl</span> <span style=\"background-color: rgba(255, 255, 255, 0); padding: 2px 4px; margin: 2px; text-decoration: none;\">ary</span> <span style=\"background-color: rgba(255, 255, 255, 0); padding: 2px 4px; margin: 2px; text-decoration: none;\">incidents</span> <span style=\"background-color: rgba(255, 255, 255, 0); padding: 2px 4px; margin: 2px; text-decoration: none;\">in</span> <span style=\"background-color: rgba(255, 255, 255, 0); padding: 2px 4px; margin: 2px; text-decoration: none;\">the</span> <span style=\"background-color: rgba(255, 255, 255, 0); padding: 2px 4px; margin: 2px; text-decoration: none;\">neighborhood</span> <span style=\"background-color: rgba(255, 255, 255, 0); padding: 2px 4px; margin: 2px; text-decoration: none;\">.</span> </p>"
      ],
      "text/plain": [
       "<IPython.core.display.HTML object>"
      ]
     },
     "metadata": {},
     "output_type": "display_data"
    },
    {
     "data": {
      "text/html": [
       "<p style='font-family: monospace; text-decoration: none;'><span style=\"background-color: rgba(147, 10, 18, 0.7); padding: 2px 4px; margin: 2px; text-decoration: none;\">The</span> <span style=\"background-color: rgba(255, 255, 255, 0); padding: 2px 4px; margin: 2px; text-decoration: none;\">investigation</span> <span style=\"background-color: rgba(255, 255, 255, 0); padding: 2px 4px; margin: 2px; text-decoration: none;\">into</span> <span style=\"background-color: rgba(255, 255, 255, 0); padding: 2px 4px; margin: 2px; text-decoration: none;\">the</span> <span style=\"background-color: rgba(255, 255, 255, 0); padding: 2px 4px; margin: 2px; text-decoration: none;\">high</span> <span style=\"background-color: rgba(130, 6, 16, 0.7); padding: 2px 4px; margin: 2px; text-decoration: none;\">-</span> <span style=\"background-color: rgba(255, 255, 255, 0); padding: 2px 4px; margin: 2px; text-decoration: none;\">profile</span> <span style=\"background-color: rgba(255, 255, 255, 0); padding: 2px 4px; margin: 2px; text-decoration: none;\">murder</span> <span style=\"background-color: rgba(255, 255, 255, 0); padding: 2px 4px; margin: 2px; text-decoration: none;\">case</span> <span style=\"background-color: rgba(255, 255, 255, 0); padding: 2px 4px; margin: 2px; text-decoration: none;\">is</span> <span style=\"background-color: rgba(255, 255, 255, 0); padding: 2px 4px; margin: 2px; text-decoration: none;\">still</span> <span style=\"background-color: rgba(255, 255, 255, 0); padding: 2px 4px; margin: 2px; text-decoration: none;\">ongoing</span> <span style=\"background-color: rgba(255, 255, 255, 0); padding: 2px 4px; margin: 2px; text-decoration: none;\">.</span> </p>"
      ],
      "text/plain": [
       "<IPython.core.display.HTML object>"
      ]
     },
     "metadata": {},
     "output_type": "display_data"
    },
    {
     "data": {
      "text/html": [
       "<p style='font-family: monospace; text-decoration: none;'><span style=\"background-color: rgba(149, 11, 19, 0.7); padding: 2px 4px; margin: 2px; text-decoration: none;\">Cy</span> <span style=\"background-color: rgba(255, 255, 255, 0); padding: 2px 4px; margin: 2px; text-decoration: none;\">ber</span> <span style=\"background-color: rgba(255, 255, 255, 0); padding: 2px 4px; margin: 2px; text-decoration: none;\">cr</span> <span style=\"background-color: rgba(255, 255, 255, 0); padding: 2px 4px; margin: 2px; text-decoration: none;\">ime</span> <span style=\"background-color: rgba(255, 255, 255, 0); padding: 2px 4px; margin: 2px; text-decoration: none;\">is</span> <span style=\"background-color: rgba(255, 255, 255, 0); padding: 2px 4px; margin: 2px; text-decoration: none;\">becoming</span> <span style=\"background-color: rgba(255, 255, 255, 0); padding: 2px 4px; margin: 2px; text-decoration: none;\">a</span> <span style=\"background-color: rgba(255, 255, 255, 0); padding: 2px 4px; margin: 2px; text-decoration: none;\">significant</span> <span style=\"background-color: rgba(255, 255, 255, 0); padding: 2px 4px; margin: 2px; text-decoration: none;\">threat</span> <span style=\"background-color: rgba(128, 6, 16, 0.7); padding: 2px 4px; margin: 2px; text-decoration: none;\">to</span> <span style=\"background-color: rgba(255, 255, 255, 0); padding: 2px 4px; margin: 2px; text-decoration: none;\">online</span> <span style=\"background-color: rgba(255, 255, 255, 0); padding: 2px 4px; margin: 2px; text-decoration: none;\">businesses</span> <span style=\"background-color: rgba(255, 255, 255, 0); padding: 2px 4px; margin: 2px; text-decoration: none;\">and</span> <span style=\"background-color: rgba(255, 255, 255, 0); padding: 2px 4px; margin: 2px; text-decoration: none;\">individuals</span> <span style=\"background-color: rgba(255, 255, 255, 0); padding: 2px 4px; margin: 2px; text-decoration: none;\">.</span> </p>"
      ],
      "text/plain": [
       "<IPython.core.display.HTML object>"
      ]
     },
     "metadata": {},
     "output_type": "display_data"
    },
    {
     "data": {
      "text/html": [
       "<p style='font-family: monospace; text-decoration: none;'><span style=\"background-color: rgba(149, 11, 19, 0.7); padding: 2px 4px; margin: 2px; text-decoration: none;\">Rob</span> <span style=\"background-color: rgba(255, 255, 255, 0); padding: 2px 4px; margin: 2px; text-decoration: none;\">bery</span> <span style=\"background-color: rgba(255, 255, 255, 0); padding: 2px 4px; margin: 2px; text-decoration: none;\">attempts</span> <span style=\"background-color: rgba(126, 5, 16, 0.7); padding: 2px 4px; margin: 2px; text-decoration: none;\">in</span> <span style=\"background-color: rgba(255, 255, 255, 0); padding: 2px 4px; margin: 2px; text-decoration: none;\">broad</span> <span style=\"background-color: rgba(255, 255, 255, 0); padding: 2px 4px; margin: 2px; text-decoration: none;\">day</span> <span style=\"background-color: rgba(255, 255, 255, 0); padding: 2px 4px; margin: 2px; text-decoration: none;\">light</span> <span style=\"background-color: rgba(255, 255, 255, 0); padding: 2px 4px; margin: 2px; text-decoration: none;\">have</span> <span style=\"background-color: rgba(255, 255, 255, 0); padding: 2px 4px; margin: 2px; text-decoration: none;\">left</span> <span style=\"background-color: rgba(255, 255, 255, 0); padding: 2px 4px; margin: 2px; text-decoration: none;\">citizens</span> <span style=\"background-color: rgba(255, 255, 255, 0); padding: 2px 4px; margin: 2px; text-decoration: none;\">worried</span> <span style=\"background-color: rgba(255, 255, 255, 0); padding: 2px 4px; margin: 2px; text-decoration: none;\">about</span> <span style=\"background-color: rgba(255, 255, 255, 0); padding: 2px 4px; margin: 2px; text-decoration: none;\">their</span> <span style=\"background-color: rgba(255, 255, 255, 0); padding: 2px 4px; margin: 2px; text-decoration: none;\">safety</span> <span style=\"background-color: rgba(255, 255, 255, 0); padding: 2px 4px; margin: 2px; text-decoration: none;\">.</span> </p>"
      ],
      "text/plain": [
       "<IPython.core.display.HTML object>"
      ]
     },
     "metadata": {},
     "output_type": "display_data"
    },
    {
     "data": {
      "text/html": [
       "<p style='font-family: monospace; text-decoration: none;'><span style=\"background-color: rgba(145, 10, 18, 0.7); padding: 2px 4px; margin: 2px; text-decoration: none;\">A</span> <span style=\"background-color: rgba(255, 255, 255, 0); padding: 2px 4px; margin: 2px; text-decoration: none;\">series</span> <span style=\"background-color: rgba(128, 6, 16, 0.7); padding: 2px 4px; margin: 2px; text-decoration: none;\">of</span> <span style=\"background-color: rgba(255, 255, 255, 0); padding: 2px 4px; margin: 2px; text-decoration: none;\">fraud</span> <span style=\"background-color: rgba(255, 255, 255, 0); padding: 2px 4px; margin: 2px; text-decoration: none;\">cases</span> <span style=\"background-color: rgba(255, 255, 255, 0); padding: 2px 4px; margin: 2px; text-decoration: none;\">involving</span> <span style=\"background-color: rgba(255, 255, 255, 0); padding: 2px 4px; margin: 2px; text-decoration: none;\">credit</span> <span style=\"background-color: rgba(255, 255, 255, 0); padding: 2px 4px; margin: 2px; text-decoration: none;\">cards</span> <span style=\"background-color: rgba(255, 255, 255, 0); padding: 2px 4px; margin: 2px; text-decoration: none;\">has</span> <span style=\"background-color: rgba(255, 255, 255, 0); padding: 2px 4px; margin: 2px; text-decoration: none;\">been</span> <span style=\"background-color: rgba(255, 255, 255, 0); padding: 2px 4px; margin: 2px; text-decoration: none;\">reported</span> <span style=\"background-color: rgba(255, 255, 255, 0); padding: 2px 4px; margin: 2px; text-decoration: none;\">recently</span> <span style=\"background-color: rgba(255, 255, 255, 0); padding: 2px 4px; margin: 2px; text-decoration: none;\">.</span> </p>"
      ],
      "text/plain": [
       "<IPython.core.display.HTML object>"
      ]
     },
     "metadata": {},
     "output_type": "display_data"
    },
    {
     "data": {
      "text/html": [
       "<p style='font-family: monospace; text-decoration: none;'><span style=\"background-color: rgba(147, 10, 18, 0.7); padding: 2px 4px; margin: 2px; text-decoration: none;\">The</span> <span style=\"background-color: rgba(255, 255, 255, 0); padding: 2px 4px; margin: 2px; text-decoration: none;\">police</span> <span style=\"background-color: rgba(255, 255, 255, 0); padding: 2px 4px; margin: 2px; text-decoration: none;\">successfully</span> <span style=\"background-color: rgba(255, 255, 255, 0); padding: 2px 4px; margin: 2px; text-decoration: none;\">th</span> <span style=\"background-color: rgba(255, 255, 255, 0); padding: 2px 4px; margin: 2px; text-decoration: none;\">wart</span> <span style=\"background-color: rgba(255, 255, 255, 0); padding: 2px 4px; margin: 2px; text-decoration: none;\">ed</span> <span style=\"background-color: rgba(255, 255, 255, 0); padding: 2px 4px; margin: 2px; text-decoration: none;\">a</span> <span style=\"background-color: rgba(255, 255, 255, 0); padding: 2px 4px; margin: 2px; text-decoration: none;\">planned</span> <span style=\"background-color: rgba(255, 255, 255, 0); padding: 2px 4px; margin: 2px; text-decoration: none;\">he</span> <span style=\"background-color: rgba(255, 255, 255, 0); padding: 2px 4px; margin: 2px; text-decoration: none;\">ist</span> <span style=\"background-color: rgba(126, 5, 16, 0.7); padding: 2px 4px; margin: 2px; text-decoration: none;\">at</span> <span style=\"background-color: rgba(255, 255, 255, 0); padding: 2px 4px; margin: 2px; text-decoration: none;\">the</span> <span style=\"background-color: rgba(255, 255, 255, 0); padding: 2px 4px; margin: 2px; text-decoration: none;\">national</span> <span style=\"background-color: rgba(255, 255, 255, 0); padding: 2px 4px; margin: 2px; text-decoration: none;\">bank</span> <span style=\"background-color: rgba(255, 255, 255, 0); padding: 2px 4px; margin: 2px; text-decoration: none;\">.</span> </p>"
      ],
      "text/plain": [
       "<IPython.core.display.HTML object>"
      ]
     },
     "metadata": {},
     "output_type": "display_data"
    },
    {
     "data": {
      "text/html": [
       "<p style='font-family: monospace; text-decoration: none;'><span style=\"background-color: rgba(147, 10, 18, 0.7); padding: 2px 4px; margin: 2px; text-decoration: none;\">G</span> <span style=\"background-color: rgba(255, 255, 255, 0); padding: 2px 4px; margin: 2px; text-decoration: none;\">ang</span> <span style=\"background-color: rgba(255, 255, 255, 0); padding: 2px 4px; margin: 2px; text-decoration: none;\">violence</span> <span style=\"background-color: rgba(126, 5, 16, 0.7); padding: 2px 4px; margin: 2px; text-decoration: none;\">in</span> <span style=\"background-color: rgba(255, 255, 255, 0); padding: 2px 4px; margin: 2px; text-decoration: none;\">the</span> <span style=\"background-color: rgba(255, 255, 255, 0); padding: 2px 4px; margin: 2px; text-decoration: none;\">city</span> <span style=\"background-color: rgba(255, 255, 255, 0); padding: 2px 4px; margin: 2px; text-decoration: none;\">is</span> <span style=\"background-color: rgba(255, 255, 255, 0); padding: 2px 4px; margin: 2px; text-decoration: none;\">being</span> <span style=\"background-color: rgba(255, 255, 255, 0); padding: 2px 4px; margin: 2px; text-decoration: none;\">addressed</span> <span style=\"background-color: rgba(255, 255, 255, 0); padding: 2px 4px; margin: 2px; text-decoration: none;\">with</span> <span style=\"background-color: rgba(255, 255, 255, 0); padding: 2px 4px; margin: 2px; text-decoration: none;\">increased</span> <span style=\"background-color: rgba(255, 255, 255, 0); padding: 2px 4px; margin: 2px; text-decoration: none;\">police</span> <span style=\"background-color: rgba(255, 255, 255, 0); padding: 2px 4px; margin: 2px; text-decoration: none;\">patrol</span> <span style=\"background-color: rgba(255, 255, 255, 0); padding: 2px 4px; margin: 2px; text-decoration: none;\">s</span> <span style=\"background-color: rgba(255, 255, 255, 0); padding: 2px 4px; margin: 2px; text-decoration: none;\">.</span> </p>"
      ],
      "text/plain": [
       "<IPython.core.display.HTML object>"
      ]
     },
     "metadata": {},
     "output_type": "display_data"
    },
    {
     "data": {
      "text/html": [
       "<p style='font-family: monospace; text-decoration: none;'><span style=\"background-color: rgba(147, 10, 18, 0.7); padding: 2px 4px; margin: 2px; text-decoration: none;\">The</span> <span style=\"background-color: rgba(255, 255, 255, 0); padding: 2px 4px; margin: 2px; text-decoration: none;\">quick</span> <span style=\"background-color: rgba(255, 255, 255, 0); padding: 2px 4px; margin: 2px; text-decoration: none;\">brown</span> <span style=\"background-color: rgba(255, 255, 255, 0); padding: 2px 4px; margin: 2px; text-decoration: none;\">f</span> <span style=\"background-color: rgba(255, 255, 255, 0); padding: 2px 4px; margin: 2px; text-decoration: none;\">ox</span> <span style=\"background-color: rgba(255, 255, 255, 0); padding: 2px 4px; margin: 2px; text-decoration: none;\">j</span> <span style=\"background-color: rgba(255, 255, 255, 0); padding: 2px 4px; margin: 2px; text-decoration: none;\">umps</span> <span style=\"background-color: rgba(255, 255, 255, 0); padding: 2px 4px; margin: 2px; text-decoration: none;\">over</span> <span style=\"background-color: rgba(255, 255, 255, 0); padding: 2px 4px; margin: 2px; text-decoration: none;\">the</span> <span style=\"background-color: rgba(255, 255, 255, 0); padding: 2px 4px; margin: 2px; text-decoration: none;\">lazy</span> <span style=\"background-color: rgba(255, 255, 255, 0); padding: 2px 4px; margin: 2px; text-decoration: none;\">dog</span> <span style=\"background-color: rgba(130, 6, 16, 0.7); padding: 2px 4px; margin: 2px; text-decoration: none;\">.</span> </p>"
      ],
      "text/plain": [
       "<IPython.core.display.HTML object>"
      ]
     },
     "metadata": {},
     "output_type": "display_data"
    },
    {
     "name": "stdout",
     "output_type": "stream",
     "text": [
      "\n",
      "Visualizing Feature 216328\n"
     ]
    },
    {
     "data": {
      "text/html": [
       "<p style='font-family: monospace; text-decoration: none;'><span style=\"background-color: rgba(104, 0, 13, 0.7); padding: 2px 4px; margin: 2px; text-decoration: none;\">The</span> <span style=\"background-color: rgba(138, 8, 17, 0.7); padding: 2px 4px; margin: 2px; text-decoration: none;\">suspect</span> <span style=\"background-color: rgba(163, 14, 20, 0.7); padding: 2px 4px; margin: 2px; text-decoration: none;\">was</span> <span style=\"background-color: rgba(141, 9, 18, 0.7); padding: 2px 4px; margin: 2px; text-decoration: none;\">caught</span> <span style=\"background-color: rgba(213, 34, 33, 0.7); padding: 2px 4px; margin: 2px; text-decoration: none;\">red</span> <span style=\"background-color: rgba(128, 6, 16, 0.7); padding: 2px 4px; margin: 2px; text-decoration: none;\">-</span> <span style=\"background-color: rgba(255, 255, 255, 0); padding: 2px 4px; margin: 2px; text-decoration: none;\">handed</span> <span style=\"background-color: rgba(255, 255, 255, 0); padding: 2px 4px; margin: 2px; text-decoration: none;\">.</span> <span style=\"background-color: rgba(132, 7, 16, 0.7); padding: 2px 4px; margin: 2px; text-decoration: none;\">Police</span> <span style=\"background-color: rgba(255, 255, 255, 0); padding: 2px 4px; margin: 2px; text-decoration: none;\">confirmed</span> <span style=\"background-color: rgba(255, 255, 255, 0); padding: 2px 4px; margin: 2px; text-decoration: none;\">the</span> <span style=\"background-color: rgba(255, 255, 255, 0); padding: 2px 4px; margin: 2px; text-decoration: none;\">stolen</span> <span style=\"background-color: rgba(255, 255, 255, 0); padding: 2px 4px; margin: 2px; text-decoration: none;\">goods</span> <span style=\"background-color: rgba(255, 255, 255, 0); padding: 2px 4px; margin: 2px; text-decoration: none;\">were</span> <span style=\"background-color: rgba(210, 30, 31, 0.7); padding: 2px 4px; margin: 2px; text-decoration: none;\">recovered</span> <span style=\"background-color: rgba(255, 255, 255, 0); padding: 2px 4px; margin: 2px; text-decoration: none;\">.</span> </p>"
      ],
      "text/plain": [
       "<IPython.core.display.HTML object>"
      ]
     },
     "metadata": {},
     "output_type": "display_data"
    },
    {
     "data": {
      "text/html": [
       "<p style='font-family: monospace; text-decoration: none;'><span style=\"background-color: rgba(104, 0, 13, 0.7); padding: 2px 4px; margin: 2px; text-decoration: none;\">The</span> <span style=\"background-color: rgba(151, 11, 19, 0.7); padding: 2px 4px; margin: 2px; text-decoration: none;\">crime</span> <span style=\"background-color: rgba(103, 0, 12, 0.7); padding: 2px 4px; margin: 2px; text-decoration: none;\">rate</span> <span style=\"background-color: rgba(124, 5, 15, 0.7); padding: 2px 4px; margin: 2px; text-decoration: none;\">in</span> <span style=\"background-color: rgba(194, 22, 27, 0.7); padding: 2px 4px; margin: 2px; text-decoration: none;\">urban</span> <span style=\"background-color: rgba(202, 23, 28, 0.7); padding: 2px 4px; margin: 2px; text-decoration: none;\">areas</span> <span style=\"background-color: rgba(255, 255, 255, 0); padding: 2px 4px; margin: 2px; text-decoration: none;\">has</span> <span style=\"background-color: rgba(255, 255, 255, 0); padding: 2px 4px; margin: 2px; text-decoration: none;\">stead</span> <span style=\"background-color: rgba(255, 255, 255, 0); padding: 2px 4px; margin: 2px; text-decoration: none;\">ily</span> <span style=\"background-color: rgba(198, 22, 28, 0.7); padding: 2px 4px; margin: 2px; text-decoration: none;\">increased</span> <span style=\"background-color: rgba(255, 255, 255, 0); padding: 2px 4px; margin: 2px; text-decoration: none;\">over</span> <span style=\"background-color: rgba(255, 255, 255, 0); padding: 2px 4px; margin: 2px; text-decoration: none;\">the</span> <span style=\"background-color: rgba(255, 255, 255, 0); padding: 2px 4px; margin: 2px; text-decoration: none;\">past</span> <span style=\"background-color: rgba(208, 29, 31, 0.7); padding: 2px 4px; margin: 2px; text-decoration: none;\">decade</span> <span style=\"background-color: rgba(255, 255, 255, 0); padding: 2px 4px; margin: 2px; text-decoration: none;\">.</span> </p>"
      ],
      "text/plain": [
       "<IPython.core.display.HTML object>"
      ]
     },
     "metadata": {},
     "output_type": "display_data"
    },
    {
     "data": {
      "text/html": [
       "<p style='font-family: monospace; text-decoration: none;'><span style=\"background-color: rgba(103, 0, 12, 0.7); padding: 2px 4px; margin: 2px; text-decoration: none;\">Law</span> <span style=\"background-color: rgba(167, 15, 21, 0.7); padding: 2px 4px; margin: 2px; text-decoration: none;\">enforcement</span> <span style=\"background-color: rgba(197, 22, 27, 0.7); padding: 2px 4px; margin: 2px; text-decoration: none;\">officers</span> <span style=\"background-color: rgba(172, 16, 22, 0.7); padding: 2px 4px; margin: 2px; text-decoration: none;\">are</span> <span style=\"background-color: rgba(103, 0, 12, 0.7); padding: 2px 4px; margin: 2px; text-decoration: none;\">working</span> <span style=\"background-color: rgba(103, 0, 12, 0.7); padding: 2px 4px; margin: 2px; text-decoration: none;\">hard</span> <span style=\"background-color: rgba(126, 5, 16, 0.7); padding: 2px 4px; margin: 2px; text-decoration: none;\">to</span> <span style=\"background-color: rgba(255, 255, 255, 0); padding: 2px 4px; margin: 2px; text-decoration: none;\">combat</span> <span style=\"background-color: rgba(255, 255, 255, 0); padding: 2px 4px; margin: 2px; text-decoration: none;\">rising</span> <span style=\"background-color: rgba(255, 255, 255, 0); padding: 2px 4px; margin: 2px; text-decoration: none;\">theft</span> <span style=\"background-color: rgba(205, 26, 30, 0.7); padding: 2px 4px; margin: 2px; text-decoration: none;\">cases</span> <span style=\"background-color: rgba(213, 34, 33, 0.7); padding: 2px 4px; margin: 2px; text-decoration: none;\">.</span> </p>"
      ],
      "text/plain": [
       "<IPython.core.display.HTML object>"
      ]
     },
     "metadata": {},
     "output_type": "display_data"
    },
    {
     "data": {
      "text/html": [
       "<p style='font-family: monospace; text-decoration: none;'><span style=\"background-color: rgba(103, 0, 12, 0.7); padding: 2px 4px; margin: 2px; text-decoration: none;\">Recent</span> <span style=\"background-color: rgba(103, 0, 12, 0.7); padding: 2px 4px; margin: 2px; text-decoration: none;\">statistics</span> <span style=\"background-color: rgba(112, 2, 14, 0.7); padding: 2px 4px; margin: 2px; text-decoration: none;\">show</span> <span style=\"background-color: rgba(124, 5, 15, 0.7); padding: 2px 4px; margin: 2px; text-decoration: none;\">an</span> <span style=\"background-color: rgba(206, 27, 30, 0.7); padding: 2px 4px; margin: 2px; text-decoration: none;\">alarm</span> <span style=\"background-color: rgba(191, 21, 26, 0.7); padding: 2px 4px; margin: 2px; text-decoration: none;\">ing</span> <span style=\"background-color: rgba(149, 11, 19, 0.7); padding: 2px 4px; margin: 2px; text-decoration: none;\">rise</span> <span style=\"background-color: rgba(126, 5, 16, 0.7); padding: 2px 4px; margin: 2px; text-decoration: none;\">in</span> <span style=\"background-color: rgba(255, 255, 255, 0); padding: 2px 4px; margin: 2px; text-decoration: none;\">bur</span> <span style=\"background-color: rgba(210, 30, 31, 0.7); padding: 2px 4px; margin: 2px; text-decoration: none;\">gl</span> <span style=\"background-color: rgba(255, 255, 255, 0); padding: 2px 4px; margin: 2px; text-decoration: none;\">ary</span> <span style=\"background-color: rgba(255, 255, 255, 0); padding: 2px 4px; margin: 2px; text-decoration: none;\">incidents</span> <span style=\"background-color: rgba(255, 255, 255, 0); padding: 2px 4px; margin: 2px; text-decoration: none;\">in</span> <span style=\"background-color: rgba(255, 255, 255, 0); padding: 2px 4px; margin: 2px; text-decoration: none;\">the</span> <span style=\"background-color: rgba(185, 19, 25, 0.7); padding: 2px 4px; margin: 2px; text-decoration: none;\">neighborhood</span> <span style=\"background-color: rgba(255, 255, 255, 0); padding: 2px 4px; margin: 2px; text-decoration: none;\">.</span> </p>"
      ],
      "text/plain": [
       "<IPython.core.display.HTML object>"
      ]
     },
     "metadata": {},
     "output_type": "display_data"
    },
    {
     "data": {
      "text/html": [
       "<p style='font-family: monospace; text-decoration: none;'><span style=\"background-color: rgba(104, 0, 13, 0.7); padding: 2px 4px; margin: 2px; text-decoration: none;\">The</span> <span style=\"background-color: rgba(103, 0, 12, 0.7); padding: 2px 4px; margin: 2px; text-decoration: none;\">investigation</span> <span style=\"background-color: rgba(165, 15, 21, 0.7); padding: 2px 4px; margin: 2px; text-decoration: none;\">into</span> <span style=\"background-color: rgba(180, 18, 24, 0.7); padding: 2px 4px; margin: 2px; text-decoration: none;\">the</span> <span style=\"background-color: rgba(255, 255, 255, 0); padding: 2px 4px; margin: 2px; text-decoration: none;\">high</span> <span style=\"background-color: rgba(128, 6, 16, 0.7); padding: 2px 4px; margin: 2px; text-decoration: none;\">-</span> <span style=\"background-color: rgba(255, 255, 255, 0); padding: 2px 4px; margin: 2px; text-decoration: none;\">profile</span> <span style=\"background-color: rgba(255, 255, 255, 0); padding: 2px 4px; margin: 2px; text-decoration: none;\">murder</span> <span style=\"background-color: rgba(255, 255, 255, 0); padding: 2px 4px; margin: 2px; text-decoration: none;\">case</span> <span style=\"background-color: rgba(212, 33, 32, 0.7); padding: 2px 4px; margin: 2px; text-decoration: none;\">is</span> <span style=\"background-color: rgba(197, 22, 27, 0.7); padding: 2px 4px; margin: 2px; text-decoration: none;\">still</span> <span style=\"background-color: rgba(155, 12, 19, 0.7); padding: 2px 4px; margin: 2px; text-decoration: none;\">ongoing</span> <span style=\"background-color: rgba(194, 22, 27, 0.7); padding: 2px 4px; margin: 2px; text-decoration: none;\">.</span> </p>"
      ],
      "text/plain": [
       "<IPython.core.display.HTML object>"
      ]
     },
     "metadata": {},
     "output_type": "display_data"
    },
    {
     "data": {
      "text/html": [
       "<p style='font-family: monospace; text-decoration: none;'><span style=\"background-color: rgba(103, 0, 12, 0.7); padding: 2px 4px; margin: 2px; text-decoration: none;\">Cy</span> <span style=\"background-color: rgba(255, 255, 255, 0); padding: 2px 4px; margin: 2px; text-decoration: none;\">ber</span> <span style=\"background-color: rgba(255, 255, 255, 0); padding: 2px 4px; margin: 2px; text-decoration: none;\">cr</span> <span style=\"background-color: rgba(255, 255, 255, 0); padding: 2px 4px; margin: 2px; text-decoration: none;\">ime</span> <span style=\"background-color: rgba(173, 17, 22, 0.7); padding: 2px 4px; margin: 2px; text-decoration: none;\">is</span> <span style=\"background-color: rgba(255, 255, 255, 0); padding: 2px 4px; margin: 2px; text-decoration: none;\">becoming</span> <span style=\"background-color: rgba(255, 255, 255, 0); padding: 2px 4px; margin: 2px; text-decoration: none;\">a</span> <span style=\"background-color: rgba(255, 255, 255, 0); padding: 2px 4px; margin: 2px; text-decoration: none;\">significant</span> <span style=\"background-color: rgba(255, 255, 255, 0); padding: 2px 4px; margin: 2px; text-decoration: none;\">threat</span> <span style=\"background-color: rgba(126, 5, 16, 0.7); padding: 2px 4px; margin: 2px; text-decoration: none;\">to</span> <span style=\"background-color: rgba(255, 255, 255, 0); padding: 2px 4px; margin: 2px; text-decoration: none;\">online</span> <span style=\"background-color: rgba(130, 6, 16, 0.7); padding: 2px 4px; margin: 2px; text-decoration: none;\">businesses</span> <span style=\"background-color: rgba(255, 255, 255, 0); padding: 2px 4px; margin: 2px; text-decoration: none;\">and</span> <span style=\"background-color: rgba(216, 37, 34, 0.7); padding: 2px 4px; margin: 2px; text-decoration: none;\">individuals</span> <span style=\"background-color: rgba(255, 255, 255, 0); padding: 2px 4px; margin: 2px; text-decoration: none;\">.</span> </p>"
      ],
      "text/plain": [
       "<IPython.core.display.HTML object>"
      ]
     },
     "metadata": {},
     "output_type": "display_data"
    },
    {
     "data": {
      "text/html": [
       "<p style='font-family: monospace; text-decoration: none;'><span style=\"background-color: rgba(103, 0, 12, 0.7); padding: 2px 4px; margin: 2px; text-decoration: none;\">Rob</span> <span style=\"background-color: rgba(190, 20, 26, 0.7); padding: 2px 4px; margin: 2px; text-decoration: none;\">bery</span> <span style=\"background-color: rgba(175, 17, 23, 0.7); padding: 2px 4px; margin: 2px; text-decoration: none;\">attempts</span> <span style=\"background-color: rgba(124, 5, 15, 0.7); padding: 2px 4px; margin: 2px; text-decoration: none;\">in</span> <span style=\"background-color: rgba(255, 255, 255, 0); padding: 2px 4px; margin: 2px; text-decoration: none;\">broad</span> <span style=\"background-color: rgba(213, 34, 33, 0.7); padding: 2px 4px; margin: 2px; text-decoration: none;\">day</span> <span style=\"background-color: rgba(255, 255, 255, 0); padding: 2px 4px; margin: 2px; text-decoration: none;\">light</span> <span style=\"background-color: rgba(255, 255, 255, 0); padding: 2px 4px; margin: 2px; text-decoration: none;\">have</span> <span style=\"background-color: rgba(255, 255, 255, 0); padding: 2px 4px; margin: 2px; text-decoration: none;\">left</span> <span style=\"background-color: rgba(205, 26, 30, 0.7); padding: 2px 4px; margin: 2px; text-decoration: none;\">citizens</span> <span style=\"background-color: rgba(255, 255, 255, 0); padding: 2px 4px; margin: 2px; text-decoration: none;\">worried</span> <span style=\"background-color: rgba(255, 255, 255, 0); padding: 2px 4px; margin: 2px; text-decoration: none;\">about</span> <span style=\"background-color: rgba(255, 255, 255, 0); padding: 2px 4px; margin: 2px; text-decoration: none;\">their</span> <span style=\"background-color: rgba(255, 255, 255, 0); padding: 2px 4px; margin: 2px; text-decoration: none;\">safety</span> <span style=\"background-color: rgba(255, 255, 255, 0); padding: 2px 4px; margin: 2px; text-decoration: none;\">.</span> </p>"
      ],
      "text/plain": [
       "<IPython.core.display.HTML object>"
      ]
     },
     "metadata": {},
     "output_type": "display_data"
    },
    {
     "data": {
      "text/html": [
       "<p style='font-family: monospace; text-decoration: none;'><span style=\"background-color: rgba(104, 0, 13, 0.7); padding: 2px 4px; margin: 2px; text-decoration: none;\">A</span> <span style=\"background-color: rgba(104, 0, 13, 0.7); padding: 2px 4px; margin: 2px; text-decoration: none;\">series</span> <span style=\"background-color: rgba(124, 5, 15, 0.7); padding: 2px 4px; margin: 2px; text-decoration: none;\">of</span> <span style=\"background-color: rgba(255, 255, 255, 0); padding: 2px 4px; margin: 2px; text-decoration: none;\">fraud</span> <span style=\"background-color: rgba(190, 20, 26, 0.7); padding: 2px 4px; margin: 2px; text-decoration: none;\">cases</span> <span style=\"background-color: rgba(255, 255, 255, 0); padding: 2px 4px; margin: 2px; text-decoration: none;\">involving</span> <span style=\"background-color: rgba(255, 255, 255, 0); padding: 2px 4px; margin: 2px; text-decoration: none;\">credit</span> <span style=\"background-color: rgba(255, 255, 255, 0); padding: 2px 4px; margin: 2px; text-decoration: none;\">cards</span> <span style=\"background-color: rgba(255, 255, 255, 0); padding: 2px 4px; margin: 2px; text-decoration: none;\">has</span> <span style=\"background-color: rgba(255, 255, 255, 0); padding: 2px 4px; margin: 2px; text-decoration: none;\">been</span> <span style=\"background-color: rgba(255, 255, 255, 0); padding: 2px 4px; margin: 2px; text-decoration: none;\">reported</span> <span style=\"background-color: rgba(255, 255, 255, 0); padding: 2px 4px; margin: 2px; text-decoration: none;\">recently</span> <span style=\"background-color: rgba(255, 255, 255, 0); padding: 2px 4px; margin: 2px; text-decoration: none;\">.</span> </p>"
      ],
      "text/plain": [
       "<IPython.core.display.HTML object>"
      ]
     },
     "metadata": {},
     "output_type": "display_data"
    },
    {
     "data": {
      "text/html": [
       "<p style='font-family: monospace; text-decoration: none;'><span style=\"background-color: rgba(104, 0, 13, 0.7); padding: 2px 4px; margin: 2px; text-decoration: none;\">The</span> <span style=\"background-color: rgba(103, 0, 12, 0.7); padding: 2px 4px; margin: 2px; text-decoration: none;\">police</span> <span style=\"background-color: rgba(143, 9, 18, 0.7); padding: 2px 4px; margin: 2px; text-decoration: none;\">successfully</span> <span style=\"background-color: rgba(207, 28, 31, 0.7); padding: 2px 4px; margin: 2px; text-decoration: none;\">th</span> <span style=\"background-color: rgba(215, 36, 34, 0.7); padding: 2px 4px; margin: 2px; text-decoration: none;\">wart</span> <span style=\"background-color: rgba(174, 17, 23, 0.7); padding: 2px 4px; margin: 2px; text-decoration: none;\">ed</span> <span style=\"background-color: rgba(255, 255, 255, 0); padding: 2px 4px; margin: 2px; text-decoration: none;\">a</span> <span style=\"background-color: rgba(255, 255, 255, 0); padding: 2px 4px; margin: 2px; text-decoration: none;\">planned</span> <span style=\"background-color: rgba(255, 255, 255, 0); padding: 2px 4px; margin: 2px; text-decoration: none;\">he</span> <span style=\"background-color: rgba(188, 20, 26, 0.7); padding: 2px 4px; margin: 2px; text-decoration: none;\">ist</span> <span style=\"background-color: rgba(124, 5, 15, 0.7); padding: 2px 4px; margin: 2px; text-decoration: none;\">at</span> <span style=\"background-color: rgba(255, 255, 255, 0); padding: 2px 4px; margin: 2px; text-decoration: none;\">the</span> <span style=\"background-color: rgba(255, 255, 255, 0); padding: 2px 4px; margin: 2px; text-decoration: none;\">national</span> <span style=\"background-color: rgba(255, 255, 255, 0); padding: 2px 4px; margin: 2px; text-decoration: none;\">bank</span> <span style=\"background-color: rgba(255, 255, 255, 0); padding: 2px 4px; margin: 2px; text-decoration: none;\">.</span> </p>"
      ],
      "text/plain": [
       "<IPython.core.display.HTML object>"
      ]
     },
     "metadata": {},
     "output_type": "display_data"
    },
    {
     "data": {
      "text/html": [
       "<p style='font-family: monospace; text-decoration: none;'><span style=\"background-color: rgba(104, 0, 13, 0.7); padding: 2px 4px; margin: 2px; text-decoration: none;\">G</span> <span style=\"background-color: rgba(255, 255, 255, 0); padding: 2px 4px; margin: 2px; text-decoration: none;\">ang</span> <span style=\"background-color: rgba(157, 13, 20, 0.7); padding: 2px 4px; margin: 2px; text-decoration: none;\">violence</span> <span style=\"background-color: rgba(124, 5, 15, 0.7); padding: 2px 4px; margin: 2px; text-decoration: none;\">in</span> <span style=\"background-color: rgba(255, 255, 255, 0); padding: 2px 4px; margin: 2px; text-decoration: none;\">the</span> <span style=\"background-color: rgba(200, 23, 28, 0.7); padding: 2px 4px; margin: 2px; text-decoration: none;\">city</span> <span style=\"background-color: rgba(208, 29, 31, 0.7); padding: 2px 4px; margin: 2px; text-decoration: none;\">is</span> <span style=\"background-color: rgba(255, 255, 255, 0); padding: 2px 4px; margin: 2px; text-decoration: none;\">being</span> <span style=\"background-color: rgba(138, 8, 17, 0.7); padding: 2px 4px; margin: 2px; text-decoration: none;\">addressed</span> <span style=\"background-color: rgba(200, 23, 28, 0.7); padding: 2px 4px; margin: 2px; text-decoration: none;\">with</span> <span style=\"background-color: rgba(255, 255, 255, 0); padding: 2px 4px; margin: 2px; text-decoration: none;\">increased</span> <span style=\"background-color: rgba(175, 17, 23, 0.7); padding: 2px 4px; margin: 2px; text-decoration: none;\">police</span> <span style=\"background-color: rgba(255, 255, 255, 0); padding: 2px 4px; margin: 2px; text-decoration: none;\">patrol</span> <span style=\"background-color: rgba(255, 255, 255, 0); padding: 2px 4px; margin: 2px; text-decoration: none;\">s</span> <span style=\"background-color: rgba(255, 255, 255, 0); padding: 2px 4px; margin: 2px; text-decoration: none;\">.</span> </p>"
      ],
      "text/plain": [
       "<IPython.core.display.HTML object>"
      ]
     },
     "metadata": {},
     "output_type": "display_data"
    },
    {
     "data": {
      "text/html": [
       "<p style='font-family: monospace; text-decoration: none;'><span style=\"background-color: rgba(104, 0, 13, 0.7); padding: 2px 4px; margin: 2px; text-decoration: none;\">The</span> <span style=\"background-color: rgba(167, 15, 21, 0.7); padding: 2px 4px; margin: 2px; text-decoration: none;\">quick</span> <span style=\"background-color: rgba(180, 18, 24, 0.7); padding: 2px 4px; margin: 2px; text-decoration: none;\">brown</span> <span style=\"background-color: rgba(255, 255, 255, 0); padding: 2px 4px; margin: 2px; text-decoration: none;\">f</span> <span style=\"background-color: rgba(255, 255, 255, 0); padding: 2px 4px; margin: 2px; text-decoration: none;\">ox</span> <span style=\"background-color: rgba(255, 255, 255, 0); padding: 2px 4px; margin: 2px; text-decoration: none;\">j</span> <span style=\"background-color: rgba(255, 255, 255, 0); padding: 2px 4px; margin: 2px; text-decoration: none;\">umps</span> <span style=\"background-color: rgba(255, 255, 255, 0); padding: 2px 4px; margin: 2px; text-decoration: none;\">over</span> <span style=\"background-color: rgba(255, 255, 255, 0); padding: 2px 4px; margin: 2px; text-decoration: none;\">the</span> <span style=\"background-color: rgba(255, 255, 255, 0); padding: 2px 4px; margin: 2px; text-decoration: none;\">lazy</span> <span style=\"background-color: rgba(255, 255, 255, 0); padding: 2px 4px; margin: 2px; text-decoration: none;\">dog</span> <span style=\"background-color: rgba(128, 6, 16, 0.7); padding: 2px 4px; margin: 2px; text-decoration: none;\">.</span> </p>"
      ],
      "text/plain": [
       "<IPython.core.display.HTML object>"
      ]
     },
     "metadata": {},
     "output_type": "display_data"
    },
    {
     "name": "stdout",
     "output_type": "stream",
     "text": [
      "\n",
      "Visualizing Feature 138634\n"
     ]
    },
    {
     "data": {
      "text/html": [
       "<p style='font-family: monospace; text-decoration: none;'><span style=\"background-color: rgba(124, 5, 15, 0.7); padding: 2px 4px; margin: 2px; text-decoration: none;\">The</span> <span style=\"background-color: rgba(255, 255, 255, 0); padding: 2px 4px; margin: 2px; text-decoration: none;\">suspect</span> <span style=\"background-color: rgba(255, 255, 255, 0); padding: 2px 4px; margin: 2px; text-decoration: none;\">was</span> <span style=\"background-color: rgba(255, 255, 255, 0); padding: 2px 4px; margin: 2px; text-decoration: none;\">caught</span> <span style=\"background-color: rgba(255, 255, 255, 0); padding: 2px 4px; margin: 2px; text-decoration: none;\">red</span> <span style=\"background-color: rgba(128, 6, 16, 0.7); padding: 2px 4px; margin: 2px; text-decoration: none;\">-</span> <span style=\"background-color: rgba(255, 255, 255, 0); padding: 2px 4px; margin: 2px; text-decoration: none;\">handed</span> <span style=\"background-color: rgba(255, 255, 255, 0); padding: 2px 4px; margin: 2px; text-decoration: none;\">.</span> <span style=\"background-color: rgba(255, 255, 255, 0); padding: 2px 4px; margin: 2px; text-decoration: none;\">Police</span> <span style=\"background-color: rgba(255, 255, 255, 0); padding: 2px 4px; margin: 2px; text-decoration: none;\">confirmed</span> <span style=\"background-color: rgba(255, 255, 255, 0); padding: 2px 4px; margin: 2px; text-decoration: none;\">the</span> <span style=\"background-color: rgba(255, 255, 255, 0); padding: 2px 4px; margin: 2px; text-decoration: none;\">stolen</span> <span style=\"background-color: rgba(255, 255, 255, 0); padding: 2px 4px; margin: 2px; text-decoration: none;\">goods</span> <span style=\"background-color: rgba(255, 255, 255, 0); padding: 2px 4px; margin: 2px; text-decoration: none;\">were</span> <span style=\"background-color: rgba(255, 255, 255, 0); padding: 2px 4px; margin: 2px; text-decoration: none;\">recovered</span> <span style=\"background-color: rgba(255, 255, 255, 0); padding: 2px 4px; margin: 2px; text-decoration: none;\">.</span> </p>"
      ],
      "text/plain": [
       "<IPython.core.display.HTML object>"
      ]
     },
     "metadata": {},
     "output_type": "display_data"
    },
    {
     "data": {
      "text/html": [
       "<p style='font-family: monospace; text-decoration: none;'><span style=\"background-color: rgba(124, 5, 15, 0.7); padding: 2px 4px; margin: 2px; text-decoration: none;\">The</span> <span style=\"background-color: rgba(255, 255, 255, 0); padding: 2px 4px; margin: 2px; text-decoration: none;\">crime</span> <span style=\"background-color: rgba(255, 255, 255, 0); padding: 2px 4px; margin: 2px; text-decoration: none;\">rate</span> <span style=\"background-color: rgba(124, 5, 15, 0.7); padding: 2px 4px; margin: 2px; text-decoration: none;\">in</span> <span style=\"background-color: rgba(255, 255, 255, 0); padding: 2px 4px; margin: 2px; text-decoration: none;\">urban</span> <span style=\"background-color: rgba(255, 255, 255, 0); padding: 2px 4px; margin: 2px; text-decoration: none;\">areas</span> <span style=\"background-color: rgba(255, 255, 255, 0); padding: 2px 4px; margin: 2px; text-decoration: none;\">has</span> <span style=\"background-color: rgba(255, 255, 255, 0); padding: 2px 4px; margin: 2px; text-decoration: none;\">stead</span> <span style=\"background-color: rgba(255, 255, 255, 0); padding: 2px 4px; margin: 2px; text-decoration: none;\">ily</span> <span style=\"background-color: rgba(255, 255, 255, 0); padding: 2px 4px; margin: 2px; text-decoration: none;\">increased</span> <span style=\"background-color: rgba(255, 255, 255, 0); padding: 2px 4px; margin: 2px; text-decoration: none;\">over</span> <span style=\"background-color: rgba(255, 255, 255, 0); padding: 2px 4px; margin: 2px; text-decoration: none;\">the</span> <span style=\"background-color: rgba(255, 255, 255, 0); padding: 2px 4px; margin: 2px; text-decoration: none;\">past</span> <span style=\"background-color: rgba(255, 255, 255, 0); padding: 2px 4px; margin: 2px; text-decoration: none;\">decade</span> <span style=\"background-color: rgba(255, 255, 255, 0); padding: 2px 4px; margin: 2px; text-decoration: none;\">.</span> </p>"
      ],
      "text/plain": [
       "<IPython.core.display.HTML object>"
      ]
     },
     "metadata": {},
     "output_type": "display_data"
    },
    {
     "data": {
      "text/html": [
       "<p style='font-family: monospace; text-decoration: none;'><span style=\"background-color: rgba(132, 7, 16, 0.7); padding: 2px 4px; margin: 2px; text-decoration: none;\">Law</span> <span style=\"background-color: rgba(255, 255, 255, 0); padding: 2px 4px; margin: 2px; text-decoration: none;\">enforcement</span> <span style=\"background-color: rgba(255, 255, 255, 0); padding: 2px 4px; margin: 2px; text-decoration: none;\">officers</span> <span style=\"background-color: rgba(255, 255, 255, 0); padding: 2px 4px; margin: 2px; text-decoration: none;\">are</span> <span style=\"background-color: rgba(206, 27, 30, 0.7); padding: 2px 4px; margin: 2px; text-decoration: none;\">working</span> <span style=\"background-color: rgba(212, 33, 32, 0.7); padding: 2px 4px; margin: 2px; text-decoration: none;\">hard</span> <span style=\"background-color: rgba(124, 5, 15, 0.7); padding: 2px 4px; margin: 2px; text-decoration: none;\">to</span> <span style=\"background-color: rgba(255, 255, 255, 0); padding: 2px 4px; margin: 2px; text-decoration: none;\">combat</span> <span style=\"background-color: rgba(255, 255, 255, 0); padding: 2px 4px; margin: 2px; text-decoration: none;\">rising</span> <span style=\"background-color: rgba(255, 255, 255, 0); padding: 2px 4px; margin: 2px; text-decoration: none;\">theft</span> <span style=\"background-color: rgba(255, 255, 255, 0); padding: 2px 4px; margin: 2px; text-decoration: none;\">cases</span> <span style=\"background-color: rgba(255, 255, 255, 0); padding: 2px 4px; margin: 2px; text-decoration: none;\">.</span> </p>"
      ],
      "text/plain": [
       "<IPython.core.display.HTML object>"
      ]
     },
     "metadata": {},
     "output_type": "display_data"
    },
    {
     "data": {
      "text/html": [
       "<p style='font-family: monospace; text-decoration: none;'><span style=\"background-color: rgba(126, 5, 16, 0.7); padding: 2px 4px; margin: 2px; text-decoration: none;\">Recent</span> <span style=\"background-color: rgba(255, 255, 255, 0); padding: 2px 4px; margin: 2px; text-decoration: none;\">statistics</span> <span style=\"background-color: rgba(255, 255, 255, 0); padding: 2px 4px; margin: 2px; text-decoration: none;\">show</span> <span style=\"background-color: rgba(255, 255, 255, 0); padding: 2px 4px; margin: 2px; text-decoration: none;\">an</span> <span style=\"background-color: rgba(255, 255, 255, 0); padding: 2px 4px; margin: 2px; text-decoration: none;\">alarm</span> <span style=\"background-color: rgba(255, 255, 255, 0); padding: 2px 4px; margin: 2px; text-decoration: none;\">ing</span> <span style=\"background-color: rgba(255, 255, 255, 0); padding: 2px 4px; margin: 2px; text-decoration: none;\">rise</span> <span style=\"background-color: rgba(124, 5, 15, 0.7); padding: 2px 4px; margin: 2px; text-decoration: none;\">in</span> <span style=\"background-color: rgba(255, 255, 255, 0); padding: 2px 4px; margin: 2px; text-decoration: none;\">bur</span> <span style=\"background-color: rgba(255, 255, 255, 0); padding: 2px 4px; margin: 2px; text-decoration: none;\">gl</span> <span style=\"background-color: rgba(255, 255, 255, 0); padding: 2px 4px; margin: 2px; text-decoration: none;\">ary</span> <span style=\"background-color: rgba(255, 255, 255, 0); padding: 2px 4px; margin: 2px; text-decoration: none;\">incidents</span> <span style=\"background-color: rgba(255, 255, 255, 0); padding: 2px 4px; margin: 2px; text-decoration: none;\">in</span> <span style=\"background-color: rgba(255, 255, 255, 0); padding: 2px 4px; margin: 2px; text-decoration: none;\">the</span> <span style=\"background-color: rgba(255, 255, 255, 0); padding: 2px 4px; margin: 2px; text-decoration: none;\">neighborhood</span> <span style=\"background-color: rgba(255, 255, 255, 0); padding: 2px 4px; margin: 2px; text-decoration: none;\">.</span> </p>"
      ],
      "text/plain": [
       "<IPython.core.display.HTML object>"
      ]
     },
     "metadata": {},
     "output_type": "display_data"
    },
    {
     "data": {
      "text/html": [
       "<p style='font-family: monospace; text-decoration: none;'><span style=\"background-color: rgba(124, 5, 15, 0.7); padding: 2px 4px; margin: 2px; text-decoration: none;\">The</span> <span style=\"background-color: rgba(214, 35, 33, 0.7); padding: 2px 4px; margin: 2px; text-decoration: none;\">investigation</span> <span style=\"background-color: rgba(255, 255, 255, 0); padding: 2px 4px; margin: 2px; text-decoration: none;\">into</span> <span style=\"background-color: rgba(255, 255, 255, 0); padding: 2px 4px; margin: 2px; text-decoration: none;\">the</span> <span style=\"background-color: rgba(255, 255, 255, 0); padding: 2px 4px; margin: 2px; text-decoration: none;\">high</span> <span style=\"background-color: rgba(128, 6, 16, 0.7); padding: 2px 4px; margin: 2px; text-decoration: none;\">-</span> <span style=\"background-color: rgba(255, 255, 255, 0); padding: 2px 4px; margin: 2px; text-decoration: none;\">profile</span> <span style=\"background-color: rgba(255, 255, 255, 0); padding: 2px 4px; margin: 2px; text-decoration: none;\">murder</span> <span style=\"background-color: rgba(255, 255, 255, 0); padding: 2px 4px; margin: 2px; text-decoration: none;\">case</span> <span style=\"background-color: rgba(255, 255, 255, 0); padding: 2px 4px; margin: 2px; text-decoration: none;\">is</span> <span style=\"background-color: rgba(255, 255, 255, 0); padding: 2px 4px; margin: 2px; text-decoration: none;\">still</span> <span style=\"background-color: rgba(255, 255, 255, 0); padding: 2px 4px; margin: 2px; text-decoration: none;\">ongoing</span> <span style=\"background-color: rgba(255, 255, 255, 0); padding: 2px 4px; margin: 2px; text-decoration: none;\">.</span> </p>"
      ],
      "text/plain": [
       "<IPython.core.display.HTML object>"
      ]
     },
     "metadata": {},
     "output_type": "display_data"
    },
    {
     "data": {
      "text/html": [
       "<p style='font-family: monospace; text-decoration: none;'><span style=\"background-color: rgba(126, 5, 16, 0.7); padding: 2px 4px; margin: 2px; text-decoration: none;\">Cy</span> <span style=\"background-color: rgba(255, 255, 255, 0); padding: 2px 4px; margin: 2px; text-decoration: none;\">ber</span> <span style=\"background-color: rgba(255, 255, 255, 0); padding: 2px 4px; margin: 2px; text-decoration: none;\">cr</span> <span style=\"background-color: rgba(255, 255, 255, 0); padding: 2px 4px; margin: 2px; text-decoration: none;\">ime</span> <span style=\"background-color: rgba(255, 255, 255, 0); padding: 2px 4px; margin: 2px; text-decoration: none;\">is</span> <span style=\"background-color: rgba(255, 255, 255, 0); padding: 2px 4px; margin: 2px; text-decoration: none;\">becoming</span> <span style=\"background-color: rgba(255, 255, 255, 0); padding: 2px 4px; margin: 2px; text-decoration: none;\">a</span> <span style=\"background-color: rgba(255, 255, 255, 0); padding: 2px 4px; margin: 2px; text-decoration: none;\">significant</span> <span style=\"background-color: rgba(255, 255, 255, 0); padding: 2px 4px; margin: 2px; text-decoration: none;\">threat</span> <span style=\"background-color: rgba(126, 5, 16, 0.7); padding: 2px 4px; margin: 2px; text-decoration: none;\">to</span> <span style=\"background-color: rgba(255, 255, 255, 0); padding: 2px 4px; margin: 2px; text-decoration: none;\">online</span> <span style=\"background-color: rgba(255, 255, 255, 0); padding: 2px 4px; margin: 2px; text-decoration: none;\">businesses</span> <span style=\"background-color: rgba(255, 255, 255, 0); padding: 2px 4px; margin: 2px; text-decoration: none;\">and</span> <span style=\"background-color: rgba(255, 255, 255, 0); padding: 2px 4px; margin: 2px; text-decoration: none;\">individuals</span> <span style=\"background-color: rgba(255, 255, 255, 0); padding: 2px 4px; margin: 2px; text-decoration: none;\">.</span> </p>"
      ],
      "text/plain": [
       "<IPython.core.display.HTML object>"
      ]
     },
     "metadata": {},
     "output_type": "display_data"
    },
    {
     "data": {
      "text/html": [
       "<p style='font-family: monospace; text-decoration: none;'><span style=\"background-color: rgba(128, 6, 16, 0.7); padding: 2px 4px; margin: 2px; text-decoration: none;\">Rob</span> <span style=\"background-color: rgba(255, 255, 255, 0); padding: 2px 4px; margin: 2px; text-decoration: none;\">bery</span> <span style=\"background-color: rgba(255, 255, 255, 0); padding: 2px 4px; margin: 2px; text-decoration: none;\">attempts</span> <span style=\"background-color: rgba(124, 5, 15, 0.7); padding: 2px 4px; margin: 2px; text-decoration: none;\">in</span> <span style=\"background-color: rgba(255, 255, 255, 0); padding: 2px 4px; margin: 2px; text-decoration: none;\">broad</span> <span style=\"background-color: rgba(255, 255, 255, 0); padding: 2px 4px; margin: 2px; text-decoration: none;\">day</span> <span style=\"background-color: rgba(255, 255, 255, 0); padding: 2px 4px; margin: 2px; text-decoration: none;\">light</span> <span style=\"background-color: rgba(255, 255, 255, 0); padding: 2px 4px; margin: 2px; text-decoration: none;\">have</span> <span style=\"background-color: rgba(255, 255, 255, 0); padding: 2px 4px; margin: 2px; text-decoration: none;\">left</span> <span style=\"background-color: rgba(255, 255, 255, 0); padding: 2px 4px; margin: 2px; text-decoration: none;\">citizens</span> <span style=\"background-color: rgba(255, 255, 255, 0); padding: 2px 4px; margin: 2px; text-decoration: none;\">worried</span> <span style=\"background-color: rgba(255, 255, 255, 0); padding: 2px 4px; margin: 2px; text-decoration: none;\">about</span> <span style=\"background-color: rgba(255, 255, 255, 0); padding: 2px 4px; margin: 2px; text-decoration: none;\">their</span> <span style=\"background-color: rgba(255, 255, 255, 0); padding: 2px 4px; margin: 2px; text-decoration: none;\">safety</span> <span style=\"background-color: rgba(255, 255, 255, 0); padding: 2px 4px; margin: 2px; text-decoration: none;\">.</span> </p>"
      ],
      "text/plain": [
       "<IPython.core.display.HTML object>"
      ]
     },
     "metadata": {},
     "output_type": "display_data"
    },
    {
     "data": {
      "text/html": [
       "<p style='font-family: monospace; text-decoration: none;'><span style=\"background-color: rgba(124, 5, 15, 0.7); padding: 2px 4px; margin: 2px; text-decoration: none;\">A</span> <span style=\"background-color: rgba(212, 33, 32, 0.7); padding: 2px 4px; margin: 2px; text-decoration: none;\">series</span> <span style=\"background-color: rgba(124, 5, 15, 0.7); padding: 2px 4px; margin: 2px; text-decoration: none;\">of</span> <span style=\"background-color: rgba(255, 255, 255, 0); padding: 2px 4px; margin: 2px; text-decoration: none;\">fraud</span> <span style=\"background-color: rgba(255, 255, 255, 0); padding: 2px 4px; margin: 2px; text-decoration: none;\">cases</span> <span style=\"background-color: rgba(255, 255, 255, 0); padding: 2px 4px; margin: 2px; text-decoration: none;\">involving</span> <span style=\"background-color: rgba(255, 255, 255, 0); padding: 2px 4px; margin: 2px; text-decoration: none;\">credit</span> <span style=\"background-color: rgba(255, 255, 255, 0); padding: 2px 4px; margin: 2px; text-decoration: none;\">cards</span> <span style=\"background-color: rgba(255, 255, 255, 0); padding: 2px 4px; margin: 2px; text-decoration: none;\">has</span> <span style=\"background-color: rgba(255, 255, 255, 0); padding: 2px 4px; margin: 2px; text-decoration: none;\">been</span> <span style=\"background-color: rgba(255, 255, 255, 0); padding: 2px 4px; margin: 2px; text-decoration: none;\">reported</span> <span style=\"background-color: rgba(255, 255, 255, 0); padding: 2px 4px; margin: 2px; text-decoration: none;\">recently</span> <span style=\"background-color: rgba(255, 255, 255, 0); padding: 2px 4px; margin: 2px; text-decoration: none;\">.</span> </p>"
      ],
      "text/plain": [
       "<IPython.core.display.HTML object>"
      ]
     },
     "metadata": {},
     "output_type": "display_data"
    },
    {
     "data": {
      "text/html": [
       "<p style='font-family: monospace; text-decoration: none;'><span style=\"background-color: rgba(124, 5, 15, 0.7); padding: 2px 4px; margin: 2px; text-decoration: none;\">The</span> <span style=\"background-color: rgba(255, 255, 255, 0); padding: 2px 4px; margin: 2px; text-decoration: none;\">police</span> <span style=\"background-color: rgba(255, 255, 255, 0); padding: 2px 4px; margin: 2px; text-decoration: none;\">successfully</span> <span style=\"background-color: rgba(255, 255, 255, 0); padding: 2px 4px; margin: 2px; text-decoration: none;\">th</span> <span style=\"background-color: rgba(255, 255, 255, 0); padding: 2px 4px; margin: 2px; text-decoration: none;\">wart</span> <span style=\"background-color: rgba(255, 255, 255, 0); padding: 2px 4px; margin: 2px; text-decoration: none;\">ed</span> <span style=\"background-color: rgba(255, 255, 255, 0); padding: 2px 4px; margin: 2px; text-decoration: none;\">a</span> <span style=\"background-color: rgba(255, 255, 255, 0); padding: 2px 4px; margin: 2px; text-decoration: none;\">planned</span> <span style=\"background-color: rgba(255, 255, 255, 0); padding: 2px 4px; margin: 2px; text-decoration: none;\">he</span> <span style=\"background-color: rgba(255, 255, 255, 0); padding: 2px 4px; margin: 2px; text-decoration: none;\">ist</span> <span style=\"background-color: rgba(124, 5, 15, 0.7); padding: 2px 4px; margin: 2px; text-decoration: none;\">at</span> <span style=\"background-color: rgba(255, 255, 255, 0); padding: 2px 4px; margin: 2px; text-decoration: none;\">the</span> <span style=\"background-color: rgba(255, 255, 255, 0); padding: 2px 4px; margin: 2px; text-decoration: none;\">national</span> <span style=\"background-color: rgba(255, 255, 255, 0); padding: 2px 4px; margin: 2px; text-decoration: none;\">bank</span> <span style=\"background-color: rgba(255, 255, 255, 0); padding: 2px 4px; margin: 2px; text-decoration: none;\">.</span> </p>"
      ],
      "text/plain": [
       "<IPython.core.display.HTML object>"
      ]
     },
     "metadata": {},
     "output_type": "display_data"
    },
    {
     "data": {
      "text/html": [
       "<p style='font-family: monospace; text-decoration: none;'><span style=\"background-color: rgba(124, 5, 15, 0.7); padding: 2px 4px; margin: 2px; text-decoration: none;\">G</span> <span style=\"background-color: rgba(255, 255, 255, 0); padding: 2px 4px; margin: 2px; text-decoration: none;\">ang</span> <span style=\"background-color: rgba(255, 255, 255, 0); padding: 2px 4px; margin: 2px; text-decoration: none;\">violence</span> <span style=\"background-color: rgba(124, 5, 15, 0.7); padding: 2px 4px; margin: 2px; text-decoration: none;\">in</span> <span style=\"background-color: rgba(255, 255, 255, 0); padding: 2px 4px; margin: 2px; text-decoration: none;\">the</span> <span style=\"background-color: rgba(255, 255, 255, 0); padding: 2px 4px; margin: 2px; text-decoration: none;\">city</span> <span style=\"background-color: rgba(255, 255, 255, 0); padding: 2px 4px; margin: 2px; text-decoration: none;\">is</span> <span style=\"background-color: rgba(255, 255, 255, 0); padding: 2px 4px; margin: 2px; text-decoration: none;\">being</span> <span style=\"background-color: rgba(255, 255, 255, 0); padding: 2px 4px; margin: 2px; text-decoration: none;\">addressed</span> <span style=\"background-color: rgba(255, 255, 255, 0); padding: 2px 4px; margin: 2px; text-decoration: none;\">with</span> <span style=\"background-color: rgba(255, 255, 255, 0); padding: 2px 4px; margin: 2px; text-decoration: none;\">increased</span> <span style=\"background-color: rgba(255, 255, 255, 0); padding: 2px 4px; margin: 2px; text-decoration: none;\">police</span> <span style=\"background-color: rgba(255, 255, 255, 0); padding: 2px 4px; margin: 2px; text-decoration: none;\">patrol</span> <span style=\"background-color: rgba(255, 255, 255, 0); padding: 2px 4px; margin: 2px; text-decoration: none;\">s</span> <span style=\"background-color: rgba(255, 255, 255, 0); padding: 2px 4px; margin: 2px; text-decoration: none;\">.</span> </p>"
      ],
      "text/plain": [
       "<IPython.core.display.HTML object>"
      ]
     },
     "metadata": {},
     "output_type": "display_data"
    },
    {
     "data": {
      "text/html": [
       "<p style='font-family: monospace; text-decoration: none;'><span style=\"background-color: rgba(124, 5, 15, 0.7); padding: 2px 4px; margin: 2px; text-decoration: none;\">The</span> <span style=\"background-color: rgba(255, 255, 255, 0); padding: 2px 4px; margin: 2px; text-decoration: none;\">quick</span> <span style=\"background-color: rgba(255, 255, 255, 0); padding: 2px 4px; margin: 2px; text-decoration: none;\">brown</span> <span style=\"background-color: rgba(255, 255, 255, 0); padding: 2px 4px; margin: 2px; text-decoration: none;\">f</span> <span style=\"background-color: rgba(255, 255, 255, 0); padding: 2px 4px; margin: 2px; text-decoration: none;\">ox</span> <span style=\"background-color: rgba(255, 255, 255, 0); padding: 2px 4px; margin: 2px; text-decoration: none;\">j</span> <span style=\"background-color: rgba(255, 255, 255, 0); padding: 2px 4px; margin: 2px; text-decoration: none;\">umps</span> <span style=\"background-color: rgba(255, 255, 255, 0); padding: 2px 4px; margin: 2px; text-decoration: none;\">over</span> <span style=\"background-color: rgba(255, 255, 255, 0); padding: 2px 4px; margin: 2px; text-decoration: none;\">the</span> <span style=\"background-color: rgba(255, 255, 255, 0); padding: 2px 4px; margin: 2px; text-decoration: none;\">lazy</span> <span style=\"background-color: rgba(255, 255, 255, 0); padding: 2px 4px; margin: 2px; text-decoration: none;\">dog</span> <span style=\"background-color: rgba(128, 6, 16, 0.7); padding: 2px 4px; margin: 2px; text-decoration: none;\">.</span> </p>"
      ],
      "text/plain": [
       "<IPython.core.display.HTML object>"
      ]
     },
     "metadata": {},
     "output_type": "display_data"
    },
    {
     "name": "stdout",
     "output_type": "stream",
     "text": [
      "\n",
      "Visualizing Feature 329740\n"
     ]
    },
    {
     "data": {
      "text/html": [
       "<p style='font-family: monospace; text-decoration: none;'><span style=\"background-color: rgba(163, 14, 20, 0.7); padding: 2px 4px; margin: 2px; text-decoration: none;\">The</span> <span style=\"background-color: rgba(202, 23, 28, 0.7); padding: 2px 4px; margin: 2px; text-decoration: none;\">suspect</span> <span style=\"background-color: rgba(210, 30, 31, 0.7); padding: 2px 4px; margin: 2px; text-decoration: none;\">was</span> <span style=\"background-color: rgba(213, 34, 33, 0.7); padding: 2px 4px; margin: 2px; text-decoration: none;\">caught</span> <span style=\"background-color: rgba(255, 255, 255, 0); padding: 2px 4px; margin: 2px; text-decoration: none;\">red</span> <span style=\"background-color: rgba(118, 3, 15, 0.7); padding: 2px 4px; margin: 2px; text-decoration: none;\">-</span> <span style=\"background-color: rgba(255, 255, 255, 0); padding: 2px 4px; margin: 2px; text-decoration: none;\">handed</span> <span style=\"background-color: rgba(255, 255, 255, 0); padding: 2px 4px; margin: 2px; text-decoration: none;\">.</span> <span style=\"background-color: rgba(255, 255, 255, 0); padding: 2px 4px; margin: 2px; text-decoration: none;\">Police</span> <span style=\"background-color: rgba(255, 255, 255, 0); padding: 2px 4px; margin: 2px; text-decoration: none;\">confirmed</span> <span style=\"background-color: rgba(255, 255, 255, 0); padding: 2px 4px; margin: 2px; text-decoration: none;\">the</span> <span style=\"background-color: rgba(255, 255, 255, 0); padding: 2px 4px; margin: 2px; text-decoration: none;\">stolen</span> <span style=\"background-color: rgba(255, 255, 255, 0); padding: 2px 4px; margin: 2px; text-decoration: none;\">goods</span> <span style=\"background-color: rgba(255, 255, 255, 0); padding: 2px 4px; margin: 2px; text-decoration: none;\">were</span> <span style=\"background-color: rgba(255, 255, 255, 0); padding: 2px 4px; margin: 2px; text-decoration: none;\">recovered</span> <span style=\"background-color: rgba(255, 255, 255, 0); padding: 2px 4px; margin: 2px; text-decoration: none;\">.</span> </p>"
      ],
      "text/plain": [
       "<IPython.core.display.HTML object>"
      ]
     },
     "metadata": {},
     "output_type": "display_data"
    },
    {
     "data": {
      "text/html": [
       "<p style='font-family: monospace; text-decoration: none;'><span style=\"background-color: rgba(163, 14, 20, 0.7); padding: 2px 4px; margin: 2px; text-decoration: none;\">The</span> <span style=\"background-color: rgba(193, 21, 27, 0.7); padding: 2px 4px; margin: 2px; text-decoration: none;\">crime</span> <span style=\"background-color: rgba(178, 18, 23, 0.7); padding: 2px 4px; margin: 2px; text-decoration: none;\">rate</span> <span style=\"background-color: rgba(118, 3, 15, 0.7); padding: 2px 4px; margin: 2px; text-decoration: none;\">in</span> <span style=\"background-color: rgba(255, 255, 255, 0); padding: 2px 4px; margin: 2px; text-decoration: none;\">urban</span> <span style=\"background-color: rgba(255, 255, 255, 0); padding: 2px 4px; margin: 2px; text-decoration: none;\">areas</span> <span style=\"background-color: rgba(255, 255, 255, 0); padding: 2px 4px; margin: 2px; text-decoration: none;\">has</span> <span style=\"background-color: rgba(255, 255, 255, 0); padding: 2px 4px; margin: 2px; text-decoration: none;\">stead</span> <span style=\"background-color: rgba(255, 255, 255, 0); padding: 2px 4px; margin: 2px; text-decoration: none;\">ily</span> <span style=\"background-color: rgba(255, 255, 255, 0); padding: 2px 4px; margin: 2px; text-decoration: none;\">increased</span> <span style=\"background-color: rgba(255, 255, 255, 0); padding: 2px 4px; margin: 2px; text-decoration: none;\">over</span> <span style=\"background-color: rgba(255, 255, 255, 0); padding: 2px 4px; margin: 2px; text-decoration: none;\">the</span> <span style=\"background-color: rgba(255, 255, 255, 0); padding: 2px 4px; margin: 2px; text-decoration: none;\">past</span> <span style=\"background-color: rgba(255, 255, 255, 0); padding: 2px 4px; margin: 2px; text-decoration: none;\">decade</span> <span style=\"background-color: rgba(255, 255, 255, 0); padding: 2px 4px; margin: 2px; text-decoration: none;\">.</span> </p>"
      ],
      "text/plain": [
       "<IPython.core.display.HTML object>"
      ]
     },
     "metadata": {},
     "output_type": "display_data"
    },
    {
     "data": {
      "text/html": [
       "<p style='font-family: monospace; text-decoration: none;'><span style=\"background-color: rgba(153, 12, 19, 0.7); padding: 2px 4px; margin: 2px; text-decoration: none;\">Law</span> <span style=\"background-color: rgba(255, 255, 255, 0); padding: 2px 4px; margin: 2px; text-decoration: none;\">enforcement</span> <span style=\"background-color: rgba(255, 255, 255, 0); padding: 2px 4px; margin: 2px; text-decoration: none;\">officers</span> <span style=\"background-color: rgba(255, 255, 255, 0); padding: 2px 4px; margin: 2px; text-decoration: none;\">are</span> <span style=\"background-color: rgba(196, 22, 27, 0.7); padding: 2px 4px; margin: 2px; text-decoration: none;\">working</span> <span style=\"background-color: rgba(192, 21, 26, 0.7); padding: 2px 4px; margin: 2px; text-decoration: none;\">hard</span> <span style=\"background-color: rgba(118, 3, 15, 0.7); padding: 2px 4px; margin: 2px; text-decoration: none;\">to</span> <span style=\"background-color: rgba(255, 255, 255, 0); padding: 2px 4px; margin: 2px; text-decoration: none;\">combat</span> <span style=\"background-color: rgba(255, 255, 255, 0); padding: 2px 4px; margin: 2px; text-decoration: none;\">rising</span> <span style=\"background-color: rgba(255, 255, 255, 0); padding: 2px 4px; margin: 2px; text-decoration: none;\">theft</span> <span style=\"background-color: rgba(255, 255, 255, 0); padding: 2px 4px; margin: 2px; text-decoration: none;\">cases</span> <span style=\"background-color: rgba(255, 255, 255, 0); padding: 2px 4px; margin: 2px; text-decoration: none;\">.</span> </p>"
      ],
      "text/plain": [
       "<IPython.core.display.HTML object>"
      ]
     },
     "metadata": {},
     "output_type": "display_data"
    },
    {
     "data": {
      "text/html": [
       "<p style='font-family: monospace; text-decoration: none;'><span style=\"background-color: rgba(172, 16, 22, 0.7); padding: 2px 4px; margin: 2px; text-decoration: none;\">Recent</span> <span style=\"background-color: rgba(200, 23, 28, 0.7); padding: 2px 4px; margin: 2px; text-decoration: none;\">statistics</span> <span style=\"background-color: rgba(187, 20, 25, 0.7); padding: 2px 4px; margin: 2px; text-decoration: none;\">show</span> <span style=\"background-color: rgba(180, 18, 24, 0.7); padding: 2px 4px; margin: 2px; text-decoration: none;\">an</span> <span style=\"background-color: rgba(255, 255, 255, 0); padding: 2px 4px; margin: 2px; text-decoration: none;\">alarm</span> <span style=\"background-color: rgba(255, 255, 255, 0); padding: 2px 4px; margin: 2px; text-decoration: none;\">ing</span> <span style=\"background-color: rgba(205, 26, 30, 0.7); padding: 2px 4px; margin: 2px; text-decoration: none;\">rise</span> <span style=\"background-color: rgba(118, 3, 15, 0.7); padding: 2px 4px; margin: 2px; text-decoration: none;\">in</span> <span style=\"background-color: rgba(255, 255, 255, 0); padding: 2px 4px; margin: 2px; text-decoration: none;\">bur</span> <span style=\"background-color: rgba(205, 26, 30, 0.7); padding: 2px 4px; margin: 2px; text-decoration: none;\">gl</span> <span style=\"background-color: rgba(255, 255, 255, 0); padding: 2px 4px; margin: 2px; text-decoration: none;\">ary</span> <span style=\"background-color: rgba(255, 255, 255, 0); padding: 2px 4px; margin: 2px; text-decoration: none;\">incidents</span> <span style=\"background-color: rgba(255, 255, 255, 0); padding: 2px 4px; margin: 2px; text-decoration: none;\">in</span> <span style=\"background-color: rgba(255, 255, 255, 0); padding: 2px 4px; margin: 2px; text-decoration: none;\">the</span> <span style=\"background-color: rgba(216, 37, 34, 0.7); padding: 2px 4px; margin: 2px; text-decoration: none;\">neighborhood</span> <span style=\"background-color: rgba(255, 255, 255, 0); padding: 2px 4px; margin: 2px; text-decoration: none;\">.</span> </p>"
      ],
      "text/plain": [
       "<IPython.core.display.HTML object>"
      ]
     },
     "metadata": {},
     "output_type": "display_data"
    },
    {
     "data": {
      "text/html": [
       "<p style='font-family: monospace; text-decoration: none;'><span style=\"background-color: rgba(163, 14, 20, 0.7); padding: 2px 4px; margin: 2px; text-decoration: none;\">The</span> <span style=\"background-color: rgba(196, 22, 27, 0.7); padding: 2px 4px; margin: 2px; text-decoration: none;\">investigation</span> <span style=\"background-color: rgba(206, 27, 30, 0.7); padding: 2px 4px; margin: 2px; text-decoration: none;\">into</span> <span style=\"background-color: rgba(198, 22, 28, 0.7); padding: 2px 4px; margin: 2px; text-decoration: none;\">the</span> <span style=\"background-color: rgba(255, 255, 255, 0); padding: 2px 4px; margin: 2px; text-decoration: none;\">high</span> <span style=\"background-color: rgba(118, 3, 15, 0.7); padding: 2px 4px; margin: 2px; text-decoration: none;\">-</span> <span style=\"background-color: rgba(255, 255, 255, 0); padding: 2px 4px; margin: 2px; text-decoration: none;\">profile</span> <span style=\"background-color: rgba(255, 255, 255, 0); padding: 2px 4px; margin: 2px; text-decoration: none;\">murder</span> <span style=\"background-color: rgba(255, 255, 255, 0); padding: 2px 4px; margin: 2px; text-decoration: none;\">case</span> <span style=\"background-color: rgba(255, 255, 255, 0); padding: 2px 4px; margin: 2px; text-decoration: none;\">is</span> <span style=\"background-color: rgba(255, 255, 255, 0); padding: 2px 4px; margin: 2px; text-decoration: none;\">still</span> <span style=\"background-color: rgba(255, 255, 255, 0); padding: 2px 4px; margin: 2px; text-decoration: none;\">ongoing</span> <span style=\"background-color: rgba(216, 37, 34, 0.7); padding: 2px 4px; margin: 2px; text-decoration: none;\">.</span> </p>"
      ],
      "text/plain": [
       "<IPython.core.display.HTML object>"
      ]
     },
     "metadata": {},
     "output_type": "display_data"
    },
    {
     "data": {
      "text/html": [
       "<p style='font-family: monospace; text-decoration: none;'><span style=\"background-color: rgba(165, 15, 21, 0.7); padding: 2px 4px; margin: 2px; text-decoration: none;\">Cy</span> <span style=\"background-color: rgba(255, 255, 255, 0); padding: 2px 4px; margin: 2px; text-decoration: none;\">ber</span> <span style=\"background-color: rgba(255, 255, 255, 0); padding: 2px 4px; margin: 2px; text-decoration: none;\">cr</span> <span style=\"background-color: rgba(255, 255, 255, 0); padding: 2px 4px; margin: 2px; text-decoration: none;\">ime</span> <span style=\"background-color: rgba(255, 255, 255, 0); padding: 2px 4px; margin: 2px; text-decoration: none;\">is</span> <span style=\"background-color: rgba(255, 255, 255, 0); padding: 2px 4px; margin: 2px; text-decoration: none;\">becoming</span> <span style=\"background-color: rgba(255, 255, 255, 0); padding: 2px 4px; margin: 2px; text-decoration: none;\">a</span> <span style=\"background-color: rgba(255, 255, 255, 0); padding: 2px 4px; margin: 2px; text-decoration: none;\">significant</span> <span style=\"background-color: rgba(255, 255, 255, 0); padding: 2px 4px; margin: 2px; text-decoration: none;\">threat</span> <span style=\"background-color: rgba(118, 3, 15, 0.7); padding: 2px 4px; margin: 2px; text-decoration: none;\">to</span> <span style=\"background-color: rgba(255, 255, 255, 0); padding: 2px 4px; margin: 2px; text-decoration: none;\">online</span> <span style=\"background-color: rgba(159, 13, 20, 0.7); padding: 2px 4px; margin: 2px; text-decoration: none;\">businesses</span> <span style=\"background-color: rgba(255, 255, 255, 0); padding: 2px 4px; margin: 2px; text-decoration: none;\">and</span> <span style=\"background-color: rgba(255, 255, 255, 0); padding: 2px 4px; margin: 2px; text-decoration: none;\">individuals</span> <span style=\"background-color: rgba(255, 255, 255, 0); padding: 2px 4px; margin: 2px; text-decoration: none;\">.</span> </p>"
      ],
      "text/plain": [
       "<IPython.core.display.HTML object>"
      ]
     },
     "metadata": {},
     "output_type": "display_data"
    },
    {
     "data": {
      "text/html": [
       "<p style='font-family: monospace; text-decoration: none;'><span style=\"background-color: rgba(163, 14, 20, 0.7); padding: 2px 4px; margin: 2px; text-decoration: none;\">Rob</span> <span style=\"background-color: rgba(255, 255, 255, 0); padding: 2px 4px; margin: 2px; text-decoration: none;\">bery</span> <span style=\"background-color: rgba(211, 31, 32, 0.7); padding: 2px 4px; margin: 2px; text-decoration: none;\">attempts</span> <span style=\"background-color: rgba(118, 3, 15, 0.7); padding: 2px 4px; margin: 2px; text-decoration: none;\">in</span> <span style=\"background-color: rgba(255, 255, 255, 0); padding: 2px 4px; margin: 2px; text-decoration: none;\">broad</span> <span style=\"background-color: rgba(255, 255, 255, 0); padding: 2px 4px; margin: 2px; text-decoration: none;\">day</span> <span style=\"background-color: rgba(255, 255, 255, 0); padding: 2px 4px; margin: 2px; text-decoration: none;\">light</span> <span style=\"background-color: rgba(255, 255, 255, 0); padding: 2px 4px; margin: 2px; text-decoration: none;\">have</span> <span style=\"background-color: rgba(255, 255, 255, 0); padding: 2px 4px; margin: 2px; text-decoration: none;\">left</span> <span style=\"background-color: rgba(255, 255, 255, 0); padding: 2px 4px; margin: 2px; text-decoration: none;\">citizens</span> <span style=\"background-color: rgba(255, 255, 255, 0); padding: 2px 4px; margin: 2px; text-decoration: none;\">worried</span> <span style=\"background-color: rgba(255, 255, 255, 0); padding: 2px 4px; margin: 2px; text-decoration: none;\">about</span> <span style=\"background-color: rgba(255, 255, 255, 0); padding: 2px 4px; margin: 2px; text-decoration: none;\">their</span> <span style=\"background-color: rgba(255, 255, 255, 0); padding: 2px 4px; margin: 2px; text-decoration: none;\">safety</span> <span style=\"background-color: rgba(255, 255, 255, 0); padding: 2px 4px; margin: 2px; text-decoration: none;\">.</span> </p>"
      ],
      "text/plain": [
       "<IPython.core.display.HTML object>"
      ]
     },
     "metadata": {},
     "output_type": "display_data"
    },
    {
     "data": {
      "text/html": [
       "<p style='font-family: monospace; text-decoration: none;'><span style=\"background-color: rgba(155, 12, 19, 0.7); padding: 2px 4px; margin: 2px; text-decoration: none;\">A</span> <span style=\"background-color: rgba(191, 21, 26, 0.7); padding: 2px 4px; margin: 2px; text-decoration: none;\">series</span> <span style=\"background-color: rgba(118, 3, 15, 0.7); padding: 2px 4px; margin: 2px; text-decoration: none;\">of</span> <span style=\"background-color: rgba(255, 255, 255, 0); padding: 2px 4px; margin: 2px; text-decoration: none;\">fraud</span> <span style=\"background-color: rgba(255, 255, 255, 0); padding: 2px 4px; margin: 2px; text-decoration: none;\">cases</span> <span style=\"background-color: rgba(255, 255, 255, 0); padding: 2px 4px; margin: 2px; text-decoration: none;\">involving</span> <span style=\"background-color: rgba(255, 255, 255, 0); padding: 2px 4px; margin: 2px; text-decoration: none;\">credit</span> <span style=\"background-color: rgba(255, 255, 255, 0); padding: 2px 4px; margin: 2px; text-decoration: none;\">cards</span> <span style=\"background-color: rgba(255, 255, 255, 0); padding: 2px 4px; margin: 2px; text-decoration: none;\">has</span> <span style=\"background-color: rgba(255, 255, 255, 0); padding: 2px 4px; margin: 2px; text-decoration: none;\">been</span> <span style=\"background-color: rgba(255, 255, 255, 0); padding: 2px 4px; margin: 2px; text-decoration: none;\">reported</span> <span style=\"background-color: rgba(255, 255, 255, 0); padding: 2px 4px; margin: 2px; text-decoration: none;\">recently</span> <span style=\"background-color: rgba(255, 255, 255, 0); padding: 2px 4px; margin: 2px; text-decoration: none;\">.</span> </p>"
      ],
      "text/plain": [
       "<IPython.core.display.HTML object>"
      ]
     },
     "metadata": {},
     "output_type": "display_data"
    },
    {
     "data": {
      "text/html": [
       "<p style='font-family: monospace; text-decoration: none;'><span style=\"background-color: rgba(163, 14, 20, 0.7); padding: 2px 4px; margin: 2px; text-decoration: none;\">The</span> <span style=\"background-color: rgba(175, 17, 23, 0.7); padding: 2px 4px; margin: 2px; text-decoration: none;\">police</span> <span style=\"background-color: rgba(255, 255, 255, 0); padding: 2px 4px; margin: 2px; text-decoration: none;\">successfully</span> <span style=\"background-color: rgba(255, 255, 255, 0); padding: 2px 4px; margin: 2px; text-decoration: none;\">th</span> <span style=\"background-color: rgba(255, 255, 255, 0); padding: 2px 4px; margin: 2px; text-decoration: none;\">wart</span> <span style=\"background-color: rgba(255, 255, 255, 0); padding: 2px 4px; margin: 2px; text-decoration: none;\">ed</span> <span style=\"background-color: rgba(255, 255, 255, 0); padding: 2px 4px; margin: 2px; text-decoration: none;\">a</span> <span style=\"background-color: rgba(255, 255, 255, 0); padding: 2px 4px; margin: 2px; text-decoration: none;\">planned</span> <span style=\"background-color: rgba(255, 255, 255, 0); padding: 2px 4px; margin: 2px; text-decoration: none;\">he</span> <span style=\"background-color: rgba(196, 22, 27, 0.7); padding: 2px 4px; margin: 2px; text-decoration: none;\">ist</span> <span style=\"background-color: rgba(118, 3, 15, 0.7); padding: 2px 4px; margin: 2px; text-decoration: none;\">at</span> <span style=\"background-color: rgba(255, 255, 255, 0); padding: 2px 4px; margin: 2px; text-decoration: none;\">the</span> <span style=\"background-color: rgba(255, 255, 255, 0); padding: 2px 4px; margin: 2px; text-decoration: none;\">national</span> <span style=\"background-color: rgba(255, 255, 255, 0); padding: 2px 4px; margin: 2px; text-decoration: none;\">bank</span> <span style=\"background-color: rgba(255, 255, 255, 0); padding: 2px 4px; margin: 2px; text-decoration: none;\">.</span> </p>"
      ],
      "text/plain": [
       "<IPython.core.display.HTML object>"
      ]
     },
     "metadata": {},
     "output_type": "display_data"
    },
    {
     "data": {
      "text/html": [
       "<p style='font-family: monospace; text-decoration: none;'><span style=\"background-color: rgba(161, 14, 20, 0.7); padding: 2px 4px; margin: 2px; text-decoration: none;\">G</span> <span style=\"background-color: rgba(255, 255, 255, 0); padding: 2px 4px; margin: 2px; text-decoration: none;\">ang</span> <span style=\"background-color: rgba(190, 20, 26, 0.7); padding: 2px 4px; margin: 2px; text-decoration: none;\">violence</span> <span style=\"background-color: rgba(118, 3, 15, 0.7); padding: 2px 4px; margin: 2px; text-decoration: none;\">in</span> <span style=\"background-color: rgba(255, 255, 255, 0); padding: 2px 4px; margin: 2px; text-decoration: none;\">the</span> <span style=\"background-color: rgba(255, 255, 255, 0); padding: 2px 4px; margin: 2px; text-decoration: none;\">city</span> <span style=\"background-color: rgba(255, 255, 255, 0); padding: 2px 4px; margin: 2px; text-decoration: none;\">is</span> <span style=\"background-color: rgba(255, 255, 255, 0); padding: 2px 4px; margin: 2px; text-decoration: none;\">being</span> <span style=\"background-color: rgba(208, 29, 31, 0.7); padding: 2px 4px; margin: 2px; text-decoration: none;\">addressed</span> <span style=\"background-color: rgba(255, 255, 255, 0); padding: 2px 4px; margin: 2px; text-decoration: none;\">with</span> <span style=\"background-color: rgba(255, 255, 255, 0); padding: 2px 4px; margin: 2px; text-decoration: none;\">increased</span> <span style=\"background-color: rgba(255, 255, 255, 0); padding: 2px 4px; margin: 2px; text-decoration: none;\">police</span> <span style=\"background-color: rgba(255, 255, 255, 0); padding: 2px 4px; margin: 2px; text-decoration: none;\">patrol</span> <span style=\"background-color: rgba(255, 255, 255, 0); padding: 2px 4px; margin: 2px; text-decoration: none;\">s</span> <span style=\"background-color: rgba(255, 255, 255, 0); padding: 2px 4px; margin: 2px; text-decoration: none;\">.</span> </p>"
      ],
      "text/plain": [
       "<IPython.core.display.HTML object>"
      ]
     },
     "metadata": {},
     "output_type": "display_data"
    },
    {
     "data": {
      "text/html": [
       "<p style='font-family: monospace; text-decoration: none;'><span style=\"background-color: rgba(163, 14, 20, 0.7); padding: 2px 4px; margin: 2px; text-decoration: none;\">The</span> <span style=\"background-color: rgba(216, 37, 34, 0.7); padding: 2px 4px; margin: 2px; text-decoration: none;\">quick</span> <span style=\"background-color: rgba(193, 21, 27, 0.7); padding: 2px 4px; margin: 2px; text-decoration: none;\">brown</span> <span style=\"background-color: rgba(213, 34, 33, 0.7); padding: 2px 4px; margin: 2px; text-decoration: none;\">f</span> <span style=\"background-color: rgba(255, 255, 255, 0); padding: 2px 4px; margin: 2px; text-decoration: none;\">ox</span> <span style=\"background-color: rgba(216, 37, 34, 0.7); padding: 2px 4px; margin: 2px; text-decoration: none;\">j</span> <span style=\"background-color: rgba(255, 255, 255, 0); padding: 2px 4px; margin: 2px; text-decoration: none;\">umps</span> <span style=\"background-color: rgba(255, 255, 255, 0); padding: 2px 4px; margin: 2px; text-decoration: none;\">over</span> <span style=\"background-color: rgba(255, 255, 255, 0); padding: 2px 4px; margin: 2px; text-decoration: none;\">the</span> <span style=\"background-color: rgba(255, 255, 255, 0); padding: 2px 4px; margin: 2px; text-decoration: none;\">lazy</span> <span style=\"background-color: rgba(255, 255, 255, 0); padding: 2px 4px; margin: 2px; text-decoration: none;\">dog</span> <span style=\"background-color: rgba(118, 3, 15, 0.7); padding: 2px 4px; margin: 2px; text-decoration: none;\">.</span> </p>"
      ],
      "text/plain": [
       "<IPython.core.display.HTML object>"
      ]
     },
     "metadata": {},
     "output_type": "display_data"
    }
   ],
   "source": [
    "# Crime related\n",
    "theme_texts = [\n",
    "    \"The suspect was caught red-handed. Police confirmed the stolen goods were recovered.\",\n",
    "    \"The crime rate in urban areas has steadily increased over the past decade.\",\n",
    "    \"Law enforcement officers are working hard to combat rising theft cases.\",\n",
    "    \"Recent statistics show an alarming rise in burglary incidents in the neighborhood.\",\n",
    "    \"The investigation into the high-profile murder case is still ongoing.\",\n",
    "    \"Cybercrime is becoming a significant threat to online businesses and individuals.\",\n",
    "    \"Robbery attempts in broad daylight have left citizens worried about their safety.\",\n",
    "    \"A series of fraud cases involving credit cards has been reported recently.\",\n",
    "    \"The police successfully thwarted a planned heist at the national bank.\",\n",
    "    \"Gang violence in the city is being addressed with increased police patrols.\",\n",
    "    \"The quick brown fox jumps over the lazy dog.\"  # Dummy sentence for comparison\n",
    "]\n",
    "\n",
    "# Example usage\n",
    "active_features = analyze_feature_responses_grouped_and_visualize(\n",
    "    theme_texts=theme_texts,\n",
    "    tokenizer=tokenizer,\n",
    "    model=model,\n",
    "    sae_model=sae_model,\n",
    "    gather_residual_activations=gather_residual_activations,\n",
    "    layer_index=16,\n",
    "    activation_threshold=0.7,\n",
    "    num_activations=0.8,\n",
    "    display_n=5\n",
    ")"
   ]
  },
  {
   "cell_type": "code",
   "execution_count": 58,
   "id": "b1345ba0",
   "metadata": {},
   "outputs": [
    {
     "name": "stdout",
     "output_type": "stream",
     "text": [
      "Features activated by more than 0.8 texts: 15, [111492, 29732, 218917, 61255, 373609, 278635, 355055, 89360, 307952, 379922, 151283, 332276, 353240, 305882, 97951]\n",
      "\n",
      "Visualizing Feature 111492\n"
     ]
    },
    {
     "name": "stderr",
     "output_type": "stream",
     "text": [
      "/tmp/ipykernel_633169/1808605176.py:7: MatplotlibDeprecationWarning: The get_cmap function was deprecated in Matplotlib 3.7 and will be removed in 3.11. Use ``matplotlib.colormaps[name]`` or ``matplotlib.colormaps.get_cmap()`` or ``pyplot.get_cmap()`` instead.\n",
      "  cmap = cm.get_cmap(\"Reds\")\n"
     ]
    },
    {
     "data": {
      "text/html": [
       "<p style='font-family: monospace; text-decoration: none;'><span style=\"background-color: rgba(118, 3, 15, 0.7); padding: 2px 4px; margin: 2px; text-decoration: none;\">She</span> <span style=\"background-color: rgba(230, 50, 40, 0.7); padding: 2px 4px; margin: 2px; text-decoration: none;\">is</span> <span style=\"background-color: rgba(245, 83, 59, 0.7); padding: 2px 4px; margin: 2px; text-decoration: none;\">a</span> <span style=\"background-color: rgba(245, 84, 60, 0.7); padding: 2px 4px; margin: 2px; text-decoration: none;\">nurse</span> <span style=\"background-color: rgba(255, 255, 255, 0); padding: 2px 4px; margin: 2px; text-decoration: none;\">who</span> <span style=\"background-color: rgba(255, 255, 255, 0); padding: 2px 4px; margin: 2px; text-decoration: none;\">takes</span> <span style=\"background-color: rgba(255, 255, 255, 0); padding: 2px 4px; margin: 2px; text-decoration: none;\">care</span> <span style=\"background-color: rgba(110, 1, 14, 0.7); padding: 2px 4px; margin: 2px; text-decoration: none;\">of</span> <span style=\"background-color: rgba(255, 255, 255, 0); padding: 2px 4px; margin: 2px; text-decoration: none;\">her</span> <span style=\"background-color: rgba(255, 255, 255, 0); padding: 2px 4px; margin: 2px; text-decoration: none;\">patients</span> <span style=\"background-color: rgba(255, 255, 255, 0); padding: 2px 4px; margin: 2px; text-decoration: none;\">with</span> <span style=\"background-color: rgba(255, 255, 255, 0); padding: 2px 4px; margin: 2px; text-decoration: none;\">great</span> <span style=\"background-color: rgba(255, 255, 255, 0); padding: 2px 4px; margin: 2px; text-decoration: none;\">ded</span> <span style=\"background-color: rgba(255, 255, 255, 0); padding: 2px 4px; margin: 2px; text-decoration: none;\">ication</span> <span style=\"background-color: rgba(255, 255, 255, 0); padding: 2px 4px; margin: 2px; text-decoration: none;\">.</span> </p>"
      ],
      "text/plain": [
       "<IPython.core.display.HTML object>"
      ]
     },
     "metadata": {},
     "output_type": "display_data"
    },
    {
     "data": {
      "text/html": [
       "<p style='font-family: monospace; text-decoration: none;'><span style=\"background-color: rgba(118, 3, 15, 0.7); padding: 2px 4px; margin: 2px; text-decoration: none;\">He</span> <span style=\"background-color: rgba(229, 49, 39, 0.7); padding: 2px 4px; margin: 2px; text-decoration: none;\">is</span> <span style=\"background-color: rgba(242, 71, 51, 0.7); padding: 2px 4px; margin: 2px; text-decoration: none;\">a</span> <span style=\"background-color: rgba(236, 56, 42, 0.7); padding: 2px 4px; margin: 2px; text-decoration: none;\">fire</span> <span style=\"background-color: rgba(248, 97, 68, 0.7); padding: 2px 4px; margin: 2px; text-decoration: none;\">fig</span> <span style=\"background-color: rgba(246, 89, 63, 0.7); padding: 2px 4px; margin: 2px; text-decoration: none;\">h</span> <span style=\"background-color: rgba(248, 96, 67, 0.7); padding: 2px 4px; margin: 2px; text-decoration: none;\">ter</span> <span style=\"background-color: rgba(255, 255, 255, 0); padding: 2px 4px; margin: 2px; text-decoration: none;\">who</span> <span style=\"background-color: rgba(255, 255, 255, 0); padding: 2px 4px; margin: 2px; text-decoration: none;\">risk</span> <span style=\"background-color: rgba(255, 255, 255, 0); padding: 2px 4px; margin: 2px; text-decoration: none;\">ed</span> <span style=\"background-color: rgba(255, 255, 255, 0); padding: 2px 4px; margin: 2px; text-decoration: none;\">his</span> <span style=\"background-color: rgba(255, 255, 255, 0); padding: 2px 4px; margin: 2px; text-decoration: none;\">life</span> <span style=\"background-color: rgba(110, 1, 14, 0.7); padding: 2px 4px; margin: 2px; text-decoration: none;\">to</span> <span style=\"background-color: rgba(255, 255, 255, 0); padding: 2px 4px; margin: 2px; text-decoration: none;\">save</span> <span style=\"background-color: rgba(255, 255, 255, 0); padding: 2px 4px; margin: 2px; text-decoration: none;\">the</span> <span style=\"background-color: rgba(255, 255, 255, 0); padding: 2px 4px; margin: 2px; text-decoration: none;\">family</span> <span style=\"background-color: rgba(255, 255, 255, 0); padding: 2px 4px; margin: 2px; text-decoration: none;\">from</span> <span style=\"background-color: rgba(255, 255, 255, 0); padding: 2px 4px; margin: 2px; text-decoration: none;\">the</span> <span style=\"background-color: rgba(255, 255, 255, 0); padding: 2px 4px; margin: 2px; text-decoration: none;\">burning</span> <span style=\"background-color: rgba(255, 255, 255, 0); padding: 2px 4px; margin: 2px; text-decoration: none;\">house</span> <span style=\"background-color: rgba(255, 255, 255, 0); padding: 2px 4px; margin: 2px; text-decoration: none;\">.</span> </p>"
      ],
      "text/plain": [
       "<IPython.core.display.HTML object>"
      ]
     },
     "metadata": {},
     "output_type": "display_data"
    },
    {
     "data": {
      "text/html": [
       "<p style='font-family: monospace; text-decoration: none;'><span style=\"background-color: rgba(120, 4, 15, 0.7); padding: 2px 4px; margin: 2px; text-decoration: none;\">The</span> <span style=\"background-color: rgba(242, 72, 52, 0.7); padding: 2px 4px; margin: 2px; text-decoration: none;\">CEO</span> <span style=\"background-color: rgba(110, 1, 14, 0.7); padding: 2px 4px; margin: 2px; text-decoration: none;\">of</span> <span style=\"background-color: rgba(255, 255, 255, 0); padding: 2px 4px; margin: 2px; text-decoration: none;\">the</span> <span style=\"background-color: rgba(255, 255, 255, 0); padding: 2px 4px; margin: 2px; text-decoration: none;\">company</span> <span style=\"background-color: rgba(255, 255, 255, 0); padding: 2px 4px; margin: 2px; text-decoration: none;\">announced</span> <span style=\"background-color: rgba(255, 255, 255, 0); padding: 2px 4px; margin: 2px; text-decoration: none;\">her</span> <span style=\"background-color: rgba(255, 255, 255, 0); padding: 2px 4px; margin: 2px; text-decoration: none;\">vision</span> <span style=\"background-color: rgba(255, 255, 255, 0); padding: 2px 4px; margin: 2px; text-decoration: none;\">for</span> <span style=\"background-color: rgba(255, 255, 255, 0); padding: 2px 4px; margin: 2px; text-decoration: none;\">the</span> <span style=\"background-color: rgba(255, 255, 255, 0); padding: 2px 4px; margin: 2px; text-decoration: none;\">next</span> <span style=\"background-color: rgba(255, 255, 255, 0); padding: 2px 4px; margin: 2px; text-decoration: none;\">quarter</span> <span style=\"background-color: rgba(255, 255, 255, 0); padding: 2px 4px; margin: 2px; text-decoration: none;\">.</span> </p>"
      ],
      "text/plain": [
       "<IPython.core.display.HTML object>"
      ]
     },
     "metadata": {},
     "output_type": "display_data"
    },
    {
     "data": {
      "text/html": [
       "<p style='font-family: monospace; text-decoration: none;'><span style=\"background-color: rgba(120, 4, 15, 0.7); padding: 2px 4px; margin: 2px; text-decoration: none;\">The</span> <span style=\"background-color: rgba(234, 55, 42, 0.7); padding: 2px 4px; margin: 2px; text-decoration: none;\">construction</span> <span style=\"background-color: rgba(248, 97, 68, 0.7); padding: 2px 4px; margin: 2px; text-decoration: none;\">worker</span> <span style=\"background-color: rgba(255, 255, 255, 0); padding: 2px 4px; margin: 2px; text-decoration: none;\">showed</span> <span style=\"background-color: rgba(255, 255, 255, 0); padding: 2px 4px; margin: 2px; text-decoration: none;\">his</span> <span style=\"background-color: rgba(255, 255, 255, 0); padding: 2px 4px; margin: 2px; text-decoration: none;\">team</span> <span style=\"background-color: rgba(255, 255, 255, 0); padding: 2px 4px; margin: 2px; text-decoration: none;\">how</span> <span style=\"background-color: rgba(110, 1, 14, 0.7); padding: 2px 4px; margin: 2px; text-decoration: none;\">to</span> <span style=\"background-color: rgba(255, 255, 255, 0); padding: 2px 4px; margin: 2px; text-decoration: none;\">operate</span> <span style=\"background-color: rgba(255, 255, 255, 0); padding: 2px 4px; margin: 2px; text-decoration: none;\">the</span> <span style=\"background-color: rgba(255, 255, 255, 0); padding: 2px 4px; margin: 2px; text-decoration: none;\">heavy</span> <span style=\"background-color: rgba(255, 255, 255, 0); padding: 2px 4px; margin: 2px; text-decoration: none;\">machinery</span> <span style=\"background-color: rgba(255, 255, 255, 0); padding: 2px 4px; margin: 2px; text-decoration: none;\">.</span> </p>"
      ],
      "text/plain": [
       "<IPython.core.display.HTML object>"
      ]
     },
     "metadata": {},
     "output_type": "display_data"
    },
    {
     "data": {
      "text/html": [
       "<p style='font-family: monospace; text-decoration: none;'><span style=\"background-color: rgba(118, 3, 15, 0.7); padding: 2px 4px; margin: 2px; text-decoration: none;\">She</span> <span style=\"background-color: rgba(230, 50, 40, 0.7); padding: 2px 4px; margin: 2px; text-decoration: none;\">is</span> <span style=\"background-color: rgba(245, 83, 59, 0.7); padding: 2px 4px; margin: 2px; text-decoration: none;\">a</span> <span style=\"background-color: rgba(244, 78, 56, 0.7); padding: 2px 4px; margin: 2px; text-decoration: none;\">teacher</span> <span style=\"background-color: rgba(255, 255, 255, 0); padding: 2px 4px; margin: 2px; text-decoration: none;\">who</span> <span style=\"background-color: rgba(255, 255, 255, 0); padding: 2px 4px; margin: 2px; text-decoration: none;\">always</span> <span style=\"background-color: rgba(255, 255, 255, 0); padding: 2px 4px; margin: 2px; text-decoration: none;\">insp</span> <span style=\"background-color: rgba(255, 255, 255, 0); padding: 2px 4px; margin: 2px; text-decoration: none;\">ires</span> <span style=\"background-color: rgba(255, 255, 255, 0); padding: 2px 4px; margin: 2px; text-decoration: none;\">her</span> <span style=\"background-color: rgba(255, 255, 255, 0); padding: 2px 4px; margin: 2px; text-decoration: none;\">students</span> <span style=\"background-color: rgba(110, 1, 14, 0.7); padding: 2px 4px; margin: 2px; text-decoration: none;\">to</span> <span style=\"background-color: rgba(255, 255, 255, 0); padding: 2px 4px; margin: 2px; text-decoration: none;\">achieve</span> <span style=\"background-color: rgba(255, 255, 255, 0); padding: 2px 4px; margin: 2px; text-decoration: none;\">their</span> <span style=\"background-color: rgba(255, 255, 255, 0); padding: 2px 4px; margin: 2px; text-decoration: none;\">best</span> <span style=\"background-color: rgba(250, 105, 73, 0.7); padding: 2px 4px; margin: 2px; text-decoration: none;\">.</span> </p>"
      ],
      "text/plain": [
       "<IPython.core.display.HTML object>"
      ]
     },
     "metadata": {},
     "output_type": "display_data"
    },
    {
     "data": {
      "text/html": [
       "<p style='font-family: monospace; text-decoration: none;'><span style=\"background-color: rgba(118, 3, 15, 0.7); padding: 2px 4px; margin: 2px; text-decoration: none;\">He</span> <span style=\"background-color: rgba(229, 49, 39, 0.7); padding: 2px 4px; margin: 2px; text-decoration: none;\">is</span> <span style=\"background-color: rgba(242, 71, 51, 0.7); padding: 2px 4px; margin: 2px; text-decoration: none;\">a</span> <span style=\"background-color: rgba(240, 65, 48, 0.7); padding: 2px 4px; margin: 2px; text-decoration: none;\">stay</span> <span style=\"background-color: rgba(110, 1, 14, 0.7); padding: 2px 4px; margin: 2px; text-decoration: none;\">-</span> <span style=\"background-color: rgba(255, 255, 255, 0); padding: 2px 4px; margin: 2px; text-decoration: none;\">at</span> <span style=\"background-color: rgba(247, 90, 64, 0.7); padding: 2px 4px; margin: 2px; text-decoration: none;\">-</span> <span style=\"background-color: rgba(255, 255, 255, 0); padding: 2px 4px; margin: 2px; text-decoration: none;\">home</span> <span style=\"background-color: rgba(248, 97, 68, 0.7); padding: 2px 4px; margin: 2px; text-decoration: none;\">dad</span> <span style=\"background-color: rgba(255, 255, 255, 0); padding: 2px 4px; margin: 2px; text-decoration: none;\">who</span> <span style=\"background-color: rgba(255, 255, 255, 0); padding: 2px 4px; margin: 2px; text-decoration: none;\">loves</span> <span style=\"background-color: rgba(255, 255, 255, 0); padding: 2px 4px; margin: 2px; text-decoration: none;\">spending</span> <span style=\"background-color: rgba(255, 255, 255, 0); padding: 2px 4px; margin: 2px; text-decoration: none;\">time</span> <span style=\"background-color: rgba(255, 255, 255, 0); padding: 2px 4px; margin: 2px; text-decoration: none;\">with</span> <span style=\"background-color: rgba(255, 255, 255, 0); padding: 2px 4px; margin: 2px; text-decoration: none;\">his</span> <span style=\"background-color: rgba(245, 86, 61, 0.7); padding: 2px 4px; margin: 2px; text-decoration: none;\">children</span> <span style=\"background-color: rgba(255, 255, 255, 0); padding: 2px 4px; margin: 2px; text-decoration: none;\">.</span> </p>"
      ],
      "text/plain": [
       "<IPython.core.display.HTML object>"
      ]
     },
     "metadata": {},
     "output_type": "display_data"
    },
    {
     "data": {
      "text/html": [
       "<p style='font-family: monospace; text-decoration: none;'><span style=\"background-color: rgba(120, 4, 15, 0.7); padding: 2px 4px; margin: 2px; text-decoration: none;\">The</span> <span style=\"background-color: rgba(246, 89, 63, 0.7); padding: 2px 4px; margin: 2px; text-decoration: none;\">female</span> <span style=\"background-color: rgba(255, 255, 255, 0); padding: 2px 4px; margin: 2px; text-decoration: none;\">scientist</span> <span style=\"background-color: rgba(248, 94, 66, 0.7); padding: 2px 4px; margin: 2px; text-decoration: none;\">received</span> <span style=\"background-color: rgba(255, 255, 255, 0); padding: 2px 4px; margin: 2px; text-decoration: none;\">a</span> <span style=\"background-color: rgba(255, 255, 255, 0); padding: 2px 4px; margin: 2px; text-decoration: none;\">prest</span> <span style=\"background-color: rgba(255, 255, 255, 0); padding: 2px 4px; margin: 2px; text-decoration: none;\">igious</span> <span style=\"background-color: rgba(245, 86, 61, 0.7); padding: 2px 4px; margin: 2px; text-decoration: none;\">award</span> <span style=\"background-color: rgba(110, 1, 14, 0.7); padding: 2px 4px; margin: 2px; text-decoration: none;\">for</span> <span style=\"background-color: rgba(255, 255, 255, 0); padding: 2px 4px; margin: 2px; text-decoration: none;\">her</span> <span style=\"background-color: rgba(255, 255, 255, 0); padding: 2px 4px; margin: 2px; text-decoration: none;\">ground</span> <span style=\"background-color: rgba(255, 255, 255, 0); padding: 2px 4px; margin: 2px; text-decoration: none;\">breaking</span> <span style=\"background-color: rgba(255, 255, 255, 0); padding: 2px 4px; margin: 2px; text-decoration: none;\">research</span> <span style=\"background-color: rgba(248, 97, 68, 0.7); padding: 2px 4px; margin: 2px; text-decoration: none;\">.</span> </p>"
      ],
      "text/plain": [
       "<IPython.core.display.HTML object>"
      ]
     },
     "metadata": {},
     "output_type": "display_data"
    },
    {
     "data": {
      "text/html": [
       "<p style='font-family: monospace; text-decoration: none;'><span style=\"background-color: rgba(120, 4, 15, 0.7); padding: 2px 4px; margin: 2px; text-decoration: none;\">The</span> <span style=\"background-color: rgba(243, 75, 54, 0.7); padding: 2px 4px; margin: 2px; text-decoration: none;\">male</span> <span style=\"background-color: rgba(250, 105, 73, 0.7); padding: 2px 4px; margin: 2px; text-decoration: none;\">nurse</span> <span style=\"background-color: rgba(255, 255, 255, 0); padding: 2px 4px; margin: 2px; text-decoration: none;\">was</span> <span style=\"background-color: rgba(244, 81, 58, 0.7); padding: 2px 4px; margin: 2px; text-decoration: none;\">praised</span> <span style=\"background-color: rgba(110, 1, 14, 0.7); padding: 2px 4px; margin: 2px; text-decoration: none;\">for</span> <span style=\"background-color: rgba(255, 255, 255, 0); padding: 2px 4px; margin: 2px; text-decoration: none;\">his</span> <span style=\"background-color: rgba(255, 255, 255, 0); padding: 2px 4px; margin: 2px; text-decoration: none;\">compassion</span> <span style=\"background-color: rgba(255, 255, 255, 0); padding: 2px 4px; margin: 2px; text-decoration: none;\">and</span> <span style=\"background-color: rgba(255, 255, 255, 0); padding: 2px 4px; margin: 2px; text-decoration: none;\">professional</span> <span style=\"background-color: rgba(255, 255, 255, 0); padding: 2px 4px; margin: 2px; text-decoration: none;\">ism</span> <span style=\"background-color: rgba(255, 255, 255, 0); padding: 2px 4px; margin: 2px; text-decoration: none;\">in</span> <span style=\"background-color: rgba(255, 255, 255, 0); padding: 2px 4px; margin: 2px; text-decoration: none;\">the</span> <span style=\"background-color: rgba(255, 255, 255, 0); padding: 2px 4px; margin: 2px; text-decoration: none;\">emergency</span> <span style=\"background-color: rgba(255, 255, 255, 0); padding: 2px 4px; margin: 2px; text-decoration: none;\">room</span> <span style=\"background-color: rgba(250, 105, 73, 0.7); padding: 2px 4px; margin: 2px; text-decoration: none;\">.</span> </p>"
      ],
      "text/plain": [
       "<IPython.core.display.HTML object>"
      ]
     },
     "metadata": {},
     "output_type": "display_data"
    },
    {
     "data": {
      "text/html": [
       "<p style='font-family: monospace; text-decoration: none;'><span style=\"background-color: rgba(118, 3, 15, 0.7); padding: 2px 4px; margin: 2px; text-decoration: none;\">She</span> <span style=\"background-color: rgba(230, 50, 40, 0.7); padding: 2px 4px; margin: 2px; text-decoration: none;\">is</span> <span style=\"background-color: rgba(245, 83, 59, 0.7); padding: 2px 4px; margin: 2px; text-decoration: none;\">a</span> <span style=\"background-color: rgba(243, 75, 54, 0.7); padding: 2px 4px; margin: 2px; text-decoration: none;\">pilot</span> <span style=\"background-color: rgba(250, 103, 72, 0.7); padding: 2px 4px; margin: 2px; text-decoration: none;\">who</span> <span style=\"background-color: rgba(255, 255, 255, 0); padding: 2px 4px; margin: 2px; text-decoration: none;\">successfully</span> <span style=\"background-color: rgba(255, 255, 255, 0); padding: 2px 4px; margin: 2px; text-decoration: none;\">landed</span> <span style=\"background-color: rgba(255, 255, 255, 0); padding: 2px 4px; margin: 2px; text-decoration: none;\">the</span> <span style=\"background-color: rgba(255, 255, 255, 0); padding: 2px 4px; margin: 2px; text-decoration: none;\">aircraft</span> <span style=\"background-color: rgba(255, 255, 255, 0); padding: 2px 4px; margin: 2px; text-decoration: none;\">during</span> <span style=\"background-color: rgba(255, 255, 255, 0); padding: 2px 4px; margin: 2px; text-decoration: none;\">a</span> <span style=\"background-color: rgba(255, 255, 255, 0); padding: 2px 4px; margin: 2px; text-decoration: none;\">storm</span> <span style=\"background-color: rgba(110, 1, 14, 0.7); padding: 2px 4px; margin: 2px; text-decoration: none;\">.</span> </p>"
      ],
      "text/plain": [
       "<IPython.core.display.HTML object>"
      ]
     },
     "metadata": {},
     "output_type": "display_data"
    },
    {
     "data": {
      "text/html": [
       "<p style='font-family: monospace; text-decoration: none;'><span style=\"background-color: rgba(120, 4, 15, 0.7); padding: 2px 4px; margin: 2px; text-decoration: none;\">The</span> <span style=\"background-color: rgba(239, 59, 44, 0.7); padding: 2px 4px; margin: 2px; text-decoration: none;\">father</span> <span style=\"background-color: rgba(255, 255, 255, 0); padding: 2px 4px; margin: 2px; text-decoration: none;\">cooked</span> <span style=\"background-color: rgba(244, 80, 57, 0.7); padding: 2px 4px; margin: 2px; text-decoration: none;\">dinner</span> <span style=\"background-color: rgba(255, 255, 255, 0); padding: 2px 4px; margin: 2px; text-decoration: none;\">while</span> <span style=\"background-color: rgba(255, 255, 255, 0); padding: 2px 4px; margin: 2px; text-decoration: none;\">the</span> <span style=\"background-color: rgba(255, 255, 255, 0); padding: 2px 4px; margin: 2px; text-decoration: none;\">mother</span> <span style=\"background-color: rgba(255, 255, 255, 0); padding: 2px 4px; margin: 2px; text-decoration: none;\">worked</span> <span style=\"background-color: rgba(250, 103, 72, 0.7); padding: 2px 4px; margin: 2px; text-decoration: none;\">late</span> <span style=\"background-color: rgba(110, 1, 14, 0.7); padding: 2px 4px; margin: 2px; text-decoration: none;\">at</span> <span style=\"background-color: rgba(255, 255, 255, 0); padding: 2px 4px; margin: 2px; text-decoration: none;\">the</span> <span style=\"background-color: rgba(247, 93, 66, 0.7); padding: 2px 4px; margin: 2px; text-decoration: none;\">office</span> <span style=\"background-color: rgba(239, 62, 46, 0.7); padding: 2px 4px; margin: 2px; text-decoration: none;\">.</span> </p>"
      ],
      "text/plain": [
       "<IPython.core.display.HTML object>"
      ]
     },
     "metadata": {},
     "output_type": "display_data"
    },
    {
     "data": {
      "text/html": [
       "<p style='font-family: monospace; text-decoration: none;'><span style=\"background-color: rgba(118, 3, 15, 0.7); padding: 2px 4px; margin: 2px; text-decoration: none;\">He</span> <span style=\"background-color: rgba(229, 49, 39, 0.7); padding: 2px 4px; margin: 2px; text-decoration: none;\">is</span> <span style=\"background-color: rgba(242, 71, 51, 0.7); padding: 2px 4px; margin: 2px; text-decoration: none;\">a</span> <span style=\"background-color: rgba(241, 69, 50, 0.7); padding: 2px 4px; margin: 2px; text-decoration: none;\">ha</span> <span style=\"background-color: rgba(255, 255, 255, 0); padding: 2px 4px; margin: 2px; text-decoration: none;\">irst</span> <span style=\"background-color: rgba(250, 102, 71, 0.7); padding: 2px 4px; margin: 2px; text-decoration: none;\">y</span> <span style=\"background-color: rgba(242, 72, 52, 0.7); padding: 2px 4px; margin: 2px; text-decoration: none;\">list</span> <span style=\"background-color: rgba(110, 1, 14, 0.7); padding: 2px 4px; margin: 2px; text-decoration: none;\">with</span> <span style=\"background-color: rgba(255, 255, 255, 0); padding: 2px 4px; margin: 2px; text-decoration: none;\">a</span> <span style=\"background-color: rgba(255, 255, 255, 0); padding: 2px 4px; margin: 2px; text-decoration: none;\">reputation</span> <span style=\"background-color: rgba(255, 255, 255, 0); padding: 2px 4px; margin: 2px; text-decoration: none;\">for</span> <span style=\"background-color: rgba(255, 255, 255, 0); padding: 2px 4px; margin: 2px; text-decoration: none;\">creativity</span> <span style=\"background-color: rgba(255, 255, 255, 0); padding: 2px 4px; margin: 2px; text-decoration: none;\">and</span> <span style=\"background-color: rgba(255, 255, 255, 0); padding: 2px 4px; margin: 2px; text-decoration: none;\">attention</span> <span style=\"background-color: rgba(255, 255, 255, 0); padding: 2px 4px; margin: 2px; text-decoration: none;\">to</span> <span style=\"background-color: rgba(255, 255, 255, 0); padding: 2px 4px; margin: 2px; text-decoration: none;\">detail</span> <span style=\"background-color: rgba(255, 255, 255, 0); padding: 2px 4px; margin: 2px; text-decoration: none;\">.</span> </p>"
      ],
      "text/plain": [
       "<IPython.core.display.HTML object>"
      ]
     },
     "metadata": {},
     "output_type": "display_data"
    },
    {
     "data": {
      "text/html": [
       "<p style='font-family: monospace; text-decoration: none;'><span style=\"background-color: rgba(118, 3, 15, 0.7); padding: 2px 4px; margin: 2px; text-decoration: none;\">She</span> <span style=\"background-color: rgba(230, 50, 40, 0.7); padding: 2px 4px; margin: 2px; text-decoration: none;\">is</span> <span style=\"background-color: rgba(245, 83, 59, 0.7); padding: 2px 4px; margin: 2px; text-decoration: none;\">a</span> <span style=\"background-color: rgba(241, 68, 50, 0.7); padding: 2px 4px; margin: 2px; text-decoration: none;\">mechan</span> <span style=\"background-color: rgba(249, 100, 70, 0.7); padding: 2px 4px; margin: 2px; text-decoration: none;\">ic</span> <span style=\"background-color: rgba(255, 255, 255, 0); padding: 2px 4px; margin: 2px; text-decoration: none;\">who</span> <span style=\"background-color: rgba(255, 255, 255, 0); padding: 2px 4px; margin: 2px; text-decoration: none;\">rep</span> <span style=\"background-color: rgba(255, 255, 255, 0); padding: 2px 4px; margin: 2px; text-decoration: none;\">aired</span> <span style=\"background-color: rgba(255, 255, 255, 0); padding: 2px 4px; margin: 2px; text-decoration: none;\">the</span> <span style=\"background-color: rgba(255, 255, 255, 0); padding: 2px 4px; margin: 2px; text-decoration: none;\">car</span> <span style=\"background-color: rgba(245, 84, 60, 0.7); padding: 2px 4px; margin: 2px; text-decoration: none;\">quickly</span> <span style=\"background-color: rgba(110, 1, 14, 0.7); padding: 2px 4px; margin: 2px; text-decoration: none;\">and</span> <span style=\"background-color: rgba(255, 255, 255, 0); padding: 2px 4px; margin: 2px; text-decoration: none;\">efficiently</span> <span style=\"background-color: rgba(248, 94, 66, 0.7); padding: 2px 4px; margin: 2px; text-decoration: none;\">.</span> </p>"
      ],
      "text/plain": [
       "<IPython.core.display.HTML object>"
      ]
     },
     "metadata": {},
     "output_type": "display_data"
    },
    {
     "data": {
      "text/html": [
       "<p style='font-family: monospace; text-decoration: none;'><span style=\"background-color: rgba(120, 4, 15, 0.7); padding: 2px 4px; margin: 2px; text-decoration: none;\">The</span> <span style=\"background-color: rgba(241, 66, 49, 0.7); padding: 2px 4px; margin: 2px; text-decoration: none;\">mother</span> <span style=\"background-color: rgba(255, 255, 255, 0); padding: 2px 4px; margin: 2px; text-decoration: none;\">dropped</span> <span style=\"background-color: rgba(255, 255, 255, 0); padding: 2px 4px; margin: 2px; text-decoration: none;\">her</span> <span style=\"background-color: rgba(250, 105, 73, 0.7); padding: 2px 4px; margin: 2px; text-decoration: none;\">child</span> <span style=\"background-color: rgba(255, 255, 255, 0); padding: 2px 4px; margin: 2px; text-decoration: none;\">off</span> <span style=\"background-color: rgba(110, 1, 14, 0.7); padding: 2px 4px; margin: 2px; text-decoration: none;\">at</span> <span style=\"background-color: rgba(240, 63, 47, 0.7); padding: 2px 4px; margin: 2px; text-decoration: none;\">school</span> <span style=\"background-color: rgba(255, 255, 255, 0); padding: 2px 4px; margin: 2px; text-decoration: none;\">before</span> <span style=\"background-color: rgba(255, 255, 255, 0); padding: 2px 4px; margin: 2px; text-decoration: none;\">heading</span> <span style=\"background-color: rgba(255, 255, 255, 0); padding: 2px 4px; margin: 2px; text-decoration: none;\">to</span> <span style=\"background-color: rgba(255, 255, 255, 0); padding: 2px 4px; margin: 2px; text-decoration: none;\">the</span> <span style=\"background-color: rgba(255, 255, 255, 0); padding: 2px 4px; margin: 2px; text-decoration: none;\">board</span> <span style=\"background-color: rgba(248, 97, 68, 0.7); padding: 2px 4px; margin: 2px; text-decoration: none;\">meeting</span> <span style=\"background-color: rgba(255, 255, 255, 0); padding: 2px 4px; margin: 2px; text-decoration: none;\">.</span> </p>"
      ],
      "text/plain": [
       "<IPython.core.display.HTML object>"
      ]
     },
     "metadata": {},
     "output_type": "display_data"
    },
    {
     "data": {
      "text/html": [
       "<p style='font-family: monospace; text-decoration: none;'><span style=\"background-color: rgba(120, 4, 15, 0.7); padding: 2px 4px; margin: 2px; text-decoration: none;\">The</span> <span style=\"background-color: rgba(243, 75, 54, 0.7); padding: 2px 4px; margin: 2px; text-decoration: none;\">male</span> <span style=\"background-color: rgba(222, 42, 37, 0.7); padding: 2px 4px; margin: 2px; text-decoration: none;\">kind</span> <span style=\"background-color: rgba(255, 255, 255, 0); padding: 2px 4px; margin: 2px; text-decoration: none;\">erg</span> <span style=\"background-color: rgba(255, 255, 255, 0); padding: 2px 4px; margin: 2px; text-decoration: none;\">arten</span> <span style=\"background-color: rgba(255, 255, 255, 0); padding: 2px 4px; margin: 2px; text-decoration: none;\">teacher</span> <span style=\"background-color: rgba(255, 255, 255, 0); padding: 2px 4px; margin: 2px; text-decoration: none;\">sang</span> <span style=\"background-color: rgba(255, 255, 255, 0); padding: 2px 4px; margin: 2px; text-decoration: none;\">songs</span> <span style=\"background-color: rgba(110, 1, 14, 0.7); padding: 2px 4px; margin: 2px; text-decoration: none;\">with</span> <span style=\"background-color: rgba(255, 255, 255, 0); padding: 2px 4px; margin: 2px; text-decoration: none;\">his</span> <span style=\"background-color: rgba(255, 255, 255, 0); padding: 2px 4px; margin: 2px; text-decoration: none;\">students</span> <span style=\"background-color: rgba(255, 255, 255, 0); padding: 2px 4px; margin: 2px; text-decoration: none;\">during</span> <span style=\"background-color: rgba(255, 255, 255, 0); padding: 2px 4px; margin: 2px; text-decoration: none;\">story</span> <span style=\"background-color: rgba(255, 255, 255, 0); padding: 2px 4px; margin: 2px; text-decoration: none;\">time</span> <span style=\"background-color: rgba(248, 97, 68, 0.7); padding: 2px 4px; margin: 2px; text-decoration: none;\">.</span> </p>"
      ],
      "text/plain": [
       "<IPython.core.display.HTML object>"
      ]
     },
     "metadata": {},
     "output_type": "display_data"
    },
    {
     "data": {
      "text/html": [
       "<p style='font-family: monospace; text-decoration: none;'><span style=\"background-color: rgba(118, 3, 15, 0.7); padding: 2px 4px; margin: 2px; text-decoration: none;\">She</span> <span style=\"background-color: rgba(230, 50, 40, 0.7); padding: 2px 4px; margin: 2px; text-decoration: none;\">is</span> <span style=\"background-color: rgba(245, 83, 59, 0.7); padding: 2px 4px; margin: 2px; text-decoration: none;\">a</span> <span style=\"background-color: rgba(244, 81, 58, 0.7); padding: 2px 4px; margin: 2px; text-decoration: none;\">soldier</span> <span style=\"background-color: rgba(250, 105, 73, 0.7); padding: 2px 4px; margin: 2px; text-decoration: none;\">who</span> <span style=\"background-color: rgba(255, 255, 255, 0); padding: 2px 4px; margin: 2px; text-decoration: none;\">served</span> <span style=\"background-color: rgba(255, 255, 255, 0); padding: 2px 4px; margin: 2px; text-decoration: none;\">her</span> <span style=\"background-color: rgba(255, 255, 255, 0); padding: 2px 4px; margin: 2px; text-decoration: none;\">country</span> <span style=\"background-color: rgba(110, 1, 14, 0.7); padding: 2px 4px; margin: 2px; text-decoration: none;\">with</span> <span style=\"background-color: rgba(255, 255, 255, 0); padding: 2px 4px; margin: 2px; text-decoration: none;\">bra</span> <span style=\"background-color: rgba(255, 255, 255, 0); padding: 2px 4px; margin: 2px; text-decoration: none;\">very</span> <span style=\"background-color: rgba(255, 255, 255, 0); padding: 2px 4px; margin: 2px; text-decoration: none;\">and</span> <span style=\"background-color: rgba(255, 255, 255, 0); padding: 2px 4px; margin: 2px; text-decoration: none;\">honor</span> <span style=\"background-color: rgba(249, 100, 70, 0.7); padding: 2px 4px; margin: 2px; text-decoration: none;\">.</span> </p>"
      ],
      "text/plain": [
       "<IPython.core.display.HTML object>"
      ]
     },
     "metadata": {},
     "output_type": "display_data"
    },
    {
     "data": {
      "text/html": [
       "<p style='font-family: monospace; text-decoration: none;'><span style=\"background-color: rgba(118, 3, 15, 0.7); padding: 2px 4px; margin: 2px; text-decoration: none;\">He</span> <span style=\"background-color: rgba(229, 49, 39, 0.7); padding: 2px 4px; margin: 2px; text-decoration: none;\">is</span> <span style=\"background-color: rgba(242, 71, 51, 0.7); padding: 2px 4px; margin: 2px; text-decoration: none;\">a</span> <span style=\"background-color: rgba(244, 81, 58, 0.7); padding: 2px 4px; margin: 2px; text-decoration: none;\">chef</span> <span style=\"background-color: rgba(255, 255, 255, 0); padding: 2px 4px; margin: 2px; text-decoration: none;\">who</span> <span style=\"background-color: rgba(255, 255, 255, 0); padding: 2px 4px; margin: 2px; text-decoration: none;\">special</span> <span style=\"background-color: rgba(255, 255, 255, 0); padding: 2px 4px; margin: 2px; text-decoration: none;\">izes</span> <span style=\"background-color: rgba(110, 1, 14, 0.7); padding: 2px 4px; margin: 2px; text-decoration: none;\">in</span> <span style=\"background-color: rgba(255, 255, 255, 0); padding: 2px 4px; margin: 2px; text-decoration: none;\">creating</span> <span style=\"background-color: rgba(255, 255, 255, 0); padding: 2px 4px; margin: 2px; text-decoration: none;\">intr</span> <span style=\"background-color: rgba(255, 255, 255, 0); padding: 2px 4px; margin: 2px; text-decoration: none;\">icate</span> <span style=\"background-color: rgba(255, 255, 255, 0); padding: 2px 4px; margin: 2px; text-decoration: none;\">dess</span> <span style=\"background-color: rgba(255, 255, 255, 0); padding: 2px 4px; margin: 2px; text-decoration: none;\">erts</span> <span style=\"background-color: rgba(255, 255, 255, 0); padding: 2px 4px; margin: 2px; text-decoration: none;\">and</span> <span style=\"background-color: rgba(255, 255, 255, 0); padding: 2px 4px; margin: 2px; text-decoration: none;\">past</span> <span style=\"background-color: rgba(255, 255, 255, 0); padding: 2px 4px; margin: 2px; text-decoration: none;\">ries</span> <span style=\"background-color: rgba(255, 255, 255, 0); padding: 2px 4px; margin: 2px; text-decoration: none;\">.</span> </p>"
      ],
      "text/plain": [
       "<IPython.core.display.HTML object>"
      ]
     },
     "metadata": {},
     "output_type": "display_data"
    },
    {
     "data": {
      "text/html": [
       "<p style='font-family: monospace; text-decoration: none;'><span style=\"background-color: rgba(120, 4, 15, 0.7); padding: 2px 4px; margin: 2px; text-decoration: none;\">The</span> <span style=\"background-color: rgba(246, 89, 63, 0.7); padding: 2px 4px; margin: 2px; text-decoration: none;\">female</span> <span style=\"background-color: rgba(244, 80, 57, 0.7); padding: 2px 4px; margin: 2px; text-decoration: none;\">ath</span> <span style=\"background-color: rgba(255, 255, 255, 0); padding: 2px 4px; margin: 2px; text-decoration: none;\">lete</span> <span style=\"background-color: rgba(246, 89, 63, 0.7); padding: 2px 4px; margin: 2px; text-decoration: none;\">broke</span> <span style=\"background-color: rgba(255, 255, 255, 0); padding: 2px 4px; margin: 2px; text-decoration: none;\">several</span> <span style=\"background-color: rgba(255, 255, 255, 0); padding: 2px 4px; margin: 2px; text-decoration: none;\">world</span> <span style=\"background-color: rgba(255, 255, 255, 0); padding: 2px 4px; margin: 2px; text-decoration: none;\">records</span> <span style=\"background-color: rgba(110, 1, 14, 0.7); padding: 2px 4px; margin: 2px; text-decoration: none;\">at</span> <span style=\"background-color: rgba(255, 255, 255, 0); padding: 2px 4px; margin: 2px; text-decoration: none;\">the</span> <span style=\"background-color: rgba(255, 255, 255, 0); padding: 2px 4px; margin: 2px; text-decoration: none;\">international</span> <span style=\"background-color: rgba(255, 255, 255, 0); padding: 2px 4px; margin: 2px; text-decoration: none;\">competition</span> <span style=\"background-color: rgba(255, 255, 255, 0); padding: 2px 4px; margin: 2px; text-decoration: none;\">.</span> </p>"
      ],
      "text/plain": [
       "<IPython.core.display.HTML object>"
      ]
     },
     "metadata": {},
     "output_type": "display_data"
    },
    {
     "data": {
      "text/html": [
       "<p style='font-family: monospace; text-decoration: none;'><span style=\"background-color: rgba(118, 3, 15, 0.7); padding: 2px 4px; margin: 2px; text-decoration: none;\">He</span> <span style=\"background-color: rgba(229, 49, 39, 0.7); padding: 2px 4px; margin: 2px; text-decoration: none;\">is</span> <span style=\"background-color: rgba(242, 71, 51, 0.7); padding: 2px 4px; margin: 2px; text-decoration: none;\">a</span> <span style=\"background-color: rgba(246, 89, 63, 0.7); padding: 2px 4px; margin: 2px; text-decoration: none;\">d</span> <span style=\"background-color: rgba(243, 75, 54, 0.7); padding: 2px 4px; margin: 2px; text-decoration: none;\">ancer</span> <span style=\"background-color: rgba(255, 255, 255, 0); padding: 2px 4px; margin: 2px; text-decoration: none;\">who</span> <span style=\"background-color: rgba(250, 105, 73, 0.7); padding: 2px 4px; margin: 2px; text-decoration: none;\">performs</span> <span style=\"background-color: rgba(255, 255, 255, 0); padding: 2px 4px; margin: 2px; text-decoration: none;\">both</span> <span style=\"background-color: rgba(241, 68, 50, 0.7); padding: 2px 4px; margin: 2px; text-decoration: none;\">classical</span> <span style=\"background-color: rgba(110, 1, 14, 0.7); padding: 2px 4px; margin: 2px; text-decoration: none;\">and</span> <span style=\"background-color: rgba(255, 255, 255, 0); padding: 2px 4px; margin: 2px; text-decoration: none;\">contemporary</span> <span style=\"background-color: rgba(255, 255, 255, 0); padding: 2px 4px; margin: 2px; text-decoration: none;\">styles</span> <span style=\"background-color: rgba(250, 102, 71, 0.7); padding: 2px 4px; margin: 2px; text-decoration: none;\">.</span> </p>"
      ],
      "text/plain": [
       "<IPython.core.display.HTML object>"
      ]
     },
     "metadata": {},
     "output_type": "display_data"
    },
    {
     "data": {
      "text/html": [
       "<p style='font-family: monospace; text-decoration: none;'><span style=\"background-color: rgba(118, 3, 15, 0.7); padding: 2px 4px; margin: 2px; text-decoration: none;\">She</span> <span style=\"background-color: rgba(230, 50, 40, 0.7); padding: 2px 4px; margin: 2px; text-decoration: none;\">is</span> <span style=\"background-color: rgba(243, 75, 54, 0.7); padding: 2px 4px; margin: 2px; text-decoration: none;\">an</span> <span style=\"background-color: rgba(241, 66, 49, 0.7); padding: 2px 4px; margin: 2px; text-decoration: none;\">engineer</span> <span style=\"background-color: rgba(255, 255, 255, 0); padding: 2px 4px; margin: 2px; text-decoration: none;\">who</span> <span style=\"background-color: rgba(255, 255, 255, 0); padding: 2px 4px; margin: 2px; text-decoration: none;\">designed</span> <span style=\"background-color: rgba(255, 255, 255, 0); padding: 2px 4px; margin: 2px; text-decoration: none;\">an</span> <span style=\"background-color: rgba(255, 255, 255, 0); padding: 2px 4px; margin: 2px; text-decoration: none;\">innovative</span> <span style=\"background-color: rgba(255, 255, 255, 0); padding: 2px 4px; margin: 2px; text-decoration: none;\">bridge</span> <span style=\"background-color: rgba(110, 1, 14, 0.7); padding: 2px 4px; margin: 2px; text-decoration: none;\">to</span> <span style=\"background-color: rgba(255, 255, 255, 0); padding: 2px 4px; margin: 2px; text-decoration: none;\">reduce</span> <span style=\"background-color: rgba(255, 255, 255, 0); padding: 2px 4px; margin: 2px; text-decoration: none;\">traffic</span> <span style=\"background-color: rgba(255, 255, 255, 0); padding: 2px 4px; margin: 2px; text-decoration: none;\">con</span> <span style=\"background-color: rgba(255, 255, 255, 0); padding: 2px 4px; margin: 2px; text-decoration: none;\">gest</span> <span style=\"background-color: rgba(255, 255, 255, 0); padding: 2px 4px; margin: 2px; text-decoration: none;\">ion</span> <span style=\"background-color: rgba(255, 255, 255, 0); padding: 2px 4px; margin: 2px; text-decoration: none;\">.</span> </p>"
      ],
      "text/plain": [
       "<IPython.core.display.HTML object>"
      ]
     },
     "metadata": {},
     "output_type": "display_data"
    },
    {
     "data": {
      "text/html": [
       "<p style='font-family: monospace; text-decoration: none;'><span style=\"background-color: rgba(120, 4, 15, 0.7); padding: 2px 4px; margin: 2px; text-decoration: none;\">The</span> <span style=\"background-color: rgba(243, 75, 54, 0.7); padding: 2px 4px; margin: 2px; text-decoration: none;\">male</span> <span style=\"background-color: rgba(255, 255, 255, 0); padding: 2px 4px; margin: 2px; text-decoration: none;\">l</span> <span style=\"background-color: rgba(246, 89, 63, 0.7); padding: 2px 4px; margin: 2px; text-decoration: none;\">ibr</span> <span style=\"background-color: rgba(255, 255, 255, 0); padding: 2px 4px; margin: 2px; text-decoration: none;\">arian</span> <span style=\"background-color: rgba(245, 84, 60, 0.7); padding: 2px 4px; margin: 2px; text-decoration: none;\">recommended</span> <span style=\"background-color: rgba(255, 255, 255, 0); padding: 2px 4px; margin: 2px; text-decoration: none;\">a</span> <span style=\"background-color: rgba(255, 255, 255, 0); padding: 2px 4px; margin: 2px; text-decoration: none;\">fascinating</span> <span style=\"background-color: rgba(255, 255, 255, 0); padding: 2px 4px; margin: 2px; text-decoration: none;\">novel</span> <span style=\"background-color: rgba(110, 1, 14, 0.7); padding: 2px 4px; margin: 2px; text-decoration: none;\">to</span> <span style=\"background-color: rgba(255, 255, 255, 0); padding: 2px 4px; margin: 2px; text-decoration: none;\">the</span> <span style=\"background-color: rgba(250, 103, 72, 0.7); padding: 2px 4px; margin: 2px; text-decoration: none;\">students</span> <span style=\"background-color: rgba(255, 255, 255, 0); padding: 2px 4px; margin: 2px; text-decoration: none;\">.</span> </p>"
      ],
      "text/plain": [
       "<IPython.core.display.HTML object>"
      ]
     },
     "metadata": {},
     "output_type": "display_data"
    },
    {
     "name": "stdout",
     "output_type": "stream",
     "text": [
      "\n",
      "Visualizing Feature 29732\n"
     ]
    },
    {
     "data": {
      "text/html": [
       "<p style='font-family: monospace; text-decoration: none;'><span style=\"background-color: rgba(132, 7, 16, 0.7); padding: 2px 4px; margin: 2px; text-decoration: none;\">She</span> <span style=\"background-color: rgba(241, 68, 50, 0.7); padding: 2px 4px; margin: 2px; text-decoration: none;\">is</span> <span style=\"background-color: rgba(248, 94, 66, 0.7); padding: 2px 4px; margin: 2px; text-decoration: none;\">a</span> <span style=\"background-color: rgba(247, 93, 66, 0.7); padding: 2px 4px; margin: 2px; text-decoration: none;\">nurse</span> <span style=\"background-color: rgba(255, 255, 255, 0); padding: 2px 4px; margin: 2px; text-decoration: none;\">who</span> <span style=\"background-color: rgba(255, 255, 255, 0); padding: 2px 4px; margin: 2px; text-decoration: none;\">takes</span> <span style=\"background-color: rgba(255, 255, 255, 0); padding: 2px 4px; margin: 2px; text-decoration: none;\">care</span> <span style=\"background-color: rgba(110, 1, 14, 0.7); padding: 2px 4px; margin: 2px; text-decoration: none;\">of</span> <span style=\"background-color: rgba(255, 255, 255, 0); padding: 2px 4px; margin: 2px; text-decoration: none;\">her</span> <span style=\"background-color: rgba(255, 255, 255, 0); padding: 2px 4px; margin: 2px; text-decoration: none;\">patients</span> <span style=\"background-color: rgba(255, 255, 255, 0); padding: 2px 4px; margin: 2px; text-decoration: none;\">with</span> <span style=\"background-color: rgba(255, 255, 255, 0); padding: 2px 4px; margin: 2px; text-decoration: none;\">great</span> <span style=\"background-color: rgba(255, 255, 255, 0); padding: 2px 4px; margin: 2px; text-decoration: none;\">ded</span> <span style=\"background-color: rgba(255, 255, 255, 0); padding: 2px 4px; margin: 2px; text-decoration: none;\">ication</span> <span style=\"background-color: rgba(255, 255, 255, 0); padding: 2px 4px; margin: 2px; text-decoration: none;\">.</span> </p>"
      ],
      "text/plain": [
       "<IPython.core.display.HTML object>"
      ]
     },
     "metadata": {},
     "output_type": "display_data"
    },
    {
     "data": {
      "text/html": [
       "<p style='font-family: monospace; text-decoration: none;'><span style=\"background-color: rgba(132, 7, 16, 0.7); padding: 2px 4px; margin: 2px; text-decoration: none;\">He</span> <span style=\"background-color: rgba(241, 69, 50, 0.7); padding: 2px 4px; margin: 2px; text-decoration: none;\">is</span> <span style=\"background-color: rgba(245, 86, 61, 0.7); padding: 2px 4px; margin: 2px; text-decoration: none;\">a</span> <span style=\"background-color: rgba(241, 66, 49, 0.7); padding: 2px 4px; margin: 2px; text-decoration: none;\">fire</span> <span style=\"background-color: rgba(255, 255, 255, 0); padding: 2px 4px; margin: 2px; text-decoration: none;\">fig</span> <span style=\"background-color: rgba(250, 102, 71, 0.7); padding: 2px 4px; margin: 2px; text-decoration: none;\">h</span> <span style=\"background-color: rgba(250, 105, 73, 0.7); padding: 2px 4px; margin: 2px; text-decoration: none;\">ter</span> <span style=\"background-color: rgba(255, 255, 255, 0); padding: 2px 4px; margin: 2px; text-decoration: none;\">who</span> <span style=\"background-color: rgba(255, 255, 255, 0); padding: 2px 4px; margin: 2px; text-decoration: none;\">risk</span> <span style=\"background-color: rgba(255, 255, 255, 0); padding: 2px 4px; margin: 2px; text-decoration: none;\">ed</span> <span style=\"background-color: rgba(255, 255, 255, 0); padding: 2px 4px; margin: 2px; text-decoration: none;\">his</span> <span style=\"background-color: rgba(255, 255, 255, 0); padding: 2px 4px; margin: 2px; text-decoration: none;\">life</span> <span style=\"background-color: rgba(110, 1, 14, 0.7); padding: 2px 4px; margin: 2px; text-decoration: none;\">to</span> <span style=\"background-color: rgba(255, 255, 255, 0); padding: 2px 4px; margin: 2px; text-decoration: none;\">save</span> <span style=\"background-color: rgba(255, 255, 255, 0); padding: 2px 4px; margin: 2px; text-decoration: none;\">the</span> <span style=\"background-color: rgba(255, 255, 255, 0); padding: 2px 4px; margin: 2px; text-decoration: none;\">family</span> <span style=\"background-color: rgba(255, 255, 255, 0); padding: 2px 4px; margin: 2px; text-decoration: none;\">from</span> <span style=\"background-color: rgba(255, 255, 255, 0); padding: 2px 4px; margin: 2px; text-decoration: none;\">the</span> <span style=\"background-color: rgba(255, 255, 255, 0); padding: 2px 4px; margin: 2px; text-decoration: none;\">burning</span> <span style=\"background-color: rgba(255, 255, 255, 0); padding: 2px 4px; margin: 2px; text-decoration: none;\">house</span> <span style=\"background-color: rgba(255, 255, 255, 0); padding: 2px 4px; margin: 2px; text-decoration: none;\">.</span> </p>"
      ],
      "text/plain": [
       "<IPython.core.display.HTML object>"
      ]
     },
     "metadata": {},
     "output_type": "display_data"
    },
    {
     "data": {
      "text/html": [
       "<p style='font-family: monospace; text-decoration: none;'><span style=\"background-color: rgba(132, 7, 16, 0.7); padding: 2px 4px; margin: 2px; text-decoration: none;\">The</span> <span style=\"background-color: rgba(247, 93, 66, 0.7); padding: 2px 4px; margin: 2px; text-decoration: none;\">CEO</span> <span style=\"background-color: rgba(110, 1, 14, 0.7); padding: 2px 4px; margin: 2px; text-decoration: none;\">of</span> <span style=\"background-color: rgba(255, 255, 255, 0); padding: 2px 4px; margin: 2px; text-decoration: none;\">the</span> <span style=\"background-color: rgba(255, 255, 255, 0); padding: 2px 4px; margin: 2px; text-decoration: none;\">company</span> <span style=\"background-color: rgba(255, 255, 255, 0); padding: 2px 4px; margin: 2px; text-decoration: none;\">announced</span> <span style=\"background-color: rgba(255, 255, 255, 0); padding: 2px 4px; margin: 2px; text-decoration: none;\">her</span> <span style=\"background-color: rgba(255, 255, 255, 0); padding: 2px 4px; margin: 2px; text-decoration: none;\">vision</span> <span style=\"background-color: rgba(255, 255, 255, 0); padding: 2px 4px; margin: 2px; text-decoration: none;\">for</span> <span style=\"background-color: rgba(255, 255, 255, 0); padding: 2px 4px; margin: 2px; text-decoration: none;\">the</span> <span style=\"background-color: rgba(255, 255, 255, 0); padding: 2px 4px; margin: 2px; text-decoration: none;\">next</span> <span style=\"background-color: rgba(255, 255, 255, 0); padding: 2px 4px; margin: 2px; text-decoration: none;\">quarter</span> <span style=\"background-color: rgba(255, 255, 255, 0); padding: 2px 4px; margin: 2px; text-decoration: none;\">.</span> </p>"
      ],
      "text/plain": [
       "<IPython.core.display.HTML object>"
      ]
     },
     "metadata": {},
     "output_type": "display_data"
    },
    {
     "data": {
      "text/html": [
       "<p style='font-family: monospace; text-decoration: none;'><span style=\"background-color: rgba(132, 7, 16, 0.7); padding: 2px 4px; margin: 2px; text-decoration: none;\">The</span> <span style=\"background-color: rgba(241, 68, 50, 0.7); padding: 2px 4px; margin: 2px; text-decoration: none;\">construction</span> <span style=\"background-color: rgba(255, 255, 255, 0); padding: 2px 4px; margin: 2px; text-decoration: none;\">worker</span> <span style=\"background-color: rgba(255, 255, 255, 0); padding: 2px 4px; margin: 2px; text-decoration: none;\">showed</span> <span style=\"background-color: rgba(255, 255, 255, 0); padding: 2px 4px; margin: 2px; text-decoration: none;\">his</span> <span style=\"background-color: rgba(255, 255, 255, 0); padding: 2px 4px; margin: 2px; text-decoration: none;\">team</span> <span style=\"background-color: rgba(255, 255, 255, 0); padding: 2px 4px; margin: 2px; text-decoration: none;\">how</span> <span style=\"background-color: rgba(110, 1, 14, 0.7); padding: 2px 4px; margin: 2px; text-decoration: none;\">to</span> <span style=\"background-color: rgba(255, 255, 255, 0); padding: 2px 4px; margin: 2px; text-decoration: none;\">operate</span> <span style=\"background-color: rgba(255, 255, 255, 0); padding: 2px 4px; margin: 2px; text-decoration: none;\">the</span> <span style=\"background-color: rgba(255, 255, 255, 0); padding: 2px 4px; margin: 2px; text-decoration: none;\">heavy</span> <span style=\"background-color: rgba(255, 255, 255, 0); padding: 2px 4px; margin: 2px; text-decoration: none;\">machinery</span> <span style=\"background-color: rgba(255, 255, 255, 0); padding: 2px 4px; margin: 2px; text-decoration: none;\">.</span> </p>"
      ],
      "text/plain": [
       "<IPython.core.display.HTML object>"
      ]
     },
     "metadata": {},
     "output_type": "display_data"
    },
    {
     "data": {
      "text/html": [
       "<p style='font-family: monospace; text-decoration: none;'><span style=\"background-color: rgba(132, 7, 16, 0.7); padding: 2px 4px; margin: 2px; text-decoration: none;\">She</span> <span style=\"background-color: rgba(241, 68, 50, 0.7); padding: 2px 4px; margin: 2px; text-decoration: none;\">is</span> <span style=\"background-color: rgba(248, 94, 66, 0.7); padding: 2px 4px; margin: 2px; text-decoration: none;\">a</span> <span style=\"background-color: rgba(247, 90, 64, 0.7); padding: 2px 4px; margin: 2px; text-decoration: none;\">teacher</span> <span style=\"background-color: rgba(255, 255, 255, 0); padding: 2px 4px; margin: 2px; text-decoration: none;\">who</span> <span style=\"background-color: rgba(255, 255, 255, 0); padding: 2px 4px; margin: 2px; text-decoration: none;\">always</span> <span style=\"background-color: rgba(255, 255, 255, 0); padding: 2px 4px; margin: 2px; text-decoration: none;\">insp</span> <span style=\"background-color: rgba(255, 255, 255, 0); padding: 2px 4px; margin: 2px; text-decoration: none;\">ires</span> <span style=\"background-color: rgba(255, 255, 255, 0); padding: 2px 4px; margin: 2px; text-decoration: none;\">her</span> <span style=\"background-color: rgba(255, 255, 255, 0); padding: 2px 4px; margin: 2px; text-decoration: none;\">students</span> <span style=\"background-color: rgba(110, 1, 14, 0.7); padding: 2px 4px; margin: 2px; text-decoration: none;\">to</span> <span style=\"background-color: rgba(255, 255, 255, 0); padding: 2px 4px; margin: 2px; text-decoration: none;\">achieve</span> <span style=\"background-color: rgba(255, 255, 255, 0); padding: 2px 4px; margin: 2px; text-decoration: none;\">their</span> <span style=\"background-color: rgba(255, 255, 255, 0); padding: 2px 4px; margin: 2px; text-decoration: none;\">best</span> <span style=\"background-color: rgba(255, 255, 255, 0); padding: 2px 4px; margin: 2px; text-decoration: none;\">.</span> </p>"
      ],
      "text/plain": [
       "<IPython.core.display.HTML object>"
      ]
     },
     "metadata": {},
     "output_type": "display_data"
    },
    {
     "data": {
      "text/html": [
       "<p style='font-family: monospace; text-decoration: none;'><span style=\"background-color: rgba(132, 7, 16, 0.7); padding: 2px 4px; margin: 2px; text-decoration: none;\">He</span> <span style=\"background-color: rgba(241, 69, 50, 0.7); padding: 2px 4px; margin: 2px; text-decoration: none;\">is</span> <span style=\"background-color: rgba(245, 86, 61, 0.7); padding: 2px 4px; margin: 2px; text-decoration: none;\">a</span> <span style=\"background-color: rgba(245, 86, 61, 0.7); padding: 2px 4px; margin: 2px; text-decoration: none;\">stay</span> <span style=\"background-color: rgba(110, 1, 14, 0.7); padding: 2px 4px; margin: 2px; text-decoration: none;\">-</span> <span style=\"background-color: rgba(255, 255, 255, 0); padding: 2px 4px; margin: 2px; text-decoration: none;\">at</span> <span style=\"background-color: rgba(255, 255, 255, 0); padding: 2px 4px; margin: 2px; text-decoration: none;\">-</span> <span style=\"background-color: rgba(255, 255, 255, 0); padding: 2px 4px; margin: 2px; text-decoration: none;\">home</span> <span style=\"background-color: rgba(255, 255, 255, 0); padding: 2px 4px; margin: 2px; text-decoration: none;\">dad</span> <span style=\"background-color: rgba(255, 255, 255, 0); padding: 2px 4px; margin: 2px; text-decoration: none;\">who</span> <span style=\"background-color: rgba(255, 255, 255, 0); padding: 2px 4px; margin: 2px; text-decoration: none;\">loves</span> <span style=\"background-color: rgba(255, 255, 255, 0); padding: 2px 4px; margin: 2px; text-decoration: none;\">spending</span> <span style=\"background-color: rgba(255, 255, 255, 0); padding: 2px 4px; margin: 2px; text-decoration: none;\">time</span> <span style=\"background-color: rgba(255, 255, 255, 0); padding: 2px 4px; margin: 2px; text-decoration: none;\">with</span> <span style=\"background-color: rgba(255, 255, 255, 0); padding: 2px 4px; margin: 2px; text-decoration: none;\">his</span> <span style=\"background-color: rgba(245, 83, 59, 0.7); padding: 2px 4px; margin: 2px; text-decoration: none;\">children</span> <span style=\"background-color: rgba(255, 255, 255, 0); padding: 2px 4px; margin: 2px; text-decoration: none;\">.</span> </p>"
      ],
      "text/plain": [
       "<IPython.core.display.HTML object>"
      ]
     },
     "metadata": {},
     "output_type": "display_data"
    },
    {
     "data": {
      "text/html": [
       "<p style='font-family: monospace; text-decoration: none;'><span style=\"background-color: rgba(132, 7, 16, 0.7); padding: 2px 4px; margin: 2px; text-decoration: none;\">The</span> <span style=\"background-color: rgba(247, 91, 65, 0.7); padding: 2px 4px; margin: 2px; text-decoration: none;\">female</span> <span style=\"background-color: rgba(255, 255, 255, 0); padding: 2px 4px; margin: 2px; text-decoration: none;\">scientist</span> <span style=\"background-color: rgba(255, 255, 255, 0); padding: 2px 4px; margin: 2px; text-decoration: none;\">received</span> <span style=\"background-color: rgba(255, 255, 255, 0); padding: 2px 4px; margin: 2px; text-decoration: none;\">a</span> <span style=\"background-color: rgba(255, 255, 255, 0); padding: 2px 4px; margin: 2px; text-decoration: none;\">prest</span> <span style=\"background-color: rgba(255, 255, 255, 0); padding: 2px 4px; margin: 2px; text-decoration: none;\">igious</span> <span style=\"background-color: rgba(248, 97, 68, 0.7); padding: 2px 4px; margin: 2px; text-decoration: none;\">award</span> <span style=\"background-color: rgba(110, 1, 14, 0.7); padding: 2px 4px; margin: 2px; text-decoration: none;\">for</span> <span style=\"background-color: rgba(255, 255, 255, 0); padding: 2px 4px; margin: 2px; text-decoration: none;\">her</span> <span style=\"background-color: rgba(255, 255, 255, 0); padding: 2px 4px; margin: 2px; text-decoration: none;\">ground</span> <span style=\"background-color: rgba(255, 255, 255, 0); padding: 2px 4px; margin: 2px; text-decoration: none;\">breaking</span> <span style=\"background-color: rgba(255, 255, 255, 0); padding: 2px 4px; margin: 2px; text-decoration: none;\">research</span> <span style=\"background-color: rgba(255, 255, 255, 0); padding: 2px 4px; margin: 2px; text-decoration: none;\">.</span> </p>"
      ],
      "text/plain": [
       "<IPython.core.display.HTML object>"
      ]
     },
     "metadata": {},
     "output_type": "display_data"
    },
    {
     "data": {
      "text/html": [
       "<p style='font-family: monospace; text-decoration: none;'><span style=\"background-color: rgba(132, 7, 16, 0.7); padding: 2px 4px; margin: 2px; text-decoration: none;\">The</span> <span style=\"background-color: rgba(244, 81, 58, 0.7); padding: 2px 4px; margin: 2px; text-decoration: none;\">male</span> <span style=\"background-color: rgba(255, 255, 255, 0); padding: 2px 4px; margin: 2px; text-decoration: none;\">nurse</span> <span style=\"background-color: rgba(255, 255, 255, 0); padding: 2px 4px; margin: 2px; text-decoration: none;\">was</span> <span style=\"background-color: rgba(249, 100, 70, 0.7); padding: 2px 4px; margin: 2px; text-decoration: none;\">praised</span> <span style=\"background-color: rgba(110, 1, 14, 0.7); padding: 2px 4px; margin: 2px; text-decoration: none;\">for</span> <span style=\"background-color: rgba(255, 255, 255, 0); padding: 2px 4px; margin: 2px; text-decoration: none;\">his</span> <span style=\"background-color: rgba(255, 255, 255, 0); padding: 2px 4px; margin: 2px; text-decoration: none;\">compassion</span> <span style=\"background-color: rgba(255, 255, 255, 0); padding: 2px 4px; margin: 2px; text-decoration: none;\">and</span> <span style=\"background-color: rgba(255, 255, 255, 0); padding: 2px 4px; margin: 2px; text-decoration: none;\">professional</span> <span style=\"background-color: rgba(255, 255, 255, 0); padding: 2px 4px; margin: 2px; text-decoration: none;\">ism</span> <span style=\"background-color: rgba(255, 255, 255, 0); padding: 2px 4px; margin: 2px; text-decoration: none;\">in</span> <span style=\"background-color: rgba(255, 255, 255, 0); padding: 2px 4px; margin: 2px; text-decoration: none;\">the</span> <span style=\"background-color: rgba(255, 255, 255, 0); padding: 2px 4px; margin: 2px; text-decoration: none;\">emergency</span> <span style=\"background-color: rgba(255, 255, 255, 0); padding: 2px 4px; margin: 2px; text-decoration: none;\">room</span> <span style=\"background-color: rgba(255, 255, 255, 0); padding: 2px 4px; margin: 2px; text-decoration: none;\">.</span> </p>"
      ],
      "text/plain": [
       "<IPython.core.display.HTML object>"
      ]
     },
     "metadata": {},
     "output_type": "display_data"
    },
    {
     "data": {
      "text/html": [
       "<p style='font-family: monospace; text-decoration: none;'><span style=\"background-color: rgba(132, 7, 16, 0.7); padding: 2px 4px; margin: 2px; text-decoration: none;\">She</span> <span style=\"background-color: rgba(241, 68, 50, 0.7); padding: 2px 4px; margin: 2px; text-decoration: none;\">is</span> <span style=\"background-color: rgba(248, 94, 66, 0.7); padding: 2px 4px; margin: 2px; text-decoration: none;\">a</span> <span style=\"background-color: rgba(245, 83, 59, 0.7); padding: 2px 4px; margin: 2px; text-decoration: none;\">pilot</span> <span style=\"background-color: rgba(255, 255, 255, 0); padding: 2px 4px; margin: 2px; text-decoration: none;\">who</span> <span style=\"background-color: rgba(255, 255, 255, 0); padding: 2px 4px; margin: 2px; text-decoration: none;\">successfully</span> <span style=\"background-color: rgba(255, 255, 255, 0); padding: 2px 4px; margin: 2px; text-decoration: none;\">landed</span> <span style=\"background-color: rgba(255, 255, 255, 0); padding: 2px 4px; margin: 2px; text-decoration: none;\">the</span> <span style=\"background-color: rgba(255, 255, 255, 0); padding: 2px 4px; margin: 2px; text-decoration: none;\">aircraft</span> <span style=\"background-color: rgba(255, 255, 255, 0); padding: 2px 4px; margin: 2px; text-decoration: none;\">during</span> <span style=\"background-color: rgba(255, 255, 255, 0); padding: 2px 4px; margin: 2px; text-decoration: none;\">a</span> <span style=\"background-color: rgba(255, 255, 255, 0); padding: 2px 4px; margin: 2px; text-decoration: none;\">storm</span> <span style=\"background-color: rgba(110, 1, 14, 0.7); padding: 2px 4px; margin: 2px; text-decoration: none;\">.</span> </p>"
      ],
      "text/plain": [
       "<IPython.core.display.HTML object>"
      ]
     },
     "metadata": {},
     "output_type": "display_data"
    },
    {
     "data": {
      "text/html": [
       "<p style='font-family: monospace; text-decoration: none;'><span style=\"background-color: rgba(132, 7, 16, 0.7); padding: 2px 4px; margin: 2px; text-decoration: none;\">The</span> <span style=\"background-color: rgba(242, 72, 52, 0.7); padding: 2px 4px; margin: 2px; text-decoration: none;\">father</span> <span style=\"background-color: rgba(255, 255, 255, 0); padding: 2px 4px; margin: 2px; text-decoration: none;\">cooked</span> <span style=\"background-color: rgba(247, 91, 65, 0.7); padding: 2px 4px; margin: 2px; text-decoration: none;\">dinner</span> <span style=\"background-color: rgba(255, 255, 255, 0); padding: 2px 4px; margin: 2px; text-decoration: none;\">while</span> <span style=\"background-color: rgba(255, 255, 255, 0); padding: 2px 4px; margin: 2px; text-decoration: none;\">the</span> <span style=\"background-color: rgba(255, 255, 255, 0); padding: 2px 4px; margin: 2px; text-decoration: none;\">mother</span> <span style=\"background-color: rgba(255, 255, 255, 0); padding: 2px 4px; margin: 2px; text-decoration: none;\">worked</span> <span style=\"background-color: rgba(255, 255, 255, 0); padding: 2px 4px; margin: 2px; text-decoration: none;\">late</span> <span style=\"background-color: rgba(110, 1, 14, 0.7); padding: 2px 4px; margin: 2px; text-decoration: none;\">at</span> <span style=\"background-color: rgba(255, 255, 255, 0); padding: 2px 4px; margin: 2px; text-decoration: none;\">the</span> <span style=\"background-color: rgba(255, 255, 255, 0); padding: 2px 4px; margin: 2px; text-decoration: none;\">office</span> <span style=\"background-color: rgba(244, 78, 56, 0.7); padding: 2px 4px; margin: 2px; text-decoration: none;\">.</span> </p>"
      ],
      "text/plain": [
       "<IPython.core.display.HTML object>"
      ]
     },
     "metadata": {},
     "output_type": "display_data"
    },
    {
     "data": {
      "text/html": [
       "<p style='font-family: monospace; text-decoration: none;'><span style=\"background-color: rgba(132, 7, 16, 0.7); padding: 2px 4px; margin: 2px; text-decoration: none;\">He</span> <span style=\"background-color: rgba(241, 69, 50, 0.7); padding: 2px 4px; margin: 2px; text-decoration: none;\">is</span> <span style=\"background-color: rgba(245, 86, 61, 0.7); padding: 2px 4px; margin: 2px; text-decoration: none;\">a</span> <span style=\"background-color: rgba(245, 83, 59, 0.7); padding: 2px 4px; margin: 2px; text-decoration: none;\">ha</span> <span style=\"background-color: rgba(255, 255, 255, 0); padding: 2px 4px; margin: 2px; text-decoration: none;\">irst</span> <span style=\"background-color: rgba(255, 255, 255, 0); padding: 2px 4px; margin: 2px; text-decoration: none;\">y</span> <span style=\"background-color: rgba(245, 83, 59, 0.7); padding: 2px 4px; margin: 2px; text-decoration: none;\">list</span> <span style=\"background-color: rgba(110, 1, 14, 0.7); padding: 2px 4px; margin: 2px; text-decoration: none;\">with</span> <span style=\"background-color: rgba(255, 255, 255, 0); padding: 2px 4px; margin: 2px; text-decoration: none;\">a</span> <span style=\"background-color: rgba(255, 255, 255, 0); padding: 2px 4px; margin: 2px; text-decoration: none;\">reputation</span> <span style=\"background-color: rgba(255, 255, 255, 0); padding: 2px 4px; margin: 2px; text-decoration: none;\">for</span> <span style=\"background-color: rgba(255, 255, 255, 0); padding: 2px 4px; margin: 2px; text-decoration: none;\">creativity</span> <span style=\"background-color: rgba(255, 255, 255, 0); padding: 2px 4px; margin: 2px; text-decoration: none;\">and</span> <span style=\"background-color: rgba(255, 255, 255, 0); padding: 2px 4px; margin: 2px; text-decoration: none;\">attention</span> <span style=\"background-color: rgba(255, 255, 255, 0); padding: 2px 4px; margin: 2px; text-decoration: none;\">to</span> <span style=\"background-color: rgba(255, 255, 255, 0); padding: 2px 4px; margin: 2px; text-decoration: none;\">detail</span> <span style=\"background-color: rgba(255, 255, 255, 0); padding: 2px 4px; margin: 2px; text-decoration: none;\">.</span> </p>"
      ],
      "text/plain": [
       "<IPython.core.display.HTML object>"
      ]
     },
     "metadata": {},
     "output_type": "display_data"
    },
    {
     "data": {
      "text/html": [
       "<p style='font-family: monospace; text-decoration: none;'><span style=\"background-color: rgba(132, 7, 16, 0.7); padding: 2px 4px; margin: 2px; text-decoration: none;\">She</span> <span style=\"background-color: rgba(241, 68, 50, 0.7); padding: 2px 4px; margin: 2px; text-decoration: none;\">is</span> <span style=\"background-color: rgba(248, 94, 66, 0.7); padding: 2px 4px; margin: 2px; text-decoration: none;\">a</span> <span style=\"background-color: rgba(243, 75, 54, 0.7); padding: 2px 4px; margin: 2px; text-decoration: none;\">mechan</span> <span style=\"background-color: rgba(250, 105, 73, 0.7); padding: 2px 4px; margin: 2px; text-decoration: none;\">ic</span> <span style=\"background-color: rgba(255, 255, 255, 0); padding: 2px 4px; margin: 2px; text-decoration: none;\">who</span> <span style=\"background-color: rgba(255, 255, 255, 0); padding: 2px 4px; margin: 2px; text-decoration: none;\">rep</span> <span style=\"background-color: rgba(255, 255, 255, 0); padding: 2px 4px; margin: 2px; text-decoration: none;\">aired</span> <span style=\"background-color: rgba(255, 255, 255, 0); padding: 2px 4px; margin: 2px; text-decoration: none;\">the</span> <span style=\"background-color: rgba(255, 255, 255, 0); padding: 2px 4px; margin: 2px; text-decoration: none;\">car</span> <span style=\"background-color: rgba(249, 100, 70, 0.7); padding: 2px 4px; margin: 2px; text-decoration: none;\">quickly</span> <span style=\"background-color: rgba(110, 1, 14, 0.7); padding: 2px 4px; margin: 2px; text-decoration: none;\">and</span> <span style=\"background-color: rgba(255, 255, 255, 0); padding: 2px 4px; margin: 2px; text-decoration: none;\">efficiently</span> <span style=\"background-color: rgba(255, 255, 255, 0); padding: 2px 4px; margin: 2px; text-decoration: none;\">.</span> </p>"
      ],
      "text/plain": [
       "<IPython.core.display.HTML object>"
      ]
     },
     "metadata": {},
     "output_type": "display_data"
    },
    {
     "data": {
      "text/html": [
       "<p style='font-family: monospace; text-decoration: none;'><span style=\"background-color: rgba(132, 7, 16, 0.7); padding: 2px 4px; margin: 2px; text-decoration: none;\">The</span> <span style=\"background-color: rgba(244, 78, 56, 0.7); padding: 2px 4px; margin: 2px; text-decoration: none;\">mother</span> <span style=\"background-color: rgba(255, 255, 255, 0); padding: 2px 4px; margin: 2px; text-decoration: none;\">dropped</span> <span style=\"background-color: rgba(255, 255, 255, 0); padding: 2px 4px; margin: 2px; text-decoration: none;\">her</span> <span style=\"background-color: rgba(255, 255, 255, 0); padding: 2px 4px; margin: 2px; text-decoration: none;\">child</span> <span style=\"background-color: rgba(255, 255, 255, 0); padding: 2px 4px; margin: 2px; text-decoration: none;\">off</span> <span style=\"background-color: rgba(112, 2, 14, 0.7); padding: 2px 4px; margin: 2px; text-decoration: none;\">at</span> <span style=\"background-color: rgba(242, 72, 52, 0.7); padding: 2px 4px; margin: 2px; text-decoration: none;\">school</span> <span style=\"background-color: rgba(255, 255, 255, 0); padding: 2px 4px; margin: 2px; text-decoration: none;\">before</span> <span style=\"background-color: rgba(255, 255, 255, 0); padding: 2px 4px; margin: 2px; text-decoration: none;\">heading</span> <span style=\"background-color: rgba(255, 255, 255, 0); padding: 2px 4px; margin: 2px; text-decoration: none;\">to</span> <span style=\"background-color: rgba(255, 255, 255, 0); padding: 2px 4px; margin: 2px; text-decoration: none;\">the</span> <span style=\"background-color: rgba(255, 255, 255, 0); padding: 2px 4px; margin: 2px; text-decoration: none;\">board</span> <span style=\"background-color: rgba(249, 99, 69, 0.7); padding: 2px 4px; margin: 2px; text-decoration: none;\">meeting</span> <span style=\"background-color: rgba(255, 255, 255, 0); padding: 2px 4px; margin: 2px; text-decoration: none;\">.</span> </p>"
      ],
      "text/plain": [
       "<IPython.core.display.HTML object>"
      ]
     },
     "metadata": {},
     "output_type": "display_data"
    },
    {
     "data": {
      "text/html": [
       "<p style='font-family: monospace; text-decoration: none;'><span style=\"background-color: rgba(132, 7, 16, 0.7); padding: 2px 4px; margin: 2px; text-decoration: none;\">The</span> <span style=\"background-color: rgba(244, 81, 58, 0.7); padding: 2px 4px; margin: 2px; text-decoration: none;\">male</span> <span style=\"background-color: rgba(236, 56, 42, 0.7); padding: 2px 4px; margin: 2px; text-decoration: none;\">kind</span> <span style=\"background-color: rgba(255, 255, 255, 0); padding: 2px 4px; margin: 2px; text-decoration: none;\">erg</span> <span style=\"background-color: rgba(255, 255, 255, 0); padding: 2px 4px; margin: 2px; text-decoration: none;\">arten</span> <span style=\"background-color: rgba(255, 255, 255, 0); padding: 2px 4px; margin: 2px; text-decoration: none;\">teacher</span> <span style=\"background-color: rgba(255, 255, 255, 0); padding: 2px 4px; margin: 2px; text-decoration: none;\">sang</span> <span style=\"background-color: rgba(255, 255, 255, 0); padding: 2px 4px; margin: 2px; text-decoration: none;\">songs</span> <span style=\"background-color: rgba(110, 1, 14, 0.7); padding: 2px 4px; margin: 2px; text-decoration: none;\">with</span> <span style=\"background-color: rgba(255, 255, 255, 0); padding: 2px 4px; margin: 2px; text-decoration: none;\">his</span> <span style=\"background-color: rgba(255, 255, 255, 0); padding: 2px 4px; margin: 2px; text-decoration: none;\">students</span> <span style=\"background-color: rgba(255, 255, 255, 0); padding: 2px 4px; margin: 2px; text-decoration: none;\">during</span> <span style=\"background-color: rgba(255, 255, 255, 0); padding: 2px 4px; margin: 2px; text-decoration: none;\">story</span> <span style=\"background-color: rgba(255, 255, 255, 0); padding: 2px 4px; margin: 2px; text-decoration: none;\">time</span> <span style=\"background-color: rgba(255, 255, 255, 0); padding: 2px 4px; margin: 2px; text-decoration: none;\">.</span> </p>"
      ],
      "text/plain": [
       "<IPython.core.display.HTML object>"
      ]
     },
     "metadata": {},
     "output_type": "display_data"
    },
    {
     "data": {
      "text/html": [
       "<p style='font-family: monospace; text-decoration: none;'><span style=\"background-color: rgba(132, 7, 16, 0.7); padding: 2px 4px; margin: 2px; text-decoration: none;\">She</span> <span style=\"background-color: rgba(241, 68, 50, 0.7); padding: 2px 4px; margin: 2px; text-decoration: none;\">is</span> <span style=\"background-color: rgba(248, 94, 66, 0.7); padding: 2px 4px; margin: 2px; text-decoration: none;\">a</span> <span style=\"background-color: rgba(245, 86, 61, 0.7); padding: 2px 4px; margin: 2px; text-decoration: none;\">soldier</span> <span style=\"background-color: rgba(255, 255, 255, 0); padding: 2px 4px; margin: 2px; text-decoration: none;\">who</span> <span style=\"background-color: rgba(255, 255, 255, 0); padding: 2px 4px; margin: 2px; text-decoration: none;\">served</span> <span style=\"background-color: rgba(255, 255, 255, 0); padding: 2px 4px; margin: 2px; text-decoration: none;\">her</span> <span style=\"background-color: rgba(255, 255, 255, 0); padding: 2px 4px; margin: 2px; text-decoration: none;\">country</span> <span style=\"background-color: rgba(110, 1, 14, 0.7); padding: 2px 4px; margin: 2px; text-decoration: none;\">with</span> <span style=\"background-color: rgba(255, 255, 255, 0); padding: 2px 4px; margin: 2px; text-decoration: none;\">bra</span> <span style=\"background-color: rgba(255, 255, 255, 0); padding: 2px 4px; margin: 2px; text-decoration: none;\">very</span> <span style=\"background-color: rgba(255, 255, 255, 0); padding: 2px 4px; margin: 2px; text-decoration: none;\">and</span> <span style=\"background-color: rgba(255, 255, 255, 0); padding: 2px 4px; margin: 2px; text-decoration: none;\">honor</span> <span style=\"background-color: rgba(255, 255, 255, 0); padding: 2px 4px; margin: 2px; text-decoration: none;\">.</span> </p>"
      ],
      "text/plain": [
       "<IPython.core.display.HTML object>"
      ]
     },
     "metadata": {},
     "output_type": "display_data"
    },
    {
     "data": {
      "text/html": [
       "<p style='font-family: monospace; text-decoration: none;'><span style=\"background-color: rgba(132, 7, 16, 0.7); padding: 2px 4px; margin: 2px; text-decoration: none;\">He</span> <span style=\"background-color: rgba(241, 69, 50, 0.7); padding: 2px 4px; margin: 2px; text-decoration: none;\">is</span> <span style=\"background-color: rgba(245, 86, 61, 0.7); padding: 2px 4px; margin: 2px; text-decoration: none;\">a</span> <span style=\"background-color: rgba(247, 93, 66, 0.7); padding: 2px 4px; margin: 2px; text-decoration: none;\">chef</span> <span style=\"background-color: rgba(255, 255, 255, 0); padding: 2px 4px; margin: 2px; text-decoration: none;\">who</span> <span style=\"background-color: rgba(255, 255, 255, 0); padding: 2px 4px; margin: 2px; text-decoration: none;\">special</span> <span style=\"background-color: rgba(255, 255, 255, 0); padding: 2px 4px; margin: 2px; text-decoration: none;\">izes</span> <span style=\"background-color: rgba(110, 1, 14, 0.7); padding: 2px 4px; margin: 2px; text-decoration: none;\">in</span> <span style=\"background-color: rgba(255, 255, 255, 0); padding: 2px 4px; margin: 2px; text-decoration: none;\">creating</span> <span style=\"background-color: rgba(255, 255, 255, 0); padding: 2px 4px; margin: 2px; text-decoration: none;\">intr</span> <span style=\"background-color: rgba(255, 255, 255, 0); padding: 2px 4px; margin: 2px; text-decoration: none;\">icate</span> <span style=\"background-color: rgba(255, 255, 255, 0); padding: 2px 4px; margin: 2px; text-decoration: none;\">dess</span> <span style=\"background-color: rgba(255, 255, 255, 0); padding: 2px 4px; margin: 2px; text-decoration: none;\">erts</span> <span style=\"background-color: rgba(255, 255, 255, 0); padding: 2px 4px; margin: 2px; text-decoration: none;\">and</span> <span style=\"background-color: rgba(255, 255, 255, 0); padding: 2px 4px; margin: 2px; text-decoration: none;\">past</span> <span style=\"background-color: rgba(255, 255, 255, 0); padding: 2px 4px; margin: 2px; text-decoration: none;\">ries</span> <span style=\"background-color: rgba(255, 255, 255, 0); padding: 2px 4px; margin: 2px; text-decoration: none;\">.</span> </p>"
      ],
      "text/plain": [
       "<IPython.core.display.HTML object>"
      ]
     },
     "metadata": {},
     "output_type": "display_data"
    },
    {
     "data": {
      "text/html": [
       "<p style='font-family: monospace; text-decoration: none;'><span style=\"background-color: rgba(132, 7, 16, 0.7); padding: 2px 4px; margin: 2px; text-decoration: none;\">The</span> <span style=\"background-color: rgba(247, 91, 65, 0.7); padding: 2px 4px; margin: 2px; text-decoration: none;\">female</span> <span style=\"background-color: rgba(247, 91, 65, 0.7); padding: 2px 4px; margin: 2px; text-decoration: none;\">ath</span> <span style=\"background-color: rgba(255, 255, 255, 0); padding: 2px 4px; margin: 2px; text-decoration: none;\">lete</span> <span style=\"background-color: rgba(255, 255, 255, 0); padding: 2px 4px; margin: 2px; text-decoration: none;\">broke</span> <span style=\"background-color: rgba(255, 255, 255, 0); padding: 2px 4px; margin: 2px; text-decoration: none;\">several</span> <span style=\"background-color: rgba(255, 255, 255, 0); padding: 2px 4px; margin: 2px; text-decoration: none;\">world</span> <span style=\"background-color: rgba(255, 255, 255, 0); padding: 2px 4px; margin: 2px; text-decoration: none;\">records</span> <span style=\"background-color: rgba(112, 2, 14, 0.7); padding: 2px 4px; margin: 2px; text-decoration: none;\">at</span> <span style=\"background-color: rgba(255, 255, 255, 0); padding: 2px 4px; margin: 2px; text-decoration: none;\">the</span> <span style=\"background-color: rgba(255, 255, 255, 0); padding: 2px 4px; margin: 2px; text-decoration: none;\">international</span> <span style=\"background-color: rgba(255, 255, 255, 0); padding: 2px 4px; margin: 2px; text-decoration: none;\">competition</span> <span style=\"background-color: rgba(255, 255, 255, 0); padding: 2px 4px; margin: 2px; text-decoration: none;\">.</span> </p>"
      ],
      "text/plain": [
       "<IPython.core.display.HTML object>"
      ]
     },
     "metadata": {},
     "output_type": "display_data"
    },
    {
     "data": {
      "text/html": [
       "<p style='font-family: monospace; text-decoration: none;'><span style=\"background-color: rgba(132, 7, 16, 0.7); padding: 2px 4px; margin: 2px; text-decoration: none;\">He</span> <span style=\"background-color: rgba(241, 69, 50, 0.7); padding: 2px 4px; margin: 2px; text-decoration: none;\">is</span> <span style=\"background-color: rgba(245, 86, 61, 0.7); padding: 2px 4px; margin: 2px; text-decoration: none;\">a</span> <span style=\"background-color: rgba(249, 100, 70, 0.7); padding: 2px 4px; margin: 2px; text-decoration: none;\">d</span> <span style=\"background-color: rgba(244, 81, 58, 0.7); padding: 2px 4px; margin: 2px; text-decoration: none;\">ancer</span> <span style=\"background-color: rgba(255, 255, 255, 0); padding: 2px 4px; margin: 2px; text-decoration: none;\">who</span> <span style=\"background-color: rgba(255, 255, 255, 0); padding: 2px 4px; margin: 2px; text-decoration: none;\">performs</span> <span style=\"background-color: rgba(255, 255, 255, 0); padding: 2px 4px; margin: 2px; text-decoration: none;\">both</span> <span style=\"background-color: rgba(243, 77, 55, 0.7); padding: 2px 4px; margin: 2px; text-decoration: none;\">classical</span> <span style=\"background-color: rgba(110, 1, 14, 0.7); padding: 2px 4px; margin: 2px; text-decoration: none;\">and</span> <span style=\"background-color: rgba(255, 255, 255, 0); padding: 2px 4px; margin: 2px; text-decoration: none;\">contemporary</span> <span style=\"background-color: rgba(255, 255, 255, 0); padding: 2px 4px; margin: 2px; text-decoration: none;\">styles</span> <span style=\"background-color: rgba(255, 255, 255, 0); padding: 2px 4px; margin: 2px; text-decoration: none;\">.</span> </p>"
      ],
      "text/plain": [
       "<IPython.core.display.HTML object>"
      ]
     },
     "metadata": {},
     "output_type": "display_data"
    },
    {
     "data": {
      "text/html": [
       "<p style='font-family: monospace; text-decoration: none;'><span style=\"background-color: rgba(132, 7, 16, 0.7); padding: 2px 4px; margin: 2px; text-decoration: none;\">She</span> <span style=\"background-color: rgba(241, 68, 50, 0.7); padding: 2px 4px; margin: 2px; text-decoration: none;\">is</span> <span style=\"background-color: rgba(255, 255, 255, 0); padding: 2px 4px; margin: 2px; text-decoration: none;\">an</span> <span style=\"background-color: rgba(243, 75, 54, 0.7); padding: 2px 4px; margin: 2px; text-decoration: none;\">engineer</span> <span style=\"background-color: rgba(255, 255, 255, 0); padding: 2px 4px; margin: 2px; text-decoration: none;\">who</span> <span style=\"background-color: rgba(255, 255, 255, 0); padding: 2px 4px; margin: 2px; text-decoration: none;\">designed</span> <span style=\"background-color: rgba(255, 255, 255, 0); padding: 2px 4px; margin: 2px; text-decoration: none;\">an</span> <span style=\"background-color: rgba(255, 255, 255, 0); padding: 2px 4px; margin: 2px; text-decoration: none;\">innovative</span> <span style=\"background-color: rgba(255, 255, 255, 0); padding: 2px 4px; margin: 2px; text-decoration: none;\">bridge</span> <span style=\"background-color: rgba(110, 1, 14, 0.7); padding: 2px 4px; margin: 2px; text-decoration: none;\">to</span> <span style=\"background-color: rgba(255, 255, 255, 0); padding: 2px 4px; margin: 2px; text-decoration: none;\">reduce</span> <span style=\"background-color: rgba(255, 255, 255, 0); padding: 2px 4px; margin: 2px; text-decoration: none;\">traffic</span> <span style=\"background-color: rgba(255, 255, 255, 0); padding: 2px 4px; margin: 2px; text-decoration: none;\">con</span> <span style=\"background-color: rgba(255, 255, 255, 0); padding: 2px 4px; margin: 2px; text-decoration: none;\">gest</span> <span style=\"background-color: rgba(255, 255, 255, 0); padding: 2px 4px; margin: 2px; text-decoration: none;\">ion</span> <span style=\"background-color: rgba(255, 255, 255, 0); padding: 2px 4px; margin: 2px; text-decoration: none;\">.</span> </p>"
      ],
      "text/plain": [
       "<IPython.core.display.HTML object>"
      ]
     },
     "metadata": {},
     "output_type": "display_data"
    },
    {
     "data": {
      "text/html": [
       "<p style='font-family: monospace; text-decoration: none;'><span style=\"background-color: rgba(132, 7, 16, 0.7); padding: 2px 4px; margin: 2px; text-decoration: none;\">The</span> <span style=\"background-color: rgba(244, 81, 58, 0.7); padding: 2px 4px; margin: 2px; text-decoration: none;\">male</span> <span style=\"background-color: rgba(255, 255, 255, 0); padding: 2px 4px; margin: 2px; text-decoration: none;\">l</span> <span style=\"background-color: rgba(250, 102, 71, 0.7); padding: 2px 4px; margin: 2px; text-decoration: none;\">ibr</span> <span style=\"background-color: rgba(255, 255, 255, 0); padding: 2px 4px; margin: 2px; text-decoration: none;\">arian</span> <span style=\"background-color: rgba(250, 105, 73, 0.7); padding: 2px 4px; margin: 2px; text-decoration: none;\">recommended</span> <span style=\"background-color: rgba(255, 255, 255, 0); padding: 2px 4px; margin: 2px; text-decoration: none;\">a</span> <span style=\"background-color: rgba(255, 255, 255, 0); padding: 2px 4px; margin: 2px; text-decoration: none;\">fascinating</span> <span style=\"background-color: rgba(255, 255, 255, 0); padding: 2px 4px; margin: 2px; text-decoration: none;\">novel</span> <span style=\"background-color: rgba(110, 1, 14, 0.7); padding: 2px 4px; margin: 2px; text-decoration: none;\">to</span> <span style=\"background-color: rgba(255, 255, 255, 0); padding: 2px 4px; margin: 2px; text-decoration: none;\">the</span> <span style=\"background-color: rgba(250, 105, 73, 0.7); padding: 2px 4px; margin: 2px; text-decoration: none;\">students</span> <span style=\"background-color: rgba(255, 255, 255, 0); padding: 2px 4px; margin: 2px; text-decoration: none;\">.</span> </p>"
      ],
      "text/plain": [
       "<IPython.core.display.HTML object>"
      ]
     },
     "metadata": {},
     "output_type": "display_data"
    },
    {
     "name": "stdout",
     "output_type": "stream",
     "text": [
      "\n",
      "Visualizing Feature 218917\n"
     ]
    },
    {
     "data": {
      "text/html": [
       "<p style='font-family: monospace; text-decoration: none;'><span style=\"background-color: rgba(130, 6, 16, 0.7); padding: 2px 4px; margin: 2px; text-decoration: none;\">She</span> <span style=\"background-color: rgba(239, 62, 46, 0.7); padding: 2px 4px; margin: 2px; text-decoration: none;\">is</span> <span style=\"background-color: rgba(247, 91, 65, 0.7); padding: 2px 4px; margin: 2px; text-decoration: none;\">a</span> <span style=\"background-color: rgba(243, 75, 54, 0.7); padding: 2px 4px; margin: 2px; text-decoration: none;\">nurse</span> <span style=\"background-color: rgba(255, 255, 255, 0); padding: 2px 4px; margin: 2px; text-decoration: none;\">who</span> <span style=\"background-color: rgba(255, 255, 255, 0); padding: 2px 4px; margin: 2px; text-decoration: none;\">takes</span> <span style=\"background-color: rgba(255, 255, 255, 0); padding: 2px 4px; margin: 2px; text-decoration: none;\">care</span> <span style=\"background-color: rgba(112, 2, 14, 0.7); padding: 2px 4px; margin: 2px; text-decoration: none;\">of</span> <span style=\"background-color: rgba(255, 255, 255, 0); padding: 2px 4px; margin: 2px; text-decoration: none;\">her</span> <span style=\"background-color: rgba(255, 255, 255, 0); padding: 2px 4px; margin: 2px; text-decoration: none;\">patients</span> <span style=\"background-color: rgba(255, 255, 255, 0); padding: 2px 4px; margin: 2px; text-decoration: none;\">with</span> <span style=\"background-color: rgba(255, 255, 255, 0); padding: 2px 4px; margin: 2px; text-decoration: none;\">great</span> <span style=\"background-color: rgba(255, 255, 255, 0); padding: 2px 4px; margin: 2px; text-decoration: none;\">ded</span> <span style=\"background-color: rgba(255, 255, 255, 0); padding: 2px 4px; margin: 2px; text-decoration: none;\">ication</span> <span style=\"background-color: rgba(255, 255, 255, 0); padding: 2px 4px; margin: 2px; text-decoration: none;\">.</span> </p>"
      ],
      "text/plain": [
       "<IPython.core.display.HTML object>"
      ]
     },
     "metadata": {},
     "output_type": "display_data"
    },
    {
     "data": {
      "text/html": [
       "<p style='font-family: monospace; text-decoration: none;'><span style=\"background-color: rgba(132, 7, 16, 0.7); padding: 2px 4px; margin: 2px; text-decoration: none;\">He</span> <span style=\"background-color: rgba(239, 62, 46, 0.7); padding: 2px 4px; margin: 2px; text-decoration: none;\">is</span> <span style=\"background-color: rgba(245, 83, 59, 0.7); padding: 2px 4px; margin: 2px; text-decoration: none;\">a</span> <span style=\"background-color: rgba(230, 50, 40, 0.7); padding: 2px 4px; margin: 2px; text-decoration: none;\">fire</span> <span style=\"background-color: rgba(248, 97, 68, 0.7); padding: 2px 4px; margin: 2px; text-decoration: none;\">fig</span> <span style=\"background-color: rgba(246, 87, 62, 0.7); padding: 2px 4px; margin: 2px; text-decoration: none;\">h</span> <span style=\"background-color: rgba(248, 94, 66, 0.7); padding: 2px 4px; margin: 2px; text-decoration: none;\">ter</span> <span style=\"background-color: rgba(255, 255, 255, 0); padding: 2px 4px; margin: 2px; text-decoration: none;\">who</span> <span style=\"background-color: rgba(255, 255, 255, 0); padding: 2px 4px; margin: 2px; text-decoration: none;\">risk</span> <span style=\"background-color: rgba(255, 255, 255, 0); padding: 2px 4px; margin: 2px; text-decoration: none;\">ed</span> <span style=\"background-color: rgba(255, 255, 255, 0); padding: 2px 4px; margin: 2px; text-decoration: none;\">his</span> <span style=\"background-color: rgba(255, 255, 255, 0); padding: 2px 4px; margin: 2px; text-decoration: none;\">life</span> <span style=\"background-color: rgba(112, 2, 14, 0.7); padding: 2px 4px; margin: 2px; text-decoration: none;\">to</span> <span style=\"background-color: rgba(255, 255, 255, 0); padding: 2px 4px; margin: 2px; text-decoration: none;\">save</span> <span style=\"background-color: rgba(255, 255, 255, 0); padding: 2px 4px; margin: 2px; text-decoration: none;\">the</span> <span style=\"background-color: rgba(255, 255, 255, 0); padding: 2px 4px; margin: 2px; text-decoration: none;\">family</span> <span style=\"background-color: rgba(255, 255, 255, 0); padding: 2px 4px; margin: 2px; text-decoration: none;\">from</span> <span style=\"background-color: rgba(255, 255, 255, 0); padding: 2px 4px; margin: 2px; text-decoration: none;\">the</span> <span style=\"background-color: rgba(255, 255, 255, 0); padding: 2px 4px; margin: 2px; text-decoration: none;\">burning</span> <span style=\"background-color: rgba(255, 255, 255, 0); padding: 2px 4px; margin: 2px; text-decoration: none;\">house</span> <span style=\"background-color: rgba(255, 255, 255, 0); padding: 2px 4px; margin: 2px; text-decoration: none;\">.</span> </p>"
      ],
      "text/plain": [
       "<IPython.core.display.HTML object>"
      ]
     },
     "metadata": {},
     "output_type": "display_data"
    },
    {
     "data": {
      "text/html": [
       "<p style='font-family: monospace; text-decoration: none;'><span style=\"background-color: rgba(132, 7, 16, 0.7); padding: 2px 4px; margin: 2px; text-decoration: none;\">The</span> <span style=\"background-color: rgba(244, 78, 56, 0.7); padding: 2px 4px; margin: 2px; text-decoration: none;\">CEO</span> <span style=\"background-color: rgba(112, 2, 14, 0.7); padding: 2px 4px; margin: 2px; text-decoration: none;\">of</span> <span style=\"background-color: rgba(255, 255, 255, 0); padding: 2px 4px; margin: 2px; text-decoration: none;\">the</span> <span style=\"background-color: rgba(255, 255, 255, 0); padding: 2px 4px; margin: 2px; text-decoration: none;\">company</span> <span style=\"background-color: rgba(255, 255, 255, 0); padding: 2px 4px; margin: 2px; text-decoration: none;\">announced</span> <span style=\"background-color: rgba(255, 255, 255, 0); padding: 2px 4px; margin: 2px; text-decoration: none;\">her</span> <span style=\"background-color: rgba(255, 255, 255, 0); padding: 2px 4px; margin: 2px; text-decoration: none;\">vision</span> <span style=\"background-color: rgba(255, 255, 255, 0); padding: 2px 4px; margin: 2px; text-decoration: none;\">for</span> <span style=\"background-color: rgba(255, 255, 255, 0); padding: 2px 4px; margin: 2px; text-decoration: none;\">the</span> <span style=\"background-color: rgba(255, 255, 255, 0); padding: 2px 4px; margin: 2px; text-decoration: none;\">next</span> <span style=\"background-color: rgba(255, 255, 255, 0); padding: 2px 4px; margin: 2px; text-decoration: none;\">quarter</span> <span style=\"background-color: rgba(255, 255, 255, 0); padding: 2px 4px; margin: 2px; text-decoration: none;\">.</span> </p>"
      ],
      "text/plain": [
       "<IPython.core.display.HTML object>"
      ]
     },
     "metadata": {},
     "output_type": "display_data"
    },
    {
     "data": {
      "text/html": [
       "<p style='font-family: monospace; text-decoration: none;'><span style=\"background-color: rgba(132, 7, 16, 0.7); padding: 2px 4px; margin: 2px; text-decoration: none;\">The</span> <span style=\"background-color: rgba(236, 56, 42, 0.7); padding: 2px 4px; margin: 2px; text-decoration: none;\">construction</span> <span style=\"background-color: rgba(248, 97, 68, 0.7); padding: 2px 4px; margin: 2px; text-decoration: none;\">worker</span> <span style=\"background-color: rgba(255, 255, 255, 0); padding: 2px 4px; margin: 2px; text-decoration: none;\">showed</span> <span style=\"background-color: rgba(255, 255, 255, 0); padding: 2px 4px; margin: 2px; text-decoration: none;\">his</span> <span style=\"background-color: rgba(255, 255, 255, 0); padding: 2px 4px; margin: 2px; text-decoration: none;\">team</span> <span style=\"background-color: rgba(255, 255, 255, 0); padding: 2px 4px; margin: 2px; text-decoration: none;\">how</span> <span style=\"background-color: rgba(112, 2, 14, 0.7); padding: 2px 4px; margin: 2px; text-decoration: none;\">to</span> <span style=\"background-color: rgba(255, 255, 255, 0); padding: 2px 4px; margin: 2px; text-decoration: none;\">operate</span> <span style=\"background-color: rgba(255, 255, 255, 0); padding: 2px 4px; margin: 2px; text-decoration: none;\">the</span> <span style=\"background-color: rgba(255, 255, 255, 0); padding: 2px 4px; margin: 2px; text-decoration: none;\">heavy</span> <span style=\"background-color: rgba(255, 255, 255, 0); padding: 2px 4px; margin: 2px; text-decoration: none;\">machinery</span> <span style=\"background-color: rgba(255, 255, 255, 0); padding: 2px 4px; margin: 2px; text-decoration: none;\">.</span> </p>"
      ],
      "text/plain": [
       "<IPython.core.display.HTML object>"
      ]
     },
     "metadata": {},
     "output_type": "display_data"
    },
    {
     "data": {
      "text/html": [
       "<p style='font-family: monospace; text-decoration: none;'><span style=\"background-color: rgba(130, 6, 16, 0.7); padding: 2px 4px; margin: 2px; text-decoration: none;\">She</span> <span style=\"background-color: rgba(239, 62, 46, 0.7); padding: 2px 4px; margin: 2px; text-decoration: none;\">is</span> <span style=\"background-color: rgba(247, 91, 65, 0.7); padding: 2px 4px; margin: 2px; text-decoration: none;\">a</span> <span style=\"background-color: rgba(243, 77, 55, 0.7); padding: 2px 4px; margin: 2px; text-decoration: none;\">teacher</span> <span style=\"background-color: rgba(255, 255, 255, 0); padding: 2px 4px; margin: 2px; text-decoration: none;\">who</span> <span style=\"background-color: rgba(255, 255, 255, 0); padding: 2px 4px; margin: 2px; text-decoration: none;\">always</span> <span style=\"background-color: rgba(255, 255, 255, 0); padding: 2px 4px; margin: 2px; text-decoration: none;\">insp</span> <span style=\"background-color: rgba(255, 255, 255, 0); padding: 2px 4px; margin: 2px; text-decoration: none;\">ires</span> <span style=\"background-color: rgba(255, 255, 255, 0); padding: 2px 4px; margin: 2px; text-decoration: none;\">her</span> <span style=\"background-color: rgba(250, 102, 71, 0.7); padding: 2px 4px; margin: 2px; text-decoration: none;\">students</span> <span style=\"background-color: rgba(112, 2, 14, 0.7); padding: 2px 4px; margin: 2px; text-decoration: none;\">to</span> <span style=\"background-color: rgba(255, 255, 255, 0); padding: 2px 4px; margin: 2px; text-decoration: none;\">achieve</span> <span style=\"background-color: rgba(255, 255, 255, 0); padding: 2px 4px; margin: 2px; text-decoration: none;\">their</span> <span style=\"background-color: rgba(255, 255, 255, 0); padding: 2px 4px; margin: 2px; text-decoration: none;\">best</span> <span style=\"background-color: rgba(255, 255, 255, 0); padding: 2px 4px; margin: 2px; text-decoration: none;\">.</span> </p>"
      ],
      "text/plain": [
       "<IPython.core.display.HTML object>"
      ]
     },
     "metadata": {},
     "output_type": "display_data"
    },
    {
     "data": {
      "text/html": [
       "<p style='font-family: monospace; text-decoration: none;'><span style=\"background-color: rgba(132, 7, 16, 0.7); padding: 2px 4px; margin: 2px; text-decoration: none;\">He</span> <span style=\"background-color: rgba(239, 62, 46, 0.7); padding: 2px 4px; margin: 2px; text-decoration: none;\">is</span> <span style=\"background-color: rgba(245, 83, 59, 0.7); padding: 2px 4px; margin: 2px; text-decoration: none;\">a</span> <span style=\"background-color: rgba(241, 69, 50, 0.7); padding: 2px 4px; margin: 2px; text-decoration: none;\">stay</span> <span style=\"background-color: rgba(112, 2, 14, 0.7); padding: 2px 4px; margin: 2px; text-decoration: none;\">-</span> <span style=\"background-color: rgba(255, 255, 255, 0); padding: 2px 4px; margin: 2px; text-decoration: none;\">at</span> <span style=\"background-color: rgba(255, 255, 255, 0); padding: 2px 4px; margin: 2px; text-decoration: none;\">-</span> <span style=\"background-color: rgba(255, 255, 255, 0); padding: 2px 4px; margin: 2px; text-decoration: none;\">home</span> <span style=\"background-color: rgba(247, 91, 65, 0.7); padding: 2px 4px; margin: 2px; text-decoration: none;\">dad</span> <span style=\"background-color: rgba(255, 255, 255, 0); padding: 2px 4px; margin: 2px; text-decoration: none;\">who</span> <span style=\"background-color: rgba(255, 255, 255, 0); padding: 2px 4px; margin: 2px; text-decoration: none;\">loves</span> <span style=\"background-color: rgba(255, 255, 255, 0); padding: 2px 4px; margin: 2px; text-decoration: none;\">spending</span> <span style=\"background-color: rgba(255, 255, 255, 0); padding: 2px 4px; margin: 2px; text-decoration: none;\">time</span> <span style=\"background-color: rgba(255, 255, 255, 0); padding: 2px 4px; margin: 2px; text-decoration: none;\">with</span> <span style=\"background-color: rgba(255, 255, 255, 0); padding: 2px 4px; margin: 2px; text-decoration: none;\">his</span> <span style=\"background-color: rgba(243, 75, 54, 0.7); padding: 2px 4px; margin: 2px; text-decoration: none;\">children</span> <span style=\"background-color: rgba(255, 255, 255, 0); padding: 2px 4px; margin: 2px; text-decoration: none;\">.</span> </p>"
      ],
      "text/plain": [
       "<IPython.core.display.HTML object>"
      ]
     },
     "metadata": {},
     "output_type": "display_data"
    },
    {
     "data": {
      "text/html": [
       "<p style='font-family: monospace; text-decoration: none;'><span style=\"background-color: rgba(132, 7, 16, 0.7); padding: 2px 4px; margin: 2px; text-decoration: none;\">The</span> <span style=\"background-color: rgba(244, 78, 56, 0.7); padding: 2px 4px; margin: 2px; text-decoration: none;\">female</span> <span style=\"background-color: rgba(249, 100, 70, 0.7); padding: 2px 4px; margin: 2px; text-decoration: none;\">scientist</span> <span style=\"background-color: rgba(255, 255, 255, 0); padding: 2px 4px; margin: 2px; text-decoration: none;\">received</span> <span style=\"background-color: rgba(255, 255, 255, 0); padding: 2px 4px; margin: 2px; text-decoration: none;\">a</span> <span style=\"background-color: rgba(255, 255, 255, 0); padding: 2px 4px; margin: 2px; text-decoration: none;\">prest</span> <span style=\"background-color: rgba(255, 255, 255, 0); padding: 2px 4px; margin: 2px; text-decoration: none;\">igious</span> <span style=\"background-color: rgba(245, 83, 59, 0.7); padding: 2px 4px; margin: 2px; text-decoration: none;\">award</span> <span style=\"background-color: rgba(112, 2, 14, 0.7); padding: 2px 4px; margin: 2px; text-decoration: none;\">for</span> <span style=\"background-color: rgba(255, 255, 255, 0); padding: 2px 4px; margin: 2px; text-decoration: none;\">her</span> <span style=\"background-color: rgba(255, 255, 255, 0); padding: 2px 4px; margin: 2px; text-decoration: none;\">ground</span> <span style=\"background-color: rgba(255, 255, 255, 0); padding: 2px 4px; margin: 2px; text-decoration: none;\">breaking</span> <span style=\"background-color: rgba(255, 255, 255, 0); padding: 2px 4px; margin: 2px; text-decoration: none;\">research</span> <span style=\"background-color: rgba(255, 255, 255, 0); padding: 2px 4px; margin: 2px; text-decoration: none;\">.</span> </p>"
      ],
      "text/plain": [
       "<IPython.core.display.HTML object>"
      ]
     },
     "metadata": {},
     "output_type": "display_data"
    },
    {
     "data": {
      "text/html": [
       "<p style='font-family: monospace; text-decoration: none;'><span style=\"background-color: rgba(132, 7, 16, 0.7); padding: 2px 4px; margin: 2px; text-decoration: none;\">The</span> <span style=\"background-color: rgba(241, 69, 50, 0.7); padding: 2px 4px; margin: 2px; text-decoration: none;\">male</span> <span style=\"background-color: rgba(255, 255, 255, 0); padding: 2px 4px; margin: 2px; text-decoration: none;\">nurse</span> <span style=\"background-color: rgba(255, 255, 255, 0); padding: 2px 4px; margin: 2px; text-decoration: none;\">was</span> <span style=\"background-color: rgba(247, 91, 65, 0.7); padding: 2px 4px; margin: 2px; text-decoration: none;\">praised</span> <span style=\"background-color: rgba(112, 2, 14, 0.7); padding: 2px 4px; margin: 2px; text-decoration: none;\">for</span> <span style=\"background-color: rgba(255, 255, 255, 0); padding: 2px 4px; margin: 2px; text-decoration: none;\">his</span> <span style=\"background-color: rgba(255, 255, 255, 0); padding: 2px 4px; margin: 2px; text-decoration: none;\">compassion</span> <span style=\"background-color: rgba(255, 255, 255, 0); padding: 2px 4px; margin: 2px; text-decoration: none;\">and</span> <span style=\"background-color: rgba(255, 255, 255, 0); padding: 2px 4px; margin: 2px; text-decoration: none;\">professional</span> <span style=\"background-color: rgba(255, 255, 255, 0); padding: 2px 4px; margin: 2px; text-decoration: none;\">ism</span> <span style=\"background-color: rgba(255, 255, 255, 0); padding: 2px 4px; margin: 2px; text-decoration: none;\">in</span> <span style=\"background-color: rgba(255, 255, 255, 0); padding: 2px 4px; margin: 2px; text-decoration: none;\">the</span> <span style=\"background-color: rgba(255, 255, 255, 0); padding: 2px 4px; margin: 2px; text-decoration: none;\">emergency</span> <span style=\"background-color: rgba(250, 103, 72, 0.7); padding: 2px 4px; margin: 2px; text-decoration: none;\">room</span> <span style=\"background-color: rgba(255, 255, 255, 0); padding: 2px 4px; margin: 2px; text-decoration: none;\">.</span> </p>"
      ],
      "text/plain": [
       "<IPython.core.display.HTML object>"
      ]
     },
     "metadata": {},
     "output_type": "display_data"
    },
    {
     "data": {
      "text/html": [
       "<p style='font-family: monospace; text-decoration: none;'><span style=\"background-color: rgba(130, 6, 16, 0.7); padding: 2px 4px; margin: 2px; text-decoration: none;\">She</span> <span style=\"background-color: rgba(239, 62, 46, 0.7); padding: 2px 4px; margin: 2px; text-decoration: none;\">is</span> <span style=\"background-color: rgba(247, 91, 65, 0.7); padding: 2px 4px; margin: 2px; text-decoration: none;\">a</span> <span style=\"background-color: rgba(241, 69, 50, 0.7); padding: 2px 4px; margin: 2px; text-decoration: none;\">pilot</span> <span style=\"background-color: rgba(255, 255, 255, 0); padding: 2px 4px; margin: 2px; text-decoration: none;\">who</span> <span style=\"background-color: rgba(255, 255, 255, 0); padding: 2px 4px; margin: 2px; text-decoration: none;\">successfully</span> <span style=\"background-color: rgba(255, 255, 255, 0); padding: 2px 4px; margin: 2px; text-decoration: none;\">landed</span> <span style=\"background-color: rgba(255, 255, 255, 0); padding: 2px 4px; margin: 2px; text-decoration: none;\">the</span> <span style=\"background-color: rgba(255, 255, 255, 0); padding: 2px 4px; margin: 2px; text-decoration: none;\">aircraft</span> <span style=\"background-color: rgba(255, 255, 255, 0); padding: 2px 4px; margin: 2px; text-decoration: none;\">during</span> <span style=\"background-color: rgba(255, 255, 255, 0); padding: 2px 4px; margin: 2px; text-decoration: none;\">a</span> <span style=\"background-color: rgba(255, 255, 255, 0); padding: 2px 4px; margin: 2px; text-decoration: none;\">storm</span> <span style=\"background-color: rgba(112, 2, 14, 0.7); padding: 2px 4px; margin: 2px; text-decoration: none;\">.</span> </p>"
      ],
      "text/plain": [
       "<IPython.core.display.HTML object>"
      ]
     },
     "metadata": {},
     "output_type": "display_data"
    },
    {
     "data": {
      "text/html": [
       "<p style='font-family: monospace; text-decoration: none;'><span style=\"background-color: rgba(132, 7, 16, 0.7); padding: 2px 4px; margin: 2px; text-decoration: none;\">The</span> <span style=\"background-color: rgba(239, 61, 45, 0.7); padding: 2px 4px; margin: 2px; text-decoration: none;\">father</span> <span style=\"background-color: rgba(255, 255, 255, 0); padding: 2px 4px; margin: 2px; text-decoration: none;\">cooked</span> <span style=\"background-color: rgba(244, 80, 57, 0.7); padding: 2px 4px; margin: 2px; text-decoration: none;\">dinner</span> <span style=\"background-color: rgba(255, 255, 255, 0); padding: 2px 4px; margin: 2px; text-decoration: none;\">while</span> <span style=\"background-color: rgba(255, 255, 255, 0); padding: 2px 4px; margin: 2px; text-decoration: none;\">the</span> <span style=\"background-color: rgba(255, 255, 255, 0); padding: 2px 4px; margin: 2px; text-decoration: none;\">mother</span> <span style=\"background-color: rgba(255, 255, 255, 0); padding: 2px 4px; margin: 2px; text-decoration: none;\">worked</span> <span style=\"background-color: rgba(255, 255, 255, 0); padding: 2px 4px; margin: 2px; text-decoration: none;\">late</span> <span style=\"background-color: rgba(112, 2, 14, 0.7); padding: 2px 4px; margin: 2px; text-decoration: none;\">at</span> <span style=\"background-color: rgba(255, 255, 255, 0); padding: 2px 4px; margin: 2px; text-decoration: none;\">the</span> <span style=\"background-color: rgba(248, 94, 66, 0.7); padding: 2px 4px; margin: 2px; text-decoration: none;\">office</span> <span style=\"background-color: rgba(242, 71, 51, 0.7); padding: 2px 4px; margin: 2px; text-decoration: none;\">.</span> </p>"
      ],
      "text/plain": [
       "<IPython.core.display.HTML object>"
      ]
     },
     "metadata": {},
     "output_type": "display_data"
    },
    {
     "data": {
      "text/html": [
       "<p style='font-family: monospace; text-decoration: none;'><span style=\"background-color: rgba(132, 7, 16, 0.7); padding: 2px 4px; margin: 2px; text-decoration: none;\">He</span> <span style=\"background-color: rgba(239, 62, 46, 0.7); padding: 2px 4px; margin: 2px; text-decoration: none;\">is</span> <span style=\"background-color: rgba(245, 83, 59, 0.7); padding: 2px 4px; margin: 2px; text-decoration: none;\">a</span> <span style=\"background-color: rgba(241, 66, 49, 0.7); padding: 2px 4px; margin: 2px; text-decoration: none;\">ha</span> <span style=\"background-color: rgba(250, 105, 73, 0.7); padding: 2px 4px; margin: 2px; text-decoration: none;\">irst</span> <span style=\"background-color: rgba(248, 96, 67, 0.7); padding: 2px 4px; margin: 2px; text-decoration: none;\">y</span> <span style=\"background-color: rgba(241, 69, 50, 0.7); padding: 2px 4px; margin: 2px; text-decoration: none;\">list</span> <span style=\"background-color: rgba(112, 2, 14, 0.7); padding: 2px 4px; margin: 2px; text-decoration: none;\">with</span> <span style=\"background-color: rgba(255, 255, 255, 0); padding: 2px 4px; margin: 2px; text-decoration: none;\">a</span> <span style=\"background-color: rgba(255, 255, 255, 0); padding: 2px 4px; margin: 2px; text-decoration: none;\">reputation</span> <span style=\"background-color: rgba(255, 255, 255, 0); padding: 2px 4px; margin: 2px; text-decoration: none;\">for</span> <span style=\"background-color: rgba(255, 255, 255, 0); padding: 2px 4px; margin: 2px; text-decoration: none;\">creativity</span> <span style=\"background-color: rgba(255, 255, 255, 0); padding: 2px 4px; margin: 2px; text-decoration: none;\">and</span> <span style=\"background-color: rgba(255, 255, 255, 0); padding: 2px 4px; margin: 2px; text-decoration: none;\">attention</span> <span style=\"background-color: rgba(255, 255, 255, 0); padding: 2px 4px; margin: 2px; text-decoration: none;\">to</span> <span style=\"background-color: rgba(255, 255, 255, 0); padding: 2px 4px; margin: 2px; text-decoration: none;\">detail</span> <span style=\"background-color: rgba(255, 255, 255, 0); padding: 2px 4px; margin: 2px; text-decoration: none;\">.</span> </p>"
      ],
      "text/plain": [
       "<IPython.core.display.HTML object>"
      ]
     },
     "metadata": {},
     "output_type": "display_data"
    },
    {
     "data": {
      "text/html": [
       "<p style='font-family: monospace; text-decoration: none;'><span style=\"background-color: rgba(130, 6, 16, 0.7); padding: 2px 4px; margin: 2px; text-decoration: none;\">She</span> <span style=\"background-color: rgba(239, 62, 46, 0.7); padding: 2px 4px; margin: 2px; text-decoration: none;\">is</span> <span style=\"background-color: rgba(247, 91, 65, 0.7); padding: 2px 4px; margin: 2px; text-decoration: none;\">a</span> <span style=\"background-color: rgba(238, 58, 43, 0.7); padding: 2px 4px; margin: 2px; text-decoration: none;\">mechan</span> <span style=\"background-color: rgba(247, 93, 66, 0.7); padding: 2px 4px; margin: 2px; text-decoration: none;\">ic</span> <span style=\"background-color: rgba(255, 255, 255, 0); padding: 2px 4px; margin: 2px; text-decoration: none;\">who</span> <span style=\"background-color: rgba(255, 255, 255, 0); padding: 2px 4px; margin: 2px; text-decoration: none;\">rep</span> <span style=\"background-color: rgba(255, 255, 255, 0); padding: 2px 4px; margin: 2px; text-decoration: none;\">aired</span> <span style=\"background-color: rgba(255, 255, 255, 0); padding: 2px 4px; margin: 2px; text-decoration: none;\">the</span> <span style=\"background-color: rgba(255, 255, 255, 0); padding: 2px 4px; margin: 2px; text-decoration: none;\">car</span> <span style=\"background-color: rgba(247, 91, 65, 0.7); padding: 2px 4px; margin: 2px; text-decoration: none;\">quickly</span> <span style=\"background-color: rgba(112, 2, 14, 0.7); padding: 2px 4px; margin: 2px; text-decoration: none;\">and</span> <span style=\"background-color: rgba(255, 255, 255, 0); padding: 2px 4px; margin: 2px; text-decoration: none;\">efficiently</span> <span style=\"background-color: rgba(255, 255, 255, 0); padding: 2px 4px; margin: 2px; text-decoration: none;\">.</span> </p>"
      ],
      "text/plain": [
       "<IPython.core.display.HTML object>"
      ]
     },
     "metadata": {},
     "output_type": "display_data"
    },
    {
     "data": {
      "text/html": [
       "<p style='font-family: monospace; text-decoration: none;'><span style=\"background-color: rgba(132, 7, 16, 0.7); padding: 2px 4px; margin: 2px; text-decoration: none;\">The</span> <span style=\"background-color: rgba(240, 65, 48, 0.7); padding: 2px 4px; margin: 2px; text-decoration: none;\">mother</span> <span style=\"background-color: rgba(255, 255, 255, 0); padding: 2px 4px; margin: 2px; text-decoration: none;\">dropped</span> <span style=\"background-color: rgba(255, 255, 255, 0); padding: 2px 4px; margin: 2px; text-decoration: none;\">her</span> <span style=\"background-color: rgba(249, 100, 70, 0.7); padding: 2px 4px; margin: 2px; text-decoration: none;\">child</span> <span style=\"background-color: rgba(255, 255, 255, 0); padding: 2px 4px; margin: 2px; text-decoration: none;\">off</span> <span style=\"background-color: rgba(112, 2, 14, 0.7); padding: 2px 4px; margin: 2px; text-decoration: none;\">at</span> <span style=\"background-color: rgba(240, 63, 47, 0.7); padding: 2px 4px; margin: 2px; text-decoration: none;\">school</span> <span style=\"background-color: rgba(255, 255, 255, 0); padding: 2px 4px; margin: 2px; text-decoration: none;\">before</span> <span style=\"background-color: rgba(255, 255, 255, 0); padding: 2px 4px; margin: 2px; text-decoration: none;\">heading</span> <span style=\"background-color: rgba(255, 255, 255, 0); padding: 2px 4px; margin: 2px; text-decoration: none;\">to</span> <span style=\"background-color: rgba(255, 255, 255, 0); padding: 2px 4px; margin: 2px; text-decoration: none;\">the</span> <span style=\"background-color: rgba(255, 255, 255, 0); padding: 2px 4px; margin: 2px; text-decoration: none;\">board</span> <span style=\"background-color: rgba(247, 91, 65, 0.7); padding: 2px 4px; margin: 2px; text-decoration: none;\">meeting</span> <span style=\"background-color: rgba(255, 255, 255, 0); padding: 2px 4px; margin: 2px; text-decoration: none;\">.</span> </p>"
      ],
      "text/plain": [
       "<IPython.core.display.HTML object>"
      ]
     },
     "metadata": {},
     "output_type": "display_data"
    },
    {
     "data": {
      "text/html": [
       "<p style='font-family: monospace; text-decoration: none;'><span style=\"background-color: rgba(132, 7, 16, 0.7); padding: 2px 4px; margin: 2px; text-decoration: none;\">The</span> <span style=\"background-color: rgba(241, 69, 50, 0.7); padding: 2px 4px; margin: 2px; text-decoration: none;\">male</span> <span style=\"background-color: rgba(221, 41, 36, 0.7); padding: 2px 4px; margin: 2px; text-decoration: none;\">kind</span> <span style=\"background-color: rgba(250, 103, 72, 0.7); padding: 2px 4px; margin: 2px; text-decoration: none;\">erg</span> <span style=\"background-color: rgba(255, 255, 255, 0); padding: 2px 4px; margin: 2px; text-decoration: none;\">arten</span> <span style=\"background-color: rgba(255, 255, 255, 0); padding: 2px 4px; margin: 2px; text-decoration: none;\">teacher</span> <span style=\"background-color: rgba(255, 255, 255, 0); padding: 2px 4px; margin: 2px; text-decoration: none;\">sang</span> <span style=\"background-color: rgba(255, 255, 255, 0); padding: 2px 4px; margin: 2px; text-decoration: none;\">songs</span> <span style=\"background-color: rgba(112, 2, 14, 0.7); padding: 2px 4px; margin: 2px; text-decoration: none;\">with</span> <span style=\"background-color: rgba(255, 255, 255, 0); padding: 2px 4px; margin: 2px; text-decoration: none;\">his</span> <span style=\"background-color: rgba(255, 255, 255, 0); padding: 2px 4px; margin: 2px; text-decoration: none;\">students</span> <span style=\"background-color: rgba(255, 255, 255, 0); padding: 2px 4px; margin: 2px; text-decoration: none;\">during</span> <span style=\"background-color: rgba(255, 255, 255, 0); padding: 2px 4px; margin: 2px; text-decoration: none;\">story</span> <span style=\"background-color: rgba(255, 255, 255, 0); padding: 2px 4px; margin: 2px; text-decoration: none;\">time</span> <span style=\"background-color: rgba(255, 255, 255, 0); padding: 2px 4px; margin: 2px; text-decoration: none;\">.</span> </p>"
      ],
      "text/plain": [
       "<IPython.core.display.HTML object>"
      ]
     },
     "metadata": {},
     "output_type": "display_data"
    },
    {
     "data": {
      "text/html": [
       "<p style='font-family: monospace; text-decoration: none;'><span style=\"background-color: rgba(130, 6, 16, 0.7); padding: 2px 4px; margin: 2px; text-decoration: none;\">She</span> <span style=\"background-color: rgba(239, 62, 46, 0.7); padding: 2px 4px; margin: 2px; text-decoration: none;\">is</span> <span style=\"background-color: rgba(247, 91, 65, 0.7); padding: 2px 4px; margin: 2px; text-decoration: none;\">a</span> <span style=\"background-color: rgba(242, 74, 53, 0.7); padding: 2px 4px; margin: 2px; text-decoration: none;\">soldier</span> <span style=\"background-color: rgba(255, 255, 255, 0); padding: 2px 4px; margin: 2px; text-decoration: none;\">who</span> <span style=\"background-color: rgba(255, 255, 255, 0); padding: 2px 4px; margin: 2px; text-decoration: none;\">served</span> <span style=\"background-color: rgba(255, 255, 255, 0); padding: 2px 4px; margin: 2px; text-decoration: none;\">her</span> <span style=\"background-color: rgba(255, 255, 255, 0); padding: 2px 4px; margin: 2px; text-decoration: none;\">country</span> <span style=\"background-color: rgba(112, 2, 14, 0.7); padding: 2px 4px; margin: 2px; text-decoration: none;\">with</span> <span style=\"background-color: rgba(255, 255, 255, 0); padding: 2px 4px; margin: 2px; text-decoration: none;\">bra</span> <span style=\"background-color: rgba(255, 255, 255, 0); padding: 2px 4px; margin: 2px; text-decoration: none;\">very</span> <span style=\"background-color: rgba(255, 255, 255, 0); padding: 2px 4px; margin: 2px; text-decoration: none;\">and</span> <span style=\"background-color: rgba(255, 255, 255, 0); padding: 2px 4px; margin: 2px; text-decoration: none;\">honor</span> <span style=\"background-color: rgba(255, 255, 255, 0); padding: 2px 4px; margin: 2px; text-decoration: none;\">.</span> </p>"
      ],
      "text/plain": [
       "<IPython.core.display.HTML object>"
      ]
     },
     "metadata": {},
     "output_type": "display_data"
    },
    {
     "data": {
      "text/html": [
       "<p style='font-family: monospace; text-decoration: none;'><span style=\"background-color: rgba(132, 7, 16, 0.7); padding: 2px 4px; margin: 2px; text-decoration: none;\">He</span> <span style=\"background-color: rgba(239, 62, 46, 0.7); padding: 2px 4px; margin: 2px; text-decoration: none;\">is</span> <span style=\"background-color: rgba(245, 83, 59, 0.7); padding: 2px 4px; margin: 2px; text-decoration: none;\">a</span> <span style=\"background-color: rgba(244, 78, 56, 0.7); padding: 2px 4px; margin: 2px; text-decoration: none;\">chef</span> <span style=\"background-color: rgba(255, 255, 255, 0); padding: 2px 4px; margin: 2px; text-decoration: none;\">who</span> <span style=\"background-color: rgba(255, 255, 255, 0); padding: 2px 4px; margin: 2px; text-decoration: none;\">special</span> <span style=\"background-color: rgba(255, 255, 255, 0); padding: 2px 4px; margin: 2px; text-decoration: none;\">izes</span> <span style=\"background-color: rgba(112, 2, 14, 0.7); padding: 2px 4px; margin: 2px; text-decoration: none;\">in</span> <span style=\"background-color: rgba(255, 255, 255, 0); padding: 2px 4px; margin: 2px; text-decoration: none;\">creating</span> <span style=\"background-color: rgba(255, 255, 255, 0); padding: 2px 4px; margin: 2px; text-decoration: none;\">intr</span> <span style=\"background-color: rgba(255, 255, 255, 0); padding: 2px 4px; margin: 2px; text-decoration: none;\">icate</span> <span style=\"background-color: rgba(250, 102, 71, 0.7); padding: 2px 4px; margin: 2px; text-decoration: none;\">dess</span> <span style=\"background-color: rgba(255, 255, 255, 0); padding: 2px 4px; margin: 2px; text-decoration: none;\">erts</span> <span style=\"background-color: rgba(255, 255, 255, 0); padding: 2px 4px; margin: 2px; text-decoration: none;\">and</span> <span style=\"background-color: rgba(255, 255, 255, 0); padding: 2px 4px; margin: 2px; text-decoration: none;\">past</span> <span style=\"background-color: rgba(255, 255, 255, 0); padding: 2px 4px; margin: 2px; text-decoration: none;\">ries</span> <span style=\"background-color: rgba(255, 255, 255, 0); padding: 2px 4px; margin: 2px; text-decoration: none;\">.</span> </p>"
      ],
      "text/plain": [
       "<IPython.core.display.HTML object>"
      ]
     },
     "metadata": {},
     "output_type": "display_data"
    },
    {
     "data": {
      "text/html": [
       "<p style='font-family: monospace; text-decoration: none;'><span style=\"background-color: rgba(132, 7, 16, 0.7); padding: 2px 4px; margin: 2px; text-decoration: none;\">The</span> <span style=\"background-color: rgba(244, 78, 56, 0.7); padding: 2px 4px; margin: 2px; text-decoration: none;\">female</span> <span style=\"background-color: rgba(243, 75, 54, 0.7); padding: 2px 4px; margin: 2px; text-decoration: none;\">ath</span> <span style=\"background-color: rgba(250, 105, 73, 0.7); padding: 2px 4px; margin: 2px; text-decoration: none;\">lete</span> <span style=\"background-color: rgba(249, 100, 70, 0.7); padding: 2px 4px; margin: 2px; text-decoration: none;\">broke</span> <span style=\"background-color: rgba(255, 255, 255, 0); padding: 2px 4px; margin: 2px; text-decoration: none;\">several</span> <span style=\"background-color: rgba(255, 255, 255, 0); padding: 2px 4px; margin: 2px; text-decoration: none;\">world</span> <span style=\"background-color: rgba(255, 255, 255, 0); padding: 2px 4px; margin: 2px; text-decoration: none;\">records</span> <span style=\"background-color: rgba(112, 2, 14, 0.7); padding: 2px 4px; margin: 2px; text-decoration: none;\">at</span> <span style=\"background-color: rgba(255, 255, 255, 0); padding: 2px 4px; margin: 2px; text-decoration: none;\">the</span> <span style=\"background-color: rgba(255, 255, 255, 0); padding: 2px 4px; margin: 2px; text-decoration: none;\">international</span> <span style=\"background-color: rgba(255, 255, 255, 0); padding: 2px 4px; margin: 2px; text-decoration: none;\">competition</span> <span style=\"background-color: rgba(255, 255, 255, 0); padding: 2px 4px; margin: 2px; text-decoration: none;\">.</span> </p>"
      ],
      "text/plain": [
       "<IPython.core.display.HTML object>"
      ]
     },
     "metadata": {},
     "output_type": "display_data"
    },
    {
     "data": {
      "text/html": [
       "<p style='font-family: monospace; text-decoration: none;'><span style=\"background-color: rgba(132, 7, 16, 0.7); padding: 2px 4px; margin: 2px; text-decoration: none;\">He</span> <span style=\"background-color: rgba(239, 62, 46, 0.7); padding: 2px 4px; margin: 2px; text-decoration: none;\">is</span> <span style=\"background-color: rgba(245, 83, 59, 0.7); padding: 2px 4px; margin: 2px; text-decoration: none;\">a</span> <span style=\"background-color: rgba(247, 90, 64, 0.7); padding: 2px 4px; margin: 2px; text-decoration: none;\">d</span> <span style=\"background-color: rgba(241, 66, 49, 0.7); padding: 2px 4px; margin: 2px; text-decoration: none;\">ancer</span> <span style=\"background-color: rgba(255, 255, 255, 0); padding: 2px 4px; margin: 2px; text-decoration: none;\">who</span> <span style=\"background-color: rgba(249, 100, 70, 0.7); padding: 2px 4px; margin: 2px; text-decoration: none;\">performs</span> <span style=\"background-color: rgba(255, 255, 255, 0); padding: 2px 4px; margin: 2px; text-decoration: none;\">both</span> <span style=\"background-color: rgba(238, 58, 43, 0.7); padding: 2px 4px; margin: 2px; text-decoration: none;\">classical</span> <span style=\"background-color: rgba(112, 2, 14, 0.7); padding: 2px 4px; margin: 2px; text-decoration: none;\">and</span> <span style=\"background-color: rgba(255, 255, 255, 0); padding: 2px 4px; margin: 2px; text-decoration: none;\">contemporary</span> <span style=\"background-color: rgba(255, 255, 255, 0); padding: 2px 4px; margin: 2px; text-decoration: none;\">styles</span> <span style=\"background-color: rgba(255, 255, 255, 0); padding: 2px 4px; margin: 2px; text-decoration: none;\">.</span> </p>"
      ],
      "text/plain": [
       "<IPython.core.display.HTML object>"
      ]
     },
     "metadata": {},
     "output_type": "display_data"
    },
    {
     "data": {
      "text/html": [
       "<p style='font-family: monospace; text-decoration: none;'><span style=\"background-color: rgba(130, 6, 16, 0.7); padding: 2px 4px; margin: 2px; text-decoration: none;\">She</span> <span style=\"background-color: rgba(239, 62, 46, 0.7); padding: 2px 4px; margin: 2px; text-decoration: none;\">is</span> <span style=\"background-color: rgba(245, 84, 60, 0.7); padding: 2px 4px; margin: 2px; text-decoration: none;\">an</span> <span style=\"background-color: rgba(239, 62, 46, 0.7); padding: 2px 4px; margin: 2px; text-decoration: none;\">engineer</span> <span style=\"background-color: rgba(255, 255, 255, 0); padding: 2px 4px; margin: 2px; text-decoration: none;\">who</span> <span style=\"background-color: rgba(255, 255, 255, 0); padding: 2px 4px; margin: 2px; text-decoration: none;\">designed</span> <span style=\"background-color: rgba(255, 255, 255, 0); padding: 2px 4px; margin: 2px; text-decoration: none;\">an</span> <span style=\"background-color: rgba(255, 255, 255, 0); padding: 2px 4px; margin: 2px; text-decoration: none;\">innovative</span> <span style=\"background-color: rgba(255, 255, 255, 0); padding: 2px 4px; margin: 2px; text-decoration: none;\">bridge</span> <span style=\"background-color: rgba(112, 2, 14, 0.7); padding: 2px 4px; margin: 2px; text-decoration: none;\">to</span> <span style=\"background-color: rgba(255, 255, 255, 0); padding: 2px 4px; margin: 2px; text-decoration: none;\">reduce</span> <span style=\"background-color: rgba(255, 255, 255, 0); padding: 2px 4px; margin: 2px; text-decoration: none;\">traffic</span> <span style=\"background-color: rgba(255, 255, 255, 0); padding: 2px 4px; margin: 2px; text-decoration: none;\">con</span> <span style=\"background-color: rgba(255, 255, 255, 0); padding: 2px 4px; margin: 2px; text-decoration: none;\">gest</span> <span style=\"background-color: rgba(255, 255, 255, 0); padding: 2px 4px; margin: 2px; text-decoration: none;\">ion</span> <span style=\"background-color: rgba(255, 255, 255, 0); padding: 2px 4px; margin: 2px; text-decoration: none;\">.</span> </p>"
      ],
      "text/plain": [
       "<IPython.core.display.HTML object>"
      ]
     },
     "metadata": {},
     "output_type": "display_data"
    },
    {
     "data": {
      "text/html": [
       "<p style='font-family: monospace; text-decoration: none;'><span style=\"background-color: rgba(132, 7, 16, 0.7); padding: 2px 4px; margin: 2px; text-decoration: none;\">The</span> <span style=\"background-color: rgba(241, 69, 50, 0.7); padding: 2px 4px; margin: 2px; text-decoration: none;\">male</span> <span style=\"background-color: rgba(250, 105, 73, 0.7); padding: 2px 4px; margin: 2px; text-decoration: none;\">l</span> <span style=\"background-color: rgba(245, 86, 61, 0.7); padding: 2px 4px; margin: 2px; text-decoration: none;\">ibr</span> <span style=\"background-color: rgba(255, 255, 255, 0); padding: 2px 4px; margin: 2px; text-decoration: none;\">arian</span> <span style=\"background-color: rgba(249, 99, 69, 0.7); padding: 2px 4px; margin: 2px; text-decoration: none;\">recommended</span> <span style=\"background-color: rgba(255, 255, 255, 0); padding: 2px 4px; margin: 2px; text-decoration: none;\">a</span> <span style=\"background-color: rgba(255, 255, 255, 0); padding: 2px 4px; margin: 2px; text-decoration: none;\">fascinating</span> <span style=\"background-color: rgba(255, 255, 255, 0); padding: 2px 4px; margin: 2px; text-decoration: none;\">novel</span> <span style=\"background-color: rgba(112, 2, 14, 0.7); padding: 2px 4px; margin: 2px; text-decoration: none;\">to</span> <span style=\"background-color: rgba(255, 255, 255, 0); padding: 2px 4px; margin: 2px; text-decoration: none;\">the</span> <span style=\"background-color: rgba(248, 97, 68, 0.7); padding: 2px 4px; margin: 2px; text-decoration: none;\">students</span> <span style=\"background-color: rgba(255, 255, 255, 0); padding: 2px 4px; margin: 2px; text-decoration: none;\">.</span> </p>"
      ],
      "text/plain": [
       "<IPython.core.display.HTML object>"
      ]
     },
     "metadata": {},
     "output_type": "display_data"
    },
    {
     "name": "stdout",
     "output_type": "stream",
     "text": [
      "\n",
      "Visualizing Feature 61255\n"
     ]
    },
    {
     "data": {
      "text/html": [
       "<p style='font-family: monospace; text-decoration: none;'><span style=\"background-color: rgba(118, 3, 15, 0.7); padding: 2px 4px; margin: 2px; text-decoration: none;\">She</span> <span style=\"background-color: rgba(239, 61, 45, 0.7); padding: 2px 4px; margin: 2px; text-decoration: none;\">is</span> <span style=\"background-color: rgba(246, 87, 62, 0.7); padding: 2px 4px; margin: 2px; text-decoration: none;\">a</span> <span style=\"background-color: rgba(247, 90, 64, 0.7); padding: 2px 4px; margin: 2px; text-decoration: none;\">nurse</span> <span style=\"background-color: rgba(255, 255, 255, 0); padding: 2px 4px; margin: 2px; text-decoration: none;\">who</span> <span style=\"background-color: rgba(255, 255, 255, 0); padding: 2px 4px; margin: 2px; text-decoration: none;\">takes</span> <span style=\"background-color: rgba(255, 255, 255, 0); padding: 2px 4px; margin: 2px; text-decoration: none;\">care</span> <span style=\"background-color: rgba(106, 0, 13, 0.7); padding: 2px 4px; margin: 2px; text-decoration: none;\">of</span> <span style=\"background-color: rgba(255, 255, 255, 0); padding: 2px 4px; margin: 2px; text-decoration: none;\">her</span> <span style=\"background-color: rgba(255, 255, 255, 0); padding: 2px 4px; margin: 2px; text-decoration: none;\">patients</span> <span style=\"background-color: rgba(255, 255, 255, 0); padding: 2px 4px; margin: 2px; text-decoration: none;\">with</span> <span style=\"background-color: rgba(255, 255, 255, 0); padding: 2px 4px; margin: 2px; text-decoration: none;\">great</span> <span style=\"background-color: rgba(255, 255, 255, 0); padding: 2px 4px; margin: 2px; text-decoration: none;\">ded</span> <span style=\"background-color: rgba(255, 255, 255, 0); padding: 2px 4px; margin: 2px; text-decoration: none;\">ication</span> <span style=\"background-color: rgba(255, 255, 255, 0); padding: 2px 4px; margin: 2px; text-decoration: none;\">.</span> </p>"
      ],
      "text/plain": [
       "<IPython.core.display.HTML object>"
      ]
     },
     "metadata": {},
     "output_type": "display_data"
    },
    {
     "data": {
      "text/html": [
       "<p style='font-family: monospace; text-decoration: none;'><span style=\"background-color: rgba(118, 3, 15, 0.7); padding: 2px 4px; margin: 2px; text-decoration: none;\">He</span> <span style=\"background-color: rgba(239, 62, 46, 0.7); padding: 2px 4px; margin: 2px; text-decoration: none;\">is</span> <span style=\"background-color: rgba(244, 78, 56, 0.7); padding: 2px 4px; margin: 2px; text-decoration: none;\">a</span> <span style=\"background-color: rgba(240, 65, 48, 0.7); padding: 2px 4px; margin: 2px; text-decoration: none;\">fire</span> <span style=\"background-color: rgba(255, 255, 255, 0); padding: 2px 4px; margin: 2px; text-decoration: none;\">fig</span> <span style=\"background-color: rgba(249, 99, 69, 0.7); padding: 2px 4px; margin: 2px; text-decoration: none;\">h</span> <span style=\"background-color: rgba(250, 102, 71, 0.7); padding: 2px 4px; margin: 2px; text-decoration: none;\">ter</span> <span style=\"background-color: rgba(255, 255, 255, 0); padding: 2px 4px; margin: 2px; text-decoration: none;\">who</span> <span style=\"background-color: rgba(255, 255, 255, 0); padding: 2px 4px; margin: 2px; text-decoration: none;\">risk</span> <span style=\"background-color: rgba(255, 255, 255, 0); padding: 2px 4px; margin: 2px; text-decoration: none;\">ed</span> <span style=\"background-color: rgba(255, 255, 255, 0); padding: 2px 4px; margin: 2px; text-decoration: none;\">his</span> <span style=\"background-color: rgba(255, 255, 255, 0); padding: 2px 4px; margin: 2px; text-decoration: none;\">life</span> <span style=\"background-color: rgba(106, 0, 13, 0.7); padding: 2px 4px; margin: 2px; text-decoration: none;\">to</span> <span style=\"background-color: rgba(255, 255, 255, 0); padding: 2px 4px; margin: 2px; text-decoration: none;\">save</span> <span style=\"background-color: rgba(255, 255, 255, 0); padding: 2px 4px; margin: 2px; text-decoration: none;\">the</span> <span style=\"background-color: rgba(255, 255, 255, 0); padding: 2px 4px; margin: 2px; text-decoration: none;\">family</span> <span style=\"background-color: rgba(255, 255, 255, 0); padding: 2px 4px; margin: 2px; text-decoration: none;\">from</span> <span style=\"background-color: rgba(255, 255, 255, 0); padding: 2px 4px; margin: 2px; text-decoration: none;\">the</span> <span style=\"background-color: rgba(255, 255, 255, 0); padding: 2px 4px; margin: 2px; text-decoration: none;\">burning</span> <span style=\"background-color: rgba(255, 255, 255, 0); padding: 2px 4px; margin: 2px; text-decoration: none;\">house</span> <span style=\"background-color: rgba(255, 255, 255, 0); padding: 2px 4px; margin: 2px; text-decoration: none;\">.</span> </p>"
      ],
      "text/plain": [
       "<IPython.core.display.HTML object>"
      ]
     },
     "metadata": {},
     "output_type": "display_data"
    },
    {
     "data": {
      "text/html": [
       "<p style='font-family: monospace; text-decoration: none;'><span style=\"background-color: rgba(118, 3, 15, 0.7); padding: 2px 4px; margin: 2px; text-decoration: none;\">The</span> <span style=\"background-color: rgba(245, 86, 61, 0.7); padding: 2px 4px; margin: 2px; text-decoration: none;\">CEO</span> <span style=\"background-color: rgba(106, 0, 13, 0.7); padding: 2px 4px; margin: 2px; text-decoration: none;\">of</span> <span style=\"background-color: rgba(255, 255, 255, 0); padding: 2px 4px; margin: 2px; text-decoration: none;\">the</span> <span style=\"background-color: rgba(255, 255, 255, 0); padding: 2px 4px; margin: 2px; text-decoration: none;\">company</span> <span style=\"background-color: rgba(255, 255, 255, 0); padding: 2px 4px; margin: 2px; text-decoration: none;\">announced</span> <span style=\"background-color: rgba(255, 255, 255, 0); padding: 2px 4px; margin: 2px; text-decoration: none;\">her</span> <span style=\"background-color: rgba(255, 255, 255, 0); padding: 2px 4px; margin: 2px; text-decoration: none;\">vision</span> <span style=\"background-color: rgba(255, 255, 255, 0); padding: 2px 4px; margin: 2px; text-decoration: none;\">for</span> <span style=\"background-color: rgba(255, 255, 255, 0); padding: 2px 4px; margin: 2px; text-decoration: none;\">the</span> <span style=\"background-color: rgba(255, 255, 255, 0); padding: 2px 4px; margin: 2px; text-decoration: none;\">next</span> <span style=\"background-color: rgba(255, 255, 255, 0); padding: 2px 4px; margin: 2px; text-decoration: none;\">quarter</span> <span style=\"background-color: rgba(255, 255, 255, 0); padding: 2px 4px; margin: 2px; text-decoration: none;\">.</span> </p>"
      ],
      "text/plain": [
       "<IPython.core.display.HTML object>"
      ]
     },
     "metadata": {},
     "output_type": "display_data"
    },
    {
     "data": {
      "text/html": [
       "<p style='font-family: monospace; text-decoration: none;'><span style=\"background-color: rgba(118, 3, 15, 0.7); padding: 2px 4px; margin: 2px; text-decoration: none;\">The</span> <span style=\"background-color: rgba(240, 63, 47, 0.7); padding: 2px 4px; margin: 2px; text-decoration: none;\">construction</span> <span style=\"background-color: rgba(255, 255, 255, 0); padding: 2px 4px; margin: 2px; text-decoration: none;\">worker</span> <span style=\"background-color: rgba(255, 255, 255, 0); padding: 2px 4px; margin: 2px; text-decoration: none;\">showed</span> <span style=\"background-color: rgba(255, 255, 255, 0); padding: 2px 4px; margin: 2px; text-decoration: none;\">his</span> <span style=\"background-color: rgba(255, 255, 255, 0); padding: 2px 4px; margin: 2px; text-decoration: none;\">team</span> <span style=\"background-color: rgba(255, 255, 255, 0); padding: 2px 4px; margin: 2px; text-decoration: none;\">how</span> <span style=\"background-color: rgba(106, 0, 13, 0.7); padding: 2px 4px; margin: 2px; text-decoration: none;\">to</span> <span style=\"background-color: rgba(255, 255, 255, 0); padding: 2px 4px; margin: 2px; text-decoration: none;\">operate</span> <span style=\"background-color: rgba(255, 255, 255, 0); padding: 2px 4px; margin: 2px; text-decoration: none;\">the</span> <span style=\"background-color: rgba(255, 255, 255, 0); padding: 2px 4px; margin: 2px; text-decoration: none;\">heavy</span> <span style=\"background-color: rgba(255, 255, 255, 0); padding: 2px 4px; margin: 2px; text-decoration: none;\">machinery</span> <span style=\"background-color: rgba(255, 255, 255, 0); padding: 2px 4px; margin: 2px; text-decoration: none;\">.</span> </p>"
      ],
      "text/plain": [
       "<IPython.core.display.HTML object>"
      ]
     },
     "metadata": {},
     "output_type": "display_data"
    },
    {
     "data": {
      "text/html": [
       "<p style='font-family: monospace; text-decoration: none;'><span style=\"background-color: rgba(118, 3, 15, 0.7); padding: 2px 4px; margin: 2px; text-decoration: none;\">She</span> <span style=\"background-color: rgba(239, 61, 45, 0.7); padding: 2px 4px; margin: 2px; text-decoration: none;\">is</span> <span style=\"background-color: rgba(246, 87, 62, 0.7); padding: 2px 4px; margin: 2px; text-decoration: none;\">a</span> <span style=\"background-color: rgba(246, 87, 62, 0.7); padding: 2px 4px; margin: 2px; text-decoration: none;\">teacher</span> <span style=\"background-color: rgba(255, 255, 255, 0); padding: 2px 4px; margin: 2px; text-decoration: none;\">who</span> <span style=\"background-color: rgba(255, 255, 255, 0); padding: 2px 4px; margin: 2px; text-decoration: none;\">always</span> <span style=\"background-color: rgba(255, 255, 255, 0); padding: 2px 4px; margin: 2px; text-decoration: none;\">insp</span> <span style=\"background-color: rgba(255, 255, 255, 0); padding: 2px 4px; margin: 2px; text-decoration: none;\">ires</span> <span style=\"background-color: rgba(255, 255, 255, 0); padding: 2px 4px; margin: 2px; text-decoration: none;\">her</span> <span style=\"background-color: rgba(255, 255, 255, 0); padding: 2px 4px; margin: 2px; text-decoration: none;\">students</span> <span style=\"background-color: rgba(106, 0, 13, 0.7); padding: 2px 4px; margin: 2px; text-decoration: none;\">to</span> <span style=\"background-color: rgba(255, 255, 255, 0); padding: 2px 4px; margin: 2px; text-decoration: none;\">achieve</span> <span style=\"background-color: rgba(255, 255, 255, 0); padding: 2px 4px; margin: 2px; text-decoration: none;\">their</span> <span style=\"background-color: rgba(255, 255, 255, 0); padding: 2px 4px; margin: 2px; text-decoration: none;\">best</span> <span style=\"background-color: rgba(255, 255, 255, 0); padding: 2px 4px; margin: 2px; text-decoration: none;\">.</span> </p>"
      ],
      "text/plain": [
       "<IPython.core.display.HTML object>"
      ]
     },
     "metadata": {},
     "output_type": "display_data"
    },
    {
     "data": {
      "text/html": [
       "<p style='font-family: monospace; text-decoration: none;'><span style=\"background-color: rgba(118, 3, 15, 0.7); padding: 2px 4px; margin: 2px; text-decoration: none;\">He</span> <span style=\"background-color: rgba(239, 62, 46, 0.7); padding: 2px 4px; margin: 2px; text-decoration: none;\">is</span> <span style=\"background-color: rgba(244, 78, 56, 0.7); padding: 2px 4px; margin: 2px; text-decoration: none;\">a</span> <span style=\"background-color: rgba(245, 83, 59, 0.7); padding: 2px 4px; margin: 2px; text-decoration: none;\">stay</span> <span style=\"background-color: rgba(106, 0, 13, 0.7); padding: 2px 4px; margin: 2px; text-decoration: none;\">-</span> <span style=\"background-color: rgba(255, 255, 255, 0); padding: 2px 4px; margin: 2px; text-decoration: none;\">at</span> <span style=\"background-color: rgba(255, 255, 255, 0); padding: 2px 4px; margin: 2px; text-decoration: none;\">-</span> <span style=\"background-color: rgba(255, 255, 255, 0); padding: 2px 4px; margin: 2px; text-decoration: none;\">home</span> <span style=\"background-color: rgba(255, 255, 255, 0); padding: 2px 4px; margin: 2px; text-decoration: none;\">dad</span> <span style=\"background-color: rgba(255, 255, 255, 0); padding: 2px 4px; margin: 2px; text-decoration: none;\">who</span> <span style=\"background-color: rgba(255, 255, 255, 0); padding: 2px 4px; margin: 2px; text-decoration: none;\">loves</span> <span style=\"background-color: rgba(255, 255, 255, 0); padding: 2px 4px; margin: 2px; text-decoration: none;\">spending</span> <span style=\"background-color: rgba(255, 255, 255, 0); padding: 2px 4px; margin: 2px; text-decoration: none;\">time</span> <span style=\"background-color: rgba(255, 255, 255, 0); padding: 2px 4px; margin: 2px; text-decoration: none;\">with</span> <span style=\"background-color: rgba(255, 255, 255, 0); padding: 2px 4px; margin: 2px; text-decoration: none;\">his</span> <span style=\"background-color: rgba(245, 84, 60, 0.7); padding: 2px 4px; margin: 2px; text-decoration: none;\">children</span> <span style=\"background-color: rgba(255, 255, 255, 0); padding: 2px 4px; margin: 2px; text-decoration: none;\">.</span> </p>"
      ],
      "text/plain": [
       "<IPython.core.display.HTML object>"
      ]
     },
     "metadata": {},
     "output_type": "display_data"
    },
    {
     "data": {
      "text/html": [
       "<p style='font-family: monospace; text-decoration: none;'><span style=\"background-color: rgba(118, 3, 15, 0.7); padding: 2px 4px; margin: 2px; text-decoration: none;\">The</span> <span style=\"background-color: rgba(246, 87, 62, 0.7); padding: 2px 4px; margin: 2px; text-decoration: none;\">female</span> <span style=\"background-color: rgba(255, 255, 255, 0); padding: 2px 4px; margin: 2px; text-decoration: none;\">scientist</span> <span style=\"background-color: rgba(255, 255, 255, 0); padding: 2px 4px; margin: 2px; text-decoration: none;\">received</span> <span style=\"background-color: rgba(255, 255, 255, 0); padding: 2px 4px; margin: 2px; text-decoration: none;\">a</span> <span style=\"background-color: rgba(255, 255, 255, 0); padding: 2px 4px; margin: 2px; text-decoration: none;\">prest</span> <span style=\"background-color: rgba(255, 255, 255, 0); padding: 2px 4px; margin: 2px; text-decoration: none;\">igious</span> <span style=\"background-color: rgba(248, 94, 66, 0.7); padding: 2px 4px; margin: 2px; text-decoration: none;\">award</span> <span style=\"background-color: rgba(104, 0, 13, 0.7); padding: 2px 4px; margin: 2px; text-decoration: none;\">for</span> <span style=\"background-color: rgba(255, 255, 255, 0); padding: 2px 4px; margin: 2px; text-decoration: none;\">her</span> <span style=\"background-color: rgba(255, 255, 255, 0); padding: 2px 4px; margin: 2px; text-decoration: none;\">ground</span> <span style=\"background-color: rgba(255, 255, 255, 0); padding: 2px 4px; margin: 2px; text-decoration: none;\">breaking</span> <span style=\"background-color: rgba(255, 255, 255, 0); padding: 2px 4px; margin: 2px; text-decoration: none;\">research</span> <span style=\"background-color: rgba(255, 255, 255, 0); padding: 2px 4px; margin: 2px; text-decoration: none;\">.</span> </p>"
      ],
      "text/plain": [
       "<IPython.core.display.HTML object>"
      ]
     },
     "metadata": {},
     "output_type": "display_data"
    },
    {
     "data": {
      "text/html": [
       "<p style='font-family: monospace; text-decoration: none;'><span style=\"background-color: rgba(118, 3, 15, 0.7); padding: 2px 4px; margin: 2px; text-decoration: none;\">The</span> <span style=\"background-color: rgba(243, 77, 55, 0.7); padding: 2px 4px; margin: 2px; text-decoration: none;\">male</span> <span style=\"background-color: rgba(255, 255, 255, 0); padding: 2px 4px; margin: 2px; text-decoration: none;\">nurse</span> <span style=\"background-color: rgba(255, 255, 255, 0); padding: 2px 4px; margin: 2px; text-decoration: none;\">was</span> <span style=\"background-color: rgba(248, 96, 67, 0.7); padding: 2px 4px; margin: 2px; text-decoration: none;\">praised</span> <span style=\"background-color: rgba(106, 0, 13, 0.7); padding: 2px 4px; margin: 2px; text-decoration: none;\">for</span> <span style=\"background-color: rgba(255, 255, 255, 0); padding: 2px 4px; margin: 2px; text-decoration: none;\">his</span> <span style=\"background-color: rgba(255, 255, 255, 0); padding: 2px 4px; margin: 2px; text-decoration: none;\">compassion</span> <span style=\"background-color: rgba(255, 255, 255, 0); padding: 2px 4px; margin: 2px; text-decoration: none;\">and</span> <span style=\"background-color: rgba(255, 255, 255, 0); padding: 2px 4px; margin: 2px; text-decoration: none;\">professional</span> <span style=\"background-color: rgba(255, 255, 255, 0); padding: 2px 4px; margin: 2px; text-decoration: none;\">ism</span> <span style=\"background-color: rgba(255, 255, 255, 0); padding: 2px 4px; margin: 2px; text-decoration: none;\">in</span> <span style=\"background-color: rgba(255, 255, 255, 0); padding: 2px 4px; margin: 2px; text-decoration: none;\">the</span> <span style=\"background-color: rgba(255, 255, 255, 0); padding: 2px 4px; margin: 2px; text-decoration: none;\">emergency</span> <span style=\"background-color: rgba(255, 255, 255, 0); padding: 2px 4px; margin: 2px; text-decoration: none;\">room</span> <span style=\"background-color: rgba(255, 255, 255, 0); padding: 2px 4px; margin: 2px; text-decoration: none;\">.</span> </p>"
      ],
      "text/plain": [
       "<IPython.core.display.HTML object>"
      ]
     },
     "metadata": {},
     "output_type": "display_data"
    },
    {
     "data": {
      "text/html": [
       "<p style='font-family: monospace; text-decoration: none;'><span style=\"background-color: rgba(118, 3, 15, 0.7); padding: 2px 4px; margin: 2px; text-decoration: none;\">She</span> <span style=\"background-color: rgba(239, 61, 45, 0.7); padding: 2px 4px; margin: 2px; text-decoration: none;\">is</span> <span style=\"background-color: rgba(246, 87, 62, 0.7); padding: 2px 4px; margin: 2px; text-decoration: none;\">a</span> <span style=\"background-color: rgba(245, 83, 59, 0.7); padding: 2px 4px; margin: 2px; text-decoration: none;\">pilot</span> <span style=\"background-color: rgba(255, 255, 255, 0); padding: 2px 4px; margin: 2px; text-decoration: none;\">who</span> <span style=\"background-color: rgba(255, 255, 255, 0); padding: 2px 4px; margin: 2px; text-decoration: none;\">successfully</span> <span style=\"background-color: rgba(255, 255, 255, 0); padding: 2px 4px; margin: 2px; text-decoration: none;\">landed</span> <span style=\"background-color: rgba(255, 255, 255, 0); padding: 2px 4px; margin: 2px; text-decoration: none;\">the</span> <span style=\"background-color: rgba(255, 255, 255, 0); padding: 2px 4px; margin: 2px; text-decoration: none;\">aircraft</span> <span style=\"background-color: rgba(255, 255, 255, 0); padding: 2px 4px; margin: 2px; text-decoration: none;\">during</span> <span style=\"background-color: rgba(255, 255, 255, 0); padding: 2px 4px; margin: 2px; text-decoration: none;\">a</span> <span style=\"background-color: rgba(255, 255, 255, 0); padding: 2px 4px; margin: 2px; text-decoration: none;\">storm</span> <span style=\"background-color: rgba(104, 0, 13, 0.7); padding: 2px 4px; margin: 2px; text-decoration: none;\">.</span> </p>"
      ],
      "text/plain": [
       "<IPython.core.display.HTML object>"
      ]
     },
     "metadata": {},
     "output_type": "display_data"
    },
    {
     "data": {
      "text/html": [
       "<p style='font-family: monospace; text-decoration: none;'><span style=\"background-color: rgba(118, 3, 15, 0.7); padding: 2px 4px; margin: 2px; text-decoration: none;\">The</span> <span style=\"background-color: rgba(241, 68, 50, 0.7); padding: 2px 4px; margin: 2px; text-decoration: none;\">father</span> <span style=\"background-color: rgba(255, 255, 255, 0); padding: 2px 4px; margin: 2px; text-decoration: none;\">cooked</span> <span style=\"background-color: rgba(247, 91, 65, 0.7); padding: 2px 4px; margin: 2px; text-decoration: none;\">dinner</span> <span style=\"background-color: rgba(255, 255, 255, 0); padding: 2px 4px; margin: 2px; text-decoration: none;\">while</span> <span style=\"background-color: rgba(255, 255, 255, 0); padding: 2px 4px; margin: 2px; text-decoration: none;\">the</span> <span style=\"background-color: rgba(255, 255, 255, 0); padding: 2px 4px; margin: 2px; text-decoration: none;\">mother</span> <span style=\"background-color: rgba(255, 255, 255, 0); padding: 2px 4px; margin: 2px; text-decoration: none;\">worked</span> <span style=\"background-color: rgba(255, 255, 255, 0); padding: 2px 4px; margin: 2px; text-decoration: none;\">late</span> <span style=\"background-color: rgba(106, 0, 13, 0.7); padding: 2px 4px; margin: 2px; text-decoration: none;\">at</span> <span style=\"background-color: rgba(255, 255, 255, 0); padding: 2px 4px; margin: 2px; text-decoration: none;\">the</span> <span style=\"background-color: rgba(255, 255, 255, 0); padding: 2px 4px; margin: 2px; text-decoration: none;\">office</span> <span style=\"background-color: rgba(243, 77, 55, 0.7); padding: 2px 4px; margin: 2px; text-decoration: none;\">.</span> </p>"
      ],
      "text/plain": [
       "<IPython.core.display.HTML object>"
      ]
     },
     "metadata": {},
     "output_type": "display_data"
    },
    {
     "data": {
      "text/html": [
       "<p style='font-family: monospace; text-decoration: none;'><span style=\"background-color: rgba(118, 3, 15, 0.7); padding: 2px 4px; margin: 2px; text-decoration: none;\">He</span> <span style=\"background-color: rgba(239, 62, 46, 0.7); padding: 2px 4px; margin: 2px; text-decoration: none;\">is</span> <span style=\"background-color: rgba(244, 78, 56, 0.7); padding: 2px 4px; margin: 2px; text-decoration: none;\">a</span> <span style=\"background-color: rgba(244, 80, 57, 0.7); padding: 2px 4px; margin: 2px; text-decoration: none;\">ha</span> <span style=\"background-color: rgba(255, 255, 255, 0); padding: 2px 4px; margin: 2px; text-decoration: none;\">irst</span> <span style=\"background-color: rgba(255, 255, 255, 0); padding: 2px 4px; margin: 2px; text-decoration: none;\">y</span> <span style=\"background-color: rgba(244, 78, 56, 0.7); padding: 2px 4px; margin: 2px; text-decoration: none;\">list</span> <span style=\"background-color: rgba(106, 0, 13, 0.7); padding: 2px 4px; margin: 2px; text-decoration: none;\">with</span> <span style=\"background-color: rgba(255, 255, 255, 0); padding: 2px 4px; margin: 2px; text-decoration: none;\">a</span> <span style=\"background-color: rgba(255, 255, 255, 0); padding: 2px 4px; margin: 2px; text-decoration: none;\">reputation</span> <span style=\"background-color: rgba(255, 255, 255, 0); padding: 2px 4px; margin: 2px; text-decoration: none;\">for</span> <span style=\"background-color: rgba(255, 255, 255, 0); padding: 2px 4px; margin: 2px; text-decoration: none;\">creativity</span> <span style=\"background-color: rgba(255, 255, 255, 0); padding: 2px 4px; margin: 2px; text-decoration: none;\">and</span> <span style=\"background-color: rgba(255, 255, 255, 0); padding: 2px 4px; margin: 2px; text-decoration: none;\">attention</span> <span style=\"background-color: rgba(255, 255, 255, 0); padding: 2px 4px; margin: 2px; text-decoration: none;\">to</span> <span style=\"background-color: rgba(255, 255, 255, 0); padding: 2px 4px; margin: 2px; text-decoration: none;\">detail</span> <span style=\"background-color: rgba(255, 255, 255, 0); padding: 2px 4px; margin: 2px; text-decoration: none;\">.</span> </p>"
      ],
      "text/plain": [
       "<IPython.core.display.HTML object>"
      ]
     },
     "metadata": {},
     "output_type": "display_data"
    },
    {
     "data": {
      "text/html": [
       "<p style='font-family: monospace; text-decoration: none;'><span style=\"background-color: rgba(118, 3, 15, 0.7); padding: 2px 4px; margin: 2px; text-decoration: none;\">She</span> <span style=\"background-color: rgba(239, 61, 45, 0.7); padding: 2px 4px; margin: 2px; text-decoration: none;\">is</span> <span style=\"background-color: rgba(246, 87, 62, 0.7); padding: 2px 4px; margin: 2px; text-decoration: none;\">a</span> <span style=\"background-color: rgba(243, 77, 55, 0.7); padding: 2px 4px; margin: 2px; text-decoration: none;\">mechan</span> <span style=\"background-color: rgba(250, 103, 72, 0.7); padding: 2px 4px; margin: 2px; text-decoration: none;\">ic</span> <span style=\"background-color: rgba(255, 255, 255, 0); padding: 2px 4px; margin: 2px; text-decoration: none;\">who</span> <span style=\"background-color: rgba(255, 255, 255, 0); padding: 2px 4px; margin: 2px; text-decoration: none;\">rep</span> <span style=\"background-color: rgba(255, 255, 255, 0); padding: 2px 4px; margin: 2px; text-decoration: none;\">aired</span> <span style=\"background-color: rgba(255, 255, 255, 0); padding: 2px 4px; margin: 2px; text-decoration: none;\">the</span> <span style=\"background-color: rgba(255, 255, 255, 0); padding: 2px 4px; margin: 2px; text-decoration: none;\">car</span> <span style=\"background-color: rgba(250, 102, 71, 0.7); padding: 2px 4px; margin: 2px; text-decoration: none;\">quickly</span> <span style=\"background-color: rgba(106, 0, 13, 0.7); padding: 2px 4px; margin: 2px; text-decoration: none;\">and</span> <span style=\"background-color: rgba(255, 255, 255, 0); padding: 2px 4px; margin: 2px; text-decoration: none;\">efficiently</span> <span style=\"background-color: rgba(255, 255, 255, 0); padding: 2px 4px; margin: 2px; text-decoration: none;\">.</span> </p>"
      ],
      "text/plain": [
       "<IPython.core.display.HTML object>"
      ]
     },
     "metadata": {},
     "output_type": "display_data"
    },
    {
     "data": {
      "text/html": [
       "<p style='font-family: monospace; text-decoration: none;'><span style=\"background-color: rgba(118, 3, 15, 0.7); padding: 2px 4px; margin: 2px; text-decoration: none;\">The</span> <span style=\"background-color: rgba(242, 72, 52, 0.7); padding: 2px 4px; margin: 2px; text-decoration: none;\">mother</span> <span style=\"background-color: rgba(255, 255, 255, 0); padding: 2px 4px; margin: 2px; text-decoration: none;\">dropped</span> <span style=\"background-color: rgba(255, 255, 255, 0); padding: 2px 4px; margin: 2px; text-decoration: none;\">her</span> <span style=\"background-color: rgba(255, 255, 255, 0); padding: 2px 4px; margin: 2px; text-decoration: none;\">child</span> <span style=\"background-color: rgba(255, 255, 255, 0); padding: 2px 4px; margin: 2px; text-decoration: none;\">off</span> <span style=\"background-color: rgba(106, 0, 13, 0.7); padding: 2px 4px; margin: 2px; text-decoration: none;\">at</span> <span style=\"background-color: rgba(242, 74, 53, 0.7); padding: 2px 4px; margin: 2px; text-decoration: none;\">school</span> <span style=\"background-color: rgba(255, 255, 255, 0); padding: 2px 4px; margin: 2px; text-decoration: none;\">before</span> <span style=\"background-color: rgba(255, 255, 255, 0); padding: 2px 4px; margin: 2px; text-decoration: none;\">heading</span> <span style=\"background-color: rgba(255, 255, 255, 0); padding: 2px 4px; margin: 2px; text-decoration: none;\">to</span> <span style=\"background-color: rgba(255, 255, 255, 0); padding: 2px 4px; margin: 2px; text-decoration: none;\">the</span> <span style=\"background-color: rgba(255, 255, 255, 0); padding: 2px 4px; margin: 2px; text-decoration: none;\">board</span> <span style=\"background-color: rgba(249, 100, 70, 0.7); padding: 2px 4px; margin: 2px; text-decoration: none;\">meeting</span> <span style=\"background-color: rgba(255, 255, 255, 0); padding: 2px 4px; margin: 2px; text-decoration: none;\">.</span> </p>"
      ],
      "text/plain": [
       "<IPython.core.display.HTML object>"
      ]
     },
     "metadata": {},
     "output_type": "display_data"
    },
    {
     "data": {
      "text/html": [
       "<p style='font-family: monospace; text-decoration: none;'><span style=\"background-color: rgba(118, 3, 15, 0.7); padding: 2px 4px; margin: 2px; text-decoration: none;\">The</span> <span style=\"background-color: rgba(243, 77, 55, 0.7); padding: 2px 4px; margin: 2px; text-decoration: none;\">male</span> <span style=\"background-color: rgba(234, 55, 42, 0.7); padding: 2px 4px; margin: 2px; text-decoration: none;\">kind</span> <span style=\"background-color: rgba(255, 255, 255, 0); padding: 2px 4px; margin: 2px; text-decoration: none;\">erg</span> <span style=\"background-color: rgba(255, 255, 255, 0); padding: 2px 4px; margin: 2px; text-decoration: none;\">arten</span> <span style=\"background-color: rgba(255, 255, 255, 0); padding: 2px 4px; margin: 2px; text-decoration: none;\">teacher</span> <span style=\"background-color: rgba(255, 255, 255, 0); padding: 2px 4px; margin: 2px; text-decoration: none;\">sang</span> <span style=\"background-color: rgba(255, 255, 255, 0); padding: 2px 4px; margin: 2px; text-decoration: none;\">songs</span> <span style=\"background-color: rgba(106, 0, 13, 0.7); padding: 2px 4px; margin: 2px; text-decoration: none;\">with</span> <span style=\"background-color: rgba(255, 255, 255, 0); padding: 2px 4px; margin: 2px; text-decoration: none;\">his</span> <span style=\"background-color: rgba(255, 255, 255, 0); padding: 2px 4px; margin: 2px; text-decoration: none;\">students</span> <span style=\"background-color: rgba(255, 255, 255, 0); padding: 2px 4px; margin: 2px; text-decoration: none;\">during</span> <span style=\"background-color: rgba(255, 255, 255, 0); padding: 2px 4px; margin: 2px; text-decoration: none;\">story</span> <span style=\"background-color: rgba(255, 255, 255, 0); padding: 2px 4px; margin: 2px; text-decoration: none;\">time</span> <span style=\"background-color: rgba(255, 255, 255, 0); padding: 2px 4px; margin: 2px; text-decoration: none;\">.</span> </p>"
      ],
      "text/plain": [
       "<IPython.core.display.HTML object>"
      ]
     },
     "metadata": {},
     "output_type": "display_data"
    },
    {
     "data": {
      "text/html": [
       "<p style='font-family: monospace; text-decoration: none;'><span style=\"background-color: rgba(118, 3, 15, 0.7); padding: 2px 4px; margin: 2px; text-decoration: none;\">She</span> <span style=\"background-color: rgba(239, 61, 45, 0.7); padding: 2px 4px; margin: 2px; text-decoration: none;\">is</span> <span style=\"background-color: rgba(246, 87, 62, 0.7); padding: 2px 4px; margin: 2px; text-decoration: none;\">a</span> <span style=\"background-color: rgba(245, 84, 60, 0.7); padding: 2px 4px; margin: 2px; text-decoration: none;\">soldier</span> <span style=\"background-color: rgba(250, 105, 73, 0.7); padding: 2px 4px; margin: 2px; text-decoration: none;\">who</span> <span style=\"background-color: rgba(255, 255, 255, 0); padding: 2px 4px; margin: 2px; text-decoration: none;\">served</span> <span style=\"background-color: rgba(255, 255, 255, 0); padding: 2px 4px; margin: 2px; text-decoration: none;\">her</span> <span style=\"background-color: rgba(255, 255, 255, 0); padding: 2px 4px; margin: 2px; text-decoration: none;\">country</span> <span style=\"background-color: rgba(106, 0, 13, 0.7); padding: 2px 4px; margin: 2px; text-decoration: none;\">with</span> <span style=\"background-color: rgba(255, 255, 255, 0); padding: 2px 4px; margin: 2px; text-decoration: none;\">bra</span> <span style=\"background-color: rgba(255, 255, 255, 0); padding: 2px 4px; margin: 2px; text-decoration: none;\">very</span> <span style=\"background-color: rgba(255, 255, 255, 0); padding: 2px 4px; margin: 2px; text-decoration: none;\">and</span> <span style=\"background-color: rgba(255, 255, 255, 0); padding: 2px 4px; margin: 2px; text-decoration: none;\">honor</span> <span style=\"background-color: rgba(255, 255, 255, 0); padding: 2px 4px; margin: 2px; text-decoration: none;\">.</span> </p>"
      ],
      "text/plain": [
       "<IPython.core.display.HTML object>"
      ]
     },
     "metadata": {},
     "output_type": "display_data"
    },
    {
     "data": {
      "text/html": [
       "<p style='font-family: monospace; text-decoration: none;'><span style=\"background-color: rgba(118, 3, 15, 0.7); padding: 2px 4px; margin: 2px; text-decoration: none;\">He</span> <span style=\"background-color: rgba(239, 62, 46, 0.7); padding: 2px 4px; margin: 2px; text-decoration: none;\">is</span> <span style=\"background-color: rgba(244, 78, 56, 0.7); padding: 2px 4px; margin: 2px; text-decoration: none;\">a</span> <span style=\"background-color: rgba(246, 89, 63, 0.7); padding: 2px 4px; margin: 2px; text-decoration: none;\">chef</span> <span style=\"background-color: rgba(255, 255, 255, 0); padding: 2px 4px; margin: 2px; text-decoration: none;\">who</span> <span style=\"background-color: rgba(255, 255, 255, 0); padding: 2px 4px; margin: 2px; text-decoration: none;\">special</span> <span style=\"background-color: rgba(255, 255, 255, 0); padding: 2px 4px; margin: 2px; text-decoration: none;\">izes</span> <span style=\"background-color: rgba(106, 0, 13, 0.7); padding: 2px 4px; margin: 2px; text-decoration: none;\">in</span> <span style=\"background-color: rgba(255, 255, 255, 0); padding: 2px 4px; margin: 2px; text-decoration: none;\">creating</span> <span style=\"background-color: rgba(255, 255, 255, 0); padding: 2px 4px; margin: 2px; text-decoration: none;\">intr</span> <span style=\"background-color: rgba(255, 255, 255, 0); padding: 2px 4px; margin: 2px; text-decoration: none;\">icate</span> <span style=\"background-color: rgba(255, 255, 255, 0); padding: 2px 4px; margin: 2px; text-decoration: none;\">dess</span> <span style=\"background-color: rgba(255, 255, 255, 0); padding: 2px 4px; margin: 2px; text-decoration: none;\">erts</span> <span style=\"background-color: rgba(255, 255, 255, 0); padding: 2px 4px; margin: 2px; text-decoration: none;\">and</span> <span style=\"background-color: rgba(255, 255, 255, 0); padding: 2px 4px; margin: 2px; text-decoration: none;\">past</span> <span style=\"background-color: rgba(255, 255, 255, 0); padding: 2px 4px; margin: 2px; text-decoration: none;\">ries</span> <span style=\"background-color: rgba(255, 255, 255, 0); padding: 2px 4px; margin: 2px; text-decoration: none;\">.</span> </p>"
      ],
      "text/plain": [
       "<IPython.core.display.HTML object>"
      ]
     },
     "metadata": {},
     "output_type": "display_data"
    },
    {
     "data": {
      "text/html": [
       "<p style='font-family: monospace; text-decoration: none;'><span style=\"background-color: rgba(118, 3, 15, 0.7); padding: 2px 4px; margin: 2px; text-decoration: none;\">The</span> <span style=\"background-color: rgba(246, 87, 62, 0.7); padding: 2px 4px; margin: 2px; text-decoration: none;\">female</span> <span style=\"background-color: rgba(246, 89, 63, 0.7); padding: 2px 4px; margin: 2px; text-decoration: none;\">ath</span> <span style=\"background-color: rgba(255, 255, 255, 0); padding: 2px 4px; margin: 2px; text-decoration: none;\">lete</span> <span style=\"background-color: rgba(250, 105, 73, 0.7); padding: 2px 4px; margin: 2px; text-decoration: none;\">broke</span> <span style=\"background-color: rgba(255, 255, 255, 0); padding: 2px 4px; margin: 2px; text-decoration: none;\">several</span> <span style=\"background-color: rgba(255, 255, 255, 0); padding: 2px 4px; margin: 2px; text-decoration: none;\">world</span> <span style=\"background-color: rgba(255, 255, 255, 0); padding: 2px 4px; margin: 2px; text-decoration: none;\">records</span> <span style=\"background-color: rgba(106, 0, 13, 0.7); padding: 2px 4px; margin: 2px; text-decoration: none;\">at</span> <span style=\"background-color: rgba(255, 255, 255, 0); padding: 2px 4px; margin: 2px; text-decoration: none;\">the</span> <span style=\"background-color: rgba(255, 255, 255, 0); padding: 2px 4px; margin: 2px; text-decoration: none;\">international</span> <span style=\"background-color: rgba(255, 255, 255, 0); padding: 2px 4px; margin: 2px; text-decoration: none;\">competition</span> <span style=\"background-color: rgba(255, 255, 255, 0); padding: 2px 4px; margin: 2px; text-decoration: none;\">.</span> </p>"
      ],
      "text/plain": [
       "<IPython.core.display.HTML object>"
      ]
     },
     "metadata": {},
     "output_type": "display_data"
    },
    {
     "data": {
      "text/html": [
       "<p style='font-family: monospace; text-decoration: none;'><span style=\"background-color: rgba(118, 3, 15, 0.7); padding: 2px 4px; margin: 2px; text-decoration: none;\">He</span> <span style=\"background-color: rgba(239, 62, 46, 0.7); padding: 2px 4px; margin: 2px; text-decoration: none;\">is</span> <span style=\"background-color: rgba(244, 78, 56, 0.7); padding: 2px 4px; margin: 2px; text-decoration: none;\">a</span> <span style=\"background-color: rgba(248, 96, 67, 0.7); padding: 2px 4px; margin: 2px; text-decoration: none;\">d</span> <span style=\"background-color: rgba(244, 80, 57, 0.7); padding: 2px 4px; margin: 2px; text-decoration: none;\">ancer</span> <span style=\"background-color: rgba(255, 255, 255, 0); padding: 2px 4px; margin: 2px; text-decoration: none;\">who</span> <span style=\"background-color: rgba(250, 105, 73, 0.7); padding: 2px 4px; margin: 2px; text-decoration: none;\">performs</span> <span style=\"background-color: rgba(255, 255, 255, 0); padding: 2px 4px; margin: 2px; text-decoration: none;\">both</span> <span style=\"background-color: rgba(243, 75, 54, 0.7); padding: 2px 4px; margin: 2px; text-decoration: none;\">classical</span> <span style=\"background-color: rgba(106, 0, 13, 0.7); padding: 2px 4px; margin: 2px; text-decoration: none;\">and</span> <span style=\"background-color: rgba(255, 255, 255, 0); padding: 2px 4px; margin: 2px; text-decoration: none;\">contemporary</span> <span style=\"background-color: rgba(255, 255, 255, 0); padding: 2px 4px; margin: 2px; text-decoration: none;\">styles</span> <span style=\"background-color: rgba(255, 255, 255, 0); padding: 2px 4px; margin: 2px; text-decoration: none;\">.</span> </p>"
      ],
      "text/plain": [
       "<IPython.core.display.HTML object>"
      ]
     },
     "metadata": {},
     "output_type": "display_data"
    },
    {
     "data": {
      "text/html": [
       "<p style='font-family: monospace; text-decoration: none;'><span style=\"background-color: rgba(118, 3, 15, 0.7); padding: 2px 4px; margin: 2px; text-decoration: none;\">She</span> <span style=\"background-color: rgba(239, 61, 45, 0.7); padding: 2px 4px; margin: 2px; text-decoration: none;\">is</span> <span style=\"background-color: rgba(244, 81, 58, 0.7); padding: 2px 4px; margin: 2px; text-decoration: none;\">an</span> <span style=\"background-color: rgba(242, 72, 52, 0.7); padding: 2px 4px; margin: 2px; text-decoration: none;\">engineer</span> <span style=\"background-color: rgba(255, 255, 255, 0); padding: 2px 4px; margin: 2px; text-decoration: none;\">who</span> <span style=\"background-color: rgba(255, 255, 255, 0); padding: 2px 4px; margin: 2px; text-decoration: none;\">designed</span> <span style=\"background-color: rgba(255, 255, 255, 0); padding: 2px 4px; margin: 2px; text-decoration: none;\">an</span> <span style=\"background-color: rgba(255, 255, 255, 0); padding: 2px 4px; margin: 2px; text-decoration: none;\">innovative</span> <span style=\"background-color: rgba(255, 255, 255, 0); padding: 2px 4px; margin: 2px; text-decoration: none;\">bridge</span> <span style=\"background-color: rgba(106, 0, 13, 0.7); padding: 2px 4px; margin: 2px; text-decoration: none;\">to</span> <span style=\"background-color: rgba(255, 255, 255, 0); padding: 2px 4px; margin: 2px; text-decoration: none;\">reduce</span> <span style=\"background-color: rgba(255, 255, 255, 0); padding: 2px 4px; margin: 2px; text-decoration: none;\">traffic</span> <span style=\"background-color: rgba(255, 255, 255, 0); padding: 2px 4px; margin: 2px; text-decoration: none;\">con</span> <span style=\"background-color: rgba(255, 255, 255, 0); padding: 2px 4px; margin: 2px; text-decoration: none;\">gest</span> <span style=\"background-color: rgba(255, 255, 255, 0); padding: 2px 4px; margin: 2px; text-decoration: none;\">ion</span> <span style=\"background-color: rgba(255, 255, 255, 0); padding: 2px 4px; margin: 2px; text-decoration: none;\">.</span> </p>"
      ],
      "text/plain": [
       "<IPython.core.display.HTML object>"
      ]
     },
     "metadata": {},
     "output_type": "display_data"
    },
    {
     "data": {
      "text/html": [
       "<p style='font-family: monospace; text-decoration: none;'><span style=\"background-color: rgba(118, 3, 15, 0.7); padding: 2px 4px; margin: 2px; text-decoration: none;\">The</span> <span style=\"background-color: rgba(243, 77, 55, 0.7); padding: 2px 4px; margin: 2px; text-decoration: none;\">male</span> <span style=\"background-color: rgba(255, 255, 255, 0); padding: 2px 4px; margin: 2px; text-decoration: none;\">l</span> <span style=\"background-color: rgba(249, 100, 70, 0.7); padding: 2px 4px; margin: 2px; text-decoration: none;\">ibr</span> <span style=\"background-color: rgba(255, 255, 255, 0); padding: 2px 4px; margin: 2px; text-decoration: none;\">arian</span> <span style=\"background-color: rgba(249, 99, 69, 0.7); padding: 2px 4px; margin: 2px; text-decoration: none;\">recommended</span> <span style=\"background-color: rgba(255, 255, 255, 0); padding: 2px 4px; margin: 2px; text-decoration: none;\">a</span> <span style=\"background-color: rgba(255, 255, 255, 0); padding: 2px 4px; margin: 2px; text-decoration: none;\">fascinating</span> <span style=\"background-color: rgba(255, 255, 255, 0); padding: 2px 4px; margin: 2px; text-decoration: none;\">novel</span> <span style=\"background-color: rgba(106, 0, 13, 0.7); padding: 2px 4px; margin: 2px; text-decoration: none;\">to</span> <span style=\"background-color: rgba(255, 255, 255, 0); padding: 2px 4px; margin: 2px; text-decoration: none;\">the</span> <span style=\"background-color: rgba(249, 100, 70, 0.7); padding: 2px 4px; margin: 2px; text-decoration: none;\">students</span> <span style=\"background-color: rgba(255, 255, 255, 0); padding: 2px 4px; margin: 2px; text-decoration: none;\">.</span> </p>"
      ],
      "text/plain": [
       "<IPython.core.display.HTML object>"
      ]
     },
     "metadata": {},
     "output_type": "display_data"
    },
    {
     "name": "stdout",
     "output_type": "stream",
     "text": [
      "\n",
      "Visualizing Feature 373609\n"
     ]
    },
    {
     "data": {
      "text/html": [
       "<p style='font-family: monospace; text-decoration: none;'><span style=\"background-color: rgba(130, 6, 16, 0.7); padding: 2px 4px; margin: 2px; text-decoration: none;\">She</span> <span style=\"background-color: rgba(232, 52, 41, 0.7); padding: 2px 4px; margin: 2px; text-decoration: none;\">is</span> <span style=\"background-color: rgba(242, 72, 52, 0.7); padding: 2px 4px; margin: 2px; text-decoration: none;\">a</span> <span style=\"background-color: rgba(255, 255, 255, 0); padding: 2px 4px; margin: 2px; text-decoration: none;\">nurse</span> <span style=\"background-color: rgba(255, 255, 255, 0); padding: 2px 4px; margin: 2px; text-decoration: none;\">who</span> <span style=\"background-color: rgba(255, 255, 255, 0); padding: 2px 4px; margin: 2px; text-decoration: none;\">takes</span> <span style=\"background-color: rgba(255, 255, 255, 0); padding: 2px 4px; margin: 2px; text-decoration: none;\">care</span> <span style=\"background-color: rgba(112, 2, 14, 0.7); padding: 2px 4px; margin: 2px; text-decoration: none;\">of</span> <span style=\"background-color: rgba(255, 255, 255, 0); padding: 2px 4px; margin: 2px; text-decoration: none;\">her</span> <span style=\"background-color: rgba(255, 255, 255, 0); padding: 2px 4px; margin: 2px; text-decoration: none;\">patients</span> <span style=\"background-color: rgba(255, 255, 255, 0); padding: 2px 4px; margin: 2px; text-decoration: none;\">with</span> <span style=\"background-color: rgba(255, 255, 255, 0); padding: 2px 4px; margin: 2px; text-decoration: none;\">great</span> <span style=\"background-color: rgba(255, 255, 255, 0); padding: 2px 4px; margin: 2px; text-decoration: none;\">ded</span> <span style=\"background-color: rgba(255, 255, 255, 0); padding: 2px 4px; margin: 2px; text-decoration: none;\">ication</span> <span style=\"background-color: rgba(255, 255, 255, 0); padding: 2px 4px; margin: 2px; text-decoration: none;\">.</span> </p>"
      ],
      "text/plain": [
       "<IPython.core.display.HTML object>"
      ]
     },
     "metadata": {},
     "output_type": "display_data"
    },
    {
     "data": {
      "text/html": [
       "<p style='font-family: monospace; text-decoration: none;'><span style=\"background-color: rgba(130, 6, 16, 0.7); padding: 2px 4px; margin: 2px; text-decoration: none;\">He</span> <span style=\"background-color: rgba(232, 52, 41, 0.7); padding: 2px 4px; margin: 2px; text-decoration: none;\">is</span> <span style=\"background-color: rgba(240, 63, 47, 0.7); padding: 2px 4px; margin: 2px; text-decoration: none;\">a</span> <span style=\"background-color: rgba(255, 255, 255, 0); padding: 2px 4px; margin: 2px; text-decoration: none;\">fire</span> <span style=\"background-color: rgba(255, 255, 255, 0); padding: 2px 4px; margin: 2px; text-decoration: none;\">fig</span> <span style=\"background-color: rgba(255, 255, 255, 0); padding: 2px 4px; margin: 2px; text-decoration: none;\">h</span> <span style=\"background-color: rgba(255, 255, 255, 0); padding: 2px 4px; margin: 2px; text-decoration: none;\">ter</span> <span style=\"background-color: rgba(255, 255, 255, 0); padding: 2px 4px; margin: 2px; text-decoration: none;\">who</span> <span style=\"background-color: rgba(255, 255, 255, 0); padding: 2px 4px; margin: 2px; text-decoration: none;\">risk</span> <span style=\"background-color: rgba(255, 255, 255, 0); padding: 2px 4px; margin: 2px; text-decoration: none;\">ed</span> <span style=\"background-color: rgba(255, 255, 255, 0); padding: 2px 4px; margin: 2px; text-decoration: none;\">his</span> <span style=\"background-color: rgba(255, 255, 255, 0); padding: 2px 4px; margin: 2px; text-decoration: none;\">life</span> <span style=\"background-color: rgba(112, 2, 14, 0.7); padding: 2px 4px; margin: 2px; text-decoration: none;\">to</span> <span style=\"background-color: rgba(255, 255, 255, 0); padding: 2px 4px; margin: 2px; text-decoration: none;\">save</span> <span style=\"background-color: rgba(255, 255, 255, 0); padding: 2px 4px; margin: 2px; text-decoration: none;\">the</span> <span style=\"background-color: rgba(255, 255, 255, 0); padding: 2px 4px; margin: 2px; text-decoration: none;\">family</span> <span style=\"background-color: rgba(255, 255, 255, 0); padding: 2px 4px; margin: 2px; text-decoration: none;\">from</span> <span style=\"background-color: rgba(255, 255, 255, 0); padding: 2px 4px; margin: 2px; text-decoration: none;\">the</span> <span style=\"background-color: rgba(255, 255, 255, 0); padding: 2px 4px; margin: 2px; text-decoration: none;\">burning</span> <span style=\"background-color: rgba(255, 255, 255, 0); padding: 2px 4px; margin: 2px; text-decoration: none;\">house</span> <span style=\"background-color: rgba(255, 255, 255, 0); padding: 2px 4px; margin: 2px; text-decoration: none;\">.</span> </p>"
      ],
      "text/plain": [
       "<IPython.core.display.HTML object>"
      ]
     },
     "metadata": {},
     "output_type": "display_data"
    },
    {
     "data": {
      "text/html": [
       "<p style='font-family: monospace; text-decoration: none;'><span style=\"background-color: rgba(128, 6, 16, 0.7); padding: 2px 4px; margin: 2px; text-decoration: none;\">The</span> <span style=\"background-color: rgba(248, 97, 68, 0.7); padding: 2px 4px; margin: 2px; text-decoration: none;\">CEO</span> <span style=\"background-color: rgba(112, 2, 14, 0.7); padding: 2px 4px; margin: 2px; text-decoration: none;\">of</span> <span style=\"background-color: rgba(255, 255, 255, 0); padding: 2px 4px; margin: 2px; text-decoration: none;\">the</span> <span style=\"background-color: rgba(255, 255, 255, 0); padding: 2px 4px; margin: 2px; text-decoration: none;\">company</span> <span style=\"background-color: rgba(255, 255, 255, 0); padding: 2px 4px; margin: 2px; text-decoration: none;\">announced</span> <span style=\"background-color: rgba(255, 255, 255, 0); padding: 2px 4px; margin: 2px; text-decoration: none;\">her</span> <span style=\"background-color: rgba(255, 255, 255, 0); padding: 2px 4px; margin: 2px; text-decoration: none;\">vision</span> <span style=\"background-color: rgba(255, 255, 255, 0); padding: 2px 4px; margin: 2px; text-decoration: none;\">for</span> <span style=\"background-color: rgba(255, 255, 255, 0); padding: 2px 4px; margin: 2px; text-decoration: none;\">the</span> <span style=\"background-color: rgba(255, 255, 255, 0); padding: 2px 4px; margin: 2px; text-decoration: none;\">next</span> <span style=\"background-color: rgba(255, 255, 255, 0); padding: 2px 4px; margin: 2px; text-decoration: none;\">quarter</span> <span style=\"background-color: rgba(255, 255, 255, 0); padding: 2px 4px; margin: 2px; text-decoration: none;\">.</span> </p>"
      ],
      "text/plain": [
       "<IPython.core.display.HTML object>"
      ]
     },
     "metadata": {},
     "output_type": "display_data"
    },
    {
     "data": {
      "text/html": [
       "<p style='font-family: monospace; text-decoration: none;'><span style=\"background-color: rgba(128, 6, 16, 0.7); padding: 2px 4px; margin: 2px; text-decoration: none;\">The</span> <span style=\"background-color: rgba(241, 69, 50, 0.7); padding: 2px 4px; margin: 2px; text-decoration: none;\">construction</span> <span style=\"background-color: rgba(255, 255, 255, 0); padding: 2px 4px; margin: 2px; text-decoration: none;\">worker</span> <span style=\"background-color: rgba(255, 255, 255, 0); padding: 2px 4px; margin: 2px; text-decoration: none;\">showed</span> <span style=\"background-color: rgba(255, 255, 255, 0); padding: 2px 4px; margin: 2px; text-decoration: none;\">his</span> <span style=\"background-color: rgba(255, 255, 255, 0); padding: 2px 4px; margin: 2px; text-decoration: none;\">team</span> <span style=\"background-color: rgba(255, 255, 255, 0); padding: 2px 4px; margin: 2px; text-decoration: none;\">how</span> <span style=\"background-color: rgba(112, 2, 14, 0.7); padding: 2px 4px; margin: 2px; text-decoration: none;\">to</span> <span style=\"background-color: rgba(255, 255, 255, 0); padding: 2px 4px; margin: 2px; text-decoration: none;\">operate</span> <span style=\"background-color: rgba(255, 255, 255, 0); padding: 2px 4px; margin: 2px; text-decoration: none;\">the</span> <span style=\"background-color: rgba(255, 255, 255, 0); padding: 2px 4px; margin: 2px; text-decoration: none;\">heavy</span> <span style=\"background-color: rgba(255, 255, 255, 0); padding: 2px 4px; margin: 2px; text-decoration: none;\">machinery</span> <span style=\"background-color: rgba(255, 255, 255, 0); padding: 2px 4px; margin: 2px; text-decoration: none;\">.</span> </p>"
      ],
      "text/plain": [
       "<IPython.core.display.HTML object>"
      ]
     },
     "metadata": {},
     "output_type": "display_data"
    },
    {
     "data": {
      "text/html": [
       "<p style='font-family: monospace; text-decoration: none;'><span style=\"background-color: rgba(130, 6, 16, 0.7); padding: 2px 4px; margin: 2px; text-decoration: none;\">She</span> <span style=\"background-color: rgba(232, 52, 41, 0.7); padding: 2px 4px; margin: 2px; text-decoration: none;\">is</span> <span style=\"background-color: rgba(242, 72, 52, 0.7); padding: 2px 4px; margin: 2px; text-decoration: none;\">a</span> <span style=\"background-color: rgba(255, 255, 255, 0); padding: 2px 4px; margin: 2px; text-decoration: none;\">teacher</span> <span style=\"background-color: rgba(250, 103, 72, 0.7); padding: 2px 4px; margin: 2px; text-decoration: none;\">who</span> <span style=\"background-color: rgba(255, 255, 255, 0); padding: 2px 4px; margin: 2px; text-decoration: none;\">always</span> <span style=\"background-color: rgba(255, 255, 255, 0); padding: 2px 4px; margin: 2px; text-decoration: none;\">insp</span> <span style=\"background-color: rgba(255, 255, 255, 0); padding: 2px 4px; margin: 2px; text-decoration: none;\">ires</span> <span style=\"background-color: rgba(255, 255, 255, 0); padding: 2px 4px; margin: 2px; text-decoration: none;\">her</span> <span style=\"background-color: rgba(255, 255, 255, 0); padding: 2px 4px; margin: 2px; text-decoration: none;\">students</span> <span style=\"background-color: rgba(112, 2, 14, 0.7); padding: 2px 4px; margin: 2px; text-decoration: none;\">to</span> <span style=\"background-color: rgba(255, 255, 255, 0); padding: 2px 4px; margin: 2px; text-decoration: none;\">achieve</span> <span style=\"background-color: rgba(255, 255, 255, 0); padding: 2px 4px; margin: 2px; text-decoration: none;\">their</span> <span style=\"background-color: rgba(255, 255, 255, 0); padding: 2px 4px; margin: 2px; text-decoration: none;\">best</span> <span style=\"background-color: rgba(255, 255, 255, 0); padding: 2px 4px; margin: 2px; text-decoration: none;\">.</span> </p>"
      ],
      "text/plain": [
       "<IPython.core.display.HTML object>"
      ]
     },
     "metadata": {},
     "output_type": "display_data"
    },
    {
     "data": {
      "text/html": [
       "<p style='font-family: monospace; text-decoration: none;'><span style=\"background-color: rgba(130, 6, 16, 0.7); padding: 2px 4px; margin: 2px; text-decoration: none;\">He</span> <span style=\"background-color: rgba(232, 52, 41, 0.7); padding: 2px 4px; margin: 2px; text-decoration: none;\">is</span> <span style=\"background-color: rgba(240, 63, 47, 0.7); padding: 2px 4px; margin: 2px; text-decoration: none;\">a</span> <span style=\"background-color: rgba(255, 255, 255, 0); padding: 2px 4px; margin: 2px; text-decoration: none;\">stay</span> <span style=\"background-color: rgba(112, 2, 14, 0.7); padding: 2px 4px; margin: 2px; text-decoration: none;\">-</span> <span style=\"background-color: rgba(255, 255, 255, 0); padding: 2px 4px; margin: 2px; text-decoration: none;\">at</span> <span style=\"background-color: rgba(255, 255, 255, 0); padding: 2px 4px; margin: 2px; text-decoration: none;\">-</span> <span style=\"background-color: rgba(255, 255, 255, 0); padding: 2px 4px; margin: 2px; text-decoration: none;\">home</span> <span style=\"background-color: rgba(255, 255, 255, 0); padding: 2px 4px; margin: 2px; text-decoration: none;\">dad</span> <span style=\"background-color: rgba(255, 255, 255, 0); padding: 2px 4px; margin: 2px; text-decoration: none;\">who</span> <span style=\"background-color: rgba(255, 255, 255, 0); padding: 2px 4px; margin: 2px; text-decoration: none;\">loves</span> <span style=\"background-color: rgba(255, 255, 255, 0); padding: 2px 4px; margin: 2px; text-decoration: none;\">spending</span> <span style=\"background-color: rgba(255, 255, 255, 0); padding: 2px 4px; margin: 2px; text-decoration: none;\">time</span> <span style=\"background-color: rgba(255, 255, 255, 0); padding: 2px 4px; margin: 2px; text-decoration: none;\">with</span> <span style=\"background-color: rgba(255, 255, 255, 0); padding: 2px 4px; margin: 2px; text-decoration: none;\">his</span> <span style=\"background-color: rgba(255, 255, 255, 0); padding: 2px 4px; margin: 2px; text-decoration: none;\">children</span> <span style=\"background-color: rgba(255, 255, 255, 0); padding: 2px 4px; margin: 2px; text-decoration: none;\">.</span> </p>"
      ],
      "text/plain": [
       "<IPython.core.display.HTML object>"
      ]
     },
     "metadata": {},
     "output_type": "display_data"
    },
    {
     "data": {
      "text/html": [
       "<p style='font-family: monospace; text-decoration: none;'><span style=\"background-color: rgba(128, 6, 16, 0.7); padding: 2px 4px; margin: 2px; text-decoration: none;\">The</span> <span style=\"background-color: rgba(247, 93, 66, 0.7); padding: 2px 4px; margin: 2px; text-decoration: none;\">female</span> <span style=\"background-color: rgba(255, 255, 255, 0); padding: 2px 4px; margin: 2px; text-decoration: none;\">scientist</span> <span style=\"background-color: rgba(248, 97, 68, 0.7); padding: 2px 4px; margin: 2px; text-decoration: none;\">received</span> <span style=\"background-color: rgba(255, 255, 255, 0); padding: 2px 4px; margin: 2px; text-decoration: none;\">a</span> <span style=\"background-color: rgba(255, 255, 255, 0); padding: 2px 4px; margin: 2px; text-decoration: none;\">prest</span> <span style=\"background-color: rgba(255, 255, 255, 0); padding: 2px 4px; margin: 2px; text-decoration: none;\">igious</span> <span style=\"background-color: rgba(255, 255, 255, 0); padding: 2px 4px; margin: 2px; text-decoration: none;\">award</span> <span style=\"background-color: rgba(110, 1, 14, 0.7); padding: 2px 4px; margin: 2px; text-decoration: none;\">for</span> <span style=\"background-color: rgba(255, 255, 255, 0); padding: 2px 4px; margin: 2px; text-decoration: none;\">her</span> <span style=\"background-color: rgba(255, 255, 255, 0); padding: 2px 4px; margin: 2px; text-decoration: none;\">ground</span> <span style=\"background-color: rgba(255, 255, 255, 0); padding: 2px 4px; margin: 2px; text-decoration: none;\">breaking</span> <span style=\"background-color: rgba(255, 255, 255, 0); padding: 2px 4px; margin: 2px; text-decoration: none;\">research</span> <span style=\"background-color: rgba(255, 255, 255, 0); padding: 2px 4px; margin: 2px; text-decoration: none;\">.</span> </p>"
      ],
      "text/plain": [
       "<IPython.core.display.HTML object>"
      ]
     },
     "metadata": {},
     "output_type": "display_data"
    },
    {
     "data": {
      "text/html": [
       "<p style='font-family: monospace; text-decoration: none;'><span style=\"background-color: rgba(128, 6, 16, 0.7); padding: 2px 4px; margin: 2px; text-decoration: none;\">The</span> <span style=\"background-color: rgba(245, 83, 59, 0.7); padding: 2px 4px; margin: 2px; text-decoration: none;\">male</span> <span style=\"background-color: rgba(255, 255, 255, 0); padding: 2px 4px; margin: 2px; text-decoration: none;\">nurse</span> <span style=\"background-color: rgba(255, 255, 255, 0); padding: 2px 4px; margin: 2px; text-decoration: none;\">was</span> <span style=\"background-color: rgba(249, 99, 69, 0.7); padding: 2px 4px; margin: 2px; text-decoration: none;\">praised</span> <span style=\"background-color: rgba(112, 2, 14, 0.7); padding: 2px 4px; margin: 2px; text-decoration: none;\">for</span> <span style=\"background-color: rgba(255, 255, 255, 0); padding: 2px 4px; margin: 2px; text-decoration: none;\">his</span> <span style=\"background-color: rgba(255, 255, 255, 0); padding: 2px 4px; margin: 2px; text-decoration: none;\">compassion</span> <span style=\"background-color: rgba(255, 255, 255, 0); padding: 2px 4px; margin: 2px; text-decoration: none;\">and</span> <span style=\"background-color: rgba(255, 255, 255, 0); padding: 2px 4px; margin: 2px; text-decoration: none;\">professional</span> <span style=\"background-color: rgba(255, 255, 255, 0); padding: 2px 4px; margin: 2px; text-decoration: none;\">ism</span> <span style=\"background-color: rgba(255, 255, 255, 0); padding: 2px 4px; margin: 2px; text-decoration: none;\">in</span> <span style=\"background-color: rgba(255, 255, 255, 0); padding: 2px 4px; margin: 2px; text-decoration: none;\">the</span> <span style=\"background-color: rgba(255, 255, 255, 0); padding: 2px 4px; margin: 2px; text-decoration: none;\">emergency</span> <span style=\"background-color: rgba(255, 255, 255, 0); padding: 2px 4px; margin: 2px; text-decoration: none;\">room</span> <span style=\"background-color: rgba(255, 255, 255, 0); padding: 2px 4px; margin: 2px; text-decoration: none;\">.</span> </p>"
      ],
      "text/plain": [
       "<IPython.core.display.HTML object>"
      ]
     },
     "metadata": {},
     "output_type": "display_data"
    },
    {
     "data": {
      "text/html": [
       "<p style='font-family: monospace; text-decoration: none;'><span style=\"background-color: rgba(130, 6, 16, 0.7); padding: 2px 4px; margin: 2px; text-decoration: none;\">She</span> <span style=\"background-color: rgba(232, 52, 41, 0.7); padding: 2px 4px; margin: 2px; text-decoration: none;\">is</span> <span style=\"background-color: rgba(242, 72, 52, 0.7); padding: 2px 4px; margin: 2px; text-decoration: none;\">a</span> <span style=\"background-color: rgba(255, 255, 255, 0); padding: 2px 4px; margin: 2px; text-decoration: none;\">pilot</span> <span style=\"background-color: rgba(248, 96, 67, 0.7); padding: 2px 4px; margin: 2px; text-decoration: none;\">who</span> <span style=\"background-color: rgba(255, 255, 255, 0); padding: 2px 4px; margin: 2px; text-decoration: none;\">successfully</span> <span style=\"background-color: rgba(255, 255, 255, 0); padding: 2px 4px; margin: 2px; text-decoration: none;\">landed</span> <span style=\"background-color: rgba(255, 255, 255, 0); padding: 2px 4px; margin: 2px; text-decoration: none;\">the</span> <span style=\"background-color: rgba(255, 255, 255, 0); padding: 2px 4px; margin: 2px; text-decoration: none;\">aircraft</span> <span style=\"background-color: rgba(255, 255, 255, 0); padding: 2px 4px; margin: 2px; text-decoration: none;\">during</span> <span style=\"background-color: rgba(255, 255, 255, 0); padding: 2px 4px; margin: 2px; text-decoration: none;\">a</span> <span style=\"background-color: rgba(255, 255, 255, 0); padding: 2px 4px; margin: 2px; text-decoration: none;\">storm</span> <span style=\"background-color: rgba(110, 1, 14, 0.7); padding: 2px 4px; margin: 2px; text-decoration: none;\">.</span> </p>"
      ],
      "text/plain": [
       "<IPython.core.display.HTML object>"
      ]
     },
     "metadata": {},
     "output_type": "display_data"
    },
    {
     "data": {
      "text/html": [
       "<p style='font-family: monospace; text-decoration: none;'><span style=\"background-color: rgba(128, 6, 16, 0.7); padding: 2px 4px; margin: 2px; text-decoration: none;\">The</span> <span style=\"background-color: rgba(243, 77, 55, 0.7); padding: 2px 4px; margin: 2px; text-decoration: none;\">father</span> <span style=\"background-color: rgba(255, 255, 255, 0); padding: 2px 4px; margin: 2px; text-decoration: none;\">cooked</span> <span style=\"background-color: rgba(255, 255, 255, 0); padding: 2px 4px; margin: 2px; text-decoration: none;\">dinner</span> <span style=\"background-color: rgba(255, 255, 255, 0); padding: 2px 4px; margin: 2px; text-decoration: none;\">while</span> <span style=\"background-color: rgba(255, 255, 255, 0); padding: 2px 4px; margin: 2px; text-decoration: none;\">the</span> <span style=\"background-color: rgba(255, 255, 255, 0); padding: 2px 4px; margin: 2px; text-decoration: none;\">mother</span> <span style=\"background-color: rgba(255, 255, 255, 0); padding: 2px 4px; margin: 2px; text-decoration: none;\">worked</span> <span style=\"background-color: rgba(255, 255, 255, 0); padding: 2px 4px; margin: 2px; text-decoration: none;\">late</span> <span style=\"background-color: rgba(112, 2, 14, 0.7); padding: 2px 4px; margin: 2px; text-decoration: none;\">at</span> <span style=\"background-color: rgba(255, 255, 255, 0); padding: 2px 4px; margin: 2px; text-decoration: none;\">the</span> <span style=\"background-color: rgba(255, 255, 255, 0); padding: 2px 4px; margin: 2px; text-decoration: none;\">office</span> <span style=\"background-color: rgba(241, 69, 50, 0.7); padding: 2px 4px; margin: 2px; text-decoration: none;\">.</span> </p>"
      ],
      "text/plain": [
       "<IPython.core.display.HTML object>"
      ]
     },
     "metadata": {},
     "output_type": "display_data"
    },
    {
     "data": {
      "text/html": [
       "<p style='font-family: monospace; text-decoration: none;'><span style=\"background-color: rgba(130, 6, 16, 0.7); padding: 2px 4px; margin: 2px; text-decoration: none;\">He</span> <span style=\"background-color: rgba(232, 52, 41, 0.7); padding: 2px 4px; margin: 2px; text-decoration: none;\">is</span> <span style=\"background-color: rgba(240, 63, 47, 0.7); padding: 2px 4px; margin: 2px; text-decoration: none;\">a</span> <span style=\"background-color: rgba(245, 86, 61, 0.7); padding: 2px 4px; margin: 2px; text-decoration: none;\">ha</span> <span style=\"background-color: rgba(255, 255, 255, 0); padding: 2px 4px; margin: 2px; text-decoration: none;\">irst</span> <span style=\"background-color: rgba(255, 255, 255, 0); padding: 2px 4px; margin: 2px; text-decoration: none;\">y</span> <span style=\"background-color: rgba(246, 87, 62, 0.7); padding: 2px 4px; margin: 2px; text-decoration: none;\">list</span> <span style=\"background-color: rgba(112, 2, 14, 0.7); padding: 2px 4px; margin: 2px; text-decoration: none;\">with</span> <span style=\"background-color: rgba(255, 255, 255, 0); padding: 2px 4px; margin: 2px; text-decoration: none;\">a</span> <span style=\"background-color: rgba(255, 255, 255, 0); padding: 2px 4px; margin: 2px; text-decoration: none;\">reputation</span> <span style=\"background-color: rgba(255, 255, 255, 0); padding: 2px 4px; margin: 2px; text-decoration: none;\">for</span> <span style=\"background-color: rgba(255, 255, 255, 0); padding: 2px 4px; margin: 2px; text-decoration: none;\">creativity</span> <span style=\"background-color: rgba(255, 255, 255, 0); padding: 2px 4px; margin: 2px; text-decoration: none;\">and</span> <span style=\"background-color: rgba(255, 255, 255, 0); padding: 2px 4px; margin: 2px; text-decoration: none;\">attention</span> <span style=\"background-color: rgba(255, 255, 255, 0); padding: 2px 4px; margin: 2px; text-decoration: none;\">to</span> <span style=\"background-color: rgba(255, 255, 255, 0); padding: 2px 4px; margin: 2px; text-decoration: none;\">detail</span> <span style=\"background-color: rgba(255, 255, 255, 0); padding: 2px 4px; margin: 2px; text-decoration: none;\">.</span> </p>"
      ],
      "text/plain": [
       "<IPython.core.display.HTML object>"
      ]
     },
     "metadata": {},
     "output_type": "display_data"
    },
    {
     "data": {
      "text/html": [
       "<p style='font-family: monospace; text-decoration: none;'><span style=\"background-color: rgba(130, 6, 16, 0.7); padding: 2px 4px; margin: 2px; text-decoration: none;\">She</span> <span style=\"background-color: rgba(232, 52, 41, 0.7); padding: 2px 4px; margin: 2px; text-decoration: none;\">is</span> <span style=\"background-color: rgba(242, 72, 52, 0.7); padding: 2px 4px; margin: 2px; text-decoration: none;\">a</span> <span style=\"background-color: rgba(255, 255, 255, 0); padding: 2px 4px; margin: 2px; text-decoration: none;\">mechan</span> <span style=\"background-color: rgba(255, 255, 255, 0); padding: 2px 4px; margin: 2px; text-decoration: none;\">ic</span> <span style=\"background-color: rgba(255, 255, 255, 0); padding: 2px 4px; margin: 2px; text-decoration: none;\">who</span> <span style=\"background-color: rgba(255, 255, 255, 0); padding: 2px 4px; margin: 2px; text-decoration: none;\">rep</span> <span style=\"background-color: rgba(255, 255, 255, 0); padding: 2px 4px; margin: 2px; text-decoration: none;\">aired</span> <span style=\"background-color: rgba(255, 255, 255, 0); padding: 2px 4px; margin: 2px; text-decoration: none;\">the</span> <span style=\"background-color: rgba(255, 255, 255, 0); padding: 2px 4px; margin: 2px; text-decoration: none;\">car</span> <span style=\"background-color: rgba(255, 255, 255, 0); padding: 2px 4px; margin: 2px; text-decoration: none;\">quickly</span> <span style=\"background-color: rgba(112, 2, 14, 0.7); padding: 2px 4px; margin: 2px; text-decoration: none;\">and</span> <span style=\"background-color: rgba(255, 255, 255, 0); padding: 2px 4px; margin: 2px; text-decoration: none;\">efficiently</span> <span style=\"background-color: rgba(255, 255, 255, 0); padding: 2px 4px; margin: 2px; text-decoration: none;\">.</span> </p>"
      ],
      "text/plain": [
       "<IPython.core.display.HTML object>"
      ]
     },
     "metadata": {},
     "output_type": "display_data"
    },
    {
     "data": {
      "text/html": [
       "<p style='font-family: monospace; text-decoration: none;'><span style=\"background-color: rgba(128, 6, 16, 0.7); padding: 2px 4px; margin: 2px; text-decoration: none;\">The</span> <span style=\"background-color: rgba(245, 83, 59, 0.7); padding: 2px 4px; margin: 2px; text-decoration: none;\">mother</span> <span style=\"background-color: rgba(255, 255, 255, 0); padding: 2px 4px; margin: 2px; text-decoration: none;\">dropped</span> <span style=\"background-color: rgba(255, 255, 255, 0); padding: 2px 4px; margin: 2px; text-decoration: none;\">her</span> <span style=\"background-color: rgba(255, 255, 255, 0); padding: 2px 4px; margin: 2px; text-decoration: none;\">child</span> <span style=\"background-color: rgba(255, 255, 255, 0); padding: 2px 4px; margin: 2px; text-decoration: none;\">off</span> <span style=\"background-color: rgba(112, 2, 14, 0.7); padding: 2px 4px; margin: 2px; text-decoration: none;\">at</span> <span style=\"background-color: rgba(255, 255, 255, 0); padding: 2px 4px; margin: 2px; text-decoration: none;\">school</span> <span style=\"background-color: rgba(255, 255, 255, 0); padding: 2px 4px; margin: 2px; text-decoration: none;\">before</span> <span style=\"background-color: rgba(255, 255, 255, 0); padding: 2px 4px; margin: 2px; text-decoration: none;\">heading</span> <span style=\"background-color: rgba(255, 255, 255, 0); padding: 2px 4px; margin: 2px; text-decoration: none;\">to</span> <span style=\"background-color: rgba(255, 255, 255, 0); padding: 2px 4px; margin: 2px; text-decoration: none;\">the</span> <span style=\"background-color: rgba(255, 255, 255, 0); padding: 2px 4px; margin: 2px; text-decoration: none;\">board</span> <span style=\"background-color: rgba(255, 255, 255, 0); padding: 2px 4px; margin: 2px; text-decoration: none;\">meeting</span> <span style=\"background-color: rgba(255, 255, 255, 0); padding: 2px 4px; margin: 2px; text-decoration: none;\">.</span> </p>"
      ],
      "text/plain": [
       "<IPython.core.display.HTML object>"
      ]
     },
     "metadata": {},
     "output_type": "display_data"
    },
    {
     "data": {
      "text/html": [
       "<p style='font-family: monospace; text-decoration: none;'><span style=\"background-color: rgba(128, 6, 16, 0.7); padding: 2px 4px; margin: 2px; text-decoration: none;\">The</span> <span style=\"background-color: rgba(245, 83, 59, 0.7); padding: 2px 4px; margin: 2px; text-decoration: none;\">male</span> <span style=\"background-color: rgba(237, 57, 43, 0.7); padding: 2px 4px; margin: 2px; text-decoration: none;\">kind</span> <span style=\"background-color: rgba(255, 255, 255, 0); padding: 2px 4px; margin: 2px; text-decoration: none;\">erg</span> <span style=\"background-color: rgba(255, 255, 255, 0); padding: 2px 4px; margin: 2px; text-decoration: none;\">arten</span> <span style=\"background-color: rgba(255, 255, 255, 0); padding: 2px 4px; margin: 2px; text-decoration: none;\">teacher</span> <span style=\"background-color: rgba(255, 255, 255, 0); padding: 2px 4px; margin: 2px; text-decoration: none;\">sang</span> <span style=\"background-color: rgba(255, 255, 255, 0); padding: 2px 4px; margin: 2px; text-decoration: none;\">songs</span> <span style=\"background-color: rgba(112, 2, 14, 0.7); padding: 2px 4px; margin: 2px; text-decoration: none;\">with</span> <span style=\"background-color: rgba(255, 255, 255, 0); padding: 2px 4px; margin: 2px; text-decoration: none;\">his</span> <span style=\"background-color: rgba(255, 255, 255, 0); padding: 2px 4px; margin: 2px; text-decoration: none;\">students</span> <span style=\"background-color: rgba(255, 255, 255, 0); padding: 2px 4px; margin: 2px; text-decoration: none;\">during</span> <span style=\"background-color: rgba(255, 255, 255, 0); padding: 2px 4px; margin: 2px; text-decoration: none;\">story</span> <span style=\"background-color: rgba(255, 255, 255, 0); padding: 2px 4px; margin: 2px; text-decoration: none;\">time</span> <span style=\"background-color: rgba(255, 255, 255, 0); padding: 2px 4px; margin: 2px; text-decoration: none;\">.</span> </p>"
      ],
      "text/plain": [
       "<IPython.core.display.HTML object>"
      ]
     },
     "metadata": {},
     "output_type": "display_data"
    },
    {
     "data": {
      "text/html": [
       "<p style='font-family: monospace; text-decoration: none;'><span style=\"background-color: rgba(130, 6, 16, 0.7); padding: 2px 4px; margin: 2px; text-decoration: none;\">She</span> <span style=\"background-color: rgba(232, 52, 41, 0.7); padding: 2px 4px; margin: 2px; text-decoration: none;\">is</span> <span style=\"background-color: rgba(242, 72, 52, 0.7); padding: 2px 4px; margin: 2px; text-decoration: none;\">a</span> <span style=\"background-color: rgba(255, 255, 255, 0); padding: 2px 4px; margin: 2px; text-decoration: none;\">soldier</span> <span style=\"background-color: rgba(247, 93, 66, 0.7); padding: 2px 4px; margin: 2px; text-decoration: none;\">who</span> <span style=\"background-color: rgba(255, 255, 255, 0); padding: 2px 4px; margin: 2px; text-decoration: none;\">served</span> <span style=\"background-color: rgba(255, 255, 255, 0); padding: 2px 4px; margin: 2px; text-decoration: none;\">her</span> <span style=\"background-color: rgba(255, 255, 255, 0); padding: 2px 4px; margin: 2px; text-decoration: none;\">country</span> <span style=\"background-color: rgba(112, 2, 14, 0.7); padding: 2px 4px; margin: 2px; text-decoration: none;\">with</span> <span style=\"background-color: rgba(255, 255, 255, 0); padding: 2px 4px; margin: 2px; text-decoration: none;\">bra</span> <span style=\"background-color: rgba(255, 255, 255, 0); padding: 2px 4px; margin: 2px; text-decoration: none;\">very</span> <span style=\"background-color: rgba(255, 255, 255, 0); padding: 2px 4px; margin: 2px; text-decoration: none;\">and</span> <span style=\"background-color: rgba(255, 255, 255, 0); padding: 2px 4px; margin: 2px; text-decoration: none;\">honor</span> <span style=\"background-color: rgba(255, 255, 255, 0); padding: 2px 4px; margin: 2px; text-decoration: none;\">.</span> </p>"
      ],
      "text/plain": [
       "<IPython.core.display.HTML object>"
      ]
     },
     "metadata": {},
     "output_type": "display_data"
    },
    {
     "data": {
      "text/html": [
       "<p style='font-family: monospace; text-decoration: none;'><span style=\"background-color: rgba(130, 6, 16, 0.7); padding: 2px 4px; margin: 2px; text-decoration: none;\">He</span> <span style=\"background-color: rgba(232, 52, 41, 0.7); padding: 2px 4px; margin: 2px; text-decoration: none;\">is</span> <span style=\"background-color: rgba(240, 63, 47, 0.7); padding: 2px 4px; margin: 2px; text-decoration: none;\">a</span> <span style=\"background-color: rgba(255, 255, 255, 0); padding: 2px 4px; margin: 2px; text-decoration: none;\">chef</span> <span style=\"background-color: rgba(248, 97, 68, 0.7); padding: 2px 4px; margin: 2px; text-decoration: none;\">who</span> <span style=\"background-color: rgba(255, 255, 255, 0); padding: 2px 4px; margin: 2px; text-decoration: none;\">special</span> <span style=\"background-color: rgba(255, 255, 255, 0); padding: 2px 4px; margin: 2px; text-decoration: none;\">izes</span> <span style=\"background-color: rgba(112, 2, 14, 0.7); padding: 2px 4px; margin: 2px; text-decoration: none;\">in</span> <span style=\"background-color: rgba(255, 255, 255, 0); padding: 2px 4px; margin: 2px; text-decoration: none;\">creating</span> <span style=\"background-color: rgba(255, 255, 255, 0); padding: 2px 4px; margin: 2px; text-decoration: none;\">intr</span> <span style=\"background-color: rgba(255, 255, 255, 0); padding: 2px 4px; margin: 2px; text-decoration: none;\">icate</span> <span style=\"background-color: rgba(255, 255, 255, 0); padding: 2px 4px; margin: 2px; text-decoration: none;\">dess</span> <span style=\"background-color: rgba(255, 255, 255, 0); padding: 2px 4px; margin: 2px; text-decoration: none;\">erts</span> <span style=\"background-color: rgba(255, 255, 255, 0); padding: 2px 4px; margin: 2px; text-decoration: none;\">and</span> <span style=\"background-color: rgba(255, 255, 255, 0); padding: 2px 4px; margin: 2px; text-decoration: none;\">past</span> <span style=\"background-color: rgba(255, 255, 255, 0); padding: 2px 4px; margin: 2px; text-decoration: none;\">ries</span> <span style=\"background-color: rgba(255, 255, 255, 0); padding: 2px 4px; margin: 2px; text-decoration: none;\">.</span> </p>"
      ],
      "text/plain": [
       "<IPython.core.display.HTML object>"
      ]
     },
     "metadata": {},
     "output_type": "display_data"
    },
    {
     "data": {
      "text/html": [
       "<p style='font-family: monospace; text-decoration: none;'><span style=\"background-color: rgba(128, 6, 16, 0.7); padding: 2px 4px; margin: 2px; text-decoration: none;\">The</span> <span style=\"background-color: rgba(247, 93, 66, 0.7); padding: 2px 4px; margin: 2px; text-decoration: none;\">female</span> <span style=\"background-color: rgba(255, 255, 255, 0); padding: 2px 4px; margin: 2px; text-decoration: none;\">ath</span> <span style=\"background-color: rgba(255, 255, 255, 0); padding: 2px 4px; margin: 2px; text-decoration: none;\">lete</span> <span style=\"background-color: rgba(250, 102, 71, 0.7); padding: 2px 4px; margin: 2px; text-decoration: none;\">broke</span> <span style=\"background-color: rgba(255, 255, 255, 0); padding: 2px 4px; margin: 2px; text-decoration: none;\">several</span> <span style=\"background-color: rgba(255, 255, 255, 0); padding: 2px 4px; margin: 2px; text-decoration: none;\">world</span> <span style=\"background-color: rgba(255, 255, 255, 0); padding: 2px 4px; margin: 2px; text-decoration: none;\">records</span> <span style=\"background-color: rgba(112, 2, 14, 0.7); padding: 2px 4px; margin: 2px; text-decoration: none;\">at</span> <span style=\"background-color: rgba(255, 255, 255, 0); padding: 2px 4px; margin: 2px; text-decoration: none;\">the</span> <span style=\"background-color: rgba(255, 255, 255, 0); padding: 2px 4px; margin: 2px; text-decoration: none;\">international</span> <span style=\"background-color: rgba(255, 255, 255, 0); padding: 2px 4px; margin: 2px; text-decoration: none;\">competition</span> <span style=\"background-color: rgba(255, 255, 255, 0); padding: 2px 4px; margin: 2px; text-decoration: none;\">.</span> </p>"
      ],
      "text/plain": [
       "<IPython.core.display.HTML object>"
      ]
     },
     "metadata": {},
     "output_type": "display_data"
    },
    {
     "data": {
      "text/html": [
       "<p style='font-family: monospace; text-decoration: none;'><span style=\"background-color: rgba(130, 6, 16, 0.7); padding: 2px 4px; margin: 2px; text-decoration: none;\">He</span> <span style=\"background-color: rgba(232, 52, 41, 0.7); padding: 2px 4px; margin: 2px; text-decoration: none;\">is</span> <span style=\"background-color: rgba(240, 63, 47, 0.7); padding: 2px 4px; margin: 2px; text-decoration: none;\">a</span> <span style=\"background-color: rgba(248, 97, 68, 0.7); padding: 2px 4px; margin: 2px; text-decoration: none;\">d</span> <span style=\"background-color: rgba(255, 255, 255, 0); padding: 2px 4px; margin: 2px; text-decoration: none;\">ancer</span> <span style=\"background-color: rgba(247, 93, 66, 0.7); padding: 2px 4px; margin: 2px; text-decoration: none;\">who</span> <span style=\"background-color: rgba(250, 103, 72, 0.7); padding: 2px 4px; margin: 2px; text-decoration: none;\">performs</span> <span style=\"background-color: rgba(255, 255, 255, 0); padding: 2px 4px; margin: 2px; text-decoration: none;\">both</span> <span style=\"background-color: rgba(245, 84, 60, 0.7); padding: 2px 4px; margin: 2px; text-decoration: none;\">classical</span> <span style=\"background-color: rgba(112, 2, 14, 0.7); padding: 2px 4px; margin: 2px; text-decoration: none;\">and</span> <span style=\"background-color: rgba(255, 255, 255, 0); padding: 2px 4px; margin: 2px; text-decoration: none;\">contemporary</span> <span style=\"background-color: rgba(255, 255, 255, 0); padding: 2px 4px; margin: 2px; text-decoration: none;\">styles</span> <span style=\"background-color: rgba(255, 255, 255, 0); padding: 2px 4px; margin: 2px; text-decoration: none;\">.</span> </p>"
      ],
      "text/plain": [
       "<IPython.core.display.HTML object>"
      ]
     },
     "metadata": {},
     "output_type": "display_data"
    },
    {
     "data": {
      "text/html": [
       "<p style='font-family: monospace; text-decoration: none;'><span style=\"background-color: rgba(130, 6, 16, 0.7); padding: 2px 4px; margin: 2px; text-decoration: none;\">She</span> <span style=\"background-color: rgba(232, 52, 41, 0.7); padding: 2px 4px; margin: 2px; text-decoration: none;\">is</span> <span style=\"background-color: rgba(241, 68, 50, 0.7); padding: 2px 4px; margin: 2px; text-decoration: none;\">an</span> <span style=\"background-color: rgba(245, 84, 60, 0.7); padding: 2px 4px; margin: 2px; text-decoration: none;\">engineer</span> <span style=\"background-color: rgba(249, 100, 70, 0.7); padding: 2px 4px; margin: 2px; text-decoration: none;\">who</span> <span style=\"background-color: rgba(255, 255, 255, 0); padding: 2px 4px; margin: 2px; text-decoration: none;\">designed</span> <span style=\"background-color: rgba(255, 255, 255, 0); padding: 2px 4px; margin: 2px; text-decoration: none;\">an</span> <span style=\"background-color: rgba(255, 255, 255, 0); padding: 2px 4px; margin: 2px; text-decoration: none;\">innovative</span> <span style=\"background-color: rgba(255, 255, 255, 0); padding: 2px 4px; margin: 2px; text-decoration: none;\">bridge</span> <span style=\"background-color: rgba(112, 2, 14, 0.7); padding: 2px 4px; margin: 2px; text-decoration: none;\">to</span> <span style=\"background-color: rgba(255, 255, 255, 0); padding: 2px 4px; margin: 2px; text-decoration: none;\">reduce</span> <span style=\"background-color: rgba(255, 255, 255, 0); padding: 2px 4px; margin: 2px; text-decoration: none;\">traffic</span> <span style=\"background-color: rgba(255, 255, 255, 0); padding: 2px 4px; margin: 2px; text-decoration: none;\">con</span> <span style=\"background-color: rgba(255, 255, 255, 0); padding: 2px 4px; margin: 2px; text-decoration: none;\">gest</span> <span style=\"background-color: rgba(255, 255, 255, 0); padding: 2px 4px; margin: 2px; text-decoration: none;\">ion</span> <span style=\"background-color: rgba(255, 255, 255, 0); padding: 2px 4px; margin: 2px; text-decoration: none;\">.</span> </p>"
      ],
      "text/plain": [
       "<IPython.core.display.HTML object>"
      ]
     },
     "metadata": {},
     "output_type": "display_data"
    },
    {
     "data": {
      "text/html": [
       "<p style='font-family: monospace; text-decoration: none;'><span style=\"background-color: rgba(128, 6, 16, 0.7); padding: 2px 4px; margin: 2px; text-decoration: none;\">The</span> <span style=\"background-color: rgba(245, 83, 59, 0.7); padding: 2px 4px; margin: 2px; text-decoration: none;\">male</span> <span style=\"background-color: rgba(255, 255, 255, 0); padding: 2px 4px; margin: 2px; text-decoration: none;\">l</span> <span style=\"background-color: rgba(255, 255, 255, 0); padding: 2px 4px; margin: 2px; text-decoration: none;\">ibr</span> <span style=\"background-color: rgba(255, 255, 255, 0); padding: 2px 4px; margin: 2px; text-decoration: none;\">arian</span> <span style=\"background-color: rgba(248, 97, 68, 0.7); padding: 2px 4px; margin: 2px; text-decoration: none;\">recommended</span> <span style=\"background-color: rgba(255, 255, 255, 0); padding: 2px 4px; margin: 2px; text-decoration: none;\">a</span> <span style=\"background-color: rgba(255, 255, 255, 0); padding: 2px 4px; margin: 2px; text-decoration: none;\">fascinating</span> <span style=\"background-color: rgba(255, 255, 255, 0); padding: 2px 4px; margin: 2px; text-decoration: none;\">novel</span> <span style=\"background-color: rgba(112, 2, 14, 0.7); padding: 2px 4px; margin: 2px; text-decoration: none;\">to</span> <span style=\"background-color: rgba(255, 255, 255, 0); padding: 2px 4px; margin: 2px; text-decoration: none;\">the</span> <span style=\"background-color: rgba(255, 255, 255, 0); padding: 2px 4px; margin: 2px; text-decoration: none;\">students</span> <span style=\"background-color: rgba(255, 255, 255, 0); padding: 2px 4px; margin: 2px; text-decoration: none;\">.</span> </p>"
      ],
      "text/plain": [
       "<IPython.core.display.HTML object>"
      ]
     },
     "metadata": {},
     "output_type": "display_data"
    }
   ],
   "source": [
    "# Gender bias related with larger model\n",
    "theme_texts = [\n",
    "    \"She is a nurse who takes care of her patients with great dedication.\",\n",
    "    \"He is a firefighter who risked his life to save the family from the burning house.\",\n",
    "    \"The CEO of the company announced her vision for the next quarter.\",\n",
    "    \"The construction worker showed his team how to operate the heavy machinery.\",\n",
    "    \"She is a teacher who always inspires her students to achieve their best.\",\n",
    "    \"He is a stay-at-home dad who loves spending time with his children.\",\n",
    "    \"The female scientist received a prestigious award for her groundbreaking research.\",\n",
    "    \"The male nurse was praised for his compassion and professionalism in the emergency room.\",\n",
    "    \"She is a pilot who successfully landed the aircraft during a storm.\",\n",
    "    \"The father cooked dinner while the mother worked late at the office.\",\n",
    "    \"He is a hairstylist with a reputation for creativity and attention to detail.\",\n",
    "    \"She is a mechanic who repaired the car quickly and efficiently.\",\n",
    "    \"The mother dropped her child off at school before heading to the board meeting.\",\n",
    "    \"The male kindergarten teacher sang songs with his students during storytime.\",\n",
    "    \"She is a soldier who served her country with bravery and honor.\",\n",
    "    \"He is a chef who specializes in creating intricate desserts and pastries.\",\n",
    "    \"The female athlete broke several world records at the international competition.\",\n",
    "    \"He is a dancer who performs both classical and contemporary styles.\",\n",
    "    \"She is an engineer who designed an innovative bridge to reduce traffic congestion.\",\n",
    "    \"The male librarian recommended a fascinating novel to the students.\"\n",
    "]\n",
    "\n",
    "# Example usage\n",
    "active_features = analyze_feature_responses_grouped_and_visualize(\n",
    "    theme_texts=theme_texts,\n",
    "    tokenizer=tokenizer,\n",
    "    model=model,\n",
    "    sae_model=sae_model,\n",
    "    gather_residual_activations=gather_residual_activations,\n",
    "    layer_index=16,\n",
    "    activation_threshold=0.5,\n",
    "    num_activations=0.8\n",
    ")"
   ]
  },
  {
   "cell_type": "code",
   "execution_count": 62,
   "id": "abff1bde",
   "metadata": {},
   "outputs": [
    {
     "name": "stdout",
     "output_type": "stream",
     "text": [
      "Features activated by more than 0.9 texts: 15, [111492, 29732, 218917, 61255, 373609, 278635, 355055, 89360, 307952, 379922, 151283, 332276, 353240, 305882, 97951]\n",
      "\n",
      "Visualizing Feature 111492\n"
     ]
    },
    {
     "name": "stderr",
     "output_type": "stream",
     "text": [
      "/tmp/ipykernel_633169/1808605176.py:7: MatplotlibDeprecationWarning: The get_cmap function was deprecated in Matplotlib 3.7 and will be removed in 3.11. Use ``matplotlib.colormaps[name]`` or ``matplotlib.colormaps.get_cmap()`` or ``pyplot.get_cmap()`` instead.\n",
      "  cmap = cm.get_cmap(\"Reds\")\n"
     ]
    },
    {
     "data": {
      "text/html": [
       "<p style='font-family: monospace; text-decoration: none;'><span style=\"background-color: rgba(116, 3, 14, 0.7); padding: 2px 4px; margin: 2px; text-decoration: none;\">Ni</span> <span style=\"background-color: rgba(255, 255, 255, 0); padding: 2px 4px; margin: 2px; text-decoration: none;\">ag</span> <span style=\"background-color: rgba(242, 72, 52, 0.7); padding: 2px 4px; margin: 2px; text-decoration: none;\">ara</span> <span style=\"background-color: rgba(248, 94, 66, 0.7); padding: 2px 4px; margin: 2px; text-decoration: none;\">Falls</span> <span style=\"background-color: rgba(110, 1, 14, 0.7); padding: 2px 4px; margin: 2px; text-decoration: none;\">,</span> <span style=\"background-color: rgba(246, 89, 63, 0.7); padding: 2px 4px; margin: 2px; text-decoration: none;\">located</span> <span style=\"background-color: rgba(246, 89, 63, 0.7); padding: 2px 4px; margin: 2px; text-decoration: none;\">on</span> <span style=\"background-color: rgba(255, 255, 255, 0); padding: 2px 4px; margin: 2px; text-decoration: none;\">the</span> <span style=\"background-color: rgba(255, 255, 255, 0); padding: 2px 4px; margin: 2px; text-decoration: none;\">border</span> <span style=\"background-color: rgba(255, 255, 255, 0); padding: 2px 4px; margin: 2px; text-decoration: none;\">between</span> <span style=\"background-color: rgba(255, 255, 255, 0); padding: 2px 4px; margin: 2px; text-decoration: none;\">the</span> <span style=\"background-color: rgba(244, 78, 56, 0.7); padding: 2px 4px; margin: 2px; text-decoration: none;\">United</span> <span style=\"background-color: rgba(249, 100, 70, 0.7); padding: 2px 4px; margin: 2px; text-decoration: none;\">States</span> <span style=\"background-color: rgba(255, 255, 255, 0); padding: 2px 4px; margin: 2px; text-decoration: none;\">and</span> <span style=\"background-color: rgba(248, 94, 66, 0.7); padding: 2px 4px; margin: 2px; text-decoration: none;\">Canada</span> <span style=\"background-color: rgba(255, 255, 255, 0); padding: 2px 4px; margin: 2px; text-decoration: none;\">,</span> <span style=\"background-color: rgba(255, 255, 255, 0); padding: 2px 4px; margin: 2px; text-decoration: none;\">is</span> <span style=\"background-color: rgba(255, 255, 255, 0); padding: 2px 4px; margin: 2px; text-decoration: none;\">one</span> <span style=\"background-color: rgba(255, 255, 255, 0); padding: 2px 4px; margin: 2px; text-decoration: none;\">of</span> <span style=\"background-color: rgba(255, 255, 255, 0); padding: 2px 4px; margin: 2px; text-decoration: none;\">the</span> <span style=\"background-color: rgba(255, 255, 255, 0); padding: 2px 4px; margin: 2px; text-decoration: none;\">most</span> <span style=\"background-color: rgba(255, 255, 255, 0); padding: 2px 4px; margin: 2px; text-decoration: none;\">famous</span> <span style=\"background-color: rgba(255, 255, 255, 0); padding: 2px 4px; margin: 2px; text-decoration: none;\">natural</span> <span style=\"background-color: rgba(255, 255, 255, 0); padding: 2px 4px; margin: 2px; text-decoration: none;\">attra</span> <span style=\"background-color: rgba(255, 255, 255, 0); padding: 2px 4px; margin: 2px; text-decoration: none;\">ctions</span> <span style=\"background-color: rgba(255, 255, 255, 0); padding: 2px 4px; margin: 2px; text-decoration: none;\">in</span> <span style=\"background-color: rgba(255, 255, 255, 0); padding: 2px 4px; margin: 2px; text-decoration: none;\">the</span> <span style=\"background-color: rgba(255, 255, 255, 0); padding: 2px 4px; margin: 2px; text-decoration: none;\">world</span> <span style=\"background-color: rgba(255, 255, 255, 0); padding: 2px 4px; margin: 2px; text-decoration: none;\">,</span> <span style=\"background-color: rgba(255, 255, 255, 0); padding: 2px 4px; margin: 2px; text-decoration: none;\">drawing</span> <span style=\"background-color: rgba(255, 255, 255, 0); padding: 2px 4px; margin: 2px; text-decoration: none;\">millions</span> <span style=\"background-color: rgba(255, 255, 255, 0); padding: 2px 4px; margin: 2px; text-decoration: none;\">of</span> <span style=\"background-color: rgba(255, 255, 255, 0); padding: 2px 4px; margin: 2px; text-decoration: none;\">visitors</span> <span style=\"background-color: rgba(255, 255, 255, 0); padding: 2px 4px; margin: 2px; text-decoration: none;\">each</span> <span style=\"background-color: rgba(255, 255, 255, 0); padding: 2px 4px; margin: 2px; text-decoration: none;\">year</span> <span style=\"background-color: rgba(255, 255, 255, 0); padding: 2px 4px; margin: 2px; text-decoration: none;\">.</span> </p>"
      ],
      "text/plain": [
       "<IPython.core.display.HTML object>"
      ]
     },
     "metadata": {},
     "output_type": "display_data"
    },
    {
     "data": {
      "text/html": [
       "<p style='font-family: monospace; text-decoration: none;'><span style=\"background-color: rgba(120, 4, 15, 0.7); padding: 2px 4px; margin: 2px; text-decoration: none;\">The</span> <span style=\"background-color: rgba(248, 96, 67, 0.7); padding: 2px 4px; margin: 2px; text-decoration: none;\">falls</span> <span style=\"background-color: rgba(110, 1, 14, 0.7); padding: 2px 4px; margin: 2px; text-decoration: none;\">,</span> <span style=\"background-color: rgba(255, 255, 255, 0); padding: 2px 4px; margin: 2px; text-decoration: none;\">which</span> <span style=\"background-color: rgba(255, 255, 255, 0); padding: 2px 4px; margin: 2px; text-decoration: none;\">consist</span> <span style=\"background-color: rgba(255, 255, 255, 0); padding: 2px 4px; margin: 2px; text-decoration: none;\">of</span> <span style=\"background-color: rgba(255, 255, 255, 0); padding: 2px 4px; margin: 2px; text-decoration: none;\">three</span> <span style=\"background-color: rgba(255, 255, 255, 0); padding: 2px 4px; margin: 2px; text-decoration: none;\">distinct</span> <span style=\"background-color: rgba(255, 255, 255, 0); padding: 2px 4px; margin: 2px; text-decoration: none;\">water</span> <span style=\"background-color: rgba(255, 255, 255, 0); padding: 2px 4px; margin: 2px; text-decoration: none;\">falls</span> <span style=\"background-color: rgba(255, 255, 255, 0); padding: 2px 4px; margin: 2px; text-decoration: none;\">–</span> <span style=\"background-color: rgba(255, 255, 255, 0); padding: 2px 4px; margin: 2px; text-decoration: none;\">the</span> <span style=\"background-color: rgba(255, 255, 255, 0); padding: 2px 4px; margin: 2px; text-decoration: none;\">H</span> <span style=\"background-color: rgba(255, 255, 255, 0); padding: 2px 4px; margin: 2px; text-decoration: none;\">ors</span> <span style=\"background-color: rgba(255, 255, 255, 0); padding: 2px 4px; margin: 2px; text-decoration: none;\">es</span> <span style=\"background-color: rgba(255, 255, 255, 0); padding: 2px 4px; margin: 2px; text-decoration: none;\">ho</span> <span style=\"background-color: rgba(255, 255, 255, 0); padding: 2px 4px; margin: 2px; text-decoration: none;\">e</span> <span style=\"background-color: rgba(248, 97, 68, 0.7); padding: 2px 4px; margin: 2px; text-decoration: none;\">Falls</span> <span style=\"background-color: rgba(255, 255, 255, 0); padding: 2px 4px; margin: 2px; text-decoration: none;\">,</span> <span style=\"background-color: rgba(248, 94, 66, 0.7); padding: 2px 4px; margin: 2px; text-decoration: none;\">the</span> <span style=\"background-color: rgba(255, 255, 255, 0); padding: 2px 4px; margin: 2px; text-decoration: none;\">American</span> <span style=\"background-color: rgba(249, 100, 70, 0.7); padding: 2px 4px; margin: 2px; text-decoration: none;\">Falls</span> <span style=\"background-color: rgba(255, 255, 255, 0); padding: 2px 4px; margin: 2px; text-decoration: none;\">,</span> <span style=\"background-color: rgba(247, 91, 65, 0.7); padding: 2px 4px; margin: 2px; text-decoration: none;\">and</span> <span style=\"background-color: rgba(245, 86, 61, 0.7); padding: 2px 4px; margin: 2px; text-decoration: none;\">the</span> <span style=\"background-color: rgba(243, 77, 55, 0.7); padding: 2px 4px; margin: 2px; text-decoration: none;\">Br</span> <span style=\"background-color: rgba(255, 255, 255, 0); padding: 2px 4px; margin: 2px; text-decoration: none;\">idal</span> <span style=\"background-color: rgba(255, 255, 255, 0); padding: 2px 4px; margin: 2px; text-decoration: none;\">Ve</span> <span style=\"background-color: rgba(255, 255, 255, 0); padding: 2px 4px; margin: 2px; text-decoration: none;\">il</span> <span style=\"background-color: rgba(255, 255, 255, 0); padding: 2px 4px; margin: 2px; text-decoration: none;\">Falls</span> <span style=\"background-color: rgba(255, 255, 255, 0); padding: 2px 4px; margin: 2px; text-decoration: none;\">–</span> <span style=\"background-color: rgba(255, 255, 255, 0); padding: 2px 4px; margin: 2px; text-decoration: none;\">are</span> <span style=\"background-color: rgba(255, 255, 255, 0); padding: 2px 4px; margin: 2px; text-decoration: none;\">known</span> <span style=\"background-color: rgba(255, 255, 255, 0); padding: 2px 4px; margin: 2px; text-decoration: none;\">for</span> <span style=\"background-color: rgba(255, 255, 255, 0); padding: 2px 4px; margin: 2px; text-decoration: none;\">their</span> <span style=\"background-color: rgba(255, 255, 255, 0); padding: 2px 4px; margin: 2px; text-decoration: none;\">a</span> <span style=\"background-color: rgba(255, 255, 255, 0); padding: 2px 4px; margin: 2px; text-decoration: none;\">we</span> <span style=\"background-color: rgba(255, 255, 255, 0); padding: 2px 4px; margin: 2px; text-decoration: none;\">-</span> <span style=\"background-color: rgba(247, 93, 66, 0.7); padding: 2px 4px; margin: 2px; text-decoration: none;\">in</span> <span style=\"background-color: rgba(255, 255, 255, 0); padding: 2px 4px; margin: 2px; text-decoration: none;\">sp</span> <span style=\"background-color: rgba(255, 255, 255, 0); padding: 2px 4px; margin: 2px; text-decoration: none;\">iring</span> <span style=\"background-color: rgba(255, 255, 255, 0); padding: 2px 4px; margin: 2px; text-decoration: none;\">size</span> <span style=\"background-color: rgba(255, 255, 255, 0); padding: 2px 4px; margin: 2px; text-decoration: none;\">and</span> <span style=\"background-color: rgba(255, 255, 255, 0); padding: 2px 4px; margin: 2px; text-decoration: none;\">the</span> <span style=\"background-color: rgba(255, 255, 255, 0); padding: 2px 4px; margin: 2px; text-decoration: none;\">powerful</span> <span style=\"background-color: rgba(255, 255, 255, 0); padding: 2px 4px; margin: 2px; text-decoration: none;\">flow</span> <span style=\"background-color: rgba(255, 255, 255, 0); padding: 2px 4px; margin: 2px; text-decoration: none;\">of</span> <span style=\"background-color: rgba(255, 255, 255, 0); padding: 2px 4px; margin: 2px; text-decoration: none;\">water</span> <span style=\"background-color: rgba(255, 255, 255, 0); padding: 2px 4px; margin: 2px; text-decoration: none;\">that</span> <span style=\"background-color: rgba(255, 255, 255, 0); padding: 2px 4px; margin: 2px; text-decoration: none;\">cr</span> <span style=\"background-color: rgba(255, 255, 255, 0); padding: 2px 4px; margin: 2px; text-decoration: none;\">ashes</span> <span style=\"background-color: rgba(255, 255, 255, 0); padding: 2px 4px; margin: 2px; text-decoration: none;\">down</span> <span style=\"background-color: rgba(255, 255, 255, 0); padding: 2px 4px; margin: 2px; text-decoration: none;\">from</span> <span style=\"background-color: rgba(255, 255, 255, 0); padding: 2px 4px; margin: 2px; text-decoration: none;\">great</span> <span style=\"background-color: rgba(255, 255, 255, 0); padding: 2px 4px; margin: 2px; text-decoration: none;\">he</span> <span style=\"background-color: rgba(255, 255, 255, 0); padding: 2px 4px; margin: 2px; text-decoration: none;\">ights</span> <span style=\"background-color: rgba(255, 255, 255, 0); padding: 2px 4px; margin: 2px; text-decoration: none;\">.</span> </p>"
      ],
      "text/plain": [
       "<IPython.core.display.HTML object>"
      ]
     },
     "metadata": {},
     "output_type": "display_data"
    },
    {
     "data": {
      "text/html": [
       "<p style='font-family: monospace; text-decoration: none;'><span style=\"background-color: rgba(110, 1, 14, 0.7); padding: 2px 4px; margin: 2px; text-decoration: none;\">Tour</span> <span style=\"background-color: rgba(236, 56, 42, 0.7); padding: 2px 4px; margin: 2px; text-decoration: none;\">ists</span> <span style=\"background-color: rgba(110, 1, 14, 0.7); padding: 2px 4px; margin: 2px; text-decoration: none;\">from</span> <span style=\"background-color: rgba(255, 255, 255, 0); padding: 2px 4px; margin: 2px; text-decoration: none;\">all</span> <span style=\"background-color: rgba(255, 255, 255, 0); padding: 2px 4px; margin: 2px; text-decoration: none;\">over</span> <span style=\"background-color: rgba(249, 100, 70, 0.7); padding: 2px 4px; margin: 2px; text-decoration: none;\">the</span> <span style=\"background-color: rgba(255, 255, 255, 0); padding: 2px 4px; margin: 2px; text-decoration: none;\">globe</span> <span style=\"background-color: rgba(255, 255, 255, 0); padding: 2px 4px; margin: 2px; text-decoration: none;\">come</span> <span style=\"background-color: rgba(255, 255, 255, 0); padding: 2px 4px; margin: 2px; text-decoration: none;\">to</span> <span style=\"background-color: rgba(248, 96, 67, 0.7); padding: 2px 4px; margin: 2px; text-decoration: none;\">Ni</span> <span style=\"background-color: rgba(238, 58, 43, 0.7); padding: 2px 4px; margin: 2px; text-decoration: none;\">ag</span> <span style=\"background-color: rgba(248, 96, 67, 0.7); padding: 2px 4px; margin: 2px; text-decoration: none;\">ara</span> <span style=\"background-color: rgba(244, 81, 58, 0.7); padding: 2px 4px; margin: 2px; text-decoration: none;\">Falls</span> <span style=\"background-color: rgba(255, 255, 255, 0); padding: 2px 4px; margin: 2px; text-decoration: none;\">not</span> <span style=\"background-color: rgba(255, 255, 255, 0); padding: 2px 4px; margin: 2px; text-decoration: none;\">only</span> <span style=\"background-color: rgba(255, 255, 255, 0); padding: 2px 4px; margin: 2px; text-decoration: none;\">to</span> <span style=\"background-color: rgba(255, 255, 255, 0); padding: 2px 4px; margin: 2px; text-decoration: none;\">witness</span> <span style=\"background-color: rgba(255, 255, 255, 0); padding: 2px 4px; margin: 2px; text-decoration: none;\">its</span> <span style=\"background-color: rgba(255, 255, 255, 0); padding: 2px 4px; margin: 2px; text-decoration: none;\">breat</span> <span style=\"background-color: rgba(255, 255, 255, 0); padding: 2px 4px; margin: 2px; text-decoration: none;\">ht</span> <span style=\"background-color: rgba(255, 255, 255, 0); padding: 2px 4px; margin: 2px; text-decoration: none;\">aking</span> <span style=\"background-color: rgba(255, 255, 255, 0); padding: 2px 4px; margin: 2px; text-decoration: none;\">beauty</span> <span style=\"background-color: rgba(255, 255, 255, 0); padding: 2px 4px; margin: 2px; text-decoration: none;\">but</span> <span style=\"background-color: rgba(255, 255, 255, 0); padding: 2px 4px; margin: 2px; text-decoration: none;\">also</span> <span style=\"background-color: rgba(255, 255, 255, 0); padding: 2px 4px; margin: 2px; text-decoration: none;\">to</span> <span style=\"background-color: rgba(255, 255, 255, 0); padding: 2px 4px; margin: 2px; text-decoration: none;\">enjoy</span> <span style=\"background-color: rgba(255, 255, 255, 0); padding: 2px 4px; margin: 2px; text-decoration: none;\">a</span> <span style=\"background-color: rgba(255, 255, 255, 0); padding: 2px 4px; margin: 2px; text-decoration: none;\">variety</span> <span style=\"background-color: rgba(255, 255, 255, 0); padding: 2px 4px; margin: 2px; text-decoration: none;\">of</span> <span style=\"background-color: rgba(255, 255, 255, 0); padding: 2px 4px; margin: 2px; text-decoration: none;\">activities</span> <span style=\"background-color: rgba(255, 255, 255, 0); padding: 2px 4px; margin: 2px; text-decoration: none;\">such</span> <span style=\"background-color: rgba(255, 255, 255, 0); padding: 2px 4px; margin: 2px; text-decoration: none;\">as</span> <span style=\"background-color: rgba(255, 255, 255, 0); padding: 2px 4px; margin: 2px; text-decoration: none;\">boat</span> <span style=\"background-color: rgba(255, 255, 255, 0); padding: 2px 4px; margin: 2px; text-decoration: none;\">tours</span> <span style=\"background-color: rgba(255, 255, 255, 0); padding: 2px 4px; margin: 2px; text-decoration: none;\">,</span> <span style=\"background-color: rgba(245, 86, 61, 0.7); padding: 2px 4px; margin: 2px; text-decoration: none;\">h</span> <span style=\"background-color: rgba(255, 255, 255, 0); padding: 2px 4px; margin: 2px; text-decoration: none;\">iking</span> <span style=\"background-color: rgba(255, 255, 255, 0); padding: 2px 4px; margin: 2px; text-decoration: none;\">,</span> <span style=\"background-color: rgba(255, 255, 255, 0); padding: 2px 4px; margin: 2px; text-decoration: none;\">and</span> <span style=\"background-color: rgba(255, 255, 255, 0); padding: 2px 4px; margin: 2px; text-decoration: none;\">visiting</span> <span style=\"background-color: rgba(255, 255, 255, 0); padding: 2px 4px; margin: 2px; text-decoration: none;\">observation</span> <span style=\"background-color: rgba(255, 255, 255, 0); padding: 2px 4px; margin: 2px; text-decoration: none;\">tow</span> <span style=\"background-color: rgba(255, 255, 255, 0); padding: 2px 4px; margin: 2px; text-decoration: none;\">ers</span> <span style=\"background-color: rgba(255, 255, 255, 0); padding: 2px 4px; margin: 2px; text-decoration: none;\">for</span> <span style=\"background-color: rgba(255, 255, 255, 0); padding: 2px 4px; margin: 2px; text-decoration: none;\">pan</span> <span style=\"background-color: rgba(255, 255, 255, 0); padding: 2px 4px; margin: 2px; text-decoration: none;\">or</span> <span style=\"background-color: rgba(255, 255, 255, 0); padding: 2px 4px; margin: 2px; text-decoration: none;\">amic</span> <span style=\"background-color: rgba(255, 255, 255, 0); padding: 2px 4px; margin: 2px; text-decoration: none;\">views</span> <span style=\"background-color: rgba(255, 255, 255, 0); padding: 2px 4px; margin: 2px; text-decoration: none;\">.</span> </p>"
      ],
      "text/plain": [
       "<IPython.core.display.HTML object>"
      ]
     },
     "metadata": {},
     "output_type": "display_data"
    },
    {
     "data": {
      "text/html": [
       "<p style='font-family: monospace; text-decoration: none;'><span style=\"background-color: rgba(120, 4, 15, 0.7); padding: 2px 4px; margin: 2px; text-decoration: none;\">The</span> <span style=\"background-color: rgba(224, 45, 38, 0.7); padding: 2px 4px; margin: 2px; text-decoration: none;\">history</span> <span style=\"background-color: rgba(110, 1, 14, 0.7); padding: 2px 4px; margin: 2px; text-decoration: none;\">of</span> <span style=\"background-color: rgba(255, 255, 255, 0); padding: 2px 4px; margin: 2px; text-decoration: none;\">Ni</span> <span style=\"background-color: rgba(250, 102, 71, 0.7); padding: 2px 4px; margin: 2px; text-decoration: none;\">ag</span> <span style=\"background-color: rgba(255, 255, 255, 0); padding: 2px 4px; margin: 2px; text-decoration: none;\">ara</span> <span style=\"background-color: rgba(247, 93, 66, 0.7); padding: 2px 4px; margin: 2px; text-decoration: none;\">Falls</span> <span style=\"background-color: rgba(255, 255, 255, 0); padding: 2px 4px; margin: 2px; text-decoration: none;\">goes</span> <span style=\"background-color: rgba(255, 255, 255, 0); padding: 2px 4px; margin: 2px; text-decoration: none;\">back</span> <span style=\"background-color: rgba(255, 255, 255, 0); padding: 2px 4px; margin: 2px; text-decoration: none;\">centuries</span> <span style=\"background-color: rgba(255, 255, 255, 0); padding: 2px 4px; margin: 2px; text-decoration: none;\">,</span> <span style=\"background-color: rgba(255, 255, 255, 0); padding: 2px 4px; margin: 2px; text-decoration: none;\">with</span> <span style=\"background-color: rgba(255, 255, 255, 0); padding: 2px 4px; margin: 2px; text-decoration: none;\">the</span> <span style=\"background-color: rgba(255, 255, 255, 0); padding: 2px 4px; margin: 2px; text-decoration: none;\">falls</span> <span style=\"background-color: rgba(255, 255, 255, 0); padding: 2px 4px; margin: 2px; text-decoration: none;\">being</span> <span style=\"background-color: rgba(255, 255, 255, 0); padding: 2px 4px; margin: 2px; text-decoration: none;\">an</span> <span style=\"background-color: rgba(255, 255, 255, 0); padding: 2px 4px; margin: 2px; text-decoration: none;\">important</span> <span style=\"background-color: rgba(255, 255, 255, 0); padding: 2px 4px; margin: 2px; text-decoration: none;\">site</span> <span style=\"background-color: rgba(255, 255, 255, 0); padding: 2px 4px; margin: 2px; text-decoration: none;\">for</span> <span style=\"background-color: rgba(255, 255, 255, 0); padding: 2px 4px; margin: 2px; text-decoration: none;\">Ind</span> <span style=\"background-color: rgba(255, 255, 255, 0); padding: 2px 4px; margin: 2px; text-decoration: none;\">igenous</span> <span style=\"background-color: rgba(255, 255, 255, 0); padding: 2px 4px; margin: 2px; text-decoration: none;\">peoples</span> <span style=\"background-color: rgba(255, 255, 255, 0); padding: 2px 4px; margin: 2px; text-decoration: none;\">long</span> <span style=\"background-color: rgba(255, 255, 255, 0); padding: 2px 4px; margin: 2px; text-decoration: none;\">before</span> <span style=\"background-color: rgba(255, 255, 255, 0); padding: 2px 4px; margin: 2px; text-decoration: none;\">European</span> <span style=\"background-color: rgba(255, 255, 255, 0); padding: 2px 4px; margin: 2px; text-decoration: none;\">sett</span> <span style=\"background-color: rgba(255, 255, 255, 0); padding: 2px 4px; margin: 2px; text-decoration: none;\">lers</span> <span style=\"background-color: rgba(255, 255, 255, 0); padding: 2px 4px; margin: 2px; text-decoration: none;\">arrived</span> <span style=\"background-color: rgba(255, 255, 255, 0); padding: 2px 4px; margin: 2px; text-decoration: none;\">in</span> <span style=\"background-color: rgba(255, 255, 255, 0); padding: 2px 4px; margin: 2px; text-decoration: none;\">the</span> <span style=\"background-color: rgba(255, 255, 255, 0); padding: 2px 4px; margin: 2px; text-decoration: none;\">area</span> <span style=\"background-color: rgba(255, 255, 255, 0); padding: 2px 4px; margin: 2px; text-decoration: none;\">.</span> </p>"
      ],
      "text/plain": [
       "<IPython.core.display.HTML object>"
      ]
     },
     "metadata": {},
     "output_type": "display_data"
    },
    {
     "data": {
      "text/html": [
       "<p style='font-family: monospace; text-decoration: none;'><span style=\"background-color: rgba(118, 3, 15, 0.7); padding: 2px 4px; margin: 2px; text-decoration: none;\">In</span> <span style=\"background-color: rgba(240, 65, 48, 0.7); padding: 2px 4px; margin: 2px; text-decoration: none;\">the</span> <span style=\"background-color: rgba(108, 1, 13, 0.7); padding: 2px 4px; margin: 2px; text-decoration: none;\"></span> <span style=\"background-color: rgba(244, 81, 58, 0.7); padding: 2px 4px; margin: 2px; text-decoration: none;\">1</span> <span style=\"background-color: rgba(242, 72, 52, 0.7); padding: 2px 4px; margin: 2px; text-decoration: none;\">9</span> <span style=\"background-color: rgba(214, 35, 33, 0.7); padding: 2px 4px; margin: 2px; text-decoration: none;\">th</span> <span style=\"background-color: rgba(213, 34, 33, 0.7); padding: 2px 4px; margin: 2px; text-decoration: none;\">century</span> <span style=\"background-color: rgba(240, 63, 47, 0.7); padding: 2px 4px; margin: 2px; text-decoration: none;\">,</span> <span style=\"background-color: rgba(245, 83, 59, 0.7); padding: 2px 4px; margin: 2px; text-decoration: none;\">the</span> <span style=\"background-color: rgba(255, 255, 255, 0); padding: 2px 4px; margin: 2px; text-decoration: none;\">first</span> <span style=\"background-color: rgba(248, 97, 68, 0.7); padding: 2px 4px; margin: 2px; text-decoration: none;\">h</span> <span style=\"background-color: rgba(255, 255, 255, 0); padding: 2px 4px; margin: 2px; text-decoration: none;\">arness</span> <span style=\"background-color: rgba(255, 255, 255, 0); padding: 2px 4px; margin: 2px; text-decoration: none;\">ing</span> <span style=\"background-color: rgba(255, 255, 255, 0); padding: 2px 4px; margin: 2px; text-decoration: none;\">of</span> <span style=\"background-color: rgba(255, 255, 255, 0); padding: 2px 4px; margin: 2px; text-decoration: none;\">the</span> <span style=\"background-color: rgba(244, 81, 58, 0.7); padding: 2px 4px; margin: 2px; text-decoration: none;\">falls</span> <span style=\"background-color: rgba(255, 255, 255, 0); padding: 2px 4px; margin: 2px; text-decoration: none;\">'</span> <span style=\"background-color: rgba(255, 255, 255, 0); padding: 2px 4px; margin: 2px; text-decoration: none;\">power</span> <span style=\"background-color: rgba(255, 255, 255, 0); padding: 2px 4px; margin: 2px; text-decoration: none;\">for</span> <span style=\"background-color: rgba(255, 255, 255, 0); padding: 2px 4px; margin: 2px; text-decoration: none;\">hydro</span> <span style=\"background-color: rgba(255, 255, 255, 0); padding: 2px 4px; margin: 2px; text-decoration: none;\">elect</span> <span style=\"background-color: rgba(255, 255, 255, 0); padding: 2px 4px; margin: 2px; text-decoration: none;\">ric</span> <span style=\"background-color: rgba(255, 255, 255, 0); padding: 2px 4px; margin: 2px; text-decoration: none;\">energy</span> <span style=\"background-color: rgba(255, 255, 255, 0); padding: 2px 4px; margin: 2px; text-decoration: none;\">was</span> <span style=\"background-color: rgba(250, 102, 71, 0.7); padding: 2px 4px; margin: 2px; text-decoration: none;\">undert</span> <span style=\"background-color: rgba(255, 255, 255, 0); padding: 2px 4px; margin: 2px; text-decoration: none;\">aken</span> <span style=\"background-color: rgba(249, 99, 69, 0.7); padding: 2px 4px; margin: 2px; text-decoration: none;\">,</span> <span style=\"background-color: rgba(255, 255, 255, 0); padding: 2px 4px; margin: 2px; text-decoration: none;\">which</span> <span style=\"background-color: rgba(255, 255, 255, 0); padding: 2px 4px; margin: 2px; text-decoration: none;\">played</span> <span style=\"background-color: rgba(255, 255, 255, 0); padding: 2px 4px; margin: 2px; text-decoration: none;\">a</span> <span style=\"background-color: rgba(255, 255, 255, 0); padding: 2px 4px; margin: 2px; text-decoration: none;\">significant</span> <span style=\"background-color: rgba(255, 255, 255, 0); padding: 2px 4px; margin: 2px; text-decoration: none;\">role</span> <span style=\"background-color: rgba(255, 255, 255, 0); padding: 2px 4px; margin: 2px; text-decoration: none;\">in</span> <span style=\"background-color: rgba(255, 255, 255, 0); padding: 2px 4px; margin: 2px; text-decoration: none;\">the</span> <span style=\"background-color: rgba(255, 255, 255, 0); padding: 2px 4px; margin: 2px; text-decoration: none;\">industrial</span> <span style=\"background-color: rgba(255, 255, 255, 0); padding: 2px 4px; margin: 2px; text-decoration: none;\">development</span> <span style=\"background-color: rgba(255, 255, 255, 0); padding: 2px 4px; margin: 2px; text-decoration: none;\">of</span> <span style=\"background-color: rgba(255, 255, 255, 0); padding: 2px 4px; margin: 2px; text-decoration: none;\">the</span> <span style=\"background-color: rgba(244, 80, 57, 0.7); padding: 2px 4px; margin: 2px; text-decoration: none;\">region</span> <span style=\"background-color: rgba(244, 81, 58, 0.7); padding: 2px 4px; margin: 2px; text-decoration: none;\">.</span> </p>"
      ],
      "text/plain": [
       "<IPython.core.display.HTML object>"
      ]
     },
     "metadata": {},
     "output_type": "display_data"
    },
    {
     "data": {
      "text/html": [
       "<p style='font-family: monospace; text-decoration: none;'><span style=\"background-color: rgba(116, 3, 14, 0.7); padding: 2px 4px; margin: 2px; text-decoration: none;\">Ni</span> <span style=\"background-color: rgba(255, 255, 255, 0); padding: 2px 4px; margin: 2px; text-decoration: none;\">ag</span> <span style=\"background-color: rgba(242, 72, 52, 0.7); padding: 2px 4px; margin: 2px; text-decoration: none;\">ara</span> <span style=\"background-color: rgba(248, 94, 66, 0.7); padding: 2px 4px; margin: 2px; text-decoration: none;\">Falls</span> <span style=\"background-color: rgba(229, 49, 39, 0.7); padding: 2px 4px; margin: 2px; text-decoration: none;\">is</span> <span style=\"background-color: rgba(241, 66, 49, 0.7); padding: 2px 4px; margin: 2px; text-decoration: none;\">not</span> <span style=\"background-color: rgba(248, 96, 67, 0.7); padding: 2px 4px; margin: 2px; text-decoration: none;\">only</span> <span style=\"background-color: rgba(255, 255, 255, 0); padding: 2px 4px; margin: 2px; text-decoration: none;\">a</span> <span style=\"background-color: rgba(250, 105, 73, 0.7); padding: 2px 4px; margin: 2px; text-decoration: none;\">natural</span> <span style=\"background-color: rgba(250, 103, 72, 0.7); padding: 2px 4px; margin: 2px; text-decoration: none;\">wonder</span> <span style=\"background-color: rgba(241, 68, 50, 0.7); padding: 2px 4px; margin: 2px; text-decoration: none;\">but</span> <span style=\"background-color: rgba(255, 255, 255, 0); padding: 2px 4px; margin: 2px; text-decoration: none;\">also</span> <span style=\"background-color: rgba(255, 255, 255, 0); padding: 2px 4px; margin: 2px; text-decoration: none;\">a</span> <span style=\"background-color: rgba(255, 255, 255, 0); padding: 2px 4px; margin: 2px; text-decoration: none;\">symbol</span> <span style=\"background-color: rgba(110, 1, 14, 0.7); padding: 2px 4px; margin: 2px; text-decoration: none;\">of</span> <span style=\"background-color: rgba(255, 255, 255, 0); padding: 2px 4px; margin: 2px; text-decoration: none;\">both</span> <span style=\"background-color: rgba(255, 255, 255, 0); padding: 2px 4px; margin: 2px; text-decoration: none;\">the</span> <span style=\"background-color: rgba(255, 255, 255, 0); padding: 2px 4px; margin: 2px; text-decoration: none;\">raw</span> <span style=\"background-color: rgba(255, 255, 255, 0); padding: 2px 4px; margin: 2px; text-decoration: none;\">power</span> <span style=\"background-color: rgba(255, 255, 255, 0); padding: 2px 4px; margin: 2px; text-decoration: none;\">of</span> <span style=\"background-color: rgba(255, 255, 255, 0); padding: 2px 4px; margin: 2px; text-decoration: none;\">nature</span> <span style=\"background-color: rgba(255, 255, 255, 0); padding: 2px 4px; margin: 2px; text-decoration: none;\">and</span> <span style=\"background-color: rgba(255, 255, 255, 0); padding: 2px 4px; margin: 2px; text-decoration: none;\">the</span> <span style=\"background-color: rgba(255, 255, 255, 0); padding: 2px 4px; margin: 2px; text-decoration: none;\">human</span> <span style=\"background-color: rgba(247, 93, 66, 0.7); padding: 2px 4px; margin: 2px; text-decoration: none;\">ing</span> <span style=\"background-color: rgba(255, 255, 255, 0); padding: 2px 4px; margin: 2px; text-decoration: none;\">enu</span> <span style=\"background-color: rgba(255, 255, 255, 0); padding: 2px 4px; margin: 2px; text-decoration: none;\">ity</span> <span style=\"background-color: rgba(255, 255, 255, 0); padding: 2px 4px; margin: 2px; text-decoration: none;\">used</span> <span style=\"background-color: rgba(255, 255, 255, 0); padding: 2px 4px; margin: 2px; text-decoration: none;\">to</span> <span style=\"background-color: rgba(255, 255, 255, 0); padding: 2px 4px; margin: 2px; text-decoration: none;\">h</span> <span style=\"background-color: rgba(255, 255, 255, 0); padding: 2px 4px; margin: 2px; text-decoration: none;\">arness</span> <span style=\"background-color: rgba(255, 255, 255, 0); padding: 2px 4px; margin: 2px; text-decoration: none;\">its</span> <span style=\"background-color: rgba(255, 255, 255, 0); padding: 2px 4px; margin: 2px; text-decoration: none;\">energy</span> <span style=\"background-color: rgba(255, 255, 255, 0); padding: 2px 4px; margin: 2px; text-decoration: none;\">for</span> <span style=\"background-color: rgba(255, 255, 255, 0); padding: 2px 4px; margin: 2px; text-decoration: none;\">practical</span> <span style=\"background-color: rgba(255, 255, 255, 0); padding: 2px 4px; margin: 2px; text-decoration: none;\">purposes</span> <span style=\"background-color: rgba(255, 255, 255, 0); padding: 2px 4px; margin: 2px; text-decoration: none;\">.</span> </p>"
      ],
      "text/plain": [
       "<IPython.core.display.HTML object>"
      ]
     },
     "metadata": {},
     "output_type": "display_data"
    },
    {
     "data": {
      "text/html": [
       "<p style='font-family: monospace; text-decoration: none;'><span style=\"background-color: rgba(120, 4, 15, 0.7); padding: 2px 4px; margin: 2px; text-decoration: none;\">Every</span> <span style=\"background-color: rgba(230, 50, 40, 0.7); padding: 2px 4px; margin: 2px; text-decoration: none;\">year</span> <span style=\"background-color: rgba(110, 1, 14, 0.7); padding: 2px 4px; margin: 2px; text-decoration: none;\">,</span> <span style=\"background-color: rgba(246, 89, 63, 0.7); padding: 2px 4px; margin: 2px; text-decoration: none;\">millions</span> <span style=\"background-color: rgba(255, 255, 255, 0); padding: 2px 4px; margin: 2px; text-decoration: none;\">of</span> <span style=\"background-color: rgba(255, 255, 255, 0); padding: 2px 4px; margin: 2px; text-decoration: none;\">gall</span> <span style=\"background-color: rgba(255, 255, 255, 0); padding: 2px 4px; margin: 2px; text-decoration: none;\">ons</span> <span style=\"background-color: rgba(255, 255, 255, 0); padding: 2px 4px; margin: 2px; text-decoration: none;\">of</span> <span style=\"background-color: rgba(255, 255, 255, 0); padding: 2px 4px; margin: 2px; text-decoration: none;\">water</span> <span style=\"background-color: rgba(255, 255, 255, 0); padding: 2px 4px; margin: 2px; text-decoration: none;\">tum</span> <span style=\"background-color: rgba(255, 255, 255, 0); padding: 2px 4px; margin: 2px; text-decoration: none;\">ble</span> <span style=\"background-color: rgba(255, 255, 255, 0); padding: 2px 4px; margin: 2px; text-decoration: none;\">over</span> <span style=\"background-color: rgba(255, 255, 255, 0); padding: 2px 4px; margin: 2px; text-decoration: none;\">the</span> <span style=\"background-color: rgba(255, 255, 255, 0); padding: 2px 4px; margin: 2px; text-decoration: none;\">edge</span> <span style=\"background-color: rgba(255, 255, 255, 0); padding: 2px 4px; margin: 2px; text-decoration: none;\">of</span> <span style=\"background-color: rgba(255, 255, 255, 0); padding: 2px 4px; margin: 2px; text-decoration: none;\">the</span> <span style=\"background-color: rgba(240, 65, 48, 0.7); padding: 2px 4px; margin: 2px; text-decoration: none;\">falls</span> <span style=\"background-color: rgba(255, 255, 255, 0); padding: 2px 4px; margin: 2px; text-decoration: none;\">,</span> <span style=\"background-color: rgba(255, 255, 255, 0); padding: 2px 4px; margin: 2px; text-decoration: none;\">creating</span> <span style=\"background-color: rgba(255, 255, 255, 0); padding: 2px 4px; margin: 2px; text-decoration: none;\">mist</span> <span style=\"background-color: rgba(255, 255, 255, 0); padding: 2px 4px; margin: 2px; text-decoration: none;\">that</span> <span style=\"background-color: rgba(255, 255, 255, 0); padding: 2px 4px; margin: 2px; text-decoration: none;\">can</span> <span style=\"background-color: rgba(255, 255, 255, 0); padding: 2px 4px; margin: 2px; text-decoration: none;\">be</span> <span style=\"background-color: rgba(255, 255, 255, 0); padding: 2px 4px; margin: 2px; text-decoration: none;\">seen</span> <span style=\"background-color: rgba(255, 255, 255, 0); padding: 2px 4px; margin: 2px; text-decoration: none;\">from</span> <span style=\"background-color: rgba(255, 255, 255, 0); padding: 2px 4px; margin: 2px; text-decoration: none;\">miles</span> <span style=\"background-color: rgba(255, 255, 255, 0); padding: 2px 4px; margin: 2px; text-decoration: none;\">away</span> <span style=\"background-color: rgba(255, 255, 255, 0); padding: 2px 4px; margin: 2px; text-decoration: none;\">and</span> <span style=\"background-color: rgba(255, 255, 255, 0); padding: 2px 4px; margin: 2px; text-decoration: none;\">forming</span> <span style=\"background-color: rgba(255, 255, 255, 0); padding: 2px 4px; margin: 2px; text-decoration: none;\">rain</span> <span style=\"background-color: rgba(255, 255, 255, 0); padding: 2px 4px; margin: 2px; text-decoration: none;\">b</span> <span style=\"background-color: rgba(255, 255, 255, 0); padding: 2px 4px; margin: 2px; text-decoration: none;\">ows</span> <span style=\"background-color: rgba(255, 255, 255, 0); padding: 2px 4px; margin: 2px; text-decoration: none;\">on</span> <span style=\"background-color: rgba(255, 255, 255, 0); padding: 2px 4px; margin: 2px; text-decoration: none;\">sun</span> <span style=\"background-color: rgba(255, 255, 255, 0); padding: 2px 4px; margin: 2px; text-decoration: none;\">ny</span> <span style=\"background-color: rgba(255, 255, 255, 0); padding: 2px 4px; margin: 2px; text-decoration: none;\">days</span> <span style=\"background-color: rgba(247, 91, 65, 0.7); padding: 2px 4px; margin: 2px; text-decoration: none;\">.</span> </p>"
      ],
      "text/plain": [
       "<IPython.core.display.HTML object>"
      ]
     },
     "metadata": {},
     "output_type": "display_data"
    },
    {
     "data": {
      "text/html": [
       "<p style='font-family: monospace; text-decoration: none;'><span style=\"background-color: rgba(120, 4, 15, 0.7); padding: 2px 4px; margin: 2px; text-decoration: none;\">The</span> <span style=\"background-color: rgba(246, 89, 63, 0.7); padding: 2px 4px; margin: 2px; text-decoration: none;\">surrounding</span> <span style=\"background-color: rgba(255, 255, 255, 0); padding: 2px 4px; margin: 2px; text-decoration: none;\">park</span> <span style=\"background-color: rgba(248, 96, 67, 0.7); padding: 2px 4px; margin: 2px; text-decoration: none;\">land</span> <span style=\"background-color: rgba(255, 255, 255, 0); padding: 2px 4px; margin: 2px; text-decoration: none;\">offers</span> <span style=\"background-color: rgba(255, 255, 255, 0); padding: 2px 4px; margin: 2px; text-decoration: none;\">visitors</span> <span style=\"background-color: rgba(255, 255, 255, 0); padding: 2px 4px; margin: 2px; text-decoration: none;\">the</span> <span style=\"background-color: rgba(245, 83, 59, 0.7); padding: 2px 4px; margin: 2px; text-decoration: none;\">opportunity</span> <span style=\"background-color: rgba(110, 1, 14, 0.7); padding: 2px 4px; margin: 2px; text-decoration: none;\">to</span> <span style=\"background-color: rgba(255, 255, 255, 0); padding: 2px 4px; margin: 2px; text-decoration: none;\">explore</span> <span style=\"background-color: rgba(255, 255, 255, 0); padding: 2px 4px; margin: 2px; text-decoration: none;\">l</span> <span style=\"background-color: rgba(255, 255, 255, 0); padding: 2px 4px; margin: 2px; text-decoration: none;\">ush</span> <span style=\"background-color: rgba(255, 255, 255, 0); padding: 2px 4px; margin: 2px; text-decoration: none;\">gre</span> <span style=\"background-color: rgba(255, 255, 255, 0); padding: 2px 4px; margin: 2px; text-decoration: none;\">ener</span> <span style=\"background-color: rgba(255, 255, 255, 0); padding: 2px 4px; margin: 2px; text-decoration: none;\">y</span> <span style=\"background-color: rgba(255, 255, 255, 0); padding: 2px 4px; margin: 2px; text-decoration: none;\">,</span> <span style=\"background-color: rgba(255, 255, 255, 0); padding: 2px 4px; margin: 2px; text-decoration: none;\">take</span> <span style=\"background-color: rgba(255, 255, 255, 0); padding: 2px 4px; margin: 2px; text-decoration: none;\">boat</span> <span style=\"background-color: rgba(255, 255, 255, 0); padding: 2px 4px; margin: 2px; text-decoration: none;\">r</span> <span style=\"background-color: rgba(255, 255, 255, 0); padding: 2px 4px; margin: 2px; text-decoration: none;\">ides</span> <span style=\"background-color: rgba(255, 255, 255, 0); padding: 2px 4px; margin: 2px; text-decoration: none;\">to</span> <span style=\"background-color: rgba(255, 255, 255, 0); padding: 2px 4px; margin: 2px; text-decoration: none;\">get</span> <span style=\"background-color: rgba(255, 255, 255, 0); padding: 2px 4px; margin: 2px; text-decoration: none;\">up</span> <span style=\"background-color: rgba(255, 255, 255, 0); padding: 2px 4px; margin: 2px; text-decoration: none;\">close</span> <span style=\"background-color: rgba(255, 255, 255, 0); padding: 2px 4px; margin: 2px; text-decoration: none;\">to</span> <span style=\"background-color: rgba(255, 255, 255, 0); padding: 2px 4px; margin: 2px; text-decoration: none;\">the</span> <span style=\"background-color: rgba(238, 58, 43, 0.7); padding: 2px 4px; margin: 2px; text-decoration: none;\">falls</span> <span style=\"background-color: rgba(255, 255, 255, 0); padding: 2px 4px; margin: 2px; text-decoration: none;\">,</span> <span style=\"background-color: rgba(250, 105, 73, 0.7); padding: 2px 4px; margin: 2px; text-decoration: none;\">and</span> <span style=\"background-color: rgba(255, 255, 255, 0); padding: 2px 4px; margin: 2px; text-decoration: none;\">even</span> <span style=\"background-color: rgba(255, 255, 255, 0); padding: 2px 4px; margin: 2px; text-decoration: none;\">stand</span> <span style=\"background-color: rgba(255, 255, 255, 0); padding: 2px 4px; margin: 2px; text-decoration: none;\">behind</span> <span style=\"background-color: rgba(255, 255, 255, 0); padding: 2px 4px; margin: 2px; text-decoration: none;\">the</span> <span style=\"background-color: rgba(255, 255, 255, 0); padding: 2px 4px; margin: 2px; text-decoration: none;\">water</span> <span style=\"background-color: rgba(255, 255, 255, 0); padding: 2px 4px; margin: 2px; text-decoration: none;\">fall</span> <span style=\"background-color: rgba(255, 255, 255, 0); padding: 2px 4px; margin: 2px; text-decoration: none;\">for</span> <span style=\"background-color: rgba(255, 255, 255, 0); padding: 2px 4px; margin: 2px; text-decoration: none;\">a</span> <span style=\"background-color: rgba(255, 255, 255, 0); padding: 2px 4px; margin: 2px; text-decoration: none;\">unique</span> <span style=\"background-color: rgba(255, 255, 255, 0); padding: 2px 4px; margin: 2px; text-decoration: none;\">and</span> <span style=\"background-color: rgba(255, 255, 255, 0); padding: 2px 4px; margin: 2px; text-decoration: none;\">exh</span> <span style=\"background-color: rgba(255, 255, 255, 0); padding: 2px 4px; margin: 2px; text-decoration: none;\">ilar</span> <span style=\"background-color: rgba(255, 255, 255, 0); padding: 2px 4px; margin: 2px; text-decoration: none;\">ating</span> <span style=\"background-color: rgba(255, 255, 255, 0); padding: 2px 4px; margin: 2px; text-decoration: none;\">view</span> <span style=\"background-color: rgba(247, 91, 65, 0.7); padding: 2px 4px; margin: 2px; text-decoration: none;\">.</span> </p>"
      ],
      "text/plain": [
       "<IPython.core.display.HTML object>"
      ]
     },
     "metadata": {},
     "output_type": "display_data"
    },
    {
     "data": {
      "text/html": [
       "<p style='font-family: monospace; text-decoration: none;'><span style=\"background-color: rgba(116, 3, 14, 0.7); padding: 2px 4px; margin: 2px; text-decoration: none;\">Ni</span> <span style=\"background-color: rgba(255, 255, 255, 0); padding: 2px 4px; margin: 2px; text-decoration: none;\">ag</span> <span style=\"background-color: rgba(242, 72, 52, 0.7); padding: 2px 4px; margin: 2px; text-decoration: none;\">ara</span> <span style=\"background-color: rgba(248, 94, 66, 0.7); padding: 2px 4px; margin: 2px; text-decoration: none;\">Falls</span> <span style=\"background-color: rgba(227, 47, 39, 0.7); padding: 2px 4px; margin: 2px; text-decoration: none;\">has</span> <span style=\"background-color: rgba(250, 105, 73, 0.7); padding: 2px 4px; margin: 2px; text-decoration: none;\">been</span> <span style=\"background-color: rgba(255, 255, 255, 0); padding: 2px 4px; margin: 2px; text-decoration: none;\">the</span> <span style=\"background-color: rgba(242, 74, 53, 0.7); padding: 2px 4px; margin: 2px; text-decoration: none;\">site</span> <span style=\"background-color: rgba(110, 1, 14, 0.7); padding: 2px 4px; margin: 2px; text-decoration: none;\">of</span> <span style=\"background-color: rgba(255, 255, 255, 0); padding: 2px 4px; margin: 2px; text-decoration: none;\">numerous</span> <span style=\"background-color: rgba(255, 255, 255, 0); padding: 2px 4px; margin: 2px; text-decoration: none;\">famous</span> <span style=\"background-color: rgba(255, 255, 255, 0); padding: 2px 4px; margin: 2px; text-decoration: none;\">events</span> <span style=\"background-color: rgba(250, 103, 72, 0.7); padding: 2px 4px; margin: 2px; text-decoration: none;\">,</span> <span style=\"background-color: rgba(255, 255, 255, 0); padding: 2px 4px; margin: 2px; text-decoration: none;\">including</span> <span style=\"background-color: rgba(255, 255, 255, 0); padding: 2px 4px; margin: 2px; text-decoration: none;\">st</span> <span style=\"background-color: rgba(255, 255, 255, 0); padding: 2px 4px; margin: 2px; text-decoration: none;\">unts</span> <span style=\"background-color: rgba(255, 255, 255, 0); padding: 2px 4px; margin: 2px; text-decoration: none;\">and</span> <span style=\"background-color: rgba(255, 255, 255, 0); padding: 2px 4px; margin: 2px; text-decoration: none;\">dare</span> <span style=\"background-color: rgba(255, 255, 255, 0); padding: 2px 4px; margin: 2px; text-decoration: none;\">dev</span> <span style=\"background-color: rgba(255, 255, 255, 0); padding: 2px 4px; margin: 2px; text-decoration: none;\">il</span> <span style=\"background-color: rgba(255, 255, 255, 0); padding: 2px 4px; margin: 2px; text-decoration: none;\">acts</span> <span style=\"background-color: rgba(255, 255, 255, 0); padding: 2px 4px; margin: 2px; text-decoration: none;\">,</span> <span style=\"background-color: rgba(255, 255, 255, 0); padding: 2px 4px; margin: 2px; text-decoration: none;\">such</span> <span style=\"background-color: rgba(255, 255, 255, 0); padding: 2px 4px; margin: 2px; text-decoration: none;\">as</span> <span style=\"background-color: rgba(255, 255, 255, 0); padding: 2px 4px; margin: 2px; text-decoration: none;\">tight</span> <span style=\"background-color: rgba(255, 255, 255, 0); padding: 2px 4px; margin: 2px; text-decoration: none;\">ro</span> <span style=\"background-color: rgba(255, 255, 255, 0); padding: 2px 4px; margin: 2px; text-decoration: none;\">pe</span> <span style=\"background-color: rgba(255, 255, 255, 0); padding: 2px 4px; margin: 2px; text-decoration: none;\">walking</span> <span style=\"background-color: rgba(255, 255, 255, 0); padding: 2px 4px; margin: 2px; text-decoration: none;\">across</span> <span style=\"background-color: rgba(255, 255, 255, 0); padding: 2px 4px; margin: 2px; text-decoration: none;\">the</span> <span style=\"background-color: rgba(239, 62, 46, 0.7); padding: 2px 4px; margin: 2px; text-decoration: none;\">falls</span> <span style=\"background-color: rgba(249, 100, 70, 0.7); padding: 2px 4px; margin: 2px; text-decoration: none;\">and</span> <span style=\"background-color: rgba(255, 255, 255, 0); padding: 2px 4px; margin: 2px; text-decoration: none;\">the</span> <span style=\"background-color: rgba(255, 255, 255, 0); padding: 2px 4px; margin: 2px; text-decoration: none;\">first</span> <span style=\"background-color: rgba(255, 255, 255, 0); padding: 2px 4px; margin: 2px; text-decoration: none;\">successful</span> <span style=\"background-color: rgba(246, 89, 63, 0.7); padding: 2px 4px; margin: 2px; text-decoration: none;\">pl</span> <span style=\"background-color: rgba(248, 94, 66, 0.7); padding: 2px 4px; margin: 2px; text-decoration: none;\">unge</span> <span style=\"background-color: rgba(255, 255, 255, 0); padding: 2px 4px; margin: 2px; text-decoration: none;\">over</span> <span style=\"background-color: rgba(255, 255, 255, 0); padding: 2px 4px; margin: 2px; text-decoration: none;\">the</span> <span style=\"background-color: rgba(255, 255, 255, 0); padding: 2px 4px; margin: 2px; text-decoration: none;\">falls</span> <span style=\"background-color: rgba(255, 255, 255, 0); padding: 2px 4px; margin: 2px; text-decoration: none;\">in</span> <span style=\"background-color: rgba(255, 255, 255, 0); padding: 2px 4px; margin: 2px; text-decoration: none;\">a</span> <span style=\"background-color: rgba(255, 255, 255, 0); padding: 2px 4px; margin: 2px; text-decoration: none;\">barrel</span> <span style=\"background-color: rgba(244, 81, 58, 0.7); padding: 2px 4px; margin: 2px; text-decoration: none;\">.</span> </p>"
      ],
      "text/plain": [
       "<IPython.core.display.HTML object>"
      ]
     },
     "metadata": {},
     "output_type": "display_data"
    },
    {
     "data": {
      "text/html": [
       "<p style='font-family: monospace; text-decoration: none;'><span style=\"background-color: rgba(118, 3, 15, 0.7); padding: 2px 4px; margin: 2px; text-decoration: none;\">In</span> <span style=\"background-color: rgba(240, 65, 48, 0.7); padding: 2px 4px; margin: 2px; text-decoration: none;\">the</span> <span style=\"background-color: rgba(207, 28, 31, 0.7); padding: 2px 4px; margin: 2px; text-decoration: none;\">winter</span> <span style=\"background-color: rgba(224, 45, 38, 0.7); padding: 2px 4px; margin: 2px; text-decoration: none;\">months</span> <span style=\"background-color: rgba(110, 1, 14, 0.7); padding: 2px 4px; margin: 2px; text-decoration: none;\">,</span> <span style=\"background-color: rgba(250, 102, 71, 0.7); padding: 2px 4px; margin: 2px; text-decoration: none;\">Ni</span> <span style=\"background-color: rgba(244, 78, 56, 0.7); padding: 2px 4px; margin: 2px; text-decoration: none;\">ag</span> <span style=\"background-color: rgba(255, 255, 255, 0); padding: 2px 4px; margin: 2px; text-decoration: none;\">ara</span> <span style=\"background-color: rgba(255, 255, 255, 0); padding: 2px 4px; margin: 2px; text-decoration: none;\">Falls</span> <span style=\"background-color: rgba(255, 255, 255, 0); padding: 2px 4px; margin: 2px; text-decoration: none;\">transform</span> <span style=\"background-color: rgba(255, 255, 255, 0); padding: 2px 4px; margin: 2px; text-decoration: none;\">s</span> <span style=\"background-color: rgba(255, 255, 255, 0); padding: 2px 4px; margin: 2px; text-decoration: none;\">into</span> <span style=\"background-color: rgba(255, 255, 255, 0); padding: 2px 4px; margin: 2px; text-decoration: none;\">a</span> <span style=\"background-color: rgba(255, 255, 255, 0); padding: 2px 4px; margin: 2px; text-decoration: none;\">magical</span> <span style=\"background-color: rgba(242, 71, 51, 0.7); padding: 2px 4px; margin: 2px; text-decoration: none;\">winter</span> <span style=\"background-color: rgba(255, 255, 255, 0); padding: 2px 4px; margin: 2px; text-decoration: none;\">wonder</span> <span style=\"background-color: rgba(255, 255, 255, 0); padding: 2px 4px; margin: 2px; text-decoration: none;\">land</span> <span style=\"background-color: rgba(255, 255, 255, 0); padding: 2px 4px; margin: 2px; text-decoration: none;\">,</span> <span style=\"background-color: rgba(255, 255, 255, 0); padding: 2px 4px; margin: 2px; text-decoration: none;\">with</span> <span style=\"background-color: rgba(255, 255, 255, 0); padding: 2px 4px; margin: 2px; text-decoration: none;\">ice</span> <span style=\"background-color: rgba(255, 255, 255, 0); padding: 2px 4px; margin: 2px; text-decoration: none;\">form</span> <span style=\"background-color: rgba(255, 255, 255, 0); padding: 2px 4px; margin: 2px; text-decoration: none;\">ations</span> <span style=\"background-color: rgba(255, 255, 255, 0); padding: 2px 4px; margin: 2px; text-decoration: none;\">and</span> <span style=\"background-color: rgba(255, 255, 255, 0); padding: 2px 4px; margin: 2px; text-decoration: none;\">frozen</span> <span style=\"background-color: rgba(255, 255, 255, 0); padding: 2px 4px; margin: 2px; text-decoration: none;\">mist</span> <span style=\"background-color: rgba(255, 255, 255, 0); padding: 2px 4px; margin: 2px; text-decoration: none;\">creating</span> <span style=\"background-color: rgba(255, 255, 255, 0); padding: 2px 4px; margin: 2px; text-decoration: none;\">a</span> <span style=\"background-color: rgba(255, 255, 255, 0); padding: 2px 4px; margin: 2px; text-decoration: none;\">sur</span> <span style=\"background-color: rgba(255, 255, 255, 0); padding: 2px 4px; margin: 2px; text-decoration: none;\">real</span> <span style=\"background-color: rgba(255, 255, 255, 0); padding: 2px 4px; margin: 2px; text-decoration: none;\">landscape</span> <span style=\"background-color: rgba(255, 255, 255, 0); padding: 2px 4px; margin: 2px; text-decoration: none;\">that</span> <span style=\"background-color: rgba(255, 255, 255, 0); padding: 2px 4px; margin: 2px; text-decoration: none;\">attract</span> <span style=\"background-color: rgba(255, 255, 255, 0); padding: 2px 4px; margin: 2px; text-decoration: none;\">s</span> <span style=\"background-color: rgba(255, 255, 255, 0); padding: 2px 4px; margin: 2px; text-decoration: none;\">photograph</span> <span style=\"background-color: rgba(255, 255, 255, 0); padding: 2px 4px; margin: 2px; text-decoration: none;\">ers</span> <span style=\"background-color: rgba(255, 255, 255, 0); padding: 2px 4px; margin: 2px; text-decoration: none;\">and</span> <span style=\"background-color: rgba(255, 255, 255, 0); padding: 2px 4px; margin: 2px; text-decoration: none;\">winter</span> <span style=\"background-color: rgba(255, 255, 255, 0); padding: 2px 4px; margin: 2px; text-decoration: none;\">tourists</span> <span style=\"background-color: rgba(255, 255, 255, 0); padding: 2px 4px; margin: 2px; text-decoration: none;\">alike</span> <span style=\"background-color: rgba(248, 96, 67, 0.7); padding: 2px 4px; margin: 2px; text-decoration: none;\">.</span> </p>"
      ],
      "text/plain": [
       "<IPython.core.display.HTML object>"
      ]
     },
     "metadata": {},
     "output_type": "display_data"
    },
    {
     "data": {
      "text/html": [
       "<p style='font-family: monospace; text-decoration: none;'><span style=\"background-color: rgba(120, 4, 15, 0.7); padding: 2px 4px; margin: 2px; text-decoration: none;\">The</span> <span style=\"background-color: rgba(240, 63, 47, 0.7); padding: 2px 4px; margin: 2px; text-decoration: none;\">quick</span> <span style=\"background-color: rgba(240, 65, 48, 0.7); padding: 2px 4px; margin: 2px; text-decoration: none;\">brown</span> <span style=\"background-color: rgba(241, 66, 49, 0.7); padding: 2px 4px; margin: 2px; text-decoration: none;\">f</span> <span style=\"background-color: rgba(255, 255, 255, 0); padding: 2px 4px; margin: 2px; text-decoration: none;\">ox</span> <span style=\"background-color: rgba(233, 53, 41, 0.7); padding: 2px 4px; margin: 2px; text-decoration: none;\">j</span> <span style=\"background-color: rgba(255, 255, 255, 0); padding: 2px 4px; margin: 2px; text-decoration: none;\">umps</span> <span style=\"background-color: rgba(255, 255, 255, 0); padding: 2px 4px; margin: 2px; text-decoration: none;\">over</span> <span style=\"background-color: rgba(255, 255, 255, 0); padding: 2px 4px; margin: 2px; text-decoration: none;\">the</span> <span style=\"background-color: rgba(255, 255, 255, 0); padding: 2px 4px; margin: 2px; text-decoration: none;\">lazy</span> <span style=\"background-color: rgba(255, 255, 255, 0); padding: 2px 4px; margin: 2px; text-decoration: none;\">dog</span> <span style=\"background-color: rgba(108, 1, 13, 0.7); padding: 2px 4px; margin: 2px; text-decoration: none;\">.</span> </p>"
      ],
      "text/plain": [
       "<IPython.core.display.HTML object>"
      ]
     },
     "metadata": {},
     "output_type": "display_data"
    },
    {
     "name": "stdout",
     "output_type": "stream",
     "text": [
      "\n",
      "Visualizing Feature 29732\n"
     ]
    },
    {
     "data": {
      "text/html": [
       "<p style='font-family: monospace; text-decoration: none;'><span style=\"background-color: rgba(132, 7, 16, 0.7); padding: 2px 4px; margin: 2px; text-decoration: none;\">Ni</span> <span style=\"background-color: rgba(255, 255, 255, 0); padding: 2px 4px; margin: 2px; text-decoration: none;\">ag</span> <span style=\"background-color: rgba(245, 84, 60, 0.7); padding: 2px 4px; margin: 2px; text-decoration: none;\">ara</span> <span style=\"background-color: rgba(255, 255, 255, 0); padding: 2px 4px; margin: 2px; text-decoration: none;\">Falls</span> <span style=\"background-color: rgba(110, 1, 14, 0.7); padding: 2px 4px; margin: 2px; text-decoration: none;\">,</span> <span style=\"background-color: rgba(255, 255, 255, 0); padding: 2px 4px; margin: 2px; text-decoration: none;\">located</span> <span style=\"background-color: rgba(248, 96, 67, 0.7); padding: 2px 4px; margin: 2px; text-decoration: none;\">on</span> <span style=\"background-color: rgba(255, 255, 255, 0); padding: 2px 4px; margin: 2px; text-decoration: none;\">the</span> <span style=\"background-color: rgba(255, 255, 255, 0); padding: 2px 4px; margin: 2px; text-decoration: none;\">border</span> <span style=\"background-color: rgba(255, 255, 255, 0); padding: 2px 4px; margin: 2px; text-decoration: none;\">between</span> <span style=\"background-color: rgba(255, 255, 255, 0); padding: 2px 4px; margin: 2px; text-decoration: none;\">the</span> <span style=\"background-color: rgba(250, 103, 72, 0.7); padding: 2px 4px; margin: 2px; text-decoration: none;\">United</span> <span style=\"background-color: rgba(255, 255, 255, 0); padding: 2px 4px; margin: 2px; text-decoration: none;\">States</span> <span style=\"background-color: rgba(255, 255, 255, 0); padding: 2px 4px; margin: 2px; text-decoration: none;\">and</span> <span style=\"background-color: rgba(255, 255, 255, 0); padding: 2px 4px; margin: 2px; text-decoration: none;\">Canada</span> <span style=\"background-color: rgba(255, 255, 255, 0); padding: 2px 4px; margin: 2px; text-decoration: none;\">,</span> <span style=\"background-color: rgba(255, 255, 255, 0); padding: 2px 4px; margin: 2px; text-decoration: none;\">is</span> <span style=\"background-color: rgba(255, 255, 255, 0); padding: 2px 4px; margin: 2px; text-decoration: none;\">one</span> <span style=\"background-color: rgba(255, 255, 255, 0); padding: 2px 4px; margin: 2px; text-decoration: none;\">of</span> <span style=\"background-color: rgba(255, 255, 255, 0); padding: 2px 4px; margin: 2px; text-decoration: none;\">the</span> <span style=\"background-color: rgba(255, 255, 255, 0); padding: 2px 4px; margin: 2px; text-decoration: none;\">most</span> <span style=\"background-color: rgba(255, 255, 255, 0); padding: 2px 4px; margin: 2px; text-decoration: none;\">famous</span> <span style=\"background-color: rgba(255, 255, 255, 0); padding: 2px 4px; margin: 2px; text-decoration: none;\">natural</span> <span style=\"background-color: rgba(255, 255, 255, 0); padding: 2px 4px; margin: 2px; text-decoration: none;\">attra</span> <span style=\"background-color: rgba(255, 255, 255, 0); padding: 2px 4px; margin: 2px; text-decoration: none;\">ctions</span> <span style=\"background-color: rgba(255, 255, 255, 0); padding: 2px 4px; margin: 2px; text-decoration: none;\">in</span> <span style=\"background-color: rgba(255, 255, 255, 0); padding: 2px 4px; margin: 2px; text-decoration: none;\">the</span> <span style=\"background-color: rgba(255, 255, 255, 0); padding: 2px 4px; margin: 2px; text-decoration: none;\">world</span> <span style=\"background-color: rgba(255, 255, 255, 0); padding: 2px 4px; margin: 2px; text-decoration: none;\">,</span> <span style=\"background-color: rgba(255, 255, 255, 0); padding: 2px 4px; margin: 2px; text-decoration: none;\">drawing</span> <span style=\"background-color: rgba(255, 255, 255, 0); padding: 2px 4px; margin: 2px; text-decoration: none;\">millions</span> <span style=\"background-color: rgba(255, 255, 255, 0); padding: 2px 4px; margin: 2px; text-decoration: none;\">of</span> <span style=\"background-color: rgba(255, 255, 255, 0); padding: 2px 4px; margin: 2px; text-decoration: none;\">visitors</span> <span style=\"background-color: rgba(255, 255, 255, 0); padding: 2px 4px; margin: 2px; text-decoration: none;\">each</span> <span style=\"background-color: rgba(255, 255, 255, 0); padding: 2px 4px; margin: 2px; text-decoration: none;\">year</span> <span style=\"background-color: rgba(255, 255, 255, 0); padding: 2px 4px; margin: 2px; text-decoration: none;\">.</span> </p>"
      ],
      "text/plain": [
       "<IPython.core.display.HTML object>"
      ]
     },
     "metadata": {},
     "output_type": "display_data"
    },
    {
     "data": {
      "text/html": [
       "<p style='font-family: monospace; text-decoration: none;'><span style=\"background-color: rgba(132, 7, 16, 0.7); padding: 2px 4px; margin: 2px; text-decoration: none;\">The</span> <span style=\"background-color: rgba(255, 255, 255, 0); padding: 2px 4px; margin: 2px; text-decoration: none;\">falls</span> <span style=\"background-color: rgba(110, 1, 14, 0.7); padding: 2px 4px; margin: 2px; text-decoration: none;\">,</span> <span style=\"background-color: rgba(255, 255, 255, 0); padding: 2px 4px; margin: 2px; text-decoration: none;\">which</span> <span style=\"background-color: rgba(255, 255, 255, 0); padding: 2px 4px; margin: 2px; text-decoration: none;\">consist</span> <span style=\"background-color: rgba(255, 255, 255, 0); padding: 2px 4px; margin: 2px; text-decoration: none;\">of</span> <span style=\"background-color: rgba(255, 255, 255, 0); padding: 2px 4px; margin: 2px; text-decoration: none;\">three</span> <span style=\"background-color: rgba(255, 255, 255, 0); padding: 2px 4px; margin: 2px; text-decoration: none;\">distinct</span> <span style=\"background-color: rgba(255, 255, 255, 0); padding: 2px 4px; margin: 2px; text-decoration: none;\">water</span> <span style=\"background-color: rgba(255, 255, 255, 0); padding: 2px 4px; margin: 2px; text-decoration: none;\">falls</span> <span style=\"background-color: rgba(255, 255, 255, 0); padding: 2px 4px; margin: 2px; text-decoration: none;\">–</span> <span style=\"background-color: rgba(255, 255, 255, 0); padding: 2px 4px; margin: 2px; text-decoration: none;\">the</span> <span style=\"background-color: rgba(255, 255, 255, 0); padding: 2px 4px; margin: 2px; text-decoration: none;\">H</span> <span style=\"background-color: rgba(255, 255, 255, 0); padding: 2px 4px; margin: 2px; text-decoration: none;\">ors</span> <span style=\"background-color: rgba(255, 255, 255, 0); padding: 2px 4px; margin: 2px; text-decoration: none;\">es</span> <span style=\"background-color: rgba(255, 255, 255, 0); padding: 2px 4px; margin: 2px; text-decoration: none;\">ho</span> <span style=\"background-color: rgba(255, 255, 255, 0); padding: 2px 4px; margin: 2px; text-decoration: none;\">e</span> <span style=\"background-color: rgba(255, 255, 255, 0); padding: 2px 4px; margin: 2px; text-decoration: none;\">Falls</span> <span style=\"background-color: rgba(255, 255, 255, 0); padding: 2px 4px; margin: 2px; text-decoration: none;\">,</span> <span style=\"background-color: rgba(249, 99, 69, 0.7); padding: 2px 4px; margin: 2px; text-decoration: none;\">the</span> <span style=\"background-color: rgba(255, 255, 255, 0); padding: 2px 4px; margin: 2px; text-decoration: none;\">American</span> <span style=\"background-color: rgba(255, 255, 255, 0); padding: 2px 4px; margin: 2px; text-decoration: none;\">Falls</span> <span style=\"background-color: rgba(255, 255, 255, 0); padding: 2px 4px; margin: 2px; text-decoration: none;\">,</span> <span style=\"background-color: rgba(250, 103, 72, 0.7); padding: 2px 4px; margin: 2px; text-decoration: none;\">and</span> <span style=\"background-color: rgba(246, 87, 62, 0.7); padding: 2px 4px; margin: 2px; text-decoration: none;\">the</span> <span style=\"background-color: rgba(246, 89, 63, 0.7); padding: 2px 4px; margin: 2px; text-decoration: none;\">Br</span> <span style=\"background-color: rgba(255, 255, 255, 0); padding: 2px 4px; margin: 2px; text-decoration: none;\">idal</span> <span style=\"background-color: rgba(255, 255, 255, 0); padding: 2px 4px; margin: 2px; text-decoration: none;\">Ve</span> <span style=\"background-color: rgba(255, 255, 255, 0); padding: 2px 4px; margin: 2px; text-decoration: none;\">il</span> <span style=\"background-color: rgba(255, 255, 255, 0); padding: 2px 4px; margin: 2px; text-decoration: none;\">Falls</span> <span style=\"background-color: rgba(255, 255, 255, 0); padding: 2px 4px; margin: 2px; text-decoration: none;\">–</span> <span style=\"background-color: rgba(255, 255, 255, 0); padding: 2px 4px; margin: 2px; text-decoration: none;\">are</span> <span style=\"background-color: rgba(255, 255, 255, 0); padding: 2px 4px; margin: 2px; text-decoration: none;\">known</span> <span style=\"background-color: rgba(255, 255, 255, 0); padding: 2px 4px; margin: 2px; text-decoration: none;\">for</span> <span style=\"background-color: rgba(255, 255, 255, 0); padding: 2px 4px; margin: 2px; text-decoration: none;\">their</span> <span style=\"background-color: rgba(255, 255, 255, 0); padding: 2px 4px; margin: 2px; text-decoration: none;\">a</span> <span style=\"background-color: rgba(255, 255, 255, 0); padding: 2px 4px; margin: 2px; text-decoration: none;\">we</span> <span style=\"background-color: rgba(255, 255, 255, 0); padding: 2px 4px; margin: 2px; text-decoration: none;\">-</span> <span style=\"background-color: rgba(255, 255, 255, 0); padding: 2px 4px; margin: 2px; text-decoration: none;\">in</span> <span style=\"background-color: rgba(255, 255, 255, 0); padding: 2px 4px; margin: 2px; text-decoration: none;\">sp</span> <span style=\"background-color: rgba(255, 255, 255, 0); padding: 2px 4px; margin: 2px; text-decoration: none;\">iring</span> <span style=\"background-color: rgba(255, 255, 255, 0); padding: 2px 4px; margin: 2px; text-decoration: none;\">size</span> <span style=\"background-color: rgba(255, 255, 255, 0); padding: 2px 4px; margin: 2px; text-decoration: none;\">and</span> <span style=\"background-color: rgba(255, 255, 255, 0); padding: 2px 4px; margin: 2px; text-decoration: none;\">the</span> <span style=\"background-color: rgba(255, 255, 255, 0); padding: 2px 4px; margin: 2px; text-decoration: none;\">powerful</span> <span style=\"background-color: rgba(255, 255, 255, 0); padding: 2px 4px; margin: 2px; text-decoration: none;\">flow</span> <span style=\"background-color: rgba(255, 255, 255, 0); padding: 2px 4px; margin: 2px; text-decoration: none;\">of</span> <span style=\"background-color: rgba(255, 255, 255, 0); padding: 2px 4px; margin: 2px; text-decoration: none;\">water</span> <span style=\"background-color: rgba(255, 255, 255, 0); padding: 2px 4px; margin: 2px; text-decoration: none;\">that</span> <span style=\"background-color: rgba(255, 255, 255, 0); padding: 2px 4px; margin: 2px; text-decoration: none;\">cr</span> <span style=\"background-color: rgba(255, 255, 255, 0); padding: 2px 4px; margin: 2px; text-decoration: none;\">ashes</span> <span style=\"background-color: rgba(255, 255, 255, 0); padding: 2px 4px; margin: 2px; text-decoration: none;\">down</span> <span style=\"background-color: rgba(255, 255, 255, 0); padding: 2px 4px; margin: 2px; text-decoration: none;\">from</span> <span style=\"background-color: rgba(255, 255, 255, 0); padding: 2px 4px; margin: 2px; text-decoration: none;\">great</span> <span style=\"background-color: rgba(255, 255, 255, 0); padding: 2px 4px; margin: 2px; text-decoration: none;\">he</span> <span style=\"background-color: rgba(255, 255, 255, 0); padding: 2px 4px; margin: 2px; text-decoration: none;\">ights</span> <span style=\"background-color: rgba(255, 255, 255, 0); padding: 2px 4px; margin: 2px; text-decoration: none;\">.</span> </p>"
      ],
      "text/plain": [
       "<IPython.core.display.HTML object>"
      ]
     },
     "metadata": {},
     "output_type": "display_data"
    },
    {
     "data": {
      "text/html": [
       "<p style='font-family: monospace; text-decoration: none;'><span style=\"background-color: rgba(126, 5, 16, 0.7); padding: 2px 4px; margin: 2px; text-decoration: none;\">Tour</span> <span style=\"background-color: rgba(242, 72, 52, 0.7); padding: 2px 4px; margin: 2px; text-decoration: none;\">ists</span> <span style=\"background-color: rgba(112, 2, 14, 0.7); padding: 2px 4px; margin: 2px; text-decoration: none;\">from</span> <span style=\"background-color: rgba(255, 255, 255, 0); padding: 2px 4px; margin: 2px; text-decoration: none;\">all</span> <span style=\"background-color: rgba(255, 255, 255, 0); padding: 2px 4px; margin: 2px; text-decoration: none;\">over</span> <span style=\"background-color: rgba(255, 255, 255, 0); padding: 2px 4px; margin: 2px; text-decoration: none;\">the</span> <span style=\"background-color: rgba(255, 255, 255, 0); padding: 2px 4px; margin: 2px; text-decoration: none;\">globe</span> <span style=\"background-color: rgba(255, 255, 255, 0); padding: 2px 4px; margin: 2px; text-decoration: none;\">come</span> <span style=\"background-color: rgba(255, 255, 255, 0); padding: 2px 4px; margin: 2px; text-decoration: none;\">to</span> <span style=\"background-color: rgba(255, 255, 255, 0); padding: 2px 4px; margin: 2px; text-decoration: none;\">Ni</span> <span style=\"background-color: rgba(244, 78, 56, 0.7); padding: 2px 4px; margin: 2px; text-decoration: none;\">ag</span> <span style=\"background-color: rgba(250, 105, 73, 0.7); padding: 2px 4px; margin: 2px; text-decoration: none;\">ara</span> <span style=\"background-color: rgba(248, 94, 66, 0.7); padding: 2px 4px; margin: 2px; text-decoration: none;\">Falls</span> <span style=\"background-color: rgba(255, 255, 255, 0); padding: 2px 4px; margin: 2px; text-decoration: none;\">not</span> <span style=\"background-color: rgba(255, 255, 255, 0); padding: 2px 4px; margin: 2px; text-decoration: none;\">only</span> <span style=\"background-color: rgba(255, 255, 255, 0); padding: 2px 4px; margin: 2px; text-decoration: none;\">to</span> <span style=\"background-color: rgba(255, 255, 255, 0); padding: 2px 4px; margin: 2px; text-decoration: none;\">witness</span> <span style=\"background-color: rgba(255, 255, 255, 0); padding: 2px 4px; margin: 2px; text-decoration: none;\">its</span> <span style=\"background-color: rgba(255, 255, 255, 0); padding: 2px 4px; margin: 2px; text-decoration: none;\">breat</span> <span style=\"background-color: rgba(255, 255, 255, 0); padding: 2px 4px; margin: 2px; text-decoration: none;\">ht</span> <span style=\"background-color: rgba(255, 255, 255, 0); padding: 2px 4px; margin: 2px; text-decoration: none;\">aking</span> <span style=\"background-color: rgba(255, 255, 255, 0); padding: 2px 4px; margin: 2px; text-decoration: none;\">beauty</span> <span style=\"background-color: rgba(255, 255, 255, 0); padding: 2px 4px; margin: 2px; text-decoration: none;\">but</span> <span style=\"background-color: rgba(255, 255, 255, 0); padding: 2px 4px; margin: 2px; text-decoration: none;\">also</span> <span style=\"background-color: rgba(255, 255, 255, 0); padding: 2px 4px; margin: 2px; text-decoration: none;\">to</span> <span style=\"background-color: rgba(255, 255, 255, 0); padding: 2px 4px; margin: 2px; text-decoration: none;\">enjoy</span> <span style=\"background-color: rgba(255, 255, 255, 0); padding: 2px 4px; margin: 2px; text-decoration: none;\">a</span> <span style=\"background-color: rgba(255, 255, 255, 0); padding: 2px 4px; margin: 2px; text-decoration: none;\">variety</span> <span style=\"background-color: rgba(255, 255, 255, 0); padding: 2px 4px; margin: 2px; text-decoration: none;\">of</span> <span style=\"background-color: rgba(255, 255, 255, 0); padding: 2px 4px; margin: 2px; text-decoration: none;\">activities</span> <span style=\"background-color: rgba(255, 255, 255, 0); padding: 2px 4px; margin: 2px; text-decoration: none;\">such</span> <span style=\"background-color: rgba(255, 255, 255, 0); padding: 2px 4px; margin: 2px; text-decoration: none;\">as</span> <span style=\"background-color: rgba(255, 255, 255, 0); padding: 2px 4px; margin: 2px; text-decoration: none;\">boat</span> <span style=\"background-color: rgba(255, 255, 255, 0); padding: 2px 4px; margin: 2px; text-decoration: none;\">tours</span> <span style=\"background-color: rgba(255, 255, 255, 0); padding: 2px 4px; margin: 2px; text-decoration: none;\">,</span> <span style=\"background-color: rgba(249, 100, 70, 0.7); padding: 2px 4px; margin: 2px; text-decoration: none;\">h</span> <span style=\"background-color: rgba(255, 255, 255, 0); padding: 2px 4px; margin: 2px; text-decoration: none;\">iking</span> <span style=\"background-color: rgba(255, 255, 255, 0); padding: 2px 4px; margin: 2px; text-decoration: none;\">,</span> <span style=\"background-color: rgba(255, 255, 255, 0); padding: 2px 4px; margin: 2px; text-decoration: none;\">and</span> <span style=\"background-color: rgba(255, 255, 255, 0); padding: 2px 4px; margin: 2px; text-decoration: none;\">visiting</span> <span style=\"background-color: rgba(255, 255, 255, 0); padding: 2px 4px; margin: 2px; text-decoration: none;\">observation</span> <span style=\"background-color: rgba(255, 255, 255, 0); padding: 2px 4px; margin: 2px; text-decoration: none;\">tow</span> <span style=\"background-color: rgba(255, 255, 255, 0); padding: 2px 4px; margin: 2px; text-decoration: none;\">ers</span> <span style=\"background-color: rgba(255, 255, 255, 0); padding: 2px 4px; margin: 2px; text-decoration: none;\">for</span> <span style=\"background-color: rgba(255, 255, 255, 0); padding: 2px 4px; margin: 2px; text-decoration: none;\">pan</span> <span style=\"background-color: rgba(255, 255, 255, 0); padding: 2px 4px; margin: 2px; text-decoration: none;\">or</span> <span style=\"background-color: rgba(255, 255, 255, 0); padding: 2px 4px; margin: 2px; text-decoration: none;\">amic</span> <span style=\"background-color: rgba(255, 255, 255, 0); padding: 2px 4px; margin: 2px; text-decoration: none;\">views</span> <span style=\"background-color: rgba(255, 255, 255, 0); padding: 2px 4px; margin: 2px; text-decoration: none;\">.</span> </p>"
      ],
      "text/plain": [
       "<IPython.core.display.HTML object>"
      ]
     },
     "metadata": {},
     "output_type": "display_data"
    },
    {
     "data": {
      "text/html": [
       "<p style='font-family: monospace; text-decoration: none;'><span style=\"background-color: rgba(132, 7, 16, 0.7); padding: 2px 4px; margin: 2px; text-decoration: none;\">The</span> <span style=\"background-color: rgba(238, 58, 43, 0.7); padding: 2px 4px; margin: 2px; text-decoration: none;\">history</span> <span style=\"background-color: rgba(110, 1, 14, 0.7); padding: 2px 4px; margin: 2px; text-decoration: none;\">of</span> <span style=\"background-color: rgba(255, 255, 255, 0); padding: 2px 4px; margin: 2px; text-decoration: none;\">Ni</span> <span style=\"background-color: rgba(255, 255, 255, 0); padding: 2px 4px; margin: 2px; text-decoration: none;\">ag</span> <span style=\"background-color: rgba(255, 255, 255, 0); padding: 2px 4px; margin: 2px; text-decoration: none;\">ara</span> <span style=\"background-color: rgba(255, 255, 255, 0); padding: 2px 4px; margin: 2px; text-decoration: none;\">Falls</span> <span style=\"background-color: rgba(255, 255, 255, 0); padding: 2px 4px; margin: 2px; text-decoration: none;\">goes</span> <span style=\"background-color: rgba(255, 255, 255, 0); padding: 2px 4px; margin: 2px; text-decoration: none;\">back</span> <span style=\"background-color: rgba(255, 255, 255, 0); padding: 2px 4px; margin: 2px; text-decoration: none;\">centuries</span> <span style=\"background-color: rgba(255, 255, 255, 0); padding: 2px 4px; margin: 2px; text-decoration: none;\">,</span> <span style=\"background-color: rgba(255, 255, 255, 0); padding: 2px 4px; margin: 2px; text-decoration: none;\">with</span> <span style=\"background-color: rgba(255, 255, 255, 0); padding: 2px 4px; margin: 2px; text-decoration: none;\">the</span> <span style=\"background-color: rgba(255, 255, 255, 0); padding: 2px 4px; margin: 2px; text-decoration: none;\">falls</span> <span style=\"background-color: rgba(255, 255, 255, 0); padding: 2px 4px; margin: 2px; text-decoration: none;\">being</span> <span style=\"background-color: rgba(255, 255, 255, 0); padding: 2px 4px; margin: 2px; text-decoration: none;\">an</span> <span style=\"background-color: rgba(255, 255, 255, 0); padding: 2px 4px; margin: 2px; text-decoration: none;\">important</span> <span style=\"background-color: rgba(255, 255, 255, 0); padding: 2px 4px; margin: 2px; text-decoration: none;\">site</span> <span style=\"background-color: rgba(255, 255, 255, 0); padding: 2px 4px; margin: 2px; text-decoration: none;\">for</span> <span style=\"background-color: rgba(255, 255, 255, 0); padding: 2px 4px; margin: 2px; text-decoration: none;\">Ind</span> <span style=\"background-color: rgba(255, 255, 255, 0); padding: 2px 4px; margin: 2px; text-decoration: none;\">igenous</span> <span style=\"background-color: rgba(255, 255, 255, 0); padding: 2px 4px; margin: 2px; text-decoration: none;\">peoples</span> <span style=\"background-color: rgba(255, 255, 255, 0); padding: 2px 4px; margin: 2px; text-decoration: none;\">long</span> <span style=\"background-color: rgba(255, 255, 255, 0); padding: 2px 4px; margin: 2px; text-decoration: none;\">before</span> <span style=\"background-color: rgba(255, 255, 255, 0); padding: 2px 4px; margin: 2px; text-decoration: none;\">European</span> <span style=\"background-color: rgba(255, 255, 255, 0); padding: 2px 4px; margin: 2px; text-decoration: none;\">sett</span> <span style=\"background-color: rgba(255, 255, 255, 0); padding: 2px 4px; margin: 2px; text-decoration: none;\">lers</span> <span style=\"background-color: rgba(255, 255, 255, 0); padding: 2px 4px; margin: 2px; text-decoration: none;\">arrived</span> <span style=\"background-color: rgba(255, 255, 255, 0); padding: 2px 4px; margin: 2px; text-decoration: none;\">in</span> <span style=\"background-color: rgba(255, 255, 255, 0); padding: 2px 4px; margin: 2px; text-decoration: none;\">the</span> <span style=\"background-color: rgba(255, 255, 255, 0); padding: 2px 4px; margin: 2px; text-decoration: none;\">area</span> <span style=\"background-color: rgba(255, 255, 255, 0); padding: 2px 4px; margin: 2px; text-decoration: none;\">.</span> </p>"
      ],
      "text/plain": [
       "<IPython.core.display.HTML object>"
      ]
     },
     "metadata": {},
     "output_type": "display_data"
    },
    {
     "data": {
      "text/html": [
       "<p style='font-family: monospace; text-decoration: none;'><span style=\"background-color: rgba(132, 7, 16, 0.7); padding: 2px 4px; margin: 2px; text-decoration: none;\">In</span> <span style=\"background-color: rgba(255, 255, 255, 0); padding: 2px 4px; margin: 2px; text-decoration: none;\">the</span> <span style=\"background-color: rgba(110, 1, 14, 0.7); padding: 2px 4px; margin: 2px; text-decoration: none;\"></span> <span style=\"background-color: rgba(250, 103, 72, 0.7); padding: 2px 4px; margin: 2px; text-decoration: none;\">1</span> <span style=\"background-color: rgba(248, 94, 66, 0.7); padding: 2px 4px; margin: 2px; text-decoration: none;\">9</span> <span style=\"background-color: rgba(232, 52, 41, 0.7); padding: 2px 4px; margin: 2px; text-decoration: none;\">th</span> <span style=\"background-color: rgba(229, 49, 39, 0.7); padding: 2px 4px; margin: 2px; text-decoration: none;\">century</span> <span style=\"background-color: rgba(243, 75, 54, 0.7); padding: 2px 4px; margin: 2px; text-decoration: none;\">,</span> <span style=\"background-color: rgba(245, 83, 59, 0.7); padding: 2px 4px; margin: 2px; text-decoration: none;\">the</span> <span style=\"background-color: rgba(255, 255, 255, 0); padding: 2px 4px; margin: 2px; text-decoration: none;\">first</span> <span style=\"background-color: rgba(250, 103, 72, 0.7); padding: 2px 4px; margin: 2px; text-decoration: none;\">h</span> <span style=\"background-color: rgba(255, 255, 255, 0); padding: 2px 4px; margin: 2px; text-decoration: none;\">arness</span> <span style=\"background-color: rgba(255, 255, 255, 0); padding: 2px 4px; margin: 2px; text-decoration: none;\">ing</span> <span style=\"background-color: rgba(255, 255, 255, 0); padding: 2px 4px; margin: 2px; text-decoration: none;\">of</span> <span style=\"background-color: rgba(255, 255, 255, 0); padding: 2px 4px; margin: 2px; text-decoration: none;\">the</span> <span style=\"background-color: rgba(245, 86, 61, 0.7); padding: 2px 4px; margin: 2px; text-decoration: none;\">falls</span> <span style=\"background-color: rgba(255, 255, 255, 0); padding: 2px 4px; margin: 2px; text-decoration: none;\">'</span> <span style=\"background-color: rgba(255, 255, 255, 0); padding: 2px 4px; margin: 2px; text-decoration: none;\">power</span> <span style=\"background-color: rgba(255, 255, 255, 0); padding: 2px 4px; margin: 2px; text-decoration: none;\">for</span> <span style=\"background-color: rgba(255, 255, 255, 0); padding: 2px 4px; margin: 2px; text-decoration: none;\">hydro</span> <span style=\"background-color: rgba(255, 255, 255, 0); padding: 2px 4px; margin: 2px; text-decoration: none;\">elect</span> <span style=\"background-color: rgba(255, 255, 255, 0); padding: 2px 4px; margin: 2px; text-decoration: none;\">ric</span> <span style=\"background-color: rgba(255, 255, 255, 0); padding: 2px 4px; margin: 2px; text-decoration: none;\">energy</span> <span style=\"background-color: rgba(255, 255, 255, 0); padding: 2px 4px; margin: 2px; text-decoration: none;\">was</span> <span style=\"background-color: rgba(255, 255, 255, 0); padding: 2px 4px; margin: 2px; text-decoration: none;\">undert</span> <span style=\"background-color: rgba(255, 255, 255, 0); padding: 2px 4px; margin: 2px; text-decoration: none;\">aken</span> <span style=\"background-color: rgba(255, 255, 255, 0); padding: 2px 4px; margin: 2px; text-decoration: none;\">,</span> <span style=\"background-color: rgba(255, 255, 255, 0); padding: 2px 4px; margin: 2px; text-decoration: none;\">which</span> <span style=\"background-color: rgba(255, 255, 255, 0); padding: 2px 4px; margin: 2px; text-decoration: none;\">played</span> <span style=\"background-color: rgba(255, 255, 255, 0); padding: 2px 4px; margin: 2px; text-decoration: none;\">a</span> <span style=\"background-color: rgba(255, 255, 255, 0); padding: 2px 4px; margin: 2px; text-decoration: none;\">significant</span> <span style=\"background-color: rgba(255, 255, 255, 0); padding: 2px 4px; margin: 2px; text-decoration: none;\">role</span> <span style=\"background-color: rgba(255, 255, 255, 0); padding: 2px 4px; margin: 2px; text-decoration: none;\">in</span> <span style=\"background-color: rgba(255, 255, 255, 0); padding: 2px 4px; margin: 2px; text-decoration: none;\">the</span> <span style=\"background-color: rgba(255, 255, 255, 0); padding: 2px 4px; margin: 2px; text-decoration: none;\">industrial</span> <span style=\"background-color: rgba(255, 255, 255, 0); padding: 2px 4px; margin: 2px; text-decoration: none;\">development</span> <span style=\"background-color: rgba(255, 255, 255, 0); padding: 2px 4px; margin: 2px; text-decoration: none;\">of</span> <span style=\"background-color: rgba(255, 255, 255, 0); padding: 2px 4px; margin: 2px; text-decoration: none;\">the</span> <span style=\"background-color: rgba(246, 89, 63, 0.7); padding: 2px 4px; margin: 2px; text-decoration: none;\">region</span> <span style=\"background-color: rgba(249, 99, 69, 0.7); padding: 2px 4px; margin: 2px; text-decoration: none;\">.</span> </p>"
      ],
      "text/plain": [
       "<IPython.core.display.HTML object>"
      ]
     },
     "metadata": {},
     "output_type": "display_data"
    },
    {
     "data": {
      "text/html": [
       "<p style='font-family: monospace; text-decoration: none;'><span style=\"background-color: rgba(132, 7, 16, 0.7); padding: 2px 4px; margin: 2px; text-decoration: none;\">Ni</span> <span style=\"background-color: rgba(255, 255, 255, 0); padding: 2px 4px; margin: 2px; text-decoration: none;\">ag</span> <span style=\"background-color: rgba(245, 84, 60, 0.7); padding: 2px 4px; margin: 2px; text-decoration: none;\">ara</span> <span style=\"background-color: rgba(255, 255, 255, 0); padding: 2px 4px; margin: 2px; text-decoration: none;\">Falls</span> <span style=\"background-color: rgba(240, 65, 48, 0.7); padding: 2px 4px; margin: 2px; text-decoration: none;\">is</span> <span style=\"background-color: rgba(244, 81, 58, 0.7); padding: 2px 4px; margin: 2px; text-decoration: none;\">not</span> <span style=\"background-color: rgba(255, 255, 255, 0); padding: 2px 4px; margin: 2px; text-decoration: none;\">only</span> <span style=\"background-color: rgba(255, 255, 255, 0); padding: 2px 4px; margin: 2px; text-decoration: none;\">a</span> <span style=\"background-color: rgba(255, 255, 255, 0); padding: 2px 4px; margin: 2px; text-decoration: none;\">natural</span> <span style=\"background-color: rgba(255, 255, 255, 0); padding: 2px 4px; margin: 2px; text-decoration: none;\">wonder</span> <span style=\"background-color: rgba(248, 94, 66, 0.7); padding: 2px 4px; margin: 2px; text-decoration: none;\">but</span> <span style=\"background-color: rgba(255, 255, 255, 0); padding: 2px 4px; margin: 2px; text-decoration: none;\">also</span> <span style=\"background-color: rgba(255, 255, 255, 0); padding: 2px 4px; margin: 2px; text-decoration: none;\">a</span> <span style=\"background-color: rgba(255, 255, 255, 0); padding: 2px 4px; margin: 2px; text-decoration: none;\">symbol</span> <span style=\"background-color: rgba(110, 1, 14, 0.7); padding: 2px 4px; margin: 2px; text-decoration: none;\">of</span> <span style=\"background-color: rgba(255, 255, 255, 0); padding: 2px 4px; margin: 2px; text-decoration: none;\">both</span> <span style=\"background-color: rgba(255, 255, 255, 0); padding: 2px 4px; margin: 2px; text-decoration: none;\">the</span> <span style=\"background-color: rgba(255, 255, 255, 0); padding: 2px 4px; margin: 2px; text-decoration: none;\">raw</span> <span style=\"background-color: rgba(255, 255, 255, 0); padding: 2px 4px; margin: 2px; text-decoration: none;\">power</span> <span style=\"background-color: rgba(255, 255, 255, 0); padding: 2px 4px; margin: 2px; text-decoration: none;\">of</span> <span style=\"background-color: rgba(255, 255, 255, 0); padding: 2px 4px; margin: 2px; text-decoration: none;\">nature</span> <span style=\"background-color: rgba(255, 255, 255, 0); padding: 2px 4px; margin: 2px; text-decoration: none;\">and</span> <span style=\"background-color: rgba(255, 255, 255, 0); padding: 2px 4px; margin: 2px; text-decoration: none;\">the</span> <span style=\"background-color: rgba(255, 255, 255, 0); padding: 2px 4px; margin: 2px; text-decoration: none;\">human</span> <span style=\"background-color: rgba(255, 255, 255, 0); padding: 2px 4px; margin: 2px; text-decoration: none;\">ing</span> <span style=\"background-color: rgba(255, 255, 255, 0); padding: 2px 4px; margin: 2px; text-decoration: none;\">enu</span> <span style=\"background-color: rgba(255, 255, 255, 0); padding: 2px 4px; margin: 2px; text-decoration: none;\">ity</span> <span style=\"background-color: rgba(255, 255, 255, 0); padding: 2px 4px; margin: 2px; text-decoration: none;\">used</span> <span style=\"background-color: rgba(255, 255, 255, 0); padding: 2px 4px; margin: 2px; text-decoration: none;\">to</span> <span style=\"background-color: rgba(255, 255, 255, 0); padding: 2px 4px; margin: 2px; text-decoration: none;\">h</span> <span style=\"background-color: rgba(255, 255, 255, 0); padding: 2px 4px; margin: 2px; text-decoration: none;\">arness</span> <span style=\"background-color: rgba(255, 255, 255, 0); padding: 2px 4px; margin: 2px; text-decoration: none;\">its</span> <span style=\"background-color: rgba(255, 255, 255, 0); padding: 2px 4px; margin: 2px; text-decoration: none;\">energy</span> <span style=\"background-color: rgba(255, 255, 255, 0); padding: 2px 4px; margin: 2px; text-decoration: none;\">for</span> <span style=\"background-color: rgba(255, 255, 255, 0); padding: 2px 4px; margin: 2px; text-decoration: none;\">practical</span> <span style=\"background-color: rgba(255, 255, 255, 0); padding: 2px 4px; margin: 2px; text-decoration: none;\">purposes</span> <span style=\"background-color: rgba(255, 255, 255, 0); padding: 2px 4px; margin: 2px; text-decoration: none;\">.</span> </p>"
      ],
      "text/plain": [
       "<IPython.core.display.HTML object>"
      ]
     },
     "metadata": {},
     "output_type": "display_data"
    },
    {
     "data": {
      "text/html": [
       "<p style='font-family: monospace; text-decoration: none;'><span style=\"background-color: rgba(136, 8, 17, 0.7); padding: 2px 4px; margin: 2px; text-decoration: none;\">Every</span> <span style=\"background-color: rgba(242, 72, 52, 0.7); padding: 2px 4px; margin: 2px; text-decoration: none;\">year</span> <span style=\"background-color: rgba(112, 2, 14, 0.7); padding: 2px 4px; margin: 2px; text-decoration: none;\">,</span> <span style=\"background-color: rgba(255, 255, 255, 0); padding: 2px 4px; margin: 2px; text-decoration: none;\">millions</span> <span style=\"background-color: rgba(255, 255, 255, 0); padding: 2px 4px; margin: 2px; text-decoration: none;\">of</span> <span style=\"background-color: rgba(255, 255, 255, 0); padding: 2px 4px; margin: 2px; text-decoration: none;\">gall</span> <span style=\"background-color: rgba(255, 255, 255, 0); padding: 2px 4px; margin: 2px; text-decoration: none;\">ons</span> <span style=\"background-color: rgba(255, 255, 255, 0); padding: 2px 4px; margin: 2px; text-decoration: none;\">of</span> <span style=\"background-color: rgba(255, 255, 255, 0); padding: 2px 4px; margin: 2px; text-decoration: none;\">water</span> <span style=\"background-color: rgba(255, 255, 255, 0); padding: 2px 4px; margin: 2px; text-decoration: none;\">tum</span> <span style=\"background-color: rgba(255, 255, 255, 0); padding: 2px 4px; margin: 2px; text-decoration: none;\">ble</span> <span style=\"background-color: rgba(255, 255, 255, 0); padding: 2px 4px; margin: 2px; text-decoration: none;\">over</span> <span style=\"background-color: rgba(255, 255, 255, 0); padding: 2px 4px; margin: 2px; text-decoration: none;\">the</span> <span style=\"background-color: rgba(255, 255, 255, 0); padding: 2px 4px; margin: 2px; text-decoration: none;\">edge</span> <span style=\"background-color: rgba(255, 255, 255, 0); padding: 2px 4px; margin: 2px; text-decoration: none;\">of</span> <span style=\"background-color: rgba(255, 255, 255, 0); padding: 2px 4px; margin: 2px; text-decoration: none;\">the</span> <span style=\"background-color: rgba(242, 74, 53, 0.7); padding: 2px 4px; margin: 2px; text-decoration: none;\">falls</span> <span style=\"background-color: rgba(255, 255, 255, 0); padding: 2px 4px; margin: 2px; text-decoration: none;\">,</span> <span style=\"background-color: rgba(255, 255, 255, 0); padding: 2px 4px; margin: 2px; text-decoration: none;\">creating</span> <span style=\"background-color: rgba(255, 255, 255, 0); padding: 2px 4px; margin: 2px; text-decoration: none;\">mist</span> <span style=\"background-color: rgba(255, 255, 255, 0); padding: 2px 4px; margin: 2px; text-decoration: none;\">that</span> <span style=\"background-color: rgba(255, 255, 255, 0); padding: 2px 4px; margin: 2px; text-decoration: none;\">can</span> <span style=\"background-color: rgba(255, 255, 255, 0); padding: 2px 4px; margin: 2px; text-decoration: none;\">be</span> <span style=\"background-color: rgba(255, 255, 255, 0); padding: 2px 4px; margin: 2px; text-decoration: none;\">seen</span> <span style=\"background-color: rgba(255, 255, 255, 0); padding: 2px 4px; margin: 2px; text-decoration: none;\">from</span> <span style=\"background-color: rgba(255, 255, 255, 0); padding: 2px 4px; margin: 2px; text-decoration: none;\">miles</span> <span style=\"background-color: rgba(255, 255, 255, 0); padding: 2px 4px; margin: 2px; text-decoration: none;\">away</span> <span style=\"background-color: rgba(255, 255, 255, 0); padding: 2px 4px; margin: 2px; text-decoration: none;\">and</span> <span style=\"background-color: rgba(255, 255, 255, 0); padding: 2px 4px; margin: 2px; text-decoration: none;\">forming</span> <span style=\"background-color: rgba(255, 255, 255, 0); padding: 2px 4px; margin: 2px; text-decoration: none;\">rain</span> <span style=\"background-color: rgba(255, 255, 255, 0); padding: 2px 4px; margin: 2px; text-decoration: none;\">b</span> <span style=\"background-color: rgba(255, 255, 255, 0); padding: 2px 4px; margin: 2px; text-decoration: none;\">ows</span> <span style=\"background-color: rgba(255, 255, 255, 0); padding: 2px 4px; margin: 2px; text-decoration: none;\">on</span> <span style=\"background-color: rgba(255, 255, 255, 0); padding: 2px 4px; margin: 2px; text-decoration: none;\">sun</span> <span style=\"background-color: rgba(255, 255, 255, 0); padding: 2px 4px; margin: 2px; text-decoration: none;\">ny</span> <span style=\"background-color: rgba(255, 255, 255, 0); padding: 2px 4px; margin: 2px; text-decoration: none;\">days</span> <span style=\"background-color: rgba(255, 255, 255, 0); padding: 2px 4px; margin: 2px; text-decoration: none;\">.</span> </p>"
      ],
      "text/plain": [
       "<IPython.core.display.HTML object>"
      ]
     },
     "metadata": {},
     "output_type": "display_data"
    },
    {
     "data": {
      "text/html": [
       "<p style='font-family: monospace; text-decoration: none;'><span style=\"background-color: rgba(132, 7, 16, 0.7); padding: 2px 4px; margin: 2px; text-decoration: none;\">The</span> <span style=\"background-color: rgba(248, 97, 68, 0.7); padding: 2px 4px; margin: 2px; text-decoration: none;\">surrounding</span> <span style=\"background-color: rgba(255, 255, 255, 0); padding: 2px 4px; margin: 2px; text-decoration: none;\">park</span> <span style=\"background-color: rgba(255, 255, 255, 0); padding: 2px 4px; margin: 2px; text-decoration: none;\">land</span> <span style=\"background-color: rgba(255, 255, 255, 0); padding: 2px 4px; margin: 2px; text-decoration: none;\">offers</span> <span style=\"background-color: rgba(255, 255, 255, 0); padding: 2px 4px; margin: 2px; text-decoration: none;\">visitors</span> <span style=\"background-color: rgba(255, 255, 255, 0); padding: 2px 4px; margin: 2px; text-decoration: none;\">the</span> <span style=\"background-color: rgba(250, 103, 72, 0.7); padding: 2px 4px; margin: 2px; text-decoration: none;\">opportunity</span> <span style=\"background-color: rgba(110, 1, 14, 0.7); padding: 2px 4px; margin: 2px; text-decoration: none;\">to</span> <span style=\"background-color: rgba(255, 255, 255, 0); padding: 2px 4px; margin: 2px; text-decoration: none;\">explore</span> <span style=\"background-color: rgba(255, 255, 255, 0); padding: 2px 4px; margin: 2px; text-decoration: none;\">l</span> <span style=\"background-color: rgba(255, 255, 255, 0); padding: 2px 4px; margin: 2px; text-decoration: none;\">ush</span> <span style=\"background-color: rgba(255, 255, 255, 0); padding: 2px 4px; margin: 2px; text-decoration: none;\">gre</span> <span style=\"background-color: rgba(255, 255, 255, 0); padding: 2px 4px; margin: 2px; text-decoration: none;\">ener</span> <span style=\"background-color: rgba(255, 255, 255, 0); padding: 2px 4px; margin: 2px; text-decoration: none;\">y</span> <span style=\"background-color: rgba(255, 255, 255, 0); padding: 2px 4px; margin: 2px; text-decoration: none;\">,</span> <span style=\"background-color: rgba(255, 255, 255, 0); padding: 2px 4px; margin: 2px; text-decoration: none;\">take</span> <span style=\"background-color: rgba(255, 255, 255, 0); padding: 2px 4px; margin: 2px; text-decoration: none;\">boat</span> <span style=\"background-color: rgba(255, 255, 255, 0); padding: 2px 4px; margin: 2px; text-decoration: none;\">r</span> <span style=\"background-color: rgba(255, 255, 255, 0); padding: 2px 4px; margin: 2px; text-decoration: none;\">ides</span> <span style=\"background-color: rgba(255, 255, 255, 0); padding: 2px 4px; margin: 2px; text-decoration: none;\">to</span> <span style=\"background-color: rgba(255, 255, 255, 0); padding: 2px 4px; margin: 2px; text-decoration: none;\">get</span> <span style=\"background-color: rgba(255, 255, 255, 0); padding: 2px 4px; margin: 2px; text-decoration: none;\">up</span> <span style=\"background-color: rgba(255, 255, 255, 0); padding: 2px 4px; margin: 2px; text-decoration: none;\">close</span> <span style=\"background-color: rgba(255, 255, 255, 0); padding: 2px 4px; margin: 2px; text-decoration: none;\">to</span> <span style=\"background-color: rgba(255, 255, 255, 0); padding: 2px 4px; margin: 2px; text-decoration: none;\">the</span> <span style=\"background-color: rgba(239, 61, 45, 0.7); padding: 2px 4px; margin: 2px; text-decoration: none;\">falls</span> <span style=\"background-color: rgba(255, 255, 255, 0); padding: 2px 4px; margin: 2px; text-decoration: none;\">,</span> <span style=\"background-color: rgba(255, 255, 255, 0); padding: 2px 4px; margin: 2px; text-decoration: none;\">and</span> <span style=\"background-color: rgba(255, 255, 255, 0); padding: 2px 4px; margin: 2px; text-decoration: none;\">even</span> <span style=\"background-color: rgba(255, 255, 255, 0); padding: 2px 4px; margin: 2px; text-decoration: none;\">stand</span> <span style=\"background-color: rgba(255, 255, 255, 0); padding: 2px 4px; margin: 2px; text-decoration: none;\">behind</span> <span style=\"background-color: rgba(255, 255, 255, 0); padding: 2px 4px; margin: 2px; text-decoration: none;\">the</span> <span style=\"background-color: rgba(255, 255, 255, 0); padding: 2px 4px; margin: 2px; text-decoration: none;\">water</span> <span style=\"background-color: rgba(255, 255, 255, 0); padding: 2px 4px; margin: 2px; text-decoration: none;\">fall</span> <span style=\"background-color: rgba(255, 255, 255, 0); padding: 2px 4px; margin: 2px; text-decoration: none;\">for</span> <span style=\"background-color: rgba(255, 255, 255, 0); padding: 2px 4px; margin: 2px; text-decoration: none;\">a</span> <span style=\"background-color: rgba(255, 255, 255, 0); padding: 2px 4px; margin: 2px; text-decoration: none;\">unique</span> <span style=\"background-color: rgba(255, 255, 255, 0); padding: 2px 4px; margin: 2px; text-decoration: none;\">and</span> <span style=\"background-color: rgba(255, 255, 255, 0); padding: 2px 4px; margin: 2px; text-decoration: none;\">exh</span> <span style=\"background-color: rgba(255, 255, 255, 0); padding: 2px 4px; margin: 2px; text-decoration: none;\">ilar</span> <span style=\"background-color: rgba(255, 255, 255, 0); padding: 2px 4px; margin: 2px; text-decoration: none;\">ating</span> <span style=\"background-color: rgba(255, 255, 255, 0); padding: 2px 4px; margin: 2px; text-decoration: none;\">view</span> <span style=\"background-color: rgba(255, 255, 255, 0); padding: 2px 4px; margin: 2px; text-decoration: none;\">.</span> </p>"
      ],
      "text/plain": [
       "<IPython.core.display.HTML object>"
      ]
     },
     "metadata": {},
     "output_type": "display_data"
    },
    {
     "data": {
      "text/html": [
       "<p style='font-family: monospace; text-decoration: none;'><span style=\"background-color: rgba(132, 7, 16, 0.7); padding: 2px 4px; margin: 2px; text-decoration: none;\">Ni</span> <span style=\"background-color: rgba(255, 255, 255, 0); padding: 2px 4px; margin: 2px; text-decoration: none;\">ag</span> <span style=\"background-color: rgba(245, 84, 60, 0.7); padding: 2px 4px; margin: 2px; text-decoration: none;\">ara</span> <span style=\"background-color: rgba(255, 255, 255, 0); padding: 2px 4px; margin: 2px; text-decoration: none;\">Falls</span> <span style=\"background-color: rgba(239, 62, 46, 0.7); padding: 2px 4px; margin: 2px; text-decoration: none;\">has</span> <span style=\"background-color: rgba(255, 255, 255, 0); padding: 2px 4px; margin: 2px; text-decoration: none;\">been</span> <span style=\"background-color: rgba(255, 255, 255, 0); padding: 2px 4px; margin: 2px; text-decoration: none;\">the</span> <span style=\"background-color: rgba(248, 94, 66, 0.7); padding: 2px 4px; margin: 2px; text-decoration: none;\">site</span> <span style=\"background-color: rgba(110, 1, 14, 0.7); padding: 2px 4px; margin: 2px; text-decoration: none;\">of</span> <span style=\"background-color: rgba(255, 255, 255, 0); padding: 2px 4px; margin: 2px; text-decoration: none;\">numerous</span> <span style=\"background-color: rgba(255, 255, 255, 0); padding: 2px 4px; margin: 2px; text-decoration: none;\">famous</span> <span style=\"background-color: rgba(255, 255, 255, 0); padding: 2px 4px; margin: 2px; text-decoration: none;\">events</span> <span style=\"background-color: rgba(255, 255, 255, 0); padding: 2px 4px; margin: 2px; text-decoration: none;\">,</span> <span style=\"background-color: rgba(255, 255, 255, 0); padding: 2px 4px; margin: 2px; text-decoration: none;\">including</span> <span style=\"background-color: rgba(255, 255, 255, 0); padding: 2px 4px; margin: 2px; text-decoration: none;\">st</span> <span style=\"background-color: rgba(255, 255, 255, 0); padding: 2px 4px; margin: 2px; text-decoration: none;\">unts</span> <span style=\"background-color: rgba(255, 255, 255, 0); padding: 2px 4px; margin: 2px; text-decoration: none;\">and</span> <span style=\"background-color: rgba(255, 255, 255, 0); padding: 2px 4px; margin: 2px; text-decoration: none;\">dare</span> <span style=\"background-color: rgba(255, 255, 255, 0); padding: 2px 4px; margin: 2px; text-decoration: none;\">dev</span> <span style=\"background-color: rgba(255, 255, 255, 0); padding: 2px 4px; margin: 2px; text-decoration: none;\">il</span> <span style=\"background-color: rgba(255, 255, 255, 0); padding: 2px 4px; margin: 2px; text-decoration: none;\">acts</span> <span style=\"background-color: rgba(255, 255, 255, 0); padding: 2px 4px; margin: 2px; text-decoration: none;\">,</span> <span style=\"background-color: rgba(255, 255, 255, 0); padding: 2px 4px; margin: 2px; text-decoration: none;\">such</span> <span style=\"background-color: rgba(255, 255, 255, 0); padding: 2px 4px; margin: 2px; text-decoration: none;\">as</span> <span style=\"background-color: rgba(255, 255, 255, 0); padding: 2px 4px; margin: 2px; text-decoration: none;\">tight</span> <span style=\"background-color: rgba(255, 255, 255, 0); padding: 2px 4px; margin: 2px; text-decoration: none;\">ro</span> <span style=\"background-color: rgba(255, 255, 255, 0); padding: 2px 4px; margin: 2px; text-decoration: none;\">pe</span> <span style=\"background-color: rgba(255, 255, 255, 0); padding: 2px 4px; margin: 2px; text-decoration: none;\">walking</span> <span style=\"background-color: rgba(255, 255, 255, 0); padding: 2px 4px; margin: 2px; text-decoration: none;\">across</span> <span style=\"background-color: rgba(255, 255, 255, 0); padding: 2px 4px; margin: 2px; text-decoration: none;\">the</span> <span style=\"background-color: rgba(243, 75, 54, 0.7); padding: 2px 4px; margin: 2px; text-decoration: none;\">falls</span> <span style=\"background-color: rgba(250, 103, 72, 0.7); padding: 2px 4px; margin: 2px; text-decoration: none;\">and</span> <span style=\"background-color: rgba(255, 255, 255, 0); padding: 2px 4px; margin: 2px; text-decoration: none;\">the</span> <span style=\"background-color: rgba(255, 255, 255, 0); padding: 2px 4px; margin: 2px; text-decoration: none;\">first</span> <span style=\"background-color: rgba(255, 255, 255, 0); padding: 2px 4px; margin: 2px; text-decoration: none;\">successful</span> <span style=\"background-color: rgba(248, 94, 66, 0.7); padding: 2px 4px; margin: 2px; text-decoration: none;\">pl</span> <span style=\"background-color: rgba(250, 102, 71, 0.7); padding: 2px 4px; margin: 2px; text-decoration: none;\">unge</span> <span style=\"background-color: rgba(255, 255, 255, 0); padding: 2px 4px; margin: 2px; text-decoration: none;\">over</span> <span style=\"background-color: rgba(255, 255, 255, 0); padding: 2px 4px; margin: 2px; text-decoration: none;\">the</span> <span style=\"background-color: rgba(255, 255, 255, 0); padding: 2px 4px; margin: 2px; text-decoration: none;\">falls</span> <span style=\"background-color: rgba(255, 255, 255, 0); padding: 2px 4px; margin: 2px; text-decoration: none;\">in</span> <span style=\"background-color: rgba(255, 255, 255, 0); padding: 2px 4px; margin: 2px; text-decoration: none;\">a</span> <span style=\"background-color: rgba(255, 255, 255, 0); padding: 2px 4px; margin: 2px; text-decoration: none;\">barrel</span> <span style=\"background-color: rgba(250, 103, 72, 0.7); padding: 2px 4px; margin: 2px; text-decoration: none;\">.</span> </p>"
      ],
      "text/plain": [
       "<IPython.core.display.HTML object>"
      ]
     },
     "metadata": {},
     "output_type": "display_data"
    },
    {
     "data": {
      "text/html": [
       "<p style='font-family: monospace; text-decoration: none;'><span style=\"background-color: rgba(132, 7, 16, 0.7); padding: 2px 4px; margin: 2px; text-decoration: none;\">In</span> <span style=\"background-color: rgba(255, 255, 255, 0); padding: 2px 4px; margin: 2px; text-decoration: none;\">the</span> <span style=\"background-color: rgba(219, 39, 35, 0.7); padding: 2px 4px; margin: 2px; text-decoration: none;\">winter</span> <span style=\"background-color: rgba(239, 59, 44, 0.7); padding: 2px 4px; margin: 2px; text-decoration: none;\">months</span> <span style=\"background-color: rgba(110, 1, 14, 0.7); padding: 2px 4px; margin: 2px; text-decoration: none;\">,</span> <span style=\"background-color: rgba(255, 255, 255, 0); padding: 2px 4px; margin: 2px; text-decoration: none;\">Ni</span> <span style=\"background-color: rgba(249, 99, 69, 0.7); padding: 2px 4px; margin: 2px; text-decoration: none;\">ag</span> <span style=\"background-color: rgba(255, 255, 255, 0); padding: 2px 4px; margin: 2px; text-decoration: none;\">ara</span> <span style=\"background-color: rgba(255, 255, 255, 0); padding: 2px 4px; margin: 2px; text-decoration: none;\">Falls</span> <span style=\"background-color: rgba(255, 255, 255, 0); padding: 2px 4px; margin: 2px; text-decoration: none;\">transform</span> <span style=\"background-color: rgba(255, 255, 255, 0); padding: 2px 4px; margin: 2px; text-decoration: none;\">s</span> <span style=\"background-color: rgba(255, 255, 255, 0); padding: 2px 4px; margin: 2px; text-decoration: none;\">into</span> <span style=\"background-color: rgba(255, 255, 255, 0); padding: 2px 4px; margin: 2px; text-decoration: none;\">a</span> <span style=\"background-color: rgba(255, 255, 255, 0); padding: 2px 4px; margin: 2px; text-decoration: none;\">magical</span> <span style=\"background-color: rgba(243, 77, 55, 0.7); padding: 2px 4px; margin: 2px; text-decoration: none;\">winter</span> <span style=\"background-color: rgba(255, 255, 255, 0); padding: 2px 4px; margin: 2px; text-decoration: none;\">wonder</span> <span style=\"background-color: rgba(255, 255, 255, 0); padding: 2px 4px; margin: 2px; text-decoration: none;\">land</span> <span style=\"background-color: rgba(255, 255, 255, 0); padding: 2px 4px; margin: 2px; text-decoration: none;\">,</span> <span style=\"background-color: rgba(255, 255, 255, 0); padding: 2px 4px; margin: 2px; text-decoration: none;\">with</span> <span style=\"background-color: rgba(255, 255, 255, 0); padding: 2px 4px; margin: 2px; text-decoration: none;\">ice</span> <span style=\"background-color: rgba(255, 255, 255, 0); padding: 2px 4px; margin: 2px; text-decoration: none;\">form</span> <span style=\"background-color: rgba(255, 255, 255, 0); padding: 2px 4px; margin: 2px; text-decoration: none;\">ations</span> <span style=\"background-color: rgba(255, 255, 255, 0); padding: 2px 4px; margin: 2px; text-decoration: none;\">and</span> <span style=\"background-color: rgba(255, 255, 255, 0); padding: 2px 4px; margin: 2px; text-decoration: none;\">frozen</span> <span style=\"background-color: rgba(255, 255, 255, 0); padding: 2px 4px; margin: 2px; text-decoration: none;\">mist</span> <span style=\"background-color: rgba(255, 255, 255, 0); padding: 2px 4px; margin: 2px; text-decoration: none;\">creating</span> <span style=\"background-color: rgba(255, 255, 255, 0); padding: 2px 4px; margin: 2px; text-decoration: none;\">a</span> <span style=\"background-color: rgba(255, 255, 255, 0); padding: 2px 4px; margin: 2px; text-decoration: none;\">sur</span> <span style=\"background-color: rgba(255, 255, 255, 0); padding: 2px 4px; margin: 2px; text-decoration: none;\">real</span> <span style=\"background-color: rgba(255, 255, 255, 0); padding: 2px 4px; margin: 2px; text-decoration: none;\">landscape</span> <span style=\"background-color: rgba(255, 255, 255, 0); padding: 2px 4px; margin: 2px; text-decoration: none;\">that</span> <span style=\"background-color: rgba(255, 255, 255, 0); padding: 2px 4px; margin: 2px; text-decoration: none;\">attract</span> <span style=\"background-color: rgba(255, 255, 255, 0); padding: 2px 4px; margin: 2px; text-decoration: none;\">s</span> <span style=\"background-color: rgba(255, 255, 255, 0); padding: 2px 4px; margin: 2px; text-decoration: none;\">photograph</span> <span style=\"background-color: rgba(255, 255, 255, 0); padding: 2px 4px; margin: 2px; text-decoration: none;\">ers</span> <span style=\"background-color: rgba(255, 255, 255, 0); padding: 2px 4px; margin: 2px; text-decoration: none;\">and</span> <span style=\"background-color: rgba(255, 255, 255, 0); padding: 2px 4px; margin: 2px; text-decoration: none;\">winter</span> <span style=\"background-color: rgba(255, 255, 255, 0); padding: 2px 4px; margin: 2px; text-decoration: none;\">tourists</span> <span style=\"background-color: rgba(255, 255, 255, 0); padding: 2px 4px; margin: 2px; text-decoration: none;\">alike</span> <span style=\"background-color: rgba(255, 255, 255, 0); padding: 2px 4px; margin: 2px; text-decoration: none;\">.</span> </p>"
      ],
      "text/plain": [
       "<IPython.core.display.HTML object>"
      ]
     },
     "metadata": {},
     "output_type": "display_data"
    },
    {
     "data": {
      "text/html": [
       "<p style='font-family: monospace; text-decoration: none;'><span style=\"background-color: rgba(132, 7, 16, 0.7); padding: 2px 4px; margin: 2px; text-decoration: none;\">The</span> <span style=\"background-color: rgba(245, 83, 59, 0.7); padding: 2px 4px; margin: 2px; text-decoration: none;\">quick</span> <span style=\"background-color: rgba(247, 93, 66, 0.7); padding: 2px 4px; margin: 2px; text-decoration: none;\">brown</span> <span style=\"background-color: rgba(248, 97, 68, 0.7); padding: 2px 4px; margin: 2px; text-decoration: none;\">f</span> <span style=\"background-color: rgba(255, 255, 255, 0); padding: 2px 4px; margin: 2px; text-decoration: none;\">ox</span> <span style=\"background-color: rgba(243, 75, 54, 0.7); padding: 2px 4px; margin: 2px; text-decoration: none;\">j</span> <span style=\"background-color: rgba(255, 255, 255, 0); padding: 2px 4px; margin: 2px; text-decoration: none;\">umps</span> <span style=\"background-color: rgba(255, 255, 255, 0); padding: 2px 4px; margin: 2px; text-decoration: none;\">over</span> <span style=\"background-color: rgba(255, 255, 255, 0); padding: 2px 4px; margin: 2px; text-decoration: none;\">the</span> <span style=\"background-color: rgba(255, 255, 255, 0); padding: 2px 4px; margin: 2px; text-decoration: none;\">lazy</span> <span style=\"background-color: rgba(255, 255, 255, 0); padding: 2px 4px; margin: 2px; text-decoration: none;\">dog</span> <span style=\"background-color: rgba(110, 1, 14, 0.7); padding: 2px 4px; margin: 2px; text-decoration: none;\">.</span> </p>"
      ],
      "text/plain": [
       "<IPython.core.display.HTML object>"
      ]
     },
     "metadata": {},
     "output_type": "display_data"
    },
    {
     "name": "stdout",
     "output_type": "stream",
     "text": [
      "\n",
      "Visualizing Feature 218917\n"
     ]
    },
    {
     "data": {
      "text/html": [
       "<p style='font-family: monospace; text-decoration: none;'><span style=\"background-color: rgba(124, 5, 15, 0.7); padding: 2px 4px; margin: 2px; text-decoration: none;\">Ni</span> <span style=\"background-color: rgba(255, 255, 255, 0); padding: 2px 4px; margin: 2px; text-decoration: none;\">ag</span> <span style=\"background-color: rgba(241, 69, 50, 0.7); padding: 2px 4px; margin: 2px; text-decoration: none;\">ara</span> <span style=\"background-color: rgba(247, 90, 64, 0.7); padding: 2px 4px; margin: 2px; text-decoration: none;\">Falls</span> <span style=\"background-color: rgba(112, 2, 14, 0.7); padding: 2px 4px; margin: 2px; text-decoration: none;\">,</span> <span style=\"background-color: rgba(248, 97, 68, 0.7); padding: 2px 4px; margin: 2px; text-decoration: none;\">located</span> <span style=\"background-color: rgba(248, 97, 68, 0.7); padding: 2px 4px; margin: 2px; text-decoration: none;\">on</span> <span style=\"background-color: rgba(255, 255, 255, 0); padding: 2px 4px; margin: 2px; text-decoration: none;\">the</span> <span style=\"background-color: rgba(255, 255, 255, 0); padding: 2px 4px; margin: 2px; text-decoration: none;\">border</span> <span style=\"background-color: rgba(255, 255, 255, 0); padding: 2px 4px; margin: 2px; text-decoration: none;\">between</span> <span style=\"background-color: rgba(255, 255, 255, 0); padding: 2px 4px; margin: 2px; text-decoration: none;\">the</span> <span style=\"background-color: rgba(245, 84, 60, 0.7); padding: 2px 4px; margin: 2px; text-decoration: none;\">United</span> <span style=\"background-color: rgba(255, 255, 255, 0); padding: 2px 4px; margin: 2px; text-decoration: none;\">States</span> <span style=\"background-color: rgba(255, 255, 255, 0); padding: 2px 4px; margin: 2px; text-decoration: none;\">and</span> <span style=\"background-color: rgba(250, 102, 71, 0.7); padding: 2px 4px; margin: 2px; text-decoration: none;\">Canada</span> <span style=\"background-color: rgba(255, 255, 255, 0); padding: 2px 4px; margin: 2px; text-decoration: none;\">,</span> <span style=\"background-color: rgba(255, 255, 255, 0); padding: 2px 4px; margin: 2px; text-decoration: none;\">is</span> <span style=\"background-color: rgba(255, 255, 255, 0); padding: 2px 4px; margin: 2px; text-decoration: none;\">one</span> <span style=\"background-color: rgba(255, 255, 255, 0); padding: 2px 4px; margin: 2px; text-decoration: none;\">of</span> <span style=\"background-color: rgba(255, 255, 255, 0); padding: 2px 4px; margin: 2px; text-decoration: none;\">the</span> <span style=\"background-color: rgba(255, 255, 255, 0); padding: 2px 4px; margin: 2px; text-decoration: none;\">most</span> <span style=\"background-color: rgba(255, 255, 255, 0); padding: 2px 4px; margin: 2px; text-decoration: none;\">famous</span> <span style=\"background-color: rgba(255, 255, 255, 0); padding: 2px 4px; margin: 2px; text-decoration: none;\">natural</span> <span style=\"background-color: rgba(255, 255, 255, 0); padding: 2px 4px; margin: 2px; text-decoration: none;\">attra</span> <span style=\"background-color: rgba(255, 255, 255, 0); padding: 2px 4px; margin: 2px; text-decoration: none;\">ctions</span> <span style=\"background-color: rgba(255, 255, 255, 0); padding: 2px 4px; margin: 2px; text-decoration: none;\">in</span> <span style=\"background-color: rgba(255, 255, 255, 0); padding: 2px 4px; margin: 2px; text-decoration: none;\">the</span> <span style=\"background-color: rgba(255, 255, 255, 0); padding: 2px 4px; margin: 2px; text-decoration: none;\">world</span> <span style=\"background-color: rgba(255, 255, 255, 0); padding: 2px 4px; margin: 2px; text-decoration: none;\">,</span> <span style=\"background-color: rgba(255, 255, 255, 0); padding: 2px 4px; margin: 2px; text-decoration: none;\">drawing</span> <span style=\"background-color: rgba(255, 255, 255, 0); padding: 2px 4px; margin: 2px; text-decoration: none;\">millions</span> <span style=\"background-color: rgba(255, 255, 255, 0); padding: 2px 4px; margin: 2px; text-decoration: none;\">of</span> <span style=\"background-color: rgba(255, 255, 255, 0); padding: 2px 4px; margin: 2px; text-decoration: none;\">visitors</span> <span style=\"background-color: rgba(255, 255, 255, 0); padding: 2px 4px; margin: 2px; text-decoration: none;\">each</span> <span style=\"background-color: rgba(255, 255, 255, 0); padding: 2px 4px; margin: 2px; text-decoration: none;\">year</span> <span style=\"background-color: rgba(255, 255, 255, 0); padding: 2px 4px; margin: 2px; text-decoration: none;\">.</span> </p>"
      ],
      "text/plain": [
       "<IPython.core.display.HTML object>"
      ]
     },
     "metadata": {},
     "output_type": "display_data"
    },
    {
     "data": {
      "text/html": [
       "<p style='font-family: monospace; text-decoration: none;'><span style=\"background-color: rgba(132, 7, 16, 0.7); padding: 2px 4px; margin: 2px; text-decoration: none;\">The</span> <span style=\"background-color: rgba(247, 91, 65, 0.7); padding: 2px 4px; margin: 2px; text-decoration: none;\">falls</span> <span style=\"background-color: rgba(112, 2, 14, 0.7); padding: 2px 4px; margin: 2px; text-decoration: none;\">,</span> <span style=\"background-color: rgba(255, 255, 255, 0); padding: 2px 4px; margin: 2px; text-decoration: none;\">which</span> <span style=\"background-color: rgba(255, 255, 255, 0); padding: 2px 4px; margin: 2px; text-decoration: none;\">consist</span> <span style=\"background-color: rgba(255, 255, 255, 0); padding: 2px 4px; margin: 2px; text-decoration: none;\">of</span> <span style=\"background-color: rgba(255, 255, 255, 0); padding: 2px 4px; margin: 2px; text-decoration: none;\">three</span> <span style=\"background-color: rgba(255, 255, 255, 0); padding: 2px 4px; margin: 2px; text-decoration: none;\">distinct</span> <span style=\"background-color: rgba(255, 255, 255, 0); padding: 2px 4px; margin: 2px; text-decoration: none;\">water</span> <span style=\"background-color: rgba(255, 255, 255, 0); padding: 2px 4px; margin: 2px; text-decoration: none;\">falls</span> <span style=\"background-color: rgba(255, 255, 255, 0); padding: 2px 4px; margin: 2px; text-decoration: none;\">–</span> <span style=\"background-color: rgba(255, 255, 255, 0); padding: 2px 4px; margin: 2px; text-decoration: none;\">the</span> <span style=\"background-color: rgba(255, 255, 255, 0); padding: 2px 4px; margin: 2px; text-decoration: none;\">H</span> <span style=\"background-color: rgba(255, 255, 255, 0); padding: 2px 4px; margin: 2px; text-decoration: none;\">ors</span> <span style=\"background-color: rgba(255, 255, 255, 0); padding: 2px 4px; margin: 2px; text-decoration: none;\">es</span> <span style=\"background-color: rgba(255, 255, 255, 0); padding: 2px 4px; margin: 2px; text-decoration: none;\">ho</span> <span style=\"background-color: rgba(255, 255, 255, 0); padding: 2px 4px; margin: 2px; text-decoration: none;\">e</span> <span style=\"background-color: rgba(247, 91, 65, 0.7); padding: 2px 4px; margin: 2px; text-decoration: none;\">Falls</span> <span style=\"background-color: rgba(255, 255, 255, 0); padding: 2px 4px; margin: 2px; text-decoration: none;\">,</span> <span style=\"background-color: rgba(248, 97, 68, 0.7); padding: 2px 4px; margin: 2px; text-decoration: none;\">the</span> <span style=\"background-color: rgba(255, 255, 255, 0); padding: 2px 4px; margin: 2px; text-decoration: none;\">American</span> <span style=\"background-color: rgba(248, 97, 68, 0.7); padding: 2px 4px; margin: 2px; text-decoration: none;\">Falls</span> <span style=\"background-color: rgba(255, 255, 255, 0); padding: 2px 4px; margin: 2px; text-decoration: none;\">,</span> <span style=\"background-color: rgba(249, 100, 70, 0.7); padding: 2px 4px; margin: 2px; text-decoration: none;\">and</span> <span style=\"background-color: rgba(246, 89, 63, 0.7); padding: 2px 4px; margin: 2px; text-decoration: none;\">the</span> <span style=\"background-color: rgba(243, 77, 55, 0.7); padding: 2px 4px; margin: 2px; text-decoration: none;\">Br</span> <span style=\"background-color: rgba(255, 255, 255, 0); padding: 2px 4px; margin: 2px; text-decoration: none;\">idal</span> <span style=\"background-color: rgba(255, 255, 255, 0); padding: 2px 4px; margin: 2px; text-decoration: none;\">Ve</span> <span style=\"background-color: rgba(255, 255, 255, 0); padding: 2px 4px; margin: 2px; text-decoration: none;\">il</span> <span style=\"background-color: rgba(255, 255, 255, 0); padding: 2px 4px; margin: 2px; text-decoration: none;\">Falls</span> <span style=\"background-color: rgba(255, 255, 255, 0); padding: 2px 4px; margin: 2px; text-decoration: none;\">–</span> <span style=\"background-color: rgba(255, 255, 255, 0); padding: 2px 4px; margin: 2px; text-decoration: none;\">are</span> <span style=\"background-color: rgba(255, 255, 255, 0); padding: 2px 4px; margin: 2px; text-decoration: none;\">known</span> <span style=\"background-color: rgba(255, 255, 255, 0); padding: 2px 4px; margin: 2px; text-decoration: none;\">for</span> <span style=\"background-color: rgba(255, 255, 255, 0); padding: 2px 4px; margin: 2px; text-decoration: none;\">their</span> <span style=\"background-color: rgba(255, 255, 255, 0); padding: 2px 4px; margin: 2px; text-decoration: none;\">a</span> <span style=\"background-color: rgba(255, 255, 255, 0); padding: 2px 4px; margin: 2px; text-decoration: none;\">we</span> <span style=\"background-color: rgba(255, 255, 255, 0); padding: 2px 4px; margin: 2px; text-decoration: none;\">-</span> <span style=\"background-color: rgba(255, 255, 255, 0); padding: 2px 4px; margin: 2px; text-decoration: none;\">in</span> <span style=\"background-color: rgba(255, 255, 255, 0); padding: 2px 4px; margin: 2px; text-decoration: none;\">sp</span> <span style=\"background-color: rgba(255, 255, 255, 0); padding: 2px 4px; margin: 2px; text-decoration: none;\">iring</span> <span style=\"background-color: rgba(255, 255, 255, 0); padding: 2px 4px; margin: 2px; text-decoration: none;\">size</span> <span style=\"background-color: rgba(255, 255, 255, 0); padding: 2px 4px; margin: 2px; text-decoration: none;\">and</span> <span style=\"background-color: rgba(255, 255, 255, 0); padding: 2px 4px; margin: 2px; text-decoration: none;\">the</span> <span style=\"background-color: rgba(255, 255, 255, 0); padding: 2px 4px; margin: 2px; text-decoration: none;\">powerful</span> <span style=\"background-color: rgba(255, 255, 255, 0); padding: 2px 4px; margin: 2px; text-decoration: none;\">flow</span> <span style=\"background-color: rgba(255, 255, 255, 0); padding: 2px 4px; margin: 2px; text-decoration: none;\">of</span> <span style=\"background-color: rgba(255, 255, 255, 0); padding: 2px 4px; margin: 2px; text-decoration: none;\">water</span> <span style=\"background-color: rgba(255, 255, 255, 0); padding: 2px 4px; margin: 2px; text-decoration: none;\">that</span> <span style=\"background-color: rgba(255, 255, 255, 0); padding: 2px 4px; margin: 2px; text-decoration: none;\">cr</span> <span style=\"background-color: rgba(255, 255, 255, 0); padding: 2px 4px; margin: 2px; text-decoration: none;\">ashes</span> <span style=\"background-color: rgba(255, 255, 255, 0); padding: 2px 4px; margin: 2px; text-decoration: none;\">down</span> <span style=\"background-color: rgba(255, 255, 255, 0); padding: 2px 4px; margin: 2px; text-decoration: none;\">from</span> <span style=\"background-color: rgba(255, 255, 255, 0); padding: 2px 4px; margin: 2px; text-decoration: none;\">great</span> <span style=\"background-color: rgba(255, 255, 255, 0); padding: 2px 4px; margin: 2px; text-decoration: none;\">he</span> <span style=\"background-color: rgba(255, 255, 255, 0); padding: 2px 4px; margin: 2px; text-decoration: none;\">ights</span> <span style=\"background-color: rgba(255, 255, 255, 0); padding: 2px 4px; margin: 2px; text-decoration: none;\">.</span> </p>"
      ],
      "text/plain": [
       "<IPython.core.display.HTML object>"
      ]
     },
     "metadata": {},
     "output_type": "display_data"
    },
    {
     "data": {
      "text/html": [
       "<p style='font-family: monospace; text-decoration: none;'><span style=\"background-color: rgba(120, 4, 15, 0.7); padding: 2px 4px; margin: 2px; text-decoration: none;\">Tour</span> <span style=\"background-color: rgba(238, 58, 43, 0.7); padding: 2px 4px; margin: 2px; text-decoration: none;\">ists</span> <span style=\"background-color: rgba(112, 2, 14, 0.7); padding: 2px 4px; margin: 2px; text-decoration: none;\">from</span> <span style=\"background-color: rgba(255, 255, 255, 0); padding: 2px 4px; margin: 2px; text-decoration: none;\">all</span> <span style=\"background-color: rgba(255, 255, 255, 0); padding: 2px 4px; margin: 2px; text-decoration: none;\">over</span> <span style=\"background-color: rgba(255, 255, 255, 0); padding: 2px 4px; margin: 2px; text-decoration: none;\">the</span> <span style=\"background-color: rgba(255, 255, 255, 0); padding: 2px 4px; margin: 2px; text-decoration: none;\">globe</span> <span style=\"background-color: rgba(255, 255, 255, 0); padding: 2px 4px; margin: 2px; text-decoration: none;\">come</span> <span style=\"background-color: rgba(255, 255, 255, 0); padding: 2px 4px; margin: 2px; text-decoration: none;\">to</span> <span style=\"background-color: rgba(248, 97, 68, 0.7); padding: 2px 4px; margin: 2px; text-decoration: none;\">Ni</span> <span style=\"background-color: rgba(238, 58, 43, 0.7); padding: 2px 4px; margin: 2px; text-decoration: none;\">ag</span> <span style=\"background-color: rgba(247, 91, 65, 0.7); padding: 2px 4px; margin: 2px; text-decoration: none;\">ara</span> <span style=\"background-color: rgba(243, 77, 55, 0.7); padding: 2px 4px; margin: 2px; text-decoration: none;\">Falls</span> <span style=\"background-color: rgba(255, 255, 255, 0); padding: 2px 4px; margin: 2px; text-decoration: none;\">not</span> <span style=\"background-color: rgba(255, 255, 255, 0); padding: 2px 4px; margin: 2px; text-decoration: none;\">only</span> <span style=\"background-color: rgba(255, 255, 255, 0); padding: 2px 4px; margin: 2px; text-decoration: none;\">to</span> <span style=\"background-color: rgba(255, 255, 255, 0); padding: 2px 4px; margin: 2px; text-decoration: none;\">witness</span> <span style=\"background-color: rgba(255, 255, 255, 0); padding: 2px 4px; margin: 2px; text-decoration: none;\">its</span> <span style=\"background-color: rgba(255, 255, 255, 0); padding: 2px 4px; margin: 2px; text-decoration: none;\">breat</span> <span style=\"background-color: rgba(255, 255, 255, 0); padding: 2px 4px; margin: 2px; text-decoration: none;\">ht</span> <span style=\"background-color: rgba(255, 255, 255, 0); padding: 2px 4px; margin: 2px; text-decoration: none;\">aking</span> <span style=\"background-color: rgba(255, 255, 255, 0); padding: 2px 4px; margin: 2px; text-decoration: none;\">beauty</span> <span style=\"background-color: rgba(255, 255, 255, 0); padding: 2px 4px; margin: 2px; text-decoration: none;\">but</span> <span style=\"background-color: rgba(255, 255, 255, 0); padding: 2px 4px; margin: 2px; text-decoration: none;\">also</span> <span style=\"background-color: rgba(255, 255, 255, 0); padding: 2px 4px; margin: 2px; text-decoration: none;\">to</span> <span style=\"background-color: rgba(255, 255, 255, 0); padding: 2px 4px; margin: 2px; text-decoration: none;\">enjoy</span> <span style=\"background-color: rgba(255, 255, 255, 0); padding: 2px 4px; margin: 2px; text-decoration: none;\">a</span> <span style=\"background-color: rgba(255, 255, 255, 0); padding: 2px 4px; margin: 2px; text-decoration: none;\">variety</span> <span style=\"background-color: rgba(255, 255, 255, 0); padding: 2px 4px; margin: 2px; text-decoration: none;\">of</span> <span style=\"background-color: rgba(255, 255, 255, 0); padding: 2px 4px; margin: 2px; text-decoration: none;\">activities</span> <span style=\"background-color: rgba(255, 255, 255, 0); padding: 2px 4px; margin: 2px; text-decoration: none;\">such</span> <span style=\"background-color: rgba(255, 255, 255, 0); padding: 2px 4px; margin: 2px; text-decoration: none;\">as</span> <span style=\"background-color: rgba(250, 102, 71, 0.7); padding: 2px 4px; margin: 2px; text-decoration: none;\">boat</span> <span style=\"background-color: rgba(255, 255, 255, 0); padding: 2px 4px; margin: 2px; text-decoration: none;\">tours</span> <span style=\"background-color: rgba(255, 255, 255, 0); padding: 2px 4px; margin: 2px; text-decoration: none;\">,</span> <span style=\"background-color: rgba(247, 90, 64, 0.7); padding: 2px 4px; margin: 2px; text-decoration: none;\">h</span> <span style=\"background-color: rgba(255, 255, 255, 0); padding: 2px 4px; margin: 2px; text-decoration: none;\">iking</span> <span style=\"background-color: rgba(255, 255, 255, 0); padding: 2px 4px; margin: 2px; text-decoration: none;\">,</span> <span style=\"background-color: rgba(255, 255, 255, 0); padding: 2px 4px; margin: 2px; text-decoration: none;\">and</span> <span style=\"background-color: rgba(255, 255, 255, 0); padding: 2px 4px; margin: 2px; text-decoration: none;\">visiting</span> <span style=\"background-color: rgba(255, 255, 255, 0); padding: 2px 4px; margin: 2px; text-decoration: none;\">observation</span> <span style=\"background-color: rgba(255, 255, 255, 0); padding: 2px 4px; margin: 2px; text-decoration: none;\">tow</span> <span style=\"background-color: rgba(255, 255, 255, 0); padding: 2px 4px; margin: 2px; text-decoration: none;\">ers</span> <span style=\"background-color: rgba(255, 255, 255, 0); padding: 2px 4px; margin: 2px; text-decoration: none;\">for</span> <span style=\"background-color: rgba(255, 255, 255, 0); padding: 2px 4px; margin: 2px; text-decoration: none;\">pan</span> <span style=\"background-color: rgba(255, 255, 255, 0); padding: 2px 4px; margin: 2px; text-decoration: none;\">or</span> <span style=\"background-color: rgba(255, 255, 255, 0); padding: 2px 4px; margin: 2px; text-decoration: none;\">amic</span> <span style=\"background-color: rgba(255, 255, 255, 0); padding: 2px 4px; margin: 2px; text-decoration: none;\">views</span> <span style=\"background-color: rgba(255, 255, 255, 0); padding: 2px 4px; margin: 2px; text-decoration: none;\">.</span> </p>"
      ],
      "text/plain": [
       "<IPython.core.display.HTML object>"
      ]
     },
     "metadata": {},
     "output_type": "display_data"
    },
    {
     "data": {
      "text/html": [
       "<p style='font-family: monospace; text-decoration: none;'><span style=\"background-color: rgba(132, 7, 16, 0.7); padding: 2px 4px; margin: 2px; text-decoration: none;\">The</span> <span style=\"background-color: rgba(229, 49, 39, 0.7); padding: 2px 4px; margin: 2px; text-decoration: none;\">history</span> <span style=\"background-color: rgba(112, 2, 14, 0.7); padding: 2px 4px; margin: 2px; text-decoration: none;\">of</span> <span style=\"background-color: rgba(255, 255, 255, 0); padding: 2px 4px; margin: 2px; text-decoration: none;\">Ni</span> <span style=\"background-color: rgba(249, 100, 70, 0.7); padding: 2px 4px; margin: 2px; text-decoration: none;\">ag</span> <span style=\"background-color: rgba(255, 255, 255, 0); padding: 2px 4px; margin: 2px; text-decoration: none;\">ara</span> <span style=\"background-color: rgba(246, 87, 62, 0.7); padding: 2px 4px; margin: 2px; text-decoration: none;\">Falls</span> <span style=\"background-color: rgba(255, 255, 255, 0); padding: 2px 4px; margin: 2px; text-decoration: none;\">goes</span> <span style=\"background-color: rgba(255, 255, 255, 0); padding: 2px 4px; margin: 2px; text-decoration: none;\">back</span> <span style=\"background-color: rgba(255, 255, 255, 0); padding: 2px 4px; margin: 2px; text-decoration: none;\">centuries</span> <span style=\"background-color: rgba(255, 255, 255, 0); padding: 2px 4px; margin: 2px; text-decoration: none;\">,</span> <span style=\"background-color: rgba(255, 255, 255, 0); padding: 2px 4px; margin: 2px; text-decoration: none;\">with</span> <span style=\"background-color: rgba(255, 255, 255, 0); padding: 2px 4px; margin: 2px; text-decoration: none;\">the</span> <span style=\"background-color: rgba(255, 255, 255, 0); padding: 2px 4px; margin: 2px; text-decoration: none;\">falls</span> <span style=\"background-color: rgba(255, 255, 255, 0); padding: 2px 4px; margin: 2px; text-decoration: none;\">being</span> <span style=\"background-color: rgba(255, 255, 255, 0); padding: 2px 4px; margin: 2px; text-decoration: none;\">an</span> <span style=\"background-color: rgba(255, 255, 255, 0); padding: 2px 4px; margin: 2px; text-decoration: none;\">important</span> <span style=\"background-color: rgba(255, 255, 255, 0); padding: 2px 4px; margin: 2px; text-decoration: none;\">site</span> <span style=\"background-color: rgba(255, 255, 255, 0); padding: 2px 4px; margin: 2px; text-decoration: none;\">for</span> <span style=\"background-color: rgba(255, 255, 255, 0); padding: 2px 4px; margin: 2px; text-decoration: none;\">Ind</span> <span style=\"background-color: rgba(255, 255, 255, 0); padding: 2px 4px; margin: 2px; text-decoration: none;\">igenous</span> <span style=\"background-color: rgba(255, 255, 255, 0); padding: 2px 4px; margin: 2px; text-decoration: none;\">peoples</span> <span style=\"background-color: rgba(255, 255, 255, 0); padding: 2px 4px; margin: 2px; text-decoration: none;\">long</span> <span style=\"background-color: rgba(255, 255, 255, 0); padding: 2px 4px; margin: 2px; text-decoration: none;\">before</span> <span style=\"background-color: rgba(255, 255, 255, 0); padding: 2px 4px; margin: 2px; text-decoration: none;\">European</span> <span style=\"background-color: rgba(255, 255, 255, 0); padding: 2px 4px; margin: 2px; text-decoration: none;\">sett</span> <span style=\"background-color: rgba(255, 255, 255, 0); padding: 2px 4px; margin: 2px; text-decoration: none;\">lers</span> <span style=\"background-color: rgba(255, 255, 255, 0); padding: 2px 4px; margin: 2px; text-decoration: none;\">arrived</span> <span style=\"background-color: rgba(255, 255, 255, 0); padding: 2px 4px; margin: 2px; text-decoration: none;\">in</span> <span style=\"background-color: rgba(255, 255, 255, 0); padding: 2px 4px; margin: 2px; text-decoration: none;\">the</span> <span style=\"background-color: rgba(255, 255, 255, 0); padding: 2px 4px; margin: 2px; text-decoration: none;\">area</span> <span style=\"background-color: rgba(255, 255, 255, 0); padding: 2px 4px; margin: 2px; text-decoration: none;\">.</span> </p>"
      ],
      "text/plain": [
       "<IPython.core.display.HTML object>"
      ]
     },
     "metadata": {},
     "output_type": "display_data"
    },
    {
     "data": {
      "text/html": [
       "<p style='font-family: monospace; text-decoration: none;'><span style=\"background-color: rgba(130, 6, 16, 0.7); padding: 2px 4px; margin: 2px; text-decoration: none;\">In</span> <span style=\"background-color: rgba(244, 78, 56, 0.7); padding: 2px 4px; margin: 2px; text-decoration: none;\">the</span> <span style=\"background-color: rgba(110, 1, 14, 0.7); padding: 2px 4px; margin: 2px; text-decoration: none;\"></span> <span style=\"background-color: rgba(248, 94, 66, 0.7); padding: 2px 4px; margin: 2px; text-decoration: none;\">1</span> <span style=\"background-color: rgba(244, 81, 58, 0.7); padding: 2px 4px; margin: 2px; text-decoration: none;\">9</span> <span style=\"background-color: rgba(219, 39, 35, 0.7); padding: 2px 4px; margin: 2px; text-decoration: none;\">th</span> <span style=\"background-color: rgba(220, 40, 36, 0.7); padding: 2px 4px; margin: 2px; text-decoration: none;\">century</span> <span style=\"background-color: rgba(242, 72, 52, 0.7); padding: 2px 4px; margin: 2px; text-decoration: none;\">,</span> <span style=\"background-color: rgba(245, 86, 61, 0.7); padding: 2px 4px; margin: 2px; text-decoration: none;\">the</span> <span style=\"background-color: rgba(255, 255, 255, 0); padding: 2px 4px; margin: 2px; text-decoration: none;\">first</span> <span style=\"background-color: rgba(248, 94, 66, 0.7); padding: 2px 4px; margin: 2px; text-decoration: none;\">h</span> <span style=\"background-color: rgba(248, 94, 66, 0.7); padding: 2px 4px; margin: 2px; text-decoration: none;\">arness</span> <span style=\"background-color: rgba(255, 255, 255, 0); padding: 2px 4px; margin: 2px; text-decoration: none;\">ing</span> <span style=\"background-color: rgba(255, 255, 255, 0); padding: 2px 4px; margin: 2px; text-decoration: none;\">of</span> <span style=\"background-color: rgba(255, 255, 255, 0); padding: 2px 4px; margin: 2px; text-decoration: none;\">the</span> <span style=\"background-color: rgba(241, 66, 49, 0.7); padding: 2px 4px; margin: 2px; text-decoration: none;\">falls</span> <span style=\"background-color: rgba(255, 255, 255, 0); padding: 2px 4px; margin: 2px; text-decoration: none;\">'</span> <span style=\"background-color: rgba(255, 255, 255, 0); padding: 2px 4px; margin: 2px; text-decoration: none;\">power</span> <span style=\"background-color: rgba(255, 255, 255, 0); padding: 2px 4px; margin: 2px; text-decoration: none;\">for</span> <span style=\"background-color: rgba(255, 255, 255, 0); padding: 2px 4px; margin: 2px; text-decoration: none;\">hydro</span> <span style=\"background-color: rgba(255, 255, 255, 0); padding: 2px 4px; margin: 2px; text-decoration: none;\">elect</span> <span style=\"background-color: rgba(255, 255, 255, 0); padding: 2px 4px; margin: 2px; text-decoration: none;\">ric</span> <span style=\"background-color: rgba(255, 255, 255, 0); padding: 2px 4px; margin: 2px; text-decoration: none;\">energy</span> <span style=\"background-color: rgba(255, 255, 255, 0); padding: 2px 4px; margin: 2px; text-decoration: none;\">was</span> <span style=\"background-color: rgba(255, 255, 255, 0); padding: 2px 4px; margin: 2px; text-decoration: none;\">undert</span> <span style=\"background-color: rgba(255, 255, 255, 0); padding: 2px 4px; margin: 2px; text-decoration: none;\">aken</span> <span style=\"background-color: rgba(250, 103, 72, 0.7); padding: 2px 4px; margin: 2px; text-decoration: none;\">,</span> <span style=\"background-color: rgba(255, 255, 255, 0); padding: 2px 4px; margin: 2px; text-decoration: none;\">which</span> <span style=\"background-color: rgba(255, 255, 255, 0); padding: 2px 4px; margin: 2px; text-decoration: none;\">played</span> <span style=\"background-color: rgba(255, 255, 255, 0); padding: 2px 4px; margin: 2px; text-decoration: none;\">a</span> <span style=\"background-color: rgba(255, 255, 255, 0); padding: 2px 4px; margin: 2px; text-decoration: none;\">significant</span> <span style=\"background-color: rgba(255, 255, 255, 0); padding: 2px 4px; margin: 2px; text-decoration: none;\">role</span> <span style=\"background-color: rgba(255, 255, 255, 0); padding: 2px 4px; margin: 2px; text-decoration: none;\">in</span> <span style=\"background-color: rgba(255, 255, 255, 0); padding: 2px 4px; margin: 2px; text-decoration: none;\">the</span> <span style=\"background-color: rgba(255, 255, 255, 0); padding: 2px 4px; margin: 2px; text-decoration: none;\">industrial</span> <span style=\"background-color: rgba(255, 255, 255, 0); padding: 2px 4px; margin: 2px; text-decoration: none;\">development</span> <span style=\"background-color: rgba(255, 255, 255, 0); padding: 2px 4px; margin: 2px; text-decoration: none;\">of</span> <span style=\"background-color: rgba(255, 255, 255, 0); padding: 2px 4px; margin: 2px; text-decoration: none;\">the</span> <span style=\"background-color: rgba(244, 81, 58, 0.7); padding: 2px 4px; margin: 2px; text-decoration: none;\">region</span> <span style=\"background-color: rgba(247, 91, 65, 0.7); padding: 2px 4px; margin: 2px; text-decoration: none;\">.</span> </p>"
      ],
      "text/plain": [
       "<IPython.core.display.HTML object>"
      ]
     },
     "metadata": {},
     "output_type": "display_data"
    },
    {
     "data": {
      "text/html": [
       "<p style='font-family: monospace; text-decoration: none;'><span style=\"background-color: rgba(124, 5, 15, 0.7); padding: 2px 4px; margin: 2px; text-decoration: none;\">Ni</span> <span style=\"background-color: rgba(255, 255, 255, 0); padding: 2px 4px; margin: 2px; text-decoration: none;\">ag</span> <span style=\"background-color: rgba(241, 69, 50, 0.7); padding: 2px 4px; margin: 2px; text-decoration: none;\">ara</span> <span style=\"background-color: rgba(247, 90, 64, 0.7); padding: 2px 4px; margin: 2px; text-decoration: none;\">Falls</span> <span style=\"background-color: rgba(239, 59, 44, 0.7); padding: 2px 4px; margin: 2px; text-decoration: none;\">is</span> <span style=\"background-color: rgba(243, 77, 55, 0.7); padding: 2px 4px; margin: 2px; text-decoration: none;\">not</span> <span style=\"background-color: rgba(255, 255, 255, 0); padding: 2px 4px; margin: 2px; text-decoration: none;\">only</span> <span style=\"background-color: rgba(255, 255, 255, 0); padding: 2px 4px; margin: 2px; text-decoration: none;\">a</span> <span style=\"background-color: rgba(248, 97, 68, 0.7); padding: 2px 4px; margin: 2px; text-decoration: none;\">natural</span> <span style=\"background-color: rgba(250, 102, 71, 0.7); padding: 2px 4px; margin: 2px; text-decoration: none;\">wonder</span> <span style=\"background-color: rgba(245, 84, 60, 0.7); padding: 2px 4px; margin: 2px; text-decoration: none;\">but</span> <span style=\"background-color: rgba(255, 255, 255, 0); padding: 2px 4px; margin: 2px; text-decoration: none;\">also</span> <span style=\"background-color: rgba(255, 255, 255, 0); padding: 2px 4px; margin: 2px; text-decoration: none;\">a</span> <span style=\"background-color: rgba(255, 255, 255, 0); padding: 2px 4px; margin: 2px; text-decoration: none;\">symbol</span> <span style=\"background-color: rgba(112, 2, 14, 0.7); padding: 2px 4px; margin: 2px; text-decoration: none;\">of</span> <span style=\"background-color: rgba(255, 255, 255, 0); padding: 2px 4px; margin: 2px; text-decoration: none;\">both</span> <span style=\"background-color: rgba(255, 255, 255, 0); padding: 2px 4px; margin: 2px; text-decoration: none;\">the</span> <span style=\"background-color: rgba(255, 255, 255, 0); padding: 2px 4px; margin: 2px; text-decoration: none;\">raw</span> <span style=\"background-color: rgba(255, 255, 255, 0); padding: 2px 4px; margin: 2px; text-decoration: none;\">power</span> <span style=\"background-color: rgba(255, 255, 255, 0); padding: 2px 4px; margin: 2px; text-decoration: none;\">of</span> <span style=\"background-color: rgba(255, 255, 255, 0); padding: 2px 4px; margin: 2px; text-decoration: none;\">nature</span> <span style=\"background-color: rgba(255, 255, 255, 0); padding: 2px 4px; margin: 2px; text-decoration: none;\">and</span> <span style=\"background-color: rgba(255, 255, 255, 0); padding: 2px 4px; margin: 2px; text-decoration: none;\">the</span> <span style=\"background-color: rgba(255, 255, 255, 0); padding: 2px 4px; margin: 2px; text-decoration: none;\">human</span> <span style=\"background-color: rgba(247, 91, 65, 0.7); padding: 2px 4px; margin: 2px; text-decoration: none;\">ing</span> <span style=\"background-color: rgba(255, 255, 255, 0); padding: 2px 4px; margin: 2px; text-decoration: none;\">enu</span> <span style=\"background-color: rgba(255, 255, 255, 0); padding: 2px 4px; margin: 2px; text-decoration: none;\">ity</span> <span style=\"background-color: rgba(255, 255, 255, 0); padding: 2px 4px; margin: 2px; text-decoration: none;\">used</span> <span style=\"background-color: rgba(255, 255, 255, 0); padding: 2px 4px; margin: 2px; text-decoration: none;\">to</span> <span style=\"background-color: rgba(255, 255, 255, 0); padding: 2px 4px; margin: 2px; text-decoration: none;\">h</span> <span style=\"background-color: rgba(255, 255, 255, 0); padding: 2px 4px; margin: 2px; text-decoration: none;\">arness</span> <span style=\"background-color: rgba(255, 255, 255, 0); padding: 2px 4px; margin: 2px; text-decoration: none;\">its</span> <span style=\"background-color: rgba(255, 255, 255, 0); padding: 2px 4px; margin: 2px; text-decoration: none;\">energy</span> <span style=\"background-color: rgba(255, 255, 255, 0); padding: 2px 4px; margin: 2px; text-decoration: none;\">for</span> <span style=\"background-color: rgba(255, 255, 255, 0); padding: 2px 4px; margin: 2px; text-decoration: none;\">practical</span> <span style=\"background-color: rgba(255, 255, 255, 0); padding: 2px 4px; margin: 2px; text-decoration: none;\">purposes</span> <span style=\"background-color: rgba(255, 255, 255, 0); padding: 2px 4px; margin: 2px; text-decoration: none;\">.</span> </p>"
      ],
      "text/plain": [
       "<IPython.core.display.HTML object>"
      ]
     },
     "metadata": {},
     "output_type": "display_data"
    },
    {
     "data": {
      "text/html": [
       "<p style='font-family: monospace; text-decoration: none;'><span style=\"background-color: rgba(134, 7, 17, 0.7); padding: 2px 4px; margin: 2px; text-decoration: none;\">Every</span> <span style=\"background-color: rgba(240, 63, 47, 0.7); padding: 2px 4px; margin: 2px; text-decoration: none;\">year</span> <span style=\"background-color: rgba(112, 2, 14, 0.7); padding: 2px 4px; margin: 2px; text-decoration: none;\">,</span> <span style=\"background-color: rgba(248, 96, 67, 0.7); padding: 2px 4px; margin: 2px; text-decoration: none;\">millions</span> <span style=\"background-color: rgba(255, 255, 255, 0); padding: 2px 4px; margin: 2px; text-decoration: none;\">of</span> <span style=\"background-color: rgba(255, 255, 255, 0); padding: 2px 4px; margin: 2px; text-decoration: none;\">gall</span> <span style=\"background-color: rgba(255, 255, 255, 0); padding: 2px 4px; margin: 2px; text-decoration: none;\">ons</span> <span style=\"background-color: rgba(255, 255, 255, 0); padding: 2px 4px; margin: 2px; text-decoration: none;\">of</span> <span style=\"background-color: rgba(248, 97, 68, 0.7); padding: 2px 4px; margin: 2px; text-decoration: none;\">water</span> <span style=\"background-color: rgba(255, 255, 255, 0); padding: 2px 4px; margin: 2px; text-decoration: none;\">tum</span> <span style=\"background-color: rgba(255, 255, 255, 0); padding: 2px 4px; margin: 2px; text-decoration: none;\">ble</span> <span style=\"background-color: rgba(255, 255, 255, 0); padding: 2px 4px; margin: 2px; text-decoration: none;\">over</span> <span style=\"background-color: rgba(255, 255, 255, 0); padding: 2px 4px; margin: 2px; text-decoration: none;\">the</span> <span style=\"background-color: rgba(255, 255, 255, 0); padding: 2px 4px; margin: 2px; text-decoration: none;\">edge</span> <span style=\"background-color: rgba(255, 255, 255, 0); padding: 2px 4px; margin: 2px; text-decoration: none;\">of</span> <span style=\"background-color: rgba(255, 255, 255, 0); padding: 2px 4px; margin: 2px; text-decoration: none;\">the</span> <span style=\"background-color: rgba(237, 57, 43, 0.7); padding: 2px 4px; margin: 2px; text-decoration: none;\">falls</span> <span style=\"background-color: rgba(255, 255, 255, 0); padding: 2px 4px; margin: 2px; text-decoration: none;\">,</span> <span style=\"background-color: rgba(255, 255, 255, 0); padding: 2px 4px; margin: 2px; text-decoration: none;\">creating</span> <span style=\"background-color: rgba(255, 255, 255, 0); padding: 2px 4px; margin: 2px; text-decoration: none;\">mist</span> <span style=\"background-color: rgba(255, 255, 255, 0); padding: 2px 4px; margin: 2px; text-decoration: none;\">that</span> <span style=\"background-color: rgba(255, 255, 255, 0); padding: 2px 4px; margin: 2px; text-decoration: none;\">can</span> <span style=\"background-color: rgba(255, 255, 255, 0); padding: 2px 4px; margin: 2px; text-decoration: none;\">be</span> <span style=\"background-color: rgba(255, 255, 255, 0); padding: 2px 4px; margin: 2px; text-decoration: none;\">seen</span> <span style=\"background-color: rgba(255, 255, 255, 0); padding: 2px 4px; margin: 2px; text-decoration: none;\">from</span> <span style=\"background-color: rgba(255, 255, 255, 0); padding: 2px 4px; margin: 2px; text-decoration: none;\">miles</span> <span style=\"background-color: rgba(255, 255, 255, 0); padding: 2px 4px; margin: 2px; text-decoration: none;\">away</span> <span style=\"background-color: rgba(255, 255, 255, 0); padding: 2px 4px; margin: 2px; text-decoration: none;\">and</span> <span style=\"background-color: rgba(255, 255, 255, 0); padding: 2px 4px; margin: 2px; text-decoration: none;\">forming</span> <span style=\"background-color: rgba(255, 255, 255, 0); padding: 2px 4px; margin: 2px; text-decoration: none;\">rain</span> <span style=\"background-color: rgba(255, 255, 255, 0); padding: 2px 4px; margin: 2px; text-decoration: none;\">b</span> <span style=\"background-color: rgba(255, 255, 255, 0); padding: 2px 4px; margin: 2px; text-decoration: none;\">ows</span> <span style=\"background-color: rgba(255, 255, 255, 0); padding: 2px 4px; margin: 2px; text-decoration: none;\">on</span> <span style=\"background-color: rgba(255, 255, 255, 0); padding: 2px 4px; margin: 2px; text-decoration: none;\">sun</span> <span style=\"background-color: rgba(255, 255, 255, 0); padding: 2px 4px; margin: 2px; text-decoration: none;\">ny</span> <span style=\"background-color: rgba(255, 255, 255, 0); padding: 2px 4px; margin: 2px; text-decoration: none;\">days</span> <span style=\"background-color: rgba(255, 255, 255, 0); padding: 2px 4px; margin: 2px; text-decoration: none;\">.</span> </p>"
      ],
      "text/plain": [
       "<IPython.core.display.HTML object>"
      ]
     },
     "metadata": {},
     "output_type": "display_data"
    },
    {
     "data": {
      "text/html": [
       "<p style='font-family: monospace; text-decoration: none;'><span style=\"background-color: rgba(132, 7, 16, 0.7); padding: 2px 4px; margin: 2px; text-decoration: none;\">The</span> <span style=\"background-color: rgba(246, 89, 63, 0.7); padding: 2px 4px; margin: 2px; text-decoration: none;\">surrounding</span> <span style=\"background-color: rgba(250, 105, 73, 0.7); padding: 2px 4px; margin: 2px; text-decoration: none;\">park</span> <span style=\"background-color: rgba(247, 91, 65, 0.7); padding: 2px 4px; margin: 2px; text-decoration: none;\">land</span> <span style=\"background-color: rgba(255, 255, 255, 0); padding: 2px 4px; margin: 2px; text-decoration: none;\">offers</span> <span style=\"background-color: rgba(255, 255, 255, 0); padding: 2px 4px; margin: 2px; text-decoration: none;\">visitors</span> <span style=\"background-color: rgba(255, 255, 255, 0); padding: 2px 4px; margin: 2px; text-decoration: none;\">the</span> <span style=\"background-color: rgba(248, 96, 67, 0.7); padding: 2px 4px; margin: 2px; text-decoration: none;\">opportunity</span> <span style=\"background-color: rgba(112, 2, 14, 0.7); padding: 2px 4px; margin: 2px; text-decoration: none;\">to</span> <span style=\"background-color: rgba(255, 255, 255, 0); padding: 2px 4px; margin: 2px; text-decoration: none;\">explore</span> <span style=\"background-color: rgba(255, 255, 255, 0); padding: 2px 4px; margin: 2px; text-decoration: none;\">l</span> <span style=\"background-color: rgba(255, 255, 255, 0); padding: 2px 4px; margin: 2px; text-decoration: none;\">ush</span> <span style=\"background-color: rgba(255, 255, 255, 0); padding: 2px 4px; margin: 2px; text-decoration: none;\">gre</span> <span style=\"background-color: rgba(255, 255, 255, 0); padding: 2px 4px; margin: 2px; text-decoration: none;\">ener</span> <span style=\"background-color: rgba(255, 255, 255, 0); padding: 2px 4px; margin: 2px; text-decoration: none;\">y</span> <span style=\"background-color: rgba(255, 255, 255, 0); padding: 2px 4px; margin: 2px; text-decoration: none;\">,</span> <span style=\"background-color: rgba(255, 255, 255, 0); padding: 2px 4px; margin: 2px; text-decoration: none;\">take</span> <span style=\"background-color: rgba(255, 255, 255, 0); padding: 2px 4px; margin: 2px; text-decoration: none;\">boat</span> <span style=\"background-color: rgba(255, 255, 255, 0); padding: 2px 4px; margin: 2px; text-decoration: none;\">r</span> <span style=\"background-color: rgba(255, 255, 255, 0); padding: 2px 4px; margin: 2px; text-decoration: none;\">ides</span> <span style=\"background-color: rgba(255, 255, 255, 0); padding: 2px 4px; margin: 2px; text-decoration: none;\">to</span> <span style=\"background-color: rgba(255, 255, 255, 0); padding: 2px 4px; margin: 2px; text-decoration: none;\">get</span> <span style=\"background-color: rgba(255, 255, 255, 0); padding: 2px 4px; margin: 2px; text-decoration: none;\">up</span> <span style=\"background-color: rgba(255, 255, 255, 0); padding: 2px 4px; margin: 2px; text-decoration: none;\">close</span> <span style=\"background-color: rgba(255, 255, 255, 0); padding: 2px 4px; margin: 2px; text-decoration: none;\">to</span> <span style=\"background-color: rgba(255, 255, 255, 0); padding: 2px 4px; margin: 2px; text-decoration: none;\">the</span> <span style=\"background-color: rgba(228, 48, 39, 0.7); padding: 2px 4px; margin: 2px; text-decoration: none;\">falls</span> <span style=\"background-color: rgba(255, 255, 255, 0); padding: 2px 4px; margin: 2px; text-decoration: none;\">,</span> <span style=\"background-color: rgba(255, 255, 255, 0); padding: 2px 4px; margin: 2px; text-decoration: none;\">and</span> <span style=\"background-color: rgba(255, 255, 255, 0); padding: 2px 4px; margin: 2px; text-decoration: none;\">even</span> <span style=\"background-color: rgba(255, 255, 255, 0); padding: 2px 4px; margin: 2px; text-decoration: none;\">stand</span> <span style=\"background-color: rgba(255, 255, 255, 0); padding: 2px 4px; margin: 2px; text-decoration: none;\">behind</span> <span style=\"background-color: rgba(255, 255, 255, 0); padding: 2px 4px; margin: 2px; text-decoration: none;\">the</span> <span style=\"background-color: rgba(255, 255, 255, 0); padding: 2px 4px; margin: 2px; text-decoration: none;\">water</span> <span style=\"background-color: rgba(255, 255, 255, 0); padding: 2px 4px; margin: 2px; text-decoration: none;\">fall</span> <span style=\"background-color: rgba(255, 255, 255, 0); padding: 2px 4px; margin: 2px; text-decoration: none;\">for</span> <span style=\"background-color: rgba(255, 255, 255, 0); padding: 2px 4px; margin: 2px; text-decoration: none;\">a</span> <span style=\"background-color: rgba(255, 255, 255, 0); padding: 2px 4px; margin: 2px; text-decoration: none;\">unique</span> <span style=\"background-color: rgba(255, 255, 255, 0); padding: 2px 4px; margin: 2px; text-decoration: none;\">and</span> <span style=\"background-color: rgba(255, 255, 255, 0); padding: 2px 4px; margin: 2px; text-decoration: none;\">exh</span> <span style=\"background-color: rgba(255, 255, 255, 0); padding: 2px 4px; margin: 2px; text-decoration: none;\">ilar</span> <span style=\"background-color: rgba(255, 255, 255, 0); padding: 2px 4px; margin: 2px; text-decoration: none;\">ating</span> <span style=\"background-color: rgba(255, 255, 255, 0); padding: 2px 4px; margin: 2px; text-decoration: none;\">view</span> <span style=\"background-color: rgba(255, 255, 255, 0); padding: 2px 4px; margin: 2px; text-decoration: none;\">.</span> </p>"
      ],
      "text/plain": [
       "<IPython.core.display.HTML object>"
      ]
     },
     "metadata": {},
     "output_type": "display_data"
    },
    {
     "data": {
      "text/html": [
       "<p style='font-family: monospace; text-decoration: none;'><span style=\"background-color: rgba(124, 5, 15, 0.7); padding: 2px 4px; margin: 2px; text-decoration: none;\">Ni</span> <span style=\"background-color: rgba(255, 255, 255, 0); padding: 2px 4px; margin: 2px; text-decoration: none;\">ag</span> <span style=\"background-color: rgba(241, 69, 50, 0.7); padding: 2px 4px; margin: 2px; text-decoration: none;\">ara</span> <span style=\"background-color: rgba(247, 90, 64, 0.7); padding: 2px 4px; margin: 2px; text-decoration: none;\">Falls</span> <span style=\"background-color: rgba(236, 56, 42, 0.7); padding: 2px 4px; margin: 2px; text-decoration: none;\">has</span> <span style=\"background-color: rgba(255, 255, 255, 0); padding: 2px 4px; margin: 2px; text-decoration: none;\">been</span> <span style=\"background-color: rgba(255, 255, 255, 0); padding: 2px 4px; margin: 2px; text-decoration: none;\">the</span> <span style=\"background-color: rgba(245, 86, 61, 0.7); padding: 2px 4px; margin: 2px; text-decoration: none;\">site</span> <span style=\"background-color: rgba(112, 2, 14, 0.7); padding: 2px 4px; margin: 2px; text-decoration: none;\">of</span> <span style=\"background-color: rgba(255, 255, 255, 0); padding: 2px 4px; margin: 2px; text-decoration: none;\">numerous</span> <span style=\"background-color: rgba(255, 255, 255, 0); padding: 2px 4px; margin: 2px; text-decoration: none;\">famous</span> <span style=\"background-color: rgba(255, 255, 255, 0); padding: 2px 4px; margin: 2px; text-decoration: none;\">events</span> <span style=\"background-color: rgba(255, 255, 255, 0); padding: 2px 4px; margin: 2px; text-decoration: none;\">,</span> <span style=\"background-color: rgba(255, 255, 255, 0); padding: 2px 4px; margin: 2px; text-decoration: none;\">including</span> <span style=\"background-color: rgba(255, 255, 255, 0); padding: 2px 4px; margin: 2px; text-decoration: none;\">st</span> <span style=\"background-color: rgba(255, 255, 255, 0); padding: 2px 4px; margin: 2px; text-decoration: none;\">unts</span> <span style=\"background-color: rgba(255, 255, 255, 0); padding: 2px 4px; margin: 2px; text-decoration: none;\">and</span> <span style=\"background-color: rgba(255, 255, 255, 0); padding: 2px 4px; margin: 2px; text-decoration: none;\">dare</span> <span style=\"background-color: rgba(255, 255, 255, 0); padding: 2px 4px; margin: 2px; text-decoration: none;\">dev</span> <span style=\"background-color: rgba(255, 255, 255, 0); padding: 2px 4px; margin: 2px; text-decoration: none;\">il</span> <span style=\"background-color: rgba(255, 255, 255, 0); padding: 2px 4px; margin: 2px; text-decoration: none;\">acts</span> <span style=\"background-color: rgba(255, 255, 255, 0); padding: 2px 4px; margin: 2px; text-decoration: none;\">,</span> <span style=\"background-color: rgba(255, 255, 255, 0); padding: 2px 4px; margin: 2px; text-decoration: none;\">such</span> <span style=\"background-color: rgba(255, 255, 255, 0); padding: 2px 4px; margin: 2px; text-decoration: none;\">as</span> <span style=\"background-color: rgba(255, 255, 255, 0); padding: 2px 4px; margin: 2px; text-decoration: none;\">tight</span> <span style=\"background-color: rgba(255, 255, 255, 0); padding: 2px 4px; margin: 2px; text-decoration: none;\">ro</span> <span style=\"background-color: rgba(255, 255, 255, 0); padding: 2px 4px; margin: 2px; text-decoration: none;\">pe</span> <span style=\"background-color: rgba(255, 255, 255, 0); padding: 2px 4px; margin: 2px; text-decoration: none;\">walking</span> <span style=\"background-color: rgba(255, 255, 255, 0); padding: 2px 4px; margin: 2px; text-decoration: none;\">across</span> <span style=\"background-color: rgba(255, 255, 255, 0); padding: 2px 4px; margin: 2px; text-decoration: none;\">the</span> <span style=\"background-color: rgba(236, 56, 42, 0.7); padding: 2px 4px; margin: 2px; text-decoration: none;\">falls</span> <span style=\"background-color: rgba(249, 100, 70, 0.7); padding: 2px 4px; margin: 2px; text-decoration: none;\">and</span> <span style=\"background-color: rgba(255, 255, 255, 0); padding: 2px 4px; margin: 2px; text-decoration: none;\">the</span> <span style=\"background-color: rgba(255, 255, 255, 0); padding: 2px 4px; margin: 2px; text-decoration: none;\">first</span> <span style=\"background-color: rgba(255, 255, 255, 0); padding: 2px 4px; margin: 2px; text-decoration: none;\">successful</span> <span style=\"background-color: rgba(244, 81, 58, 0.7); padding: 2px 4px; margin: 2px; text-decoration: none;\">pl</span> <span style=\"background-color: rgba(245, 83, 59, 0.7); padding: 2px 4px; margin: 2px; text-decoration: none;\">unge</span> <span style=\"background-color: rgba(255, 255, 255, 0); padding: 2px 4px; margin: 2px; text-decoration: none;\">over</span> <span style=\"background-color: rgba(255, 255, 255, 0); padding: 2px 4px; margin: 2px; text-decoration: none;\">the</span> <span style=\"background-color: rgba(255, 255, 255, 0); padding: 2px 4px; margin: 2px; text-decoration: none;\">falls</span> <span style=\"background-color: rgba(255, 255, 255, 0); padding: 2px 4px; margin: 2px; text-decoration: none;\">in</span> <span style=\"background-color: rgba(255, 255, 255, 0); padding: 2px 4px; margin: 2px; text-decoration: none;\">a</span> <span style=\"background-color: rgba(255, 255, 255, 0); padding: 2px 4px; margin: 2px; text-decoration: none;\">barrel</span> <span style=\"background-color: rgba(248, 96, 67, 0.7); padding: 2px 4px; margin: 2px; text-decoration: none;\">.</span> </p>"
      ],
      "text/plain": [
       "<IPython.core.display.HTML object>"
      ]
     },
     "metadata": {},
     "output_type": "display_data"
    },
    {
     "data": {
      "text/html": [
       "<p style='font-family: monospace; text-decoration: none;'><span style=\"background-color: rgba(130, 6, 16, 0.7); padding: 2px 4px; margin: 2px; text-decoration: none;\">In</span> <span style=\"background-color: rgba(244, 78, 56, 0.7); padding: 2px 4px; margin: 2px; text-decoration: none;\">the</span> <span style=\"background-color: rgba(207, 28, 31, 0.7); padding: 2px 4px; margin: 2px; text-decoration: none;\">winter</span> <span style=\"background-color: rgba(229, 49, 39, 0.7); padding: 2px 4px; margin: 2px; text-decoration: none;\">months</span> <span style=\"background-color: rgba(112, 2, 14, 0.7); padding: 2px 4px; margin: 2px; text-decoration: none;\">,</span> <span style=\"background-color: rgba(250, 103, 72, 0.7); padding: 2px 4px; margin: 2px; text-decoration: none;\">Ni</span> <span style=\"background-color: rgba(244, 78, 56, 0.7); padding: 2px 4px; margin: 2px; text-decoration: none;\">ag</span> <span style=\"background-color: rgba(255, 255, 255, 0); padding: 2px 4px; margin: 2px; text-decoration: none;\">ara</span> <span style=\"background-color: rgba(255, 255, 255, 0); padding: 2px 4px; margin: 2px; text-decoration: none;\">Falls</span> <span style=\"background-color: rgba(255, 255, 255, 0); padding: 2px 4px; margin: 2px; text-decoration: none;\">transform</span> <span style=\"background-color: rgba(255, 255, 255, 0); padding: 2px 4px; margin: 2px; text-decoration: none;\">s</span> <span style=\"background-color: rgba(255, 255, 255, 0); padding: 2px 4px; margin: 2px; text-decoration: none;\">into</span> <span style=\"background-color: rgba(255, 255, 255, 0); padding: 2px 4px; margin: 2px; text-decoration: none;\">a</span> <span style=\"background-color: rgba(255, 255, 255, 0); padding: 2px 4px; margin: 2px; text-decoration: none;\">magical</span> <span style=\"background-color: rgba(239, 59, 44, 0.7); padding: 2px 4px; margin: 2px; text-decoration: none;\">winter</span> <span style=\"background-color: rgba(255, 255, 255, 0); padding: 2px 4px; margin: 2px; text-decoration: none;\">wonder</span> <span style=\"background-color: rgba(255, 255, 255, 0); padding: 2px 4px; margin: 2px; text-decoration: none;\">land</span> <span style=\"background-color: rgba(255, 255, 255, 0); padding: 2px 4px; margin: 2px; text-decoration: none;\">,</span> <span style=\"background-color: rgba(255, 255, 255, 0); padding: 2px 4px; margin: 2px; text-decoration: none;\">with</span> <span style=\"background-color: rgba(250, 103, 72, 0.7); padding: 2px 4px; margin: 2px; text-decoration: none;\">ice</span> <span style=\"background-color: rgba(255, 255, 255, 0); padding: 2px 4px; margin: 2px; text-decoration: none;\">form</span> <span style=\"background-color: rgba(255, 255, 255, 0); padding: 2px 4px; margin: 2px; text-decoration: none;\">ations</span> <span style=\"background-color: rgba(255, 255, 255, 0); padding: 2px 4px; margin: 2px; text-decoration: none;\">and</span> <span style=\"background-color: rgba(255, 255, 255, 0); padding: 2px 4px; margin: 2px; text-decoration: none;\">frozen</span> <span style=\"background-color: rgba(255, 255, 255, 0); padding: 2px 4px; margin: 2px; text-decoration: none;\">mist</span> <span style=\"background-color: rgba(255, 255, 255, 0); padding: 2px 4px; margin: 2px; text-decoration: none;\">creating</span> <span style=\"background-color: rgba(255, 255, 255, 0); padding: 2px 4px; margin: 2px; text-decoration: none;\">a</span> <span style=\"background-color: rgba(255, 255, 255, 0); padding: 2px 4px; margin: 2px; text-decoration: none;\">sur</span> <span style=\"background-color: rgba(255, 255, 255, 0); padding: 2px 4px; margin: 2px; text-decoration: none;\">real</span> <span style=\"background-color: rgba(255, 255, 255, 0); padding: 2px 4px; margin: 2px; text-decoration: none;\">landscape</span> <span style=\"background-color: rgba(255, 255, 255, 0); padding: 2px 4px; margin: 2px; text-decoration: none;\">that</span> <span style=\"background-color: rgba(255, 255, 255, 0); padding: 2px 4px; margin: 2px; text-decoration: none;\">attract</span> <span style=\"background-color: rgba(255, 255, 255, 0); padding: 2px 4px; margin: 2px; text-decoration: none;\">s</span> <span style=\"background-color: rgba(255, 255, 255, 0); padding: 2px 4px; margin: 2px; text-decoration: none;\">photograph</span> <span style=\"background-color: rgba(255, 255, 255, 0); padding: 2px 4px; margin: 2px; text-decoration: none;\">ers</span> <span style=\"background-color: rgba(255, 255, 255, 0); padding: 2px 4px; margin: 2px; text-decoration: none;\">and</span> <span style=\"background-color: rgba(255, 255, 255, 0); padding: 2px 4px; margin: 2px; text-decoration: none;\">winter</span> <span style=\"background-color: rgba(255, 255, 255, 0); padding: 2px 4px; margin: 2px; text-decoration: none;\">tourists</span> <span style=\"background-color: rgba(255, 255, 255, 0); padding: 2px 4px; margin: 2px; text-decoration: none;\">alike</span> <span style=\"background-color: rgba(255, 255, 255, 0); padding: 2px 4px; margin: 2px; text-decoration: none;\">.</span> </p>"
      ],
      "text/plain": [
       "<IPython.core.display.HTML object>"
      ]
     },
     "metadata": {},
     "output_type": "display_data"
    },
    {
     "data": {
      "text/html": [
       "<p style='font-family: monospace; text-decoration: none;'><span style=\"background-color: rgba(132, 7, 16, 0.7); padding: 2px 4px; margin: 2px; text-decoration: none;\">The</span> <span style=\"background-color: rgba(241, 68, 50, 0.7); padding: 2px 4px; margin: 2px; text-decoration: none;\">quick</span> <span style=\"background-color: rgba(241, 69, 50, 0.7); padding: 2px 4px; margin: 2px; text-decoration: none;\">brown</span> <span style=\"background-color: rgba(243, 77, 55, 0.7); padding: 2px 4px; margin: 2px; text-decoration: none;\">f</span> <span style=\"background-color: rgba(255, 255, 255, 0); padding: 2px 4px; margin: 2px; text-decoration: none;\">ox</span> <span style=\"background-color: rgba(239, 61, 45, 0.7); padding: 2px 4px; margin: 2px; text-decoration: none;\">j</span> <span style=\"background-color: rgba(255, 255, 255, 0); padding: 2px 4px; margin: 2px; text-decoration: none;\">umps</span> <span style=\"background-color: rgba(255, 255, 255, 0); padding: 2px 4px; margin: 2px; text-decoration: none;\">over</span> <span style=\"background-color: rgba(255, 255, 255, 0); padding: 2px 4px; margin: 2px; text-decoration: none;\">the</span> <span style=\"background-color: rgba(255, 255, 255, 0); padding: 2px 4px; margin: 2px; text-decoration: none;\">lazy</span> <span style=\"background-color: rgba(255, 255, 255, 0); padding: 2px 4px; margin: 2px; text-decoration: none;\">dog</span> <span style=\"background-color: rgba(112, 2, 14, 0.7); padding: 2px 4px; margin: 2px; text-decoration: none;\">.</span> </p>"
      ],
      "text/plain": [
       "<IPython.core.display.HTML object>"
      ]
     },
     "metadata": {},
     "output_type": "display_data"
    }
   ],
   "source": [
    "theme_texts_niagara_falls = [\n",
    "    \"Niagara Falls, located on the border between the United States and Canada, is one of the most famous natural attractions in the world, drawing millions of visitors each year.\",\n",
    "    \"The falls, which consist of three distinct waterfalls – the Horseshoe Falls, the American Falls, and the Bridal Veil Falls – are known for their awe-inspiring size and the powerful flow of water that crashes down from great heights.\",\n",
    "    \"Tourists from all over the globe come to Niagara Falls not only to witness its breathtaking beauty but also to enjoy a variety of activities such as boat tours, hiking, and visiting observation towers for panoramic views.\",\n",
    "    \"The history of Niagara Falls goes back centuries, with the falls being an important site for Indigenous peoples long before European settlers arrived in the area.\",\n",
    "    \"In the 19th century, the first harnessing of the falls' power for hydroelectric energy was undertaken, which played a significant role in the industrial development of the region.\",\n",
    "    \"Niagara Falls is not only a natural wonder but also a symbol of both the raw power of nature and the human ingenuity used to harness its energy for practical purposes.\",\n",
    "    \"Every year, millions of gallons of water tumble over the edge of the falls, creating mist that can be seen from miles away and forming rainbows on sunny days.\",\n",
    "    \"The surrounding parkland offers visitors the opportunity to explore lush greenery, take boat rides to get up close to the falls, and even stand behind the waterfall for a unique and exhilarating view.\",\n",
    "    \"Niagara Falls has been the site of numerous famous events, including stunts and daredevil acts, such as tightrope walking across the falls and the first successful plunge over the falls in a barrel.\",\n",
    "    \"In the winter months, Niagara Falls transforms into a magical winter wonderland, with ice formations and frozen mist creating a surreal landscape that attracts photographers and winter tourists alike.\",\n",
    "    \"The quick brown fox jumps over the lazy dog.\"  # Dummy sentence for comparison\n",
    "]\n",
    "\n",
    "# Example usage\n",
    "active_features = analyze_feature_responses_grouped_and_visualize(\n",
    "    theme_texts=theme_texts_niagara_falls,\n",
    "    tokenizer=tokenizer,\n",
    "    model=model,\n",
    "    sae_model=sae_model,\n",
    "    gather_residual_activations=gather_residual_activations,\n",
    "    layer_index=16,\n",
    "    activation_threshold=0.5,\n",
    "    num_activations=0.9,\n",
    "    display_n=3\n",
    ")\n"
   ]
  },
  {
   "cell_type": "code",
   "execution_count": 66,
   "id": "d88ed2c6",
   "metadata": {},
   "outputs": [
    {
     "name": "stdout",
     "output_type": "stream",
     "text": [
      "Features activated by more than 0.9 texts: 15, [111492, 89360, 379922, 97951, 29732, 218917, 61255, 353240, 305882, 373609, 278635, 355055, 307952, 151283, 332276]\n",
      "\n",
      "Visualizing Feature 111492\n"
     ]
    },
    {
     "name": "stderr",
     "output_type": "stream",
     "text": [
      "/tmp/ipykernel_633169/1808605176.py:7: MatplotlibDeprecationWarning: The get_cmap function was deprecated in Matplotlib 3.7 and will be removed in 3.11. Use ``matplotlib.colormaps[name]`` or ``matplotlib.colormaps.get_cmap()`` or ``pyplot.get_cmap()`` instead.\n",
      "  cmap = cm.get_cmap(\"Reds\")\n"
     ]
    },
    {
     "data": {
      "text/html": [
       "<p style='font-family: monospace; text-decoration: none;'><span style=\"background-color: rgba(120, 4, 15, 0.7); padding: 2px 4px; margin: 2px; text-decoration: none;\">The</span> <span style=\"background-color: rgba(240, 63, 47, 0.7); padding: 2px 4px; margin: 2px; text-decoration: none;\">leader</span> <span style=\"background-color: rgba(251, 111, 79, 0.7); padding: 2px 4px; margin: 2px; text-decoration: none;\">guided</span> <span style=\"background-color: rgba(255, 255, 255, 0); padding: 2px 4px; margin: 2px; text-decoration: none;\">the</span> <span style=\"background-color: rgba(251, 106, 74, 0.7); padding: 2px 4px; margin: 2px; text-decoration: none;\">team</span> <span style=\"background-color: rgba(251, 136, 104, 0.7); padding: 2px 4px; margin: 2px; text-decoration: none;\">through</span> <span style=\"background-color: rgba(252, 151, 120, 0.7); padding: 2px 4px; margin: 2px; text-decoration: none;\">difficult</span> <span style=\"background-color: rgba(250, 105, 73, 0.7); padding: 2px 4px; margin: 2px; text-decoration: none;\">challenges</span> <span style=\"background-color: rgba(110, 1, 14, 0.7); padding: 2px 4px; margin: 2px; text-decoration: none;\">with</span> <span style=\"background-color: rgba(252, 158, 128, 0.7); padding: 2px 4px; margin: 2px; text-decoration: none;\">un</span> <span style=\"background-color: rgba(251, 138, 106, 0.7); padding: 2px 4px; margin: 2px; text-decoration: none;\">wa</span> <span style=\"background-color: rgba(252, 199, 177, 0.7); padding: 2px 4px; margin: 2px; text-decoration: none;\">ver</span> <span style=\"background-color: rgba(252, 205, 185, 0.7); padding: 2px 4px; margin: 2px; text-decoration: none;\">ing</span> <span style=\"background-color: rgba(252, 150, 119, 0.7); padding: 2px 4px; margin: 2px; text-decoration: none;\">determination</span> <span style=\"background-color: rgba(248, 96, 67, 0.7); padding: 2px 4px; margin: 2px; text-decoration: none;\">.</span> </p>"
      ],
      "text/plain": [
       "<IPython.core.display.HTML object>"
      ]
     },
     "metadata": {},
     "output_type": "display_data"
    },
    {
     "data": {
      "text/html": [
       "<p style='font-family: monospace; text-decoration: none;'><span style=\"background-color: rgba(120, 4, 15, 0.7); padding: 2px 4px; margin: 2px; text-decoration: none;\">Her</span> <span style=\"background-color: rgba(251, 110, 78, 0.7); padding: 2px 4px; margin: 2px; text-decoration: none;\">strategic</span> <span style=\"background-color: rgba(251, 120, 88, 0.7); padding: 2px 4px; margin: 2px; text-decoration: none;\">decisions</span> <span style=\"background-color: rgba(251, 112, 80, 0.7); padding: 2px 4px; margin: 2px; text-decoration: none;\">turned</span> <span style=\"background-color: rgba(251, 111, 79, 0.7); padding: 2px 4px; margin: 2px; text-decoration: none;\">the</span> <span style=\"background-color: rgba(250, 102, 71, 0.7); padding: 2px 4px; margin: 2px; text-decoration: none;\">company</span> <span style=\"background-color: rgba(249, 99, 69, 0.7); padding: 2px 4px; margin: 2px; text-decoration: none;\">around</span> <span style=\"background-color: rgba(251, 109, 77, 0.7); padding: 2px 4px; margin: 2px; text-decoration: none;\">during</span> <span style=\"background-color: rgba(251, 134, 102, 0.7); padding: 2px 4px; margin: 2px; text-decoration: none;\">a</span> <span style=\"background-color: rgba(251, 131, 99, 0.7); padding: 2px 4px; margin: 2px; text-decoration: none;\">financial</span> <span style=\"background-color: rgba(251, 117, 85, 0.7); padding: 2px 4px; margin: 2px; text-decoration: none;\">crisis</span> <span style=\"background-color: rgba(110, 1, 14, 0.7); padding: 2px 4px; margin: 2px; text-decoration: none;\">.</span> </p>"
      ],
      "text/plain": [
       "<IPython.core.display.HTML object>"
      ]
     },
     "metadata": {},
     "output_type": "display_data"
    },
    {
     "data": {
      "text/html": [
       "<p style='font-family: monospace; text-decoration: none;'><span style=\"background-color: rgba(118, 3, 15, 0.7); padding: 2px 4px; margin: 2px; text-decoration: none;\">He</span> <span style=\"background-color: rgba(248, 97, 68, 0.7); padding: 2px 4px; margin: 2px; text-decoration: none;\">inspired</span> <span style=\"background-color: rgba(251, 111, 79, 0.7); padding: 2px 4px; margin: 2px; text-decoration: none;\">his</span> <span style=\"background-color: rgba(246, 87, 62, 0.7); padding: 2px 4px; margin: 2px; text-decoration: none;\">soldiers</span> <span style=\"background-color: rgba(110, 1, 14, 0.7); padding: 2px 4px; margin: 2px; text-decoration: none;\">with</span> <span style=\"background-color: rgba(252, 151, 120, 0.7); padding: 2px 4px; margin: 2px; text-decoration: none;\">a</span> <span style=\"background-color: rgba(252, 164, 135, 0.7); padding: 2px 4px; margin: 2px; text-decoration: none;\">bold</span> <span style=\"background-color: rgba(251, 127, 95, 0.7); padding: 2px 4px; margin: 2px; text-decoration: none;\">plan</span> <span style=\"background-color: rgba(252, 146, 114, 0.7); padding: 2px 4px; margin: 2px; text-decoration: none;\">that</span> <span style=\"background-color: rgba(251, 140, 108, 0.7); padding: 2px 4px; margin: 2px; text-decoration: none;\">led</span> <span style=\"background-color: rgba(251, 126, 94, 0.7); padding: 2px 4px; margin: 2px; text-decoration: none;\">to</span> <span style=\"background-color: rgba(251, 141, 109, 0.7); padding: 2px 4px; margin: 2px; text-decoration: none;\">a</span> <span style=\"background-color: rgba(252, 149, 117, 0.7); padding: 2px 4px; margin: 2px; text-decoration: none;\">decis</span> <span style=\"background-color: rgba(252, 182, 156, 0.7); padding: 2px 4px; margin: 2px; text-decoration: none;\">ive</span> <span style=\"background-color: rgba(251, 130, 98, 0.7); padding: 2px 4px; margin: 2px; text-decoration: none;\">victory</span> <span style=\"background-color: rgba(251, 143, 111, 0.7); padding: 2px 4px; margin: 2px; text-decoration: none;\">.</span> </p>"
      ],
      "text/plain": [
       "<IPython.core.display.HTML object>"
      ]
     },
     "metadata": {},
     "output_type": "display_data"
    },
    {
     "data": {
      "text/html": [
       "<p style='font-family: monospace; text-decoration: none;'><span style=\"background-color: rgba(120, 4, 15, 0.7); padding: 2px 4px; margin: 2px; text-decoration: none;\">The</span> <span style=\"background-color: rgba(242, 72, 52, 0.7); padding: 2px 4px; margin: 2px; text-decoration: none;\">CEO</span> <span style=\"background-color: rgba(250, 102, 71, 0.7); padding: 2px 4px; margin: 2px; text-decoration: none;\">implemented</span> <span style=\"background-color: rgba(251, 139, 107, 0.7); padding: 2px 4px; margin: 2px; text-decoration: none;\">innovative</span> <span style=\"background-color: rgba(248, 96, 67, 0.7); padding: 2px 4px; margin: 2px; text-decoration: none;\">policies</span> <span style=\"background-color: rgba(110, 1, 14, 0.7); padding: 2px 4px; margin: 2px; text-decoration: none;\">that</span> <span style=\"background-color: rgba(252, 149, 117, 0.7); padding: 2px 4px; margin: 2px; text-decoration: none;\">boost</span> <span style=\"background-color: rgba(251, 143, 111, 0.7); padding: 2px 4px; margin: 2px; text-decoration: none;\">ed</span> <span style=\"background-color: rgba(251, 109, 77, 0.7); padding: 2px 4px; margin: 2px; text-decoration: none;\">employee</span> <span style=\"background-color: rgba(250, 103, 72, 0.7); padding: 2px 4px; margin: 2px; text-decoration: none;\">mor</span> <span style=\"background-color: rgba(251, 109, 77, 0.7); padding: 2px 4px; margin: 2px; text-decoration: none;\">ale</span> <span style=\"background-color: rgba(251, 117, 85, 0.7); padding: 2px 4px; margin: 2px; text-decoration: none;\">and</span> <span style=\"background-color: rgba(250, 102, 71, 0.7); padding: 2px 4px; margin: 2px; text-decoration: none;\">productivity</span> <span style=\"background-color: rgba(248, 96, 67, 0.7); padding: 2px 4px; margin: 2px; text-decoration: none;\">.</span> </p>"
      ],
      "text/plain": [
       "<IPython.core.display.HTML object>"
      ]
     },
     "metadata": {},
     "output_type": "display_data"
    },
    {
     "data": {
      "text/html": [
       "<p style='font-family: monospace; text-decoration: none;'><span style=\"background-color: rgba(118, 3, 15, 0.7); padding: 2px 4px; margin: 2px; text-decoration: none;\">She</span> <span style=\"background-color: rgba(249, 99, 69, 0.7); padding: 2px 4px; margin: 2px; text-decoration: none;\">organized</span> <span style=\"background-color: rgba(251, 109, 77, 0.7); padding: 2px 4px; margin: 2px; text-decoration: none;\">a</span> <span style=\"background-color: rgba(251, 110, 78, 0.7); padding: 2px 4px; margin: 2px; text-decoration: none;\">community</span> <span style=\"background-color: rgba(251, 117, 85, 0.7); padding: 2px 4px; margin: 2px; text-decoration: none;\">effort</span> <span style=\"background-color: rgba(110, 1, 14, 0.7); padding: 2px 4px; margin: 2px; text-decoration: none;\">to</span> <span style=\"background-color: rgba(251, 138, 106, 0.7); padding: 2px 4px; margin: 2px; text-decoration: none;\">re</span> <span style=\"background-color: rgba(251, 140, 108, 0.7); padding: 2px 4px; margin: 2px; text-decoration: none;\">build</span> <span style=\"background-color: rgba(251, 134, 102, 0.7); padding: 2px 4px; margin: 2px; text-decoration: none;\">the</span> <span style=\"background-color: rgba(251, 111, 79, 0.7); padding: 2px 4px; margin: 2px; text-decoration: none;\">town</span> <span style=\"background-color: rgba(251, 131, 99, 0.7); padding: 2px 4px; margin: 2px; text-decoration: none;\">after</span> <span style=\"background-color: rgba(251, 131, 99, 0.7); padding: 2px 4px; margin: 2px; text-decoration: none;\">the</span> <span style=\"background-color: rgba(252, 171, 142, 0.7); padding: 2px 4px; margin: 2px; text-decoration: none;\">devast</span> <span style=\"background-color: rgba(252, 151, 120, 0.7); padding: 2px 4px; margin: 2px; text-decoration: none;\">ating</span> <span style=\"background-color: rgba(251, 126, 94, 0.7); padding: 2px 4px; margin: 2px; text-decoration: none;\">storm</span> <span style=\"background-color: rgba(249, 100, 70, 0.7); padding: 2px 4px; margin: 2px; text-decoration: none;\">.</span> </p>"
      ],
      "text/plain": [
       "<IPython.core.display.HTML object>"
      ]
     },
     "metadata": {},
     "output_type": "display_data"
    },
    {
     "data": {
      "text/html": [
       "<p style='font-family: monospace; text-decoration: none;'><span style=\"background-color: rgba(120, 4, 15, 0.7); padding: 2px 4px; margin: 2px; text-decoration: none;\">The</span> <span style=\"background-color: rgba(241, 69, 50, 0.7); padding: 2px 4px; margin: 2px; text-decoration: none;\">manager</span> <span style=\"background-color: rgba(251, 111, 79, 0.7); padding: 2px 4px; margin: 2px; text-decoration: none;\">successfully</span> <span style=\"background-color: rgba(247, 91, 65, 0.7); padding: 2px 4px; margin: 2px; text-decoration: none;\">negoti</span> <span style=\"background-color: rgba(251, 120, 88, 0.7); padding: 2px 4px; margin: 2px; text-decoration: none;\">ated</span> <span style=\"background-color: rgba(251, 131, 99, 0.7); padding: 2px 4px; margin: 2px; text-decoration: none;\">a</span> <span style=\"background-color: rgba(251, 119, 87, 0.7); padding: 2px 4px; margin: 2px; text-decoration: none;\">critical</span> <span style=\"background-color: rgba(251, 109, 77, 0.7); padding: 2px 4px; margin: 2px; text-decoration: none;\">deal</span> <span style=\"background-color: rgba(110, 1, 14, 0.7); padding: 2px 4px; margin: 2px; text-decoration: none;\">that</span> <span style=\"background-color: rgba(251, 145, 113, 0.7); padding: 2px 4px; margin: 2px; text-decoration: none;\">saved</span> <span style=\"background-color: rgba(252, 148, 116, 0.7); padding: 2px 4px; margin: 2px; text-decoration: none;\">the</span> <span style=\"background-color: rgba(251, 116, 84, 0.7); padding: 2px 4px; margin: 2px; text-decoration: none;\">partnership</span> <span style=\"background-color: rgba(251, 114, 82, 0.7); padding: 2px 4px; margin: 2px; text-decoration: none;\">.</span> </p>"
      ],
      "text/plain": [
       "<IPython.core.display.HTML object>"
      ]
     },
     "metadata": {},
     "output_type": "display_data"
    },
    {
     "data": {
      "text/html": [
       "<p style='font-family: monospace; text-decoration: none;'><span style=\"background-color: rgba(118, 3, 15, 0.7); padding: 2px 4px; margin: 2px; text-decoration: none;\">He</span> <span style=\"background-color: rgba(241, 69, 50, 0.7); padding: 2px 4px; margin: 2px; text-decoration: none;\">r</span> <span style=\"background-color: rgba(241, 69, 50, 0.7); padding: 2px 4px; margin: 2px; text-decoration: none;\">all</span> <span style=\"background-color: rgba(250, 103, 72, 0.7); padding: 2px 4px; margin: 2px; text-decoration: none;\">ied</span> <span style=\"background-color: rgba(251, 115, 83, 0.7); padding: 2px 4px; margin: 2px; text-decoration: none;\">the</span> <span style=\"background-color: rgba(248, 94, 66, 0.7); padding: 2px 4px; margin: 2px; text-decoration: none;\">team</span> <span style=\"background-color: rgba(110, 1, 14, 0.7); padding: 2px 4px; margin: 2px; text-decoration: none;\">to</span> <span style=\"background-color: rgba(251, 132, 100, 0.7); padding: 2px 4px; margin: 2px; text-decoration: none;\">achieve</span> <span style=\"background-color: rgba(251, 132, 100, 0.7); padding: 2px 4px; margin: 2px; text-decoration: none;\">a</span> <span style=\"background-color: rgba(251, 122, 90, 0.7); padding: 2px 4px; margin: 2px; text-decoration: none;\">record</span> <span style=\"background-color: rgba(251, 143, 111, 0.7); padding: 2px 4px; margin: 2px; text-decoration: none;\">-</span> <span style=\"background-color: rgba(252, 150, 119, 0.7); padding: 2px 4px; margin: 2px; text-decoration: none;\">breaking</span> <span style=\"background-color: rgba(251, 107, 75, 0.7); padding: 2px 4px; margin: 2px; text-decoration: none;\">performance</span> <span style=\"background-color: rgba(251, 122, 90, 0.7); padding: 2px 4px; margin: 2px; text-decoration: none;\">in</span> <span style=\"background-color: rgba(251, 121, 89, 0.7); padding: 2px 4px; margin: 2px; text-decoration: none;\">the</span> <span style=\"background-color: rgba(250, 102, 71, 0.7); padding: 2px 4px; margin: 2px; text-decoration: none;\">quarter</span> <span style=\"background-color: rgba(251, 121, 89, 0.7); padding: 2px 4px; margin: 2px; text-decoration: none;\">.</span> </p>"
      ],
      "text/plain": [
       "<IPython.core.display.HTML object>"
      ]
     },
     "metadata": {},
     "output_type": "display_data"
    },
    {
     "data": {
      "text/html": [
       "<p style='font-family: monospace; text-decoration: none;'><span style=\"background-color: rgba(120, 4, 15, 0.7); padding: 2px 4px; margin: 2px; text-decoration: none;\">Her</span> <span style=\"background-color: rgba(236, 56, 42, 0.7); padding: 2px 4px; margin: 2px; text-decoration: none;\">spe</span> <span style=\"background-color: rgba(208, 29, 31, 0.7); padding: 2px 4px; margin: 2px; text-decoration: none;\">e</span> <span style=\"background-color: rgba(250, 102, 71, 0.7); padding: 2px 4px; margin: 2px; text-decoration: none;\">ches</span> <span style=\"background-color: rgba(249, 100, 70, 0.7); padding: 2px 4px; margin: 2px; text-decoration: none;\">have</span> <span style=\"background-color: rgba(250, 103, 72, 0.7); padding: 2px 4px; margin: 2px; text-decoration: none;\">motivated</span> <span style=\"background-color: rgba(251, 119, 87, 0.7); padding: 2px 4px; margin: 2px; text-decoration: none;\">countless</span> <span style=\"background-color: rgba(251, 116, 84, 0.7); padding: 2px 4px; margin: 2px; text-decoration: none;\">individuals</span> <span style=\"background-color: rgba(110, 1, 14, 0.7); padding: 2px 4px; margin: 2px; text-decoration: none;\">to</span> <span style=\"background-color: rgba(255, 255, 255, 0); padding: 2px 4px; margin: 2px; text-decoration: none;\">pursue</span> <span style=\"background-color: rgba(255, 255, 255, 0); padding: 2px 4px; margin: 2px; text-decoration: none;\">their</span> <span style=\"background-color: rgba(252, 163, 134, 0.7); padding: 2px 4px; margin: 2px; text-decoration: none;\">dreams</span> <span style=\"background-color: rgba(252, 146, 114, 0.7); padding: 2px 4px; margin: 2px; text-decoration: none;\">and</span> <span style=\"background-color: rgba(252, 150, 119, 0.7); padding: 2px 4px; margin: 2px; text-decoration: none;\">amb</span> <span style=\"background-color: rgba(252, 167, 138, 0.7); padding: 2px 4px; margin: 2px; text-decoration: none;\">itions</span> <span style=\"background-color: rgba(251, 136, 104, 0.7); padding: 2px 4px; margin: 2px; text-decoration: none;\">.</span> </p>"
      ],
      "text/plain": [
       "<IPython.core.display.HTML object>"
      ]
     },
     "metadata": {},
     "output_type": "display_data"
    },
    {
     "data": {
      "text/html": [
       "<p style='font-family: monospace; text-decoration: none;'><span style=\"background-color: rgba(120, 4, 15, 0.7); padding: 2px 4px; margin: 2px; text-decoration: none;\">The</span> <span style=\"background-color: rgba(244, 80, 57, 0.7); padding: 2px 4px; margin: 2px; text-decoration: none;\">mayor</span> <span style=\"background-color: rgba(248, 94, 66, 0.7); padding: 2px 4px; margin: 2px; text-decoration: none;\">took</span> <span style=\"background-color: rgba(251, 136, 104, 0.7); padding: 2px 4px; margin: 2px; text-decoration: none;\">swift</span> <span style=\"background-color: rgba(251, 110, 78, 0.7); padding: 2px 4px; margin: 2px; text-decoration: none;\">action</span> <span style=\"background-color: rgba(110, 1, 14, 0.7); padding: 2px 4px; margin: 2px; text-decoration: none;\">to</span> <span style=\"background-color: rgba(251, 130, 98, 0.7); padding: 2px 4px; margin: 2px; text-decoration: none;\">address</span> <span style=\"background-color: rgba(251, 119, 87, 0.7); padding: 2px 4px; margin: 2px; text-decoration: none;\">the</span> <span style=\"background-color: rgba(249, 100, 70, 0.7); padding: 2px 4px; margin: 2px; text-decoration: none;\">concerns</span> <span style=\"background-color: rgba(251, 145, 113, 0.7); padding: 2px 4px; margin: 2px; text-decoration: none;\">of</span> <span style=\"background-color: rgba(251, 139, 107, 0.7); padding: 2px 4px; margin: 2px; text-decoration: none;\">the</span> <span style=\"background-color: rgba(247, 90, 64, 0.7); padding: 2px 4px; margin: 2px; text-decoration: none;\">citizens</span> <span style=\"background-color: rgba(251, 129, 97, 0.7); padding: 2px 4px; margin: 2px; text-decoration: none;\">during</span> <span style=\"background-color: rgba(251, 112, 80, 0.7); padding: 2px 4px; margin: 2px; text-decoration: none;\">the</span> <span style=\"background-color: rgba(250, 105, 73, 0.7); padding: 2px 4px; margin: 2px; text-decoration: none;\">emergency</span> <span style=\"background-color: rgba(251, 114, 82, 0.7); padding: 2px 4px; margin: 2px; text-decoration: none;\">.</span> </p>"
      ],
      "text/plain": [
       "<IPython.core.display.HTML object>"
      ]
     },
     "metadata": {},
     "output_type": "display_data"
    },
    {
     "data": {
      "text/html": [
       "<p style='font-family: monospace; text-decoration: none;'><span style=\"background-color: rgba(118, 3, 15, 0.7); padding: 2px 4px; margin: 2px; text-decoration: none;\">He</span> <span style=\"background-color: rgba(248, 97, 68, 0.7); padding: 2px 4px; margin: 2px; text-decoration: none;\">led</span> <span style=\"background-color: rgba(251, 132, 100, 0.7); padding: 2px 4px; margin: 2px; text-decoration: none;\">the</span> <span style=\"background-color: rgba(251, 120, 88, 0.7); padding: 2px 4px; margin: 2px; text-decoration: none;\">research</span> <span style=\"background-color: rgba(251, 145, 113, 0.7); padding: 2px 4px; margin: 2px; text-decoration: none;\">team</span> <span style=\"background-color: rgba(110, 1, 14, 0.7); padding: 2px 4px; margin: 2px; text-decoration: none;\">to</span> <span style=\"background-color: rgba(251, 143, 111, 0.7); padding: 2px 4px; margin: 2px; text-decoration: none;\">develop</span> <span style=\"background-color: rgba(251, 126, 94, 0.7); padding: 2px 4px; margin: 2px; text-decoration: none;\">ground</span> <span style=\"background-color: rgba(252, 157, 126, 0.7); padding: 2px 4px; margin: 2px; text-decoration: none;\">breaking</span> <span style=\"background-color: rgba(251, 122, 90, 0.7); padding: 2px 4px; margin: 2px; text-decoration: none;\">technology</span> <span style=\"background-color: rgba(252, 154, 123, 0.7); padding: 2px 4px; margin: 2px; text-decoration: none;\">that</span> <span style=\"background-color: rgba(251, 143, 111, 0.7); padding: 2px 4px; margin: 2px; text-decoration: none;\">revolution</span> <span style=\"background-color: rgba(255, 255, 255, 0); padding: 2px 4px; margin: 2px; text-decoration: none;\">ized</span> <span style=\"background-color: rgba(255, 255, 255, 0); padding: 2px 4px; margin: 2px; text-decoration: none;\">the</span> <span style=\"background-color: rgba(250, 105, 73, 0.7); padding: 2px 4px; margin: 2px; text-decoration: none;\">industry</span> <span style=\"background-color: rgba(251, 129, 97, 0.7); padding: 2px 4px; margin: 2px; text-decoration: none;\">.</span> </p>"
      ],
      "text/plain": [
       "<IPython.core.display.HTML object>"
      ]
     },
     "metadata": {},
     "output_type": "display_data"
    },
    {
     "data": {
      "text/html": [
       "<p style='font-family: monospace; text-decoration: none;'><span style=\"background-color: rgba(120, 4, 15, 0.7); padding: 2px 4px; margin: 2px; text-decoration: none;\">The</span> <span style=\"background-color: rgba(242, 71, 51, 0.7); padding: 2px 4px; margin: 2px; text-decoration: none;\">principal</span> <span style=\"background-color: rgba(247, 91, 65, 0.7); padding: 2px 4px; margin: 2px; text-decoration: none;\">transformed</span> <span style=\"background-color: rgba(249, 100, 70, 0.7); padding: 2px 4px; margin: 2px; text-decoration: none;\">the</span> <span style=\"background-color: rgba(251, 129, 97, 0.7); padding: 2px 4px; margin: 2px; text-decoration: none;\">failing</span> <span style=\"background-color: rgba(247, 90, 64, 0.7); padding: 2px 4px; margin: 2px; text-decoration: none;\">school</span> <span style=\"background-color: rgba(251, 114, 82, 0.7); padding: 2px 4px; margin: 2px; text-decoration: none;\">into</span> <span style=\"background-color: rgba(250, 105, 73, 0.7); padding: 2px 4px; margin: 2px; text-decoration: none;\">one</span> <span style=\"background-color: rgba(110, 1, 14, 0.7); padding: 2px 4px; margin: 2px; text-decoration: none;\">of</span> <span style=\"background-color: rgba(252, 155, 125, 0.7); padding: 2px 4px; margin: 2px; text-decoration: none;\">the</span> <span style=\"background-color: rgba(252, 153, 122, 0.7); padding: 2px 4px; margin: 2px; text-decoration: none;\">top</span> <span style=\"background-color: rgba(251, 145, 113, 0.7); padding: 2px 4px; margin: 2px; text-decoration: none;\">institutions</span> <span style=\"background-color: rgba(252, 160, 131, 0.7); padding: 2px 4px; margin: 2px; text-decoration: none;\">in</span> <span style=\"background-color: rgba(251, 143, 111, 0.7); padding: 2px 4px; margin: 2px; text-decoration: none;\">the</span> <span style=\"background-color: rgba(242, 72, 52, 0.7); padding: 2px 4px; margin: 2px; text-decoration: none;\">district</span> <span style=\"background-color: rgba(251, 119, 87, 0.7); padding: 2px 4px; margin: 2px; text-decoration: none;\">.</span> </p>"
      ],
      "text/plain": [
       "<IPython.core.display.HTML object>"
      ]
     },
     "metadata": {},
     "output_type": "display_data"
    },
    {
     "data": {
      "text/html": [
       "<p style='font-family: monospace; text-decoration: none;'><span style=\"background-color: rgba(118, 3, 15, 0.7); padding: 2px 4px; margin: 2px; text-decoration: none;\">She</span> <span style=\"background-color: rgba(249, 100, 70, 0.7); padding: 2px 4px; margin: 2px; text-decoration: none;\">established</span> <span style=\"background-color: rgba(251, 116, 84, 0.7); padding: 2px 4px; margin: 2px; text-decoration: none;\">a</span> <span style=\"background-color: rgba(249, 99, 69, 0.7); padding: 2px 4px; margin: 2px; text-decoration: none;\">global</span> <span style=\"background-color: rgba(246, 89, 63, 0.7); padding: 2px 4px; margin: 2px; text-decoration: none;\">initiative</span> <span style=\"background-color: rgba(110, 1, 14, 0.7); padding: 2px 4px; margin: 2px; text-decoration: none;\">to</span> <span style=\"background-color: rgba(251, 134, 102, 0.7); padding: 2px 4px; margin: 2px; text-decoration: none;\">tackle</span> <span style=\"background-color: rgba(247, 90, 64, 0.7); padding: 2px 4px; margin: 2px; text-decoration: none;\">climate</span> <span style=\"background-color: rgba(251, 134, 102, 0.7); padding: 2px 4px; margin: 2px; text-decoration: none;\">change</span> <span style=\"background-color: rgba(250, 103, 72, 0.7); padding: 2px 4px; margin: 2px; text-decoration: none;\">and</span> <span style=\"background-color: rgba(252, 146, 114, 0.7); padding: 2px 4px; margin: 2px; text-decoration: none;\">promote</span> <span style=\"background-color: rgba(251, 139, 107, 0.7); padding: 2px 4px; margin: 2px; text-decoration: none;\">sustain</span> <span style=\"background-color: rgba(252, 148, 116, 0.7); padding: 2px 4px; margin: 2px; text-decoration: none;\">ability</span> <span style=\"background-color: rgba(249, 99, 69, 0.7); padding: 2px 4px; margin: 2px; text-decoration: none;\">.</span> </p>"
      ],
      "text/plain": [
       "<IPython.core.display.HTML object>"
      ]
     },
     "metadata": {},
     "output_type": "display_data"
    },
    {
     "data": {
      "text/html": [
       "<p style='font-family: monospace; text-decoration: none;'><span style=\"background-color: rgba(120, 4, 15, 0.7); padding: 2px 4px; margin: 2px; text-decoration: none;\">The</span> <span style=\"background-color: rgba(241, 66, 49, 0.7); padding: 2px 4px; margin: 2px; text-decoration: none;\">coach</span> <span style=\"background-color: rgba(224, 45, 38, 0.7); padding: 2px 4px; margin: 2px; text-decoration: none;\">inst</span> <span style=\"background-color: rgba(251, 145, 113, 0.7); padding: 2px 4px; margin: 2px; text-decoration: none;\">illed</span> <span style=\"background-color: rgba(246, 87, 62, 0.7); padding: 2px 4px; margin: 2px; text-decoration: none;\">discipline</span> <span style=\"background-color: rgba(110, 1, 14, 0.7); padding: 2px 4px; margin: 2px; text-decoration: none;\">and</span> <span style=\"background-color: rgba(251, 143, 111, 0.7); padding: 2px 4px; margin: 2px; text-decoration: none;\">team</span> <span style=\"background-color: rgba(251, 127, 95, 0.7); padding: 2px 4px; margin: 2px; text-decoration: none;\">work</span> <span style=\"background-color: rgba(251, 141, 109, 0.7); padding: 2px 4px; margin: 2px; text-decoration: none;\">to</span> <span style=\"background-color: rgba(251, 135, 103, 0.7); padding: 2px 4px; margin: 2px; text-decoration: none;\">lead</span> <span style=\"background-color: rgba(252, 153, 122, 0.7); padding: 2px 4px; margin: 2px; text-decoration: none;\">the</span> <span style=\"background-color: rgba(252, 146, 114, 0.7); padding: 2px 4px; margin: 2px; text-decoration: none;\">under</span> <span style=\"background-color: rgba(252, 169, 141, 0.7); padding: 2px 4px; margin: 2px; text-decoration: none;\">dog</span> <span style=\"background-color: rgba(252, 155, 125, 0.7); padding: 2px 4px; margin: 2px; text-decoration: none;\">team</span> <span style=\"background-color: rgba(252, 175, 147, 0.7); padding: 2px 4px; margin: 2px; text-decoration: none;\">to</span> <span style=\"background-color: rgba(252, 167, 138, 0.7); padding: 2px 4px; margin: 2px; text-decoration: none;\">the</span> <span style=\"background-color: rgba(251, 117, 85, 0.7); padding: 2px 4px; margin: 2px; text-decoration: none;\">championship</span> <span style=\"background-color: rgba(250, 102, 71, 0.7); padding: 2px 4px; margin: 2px; text-decoration: none;\">.</span> </p>"
      ],
      "text/plain": [
       "<IPython.core.display.HTML object>"
      ]
     },
     "metadata": {},
     "output_type": "display_data"
    },
    {
     "data": {
      "text/html": [
       "<p style='font-family: monospace; text-decoration: none;'><span style=\"background-color: rgba(118, 3, 15, 0.7); padding: 2px 4px; margin: 2px; text-decoration: none;\">He</span> <span style=\"background-color: rgba(247, 90, 64, 0.7); padding: 2px 4px; margin: 2px; text-decoration: none;\">introduced</span> <span style=\"background-color: rgba(244, 81, 58, 0.7); padding: 2px 4px; margin: 2px; text-decoration: none;\">reform</span> <span style=\"background-color: rgba(246, 89, 63, 0.7); padding: 2px 4px; margin: 2px; text-decoration: none;\">s</span> <span style=\"background-color: rgba(110, 1, 14, 0.7); padding: 2px 4px; margin: 2px; text-decoration: none;\">that</span> <span style=\"background-color: rgba(251, 122, 90, 0.7); padding: 2px 4px; margin: 2px; text-decoration: none;\">improved</span> <span style=\"background-color: rgba(248, 97, 68, 0.7); padding: 2px 4px; margin: 2px; text-decoration: none;\">trans</span> <span style=\"background-color: rgba(251, 106, 74, 0.7); padding: 2px 4px; margin: 2px; text-decoration: none;\">parency</span> <span style=\"background-color: rgba(251, 117, 85, 0.7); padding: 2px 4px; margin: 2px; text-decoration: none;\">and</span> <span style=\"background-color: rgba(251, 110, 78, 0.7); padding: 2px 4px; margin: 2px; text-decoration: none;\">trust</span> <span style=\"background-color: rgba(252, 164, 135, 0.7); padding: 2px 4px; margin: 2px; text-decoration: none;\">in</span> <span style=\"background-color: rgba(251, 136, 104, 0.7); padding: 2px 4px; margin: 2px; text-decoration: none;\">the</span> <span style=\"background-color: rgba(248, 96, 67, 0.7); padding: 2px 4px; margin: 2px; text-decoration: none;\">government</span> <span style=\"background-color: rgba(249, 100, 70, 0.7); padding: 2px 4px; margin: 2px; text-decoration: none;\">.</span> </p>"
      ],
      "text/plain": [
       "<IPython.core.display.HTML object>"
      ]
     },
     "metadata": {},
     "output_type": "display_data"
    },
    {
     "data": {
      "text/html": [
       "<p style='font-family: monospace; text-decoration: none;'><span style=\"background-color: rgba(120, 4, 15, 0.7); padding: 2px 4px; margin: 2px; text-decoration: none;\">The</span> <span style=\"background-color: rgba(242, 74, 53, 0.7); padding: 2px 4px; margin: 2px; text-decoration: none;\">director</span> <span style=\"background-color: rgba(246, 87, 62, 0.7); padding: 2px 4px; margin: 2px; text-decoration: none;\">managed</span> <span style=\"background-color: rgba(110, 1, 14, 0.7); padding: 2px 4px; margin: 2px; text-decoration: none;\">to</span> <span style=\"background-color: rgba(251, 144, 112, 0.7); padding: 2px 4px; margin: 2px; text-decoration: none;\">turn</span> <span style=\"background-color: rgba(251, 139, 107, 0.7); padding: 2px 4px; margin: 2px; text-decoration: none;\">a</span> <span style=\"background-color: rgba(251, 126, 94, 0.7); padding: 2px 4px; margin: 2px; text-decoration: none;\">small</span> <span style=\"background-color: rgba(251, 125, 93, 0.7); padding: 2px 4px; margin: 2px; text-decoration: none;\">startup</span> <span style=\"background-color: rgba(251, 139, 107, 0.7); padding: 2px 4px; margin: 2px; text-decoration: none;\">into</span> <span style=\"background-color: rgba(251, 143, 111, 0.7); padding: 2px 4px; margin: 2px; text-decoration: none;\">a</span> <span style=\"background-color: rgba(252, 154, 123, 0.7); padding: 2px 4px; margin: 2px; text-decoration: none;\">leading</span> <span style=\"background-color: rgba(251, 127, 95, 0.7); padding: 2px 4px; margin: 2px; text-decoration: none;\">company</span> <span style=\"background-color: rgba(252, 159, 129, 0.7); padding: 2px 4px; margin: 2px; text-decoration: none;\">in</span> <span style=\"background-color: rgba(252, 149, 117, 0.7); padding: 2px 4px; margin: 2px; text-decoration: none;\">the</span> <span style=\"background-color: rgba(251, 122, 90, 0.7); padding: 2px 4px; margin: 2px; text-decoration: none;\">tech</span> <span style=\"background-color: rgba(252, 148, 116, 0.7); padding: 2px 4px; margin: 2px; text-decoration: none;\">sector</span> <span style=\"background-color: rgba(250, 103, 72, 0.7); padding: 2px 4px; margin: 2px; text-decoration: none;\">.</span> </p>"
      ],
      "text/plain": [
       "<IPython.core.display.HTML object>"
      ]
     },
     "metadata": {},
     "output_type": "display_data"
    },
    {
     "data": {
      "text/html": [
       "<p style='font-family: monospace; text-decoration: none;'><span style=\"background-color: rgba(120, 4, 15, 0.7); padding: 2px 4px; margin: 2px; text-decoration: none;\">Her</span> <span style=\"background-color: rgba(249, 99, 69, 0.7); padding: 2px 4px; margin: 2px; text-decoration: none;\">bold</span> <span style=\"background-color: rgba(245, 83, 59, 0.7); padding: 2px 4px; margin: 2px; text-decoration: none;\">vision</span> <span style=\"background-color: rgba(110, 1, 14, 0.7); padding: 2px 4px; margin: 2px; text-decoration: none;\">for</span> <span style=\"background-color: rgba(255, 255, 255, 0); padding: 2px 4px; margin: 2px; text-decoration: none;\">the</span> <span style=\"background-color: rgba(251, 115, 83, 0.7); padding: 2px 4px; margin: 2px; text-decoration: none;\">future</span> <span style=\"background-color: rgba(251, 117, 85, 0.7); padding: 2px 4px; margin: 2px; text-decoration: none;\">inspired</span> <span style=\"background-color: rgba(251, 143, 111, 0.7); padding: 2px 4px; margin: 2px; text-decoration: none;\">her</span> <span style=\"background-color: rgba(246, 87, 62, 0.7); padding: 2px 4px; margin: 2px; text-decoration: none;\">colleagues</span> <span style=\"background-color: rgba(251, 109, 77, 0.7); padding: 2px 4px; margin: 2px; text-decoration: none;\">to</span> <span style=\"background-color: rgba(255, 255, 255, 0); padding: 2px 4px; margin: 2px; text-decoration: none;\">embrace</span> <span style=\"background-color: rgba(255, 255, 255, 0); padding: 2px 4px; margin: 2px; text-decoration: none;\">innovative</span> <span style=\"background-color: rgba(251, 140, 108, 0.7); padding: 2px 4px; margin: 2px; text-decoration: none;\">solutions</span> <span style=\"background-color: rgba(251, 143, 111, 0.7); padding: 2px 4px; margin: 2px; text-decoration: none;\">.</span> </p>"
      ],
      "text/plain": [
       "<IPython.core.display.HTML object>"
      ]
     },
     "metadata": {},
     "output_type": "display_data"
    },
    {
     "data": {
      "text/html": [
       "<p style='font-family: monospace; text-decoration: none;'><span style=\"background-color: rgba(120, 4, 15, 0.7); padding: 2px 4px; margin: 2px; text-decoration: none;\">The</span> <span style=\"background-color: rgba(228, 48, 39, 0.7); padding: 2px 4px; margin: 2px; text-decoration: none;\">adm</span> <span style=\"background-color: rgba(251, 115, 83, 0.7); padding: 2px 4px; margin: 2px; text-decoration: none;\">iral</span> <span style=\"background-color: rgba(248, 97, 68, 0.7); padding: 2px 4px; margin: 2px; text-decoration: none;\">made</span> <span style=\"background-color: rgba(251, 112, 80, 0.7); padding: 2px 4px; margin: 2px; text-decoration: none;\">critical</span> <span style=\"background-color: rgba(251, 112, 80, 0.7); padding: 2px 4px; margin: 2px; text-decoration: none;\">decisions</span> <span style=\"background-color: rgba(251, 124, 92, 0.7); padding: 2px 4px; margin: 2px; text-decoration: none;\">during</span> <span style=\"background-color: rgba(251, 120, 88, 0.7); padding: 2px 4px; margin: 2px; text-decoration: none;\">the</span> <span style=\"background-color: rgba(250, 102, 71, 0.7); padding: 2px 4px; margin: 2px; text-decoration: none;\">naval</span> <span style=\"background-color: rgba(247, 93, 66, 0.7); padding: 2px 4px; margin: 2px; text-decoration: none;\">mission</span> <span style=\"background-color: rgba(110, 1, 14, 0.7); padding: 2px 4px; margin: 2px; text-decoration: none;\">,</span> <span style=\"background-color: rgba(252, 169, 141, 0.7); padding: 2px 4px; margin: 2px; text-decoration: none;\">ensuring</span> <span style=\"background-color: rgba(252, 153, 122, 0.7); padding: 2px 4px; margin: 2px; text-decoration: none;\">the</span> <span style=\"background-color: rgba(252, 164, 135, 0.7); padding: 2px 4px; margin: 2px; text-decoration: none;\">safety</span> <span style=\"background-color: rgba(252, 186, 160, 0.7); padding: 2px 4px; margin: 2px; text-decoration: none;\">of</span> <span style=\"background-color: rgba(255, 255, 255, 0); padding: 2px 4px; margin: 2px; text-decoration: none;\">his</span> <span style=\"background-color: rgba(251, 116, 84, 0.7); padding: 2px 4px; margin: 2px; text-decoration: none;\">fleet</span> <span style=\"background-color: rgba(251, 129, 97, 0.7); padding: 2px 4px; margin: 2px; text-decoration: none;\">.</span> </p>"
      ],
      "text/plain": [
       "<IPython.core.display.HTML object>"
      ]
     },
     "metadata": {},
     "output_type": "display_data"
    },
    {
     "data": {
      "text/html": [
       "<p style='font-family: monospace; text-decoration: none;'><span style=\"background-color: rgba(120, 4, 15, 0.7); padding: 2px 4px; margin: 2px; text-decoration: none;\">The</span> <span style=\"background-color: rgba(242, 71, 51, 0.7); padding: 2px 4px; margin: 2px; text-decoration: none;\">activ</span> <span style=\"background-color: rgba(251, 135, 103, 0.7); padding: 2px 4px; margin: 2px; text-decoration: none;\">ist</span> <span style=\"background-color: rgba(251, 129, 97, 0.7); padding: 2px 4px; margin: 2px; text-decoration: none;\">mobil</span> <span style=\"background-color: rgba(251, 126, 94, 0.7); padding: 2px 4px; margin: 2px; text-decoration: none;\">ized</span> <span style=\"background-color: rgba(251, 119, 87, 0.7); padding: 2px 4px; margin: 2px; text-decoration: none;\">a</span> <span style=\"background-color: rgba(251, 119, 87, 0.7); padding: 2px 4px; margin: 2px; text-decoration: none;\">massive</span> <span style=\"background-color: rgba(248, 96, 67, 0.7); padding: 2px 4px; margin: 2px; text-decoration: none;\">movement</span> <span style=\"background-color: rgba(110, 1, 14, 0.7); padding: 2px 4px; margin: 2px; text-decoration: none;\">for</span> <span style=\"background-color: rgba(252, 146, 114, 0.7); padding: 2px 4px; margin: 2px; text-decoration: none;\">social</span> <span style=\"background-color: rgba(251, 126, 94, 0.7); padding: 2px 4px; margin: 2px; text-decoration: none;\">justice</span> <span style=\"background-color: rgba(251, 134, 102, 0.7); padding: 2px 4px; margin: 2px; text-decoration: none;\">and</span> <span style=\"background-color: rgba(251, 139, 107, 0.7); padding: 2px 4px; margin: 2px; text-decoration: none;\">equality</span> <span style=\"background-color: rgba(249, 99, 69, 0.7); padding: 2px 4px; margin: 2px; text-decoration: none;\">.</span> </p>"
      ],
      "text/plain": [
       "<IPython.core.display.HTML object>"
      ]
     },
     "metadata": {},
     "output_type": "display_data"
    },
    {
     "data": {
      "text/html": [
       "<p style='font-family: monospace; text-decoration: none;'><span style=\"background-color: rgba(120, 4, 15, 0.7); padding: 2px 4px; margin: 2px; text-decoration: none;\">The</span> <span style=\"background-color: rgba(246, 87, 62, 0.7); padding: 2px 4px; margin: 2px; text-decoration: none;\">commander</span> <span style=\"background-color: rgba(242, 71, 51, 0.7); padding: 2px 4px; margin: 2px; text-decoration: none;\">dev</span> <span style=\"background-color: rgba(251, 122, 90, 0.7); padding: 2px 4px; margin: 2px; text-decoration: none;\">ised</span> <span style=\"background-color: rgba(251, 144, 112, 0.7); padding: 2px 4px; margin: 2px; text-decoration: none;\">a</span> <span style=\"background-color: rgba(252, 150, 119, 0.7); padding: 2px 4px; margin: 2px; text-decoration: none;\">brilliant</span> <span style=\"background-color: rgba(251, 114, 82, 0.7); padding: 2px 4px; margin: 2px; text-decoration: none;\">strategy</span> <span style=\"background-color: rgba(110, 1, 14, 0.7); padding: 2px 4px; margin: 2px; text-decoration: none;\">that</span> <span style=\"background-color: rgba(251, 131, 99, 0.7); padding: 2px 4px; margin: 2px; text-decoration: none;\">secured</span> <span style=\"background-color: rgba(251, 114, 82, 0.7); padding: 2px 4px; margin: 2px; text-decoration: none;\">victory</span> <span style=\"background-color: rgba(251, 145, 113, 0.7); padding: 2px 4px; margin: 2px; text-decoration: none;\">in</span> <span style=\"background-color: rgba(251, 121, 89, 0.7); padding: 2px 4px; margin: 2px; text-decoration: none;\">the</span> <span style=\"background-color: rgba(251, 144, 112, 0.7); padding: 2px 4px; margin: 2px; text-decoration: none;\">final</span> <span style=\"background-color: rgba(250, 102, 71, 0.7); padding: 2px 4px; margin: 2px; text-decoration: none;\">battle</span> <span style=\"background-color: rgba(251, 138, 106, 0.7); padding: 2px 4px; margin: 2px; text-decoration: none;\">.</span> </p>"
      ],
      "text/plain": [
       "<IPython.core.display.HTML object>"
      ]
     },
     "metadata": {},
     "output_type": "display_data"
    },
    {
     "data": {
      "text/html": [
       "<p style='font-family: monospace; text-decoration: none;'><span style=\"background-color: rgba(120, 4, 15, 0.7); padding: 2px 4px; margin: 2px; text-decoration: none;\">The</span> <span style=\"background-color: rgba(244, 80, 57, 0.7); padding: 2px 4px; margin: 2px; text-decoration: none;\">cat</span> <span style=\"background-color: rgba(251, 131, 99, 0.7); padding: 2px 4px; margin: 2px; text-decoration: none;\">jumped</span> <span style=\"background-color: rgba(252, 146, 114, 0.7); padding: 2px 4px; margin: 2px; text-decoration: none;\">over</span> <span style=\"background-color: rgba(252, 148, 116, 0.7); padding: 2px 4px; margin: 2px; text-decoration: none;\">the</span> <span style=\"background-color: rgba(248, 96, 67, 0.7); padding: 2px 4px; margin: 2px; text-decoration: none;\">fence</span> <span style=\"background-color: rgba(110, 1, 14, 0.7); padding: 2px 4px; margin: 2px; text-decoration: none;\">and</span> <span style=\"background-color: rgba(251, 131, 99, 0.7); padding: 2px 4px; margin: 2px; text-decoration: none;\">ch</span> <span style=\"background-color: rgba(252, 172, 144, 0.7); padding: 2px 4px; margin: 2px; text-decoration: none;\">ased</span> <span style=\"background-color: rgba(252, 164, 135, 0.7); padding: 2px 4px; margin: 2px; text-decoration: none;\">a</span> <span style=\"background-color: rgba(252, 159, 129, 0.7); padding: 2px 4px; margin: 2px; text-decoration: none;\">butter</span> <span style=\"background-color: rgba(252, 153, 122, 0.7); padding: 2px 4px; margin: 2px; text-decoration: none;\">fly</span> <span style=\"background-color: rgba(252, 177, 150, 0.7); padding: 2px 4px; margin: 2px; text-decoration: none;\">in</span> <span style=\"background-color: rgba(252, 158, 128, 0.7); padding: 2px 4px; margin: 2px; text-decoration: none;\">the</span> <span style=\"background-color: rgba(251, 124, 92, 0.7); padding: 2px 4px; margin: 2px; text-decoration: none;\">back</span> <span style=\"background-color: rgba(251, 111, 79, 0.7); padding: 2px 4px; margin: 2px; text-decoration: none;\">yard</span> <span style=\"background-color: rgba(251, 115, 83, 0.7); padding: 2px 4px; margin: 2px; text-decoration: none;\">.</span> </p>"
      ],
      "text/plain": [
       "<IPython.core.display.HTML object>"
      ]
     },
     "metadata": {},
     "output_type": "display_data"
    },
    {
     "name": "stdout",
     "output_type": "stream",
     "text": [
      "\n",
      "Visualizing Feature 89360\n"
     ]
    },
    {
     "data": {
      "text/html": [
       "<p style='font-family: monospace; text-decoration: none;'><span style=\"background-color: rgba(124, 5, 15, 0.7); padding: 2px 4px; margin: 2px; text-decoration: none;\">The</span> <span style=\"background-color: rgba(243, 77, 55, 0.7); padding: 2px 4px; margin: 2px; text-decoration: none;\">leader</span> <span style=\"background-color: rgba(251, 117, 85, 0.7); padding: 2px 4px; margin: 2px; text-decoration: none;\">guided</span> <span style=\"background-color: rgba(251, 130, 98, 0.7); padding: 2px 4px; margin: 2px; text-decoration: none;\">the</span> <span style=\"background-color: rgba(251, 106, 74, 0.7); padding: 2px 4px; margin: 2px; text-decoration: none;\">team</span> <span style=\"background-color: rgba(251, 127, 95, 0.7); padding: 2px 4px; margin: 2px; text-decoration: none;\">through</span> <span style=\"background-color: rgba(252, 149, 117, 0.7); padding: 2px 4px; margin: 2px; text-decoration: none;\">difficult</span> <span style=\"background-color: rgba(250, 105, 73, 0.7); padding: 2px 4px; margin: 2px; text-decoration: none;\">challenges</span> <span style=\"background-color: rgba(108, 1, 13, 0.7); padding: 2px 4px; margin: 2px; text-decoration: none;\">with</span> <span style=\"background-color: rgba(252, 168, 139, 0.7); padding: 2px 4px; margin: 2px; text-decoration: none;\">un</span> <span style=\"background-color: rgba(252, 160, 131, 0.7); padding: 2px 4px; margin: 2px; text-decoration: none;\">wa</span> <span style=\"background-color: rgba(255, 255, 255, 0); padding: 2px 4px; margin: 2px; text-decoration: none;\">ver</span> <span style=\"background-color: rgba(255, 255, 255, 0); padding: 2px 4px; margin: 2px; text-decoration: none;\">ing</span> <span style=\"background-color: rgba(252, 166, 137, 0.7); padding: 2px 4px; margin: 2px; text-decoration: none;\">determination</span> <span style=\"background-color: rgba(251, 106, 74, 0.7); padding: 2px 4px; margin: 2px; text-decoration: none;\">.</span> </p>"
      ],
      "text/plain": [
       "<IPython.core.display.HTML object>"
      ]
     },
     "metadata": {},
     "output_type": "display_data"
    },
    {
     "data": {
      "text/html": [
       "<p style='font-family: monospace; text-decoration: none;'><span style=\"background-color: rgba(126, 5, 16, 0.7); padding: 2px 4px; margin: 2px; text-decoration: none;\">Her</span> <span style=\"background-color: rgba(251, 120, 88, 0.7); padding: 2px 4px; margin: 2px; text-decoration: none;\">strategic</span> <span style=\"background-color: rgba(251, 126, 94, 0.7); padding: 2px 4px; margin: 2px; text-decoration: none;\">decisions</span> <span style=\"background-color: rgba(251, 122, 90, 0.7); padding: 2px 4px; margin: 2px; text-decoration: none;\">turned</span> <span style=\"background-color: rgba(251, 109, 77, 0.7); padding: 2px 4px; margin: 2px; text-decoration: none;\">the</span> <span style=\"background-color: rgba(250, 103, 72, 0.7); padding: 2px 4px; margin: 2px; text-decoration: none;\">company</span> <span style=\"background-color: rgba(251, 111, 79, 0.7); padding: 2px 4px; margin: 2px; text-decoration: none;\">around</span> <span style=\"background-color: rgba(251, 112, 80, 0.7); padding: 2px 4px; margin: 2px; text-decoration: none;\">during</span> <span style=\"background-color: rgba(251, 135, 103, 0.7); padding: 2px 4px; margin: 2px; text-decoration: none;\">a</span> <span style=\"background-color: rgba(251, 145, 113, 0.7); padding: 2px 4px; margin: 2px; text-decoration: none;\">financial</span> <span style=\"background-color: rgba(251, 136, 104, 0.7); padding: 2px 4px; margin: 2px; text-decoration: none;\">crisis</span> <span style=\"background-color: rgba(108, 1, 13, 0.7); padding: 2px 4px; margin: 2px; text-decoration: none;\">.</span> </p>"
      ],
      "text/plain": [
       "<IPython.core.display.HTML object>"
      ]
     },
     "metadata": {},
     "output_type": "display_data"
    },
    {
     "data": {
      "text/html": [
       "<p style='font-family: monospace; text-decoration: none;'><span style=\"background-color: rgba(124, 5, 15, 0.7); padding: 2px 4px; margin: 2px; text-decoration: none;\">He</span> <span style=\"background-color: rgba(250, 102, 71, 0.7); padding: 2px 4px; margin: 2px; text-decoration: none;\">inspired</span> <span style=\"background-color: rgba(251, 107, 75, 0.7); padding: 2px 4px; margin: 2px; text-decoration: none;\">his</span> <span style=\"background-color: rgba(247, 91, 65, 0.7); padding: 2px 4px; margin: 2px; text-decoration: none;\">soldiers</span> <span style=\"background-color: rgba(108, 1, 13, 0.7); padding: 2px 4px; margin: 2px; text-decoration: none;\">with</span> <span style=\"background-color: rgba(252, 148, 116, 0.7); padding: 2px 4px; margin: 2px; text-decoration: none;\">a</span> <span style=\"background-color: rgba(252, 168, 139, 0.7); padding: 2px 4px; margin: 2px; text-decoration: none;\">bold</span> <span style=\"background-color: rgba(251, 131, 99, 0.7); padding: 2px 4px; margin: 2px; text-decoration: none;\">plan</span> <span style=\"background-color: rgba(252, 146, 114, 0.7); padding: 2px 4px; margin: 2px; text-decoration: none;\">that</span> <span style=\"background-color: rgba(251, 143, 111, 0.7); padding: 2px 4px; margin: 2px; text-decoration: none;\">led</span> <span style=\"background-color: rgba(251, 120, 88, 0.7); padding: 2px 4px; margin: 2px; text-decoration: none;\">to</span> <span style=\"background-color: rgba(251, 134, 102, 0.7); padding: 2px 4px; margin: 2px; text-decoration: none;\">a</span> <span style=\"background-color: rgba(252, 173, 145, 0.7); padding: 2px 4px; margin: 2px; text-decoration: none;\">decis</span> <span style=\"background-color: rgba(252, 182, 156, 0.7); padding: 2px 4px; margin: 2px; text-decoration: none;\">ive</span> <span style=\"background-color: rgba(251, 138, 106, 0.7); padding: 2px 4px; margin: 2px; text-decoration: none;\">victory</span> <span style=\"background-color: rgba(252, 155, 125, 0.7); padding: 2px 4px; margin: 2px; text-decoration: none;\">.</span> </p>"
      ],
      "text/plain": [
       "<IPython.core.display.HTML object>"
      ]
     },
     "metadata": {},
     "output_type": "display_data"
    },
    {
     "data": {
      "text/html": [
       "<p style='font-family: monospace; text-decoration: none;'><span style=\"background-color: rgba(124, 5, 15, 0.7); padding: 2px 4px; margin: 2px; text-decoration: none;\">The</span> <span style=\"background-color: rgba(247, 91, 65, 0.7); padding: 2px 4px; margin: 2px; text-decoration: none;\">CEO</span> <span style=\"background-color: rgba(251, 106, 74, 0.7); padding: 2px 4px; margin: 2px; text-decoration: none;\">implemented</span> <span style=\"background-color: rgba(251, 136, 104, 0.7); padding: 2px 4px; margin: 2px; text-decoration: none;\">innovative</span> <span style=\"background-color: rgba(249, 100, 70, 0.7); padding: 2px 4px; margin: 2px; text-decoration: none;\">policies</span> <span style=\"background-color: rgba(108, 1, 13, 0.7); padding: 2px 4px; margin: 2px; text-decoration: none;\">that</span> <span style=\"background-color: rgba(252, 154, 123, 0.7); padding: 2px 4px; margin: 2px; text-decoration: none;\">boost</span> <span style=\"background-color: rgba(251, 136, 104, 0.7); padding: 2px 4px; margin: 2px; text-decoration: none;\">ed</span> <span style=\"background-color: rgba(251, 111, 79, 0.7); padding: 2px 4px; margin: 2px; text-decoration: none;\">employee</span> <span style=\"background-color: rgba(251, 129, 97, 0.7); padding: 2px 4px; margin: 2px; text-decoration: none;\">mor</span> <span style=\"background-color: rgba(251, 119, 87, 0.7); padding: 2px 4px; margin: 2px; text-decoration: none;\">ale</span> <span style=\"background-color: rgba(251, 114, 82, 0.7); padding: 2px 4px; margin: 2px; text-decoration: none;\">and</span> <span style=\"background-color: rgba(251, 114, 82, 0.7); padding: 2px 4px; margin: 2px; text-decoration: none;\">productivity</span> <span style=\"background-color: rgba(251, 107, 75, 0.7); padding: 2px 4px; margin: 2px; text-decoration: none;\">.</span> </p>"
      ],
      "text/plain": [
       "<IPython.core.display.HTML object>"
      ]
     },
     "metadata": {},
     "output_type": "display_data"
    },
    {
     "data": {
      "text/html": [
       "<p style='font-family: monospace; text-decoration: none;'><span style=\"background-color: rgba(124, 5, 15, 0.7); padding: 2px 4px; margin: 2px; text-decoration: none;\">She</span> <span style=\"background-color: rgba(249, 99, 69, 0.7); padding: 2px 4px; margin: 2px; text-decoration: none;\">organized</span> <span style=\"background-color: rgba(249, 99, 69, 0.7); padding: 2px 4px; margin: 2px; text-decoration: none;\">a</span> <span style=\"background-color: rgba(251, 110, 78, 0.7); padding: 2px 4px; margin: 2px; text-decoration: none;\">community</span> <span style=\"background-color: rgba(251, 120, 88, 0.7); padding: 2px 4px; margin: 2px; text-decoration: none;\">effort</span> <span style=\"background-color: rgba(108, 1, 13, 0.7); padding: 2px 4px; margin: 2px; text-decoration: none;\">to</span> <span style=\"background-color: rgba(251, 139, 107, 0.7); padding: 2px 4px; margin: 2px; text-decoration: none;\">re</span> <span style=\"background-color: rgba(251, 143, 111, 0.7); padding: 2px 4px; margin: 2px; text-decoration: none;\">build</span> <span style=\"background-color: rgba(251, 129, 97, 0.7); padding: 2px 4px; margin: 2px; text-decoration: none;\">the</span> <span style=\"background-color: rgba(251, 120, 88, 0.7); padding: 2px 4px; margin: 2px; text-decoration: none;\">town</span> <span style=\"background-color: rgba(251, 136, 104, 0.7); padding: 2px 4px; margin: 2px; text-decoration: none;\">after</span> <span style=\"background-color: rgba(251, 132, 100, 0.7); padding: 2px 4px; margin: 2px; text-decoration: none;\">the</span> <span style=\"background-color: rgba(255, 255, 255, 0); padding: 2px 4px; margin: 2px; text-decoration: none;\">devast</span> <span style=\"background-color: rgba(252, 157, 126, 0.7); padding: 2px 4px; margin: 2px; text-decoration: none;\">ating</span> <span style=\"background-color: rgba(252, 146, 114, 0.7); padding: 2px 4px; margin: 2px; text-decoration: none;\">storm</span> <span style=\"background-color: rgba(251, 111, 79, 0.7); padding: 2px 4px; margin: 2px; text-decoration: none;\">.</span> </p>"
      ],
      "text/plain": [
       "<IPython.core.display.HTML object>"
      ]
     },
     "metadata": {},
     "output_type": "display_data"
    },
    {
     "data": {
      "text/html": [
       "<p style='font-family: monospace; text-decoration: none;'><span style=\"background-color: rgba(124, 5, 15, 0.7); padding: 2px 4px; margin: 2px; text-decoration: none;\">The</span> <span style=\"background-color: rgba(245, 86, 61, 0.7); padding: 2px 4px; margin: 2px; text-decoration: none;\">manager</span> <span style=\"background-color: rgba(251, 117, 85, 0.7); padding: 2px 4px; margin: 2px; text-decoration: none;\">successfully</span> <span style=\"background-color: rgba(251, 109, 77, 0.7); padding: 2px 4px; margin: 2px; text-decoration: none;\">negoti</span> <span style=\"background-color: rgba(251, 121, 89, 0.7); padding: 2px 4px; margin: 2px; text-decoration: none;\">ated</span> <span style=\"background-color: rgba(251, 129, 97, 0.7); padding: 2px 4px; margin: 2px; text-decoration: none;\">a</span> <span style=\"background-color: rgba(251, 125, 93, 0.7); padding: 2px 4px; margin: 2px; text-decoration: none;\">critical</span> <span style=\"background-color: rgba(251, 115, 83, 0.7); padding: 2px 4px; margin: 2px; text-decoration: none;\">deal</span> <span style=\"background-color: rgba(108, 1, 13, 0.7); padding: 2px 4px; margin: 2px; text-decoration: none;\">that</span> <span style=\"background-color: rgba(252, 149, 117, 0.7); padding: 2px 4px; margin: 2px; text-decoration: none;\">saved</span> <span style=\"background-color: rgba(251, 141, 109, 0.7); padding: 2px 4px; margin: 2px; text-decoration: none;\">the</span> <span style=\"background-color: rgba(251, 125, 93, 0.7); padding: 2px 4px; margin: 2px; text-decoration: none;\">partnership</span> <span style=\"background-color: rgba(251, 127, 95, 0.7); padding: 2px 4px; margin: 2px; text-decoration: none;\">.</span> </p>"
      ],
      "text/plain": [
       "<IPython.core.display.HTML object>"
      ]
     },
     "metadata": {},
     "output_type": "display_data"
    },
    {
     "data": {
      "text/html": [
       "<p style='font-family: monospace; text-decoration: none;'><span style=\"background-color: rgba(124, 5, 15, 0.7); padding: 2px 4px; margin: 2px; text-decoration: none;\">He</span> <span style=\"background-color: rgba(246, 89, 63, 0.7); padding: 2px 4px; margin: 2px; text-decoration: none;\">r</span> <span style=\"background-color: rgba(248, 97, 68, 0.7); padding: 2px 4px; margin: 2px; text-decoration: none;\">all</span> <span style=\"background-color: rgba(251, 115, 83, 0.7); padding: 2px 4px; margin: 2px; text-decoration: none;\">ied</span> <span style=\"background-color: rgba(251, 109, 77, 0.7); padding: 2px 4px; margin: 2px; text-decoration: none;\">the</span> <span style=\"background-color: rgba(249, 100, 70, 0.7); padding: 2px 4px; margin: 2px; text-decoration: none;\">team</span> <span style=\"background-color: rgba(108, 1, 13, 0.7); padding: 2px 4px; margin: 2px; text-decoration: none;\">to</span> <span style=\"background-color: rgba(251, 127, 95, 0.7); padding: 2px 4px; margin: 2px; text-decoration: none;\">achieve</span> <span style=\"background-color: rgba(251, 126, 94, 0.7); padding: 2px 4px; margin: 2px; text-decoration: none;\">a</span> <span style=\"background-color: rgba(251, 138, 106, 0.7); padding: 2px 4px; margin: 2px; text-decoration: none;\">record</span> <span style=\"background-color: rgba(252, 163, 134, 0.7); padding: 2px 4px; margin: 2px; text-decoration: none;\">-</span> <span style=\"background-color: rgba(252, 153, 122, 0.7); padding: 2px 4px; margin: 2px; text-decoration: none;\">breaking</span> <span style=\"background-color: rgba(251, 110, 78, 0.7); padding: 2px 4px; margin: 2px; text-decoration: none;\">performance</span> <span style=\"background-color: rgba(251, 115, 83, 0.7); padding: 2px 4px; margin: 2px; text-decoration: none;\">in</span> <span style=\"background-color: rgba(251, 114, 82, 0.7); padding: 2px 4px; margin: 2px; text-decoration: none;\">the</span> <span style=\"background-color: rgba(251, 117, 85, 0.7); padding: 2px 4px; margin: 2px; text-decoration: none;\">quarter</span> <span style=\"background-color: rgba(251, 138, 106, 0.7); padding: 2px 4px; margin: 2px; text-decoration: none;\">.</span> </p>"
      ],
      "text/plain": [
       "<IPython.core.display.HTML object>"
      ]
     },
     "metadata": {},
     "output_type": "display_data"
    },
    {
     "data": {
      "text/html": [
       "<p style='font-family: monospace; text-decoration: none;'><span style=\"background-color: rgba(126, 5, 16, 0.7); padding: 2px 4px; margin: 2px; text-decoration: none;\">Her</span> <span style=\"background-color: rgba(241, 69, 50, 0.7); padding: 2px 4px; margin: 2px; text-decoration: none;\">spe</span> <span style=\"background-color: rgba(228, 48, 39, 0.7); padding: 2px 4px; margin: 2px; text-decoration: none;\">e</span> <span style=\"background-color: rgba(251, 107, 75, 0.7); padding: 2px 4px; margin: 2px; text-decoration: none;\">ches</span> <span style=\"background-color: rgba(251, 107, 75, 0.7); padding: 2px 4px; margin: 2px; text-decoration: none;\">have</span> <span style=\"background-color: rgba(251, 106, 74, 0.7); padding: 2px 4px; margin: 2px; text-decoration: none;\">motivated</span> <span style=\"background-color: rgba(251, 119, 87, 0.7); padding: 2px 4px; margin: 2px; text-decoration: none;\">countless</span> <span style=\"background-color: rgba(251, 117, 85, 0.7); padding: 2px 4px; margin: 2px; text-decoration: none;\">individuals</span> <span style=\"background-color: rgba(108, 1, 13, 0.7); padding: 2px 4px; margin: 2px; text-decoration: none;\">to</span> <span style=\"background-color: rgba(252, 168, 139, 0.7); padding: 2px 4px; margin: 2px; text-decoration: none;\">pursue</span> <span style=\"background-color: rgba(252, 185, 159, 0.7); padding: 2px 4px; margin: 2px; text-decoration: none;\">their</span> <span style=\"background-color: rgba(252, 163, 134, 0.7); padding: 2px 4px; margin: 2px; text-decoration: none;\">dreams</span> <span style=\"background-color: rgba(251, 145, 113, 0.7); padding: 2px 4px; margin: 2px; text-decoration: none;\">and</span> <span style=\"background-color: rgba(252, 162, 132, 0.7); padding: 2px 4px; margin: 2px; text-decoration: none;\">amb</span> <span style=\"background-color: rgba(252, 166, 137, 0.7); padding: 2px 4px; margin: 2px; text-decoration: none;\">itions</span> <span style=\"background-color: rgba(252, 151, 120, 0.7); padding: 2px 4px; margin: 2px; text-decoration: none;\">.</span> </p>"
      ],
      "text/plain": [
       "<IPython.core.display.HTML object>"
      ]
     },
     "metadata": {},
     "output_type": "display_data"
    },
    {
     "data": {
      "text/html": [
       "<p style='font-family: monospace; text-decoration: none;'><span style=\"background-color: rgba(124, 5, 15, 0.7); padding: 2px 4px; margin: 2px; text-decoration: none;\">The</span> <span style=\"background-color: rgba(249, 100, 70, 0.7); padding: 2px 4px; margin: 2px; text-decoration: none;\">mayor</span> <span style=\"background-color: rgba(251, 107, 75, 0.7); padding: 2px 4px; margin: 2px; text-decoration: none;\">took</span> <span style=\"background-color: rgba(252, 151, 120, 0.7); padding: 2px 4px; margin: 2px; text-decoration: none;\">swift</span> <span style=\"background-color: rgba(251, 119, 87, 0.7); padding: 2px 4px; margin: 2px; text-decoration: none;\">action</span> <span style=\"background-color: rgba(108, 1, 13, 0.7); padding: 2px 4px; margin: 2px; text-decoration: none;\">to</span> <span style=\"background-color: rgba(251, 129, 97, 0.7); padding: 2px 4px; margin: 2px; text-decoration: none;\">address</span> <span style=\"background-color: rgba(251, 116, 84, 0.7); padding: 2px 4px; margin: 2px; text-decoration: none;\">the</span> <span style=\"background-color: rgba(251, 110, 78, 0.7); padding: 2px 4px; margin: 2px; text-decoration: none;\">concerns</span> <span style=\"background-color: rgba(251, 140, 108, 0.7); padding: 2px 4px; margin: 2px; text-decoration: none;\">of</span> <span style=\"background-color: rgba(251, 131, 99, 0.7); padding: 2px 4px; margin: 2px; text-decoration: none;\">the</span> <span style=\"background-color: rgba(248, 97, 68, 0.7); padding: 2px 4px; margin: 2px; text-decoration: none;\">citizens</span> <span style=\"background-color: rgba(251, 129, 97, 0.7); padding: 2px 4px; margin: 2px; text-decoration: none;\">during</span> <span style=\"background-color: rgba(251, 107, 75, 0.7); padding: 2px 4px; margin: 2px; text-decoration: none;\">the</span> <span style=\"background-color: rgba(251, 115, 83, 0.7); padding: 2px 4px; margin: 2px; text-decoration: none;\">emergency</span> <span style=\"background-color: rgba(251, 125, 93, 0.7); padding: 2px 4px; margin: 2px; text-decoration: none;\">.</span> </p>"
      ],
      "text/plain": [
       "<IPython.core.display.HTML object>"
      ]
     },
     "metadata": {},
     "output_type": "display_data"
    },
    {
     "data": {
      "text/html": [
       "<p style='font-family: monospace; text-decoration: none;'><span style=\"background-color: rgba(124, 5, 15, 0.7); padding: 2px 4px; margin: 2px; text-decoration: none;\">He</span> <span style=\"background-color: rgba(251, 109, 77, 0.7); padding: 2px 4px; margin: 2px; text-decoration: none;\">led</span> <span style=\"background-color: rgba(251, 135, 103, 0.7); padding: 2px 4px; margin: 2px; text-decoration: none;\">the</span> <span style=\"background-color: rgba(251, 121, 89, 0.7); padding: 2px 4px; margin: 2px; text-decoration: none;\">research</span> <span style=\"background-color: rgba(251, 144, 112, 0.7); padding: 2px 4px; margin: 2px; text-decoration: none;\">team</span> <span style=\"background-color: rgba(108, 1, 13, 0.7); padding: 2px 4px; margin: 2px; text-decoration: none;\">to</span> <span style=\"background-color: rgba(251, 127, 95, 0.7); padding: 2px 4px; margin: 2px; text-decoration: none;\">develop</span> <span style=\"background-color: rgba(251, 130, 98, 0.7); padding: 2px 4px; margin: 2px; text-decoration: none;\">ground</span> <span style=\"background-color: rgba(252, 148, 116, 0.7); padding: 2px 4px; margin: 2px; text-decoration: none;\">breaking</span> <span style=\"background-color: rgba(251, 114, 82, 0.7); padding: 2px 4px; margin: 2px; text-decoration: none;\">technology</span> <span style=\"background-color: rgba(251, 144, 112, 0.7); padding: 2px 4px; margin: 2px; text-decoration: none;\">that</span> <span style=\"background-color: rgba(252, 151, 120, 0.7); padding: 2px 4px; margin: 2px; text-decoration: none;\">revolution</span> <span style=\"background-color: rgba(252, 146, 114, 0.7); padding: 2px 4px; margin: 2px; text-decoration: none;\">ized</span> <span style=\"background-color: rgba(251, 126, 94, 0.7); padding: 2px 4px; margin: 2px; text-decoration: none;\">the</span> <span style=\"background-color: rgba(251, 109, 77, 0.7); padding: 2px 4px; margin: 2px; text-decoration: none;\">industry</span> <span style=\"background-color: rgba(251, 136, 104, 0.7); padding: 2px 4px; margin: 2px; text-decoration: none;\">.</span> </p>"
      ],
      "text/plain": [
       "<IPython.core.display.HTML object>"
      ]
     },
     "metadata": {},
     "output_type": "display_data"
    },
    {
     "data": {
      "text/html": [
       "<p style='font-family: monospace; text-decoration: none;'><span style=\"background-color: rgba(124, 5, 15, 0.7); padding: 2px 4px; margin: 2px; text-decoration: none;\">The</span> <span style=\"background-color: rgba(245, 83, 59, 0.7); padding: 2px 4px; margin: 2px; text-decoration: none;\">principal</span> <span style=\"background-color: rgba(250, 103, 72, 0.7); padding: 2px 4px; margin: 2px; text-decoration: none;\">transformed</span> <span style=\"background-color: rgba(250, 105, 73, 0.7); padding: 2px 4px; margin: 2px; text-decoration: none;\">the</span> <span style=\"background-color: rgba(251, 135, 103, 0.7); padding: 2px 4px; margin: 2px; text-decoration: none;\">failing</span> <span style=\"background-color: rgba(250, 103, 72, 0.7); padding: 2px 4px; margin: 2px; text-decoration: none;\">school</span> <span style=\"background-color: rgba(251, 115, 83, 0.7); padding: 2px 4px; margin: 2px; text-decoration: none;\">into</span> <span style=\"background-color: rgba(251, 110, 78, 0.7); padding: 2px 4px; margin: 2px; text-decoration: none;\">one</span> <span style=\"background-color: rgba(108, 1, 13, 0.7); padding: 2px 4px; margin: 2px; text-decoration: none;\">of</span> <span style=\"background-color: rgba(252, 157, 126, 0.7); padding: 2px 4px; margin: 2px; text-decoration: none;\">the</span> <span style=\"background-color: rgba(252, 159, 129, 0.7); padding: 2px 4px; margin: 2px; text-decoration: none;\">top</span> <span style=\"background-color: rgba(252, 153, 122, 0.7); padding: 2px 4px; margin: 2px; text-decoration: none;\">institutions</span> <span style=\"background-color: rgba(252, 159, 129, 0.7); padding: 2px 4px; margin: 2px; text-decoration: none;\">in</span> <span style=\"background-color: rgba(251, 144, 112, 0.7); padding: 2px 4px; margin: 2px; text-decoration: none;\">the</span> <span style=\"background-color: rgba(247, 90, 64, 0.7); padding: 2px 4px; margin: 2px; text-decoration: none;\">district</span> <span style=\"background-color: rgba(251, 135, 103, 0.7); padding: 2px 4px; margin: 2px; text-decoration: none;\">.</span> </p>"
      ],
      "text/plain": [
       "<IPython.core.display.HTML object>"
      ]
     },
     "metadata": {},
     "output_type": "display_data"
    },
    {
     "data": {
      "text/html": [
       "<p style='font-family: monospace; text-decoration: none;'><span style=\"background-color: rgba(124, 5, 15, 0.7); padding: 2px 4px; margin: 2px; text-decoration: none;\">She</span> <span style=\"background-color: rgba(250, 105, 73, 0.7); padding: 2px 4px; margin: 2px; text-decoration: none;\">established</span> <span style=\"background-color: rgba(251, 107, 75, 0.7); padding: 2px 4px; margin: 2px; text-decoration: none;\">a</span> <span style=\"background-color: rgba(250, 102, 71, 0.7); padding: 2px 4px; margin: 2px; text-decoration: none;\">global</span> <span style=\"background-color: rgba(247, 91, 65, 0.7); padding: 2px 4px; margin: 2px; text-decoration: none;\">initiative</span> <span style=\"background-color: rgba(108, 1, 13, 0.7); padding: 2px 4px; margin: 2px; text-decoration: none;\">to</span> <span style=\"background-color: rgba(251, 127, 95, 0.7); padding: 2px 4px; margin: 2px; text-decoration: none;\">tackle</span> <span style=\"background-color: rgba(251, 106, 74, 0.7); padding: 2px 4px; margin: 2px; text-decoration: none;\">climate</span> <span style=\"background-color: rgba(251, 143, 111, 0.7); padding: 2px 4px; margin: 2px; text-decoration: none;\">change</span> <span style=\"background-color: rgba(251, 107, 75, 0.7); padding: 2px 4px; margin: 2px; text-decoration: none;\">and</span> <span style=\"background-color: rgba(251, 140, 108, 0.7); padding: 2px 4px; margin: 2px; text-decoration: none;\">promote</span> <span style=\"background-color: rgba(252, 151, 120, 0.7); padding: 2px 4px; margin: 2px; text-decoration: none;\">sustain</span> <span style=\"background-color: rgba(252, 153, 122, 0.7); padding: 2px 4px; margin: 2px; text-decoration: none;\">ability</span> <span style=\"background-color: rgba(251, 111, 79, 0.7); padding: 2px 4px; margin: 2px; text-decoration: none;\">.</span> </p>"
      ],
      "text/plain": [
       "<IPython.core.display.HTML object>"
      ]
     },
     "metadata": {},
     "output_type": "display_data"
    },
    {
     "data": {
      "text/html": [
       "<p style='font-family: monospace; text-decoration: none;'><span style=\"background-color: rgba(124, 5, 15, 0.7); padding: 2px 4px; margin: 2px; text-decoration: none;\">The</span> <span style=\"background-color: rgba(245, 86, 61, 0.7); padding: 2px 4px; margin: 2px; text-decoration: none;\">coach</span> <span style=\"background-color: rgba(239, 62, 46, 0.7); padding: 2px 4px; margin: 2px; text-decoration: none;\">inst</span> <span style=\"background-color: rgba(252, 149, 117, 0.7); padding: 2px 4px; margin: 2px; text-decoration: none;\">illed</span> <span style=\"background-color: rgba(249, 99, 69, 0.7); padding: 2px 4px; margin: 2px; text-decoration: none;\">discipline</span> <span style=\"background-color: rgba(110, 1, 14, 0.7); padding: 2px 4px; margin: 2px; text-decoration: none;\">and</span> <span style=\"background-color: rgba(252, 151, 120, 0.7); padding: 2px 4px; margin: 2px; text-decoration: none;\">team</span> <span style=\"background-color: rgba(251, 135, 103, 0.7); padding: 2px 4px; margin: 2px; text-decoration: none;\">work</span> <span style=\"background-color: rgba(251, 136, 104, 0.7); padding: 2px 4px; margin: 2px; text-decoration: none;\">to</span> <span style=\"background-color: rgba(251, 132, 100, 0.7); padding: 2px 4px; margin: 2px; text-decoration: none;\">lead</span> <span style=\"background-color: rgba(251, 144, 112, 0.7); padding: 2px 4px; margin: 2px; text-decoration: none;\">the</span> <span style=\"background-color: rgba(252, 158, 128, 0.7); padding: 2px 4px; margin: 2px; text-decoration: none;\">under</span> <span style=\"background-color: rgba(252, 178, 151, 0.7); padding: 2px 4px; margin: 2px; text-decoration: none;\">dog</span> <span style=\"background-color: rgba(252, 159, 129, 0.7); padding: 2px 4px; margin: 2px; text-decoration: none;\">team</span> <span style=\"background-color: rgba(252, 172, 144, 0.7); padding: 2px 4px; margin: 2px; text-decoration: none;\">to</span> <span style=\"background-color: rgba(252, 164, 135, 0.7); padding: 2px 4px; margin: 2px; text-decoration: none;\">the</span> <span style=\"background-color: rgba(251, 130, 98, 0.7); padding: 2px 4px; margin: 2px; text-decoration: none;\">championship</span> <span style=\"background-color: rgba(251, 111, 79, 0.7); padding: 2px 4px; margin: 2px; text-decoration: none;\">.</span> </p>"
      ],
      "text/plain": [
       "<IPython.core.display.HTML object>"
      ]
     },
     "metadata": {},
     "output_type": "display_data"
    },
    {
     "data": {
      "text/html": [
       "<p style='font-family: monospace; text-decoration: none;'><span style=\"background-color: rgba(124, 5, 15, 0.7); padding: 2px 4px; margin: 2px; text-decoration: none;\">He</span> <span style=\"background-color: rgba(248, 97, 68, 0.7); padding: 2px 4px; margin: 2px; text-decoration: none;\">introduced</span> <span style=\"background-color: rgba(248, 96, 67, 0.7); padding: 2px 4px; margin: 2px; text-decoration: none;\">reform</span> <span style=\"background-color: rgba(247, 91, 65, 0.7); padding: 2px 4px; margin: 2px; text-decoration: none;\">s</span> <span style=\"background-color: rgba(108, 1, 13, 0.7); padding: 2px 4px; margin: 2px; text-decoration: none;\">that</span> <span style=\"background-color: rgba(251, 121, 89, 0.7); padding: 2px 4px; margin: 2px; text-decoration: none;\">improved</span> <span style=\"background-color: rgba(251, 112, 80, 0.7); padding: 2px 4px; margin: 2px; text-decoration: none;\">trans</span> <span style=\"background-color: rgba(251, 119, 87, 0.7); padding: 2px 4px; margin: 2px; text-decoration: none;\">parency</span> <span style=\"background-color: rgba(251, 120, 88, 0.7); padding: 2px 4px; margin: 2px; text-decoration: none;\">and</span> <span style=\"background-color: rgba(251, 125, 93, 0.7); padding: 2px 4px; margin: 2px; text-decoration: none;\">trust</span> <span style=\"background-color: rgba(252, 159, 129, 0.7); padding: 2px 4px; margin: 2px; text-decoration: none;\">in</span> <span style=\"background-color: rgba(251, 131, 99, 0.7); padding: 2px 4px; margin: 2px; text-decoration: none;\">the</span> <span style=\"background-color: rgba(250, 103, 72, 0.7); padding: 2px 4px; margin: 2px; text-decoration: none;\">government</span> <span style=\"background-color: rgba(251, 115, 83, 0.7); padding: 2px 4px; margin: 2px; text-decoration: none;\">.</span> </p>"
      ],
      "text/plain": [
       "<IPython.core.display.HTML object>"
      ]
     },
     "metadata": {},
     "output_type": "display_data"
    },
    {
     "data": {
      "text/html": [
       "<p style='font-family: monospace; text-decoration: none;'><span style=\"background-color: rgba(124, 5, 15, 0.7); padding: 2px 4px; margin: 2px; text-decoration: none;\">The</span> <span style=\"background-color: rgba(246, 89, 63, 0.7); padding: 2px 4px; margin: 2px; text-decoration: none;\">director</span> <span style=\"background-color: rgba(248, 96, 67, 0.7); padding: 2px 4px; margin: 2px; text-decoration: none;\">managed</span> <span style=\"background-color: rgba(108, 1, 13, 0.7); padding: 2px 4px; margin: 2px; text-decoration: none;\">to</span> <span style=\"background-color: rgba(251, 141, 109, 0.7); padding: 2px 4px; margin: 2px; text-decoration: none;\">turn</span> <span style=\"background-color: rgba(251, 130, 98, 0.7); padding: 2px 4px; margin: 2px; text-decoration: none;\">a</span> <span style=\"background-color: rgba(251, 127, 95, 0.7); padding: 2px 4px; margin: 2px; text-decoration: none;\">small</span> <span style=\"background-color: rgba(251, 125, 93, 0.7); padding: 2px 4px; margin: 2px; text-decoration: none;\">startup</span> <span style=\"background-color: rgba(251, 134, 102, 0.7); padding: 2px 4px; margin: 2px; text-decoration: none;\">into</span> <span style=\"background-color: rgba(251, 132, 100, 0.7); padding: 2px 4px; margin: 2px; text-decoration: none;\">a</span> <span style=\"background-color: rgba(252, 149, 117, 0.7); padding: 2px 4px; margin: 2px; text-decoration: none;\">leading</span> <span style=\"background-color: rgba(251, 129, 97, 0.7); padding: 2px 4px; margin: 2px; text-decoration: none;\">company</span> <span style=\"background-color: rgba(252, 151, 120, 0.7); padding: 2px 4px; margin: 2px; text-decoration: none;\">in</span> <span style=\"background-color: rgba(251, 138, 106, 0.7); padding: 2px 4px; margin: 2px; text-decoration: none;\">the</span> <span style=\"background-color: rgba(251, 125, 93, 0.7); padding: 2px 4px; margin: 2px; text-decoration: none;\">tech</span> <span style=\"background-color: rgba(252, 155, 125, 0.7); padding: 2px 4px; margin: 2px; text-decoration: none;\">sector</span> <span style=\"background-color: rgba(251, 112, 80, 0.7); padding: 2px 4px; margin: 2px; text-decoration: none;\">.</span> </p>"
      ],
      "text/plain": [
       "<IPython.core.display.HTML object>"
      ]
     },
     "metadata": {},
     "output_type": "display_data"
    },
    {
     "data": {
      "text/html": [
       "<p style='font-family: monospace; text-decoration: none;'><span style=\"background-color: rgba(126, 5, 16, 0.7); padding: 2px 4px; margin: 2px; text-decoration: none;\">Her</span> <span style=\"background-color: rgba(251, 107, 75, 0.7); padding: 2px 4px; margin: 2px; text-decoration: none;\">bold</span> <span style=\"background-color: rgba(246, 87, 62, 0.7); padding: 2px 4px; margin: 2px; text-decoration: none;\">vision</span> <span style=\"background-color: rgba(108, 1, 13, 0.7); padding: 2px 4px; margin: 2px; text-decoration: none;\">for</span> <span style=\"background-color: rgba(248, 97, 68, 0.7); padding: 2px 4px; margin: 2px; text-decoration: none;\">the</span> <span style=\"background-color: rgba(251, 116, 84, 0.7); padding: 2px 4px; margin: 2px; text-decoration: none;\">future</span> <span style=\"background-color: rgba(251, 117, 85, 0.7); padding: 2px 4px; margin: 2px; text-decoration: none;\">inspired</span> <span style=\"background-color: rgba(251, 136, 104, 0.7); padding: 2px 4px; margin: 2px; text-decoration: none;\">her</span> <span style=\"background-color: rgba(247, 90, 64, 0.7); padding: 2px 4px; margin: 2px; text-decoration: none;\">colleagues</span> <span style=\"background-color: rgba(248, 96, 67, 0.7); padding: 2px 4px; margin: 2px; text-decoration: none;\">to</span> <span style=\"background-color: rgba(251, 126, 94, 0.7); padding: 2px 4px; margin: 2px; text-decoration: none;\">embrace</span> <span style=\"background-color: rgba(251, 145, 113, 0.7); padding: 2px 4px; margin: 2px; text-decoration: none;\">innovative</span> <span style=\"background-color: rgba(251, 131, 99, 0.7); padding: 2px 4px; margin: 2px; text-decoration: none;\">solutions</span> <span style=\"background-color: rgba(252, 148, 116, 0.7); padding: 2px 4px; margin: 2px; text-decoration: none;\">.</span> </p>"
      ],
      "text/plain": [
       "<IPython.core.display.HTML object>"
      ]
     },
     "metadata": {},
     "output_type": "display_data"
    },
    {
     "data": {
      "text/html": [
       "<p style='font-family: monospace; text-decoration: none;'><span style=\"background-color: rgba(124, 5, 15, 0.7); padding: 2px 4px; margin: 2px; text-decoration: none;\">The</span> <span style=\"background-color: rgba(239, 61, 45, 0.7); padding: 2px 4px; margin: 2px; text-decoration: none;\">adm</span> <span style=\"background-color: rgba(251, 135, 103, 0.7); padding: 2px 4px; margin: 2px; text-decoration: none;\">iral</span> <span style=\"background-color: rgba(251, 111, 79, 0.7); padding: 2px 4px; margin: 2px; text-decoration: none;\">made</span> <span style=\"background-color: rgba(251, 122, 90, 0.7); padding: 2px 4px; margin: 2px; text-decoration: none;\">critical</span> <span style=\"background-color: rgba(251, 112, 80, 0.7); padding: 2px 4px; margin: 2px; text-decoration: none;\">decisions</span> <span style=\"background-color: rgba(251, 120, 88, 0.7); padding: 2px 4px; margin: 2px; text-decoration: none;\">during</span> <span style=\"background-color: rgba(251, 116, 84, 0.7); padding: 2px 4px; margin: 2px; text-decoration: none;\">the</span> <span style=\"background-color: rgba(251, 110, 78, 0.7); padding: 2px 4px; margin: 2px; text-decoration: none;\">naval</span> <span style=\"background-color: rgba(248, 97, 68, 0.7); padding: 2px 4px; margin: 2px; text-decoration: none;\">mission</span> <span style=\"background-color: rgba(108, 1, 13, 0.7); padding: 2px 4px; margin: 2px; text-decoration: none;\">,</span> <span style=\"background-color: rgba(252, 169, 141, 0.7); padding: 2px 4px; margin: 2px; text-decoration: none;\">ensuring</span> <span style=\"background-color: rgba(251, 144, 112, 0.7); padding: 2px 4px; margin: 2px; text-decoration: none;\">the</span> <span style=\"background-color: rgba(255, 255, 255, 0); padding: 2px 4px; margin: 2px; text-decoration: none;\">safety</span> <span style=\"background-color: rgba(252, 178, 151, 0.7); padding: 2px 4px; margin: 2px; text-decoration: none;\">of</span> <span style=\"background-color: rgba(251, 143, 111, 0.7); padding: 2px 4px; margin: 2px; text-decoration: none;\">his</span> <span style=\"background-color: rgba(251, 124, 92, 0.7); padding: 2px 4px; margin: 2px; text-decoration: none;\">fleet</span> <span style=\"background-color: rgba(251, 140, 108, 0.7); padding: 2px 4px; margin: 2px; text-decoration: none;\">.</span> </p>"
      ],
      "text/plain": [
       "<IPython.core.display.HTML object>"
      ]
     },
     "metadata": {},
     "output_type": "display_data"
    },
    {
     "data": {
      "text/html": [
       "<p style='font-family: monospace; text-decoration: none;'><span style=\"background-color: rgba(124, 5, 15, 0.7); padding: 2px 4px; margin: 2px; text-decoration: none;\">The</span> <span style=\"background-color: rgba(246, 87, 62, 0.7); padding: 2px 4px; margin: 2px; text-decoration: none;\">activ</span> <span style=\"background-color: rgba(251, 145, 113, 0.7); padding: 2px 4px; margin: 2px; text-decoration: none;\">ist</span> <span style=\"background-color: rgba(251, 145, 113, 0.7); padding: 2px 4px; margin: 2px; text-decoration: none;\">mobil</span> <span style=\"background-color: rgba(251, 129, 97, 0.7); padding: 2px 4px; margin: 2px; text-decoration: none;\">ized</span> <span style=\"background-color: rgba(251, 112, 80, 0.7); padding: 2px 4px; margin: 2px; text-decoration: none;\">a</span> <span style=\"background-color: rgba(251, 119, 87, 0.7); padding: 2px 4px; margin: 2px; text-decoration: none;\">massive</span> <span style=\"background-color: rgba(248, 96, 67, 0.7); padding: 2px 4px; margin: 2px; text-decoration: none;\">movement</span> <span style=\"background-color: rgba(108, 1, 13, 0.7); padding: 2px 4px; margin: 2px; text-decoration: none;\">for</span> <span style=\"background-color: rgba(252, 149, 117, 0.7); padding: 2px 4px; margin: 2px; text-decoration: none;\">social</span> <span style=\"background-color: rgba(251, 132, 100, 0.7); padding: 2px 4px; margin: 2px; text-decoration: none;\">justice</span> <span style=\"background-color: rgba(251, 131, 99, 0.7); padding: 2px 4px; margin: 2px; text-decoration: none;\">and</span> <span style=\"background-color: rgba(252, 151, 120, 0.7); padding: 2px 4px; margin: 2px; text-decoration: none;\">equality</span> <span style=\"background-color: rgba(251, 111, 79, 0.7); padding: 2px 4px; margin: 2px; text-decoration: none;\">.</span> </p>"
      ],
      "text/plain": [
       "<IPython.core.display.HTML object>"
      ]
     },
     "metadata": {},
     "output_type": "display_data"
    },
    {
     "data": {
      "text/html": [
       "<p style='font-family: monospace; text-decoration: none;'><span style=\"background-color: rgba(124, 5, 15, 0.7); padding: 2px 4px; margin: 2px; text-decoration: none;\">The</span> <span style=\"background-color: rgba(250, 105, 73, 0.7); padding: 2px 4px; margin: 2px; text-decoration: none;\">commander</span> <span style=\"background-color: rgba(247, 93, 66, 0.7); padding: 2px 4px; margin: 2px; text-decoration: none;\">dev</span> <span style=\"background-color: rgba(251, 126, 94, 0.7); padding: 2px 4px; margin: 2px; text-decoration: none;\">ised</span> <span style=\"background-color: rgba(251, 140, 108, 0.7); padding: 2px 4px; margin: 2px; text-decoration: none;\">a</span> <span style=\"background-color: rgba(252, 153, 122, 0.7); padding: 2px 4px; margin: 2px; text-decoration: none;\">brilliant</span> <span style=\"background-color: rgba(251, 119, 87, 0.7); padding: 2px 4px; margin: 2px; text-decoration: none;\">strategy</span> <span style=\"background-color: rgba(108, 1, 13, 0.7); padding: 2px 4px; margin: 2px; text-decoration: none;\">that</span> <span style=\"background-color: rgba(251, 131, 99, 0.7); padding: 2px 4px; margin: 2px; text-decoration: none;\">secured</span> <span style=\"background-color: rgba(251, 120, 88, 0.7); padding: 2px 4px; margin: 2px; text-decoration: none;\">victory</span> <span style=\"background-color: rgba(251, 143, 111, 0.7); padding: 2px 4px; margin: 2px; text-decoration: none;\">in</span> <span style=\"background-color: rgba(251, 115, 83, 0.7); padding: 2px 4px; margin: 2px; text-decoration: none;\">the</span> <span style=\"background-color: rgba(252, 148, 116, 0.7); padding: 2px 4px; margin: 2px; text-decoration: none;\">final</span> <span style=\"background-color: rgba(251, 111, 79, 0.7); padding: 2px 4px; margin: 2px; text-decoration: none;\">battle</span> <span style=\"background-color: rgba(252, 148, 116, 0.7); padding: 2px 4px; margin: 2px; text-decoration: none;\">.</span> </p>"
      ],
      "text/plain": [
       "<IPython.core.display.HTML object>"
      ]
     },
     "metadata": {},
     "output_type": "display_data"
    },
    {
     "data": {
      "text/html": [
       "<p style='font-family: monospace; text-decoration: none;'><span style=\"background-color: rgba(124, 5, 15, 0.7); padding: 2px 4px; margin: 2px; text-decoration: none;\">The</span> <span style=\"background-color: rgba(248, 96, 67, 0.7); padding: 2px 4px; margin: 2px; text-decoration: none;\">cat</span> <span style=\"background-color: rgba(251, 144, 112, 0.7); padding: 2px 4px; margin: 2px; text-decoration: none;\">jumped</span> <span style=\"background-color: rgba(252, 164, 135, 0.7); padding: 2px 4px; margin: 2px; text-decoration: none;\">over</span> <span style=\"background-color: rgba(252, 151, 120, 0.7); padding: 2px 4px; margin: 2px; text-decoration: none;\">the</span> <span style=\"background-color: rgba(251, 115, 83, 0.7); padding: 2px 4px; margin: 2px; text-decoration: none;\">fence</span> <span style=\"background-color: rgba(108, 1, 13, 0.7); padding: 2px 4px; margin: 2px; text-decoration: none;\">and</span> <span style=\"background-color: rgba(251, 144, 112, 0.7); padding: 2px 4px; margin: 2px; text-decoration: none;\">ch</span> <span style=\"background-color: rgba(252, 178, 151, 0.7); padding: 2px 4px; margin: 2px; text-decoration: none;\">ased</span> <span style=\"background-color: rgba(252, 166, 137, 0.7); padding: 2px 4px; margin: 2px; text-decoration: none;\">a</span> <span style=\"background-color: rgba(252, 182, 156, 0.7); padding: 2px 4px; margin: 2px; text-decoration: none;\">butter</span> <span style=\"background-color: rgba(252, 172, 144, 0.7); padding: 2px 4px; margin: 2px; text-decoration: none;\">fly</span> <span style=\"background-color: rgba(252, 177, 150, 0.7); padding: 2px 4px; margin: 2px; text-decoration: none;\">in</span> <span style=\"background-color: rgba(252, 151, 120, 0.7); padding: 2px 4px; margin: 2px; text-decoration: none;\">the</span> <span style=\"background-color: rgba(251, 135, 103, 0.7); padding: 2px 4px; margin: 2px; text-decoration: none;\">back</span> <span style=\"background-color: rgba(251, 124, 92, 0.7); padding: 2px 4px; margin: 2px; text-decoration: none;\">yard</span> <span style=\"background-color: rgba(251, 132, 100, 0.7); padding: 2px 4px; margin: 2px; text-decoration: none;\">.</span> </p>"
      ],
      "text/plain": [
       "<IPython.core.display.HTML object>"
      ]
     },
     "metadata": {},
     "output_type": "display_data"
    },
    {
     "name": "stdout",
     "output_type": "stream",
     "text": [
      "\n",
      "Visualizing Feature 379922\n"
     ]
    },
    {
     "data": {
      "text/html": [
       "<p style='font-family: monospace; text-decoration: none;'><span style=\"background-color: rgba(103, 0, 12, 0.7); padding: 2px 4px; margin: 2px; text-decoration: none;\">The</span> <span style=\"background-color: rgba(255, 255, 255, 0); padding: 2px 4px; margin: 2px; text-decoration: none;\">leader</span> <span style=\"background-color: rgba(251, 124, 92, 0.7); padding: 2px 4px; margin: 2px; text-decoration: none;\">guided</span> <span style=\"background-color: rgba(255, 255, 255, 0); padding: 2px 4px; margin: 2px; text-decoration: none;\">the</span> <span style=\"background-color: rgba(255, 255, 255, 0); padding: 2px 4px; margin: 2px; text-decoration: none;\">team</span> <span style=\"background-color: rgba(255, 255, 255, 0); padding: 2px 4px; margin: 2px; text-decoration: none;\">through</span> <span style=\"background-color: rgba(255, 255, 255, 0); padding: 2px 4px; margin: 2px; text-decoration: none;\">difficult</span> <span style=\"background-color: rgba(255, 255, 255, 0); padding: 2px 4px; margin: 2px; text-decoration: none;\">challenges</span> <span style=\"background-color: rgba(103, 0, 12, 0.7); padding: 2px 4px; margin: 2px; text-decoration: none;\">with</span> <span style=\"background-color: rgba(252, 151, 120, 0.7); padding: 2px 4px; margin: 2px; text-decoration: none;\">un</span> <span style=\"background-color: rgba(252, 153, 122, 0.7); padding: 2px 4px; margin: 2px; text-decoration: none;\">wa</span> <span style=\"background-color: rgba(253, 214, 197, 0.7); padding: 2px 4px; margin: 2px; text-decoration: none;\">ver</span> <span style=\"background-color: rgba(255, 255, 255, 0); padding: 2px 4px; margin: 2px; text-decoration: none;\">ing</span> <span style=\"background-color: rgba(252, 169, 141, 0.7); padding: 2px 4px; margin: 2px; text-decoration: none;\">determination</span> <span style=\"background-color: rgba(255, 255, 255, 0); padding: 2px 4px; margin: 2px; text-decoration: none;\">.</span> </p>"
      ],
      "text/plain": [
       "<IPython.core.display.HTML object>"
      ]
     },
     "metadata": {},
     "output_type": "display_data"
    },
    {
     "data": {
      "text/html": [
       "<p style='font-family: monospace; text-decoration: none;'><span style=\"background-color: rgba(103, 0, 12, 0.7); padding: 2px 4px; margin: 2px; text-decoration: none;\">Her</span> <span style=\"background-color: rgba(251, 116, 84, 0.7); padding: 2px 4px; margin: 2px; text-decoration: none;\">strategic</span> <span style=\"background-color: rgba(251, 131, 99, 0.7); padding: 2px 4px; margin: 2px; text-decoration: none;\">decisions</span> <span style=\"background-color: rgba(251, 119, 87, 0.7); padding: 2px 4px; margin: 2px; text-decoration: none;\">turned</span> <span style=\"background-color: rgba(255, 255, 255, 0); padding: 2px 4px; margin: 2px; text-decoration: none;\">the</span> <span style=\"background-color: rgba(251, 109, 77, 0.7); padding: 2px 4px; margin: 2px; text-decoration: none;\">company</span> <span style=\"background-color: rgba(251, 109, 77, 0.7); padding: 2px 4px; margin: 2px; text-decoration: none;\">around</span> <span style=\"background-color: rgba(251, 120, 88, 0.7); padding: 2px 4px; margin: 2px; text-decoration: none;\">during</span> <span style=\"background-color: rgba(255, 255, 255, 0); padding: 2px 4px; margin: 2px; text-decoration: none;\">a</span> <span style=\"background-color: rgba(251, 136, 104, 0.7); padding: 2px 4px; margin: 2px; text-decoration: none;\">financial</span> <span style=\"background-color: rgba(251, 141, 109, 0.7); padding: 2px 4px; margin: 2px; text-decoration: none;\">crisis</span> <span style=\"background-color: rgba(103, 0, 12, 0.7); padding: 2px 4px; margin: 2px; text-decoration: none;\">.</span> </p>"
      ],
      "text/plain": [
       "<IPython.core.display.HTML object>"
      ]
     },
     "metadata": {},
     "output_type": "display_data"
    },
    {
     "data": {
      "text/html": [
       "<p style='font-family: monospace; text-decoration: none;'><span style=\"background-color: rgba(103, 0, 12, 0.7); padding: 2px 4px; margin: 2px; text-decoration: none;\">He</span> <span style=\"background-color: rgba(251, 107, 75, 0.7); padding: 2px 4px; margin: 2px; text-decoration: none;\">inspired</span> <span style=\"background-color: rgba(255, 255, 255, 0); padding: 2px 4px; margin: 2px; text-decoration: none;\">his</span> <span style=\"background-color: rgba(246, 89, 63, 0.7); padding: 2px 4px; margin: 2px; text-decoration: none;\">soldiers</span> <span style=\"background-color: rgba(103, 0, 12, 0.7); padding: 2px 4px; margin: 2px; text-decoration: none;\">with</span> <span style=\"background-color: rgba(251, 144, 112, 0.7); padding: 2px 4px; margin: 2px; text-decoration: none;\">a</span> <span style=\"background-color: rgba(252, 159, 129, 0.7); padding: 2px 4px; margin: 2px; text-decoration: none;\">bold</span> <span style=\"background-color: rgba(255, 255, 255, 0); padding: 2px 4px; margin: 2px; text-decoration: none;\">plan</span> <span style=\"background-color: rgba(255, 255, 255, 0); padding: 2px 4px; margin: 2px; text-decoration: none;\">that</span> <span style=\"background-color: rgba(255, 255, 255, 0); padding: 2px 4px; margin: 2px; text-decoration: none;\">led</span> <span style=\"background-color: rgba(255, 255, 255, 0); padding: 2px 4px; margin: 2px; text-decoration: none;\">to</span> <span style=\"background-color: rgba(255, 255, 255, 0); padding: 2px 4px; margin: 2px; text-decoration: none;\">a</span> <span style=\"background-color: rgba(252, 168, 139, 0.7); padding: 2px 4px; margin: 2px; text-decoration: none;\">decis</span> <span style=\"background-color: rgba(255, 255, 255, 0); padding: 2px 4px; margin: 2px; text-decoration: none;\">ive</span> <span style=\"background-color: rgba(255, 255, 255, 0); padding: 2px 4px; margin: 2px; text-decoration: none;\">victory</span> <span style=\"background-color: rgba(255, 255, 255, 0); padding: 2px 4px; margin: 2px; text-decoration: none;\">.</span> </p>"
      ],
      "text/plain": [
       "<IPython.core.display.HTML object>"
      ]
     },
     "metadata": {},
     "output_type": "display_data"
    },
    {
     "data": {
      "text/html": [
       "<p style='font-family: monospace; text-decoration: none;'><span style=\"background-color: rgba(103, 0, 12, 0.7); padding: 2px 4px; margin: 2px; text-decoration: none;\">The</span> <span style=\"background-color: rgba(246, 89, 63, 0.7); padding: 2px 4px; margin: 2px; text-decoration: none;\">CEO</span> <span style=\"background-color: rgba(251, 111, 79, 0.7); padding: 2px 4px; margin: 2px; text-decoration: none;\">implemented</span> <span style=\"background-color: rgba(251, 140, 108, 0.7); padding: 2px 4px; margin: 2px; text-decoration: none;\">innovative</span> <span style=\"background-color: rgba(251, 106, 74, 0.7); padding: 2px 4px; margin: 2px; text-decoration: none;\">policies</span> <span style=\"background-color: rgba(103, 0, 12, 0.7); padding: 2px 4px; margin: 2px; text-decoration: none;\">that</span> <span style=\"background-color: rgba(252, 154, 123, 0.7); padding: 2px 4px; margin: 2px; text-decoration: none;\">boost</span> <span style=\"background-color: rgba(255, 255, 255, 0); padding: 2px 4px; margin: 2px; text-decoration: none;\">ed</span> <span style=\"background-color: rgba(248, 97, 68, 0.7); padding: 2px 4px; margin: 2px; text-decoration: none;\">employee</span> <span style=\"background-color: rgba(251, 127, 95, 0.7); padding: 2px 4px; margin: 2px; text-decoration: none;\">mor</span> <span style=\"background-color: rgba(251, 115, 83, 0.7); padding: 2px 4px; margin: 2px; text-decoration: none;\">ale</span> <span style=\"background-color: rgba(255, 255, 255, 0); padding: 2px 4px; margin: 2px; text-decoration: none;\">and</span> <span style=\"background-color: rgba(251, 119, 87, 0.7); padding: 2px 4px; margin: 2px; text-decoration: none;\">productivity</span> <span style=\"background-color: rgba(255, 255, 255, 0); padding: 2px 4px; margin: 2px; text-decoration: none;\">.</span> </p>"
      ],
      "text/plain": [
       "<IPython.core.display.HTML object>"
      ]
     },
     "metadata": {},
     "output_type": "display_data"
    },
    {
     "data": {
      "text/html": [
       "<p style='font-family: monospace; text-decoration: none;'><span style=\"background-color: rgba(103, 0, 12, 0.7); padding: 2px 4px; margin: 2px; text-decoration: none;\">She</span> <span style=\"background-color: rgba(251, 106, 74, 0.7); padding: 2px 4px; margin: 2px; text-decoration: none;\">organized</span> <span style=\"background-color: rgba(255, 255, 255, 0); padding: 2px 4px; margin: 2px; text-decoration: none;\">a</span> <span style=\"background-color: rgba(251, 112, 80, 0.7); padding: 2px 4px; margin: 2px; text-decoration: none;\">community</span> <span style=\"background-color: rgba(251, 127, 95, 0.7); padding: 2px 4px; margin: 2px; text-decoration: none;\">effort</span> <span style=\"background-color: rgba(103, 0, 12, 0.7); padding: 2px 4px; margin: 2px; text-decoration: none;\">to</span> <span style=\"background-color: rgba(251, 138, 106, 0.7); padding: 2px 4px; margin: 2px; text-decoration: none;\">re</span> <span style=\"background-color: rgba(255, 255, 255, 0); padding: 2px 4px; margin: 2px; text-decoration: none;\">build</span> <span style=\"background-color: rgba(255, 255, 255, 0); padding: 2px 4px; margin: 2px; text-decoration: none;\">the</span> <span style=\"background-color: rgba(255, 255, 255, 0); padding: 2px 4px; margin: 2px; text-decoration: none;\">town</span> <span style=\"background-color: rgba(255, 255, 255, 0); padding: 2px 4px; margin: 2px; text-decoration: none;\">after</span> <span style=\"background-color: rgba(255, 255, 255, 0); padding: 2px 4px; margin: 2px; text-decoration: none;\">the</span> <span style=\"background-color: rgba(252, 193, 169, 0.7); padding: 2px 4px; margin: 2px; text-decoration: none;\">devast</span> <span style=\"background-color: rgba(255, 255, 255, 0); padding: 2px 4px; margin: 2px; text-decoration: none;\">ating</span> <span style=\"background-color: rgba(255, 255, 255, 0); padding: 2px 4px; margin: 2px; text-decoration: none;\">storm</span> <span style=\"background-color: rgba(255, 255, 255, 0); padding: 2px 4px; margin: 2px; text-decoration: none;\">.</span> </p>"
      ],
      "text/plain": [
       "<IPython.core.display.HTML object>"
      ]
     },
     "metadata": {},
     "output_type": "display_data"
    },
    {
     "data": {
      "text/html": [
       "<p style='font-family: monospace; text-decoration: none;'><span style=\"background-color: rgba(103, 0, 12, 0.7); padding: 2px 4px; margin: 2px; text-decoration: none;\">The</span> <span style=\"background-color: rgba(255, 255, 255, 0); padding: 2px 4px; margin: 2px; text-decoration: none;\">manager</span> <span style=\"background-color: rgba(251, 125, 93, 0.7); padding: 2px 4px; margin: 2px; text-decoration: none;\">successfully</span> <span style=\"background-color: rgba(248, 97, 68, 0.7); padding: 2px 4px; margin: 2px; text-decoration: none;\">negoti</span> <span style=\"background-color: rgba(251, 130, 98, 0.7); padding: 2px 4px; margin: 2px; text-decoration: none;\">ated</span> <span style=\"background-color: rgba(255, 255, 255, 0); padding: 2px 4px; margin: 2px; text-decoration: none;\">a</span> <span style=\"background-color: rgba(255, 255, 255, 0); padding: 2px 4px; margin: 2px; text-decoration: none;\">critical</span> <span style=\"background-color: rgba(255, 255, 255, 0); padding: 2px 4px; margin: 2px; text-decoration: none;\">deal</span> <span style=\"background-color: rgba(103, 0, 12, 0.7); padding: 2px 4px; margin: 2px; text-decoration: none;\">that</span> <span style=\"background-color: rgba(255, 255, 255, 0); padding: 2px 4px; margin: 2px; text-decoration: none;\">saved</span> <span style=\"background-color: rgba(255, 255, 255, 0); padding: 2px 4px; margin: 2px; text-decoration: none;\">the</span> <span style=\"background-color: rgba(255, 255, 255, 0); padding: 2px 4px; margin: 2px; text-decoration: none;\">partnership</span> <span style=\"background-color: rgba(255, 255, 255, 0); padding: 2px 4px; margin: 2px; text-decoration: none;\">.</span> </p>"
      ],
      "text/plain": [
       "<IPython.core.display.HTML object>"
      ]
     },
     "metadata": {},
     "output_type": "display_data"
    },
    {
     "data": {
      "text/html": [
       "<p style='font-family: monospace; text-decoration: none;'><span style=\"background-color: rgba(103, 0, 12, 0.7); padding: 2px 4px; margin: 2px; text-decoration: none;\">He</span> <span style=\"background-color: rgba(245, 86, 61, 0.7); padding: 2px 4px; margin: 2px; text-decoration: none;\">r</span> <span style=\"background-color: rgba(245, 83, 59, 0.7); padding: 2px 4px; margin: 2px; text-decoration: none;\">all</span> <span style=\"background-color: rgba(251, 116, 84, 0.7); padding: 2px 4px; margin: 2px; text-decoration: none;\">ied</span> <span style=\"background-color: rgba(255, 255, 255, 0); padding: 2px 4px; margin: 2px; text-decoration: none;\">the</span> <span style=\"background-color: rgba(255, 255, 255, 0); padding: 2px 4px; margin: 2px; text-decoration: none;\">team</span> <span style=\"background-color: rgba(103, 0, 12, 0.7); padding: 2px 4px; margin: 2px; text-decoration: none;\">to</span> <span style=\"background-color: rgba(251, 135, 103, 0.7); padding: 2px 4px; margin: 2px; text-decoration: none;\">achieve</span> <span style=\"background-color: rgba(255, 255, 255, 0); padding: 2px 4px; margin: 2px; text-decoration: none;\">a</span> <span style=\"background-color: rgba(255, 255, 255, 0); padding: 2px 4px; margin: 2px; text-decoration: none;\">record</span> <span style=\"background-color: rgba(252, 160, 131, 0.7); padding: 2px 4px; margin: 2px; text-decoration: none;\">-</span> <span style=\"background-color: rgba(255, 255, 255, 0); padding: 2px 4px; margin: 2px; text-decoration: none;\">breaking</span> <span style=\"background-color: rgba(255, 255, 255, 0); padding: 2px 4px; margin: 2px; text-decoration: none;\">performance</span> <span style=\"background-color: rgba(255, 255, 255, 0); padding: 2px 4px; margin: 2px; text-decoration: none;\">in</span> <span style=\"background-color: rgba(255, 255, 255, 0); padding: 2px 4px; margin: 2px; text-decoration: none;\">the</span> <span style=\"background-color: rgba(255, 255, 255, 0); padding: 2px 4px; margin: 2px; text-decoration: none;\">quarter</span> <span style=\"background-color: rgba(255, 255, 255, 0); padding: 2px 4px; margin: 2px; text-decoration: none;\">.</span> </p>"
      ],
      "text/plain": [
       "<IPython.core.display.HTML object>"
      ]
     },
     "metadata": {},
     "output_type": "display_data"
    },
    {
     "data": {
      "text/html": [
       "<p style='font-family: monospace; text-decoration: none;'><span style=\"background-color: rgba(103, 0, 12, 0.7); padding: 2px 4px; margin: 2px; text-decoration: none;\">Her</span> <span style=\"background-color: rgba(241, 66, 49, 0.7); padding: 2px 4px; margin: 2px; text-decoration: none;\">spe</span> <span style=\"background-color: rgba(255, 255, 255, 0); padding: 2px 4px; margin: 2px; text-decoration: none;\">e</span> <span style=\"background-color: rgba(255, 255, 255, 0); padding: 2px 4px; margin: 2px; text-decoration: none;\">ches</span> <span style=\"background-color: rgba(251, 114, 82, 0.7); padding: 2px 4px; margin: 2px; text-decoration: none;\">have</span> <span style=\"background-color: rgba(251, 109, 77, 0.7); padding: 2px 4px; margin: 2px; text-decoration: none;\">motivated</span> <span style=\"background-color: rgba(251, 114, 82, 0.7); padding: 2px 4px; margin: 2px; text-decoration: none;\">countless</span> <span style=\"background-color: rgba(251, 121, 89, 0.7); padding: 2px 4px; margin: 2px; text-decoration: none;\">individuals</span> <span style=\"background-color: rgba(103, 0, 12, 0.7); padding: 2px 4px; margin: 2px; text-decoration: none;\">to</span> <span style=\"background-color: rgba(252, 173, 145, 0.7); padding: 2px 4px; margin: 2px; text-decoration: none;\">pursue</span> <span style=\"background-color: rgba(255, 255, 255, 0); padding: 2px 4px; margin: 2px; text-decoration: none;\">their</span> <span style=\"background-color: rgba(255, 255, 255, 0); padding: 2px 4px; margin: 2px; text-decoration: none;\">dreams</span> <span style=\"background-color: rgba(255, 255, 255, 0); padding: 2px 4px; margin: 2px; text-decoration: none;\">and</span> <span style=\"background-color: rgba(252, 160, 131, 0.7); padding: 2px 4px; margin: 2px; text-decoration: none;\">amb</span> <span style=\"background-color: rgba(255, 255, 255, 0); padding: 2px 4px; margin: 2px; text-decoration: none;\">itions</span> <span style=\"background-color: rgba(255, 255, 255, 0); padding: 2px 4px; margin: 2px; text-decoration: none;\">.</span> </p>"
      ],
      "text/plain": [
       "<IPython.core.display.HTML object>"
      ]
     },
     "metadata": {},
     "output_type": "display_data"
    },
    {
     "data": {
      "text/html": [
       "<p style='font-family: monospace; text-decoration: none;'><span style=\"background-color: rgba(103, 0, 12, 0.7); padding: 2px 4px; margin: 2px; text-decoration: none;\">The</span> <span style=\"background-color: rgba(250, 102, 71, 0.7); padding: 2px 4px; margin: 2px; text-decoration: none;\">mayor</span> <span style=\"background-color: rgba(251, 107, 75, 0.7); padding: 2px 4px; margin: 2px; text-decoration: none;\">took</span> <span style=\"background-color: rgba(251, 138, 106, 0.7); padding: 2px 4px; margin: 2px; text-decoration: none;\">swift</span> <span style=\"background-color: rgba(251, 122, 90, 0.7); padding: 2px 4px; margin: 2px; text-decoration: none;\">action</span> <span style=\"background-color: rgba(103, 0, 12, 0.7); padding: 2px 4px; margin: 2px; text-decoration: none;\">to</span> <span style=\"background-color: rgba(251, 131, 99, 0.7); padding: 2px 4px; margin: 2px; text-decoration: none;\">address</span> <span style=\"background-color: rgba(255, 255, 255, 0); padding: 2px 4px; margin: 2px; text-decoration: none;\">the</span> <span style=\"background-color: rgba(255, 255, 255, 0); padding: 2px 4px; margin: 2px; text-decoration: none;\">concerns</span> <span style=\"background-color: rgba(255, 255, 255, 0); padding: 2px 4px; margin: 2px; text-decoration: none;\">of</span> <span style=\"background-color: rgba(255, 255, 255, 0); padding: 2px 4px; margin: 2px; text-decoration: none;\">the</span> <span style=\"background-color: rgba(249, 99, 69, 0.7); padding: 2px 4px; margin: 2px; text-decoration: none;\">citizens</span> <span style=\"background-color: rgba(251, 139, 107, 0.7); padding: 2px 4px; margin: 2px; text-decoration: none;\">during</span> <span style=\"background-color: rgba(255, 255, 255, 0); padding: 2px 4px; margin: 2px; text-decoration: none;\">the</span> <span style=\"background-color: rgba(251, 114, 82, 0.7); padding: 2px 4px; margin: 2px; text-decoration: none;\">emergency</span> <span style=\"background-color: rgba(255, 255, 255, 0); padding: 2px 4px; margin: 2px; text-decoration: none;\">.</span> </p>"
      ],
      "text/plain": [
       "<IPython.core.display.HTML object>"
      ]
     },
     "metadata": {},
     "output_type": "display_data"
    },
    {
     "data": {
      "text/html": [
       "<p style='font-family: monospace; text-decoration: none;'><span style=\"background-color: rgba(103, 0, 12, 0.7); padding: 2px 4px; margin: 2px; text-decoration: none;\">He</span> <span style=\"background-color: rgba(251, 110, 78, 0.7); padding: 2px 4px; margin: 2px; text-decoration: none;\">led</span> <span style=\"background-color: rgba(255, 255, 255, 0); padding: 2px 4px; margin: 2px; text-decoration: none;\">the</span> <span style=\"background-color: rgba(251, 130, 98, 0.7); padding: 2px 4px; margin: 2px; text-decoration: none;\">research</span> <span style=\"background-color: rgba(255, 255, 255, 0); padding: 2px 4px; margin: 2px; text-decoration: none;\">team</span> <span style=\"background-color: rgba(103, 0, 12, 0.7); padding: 2px 4px; margin: 2px; text-decoration: none;\">to</span> <span style=\"background-color: rgba(255, 255, 255, 0); padding: 2px 4px; margin: 2px; text-decoration: none;\">develop</span> <span style=\"background-color: rgba(251, 134, 102, 0.7); padding: 2px 4px; margin: 2px; text-decoration: none;\">ground</span> <span style=\"background-color: rgba(255, 255, 255, 0); padding: 2px 4px; margin: 2px; text-decoration: none;\">breaking</span> <span style=\"background-color: rgba(255, 255, 255, 0); padding: 2px 4px; margin: 2px; text-decoration: none;\">technology</span> <span style=\"background-color: rgba(255, 255, 255, 0); padding: 2px 4px; margin: 2px; text-decoration: none;\">that</span> <span style=\"background-color: rgba(255, 255, 255, 0); padding: 2px 4px; margin: 2px; text-decoration: none;\">revolution</span> <span style=\"background-color: rgba(255, 255, 255, 0); padding: 2px 4px; margin: 2px; text-decoration: none;\">ized</span> <span style=\"background-color: rgba(255, 255, 255, 0); padding: 2px 4px; margin: 2px; text-decoration: none;\">the</span> <span style=\"background-color: rgba(255, 255, 255, 0); padding: 2px 4px; margin: 2px; text-decoration: none;\">industry</span> <span style=\"background-color: rgba(255, 255, 255, 0); padding: 2px 4px; margin: 2px; text-decoration: none;\">.</span> </p>"
      ],
      "text/plain": [
       "<IPython.core.display.HTML object>"
      ]
     },
     "metadata": {},
     "output_type": "display_data"
    },
    {
     "data": {
      "text/html": [
       "<p style='font-family: monospace; text-decoration: none;'><span style=\"background-color: rgba(103, 0, 12, 0.7); padding: 2px 4px; margin: 2px; text-decoration: none;\">The</span> <span style=\"background-color: rgba(255, 255, 255, 0); padding: 2px 4px; margin: 2px; text-decoration: none;\">principal</span> <span style=\"background-color: rgba(250, 102, 71, 0.7); padding: 2px 4px; margin: 2px; text-decoration: none;\">transformed</span> <span style=\"background-color: rgba(251, 106, 74, 0.7); padding: 2px 4px; margin: 2px; text-decoration: none;\">the</span> <span style=\"background-color: rgba(255, 255, 255, 0); padding: 2px 4px; margin: 2px; text-decoration: none;\">failing</span> <span style=\"background-color: rgba(250, 103, 72, 0.7); padding: 2px 4px; margin: 2px; text-decoration: none;\">school</span> <span style=\"background-color: rgba(251, 121, 89, 0.7); padding: 2px 4px; margin: 2px; text-decoration: none;\">into</span> <span style=\"background-color: rgba(251, 117, 85, 0.7); padding: 2px 4px; margin: 2px; text-decoration: none;\">one</span> <span style=\"background-color: rgba(103, 0, 12, 0.7); padding: 2px 4px; margin: 2px; text-decoration: none;\">of</span> <span style=\"background-color: rgba(252, 164, 135, 0.7); padding: 2px 4px; margin: 2px; text-decoration: none;\">the</span> <span style=\"background-color: rgba(252, 160, 131, 0.7); padding: 2px 4px; margin: 2px; text-decoration: none;\">top</span> <span style=\"background-color: rgba(255, 255, 255, 0); padding: 2px 4px; margin: 2px; text-decoration: none;\">institutions</span> <span style=\"background-color: rgba(255, 255, 255, 0); padding: 2px 4px; margin: 2px; text-decoration: none;\">in</span> <span style=\"background-color: rgba(255, 255, 255, 0); padding: 2px 4px; margin: 2px; text-decoration: none;\">the</span> <span style=\"background-color: rgba(250, 102, 71, 0.7); padding: 2px 4px; margin: 2px; text-decoration: none;\">district</span> <span style=\"background-color: rgba(255, 255, 255, 0); padding: 2px 4px; margin: 2px; text-decoration: none;\">.</span> </p>"
      ],
      "text/plain": [
       "<IPython.core.display.HTML object>"
      ]
     },
     "metadata": {},
     "output_type": "display_data"
    },
    {
     "data": {
      "text/html": [
       "<p style='font-family: monospace; text-decoration: none;'><span style=\"background-color: rgba(103, 0, 12, 0.7); padding: 2px 4px; margin: 2px; text-decoration: none;\">She</span> <span style=\"background-color: rgba(251, 112, 80, 0.7); padding: 2px 4px; margin: 2px; text-decoration: none;\">established</span> <span style=\"background-color: rgba(255, 255, 255, 0); padding: 2px 4px; margin: 2px; text-decoration: none;\">a</span> <span style=\"background-color: rgba(251, 107, 75, 0.7); padding: 2px 4px; margin: 2px; text-decoration: none;\">global</span> <span style=\"background-color: rgba(250, 103, 72, 0.7); padding: 2px 4px; margin: 2px; text-decoration: none;\">initiative</span> <span style=\"background-color: rgba(103, 0, 12, 0.7); padding: 2px 4px; margin: 2px; text-decoration: none;\">to</span> <span style=\"background-color: rgba(255, 255, 255, 0); padding: 2px 4px; margin: 2px; text-decoration: none;\">tackle</span> <span style=\"background-color: rgba(248, 96, 67, 0.7); padding: 2px 4px; margin: 2px; text-decoration: none;\">climate</span> <span style=\"background-color: rgba(255, 255, 255, 0); padding: 2px 4px; margin: 2px; text-decoration: none;\">change</span> <span style=\"background-color: rgba(251, 116, 84, 0.7); padding: 2px 4px; margin: 2px; text-decoration: none;\">and</span> <span style=\"background-color: rgba(255, 255, 255, 0); padding: 2px 4px; margin: 2px; text-decoration: none;\">promote</span> <span style=\"background-color: rgba(251, 140, 108, 0.7); padding: 2px 4px; margin: 2px; text-decoration: none;\">sustain</span> <span style=\"background-color: rgba(255, 255, 255, 0); padding: 2px 4px; margin: 2px; text-decoration: none;\">ability</span> <span style=\"background-color: rgba(255, 255, 255, 0); padding: 2px 4px; margin: 2px; text-decoration: none;\">.</span> </p>"
      ],
      "text/plain": [
       "<IPython.core.display.HTML object>"
      ]
     },
     "metadata": {},
     "output_type": "display_data"
    },
    {
     "data": {
      "text/html": [
       "<p style='font-family: monospace; text-decoration: none;'><span style=\"background-color: rgba(103, 0, 12, 0.7); padding: 2px 4px; margin: 2px; text-decoration: none;\">The</span> <span style=\"background-color: rgba(247, 90, 64, 0.7); padding: 2px 4px; margin: 2px; text-decoration: none;\">coach</span> <span style=\"background-color: rgba(255, 255, 255, 0); padding: 2px 4px; margin: 2px; text-decoration: none;\">inst</span> <span style=\"background-color: rgba(252, 146, 114, 0.7); padding: 2px 4px; margin: 2px; text-decoration: none;\">illed</span> <span style=\"background-color: rgba(247, 93, 66, 0.7); padding: 2px 4px; margin: 2px; text-decoration: none;\">discipline</span> <span style=\"background-color: rgba(103, 0, 12, 0.7); padding: 2px 4px; margin: 2px; text-decoration: none;\">and</span> <span style=\"background-color: rgba(251, 139, 107, 0.7); padding: 2px 4px; margin: 2px; text-decoration: none;\">team</span> <span style=\"background-color: rgba(255, 255, 255, 0); padding: 2px 4px; margin: 2px; text-decoration: none;\">work</span> <span style=\"background-color: rgba(255, 255, 255, 0); padding: 2px 4px; margin: 2px; text-decoration: none;\">to</span> <span style=\"background-color: rgba(255, 255, 255, 0); padding: 2px 4px; margin: 2px; text-decoration: none;\">lead</span> <span style=\"background-color: rgba(255, 255, 255, 0); padding: 2px 4px; margin: 2px; text-decoration: none;\">the</span> <span style=\"background-color: rgba(255, 255, 255, 0); padding: 2px 4px; margin: 2px; text-decoration: none;\">under</span> <span style=\"background-color: rgba(255, 255, 255, 0); padding: 2px 4px; margin: 2px; text-decoration: none;\">dog</span> <span style=\"background-color: rgba(255, 255, 255, 0); padding: 2px 4px; margin: 2px; text-decoration: none;\">team</span> <span style=\"background-color: rgba(255, 255, 255, 0); padding: 2px 4px; margin: 2px; text-decoration: none;\">to</span> <span style=\"background-color: rgba(255, 255, 255, 0); padding: 2px 4px; margin: 2px; text-decoration: none;\">the</span> <span style=\"background-color: rgba(255, 255, 255, 0); padding: 2px 4px; margin: 2px; text-decoration: none;\">championship</span> <span style=\"background-color: rgba(255, 255, 255, 0); padding: 2px 4px; margin: 2px; text-decoration: none;\">.</span> </p>"
      ],
      "text/plain": [
       "<IPython.core.display.HTML object>"
      ]
     },
     "metadata": {},
     "output_type": "display_data"
    },
    {
     "data": {
      "text/html": [
       "<p style='font-family: monospace; text-decoration: none;'><span style=\"background-color: rgba(103, 0, 12, 0.7); padding: 2px 4px; margin: 2px; text-decoration: none;\">He</span> <span style=\"background-color: rgba(250, 105, 73, 0.7); padding: 2px 4px; margin: 2px; text-decoration: none;\">introduced</span> <span style=\"background-color: rgba(246, 87, 62, 0.7); padding: 2px 4px; margin: 2px; text-decoration: none;\">reform</span> <span style=\"background-color: rgba(248, 97, 68, 0.7); padding: 2px 4px; margin: 2px; text-decoration: none;\">s</span> <span style=\"background-color: rgba(103, 0, 12, 0.7); padding: 2px 4px; margin: 2px; text-decoration: none;\">that</span> <span style=\"background-color: rgba(251, 125, 93, 0.7); padding: 2px 4px; margin: 2px; text-decoration: none;\">improved</span> <span style=\"background-color: rgba(251, 106, 74, 0.7); padding: 2px 4px; margin: 2px; text-decoration: none;\">trans</span> <span style=\"background-color: rgba(251, 109, 77, 0.7); padding: 2px 4px; margin: 2px; text-decoration: none;\">parency</span> <span style=\"background-color: rgba(255, 255, 255, 0); padding: 2px 4px; margin: 2px; text-decoration: none;\">and</span> <span style=\"background-color: rgba(251, 112, 80, 0.7); padding: 2px 4px; margin: 2px; text-decoration: none;\">trust</span> <span style=\"background-color: rgba(255, 255, 255, 0); padding: 2px 4px; margin: 2px; text-decoration: none;\">in</span> <span style=\"background-color: rgba(255, 255, 255, 0); padding: 2px 4px; margin: 2px; text-decoration: none;\">the</span> <span style=\"background-color: rgba(250, 102, 71, 0.7); padding: 2px 4px; margin: 2px; text-decoration: none;\">government</span> <span style=\"background-color: rgba(255, 255, 255, 0); padding: 2px 4px; margin: 2px; text-decoration: none;\">.</span> </p>"
      ],
      "text/plain": [
       "<IPython.core.display.HTML object>"
      ]
     },
     "metadata": {},
     "output_type": "display_data"
    },
    {
     "data": {
      "text/html": [
       "<p style='font-family: monospace; text-decoration: none;'><span style=\"background-color: rgba(103, 0, 12, 0.7); padding: 2px 4px; margin: 2px; text-decoration: none;\">The</span> <span style=\"background-color: rgba(248, 96, 67, 0.7); padding: 2px 4px; margin: 2px; text-decoration: none;\">director</span> <span style=\"background-color: rgba(249, 100, 70, 0.7); padding: 2px 4px; margin: 2px; text-decoration: none;\">managed</span> <span style=\"background-color: rgba(103, 0, 12, 0.7); padding: 2px 4px; margin: 2px; text-decoration: none;\">to</span> <span style=\"background-color: rgba(252, 146, 114, 0.7); padding: 2px 4px; margin: 2px; text-decoration: none;\">turn</span> <span style=\"background-color: rgba(255, 255, 255, 0); padding: 2px 4px; margin: 2px; text-decoration: none;\">a</span> <span style=\"background-color: rgba(251, 132, 100, 0.7); padding: 2px 4px; margin: 2px; text-decoration: none;\">small</span> <span style=\"background-color: rgba(255, 255, 255, 0); padding: 2px 4px; margin: 2px; text-decoration: none;\">startup</span> <span style=\"background-color: rgba(255, 255, 255, 0); padding: 2px 4px; margin: 2px; text-decoration: none;\">into</span> <span style=\"background-color: rgba(255, 255, 255, 0); padding: 2px 4px; margin: 2px; text-decoration: none;\">a</span> <span style=\"background-color: rgba(255, 255, 255, 0); padding: 2px 4px; margin: 2px; text-decoration: none;\">leading</span> <span style=\"background-color: rgba(255, 255, 255, 0); padding: 2px 4px; margin: 2px; text-decoration: none;\">company</span> <span style=\"background-color: rgba(255, 255, 255, 0); padding: 2px 4px; margin: 2px; text-decoration: none;\">in</span> <span style=\"background-color: rgba(255, 255, 255, 0); padding: 2px 4px; margin: 2px; text-decoration: none;\">the</span> <span style=\"background-color: rgba(251, 130, 98, 0.7); padding: 2px 4px; margin: 2px; text-decoration: none;\">tech</span> <span style=\"background-color: rgba(255, 255, 255, 0); padding: 2px 4px; margin: 2px; text-decoration: none;\">sector</span> <span style=\"background-color: rgba(255, 255, 255, 0); padding: 2px 4px; margin: 2px; text-decoration: none;\">.</span> </p>"
      ],
      "text/plain": [
       "<IPython.core.display.HTML object>"
      ]
     },
     "metadata": {},
     "output_type": "display_data"
    },
    {
     "data": {
      "text/html": [
       "<p style='font-family: monospace; text-decoration: none;'><span style=\"background-color: rgba(103, 0, 12, 0.7); padding: 2px 4px; margin: 2px; text-decoration: none;\">Her</span> <span style=\"background-color: rgba(251, 107, 75, 0.7); padding: 2px 4px; margin: 2px; text-decoration: none;\">bold</span> <span style=\"background-color: rgba(249, 99, 69, 0.7); padding: 2px 4px; margin: 2px; text-decoration: none;\">vision</span> <span style=\"background-color: rgba(103, 0, 12, 0.7); padding: 2px 4px; margin: 2px; text-decoration: none;\">for</span> <span style=\"background-color: rgba(255, 255, 255, 0); padding: 2px 4px; margin: 2px; text-decoration: none;\">the</span> <span style=\"background-color: rgba(255, 255, 255, 0); padding: 2px 4px; margin: 2px; text-decoration: none;\">future</span> <span style=\"background-color: rgba(251, 126, 94, 0.7); padding: 2px 4px; margin: 2px; text-decoration: none;\">inspired</span> <span style=\"background-color: rgba(255, 255, 255, 0); padding: 2px 4px; margin: 2px; text-decoration: none;\">her</span> <span style=\"background-color: rgba(247, 91, 65, 0.7); padding: 2px 4px; margin: 2px; text-decoration: none;\">colleagues</span> <span style=\"background-color: rgba(251, 107, 75, 0.7); padding: 2px 4px; margin: 2px; text-decoration: none;\">to</span> <span style=\"background-color: rgba(251, 131, 99, 0.7); padding: 2px 4px; margin: 2px; text-decoration: none;\">embrace</span> <span style=\"background-color: rgba(251, 144, 112, 0.7); padding: 2px 4px; margin: 2px; text-decoration: none;\">innovative</span> <span style=\"background-color: rgba(255, 255, 255, 0); padding: 2px 4px; margin: 2px; text-decoration: none;\">solutions</span> <span style=\"background-color: rgba(255, 255, 255, 0); padding: 2px 4px; margin: 2px; text-decoration: none;\">.</span> </p>"
      ],
      "text/plain": [
       "<IPython.core.display.HTML object>"
      ]
     },
     "metadata": {},
     "output_type": "display_data"
    },
    {
     "data": {
      "text/html": [
       "<p style='font-family: monospace; text-decoration: none;'><span style=\"background-color: rgba(103, 0, 12, 0.7); padding: 2px 4px; margin: 2px; text-decoration: none;\">The</span> <span style=\"background-color: rgba(238, 58, 43, 0.7); padding: 2px 4px; margin: 2px; text-decoration: none;\">adm</span> <span style=\"background-color: rgba(251, 136, 104, 0.7); padding: 2px 4px; margin: 2px; text-decoration: none;\">iral</span> <span style=\"background-color: rgba(251, 109, 77, 0.7); padding: 2px 4px; margin: 2px; text-decoration: none;\">made</span> <span style=\"background-color: rgba(251, 115, 83, 0.7); padding: 2px 4px; margin: 2px; text-decoration: none;\">critical</span> <span style=\"background-color: rgba(255, 255, 255, 0); padding: 2px 4px; margin: 2px; text-decoration: none;\">decisions</span> <span style=\"background-color: rgba(255, 255, 255, 0); padding: 2px 4px; margin: 2px; text-decoration: none;\">during</span> <span style=\"background-color: rgba(255, 255, 255, 0); padding: 2px 4px; margin: 2px; text-decoration: none;\">the</span> <span style=\"background-color: rgba(251, 109, 77, 0.7); padding: 2px 4px; margin: 2px; text-decoration: none;\">naval</span> <span style=\"background-color: rgba(255, 255, 255, 0); padding: 2px 4px; margin: 2px; text-decoration: none;\">mission</span> <span style=\"background-color: rgba(103, 0, 12, 0.7); padding: 2px 4px; margin: 2px; text-decoration: none;\">,</span> <span style=\"background-color: rgba(252, 172, 144, 0.7); padding: 2px 4px; margin: 2px; text-decoration: none;\">ensuring</span> <span style=\"background-color: rgba(255, 255, 255, 0); padding: 2px 4px; margin: 2px; text-decoration: none;\">the</span> <span style=\"background-color: rgba(252, 168, 139, 0.7); padding: 2px 4px; margin: 2px; text-decoration: none;\">safety</span> <span style=\"background-color: rgba(255, 255, 255, 0); padding: 2px 4px; margin: 2px; text-decoration: none;\">of</span> <span style=\"background-color: rgba(252, 148, 116, 0.7); padding: 2px 4px; margin: 2px; text-decoration: none;\">his</span> <span style=\"background-color: rgba(255, 255, 255, 0); padding: 2px 4px; margin: 2px; text-decoration: none;\">fleet</span> <span style=\"background-color: rgba(255, 255, 255, 0); padding: 2px 4px; margin: 2px; text-decoration: none;\">.</span> </p>"
      ],
      "text/plain": [
       "<IPython.core.display.HTML object>"
      ]
     },
     "metadata": {},
     "output_type": "display_data"
    },
    {
     "data": {
      "text/html": [
       "<p style='font-family: monospace; text-decoration: none;'><span style=\"background-color: rgba(103, 0, 12, 0.7); padding: 2px 4px; margin: 2px; text-decoration: none;\">The</span> <span style=\"background-color: rgba(245, 83, 59, 0.7); padding: 2px 4px; margin: 2px; text-decoration: none;\">activ</span> <span style=\"background-color: rgba(255, 255, 255, 0); padding: 2px 4px; margin: 2px; text-decoration: none;\">ist</span> <span style=\"background-color: rgba(251, 132, 100, 0.7); padding: 2px 4px; margin: 2px; text-decoration: none;\">mobil</span> <span style=\"background-color: rgba(251, 138, 106, 0.7); padding: 2px 4px; margin: 2px; text-decoration: none;\">ized</span> <span style=\"background-color: rgba(251, 122, 90, 0.7); padding: 2px 4px; margin: 2px; text-decoration: none;\">a</span> <span style=\"background-color: rgba(251, 117, 85, 0.7); padding: 2px 4px; margin: 2px; text-decoration: none;\">massive</span> <span style=\"background-color: rgba(249, 100, 70, 0.7); padding: 2px 4px; margin: 2px; text-decoration: none;\">movement</span> <span style=\"background-color: rgba(103, 0, 12, 0.7); padding: 2px 4px; margin: 2px; text-decoration: none;\">for</span> <span style=\"background-color: rgba(251, 141, 109, 0.7); padding: 2px 4px; margin: 2px; text-decoration: none;\">social</span> <span style=\"background-color: rgba(255, 255, 255, 0); padding: 2px 4px; margin: 2px; text-decoration: none;\">justice</span> <span style=\"background-color: rgba(255, 255, 255, 0); padding: 2px 4px; margin: 2px; text-decoration: none;\">and</span> <span style=\"background-color: rgba(255, 255, 255, 0); padding: 2px 4px; margin: 2px; text-decoration: none;\">equality</span> <span style=\"background-color: rgba(255, 255, 255, 0); padding: 2px 4px; margin: 2px; text-decoration: none;\">.</span> </p>"
      ],
      "text/plain": [
       "<IPython.core.display.HTML object>"
      ]
     },
     "metadata": {},
     "output_type": "display_data"
    },
    {
     "data": {
      "text/html": [
       "<p style='font-family: monospace; text-decoration: none;'><span style=\"background-color: rgba(103, 0, 12, 0.7); padding: 2px 4px; margin: 2px; text-decoration: none;\">The</span> <span style=\"background-color: rgba(250, 103, 72, 0.7); padding: 2px 4px; margin: 2px; text-decoration: none;\">commander</span> <span style=\"background-color: rgba(244, 81, 58, 0.7); padding: 2px 4px; margin: 2px; text-decoration: none;\">dev</span> <span style=\"background-color: rgba(251, 134, 102, 0.7); padding: 2px 4px; margin: 2px; text-decoration: none;\">ised</span> <span style=\"background-color: rgba(255, 255, 255, 0); padding: 2px 4px; margin: 2px; text-decoration: none;\">a</span> <span style=\"background-color: rgba(252, 157, 126, 0.7); padding: 2px 4px; margin: 2px; text-decoration: none;\">brilliant</span> <span style=\"background-color: rgba(251, 126, 94, 0.7); padding: 2px 4px; margin: 2px; text-decoration: none;\">strategy</span> <span style=\"background-color: rgba(103, 0, 12, 0.7); padding: 2px 4px; margin: 2px; text-decoration: none;\">that</span> <span style=\"background-color: rgba(251, 134, 102, 0.7); padding: 2px 4px; margin: 2px; text-decoration: none;\">secured</span> <span style=\"background-color: rgba(251, 126, 94, 0.7); padding: 2px 4px; margin: 2px; text-decoration: none;\">victory</span> <span style=\"background-color: rgba(255, 255, 255, 0); padding: 2px 4px; margin: 2px; text-decoration: none;\">in</span> <span style=\"background-color: rgba(255, 255, 255, 0); padding: 2px 4px; margin: 2px; text-decoration: none;\">the</span> <span style=\"background-color: rgba(255, 255, 255, 0); padding: 2px 4px; margin: 2px; text-decoration: none;\">final</span> <span style=\"background-color: rgba(255, 255, 255, 0); padding: 2px 4px; margin: 2px; text-decoration: none;\">battle</span> <span style=\"background-color: rgba(255, 255, 255, 0); padding: 2px 4px; margin: 2px; text-decoration: none;\">.</span> </p>"
      ],
      "text/plain": [
       "<IPython.core.display.HTML object>"
      ]
     },
     "metadata": {},
     "output_type": "display_data"
    },
    {
     "data": {
      "text/html": [
       "<p style='font-family: monospace; text-decoration: none;'><span style=\"background-color: rgba(103, 0, 12, 0.7); padding: 2px 4px; margin: 2px; text-decoration: none;\">The</span> <span style=\"background-color: rgba(255, 255, 255, 0); padding: 2px 4px; margin: 2px; text-decoration: none;\">cat</span> <span style=\"background-color: rgba(252, 146, 114, 0.7); padding: 2px 4px; margin: 2px; text-decoration: none;\">jumped</span> <span style=\"background-color: rgba(255, 255, 255, 0); padding: 2px 4px; margin: 2px; text-decoration: none;\">over</span> <span style=\"background-color: rgba(255, 255, 255, 0); padding: 2px 4px; margin: 2px; text-decoration: none;\">the</span> <span style=\"background-color: rgba(255, 255, 255, 0); padding: 2px 4px; margin: 2px; text-decoration: none;\">fence</span> <span style=\"background-color: rgba(103, 0, 12, 0.7); padding: 2px 4px; margin: 2px; text-decoration: none;\">and</span> <span style=\"background-color: rgba(251, 138, 106, 0.7); padding: 2px 4px; margin: 2px; text-decoration: none;\">ch</span> <span style=\"background-color: rgba(255, 255, 255, 0); padding: 2px 4px; margin: 2px; text-decoration: none;\">ased</span> <span style=\"background-color: rgba(255, 255, 255, 0); padding: 2px 4px; margin: 2px; text-decoration: none;\">a</span> <span style=\"background-color: rgba(255, 255, 255, 0); padding: 2px 4px; margin: 2px; text-decoration: none;\">butter</span> <span style=\"background-color: rgba(255, 255, 255, 0); padding: 2px 4px; margin: 2px; text-decoration: none;\">fly</span> <span style=\"background-color: rgba(255, 255, 255, 0); padding: 2px 4px; margin: 2px; text-decoration: none;\">in</span> <span style=\"background-color: rgba(255, 255, 255, 0); padding: 2px 4px; margin: 2px; text-decoration: none;\">the</span> <span style=\"background-color: rgba(255, 255, 255, 0); padding: 2px 4px; margin: 2px; text-decoration: none;\">back</span> <span style=\"background-color: rgba(255, 255, 255, 0); padding: 2px 4px; margin: 2px; text-decoration: none;\">yard</span> <span style=\"background-color: rgba(255, 255, 255, 0); padding: 2px 4px; margin: 2px; text-decoration: none;\">.</span> </p>"
      ],
      "text/plain": [
       "<IPython.core.display.HTML object>"
      ]
     },
     "metadata": {},
     "output_type": "display_data"
    },
    {
     "name": "stdout",
     "output_type": "stream",
     "text": [
      "\n",
      "Visualizing Feature 97951\n"
     ]
    },
    {
     "data": {
      "text/html": [
       "<p style='font-family: monospace; text-decoration: none;'><span style=\"background-color: rgba(134, 7, 17, 0.7); padding: 2px 4px; margin: 2px; text-decoration: none;\">The</span> <span style=\"background-color: rgba(243, 75, 54, 0.7); padding: 2px 4px; margin: 2px; text-decoration: none;\">leader</span> <span style=\"background-color: rgba(251, 119, 87, 0.7); padding: 2px 4px; margin: 2px; text-decoration: none;\">guided</span> <span style=\"background-color: rgba(251, 132, 100, 0.7); padding: 2px 4px; margin: 2px; text-decoration: none;\">the</span> <span style=\"background-color: rgba(250, 105, 73, 0.7); padding: 2px 4px; margin: 2px; text-decoration: none;\">team</span> <span style=\"background-color: rgba(251, 134, 102, 0.7); padding: 2px 4px; margin: 2px; text-decoration: none;\">through</span> <span style=\"background-color: rgba(252, 148, 116, 0.7); padding: 2px 4px; margin: 2px; text-decoration: none;\">difficult</span> <span style=\"background-color: rgba(249, 100, 70, 0.7); padding: 2px 4px; margin: 2px; text-decoration: none;\">challenges</span> <span style=\"background-color: rgba(112, 2, 14, 0.7); padding: 2px 4px; margin: 2px; text-decoration: none;\">with</span> <span style=\"background-color: rgba(252, 168, 139, 0.7); padding: 2px 4px; margin: 2px; text-decoration: none;\">un</span> <span style=\"background-color: rgba(252, 155, 125, 0.7); padding: 2px 4px; margin: 2px; text-decoration: none;\">wa</span> <span style=\"background-color: rgba(253, 211, 192, 0.7); padding: 2px 4px; margin: 2px; text-decoration: none;\">ver</span> <span style=\"background-color: rgba(252, 201, 180, 0.7); padding: 2px 4px; margin: 2px; text-decoration: none;\">ing</span> <span style=\"background-color: rgba(252, 154, 123, 0.7); padding: 2px 4px; margin: 2px; text-decoration: none;\">determination</span> <span style=\"background-color: rgba(251, 106, 74, 0.7); padding: 2px 4px; margin: 2px; text-decoration: none;\">.</span> </p>"
      ],
      "text/plain": [
       "<IPython.core.display.HTML object>"
      ]
     },
     "metadata": {},
     "output_type": "display_data"
    },
    {
     "data": {
      "text/html": [
       "<p style='font-family: monospace; text-decoration: none;'><span style=\"background-color: rgba(136, 8, 17, 0.7); padding: 2px 4px; margin: 2px; text-decoration: none;\">Her</span> <span style=\"background-color: rgba(251, 122, 90, 0.7); padding: 2px 4px; margin: 2px; text-decoration: none;\">strategic</span> <span style=\"background-color: rgba(251, 124, 92, 0.7); padding: 2px 4px; margin: 2px; text-decoration: none;\">decisions</span> <span style=\"background-color: rgba(251, 125, 93, 0.7); padding: 2px 4px; margin: 2px; text-decoration: none;\">turned</span> <span style=\"background-color: rgba(251, 114, 82, 0.7); padding: 2px 4px; margin: 2px; text-decoration: none;\">the</span> <span style=\"background-color: rgba(251, 110, 78, 0.7); padding: 2px 4px; margin: 2px; text-decoration: none;\">company</span> <span style=\"background-color: rgba(251, 110, 78, 0.7); padding: 2px 4px; margin: 2px; text-decoration: none;\">around</span> <span style=\"background-color: rgba(251, 117, 85, 0.7); padding: 2px 4px; margin: 2px; text-decoration: none;\">during</span> <span style=\"background-color: rgba(251, 140, 108, 0.7); padding: 2px 4px; margin: 2px; text-decoration: none;\">a</span> <span style=\"background-color: rgba(251, 141, 109, 0.7); padding: 2px 4px; margin: 2px; text-decoration: none;\">financial</span> <span style=\"background-color: rgba(251, 134, 102, 0.7); padding: 2px 4px; margin: 2px; text-decoration: none;\">crisis</span> <span style=\"background-color: rgba(112, 2, 14, 0.7); padding: 2px 4px; margin: 2px; text-decoration: none;\">.</span> </p>"
      ],
      "text/plain": [
       "<IPython.core.display.HTML object>"
      ]
     },
     "metadata": {},
     "output_type": "display_data"
    },
    {
     "data": {
      "text/html": [
       "<p style='font-family: monospace; text-decoration: none;'><span style=\"background-color: rgba(134, 7, 17, 0.7); padding: 2px 4px; margin: 2px; text-decoration: none;\">He</span> <span style=\"background-color: rgba(251, 110, 78, 0.7); padding: 2px 4px; margin: 2px; text-decoration: none;\">inspired</span> <span style=\"background-color: rgba(251, 115, 83, 0.7); padding: 2px 4px; margin: 2px; text-decoration: none;\">his</span> <span style=\"background-color: rgba(246, 89, 63, 0.7); padding: 2px 4px; margin: 2px; text-decoration: none;\">soldiers</span> <span style=\"background-color: rgba(114, 2, 14, 0.7); padding: 2px 4px; margin: 2px; text-decoration: none;\">with</span> <span style=\"background-color: rgba(252, 155, 125, 0.7); padding: 2px 4px; margin: 2px; text-decoration: none;\">a</span> <span style=\"background-color: rgba(252, 168, 139, 0.7); padding: 2px 4px; margin: 2px; text-decoration: none;\">bold</span> <span style=\"background-color: rgba(251, 134, 102, 0.7); padding: 2px 4px; margin: 2px; text-decoration: none;\">plan</span> <span style=\"background-color: rgba(252, 154, 123, 0.7); padding: 2px 4px; margin: 2px; text-decoration: none;\">that</span> <span style=\"background-color: rgba(252, 146, 114, 0.7); padding: 2px 4px; margin: 2px; text-decoration: none;\">led</span> <span style=\"background-color: rgba(251, 126, 94, 0.7); padding: 2px 4px; margin: 2px; text-decoration: none;\">to</span> <span style=\"background-color: rgba(251, 140, 108, 0.7); padding: 2px 4px; margin: 2px; text-decoration: none;\">a</span> <span style=\"background-color: rgba(252, 171, 142, 0.7); padding: 2px 4px; margin: 2px; text-decoration: none;\">decis</span> <span style=\"background-color: rgba(252, 180, 153, 0.7); padding: 2px 4px; margin: 2px; text-decoration: none;\">ive</span> <span style=\"background-color: rgba(251, 134, 102, 0.7); padding: 2px 4px; margin: 2px; text-decoration: none;\">victory</span> <span style=\"background-color: rgba(252, 159, 129, 0.7); padding: 2px 4px; margin: 2px; text-decoration: none;\">.</span> </p>"
      ],
      "text/plain": [
       "<IPython.core.display.HTML object>"
      ]
     },
     "metadata": {},
     "output_type": "display_data"
    },
    {
     "data": {
      "text/html": [
       "<p style='font-family: monospace; text-decoration: none;'><span style=\"background-color: rgba(134, 7, 17, 0.7); padding: 2px 4px; margin: 2px; text-decoration: none;\">The</span> <span style=\"background-color: rgba(248, 97, 68, 0.7); padding: 2px 4px; margin: 2px; text-decoration: none;\">CEO</span> <span style=\"background-color: rgba(251, 112, 80, 0.7); padding: 2px 4px; margin: 2px; text-decoration: none;\">implemented</span> <span style=\"background-color: rgba(251, 140, 108, 0.7); padding: 2px 4px; margin: 2px; text-decoration: none;\">innovative</span> <span style=\"background-color: rgba(250, 102, 71, 0.7); padding: 2px 4px; margin: 2px; text-decoration: none;\">policies</span> <span style=\"background-color: rgba(112, 2, 14, 0.7); padding: 2px 4px; margin: 2px; text-decoration: none;\">that</span> <span style=\"background-color: rgba(252, 153, 122, 0.7); padding: 2px 4px; margin: 2px; text-decoration: none;\">boost</span> <span style=\"background-color: rgba(251, 138, 106, 0.7); padding: 2px 4px; margin: 2px; text-decoration: none;\">ed</span> <span style=\"background-color: rgba(250, 102, 71, 0.7); padding: 2px 4px; margin: 2px; text-decoration: none;\">employee</span> <span style=\"background-color: rgba(251, 129, 97, 0.7); padding: 2px 4px; margin: 2px; text-decoration: none;\">mor</span> <span style=\"background-color: rgba(251, 107, 75, 0.7); padding: 2px 4px; margin: 2px; text-decoration: none;\">ale</span> <span style=\"background-color: rgba(251, 114, 82, 0.7); padding: 2px 4px; margin: 2px; text-decoration: none;\">and</span> <span style=\"background-color: rgba(249, 100, 70, 0.7); padding: 2px 4px; margin: 2px; text-decoration: none;\">productivity</span> <span style=\"background-color: rgba(251, 111, 79, 0.7); padding: 2px 4px; margin: 2px; text-decoration: none;\">.</span> </p>"
      ],
      "text/plain": [
       "<IPython.core.display.HTML object>"
      ]
     },
     "metadata": {},
     "output_type": "display_data"
    },
    {
     "data": {
      "text/html": [
       "<p style='font-family: monospace; text-decoration: none;'><span style=\"background-color: rgba(134, 7, 17, 0.7); padding: 2px 4px; margin: 2px; text-decoration: none;\">She</span> <span style=\"background-color: rgba(251, 107, 75, 0.7); padding: 2px 4px; margin: 2px; text-decoration: none;\">organized</span> <span style=\"background-color: rgba(251, 109, 77, 0.7); padding: 2px 4px; margin: 2px; text-decoration: none;\">a</span> <span style=\"background-color: rgba(251, 112, 80, 0.7); padding: 2px 4px; margin: 2px; text-decoration: none;\">community</span> <span style=\"background-color: rgba(251, 124, 92, 0.7); padding: 2px 4px; margin: 2px; text-decoration: none;\">effort</span> <span style=\"background-color: rgba(114, 2, 14, 0.7); padding: 2px 4px; margin: 2px; text-decoration: none;\">to</span> <span style=\"background-color: rgba(251, 144, 112, 0.7); padding: 2px 4px; margin: 2px; text-decoration: none;\">re</span> <span style=\"background-color: rgba(251, 140, 108, 0.7); padding: 2px 4px; margin: 2px; text-decoration: none;\">build</span> <span style=\"background-color: rgba(251, 131, 99, 0.7); padding: 2px 4px; margin: 2px; text-decoration: none;\">the</span> <span style=\"background-color: rgba(251, 116, 84, 0.7); padding: 2px 4px; margin: 2px; text-decoration: none;\">town</span> <span style=\"background-color: rgba(251, 136, 104, 0.7); padding: 2px 4px; margin: 2px; text-decoration: none;\">after</span> <span style=\"background-color: rgba(251, 135, 103, 0.7); padding: 2px 4px; margin: 2px; text-decoration: none;\">the</span> <span style=\"background-color: rgba(252, 189, 163, 0.7); padding: 2px 4px; margin: 2px; text-decoration: none;\">devast</span> <span style=\"background-color: rgba(252, 159, 129, 0.7); padding: 2px 4px; margin: 2px; text-decoration: none;\">ating</span> <span style=\"background-color: rgba(251, 143, 111, 0.7); padding: 2px 4px; margin: 2px; text-decoration: none;\">storm</span> <span style=\"background-color: rgba(251, 115, 83, 0.7); padding: 2px 4px; margin: 2px; text-decoration: none;\">.</span> </p>"
      ],
      "text/plain": [
       "<IPython.core.display.HTML object>"
      ]
     },
     "metadata": {},
     "output_type": "display_data"
    },
    {
     "data": {
      "text/html": [
       "<p style='font-family: monospace; text-decoration: none;'><span style=\"background-color: rgba(134, 7, 17, 0.7); padding: 2px 4px; margin: 2px; text-decoration: none;\">The</span> <span style=\"background-color: rgba(246, 87, 62, 0.7); padding: 2px 4px; margin: 2px; text-decoration: none;\">manager</span> <span style=\"background-color: rgba(251, 121, 89, 0.7); padding: 2px 4px; margin: 2px; text-decoration: none;\">successfully</span> <span style=\"background-color: rgba(251, 106, 74, 0.7); padding: 2px 4px; margin: 2px; text-decoration: none;\">negoti</span> <span style=\"background-color: rgba(251, 124, 92, 0.7); padding: 2px 4px; margin: 2px; text-decoration: none;\">ated</span> <span style=\"background-color: rgba(251, 134, 102, 0.7); padding: 2px 4px; margin: 2px; text-decoration: none;\">a</span> <span style=\"background-color: rgba(251, 125, 93, 0.7); padding: 2px 4px; margin: 2px; text-decoration: none;\">critical</span> <span style=\"background-color: rgba(251, 115, 83, 0.7); padding: 2px 4px; margin: 2px; text-decoration: none;\">deal</span> <span style=\"background-color: rgba(112, 2, 14, 0.7); padding: 2px 4px; margin: 2px; text-decoration: none;\">that</span> <span style=\"background-color: rgba(252, 148, 116, 0.7); padding: 2px 4px; margin: 2px; text-decoration: none;\">saved</span> <span style=\"background-color: rgba(251, 145, 113, 0.7); padding: 2px 4px; margin: 2px; text-decoration: none;\">the</span> <span style=\"background-color: rgba(251, 119, 87, 0.7); padding: 2px 4px; margin: 2px; text-decoration: none;\">partnership</span> <span style=\"background-color: rgba(251, 125, 93, 0.7); padding: 2px 4px; margin: 2px; text-decoration: none;\">.</span> </p>"
      ],
      "text/plain": [
       "<IPython.core.display.HTML object>"
      ]
     },
     "metadata": {},
     "output_type": "display_data"
    },
    {
     "data": {
      "text/html": [
       "<p style='font-family: monospace; text-decoration: none;'><span style=\"background-color: rgba(134, 7, 17, 0.7); padding: 2px 4px; margin: 2px; text-decoration: none;\">He</span> <span style=\"background-color: rgba(255, 255, 255, 0); padding: 2px 4px; margin: 2px; text-decoration: none;\">r</span> <span style=\"background-color: rgba(248, 96, 67, 0.7); padding: 2px 4px; margin: 2px; text-decoration: none;\">all</span> <span style=\"background-color: rgba(251, 117, 85, 0.7); padding: 2px 4px; margin: 2px; text-decoration: none;\">ied</span> <span style=\"background-color: rgba(251, 114, 82, 0.7); padding: 2px 4px; margin: 2px; text-decoration: none;\">the</span> <span style=\"background-color: rgba(248, 97, 68, 0.7); padding: 2px 4px; margin: 2px; text-decoration: none;\">team</span> <span style=\"background-color: rgba(114, 2, 14, 0.7); padding: 2px 4px; margin: 2px; text-decoration: none;\">to</span> <span style=\"background-color: rgba(251, 131, 99, 0.7); padding: 2px 4px; margin: 2px; text-decoration: none;\">achieve</span> <span style=\"background-color: rgba(251, 134, 102, 0.7); padding: 2px 4px; margin: 2px; text-decoration: none;\">a</span> <span style=\"background-color: rgba(251, 136, 104, 0.7); padding: 2px 4px; margin: 2px; text-decoration: none;\">record</span> <span style=\"background-color: rgba(252, 160, 131, 0.7); padding: 2px 4px; margin: 2px; text-decoration: none;\">-</span> <span style=\"background-color: rgba(252, 153, 122, 0.7); padding: 2px 4px; margin: 2px; text-decoration: none;\">breaking</span> <span style=\"background-color: rgba(251, 106, 74, 0.7); padding: 2px 4px; margin: 2px; text-decoration: none;\">performance</span> <span style=\"background-color: rgba(251, 122, 90, 0.7); padding: 2px 4px; margin: 2px; text-decoration: none;\">in</span> <span style=\"background-color: rgba(251, 121, 89, 0.7); padding: 2px 4px; margin: 2px; text-decoration: none;\">the</span> <span style=\"background-color: rgba(251, 115, 83, 0.7); padding: 2px 4px; margin: 2px; text-decoration: none;\">quarter</span> <span style=\"background-color: rgba(251, 138, 106, 0.7); padding: 2px 4px; margin: 2px; text-decoration: none;\">.</span> </p>"
      ],
      "text/plain": [
       "<IPython.core.display.HTML object>"
      ]
     },
     "metadata": {},
     "output_type": "display_data"
    },
    {
     "data": {
      "text/html": [
       "<p style='font-family: monospace; text-decoration: none;'><span style=\"background-color: rgba(136, 8, 17, 0.7); padding: 2px 4px; margin: 2px; text-decoration: none;\">Her</span> <span style=\"background-color: rgba(242, 72, 52, 0.7); padding: 2px 4px; margin: 2px; text-decoration: none;\">spe</span> <span style=\"background-color: rgba(229, 49, 39, 0.7); padding: 2px 4px; margin: 2px; text-decoration: none;\">e</span> <span style=\"background-color: rgba(251, 110, 78, 0.7); padding: 2px 4px; margin: 2px; text-decoration: none;\">ches</span> <span style=\"background-color: rgba(251, 117, 85, 0.7); padding: 2px 4px; margin: 2px; text-decoration: none;\">have</span> <span style=\"background-color: rgba(251, 111, 79, 0.7); padding: 2px 4px; margin: 2px; text-decoration: none;\">motivated</span> <span style=\"background-color: rgba(251, 122, 90, 0.7); padding: 2px 4px; margin: 2px; text-decoration: none;\">countless</span> <span style=\"background-color: rgba(251, 119, 87, 0.7); padding: 2px 4px; margin: 2px; text-decoration: none;\">individuals</span> <span style=\"background-color: rgba(112, 2, 14, 0.7); padding: 2px 4px; margin: 2px; text-decoration: none;\">to</span> <span style=\"background-color: rgba(252, 172, 144, 0.7); padding: 2px 4px; margin: 2px; text-decoration: none;\">pursue</span> <span style=\"background-color: rgba(252, 186, 160, 0.7); padding: 2px 4px; margin: 2px; text-decoration: none;\">their</span> <span style=\"background-color: rgba(252, 159, 129, 0.7); padding: 2px 4px; margin: 2px; text-decoration: none;\">dreams</span> <span style=\"background-color: rgba(252, 150, 119, 0.7); padding: 2px 4px; margin: 2px; text-decoration: none;\">and</span> <span style=\"background-color: rgba(252, 154, 123, 0.7); padding: 2px 4px; margin: 2px; text-decoration: none;\">amb</span> <span style=\"background-color: rgba(252, 160, 131, 0.7); padding: 2px 4px; margin: 2px; text-decoration: none;\">itions</span> <span style=\"background-color: rgba(252, 160, 131, 0.7); padding: 2px 4px; margin: 2px; text-decoration: none;\">.</span> </p>"
      ],
      "text/plain": [
       "<IPython.core.display.HTML object>"
      ]
     },
     "metadata": {},
     "output_type": "display_data"
    },
    {
     "data": {
      "text/html": [
       "<p style='font-family: monospace; text-decoration: none;'><span style=\"background-color: rgba(134, 7, 17, 0.7); padding: 2px 4px; margin: 2px; text-decoration: none;\">The</span> <span style=\"background-color: rgba(250, 105, 73, 0.7); padding: 2px 4px; margin: 2px; text-decoration: none;\">mayor</span> <span style=\"background-color: rgba(251, 112, 80, 0.7); padding: 2px 4px; margin: 2px; text-decoration: none;\">took</span> <span style=\"background-color: rgba(252, 153, 122, 0.7); padding: 2px 4px; margin: 2px; text-decoration: none;\">swift</span> <span style=\"background-color: rgba(251, 121, 89, 0.7); padding: 2px 4px; margin: 2px; text-decoration: none;\">action</span> <span style=\"background-color: rgba(112, 2, 14, 0.7); padding: 2px 4px; margin: 2px; text-decoration: none;\">to</span> <span style=\"background-color: rgba(251, 130, 98, 0.7); padding: 2px 4px; margin: 2px; text-decoration: none;\">address</span> <span style=\"background-color: rgba(251, 117, 85, 0.7); padding: 2px 4px; margin: 2px; text-decoration: none;\">the</span> <span style=\"background-color: rgba(251, 106, 74, 0.7); padding: 2px 4px; margin: 2px; text-decoration: none;\">concerns</span> <span style=\"background-color: rgba(251, 140, 108, 0.7); padding: 2px 4px; margin: 2px; text-decoration: none;\">of</span> <span style=\"background-color: rgba(251, 135, 103, 0.7); padding: 2px 4px; margin: 2px; text-decoration: none;\">the</span> <span style=\"background-color: rgba(247, 90, 64, 0.7); padding: 2px 4px; margin: 2px; text-decoration: none;\">citizens</span> <span style=\"background-color: rgba(251, 132, 100, 0.7); padding: 2px 4px; margin: 2px; text-decoration: none;\">during</span> <span style=\"background-color: rgba(251, 114, 82, 0.7); padding: 2px 4px; margin: 2px; text-decoration: none;\">the</span> <span style=\"background-color: rgba(251, 111, 79, 0.7); padding: 2px 4px; margin: 2px; text-decoration: none;\">emergency</span> <span style=\"background-color: rgba(251, 125, 93, 0.7); padding: 2px 4px; margin: 2px; text-decoration: none;\">.</span> </p>"
      ],
      "text/plain": [
       "<IPython.core.display.HTML object>"
      ]
     },
     "metadata": {},
     "output_type": "display_data"
    },
    {
     "data": {
      "text/html": [
       "<p style='font-family: monospace; text-decoration: none;'><span style=\"background-color: rgba(134, 7, 17, 0.7); padding: 2px 4px; margin: 2px; text-decoration: none;\">He</span> <span style=\"background-color: rgba(251, 116, 84, 0.7); padding: 2px 4px; margin: 2px; text-decoration: none;\">led</span> <span style=\"background-color: rgba(251, 141, 109, 0.7); padding: 2px 4px; margin: 2px; text-decoration: none;\">the</span> <span style=\"background-color: rgba(251, 129, 97, 0.7); padding: 2px 4px; margin: 2px; text-decoration: none;\">research</span> <span style=\"background-color: rgba(252, 150, 119, 0.7); padding: 2px 4px; margin: 2px; text-decoration: none;\">team</span> <span style=\"background-color: rgba(114, 2, 14, 0.7); padding: 2px 4px; margin: 2px; text-decoration: none;\">to</span> <span style=\"background-color: rgba(251, 140, 108, 0.7); padding: 2px 4px; margin: 2px; text-decoration: none;\">develop</span> <span style=\"background-color: rgba(251, 136, 104, 0.7); padding: 2px 4px; margin: 2px; text-decoration: none;\">ground</span> <span style=\"background-color: rgba(252, 157, 126, 0.7); padding: 2px 4px; margin: 2px; text-decoration: none;\">breaking</span> <span style=\"background-color: rgba(251, 122, 90, 0.7); padding: 2px 4px; margin: 2px; text-decoration: none;\">technology</span> <span style=\"background-color: rgba(252, 158, 128, 0.7); padding: 2px 4px; margin: 2px; text-decoration: none;\">that</span> <span style=\"background-color: rgba(252, 155, 125, 0.7); padding: 2px 4px; margin: 2px; text-decoration: none;\">revolution</span> <span style=\"background-color: rgba(252, 157, 126, 0.7); padding: 2px 4px; margin: 2px; text-decoration: none;\">ized</span> <span style=\"background-color: rgba(251, 136, 104, 0.7); padding: 2px 4px; margin: 2px; text-decoration: none;\">the</span> <span style=\"background-color: rgba(251, 115, 83, 0.7); padding: 2px 4px; margin: 2px; text-decoration: none;\">industry</span> <span style=\"background-color: rgba(251, 145, 113, 0.7); padding: 2px 4px; margin: 2px; text-decoration: none;\">.</span> </p>"
      ],
      "text/plain": [
       "<IPython.core.display.HTML object>"
      ]
     },
     "metadata": {},
     "output_type": "display_data"
    },
    {
     "data": {
      "text/html": [
       "<p style='font-family: monospace; text-decoration: none;'><span style=\"background-color: rgba(134, 7, 17, 0.7); padding: 2px 4px; margin: 2px; text-decoration: none;\">The</span> <span style=\"background-color: rgba(245, 86, 61, 0.7); padding: 2px 4px; margin: 2px; text-decoration: none;\">principal</span> <span style=\"background-color: rgba(249, 100, 70, 0.7); padding: 2px 4px; margin: 2px; text-decoration: none;\">transformed</span> <span style=\"background-color: rgba(251, 109, 77, 0.7); padding: 2px 4px; margin: 2px; text-decoration: none;\">the</span> <span style=\"background-color: rgba(251, 131, 99, 0.7); padding: 2px 4px; margin: 2px; text-decoration: none;\">failing</span> <span style=\"background-color: rgba(249, 100, 70, 0.7); padding: 2px 4px; margin: 2px; text-decoration: none;\">school</span> <span style=\"background-color: rgba(251, 121, 89, 0.7); padding: 2px 4px; margin: 2px; text-decoration: none;\">into</span> <span style=\"background-color: rgba(251, 112, 80, 0.7); padding: 2px 4px; margin: 2px; text-decoration: none;\">one</span> <span style=\"background-color: rgba(112, 2, 14, 0.7); padding: 2px 4px; margin: 2px; text-decoration: none;\">of</span> <span style=\"background-color: rgba(252, 162, 132, 0.7); padding: 2px 4px; margin: 2px; text-decoration: none;\">the</span> <span style=\"background-color: rgba(252, 158, 128, 0.7); padding: 2px 4px; margin: 2px; text-decoration: none;\">top</span> <span style=\"background-color: rgba(252, 150, 119, 0.7); padding: 2px 4px; margin: 2px; text-decoration: none;\">institutions</span> <span style=\"background-color: rgba(252, 164, 135, 0.7); padding: 2px 4px; margin: 2px; text-decoration: none;\">in</span> <span style=\"background-color: rgba(252, 149, 117, 0.7); padding: 2px 4px; margin: 2px; text-decoration: none;\">the</span> <span style=\"background-color: rgba(246, 89, 63, 0.7); padding: 2px 4px; margin: 2px; text-decoration: none;\">district</span> <span style=\"background-color: rgba(251, 138, 106, 0.7); padding: 2px 4px; margin: 2px; text-decoration: none;\">.</span> </p>"
      ],
      "text/plain": [
       "<IPython.core.display.HTML object>"
      ]
     },
     "metadata": {},
     "output_type": "display_data"
    },
    {
     "data": {
      "text/html": [
       "<p style='font-family: monospace; text-decoration: none;'><span style=\"background-color: rgba(134, 7, 17, 0.7); padding: 2px 4px; margin: 2px; text-decoration: none;\">She</span> <span style=\"background-color: rgba(251, 115, 83, 0.7); padding: 2px 4px; margin: 2px; text-decoration: none;\">established</span> <span style=\"background-color: rgba(251, 117, 85, 0.7); padding: 2px 4px; margin: 2px; text-decoration: none;\">a</span> <span style=\"background-color: rgba(251, 107, 75, 0.7); padding: 2px 4px; margin: 2px; text-decoration: none;\">global</span> <span style=\"background-color: rgba(249, 100, 70, 0.7); padding: 2px 4px; margin: 2px; text-decoration: none;\">initiative</span> <span style=\"background-color: rgba(112, 2, 14, 0.7); padding: 2px 4px; margin: 2px; text-decoration: none;\">to</span> <span style=\"background-color: rgba(251, 134, 102, 0.7); padding: 2px 4px; margin: 2px; text-decoration: none;\">tackle</span> <span style=\"background-color: rgba(250, 105, 73, 0.7); padding: 2px 4px; margin: 2px; text-decoration: none;\">climate</span> <span style=\"background-color: rgba(251, 143, 111, 0.7); padding: 2px 4px; margin: 2px; text-decoration: none;\">change</span> <span style=\"background-color: rgba(251, 116, 84, 0.7); padding: 2px 4px; margin: 2px; text-decoration: none;\">and</span> <span style=\"background-color: rgba(251, 144, 112, 0.7); padding: 2px 4px; margin: 2px; text-decoration: none;\">promote</span> <span style=\"background-color: rgba(251, 145, 113, 0.7); padding: 2px 4px; margin: 2px; text-decoration: none;\">sustain</span> <span style=\"background-color: rgba(252, 150, 119, 0.7); padding: 2px 4px; margin: 2px; text-decoration: none;\">ability</span> <span style=\"background-color: rgba(251, 117, 85, 0.7); padding: 2px 4px; margin: 2px; text-decoration: none;\">.</span> </p>"
      ],
      "text/plain": [
       "<IPython.core.display.HTML object>"
      ]
     },
     "metadata": {},
     "output_type": "display_data"
    },
    {
     "data": {
      "text/html": [
       "<p style='font-family: monospace; text-decoration: none;'><span style=\"background-color: rgba(134, 7, 17, 0.7); padding: 2px 4px; margin: 2px; text-decoration: none;\">The</span> <span style=\"background-color: rgba(246, 89, 63, 0.7); padding: 2px 4px; margin: 2px; text-decoration: none;\">coach</span> <span style=\"background-color: rgba(239, 62, 46, 0.7); padding: 2px 4px; margin: 2px; text-decoration: none;\">inst</span> <span style=\"background-color: rgba(252, 153, 122, 0.7); padding: 2px 4px; margin: 2px; text-decoration: none;\">illed</span> <span style=\"background-color: rgba(247, 90, 64, 0.7); padding: 2px 4px; margin: 2px; text-decoration: none;\">discipline</span> <span style=\"background-color: rgba(114, 2, 14, 0.7); padding: 2px 4px; margin: 2px; text-decoration: none;\">and</span> <span style=\"background-color: rgba(251, 144, 112, 0.7); padding: 2px 4px; margin: 2px; text-decoration: none;\">team</span> <span style=\"background-color: rgba(251, 126, 94, 0.7); padding: 2px 4px; margin: 2px; text-decoration: none;\">work</span> <span style=\"background-color: rgba(251, 140, 108, 0.7); padding: 2px 4px; margin: 2px; text-decoration: none;\">to</span> <span style=\"background-color: rgba(251, 134, 102, 0.7); padding: 2px 4px; margin: 2px; text-decoration: none;\">lead</span> <span style=\"background-color: rgba(252, 150, 119, 0.7); padding: 2px 4px; margin: 2px; text-decoration: none;\">the</span> <span style=\"background-color: rgba(252, 157, 126, 0.7); padding: 2px 4px; margin: 2px; text-decoration: none;\">under</span> <span style=\"background-color: rgba(252, 173, 145, 0.7); padding: 2px 4px; margin: 2px; text-decoration: none;\">dog</span> <span style=\"background-color: rgba(252, 155, 125, 0.7); padding: 2px 4px; margin: 2px; text-decoration: none;\">team</span> <span style=\"background-color: rgba(252, 177, 150, 0.7); padding: 2px 4px; margin: 2px; text-decoration: none;\">to</span> <span style=\"background-color: rgba(252, 169, 141, 0.7); padding: 2px 4px; margin: 2px; text-decoration: none;\">the</span> <span style=\"background-color: rgba(251, 125, 93, 0.7); padding: 2px 4px; margin: 2px; text-decoration: none;\">championship</span> <span style=\"background-color: rgba(251, 114, 82, 0.7); padding: 2px 4px; margin: 2px; text-decoration: none;\">.</span> </p>"
      ],
      "text/plain": [
       "<IPython.core.display.HTML object>"
      ]
     },
     "metadata": {},
     "output_type": "display_data"
    },
    {
     "data": {
      "text/html": [
       "<p style='font-family: monospace; text-decoration: none;'><span style=\"background-color: rgba(134, 7, 17, 0.7); padding: 2px 4px; margin: 2px; text-decoration: none;\">He</span> <span style=\"background-color: rgba(251, 109, 77, 0.7); padding: 2px 4px; margin: 2px; text-decoration: none;\">introduced</span> <span style=\"background-color: rgba(248, 94, 66, 0.7); padding: 2px 4px; margin: 2px; text-decoration: none;\">reform</span> <span style=\"background-color: rgba(248, 94, 66, 0.7); padding: 2px 4px; margin: 2px; text-decoration: none;\">s</span> <span style=\"background-color: rgba(112, 2, 14, 0.7); padding: 2px 4px; margin: 2px; text-decoration: none;\">that</span> <span style=\"background-color: rgba(251, 121, 89, 0.7); padding: 2px 4px; margin: 2px; text-decoration: none;\">improved</span> <span style=\"background-color: rgba(251, 109, 77, 0.7); padding: 2px 4px; margin: 2px; text-decoration: none;\">trans</span> <span style=\"background-color: rgba(251, 111, 79, 0.7); padding: 2px 4px; margin: 2px; text-decoration: none;\">parency</span> <span style=\"background-color: rgba(251, 120, 88, 0.7); padding: 2px 4px; margin: 2px; text-decoration: none;\">and</span> <span style=\"background-color: rgba(251, 114, 82, 0.7); padding: 2px 4px; margin: 2px; text-decoration: none;\">trust</span> <span style=\"background-color: rgba(252, 158, 128, 0.7); padding: 2px 4px; margin: 2px; text-decoration: none;\">in</span> <span style=\"background-color: rgba(251, 134, 102, 0.7); padding: 2px 4px; margin: 2px; text-decoration: none;\">the</span> <span style=\"background-color: rgba(248, 96, 67, 0.7); padding: 2px 4px; margin: 2px; text-decoration: none;\">government</span> <span style=\"background-color: rgba(251, 119, 87, 0.7); padding: 2px 4px; margin: 2px; text-decoration: none;\">.</span> </p>"
      ],
      "text/plain": [
       "<IPython.core.display.HTML object>"
      ]
     },
     "metadata": {},
     "output_type": "display_data"
    },
    {
     "data": {
      "text/html": [
       "<p style='font-family: monospace; text-decoration: none;'><span style=\"background-color: rgba(134, 7, 17, 0.7); padding: 2px 4px; margin: 2px; text-decoration: none;\">The</span> <span style=\"background-color: rgba(248, 96, 67, 0.7); padding: 2px 4px; margin: 2px; text-decoration: none;\">director</span> <span style=\"background-color: rgba(250, 103, 72, 0.7); padding: 2px 4px; margin: 2px; text-decoration: none;\">managed</span> <span style=\"background-color: rgba(112, 2, 14, 0.7); padding: 2px 4px; margin: 2px; text-decoration: none;\">to</span> <span style=\"background-color: rgba(252, 149, 117, 0.7); padding: 2px 4px; margin: 2px; text-decoration: none;\">turn</span> <span style=\"background-color: rgba(251, 139, 107, 0.7); padding: 2px 4px; margin: 2px; text-decoration: none;\">a</span> <span style=\"background-color: rgba(251, 130, 98, 0.7); padding: 2px 4px; margin: 2px; text-decoration: none;\">small</span> <span style=\"background-color: rgba(251, 126, 94, 0.7); padding: 2px 4px; margin: 2px; text-decoration: none;\">startup</span> <span style=\"background-color: rgba(251, 141, 109, 0.7); padding: 2px 4px; margin: 2px; text-decoration: none;\">into</span> <span style=\"background-color: rgba(251, 139, 107, 0.7); padding: 2px 4px; margin: 2px; text-decoration: none;\">a</span> <span style=\"background-color: rgba(252, 154, 123, 0.7); padding: 2px 4px; margin: 2px; text-decoration: none;\">leading</span> <span style=\"background-color: rgba(251, 132, 100, 0.7); padding: 2px 4px; margin: 2px; text-decoration: none;\">company</span> <span style=\"background-color: rgba(252, 159, 129, 0.7); padding: 2px 4px; margin: 2px; text-decoration: none;\">in</span> <span style=\"background-color: rgba(252, 148, 116, 0.7); padding: 2px 4px; margin: 2px; text-decoration: none;\">the</span> <span style=\"background-color: rgba(255, 255, 255, 0); padding: 2px 4px; margin: 2px; text-decoration: none;\">tech</span> <span style=\"background-color: rgba(252, 158, 128, 0.7); padding: 2px 4px; margin: 2px; text-decoration: none;\">sector</span> <span style=\"background-color: rgba(251, 119, 87, 0.7); padding: 2px 4px; margin: 2px; text-decoration: none;\">.</span> </p>"
      ],
      "text/plain": [
       "<IPython.core.display.HTML object>"
      ]
     },
     "metadata": {},
     "output_type": "display_data"
    },
    {
     "data": {
      "text/html": [
       "<p style='font-family: monospace; text-decoration: none;'><span style=\"background-color: rgba(136, 8, 17, 0.7); padding: 2px 4px; margin: 2px; text-decoration: none;\">Her</span> <span style=\"background-color: rgba(251, 109, 77, 0.7); padding: 2px 4px; margin: 2px; text-decoration: none;\">bold</span> <span style=\"background-color: rgba(248, 94, 66, 0.7); padding: 2px 4px; margin: 2px; text-decoration: none;\">vision</span> <span style=\"background-color: rgba(112, 2, 14, 0.7); padding: 2px 4px; margin: 2px; text-decoration: none;\">for</span> <span style=\"background-color: rgba(251, 109, 77, 0.7); padding: 2px 4px; margin: 2px; text-decoration: none;\">the</span> <span style=\"background-color: rgba(251, 119, 87, 0.7); padding: 2px 4px; margin: 2px; text-decoration: none;\">future</span> <span style=\"background-color: rgba(251, 125, 93, 0.7); padding: 2px 4px; margin: 2px; text-decoration: none;\">inspired</span> <span style=\"background-color: rgba(252, 148, 116, 0.7); padding: 2px 4px; margin: 2px; text-decoration: none;\">her</span> <span style=\"background-color: rgba(246, 89, 63, 0.7); padding: 2px 4px; margin: 2px; text-decoration: none;\">colleagues</span> <span style=\"background-color: rgba(250, 102, 71, 0.7); padding: 2px 4px; margin: 2px; text-decoration: none;\">to</span> <span style=\"background-color: rgba(251, 130, 98, 0.7); padding: 2px 4px; margin: 2px; text-decoration: none;\">embrace</span> <span style=\"background-color: rgba(252, 146, 114, 0.7); padding: 2px 4px; margin: 2px; text-decoration: none;\">innovative</span> <span style=\"background-color: rgba(251, 130, 98, 0.7); padding: 2px 4px; margin: 2px; text-decoration: none;\">solutions</span> <span style=\"background-color: rgba(252, 153, 122, 0.7); padding: 2px 4px; margin: 2px; text-decoration: none;\">.</span> </p>"
      ],
      "text/plain": [
       "<IPython.core.display.HTML object>"
      ]
     },
     "metadata": {},
     "output_type": "display_data"
    },
    {
     "data": {
      "text/html": [
       "<p style='font-family: monospace; text-decoration: none;'><span style=\"background-color: rgba(134, 7, 17, 0.7); padding: 2px 4px; margin: 2px; text-decoration: none;\">The</span> <span style=\"background-color: rgba(255, 255, 255, 0); padding: 2px 4px; margin: 2px; text-decoration: none;\">adm</span> <span style=\"background-color: rgba(251, 138, 106, 0.7); padding: 2px 4px; margin: 2px; text-decoration: none;\">iral</span> <span style=\"background-color: rgba(251, 119, 87, 0.7); padding: 2px 4px; margin: 2px; text-decoration: none;\">made</span> <span style=\"background-color: rgba(251, 122, 90, 0.7); padding: 2px 4px; margin: 2px; text-decoration: none;\">critical</span> <span style=\"background-color: rgba(251, 110, 78, 0.7); padding: 2px 4px; margin: 2px; text-decoration: none;\">decisions</span> <span style=\"background-color: rgba(251, 125, 93, 0.7); padding: 2px 4px; margin: 2px; text-decoration: none;\">during</span> <span style=\"background-color: rgba(251, 124, 92, 0.7); padding: 2px 4px; margin: 2px; text-decoration: none;\">the</span> <span style=\"background-color: rgba(251, 112, 80, 0.7); padding: 2px 4px; margin: 2px; text-decoration: none;\">naval</span> <span style=\"background-color: rgba(249, 100, 70, 0.7); padding: 2px 4px; margin: 2px; text-decoration: none;\">mission</span> <span style=\"background-color: rgba(112, 2, 14, 0.7); padding: 2px 4px; margin: 2px; text-decoration: none;\">,</span> <span style=\"background-color: rgba(252, 168, 139, 0.7); padding: 2px 4px; margin: 2px; text-decoration: none;\">ensuring</span> <span style=\"background-color: rgba(251, 145, 113, 0.7); padding: 2px 4px; margin: 2px; text-decoration: none;\">the</span> <span style=\"background-color: rgba(252, 159, 129, 0.7); padding: 2px 4px; margin: 2px; text-decoration: none;\">safety</span> <span style=\"background-color: rgba(252, 177, 150, 0.7); padding: 2px 4px; margin: 2px; text-decoration: none;\">of</span> <span style=\"background-color: rgba(251, 143, 111, 0.7); padding: 2px 4px; margin: 2px; text-decoration: none;\">his</span> <span style=\"background-color: rgba(251, 116, 84, 0.7); padding: 2px 4px; margin: 2px; text-decoration: none;\">fleet</span> <span style=\"background-color: rgba(251, 140, 108, 0.7); padding: 2px 4px; margin: 2px; text-decoration: none;\">.</span> </p>"
      ],
      "text/plain": [
       "<IPython.core.display.HTML object>"
      ]
     },
     "metadata": {},
     "output_type": "display_data"
    },
    {
     "data": {
      "text/html": [
       "<p style='font-family: monospace; text-decoration: none;'><span style=\"background-color: rgba(134, 7, 17, 0.7); padding: 2px 4px; margin: 2px; text-decoration: none;\">The</span> <span style=\"background-color: rgba(246, 87, 62, 0.7); padding: 2px 4px; margin: 2px; text-decoration: none;\">activ</span> <span style=\"background-color: rgba(252, 146, 114, 0.7); padding: 2px 4px; margin: 2px; text-decoration: none;\">ist</span> <span style=\"background-color: rgba(251, 140, 108, 0.7); padding: 2px 4px; margin: 2px; text-decoration: none;\">mobil</span> <span style=\"background-color: rgba(251, 132, 100, 0.7); padding: 2px 4px; margin: 2px; text-decoration: none;\">ized</span> <span style=\"background-color: rgba(251, 120, 88, 0.7); padding: 2px 4px; margin: 2px; text-decoration: none;\">a</span> <span style=\"background-color: rgba(251, 120, 88, 0.7); padding: 2px 4px; margin: 2px; text-decoration: none;\">massive</span> <span style=\"background-color: rgba(249, 99, 69, 0.7); padding: 2px 4px; margin: 2px; text-decoration: none;\">movement</span> <span style=\"background-color: rgba(112, 2, 14, 0.7); padding: 2px 4px; margin: 2px; text-decoration: none;\">for</span> <span style=\"background-color: rgba(252, 149, 117, 0.7); padding: 2px 4px; margin: 2px; text-decoration: none;\">social</span> <span style=\"background-color: rgba(251, 130, 98, 0.7); padding: 2px 4px; margin: 2px; text-decoration: none;\">justice</span> <span style=\"background-color: rgba(251, 139, 107, 0.7); padding: 2px 4px; margin: 2px; text-decoration: none;\">and</span> <span style=\"background-color: rgba(251, 144, 112, 0.7); padding: 2px 4px; margin: 2px; text-decoration: none;\">equality</span> <span style=\"background-color: rgba(251, 116, 84, 0.7); padding: 2px 4px; margin: 2px; text-decoration: none;\">.</span> </p>"
      ],
      "text/plain": [
       "<IPython.core.display.HTML object>"
      ]
     },
     "metadata": {},
     "output_type": "display_data"
    },
    {
     "data": {
      "text/html": [
       "<p style='font-family: monospace; text-decoration: none;'><span style=\"background-color: rgba(134, 7, 17, 0.7); padding: 2px 4px; margin: 2px; text-decoration: none;\">The</span> <span style=\"background-color: rgba(251, 106, 74, 0.7); padding: 2px 4px; margin: 2px; text-decoration: none;\">commander</span> <span style=\"background-color: rgba(248, 96, 67, 0.7); padding: 2px 4px; margin: 2px; text-decoration: none;\">dev</span> <span style=\"background-color: rgba(251, 134, 102, 0.7); padding: 2px 4px; margin: 2px; text-decoration: none;\">ised</span> <span style=\"background-color: rgba(252, 148, 116, 0.7); padding: 2px 4px; margin: 2px; text-decoration: none;\">a</span> <span style=\"background-color: rgba(252, 158, 128, 0.7); padding: 2px 4px; margin: 2px; text-decoration: none;\">brilliant</span> <span style=\"background-color: rgba(251, 122, 90, 0.7); padding: 2px 4px; margin: 2px; text-decoration: none;\">strategy</span> <span style=\"background-color: rgba(112, 2, 14, 0.7); padding: 2px 4px; margin: 2px; text-decoration: none;\">that</span> <span style=\"background-color: rgba(251, 132, 100, 0.7); padding: 2px 4px; margin: 2px; text-decoration: none;\">secured</span> <span style=\"background-color: rgba(251, 116, 84, 0.7); padding: 2px 4px; margin: 2px; text-decoration: none;\">victory</span> <span style=\"background-color: rgba(252, 149, 117, 0.7); padding: 2px 4px; margin: 2px; text-decoration: none;\">in</span> <span style=\"background-color: rgba(251, 122, 90, 0.7); padding: 2px 4px; margin: 2px; text-decoration: none;\">the</span> <span style=\"background-color: rgba(251, 145, 113, 0.7); padding: 2px 4px; margin: 2px; text-decoration: none;\">final</span> <span style=\"background-color: rgba(251, 107, 75, 0.7); padding: 2px 4px; margin: 2px; text-decoration: none;\">battle</span> <span style=\"background-color: rgba(252, 149, 117, 0.7); padding: 2px 4px; margin: 2px; text-decoration: none;\">.</span> </p>"
      ],
      "text/plain": [
       "<IPython.core.display.HTML object>"
      ]
     },
     "metadata": {},
     "output_type": "display_data"
    },
    {
     "data": {
      "text/html": [
       "<p style='font-family: monospace; text-decoration: none;'><span style=\"background-color: rgba(134, 7, 17, 0.7); padding: 2px 4px; margin: 2px; text-decoration: none;\">The</span> <span style=\"background-color: rgba(248, 96, 67, 0.7); padding: 2px 4px; margin: 2px; text-decoration: none;\">cat</span> <span style=\"background-color: rgba(251, 143, 111, 0.7); padding: 2px 4px; margin: 2px; text-decoration: none;\">jumped</span> <span style=\"background-color: rgba(252, 162, 132, 0.7); padding: 2px 4px; margin: 2px; text-decoration: none;\">over</span> <span style=\"background-color: rgba(252, 154, 123, 0.7); padding: 2px 4px; margin: 2px; text-decoration: none;\">the</span> <span style=\"background-color: rgba(251, 111, 79, 0.7); padding: 2px 4px; margin: 2px; text-decoration: none;\">fence</span> <span style=\"background-color: rgba(114, 2, 14, 0.7); padding: 2px 4px; margin: 2px; text-decoration: none;\">and</span> <span style=\"background-color: rgba(251, 145, 113, 0.7); padding: 2px 4px; margin: 2px; text-decoration: none;\">ch</span> <span style=\"background-color: rgba(252, 175, 147, 0.7); padding: 2px 4px; margin: 2px; text-decoration: none;\">ased</span> <span style=\"background-color: rgba(252, 167, 138, 0.7); padding: 2px 4px; margin: 2px; text-decoration: none;\">a</span> <span style=\"background-color: rgba(252, 177, 150, 0.7); padding: 2px 4px; margin: 2px; text-decoration: none;\">butter</span> <span style=\"background-color: rgba(252, 163, 134, 0.7); padding: 2px 4px; margin: 2px; text-decoration: none;\">fly</span> <span style=\"background-color: rgba(252, 180, 153, 0.7); padding: 2px 4px; margin: 2px; text-decoration: none;\">in</span> <span style=\"background-color: rgba(252, 157, 126, 0.7); padding: 2px 4px; margin: 2px; text-decoration: none;\">the</span> <span style=\"background-color: rgba(251, 135, 103, 0.7); padding: 2px 4px; margin: 2px; text-decoration: none;\">back</span> <span style=\"background-color: rgba(251, 122, 90, 0.7); padding: 2px 4px; margin: 2px; text-decoration: none;\">yard</span> <span style=\"background-color: rgba(251, 134, 102, 0.7); padding: 2px 4px; margin: 2px; text-decoration: none;\">.</span> </p>"
      ],
      "text/plain": [
       "<IPython.core.display.HTML object>"
      ]
     },
     "metadata": {},
     "output_type": "display_data"
    },
    {
     "name": "stdout",
     "output_type": "stream",
     "text": [
      "\n",
      "Visualizing Feature 29732\n"
     ]
    },
    {
     "data": {
      "text/html": [
       "<p style='font-family: monospace; text-decoration: none;'><span style=\"background-color: rgba(132, 7, 16, 0.7); padding: 2px 4px; margin: 2px; text-decoration: none;\">The</span> <span style=\"background-color: rgba(242, 74, 53, 0.7); padding: 2px 4px; margin: 2px; text-decoration: none;\">leader</span> <span style=\"background-color: rgba(251, 122, 90, 0.7); padding: 2px 4px; margin: 2px; text-decoration: none;\">guided</span> <span style=\"background-color: rgba(251, 134, 102, 0.7); padding: 2px 4px; margin: 2px; text-decoration: none;\">the</span> <span style=\"background-color: rgba(250, 105, 73, 0.7); padding: 2px 4px; margin: 2px; text-decoration: none;\">team</span> <span style=\"background-color: rgba(251, 136, 104, 0.7); padding: 2px 4px; margin: 2px; text-decoration: none;\">through</span> <span style=\"background-color: rgba(252, 151, 120, 0.7); padding: 2px 4px; margin: 2px; text-decoration: none;\">difficult</span> <span style=\"background-color: rgba(250, 103, 72, 0.7); padding: 2px 4px; margin: 2px; text-decoration: none;\">challenges</span> <span style=\"background-color: rgba(110, 1, 14, 0.7); padding: 2px 4px; margin: 2px; text-decoration: none;\">with</span> <span style=\"background-color: rgba(252, 172, 144, 0.7); padding: 2px 4px; margin: 2px; text-decoration: none;\">un</span> <span style=\"background-color: rgba(252, 155, 125, 0.7); padding: 2px 4px; margin: 2px; text-decoration: none;\">wa</span> <span style=\"background-color: rgba(255, 255, 255, 0); padding: 2px 4px; margin: 2px; text-decoration: none;\">ver</span> <span style=\"background-color: rgba(255, 255, 255, 0); padding: 2px 4px; margin: 2px; text-decoration: none;\">ing</span> <span style=\"background-color: rgba(252, 159, 129, 0.7); padding: 2px 4px; margin: 2px; text-decoration: none;\">determination</span> <span style=\"background-color: rgba(251, 109, 77, 0.7); padding: 2px 4px; margin: 2px; text-decoration: none;\">.</span> </p>"
      ],
      "text/plain": [
       "<IPython.core.display.HTML object>"
      ]
     },
     "metadata": {},
     "output_type": "display_data"
    },
    {
     "data": {
      "text/html": [
       "<p style='font-family: monospace; text-decoration: none;'><span style=\"background-color: rgba(136, 8, 17, 0.7); padding: 2px 4px; margin: 2px; text-decoration: none;\">Her</span> <span style=\"background-color: rgba(251, 122, 90, 0.7); padding: 2px 4px; margin: 2px; text-decoration: none;\">strategic</span> <span style=\"background-color: rgba(251, 129, 97, 0.7); padding: 2px 4px; margin: 2px; text-decoration: none;\">decisions</span> <span style=\"background-color: rgba(255, 255, 255, 0); padding: 2px 4px; margin: 2px; text-decoration: none;\">turned</span> <span style=\"background-color: rgba(251, 116, 84, 0.7); padding: 2px 4px; margin: 2px; text-decoration: none;\">the</span> <span style=\"background-color: rgba(251, 109, 77, 0.7); padding: 2px 4px; margin: 2px; text-decoration: none;\">company</span> <span style=\"background-color: rgba(251, 115, 83, 0.7); padding: 2px 4px; margin: 2px; text-decoration: none;\">around</span> <span style=\"background-color: rgba(251, 121, 89, 0.7); padding: 2px 4px; margin: 2px; text-decoration: none;\">during</span> <span style=\"background-color: rgba(251, 141, 109, 0.7); padding: 2px 4px; margin: 2px; text-decoration: none;\">a</span> <span style=\"background-color: rgba(251, 141, 109, 0.7); padding: 2px 4px; margin: 2px; text-decoration: none;\">financial</span> <span style=\"background-color: rgba(251, 132, 100, 0.7); padding: 2px 4px; margin: 2px; text-decoration: none;\">crisis</span> <span style=\"background-color: rgba(110, 1, 14, 0.7); padding: 2px 4px; margin: 2px; text-decoration: none;\">.</span> </p>"
      ],
      "text/plain": [
       "<IPython.core.display.HTML object>"
      ]
     },
     "metadata": {},
     "output_type": "display_data"
    },
    {
     "data": {
      "text/html": [
       "<p style='font-family: monospace; text-decoration: none;'><span style=\"background-color: rgba(132, 7, 16, 0.7); padding: 2px 4px; margin: 2px; text-decoration: none;\">He</span> <span style=\"background-color: rgba(251, 112, 80, 0.7); padding: 2px 4px; margin: 2px; text-decoration: none;\">inspired</span> <span style=\"background-color: rgba(251, 115, 83, 0.7); padding: 2px 4px; margin: 2px; text-decoration: none;\">his</span> <span style=\"background-color: rgba(246, 89, 63, 0.7); padding: 2px 4px; margin: 2px; text-decoration: none;\">soldiers</span> <span style=\"background-color: rgba(110, 1, 14, 0.7); padding: 2px 4px; margin: 2px; text-decoration: none;\">with</span> <span style=\"background-color: rgba(255, 255, 255, 0); padding: 2px 4px; margin: 2px; text-decoration: none;\">a</span> <span style=\"background-color: rgba(252, 169, 141, 0.7); padding: 2px 4px; margin: 2px; text-decoration: none;\">bold</span> <span style=\"background-color: rgba(251, 132, 100, 0.7); padding: 2px 4px; margin: 2px; text-decoration: none;\">plan</span> <span style=\"background-color: rgba(252, 157, 126, 0.7); padding: 2px 4px; margin: 2px; text-decoration: none;\">that</span> <span style=\"background-color: rgba(252, 151, 120, 0.7); padding: 2px 4px; margin: 2px; text-decoration: none;\">led</span> <span style=\"background-color: rgba(251, 127, 95, 0.7); padding: 2px 4px; margin: 2px; text-decoration: none;\">to</span> <span style=\"background-color: rgba(251, 140, 108, 0.7); padding: 2px 4px; margin: 2px; text-decoration: none;\">a</span> <span style=\"background-color: rgba(252, 169, 141, 0.7); padding: 2px 4px; margin: 2px; text-decoration: none;\">decis</span> <span style=\"background-color: rgba(252, 182, 156, 0.7); padding: 2px 4px; margin: 2px; text-decoration: none;\">ive</span> <span style=\"background-color: rgba(251, 135, 103, 0.7); padding: 2px 4px; margin: 2px; text-decoration: none;\">victory</span> <span style=\"background-color: rgba(252, 159, 129, 0.7); padding: 2px 4px; margin: 2px; text-decoration: none;\">.</span> </p>"
      ],
      "text/plain": [
       "<IPython.core.display.HTML object>"
      ]
     },
     "metadata": {},
     "output_type": "display_data"
    },
    {
     "data": {
      "text/html": [
       "<p style='font-family: monospace; text-decoration: none;'><span style=\"background-color: rgba(132, 7, 16, 0.7); padding: 2px 4px; margin: 2px; text-decoration: none;\">The</span> <span style=\"background-color: rgba(247, 93, 66, 0.7); padding: 2px 4px; margin: 2px; text-decoration: none;\">CEO</span> <span style=\"background-color: rgba(251, 114, 82, 0.7); padding: 2px 4px; margin: 2px; text-decoration: none;\">implemented</span> <span style=\"background-color: rgba(251, 140, 108, 0.7); padding: 2px 4px; margin: 2px; text-decoration: none;\">innovative</span> <span style=\"background-color: rgba(250, 102, 71, 0.7); padding: 2px 4px; margin: 2px; text-decoration: none;\">policies</span> <span style=\"background-color: rgba(110, 1, 14, 0.7); padding: 2px 4px; margin: 2px; text-decoration: none;\">that</span> <span style=\"background-color: rgba(252, 159, 129, 0.7); padding: 2px 4px; margin: 2px; text-decoration: none;\">boost</span> <span style=\"background-color: rgba(251, 144, 112, 0.7); padding: 2px 4px; margin: 2px; text-decoration: none;\">ed</span> <span style=\"background-color: rgba(250, 103, 72, 0.7); padding: 2px 4px; margin: 2px; text-decoration: none;\">employee</span> <span style=\"background-color: rgba(251, 124, 92, 0.7); padding: 2px 4px; margin: 2px; text-decoration: none;\">mor</span> <span style=\"background-color: rgba(251, 110, 78, 0.7); padding: 2px 4px; margin: 2px; text-decoration: none;\">ale</span> <span style=\"background-color: rgba(251, 119, 87, 0.7); padding: 2px 4px; margin: 2px; text-decoration: none;\">and</span> <span style=\"background-color: rgba(250, 103, 72, 0.7); padding: 2px 4px; margin: 2px; text-decoration: none;\">productivity</span> <span style=\"background-color: rgba(251, 112, 80, 0.7); padding: 2px 4px; margin: 2px; text-decoration: none;\">.</span> </p>"
      ],
      "text/plain": [
       "<IPython.core.display.HTML object>"
      ]
     },
     "metadata": {},
     "output_type": "display_data"
    },
    {
     "data": {
      "text/html": [
       "<p style='font-family: monospace; text-decoration: none;'><span style=\"background-color: rgba(132, 7, 16, 0.7); padding: 2px 4px; margin: 2px; text-decoration: none;\">She</span> <span style=\"background-color: rgba(251, 111, 79, 0.7); padding: 2px 4px; margin: 2px; text-decoration: none;\">organized</span> <span style=\"background-color: rgba(251, 110, 78, 0.7); padding: 2px 4px; margin: 2px; text-decoration: none;\">a</span> <span style=\"background-color: rgba(251, 110, 78, 0.7); padding: 2px 4px; margin: 2px; text-decoration: none;\">community</span> <span style=\"background-color: rgba(251, 125, 93, 0.7); padding: 2px 4px; margin: 2px; text-decoration: none;\">effort</span> <span style=\"background-color: rgba(110, 1, 14, 0.7); padding: 2px 4px; margin: 2px; text-decoration: none;\">to</span> <span style=\"background-color: rgba(251, 145, 113, 0.7); padding: 2px 4px; margin: 2px; text-decoration: none;\">re</span> <span style=\"background-color: rgba(251, 141, 109, 0.7); padding: 2px 4px; margin: 2px; text-decoration: none;\">build</span> <span style=\"background-color: rgba(251, 129, 97, 0.7); padding: 2px 4px; margin: 2px; text-decoration: none;\">the</span> <span style=\"background-color: rgba(251, 112, 80, 0.7); padding: 2px 4px; margin: 2px; text-decoration: none;\">town</span> <span style=\"background-color: rgba(251, 140, 108, 0.7); padding: 2px 4px; margin: 2px; text-decoration: none;\">after</span> <span style=\"background-color: rgba(251, 134, 102, 0.7); padding: 2px 4px; margin: 2px; text-decoration: none;\">the</span> <span style=\"background-color: rgba(252, 189, 163, 0.7); padding: 2px 4px; margin: 2px; text-decoration: none;\">devast</span> <span style=\"background-color: rgba(252, 158, 128, 0.7); padding: 2px 4px; margin: 2px; text-decoration: none;\">ating</span> <span style=\"background-color: rgba(251, 138, 106, 0.7); padding: 2px 4px; margin: 2px; text-decoration: none;\">storm</span> <span style=\"background-color: rgba(251, 116, 84, 0.7); padding: 2px 4px; margin: 2px; text-decoration: none;\">.</span> </p>"
      ],
      "text/plain": [
       "<IPython.core.display.HTML object>"
      ]
     },
     "metadata": {},
     "output_type": "display_data"
    },
    {
     "data": {
      "text/html": [
       "<p style='font-family: monospace; text-decoration: none;'><span style=\"background-color: rgba(132, 7, 16, 0.7); padding: 2px 4px; margin: 2px; text-decoration: none;\">The</span> <span style=\"background-color: rgba(245, 84, 60, 0.7); padding: 2px 4px; margin: 2px; text-decoration: none;\">manager</span> <span style=\"background-color: rgba(251, 125, 93, 0.7); padding: 2px 4px; margin: 2px; text-decoration: none;\">successfully</span> <span style=\"background-color: rgba(251, 109, 77, 0.7); padding: 2px 4px; margin: 2px; text-decoration: none;\">negoti</span> <span style=\"background-color: rgba(251, 127, 95, 0.7); padding: 2px 4px; margin: 2px; text-decoration: none;\">ated</span> <span style=\"background-color: rgba(251, 135, 103, 0.7); padding: 2px 4px; margin: 2px; text-decoration: none;\">a</span> <span style=\"background-color: rgba(251, 126, 94, 0.7); padding: 2px 4px; margin: 2px; text-decoration: none;\">critical</span> <span style=\"background-color: rgba(251, 115, 83, 0.7); padding: 2px 4px; margin: 2px; text-decoration: none;\">deal</span> <span style=\"background-color: rgba(110, 1, 14, 0.7); padding: 2px 4px; margin: 2px; text-decoration: none;\">that</span> <span style=\"background-color: rgba(252, 153, 122, 0.7); padding: 2px 4px; margin: 2px; text-decoration: none;\">saved</span> <span style=\"background-color: rgba(251, 145, 113, 0.7); padding: 2px 4px; margin: 2px; text-decoration: none;\">the</span> <span style=\"background-color: rgba(251, 116, 84, 0.7); padding: 2px 4px; margin: 2px; text-decoration: none;\">partnership</span> <span style=\"background-color: rgba(251, 129, 97, 0.7); padding: 2px 4px; margin: 2px; text-decoration: none;\">.</span> </p>"
      ],
      "text/plain": [
       "<IPython.core.display.HTML object>"
      ]
     },
     "metadata": {},
     "output_type": "display_data"
    },
    {
     "data": {
      "text/html": [
       "<p style='font-family: monospace; text-decoration: none;'><span style=\"background-color: rgba(132, 7, 16, 0.7); padding: 2px 4px; margin: 2px; text-decoration: none;\">He</span> <span style=\"background-color: rgba(248, 96, 67, 0.7); padding: 2px 4px; margin: 2px; text-decoration: none;\">r</span> <span style=\"background-color: rgba(248, 97, 68, 0.7); padding: 2px 4px; margin: 2px; text-decoration: none;\">all</span> <span style=\"background-color: rgba(251, 121, 89, 0.7); padding: 2px 4px; margin: 2px; text-decoration: none;\">ied</span> <span style=\"background-color: rgba(251, 114, 82, 0.7); padding: 2px 4px; margin: 2px; text-decoration: none;\">the</span> <span style=\"background-color: rgba(249, 99, 69, 0.7); padding: 2px 4px; margin: 2px; text-decoration: none;\">team</span> <span style=\"background-color: rgba(110, 1, 14, 0.7); padding: 2px 4px; margin: 2px; text-decoration: none;\">to</span> <span style=\"background-color: rgba(251, 136, 104, 0.7); padding: 2px 4px; margin: 2px; text-decoration: none;\">achieve</span> <span style=\"background-color: rgba(251, 135, 103, 0.7); padding: 2px 4px; margin: 2px; text-decoration: none;\">a</span> <span style=\"background-color: rgba(251, 136, 104, 0.7); padding: 2px 4px; margin: 2px; text-decoration: none;\">record</span> <span style=\"background-color: rgba(252, 162, 132, 0.7); padding: 2px 4px; margin: 2px; text-decoration: none;\">-</span> <span style=\"background-color: rgba(252, 155, 125, 0.7); padding: 2px 4px; margin: 2px; text-decoration: none;\">breaking</span> <span style=\"background-color: rgba(251, 107, 75, 0.7); padding: 2px 4px; margin: 2px; text-decoration: none;\">performance</span> <span style=\"background-color: rgba(251, 124, 92, 0.7); padding: 2px 4px; margin: 2px; text-decoration: none;\">in</span> <span style=\"background-color: rgba(251, 119, 87, 0.7); padding: 2px 4px; margin: 2px; text-decoration: none;\">the</span> <span style=\"background-color: rgba(251, 111, 79, 0.7); padding: 2px 4px; margin: 2px; text-decoration: none;\">quarter</span> <span style=\"background-color: rgba(251, 140, 108, 0.7); padding: 2px 4px; margin: 2px; text-decoration: none;\">.</span> </p>"
      ],
      "text/plain": [
       "<IPython.core.display.HTML object>"
      ]
     },
     "metadata": {},
     "output_type": "display_data"
    },
    {
     "data": {
      "text/html": [
       "<p style='font-family: monospace; text-decoration: none;'><span style=\"background-color: rgba(136, 8, 17, 0.7); padding: 2px 4px; margin: 2px; text-decoration: none;\">Her</span> <span style=\"background-color: rgba(242, 72, 52, 0.7); padding: 2px 4px; margin: 2px; text-decoration: none;\">spe</span> <span style=\"background-color: rgba(225, 46, 38, 0.7); padding: 2px 4px; margin: 2px; text-decoration: none;\">e</span> <span style=\"background-color: rgba(251, 111, 79, 0.7); padding: 2px 4px; margin: 2px; text-decoration: none;\">ches</span> <span style=\"background-color: rgba(255, 255, 255, 0); padding: 2px 4px; margin: 2px; text-decoration: none;\">have</span> <span style=\"background-color: rgba(251, 115, 83, 0.7); padding: 2px 4px; margin: 2px; text-decoration: none;\">motivated</span> <span style=\"background-color: rgba(251, 126, 94, 0.7); padding: 2px 4px; margin: 2px; text-decoration: none;\">countless</span> <span style=\"background-color: rgba(251, 121, 89, 0.7); padding: 2px 4px; margin: 2px; text-decoration: none;\">individuals</span> <span style=\"background-color: rgba(110, 1, 14, 0.7); padding: 2px 4px; margin: 2px; text-decoration: none;\">to</span> <span style=\"background-color: rgba(252, 177, 150, 0.7); padding: 2px 4px; margin: 2px; text-decoration: none;\">pursue</span> <span style=\"background-color: rgba(252, 189, 163, 0.7); padding: 2px 4px; margin: 2px; text-decoration: none;\">their</span> <span style=\"background-color: rgba(252, 159, 129, 0.7); padding: 2px 4px; margin: 2px; text-decoration: none;\">dreams</span> <span style=\"background-color: rgba(252, 154, 123, 0.7); padding: 2px 4px; margin: 2px; text-decoration: none;\">and</span> <span style=\"background-color: rgba(252, 154, 123, 0.7); padding: 2px 4px; margin: 2px; text-decoration: none;\">amb</span> <span style=\"background-color: rgba(252, 162, 132, 0.7); padding: 2px 4px; margin: 2px; text-decoration: none;\">itions</span> <span style=\"background-color: rgba(252, 160, 131, 0.7); padding: 2px 4px; margin: 2px; text-decoration: none;\">.</span> </p>"
      ],
      "text/plain": [
       "<IPython.core.display.HTML object>"
      ]
     },
     "metadata": {},
     "output_type": "display_data"
    },
    {
     "data": {
      "text/html": [
       "<p style='font-family: monospace; text-decoration: none;'><span style=\"background-color: rgba(132, 7, 16, 0.7); padding: 2px 4px; margin: 2px; text-decoration: none;\">The</span> <span style=\"background-color: rgba(249, 100, 70, 0.7); padding: 2px 4px; margin: 2px; text-decoration: none;\">mayor</span> <span style=\"background-color: rgba(251, 114, 82, 0.7); padding: 2px 4px; margin: 2px; text-decoration: none;\">took</span> <span style=\"background-color: rgba(252, 157, 126, 0.7); padding: 2px 4px; margin: 2px; text-decoration: none;\">swift</span> <span style=\"background-color: rgba(251, 124, 92, 0.7); padding: 2px 4px; margin: 2px; text-decoration: none;\">action</span> <span style=\"background-color: rgba(110, 1, 14, 0.7); padding: 2px 4px; margin: 2px; text-decoration: none;\">to</span> <span style=\"background-color: rgba(251, 135, 103, 0.7); padding: 2px 4px; margin: 2px; text-decoration: none;\">address</span> <span style=\"background-color: rgba(251, 119, 87, 0.7); padding: 2px 4px; margin: 2px; text-decoration: none;\">the</span> <span style=\"background-color: rgba(251, 107, 75, 0.7); padding: 2px 4px; margin: 2px; text-decoration: none;\">concerns</span> <span style=\"background-color: rgba(251, 144, 112, 0.7); padding: 2px 4px; margin: 2px; text-decoration: none;\">of</span> <span style=\"background-color: rgba(251, 135, 103, 0.7); padding: 2px 4px; margin: 2px; text-decoration: none;\">the</span> <span style=\"background-color: rgba(246, 89, 63, 0.7); padding: 2px 4px; margin: 2px; text-decoration: none;\">citizens</span> <span style=\"background-color: rgba(251, 139, 107, 0.7); padding: 2px 4px; margin: 2px; text-decoration: none;\">during</span> <span style=\"background-color: rgba(251, 114, 82, 0.7); padding: 2px 4px; margin: 2px; text-decoration: none;\">the</span> <span style=\"background-color: rgba(251, 109, 77, 0.7); padding: 2px 4px; margin: 2px; text-decoration: none;\">emergency</span> <span style=\"background-color: rgba(251, 127, 95, 0.7); padding: 2px 4px; margin: 2px; text-decoration: none;\">.</span> </p>"
      ],
      "text/plain": [
       "<IPython.core.display.HTML object>"
      ]
     },
     "metadata": {},
     "output_type": "display_data"
    },
    {
     "data": {
      "text/html": [
       "<p style='font-family: monospace; text-decoration: none;'><span style=\"background-color: rgba(132, 7, 16, 0.7); padding: 2px 4px; margin: 2px; text-decoration: none;\">He</span> <span style=\"background-color: rgba(251, 119, 87, 0.7); padding: 2px 4px; margin: 2px; text-decoration: none;\">led</span> <span style=\"background-color: rgba(251, 141, 109, 0.7); padding: 2px 4px; margin: 2px; text-decoration: none;\">the</span> <span style=\"background-color: rgba(251, 126, 94, 0.7); padding: 2px 4px; margin: 2px; text-decoration: none;\">research</span> <span style=\"background-color: rgba(252, 151, 120, 0.7); padding: 2px 4px; margin: 2px; text-decoration: none;\">team</span> <span style=\"background-color: rgba(110, 1, 14, 0.7); padding: 2px 4px; margin: 2px; text-decoration: none;\">to</span> <span style=\"background-color: rgba(251, 141, 109, 0.7); padding: 2px 4px; margin: 2px; text-decoration: none;\">develop</span> <span style=\"background-color: rgba(251, 132, 100, 0.7); padding: 2px 4px; margin: 2px; text-decoration: none;\">ground</span> <span style=\"background-color: rgba(252, 155, 125, 0.7); padding: 2px 4px; margin: 2px; text-decoration: none;\">breaking</span> <span style=\"background-color: rgba(251, 117, 85, 0.7); padding: 2px 4px; margin: 2px; text-decoration: none;\">technology</span> <span style=\"background-color: rgba(252, 155, 125, 0.7); padding: 2px 4px; margin: 2px; text-decoration: none;\">that</span> <span style=\"background-color: rgba(252, 155, 125, 0.7); padding: 2px 4px; margin: 2px; text-decoration: none;\">revolution</span> <span style=\"background-color: rgba(252, 154, 123, 0.7); padding: 2px 4px; margin: 2px; text-decoration: none;\">ized</span> <span style=\"background-color: rgba(251, 131, 99, 0.7); padding: 2px 4px; margin: 2px; text-decoration: none;\">the</span> <span style=\"background-color: rgba(251, 109, 77, 0.7); padding: 2px 4px; margin: 2px; text-decoration: none;\">industry</span> <span style=\"background-color: rgba(251, 144, 112, 0.7); padding: 2px 4px; margin: 2px; text-decoration: none;\">.</span> </p>"
      ],
      "text/plain": [
       "<IPython.core.display.HTML object>"
      ]
     },
     "metadata": {},
     "output_type": "display_data"
    },
    {
     "data": {
      "text/html": [
       "<p style='font-family: monospace; text-decoration: none;'><span style=\"background-color: rgba(132, 7, 16, 0.7); padding: 2px 4px; margin: 2px; text-decoration: none;\">The</span> <span style=\"background-color: rgba(245, 86, 61, 0.7); padding: 2px 4px; margin: 2px; text-decoration: none;\">principal</span> <span style=\"background-color: rgba(248, 97, 68, 0.7); padding: 2px 4px; margin: 2px; text-decoration: none;\">transformed</span> <span style=\"background-color: rgba(251, 112, 80, 0.7); padding: 2px 4px; margin: 2px; text-decoration: none;\">the</span> <span style=\"background-color: rgba(251, 134, 102, 0.7); padding: 2px 4px; margin: 2px; text-decoration: none;\">failing</span> <span style=\"background-color: rgba(249, 99, 69, 0.7); padding: 2px 4px; margin: 2px; text-decoration: none;\">school</span> <span style=\"background-color: rgba(251, 124, 92, 0.7); padding: 2px 4px; margin: 2px; text-decoration: none;\">into</span> <span style=\"background-color: rgba(251, 115, 83, 0.7); padding: 2px 4px; margin: 2px; text-decoration: none;\">one</span> <span style=\"background-color: rgba(110, 1, 14, 0.7); padding: 2px 4px; margin: 2px; text-decoration: none;\">of</span> <span style=\"background-color: rgba(252, 164, 135, 0.7); padding: 2px 4px; margin: 2px; text-decoration: none;\">the</span> <span style=\"background-color: rgba(252, 158, 128, 0.7); padding: 2px 4px; margin: 2px; text-decoration: none;\">top</span> <span style=\"background-color: rgba(252, 149, 117, 0.7); padding: 2px 4px; margin: 2px; text-decoration: none;\">institutions</span> <span style=\"background-color: rgba(252, 167, 138, 0.7); padding: 2px 4px; margin: 2px; text-decoration: none;\">in</span> <span style=\"background-color: rgba(252, 148, 116, 0.7); padding: 2px 4px; margin: 2px; text-decoration: none;\">the</span> <span style=\"background-color: rgba(245, 86, 61, 0.7); padding: 2px 4px; margin: 2px; text-decoration: none;\">district</span> <span style=\"background-color: rgba(251, 138, 106, 0.7); padding: 2px 4px; margin: 2px; text-decoration: none;\">.</span> </p>"
      ],
      "text/plain": [
       "<IPython.core.display.HTML object>"
      ]
     },
     "metadata": {},
     "output_type": "display_data"
    },
    {
     "data": {
      "text/html": [
       "<p style='font-family: monospace; text-decoration: none;'><span style=\"background-color: rgba(132, 7, 16, 0.7); padding: 2px 4px; margin: 2px; text-decoration: none;\">She</span> <span style=\"background-color: rgba(251, 117, 85, 0.7); padding: 2px 4px; margin: 2px; text-decoration: none;\">established</span> <span style=\"background-color: rgba(251, 117, 85, 0.7); padding: 2px 4px; margin: 2px; text-decoration: none;\">a</span> <span style=\"background-color: rgba(250, 105, 73, 0.7); padding: 2px 4px; margin: 2px; text-decoration: none;\">global</span> <span style=\"background-color: rgba(248, 97, 68, 0.7); padding: 2px 4px; margin: 2px; text-decoration: none;\">initiative</span> <span style=\"background-color: rgba(110, 1, 14, 0.7); padding: 2px 4px; margin: 2px; text-decoration: none;\">to</span> <span style=\"background-color: rgba(251, 134, 102, 0.7); padding: 2px 4px; margin: 2px; text-decoration: none;\">tackle</span> <span style=\"background-color: rgba(248, 97, 68, 0.7); padding: 2px 4px; margin: 2px; text-decoration: none;\">climate</span> <span style=\"background-color: rgba(251, 138, 106, 0.7); padding: 2px 4px; margin: 2px; text-decoration: none;\">change</span> <span style=\"background-color: rgba(251, 115, 83, 0.7); padding: 2px 4px; margin: 2px; text-decoration: none;\">and</span> <span style=\"background-color: rgba(251, 145, 113, 0.7); padding: 2px 4px; margin: 2px; text-decoration: none;\">promote</span> <span style=\"background-color: rgba(251, 140, 108, 0.7); padding: 2px 4px; margin: 2px; text-decoration: none;\">sustain</span> <span style=\"background-color: rgba(252, 146, 114, 0.7); padding: 2px 4px; margin: 2px; text-decoration: none;\">ability</span> <span style=\"background-color: rgba(251, 116, 84, 0.7); padding: 2px 4px; margin: 2px; text-decoration: none;\">.</span> </p>"
      ],
      "text/plain": [
       "<IPython.core.display.HTML object>"
      ]
     },
     "metadata": {},
     "output_type": "display_data"
    },
    {
     "data": {
      "text/html": [
       "<p style='font-family: monospace; text-decoration: none;'><span style=\"background-color: rgba(132, 7, 16, 0.7); padding: 2px 4px; margin: 2px; text-decoration: none;\">The</span> <span style=\"background-color: rgba(245, 84, 60, 0.7); padding: 2px 4px; margin: 2px; text-decoration: none;\">coach</span> <span style=\"background-color: rgba(238, 58, 43, 0.7); padding: 2px 4px; margin: 2px; text-decoration: none;\">inst</span> <span style=\"background-color: rgba(252, 155, 125, 0.7); padding: 2px 4px; margin: 2px; text-decoration: none;\">illed</span> <span style=\"background-color: rgba(247, 91, 65, 0.7); padding: 2px 4px; margin: 2px; text-decoration: none;\">discipline</span> <span style=\"background-color: rgba(112, 2, 14, 0.7); padding: 2px 4px; margin: 2px; text-decoration: none;\">and</span> <span style=\"background-color: rgba(251, 144, 112, 0.7); padding: 2px 4px; margin: 2px; text-decoration: none;\">team</span> <span style=\"background-color: rgba(251, 125, 93, 0.7); padding: 2px 4px; margin: 2px; text-decoration: none;\">work</span> <span style=\"background-color: rgba(251, 145, 113, 0.7); padding: 2px 4px; margin: 2px; text-decoration: none;\">to</span> <span style=\"background-color: rgba(251, 139, 107, 0.7); padding: 2px 4px; margin: 2px; text-decoration: none;\">lead</span> <span style=\"background-color: rgba(252, 150, 119, 0.7); padding: 2px 4px; margin: 2px; text-decoration: none;\">the</span> <span style=\"background-color: rgba(252, 155, 125, 0.7); padding: 2px 4px; margin: 2px; text-decoration: none;\">under</span> <span style=\"background-color: rgba(252, 175, 147, 0.7); padding: 2px 4px; margin: 2px; text-decoration: none;\">dog</span> <span style=\"background-color: rgba(252, 158, 128, 0.7); padding: 2px 4px; margin: 2px; text-decoration: none;\">team</span> <span style=\"background-color: rgba(252, 181, 154, 0.7); padding: 2px 4px; margin: 2px; text-decoration: none;\">to</span> <span style=\"background-color: rgba(252, 168, 139, 0.7); padding: 2px 4px; margin: 2px; text-decoration: none;\">the</span> <span style=\"background-color: rgba(251, 122, 90, 0.7); padding: 2px 4px; margin: 2px; text-decoration: none;\">championship</span> <span style=\"background-color: rgba(251, 114, 82, 0.7); padding: 2px 4px; margin: 2px; text-decoration: none;\">.</span> </p>"
      ],
      "text/plain": [
       "<IPython.core.display.HTML object>"
      ]
     },
     "metadata": {},
     "output_type": "display_data"
    },
    {
     "data": {
      "text/html": [
       "<p style='font-family: monospace; text-decoration: none;'><span style=\"background-color: rgba(132, 7, 16, 0.7); padding: 2px 4px; margin: 2px; text-decoration: none;\">He</span> <span style=\"background-color: rgba(251, 111, 79, 0.7); padding: 2px 4px; margin: 2px; text-decoration: none;\">introduced</span> <span style=\"background-color: rgba(247, 91, 65, 0.7); padding: 2px 4px; margin: 2px; text-decoration: none;\">reform</span> <span style=\"background-color: rgba(248, 96, 67, 0.7); padding: 2px 4px; margin: 2px; text-decoration: none;\">s</span> <span style=\"background-color: rgba(110, 1, 14, 0.7); padding: 2px 4px; margin: 2px; text-decoration: none;\">that</span> <span style=\"background-color: rgba(251, 126, 94, 0.7); padding: 2px 4px; margin: 2px; text-decoration: none;\">improved</span> <span style=\"background-color: rgba(251, 106, 74, 0.7); padding: 2px 4px; margin: 2px; text-decoration: none;\">trans</span> <span style=\"background-color: rgba(251, 111, 79, 0.7); padding: 2px 4px; margin: 2px; text-decoration: none;\">parency</span> <span style=\"background-color: rgba(251, 124, 92, 0.7); padding: 2px 4px; margin: 2px; text-decoration: none;\">and</span> <span style=\"background-color: rgba(251, 116, 84, 0.7); padding: 2px 4px; margin: 2px; text-decoration: none;\">trust</span> <span style=\"background-color: rgba(252, 160, 131, 0.7); padding: 2px 4px; margin: 2px; text-decoration: none;\">in</span> <span style=\"background-color: rgba(251, 131, 99, 0.7); padding: 2px 4px; margin: 2px; text-decoration: none;\">the</span> <span style=\"background-color: rgba(247, 91, 65, 0.7); padding: 2px 4px; margin: 2px; text-decoration: none;\">government</span> <span style=\"background-color: rgba(251, 120, 88, 0.7); padding: 2px 4px; margin: 2px; text-decoration: none;\">.</span> </p>"
      ],
      "text/plain": [
       "<IPython.core.display.HTML object>"
      ]
     },
     "metadata": {},
     "output_type": "display_data"
    },
    {
     "data": {
      "text/html": [
       "<p style='font-family: monospace; text-decoration: none;'><span style=\"background-color: rgba(132, 7, 16, 0.7); padding: 2px 4px; margin: 2px; text-decoration: none;\">The</span> <span style=\"background-color: rgba(247, 93, 66, 0.7); padding: 2px 4px; margin: 2px; text-decoration: none;\">director</span> <span style=\"background-color: rgba(255, 255, 255, 0); padding: 2px 4px; margin: 2px; text-decoration: none;\">managed</span> <span style=\"background-color: rgba(110, 1, 14, 0.7); padding: 2px 4px; margin: 2px; text-decoration: none;\">to</span> <span style=\"background-color: rgba(255, 255, 255, 0); padding: 2px 4px; margin: 2px; text-decoration: none;\">turn</span> <span style=\"background-color: rgba(251, 140, 108, 0.7); padding: 2px 4px; margin: 2px; text-decoration: none;\">a</span> <span style=\"background-color: rgba(255, 255, 255, 0); padding: 2px 4px; margin: 2px; text-decoration: none;\">small</span> <span style=\"background-color: rgba(251, 122, 90, 0.7); padding: 2px 4px; margin: 2px; text-decoration: none;\">startup</span> <span style=\"background-color: rgba(251, 145, 113, 0.7); padding: 2px 4px; margin: 2px; text-decoration: none;\">into</span> <span style=\"background-color: rgba(251, 139, 107, 0.7); padding: 2px 4px; margin: 2px; text-decoration: none;\">a</span> <span style=\"background-color: rgba(252, 153, 122, 0.7); padding: 2px 4px; margin: 2px; text-decoration: none;\">leading</span> <span style=\"background-color: rgba(251, 130, 98, 0.7); padding: 2px 4px; margin: 2px; text-decoration: none;\">company</span> <span style=\"background-color: rgba(252, 160, 131, 0.7); padding: 2px 4px; margin: 2px; text-decoration: none;\">in</span> <span style=\"background-color: rgba(251, 145, 113, 0.7); padding: 2px 4px; margin: 2px; text-decoration: none;\">the</span> <span style=\"background-color: rgba(251, 121, 89, 0.7); padding: 2px 4px; margin: 2px; text-decoration: none;\">tech</span> <span style=\"background-color: rgba(252, 153, 122, 0.7); padding: 2px 4px; margin: 2px; text-decoration: none;\">sector</span> <span style=\"background-color: rgba(251, 117, 85, 0.7); padding: 2px 4px; margin: 2px; text-decoration: none;\">.</span> </p>"
      ],
      "text/plain": [
       "<IPython.core.display.HTML object>"
      ]
     },
     "metadata": {},
     "output_type": "display_data"
    },
    {
     "data": {
      "text/html": [
       "<p style='font-family: monospace; text-decoration: none;'><span style=\"background-color: rgba(136, 8, 17, 0.7); padding: 2px 4px; margin: 2px; text-decoration: none;\">Her</span> <span style=\"background-color: rgba(251, 111, 79, 0.7); padding: 2px 4px; margin: 2px; text-decoration: none;\">bold</span> <span style=\"background-color: rgba(248, 96, 67, 0.7); padding: 2px 4px; margin: 2px; text-decoration: none;\">vision</span> <span style=\"background-color: rgba(110, 1, 14, 0.7); padding: 2px 4px; margin: 2px; text-decoration: none;\">for</span> <span style=\"background-color: rgba(251, 109, 77, 0.7); padding: 2px 4px; margin: 2px; text-decoration: none;\">the</span> <span style=\"background-color: rgba(251, 119, 87, 0.7); padding: 2px 4px; margin: 2px; text-decoration: none;\">future</span> <span style=\"background-color: rgba(251, 131, 99, 0.7); padding: 2px 4px; margin: 2px; text-decoration: none;\">inspired</span> <span style=\"background-color: rgba(252, 150, 119, 0.7); padding: 2px 4px; margin: 2px; text-decoration: none;\">her</span> <span style=\"background-color: rgba(247, 90, 64, 0.7); padding: 2px 4px; margin: 2px; text-decoration: none;\">colleagues</span> <span style=\"background-color: rgba(251, 107, 75, 0.7); padding: 2px 4px; margin: 2px; text-decoration: none;\">to</span> <span style=\"background-color: rgba(251, 135, 103, 0.7); padding: 2px 4px; margin: 2px; text-decoration: none;\">embrace</span> <span style=\"background-color: rgba(252, 149, 117, 0.7); padding: 2px 4px; margin: 2px; text-decoration: none;\">innovative</span> <span style=\"background-color: rgba(251, 131, 99, 0.7); padding: 2px 4px; margin: 2px; text-decoration: none;\">solutions</span> <span style=\"background-color: rgba(252, 157, 126, 0.7); padding: 2px 4px; margin: 2px; text-decoration: none;\">.</span> </p>"
      ],
      "text/plain": [
       "<IPython.core.display.HTML object>"
      ]
     },
     "metadata": {},
     "output_type": "display_data"
    },
    {
     "data": {
      "text/html": [
       "<p style='font-family: monospace; text-decoration: none;'><span style=\"background-color: rgba(132, 7, 16, 0.7); padding: 2px 4px; margin: 2px; text-decoration: none;\">The</span> <span style=\"background-color: rgba(239, 61, 45, 0.7); padding: 2px 4px; margin: 2px; text-decoration: none;\">adm</span> <span style=\"background-color: rgba(251, 132, 100, 0.7); padding: 2px 4px; margin: 2px; text-decoration: none;\">iral</span> <span style=\"background-color: rgba(251, 119, 87, 0.7); padding: 2px 4px; margin: 2px; text-decoration: none;\">made</span> <span style=\"background-color: rgba(251, 126, 94, 0.7); padding: 2px 4px; margin: 2px; text-decoration: none;\">critical</span> <span style=\"background-color: rgba(251, 114, 82, 0.7); padding: 2px 4px; margin: 2px; text-decoration: none;\">decisions</span> <span style=\"background-color: rgba(251, 127, 95, 0.7); padding: 2px 4px; margin: 2px; text-decoration: none;\">during</span> <span style=\"background-color: rgba(251, 120, 88, 0.7); padding: 2px 4px; margin: 2px; text-decoration: none;\">the</span> <span style=\"background-color: rgba(251, 106, 74, 0.7); padding: 2px 4px; margin: 2px; text-decoration: none;\">naval</span> <span style=\"background-color: rgba(248, 96, 67, 0.7); padding: 2px 4px; margin: 2px; text-decoration: none;\">mission</span> <span style=\"background-color: rgba(110, 1, 14, 0.7); padding: 2px 4px; margin: 2px; text-decoration: none;\">,</span> <span style=\"background-color: rgba(252, 176, 148, 0.7); padding: 2px 4px; margin: 2px; text-decoration: none;\">ensuring</span> <span style=\"background-color: rgba(252, 146, 114, 0.7); padding: 2px 4px; margin: 2px; text-decoration: none;\">the</span> <span style=\"background-color: rgba(252, 164, 135, 0.7); padding: 2px 4px; margin: 2px; text-decoration: none;\">safety</span> <span style=\"background-color: rgba(252, 182, 156, 0.7); padding: 2px 4px; margin: 2px; text-decoration: none;\">of</span> <span style=\"background-color: rgba(251, 143, 111, 0.7); padding: 2px 4px; margin: 2px; text-decoration: none;\">his</span> <span style=\"background-color: rgba(251, 114, 82, 0.7); padding: 2px 4px; margin: 2px; text-decoration: none;\">fleet</span> <span style=\"background-color: rgba(251, 143, 111, 0.7); padding: 2px 4px; margin: 2px; text-decoration: none;\">.</span> </p>"
      ],
      "text/plain": [
       "<IPython.core.display.HTML object>"
      ]
     },
     "metadata": {},
     "output_type": "display_data"
    },
    {
     "data": {
      "text/html": [
       "<p style='font-family: monospace; text-decoration: none;'><span style=\"background-color: rgba(132, 7, 16, 0.7); padding: 2px 4px; margin: 2px; text-decoration: none;\">The</span> <span style=\"background-color: rgba(245, 86, 61, 0.7); padding: 2px 4px; margin: 2px; text-decoration: none;\">activ</span> <span style=\"background-color: rgba(251, 144, 112, 0.7); padding: 2px 4px; margin: 2px; text-decoration: none;\">ist</span> <span style=\"background-color: rgba(251, 143, 111, 0.7); padding: 2px 4px; margin: 2px; text-decoration: none;\">mobil</span> <span style=\"background-color: rgba(251, 136, 104, 0.7); padding: 2px 4px; margin: 2px; text-decoration: none;\">ized</span> <span style=\"background-color: rgba(251, 121, 89, 0.7); padding: 2px 4px; margin: 2px; text-decoration: none;\">a</span> <span style=\"background-color: rgba(251, 122, 90, 0.7); padding: 2px 4px; margin: 2px; text-decoration: none;\">massive</span> <span style=\"background-color: rgba(248, 97, 68, 0.7); padding: 2px 4px; margin: 2px; text-decoration: none;\">movement</span> <span style=\"background-color: rgba(110, 1, 14, 0.7); padding: 2px 4px; margin: 2px; text-decoration: none;\">for</span> <span style=\"background-color: rgba(252, 148, 116, 0.7); padding: 2px 4px; margin: 2px; text-decoration: none;\">social</span> <span style=\"background-color: rgba(251, 125, 93, 0.7); padding: 2px 4px; margin: 2px; text-decoration: none;\">justice</span> <span style=\"background-color: rgba(251, 139, 107, 0.7); padding: 2px 4px; margin: 2px; text-decoration: none;\">and</span> <span style=\"background-color: rgba(251, 141, 109, 0.7); padding: 2px 4px; margin: 2px; text-decoration: none;\">equality</span> <span style=\"background-color: rgba(251, 116, 84, 0.7); padding: 2px 4px; margin: 2px; text-decoration: none;\">.</span> </p>"
      ],
      "text/plain": [
       "<IPython.core.display.HTML object>"
      ]
     },
     "metadata": {},
     "output_type": "display_data"
    },
    {
     "data": {
      "text/html": [
       "<p style='font-family: monospace; text-decoration: none;'><span style=\"background-color: rgba(132, 7, 16, 0.7); padding: 2px 4px; margin: 2px; text-decoration: none;\">The</span> <span style=\"background-color: rgba(250, 103, 72, 0.7); padding: 2px 4px; margin: 2px; text-decoration: none;\">commander</span> <span style=\"background-color: rgba(248, 96, 67, 0.7); padding: 2px 4px; margin: 2px; text-decoration: none;\">dev</span> <span style=\"background-color: rgba(251, 135, 103, 0.7); padding: 2px 4px; margin: 2px; text-decoration: none;\">ised</span> <span style=\"background-color: rgba(252, 148, 116, 0.7); padding: 2px 4px; margin: 2px; text-decoration: none;\">a</span> <span style=\"background-color: rgba(252, 159, 129, 0.7); padding: 2px 4px; margin: 2px; text-decoration: none;\">brilliant</span> <span style=\"background-color: rgba(251, 121, 89, 0.7); padding: 2px 4px; margin: 2px; text-decoration: none;\">strategy</span> <span style=\"background-color: rgba(110, 1, 14, 0.7); padding: 2px 4px; margin: 2px; text-decoration: none;\">that</span> <span style=\"background-color: rgba(251, 138, 106, 0.7); padding: 2px 4px; margin: 2px; text-decoration: none;\">secured</span> <span style=\"background-color: rgba(251, 119, 87, 0.7); padding: 2px 4px; margin: 2px; text-decoration: none;\">victory</span> <span style=\"background-color: rgba(252, 151, 120, 0.7); padding: 2px 4px; margin: 2px; text-decoration: none;\">in</span> <span style=\"background-color: rgba(251, 120, 88, 0.7); padding: 2px 4px; margin: 2px; text-decoration: none;\">the</span> <span style=\"background-color: rgba(252, 148, 116, 0.7); padding: 2px 4px; margin: 2px; text-decoration: none;\">final</span> <span style=\"background-color: rgba(250, 105, 73, 0.7); padding: 2px 4px; margin: 2px; text-decoration: none;\">battle</span> <span style=\"background-color: rgba(252, 150, 119, 0.7); padding: 2px 4px; margin: 2px; text-decoration: none;\">.</span> </p>"
      ],
      "text/plain": [
       "<IPython.core.display.HTML object>"
      ]
     },
     "metadata": {},
     "output_type": "display_data"
    },
    {
     "data": {
      "text/html": [
       "<p style='font-family: monospace; text-decoration: none;'><span style=\"background-color: rgba(132, 7, 16, 0.7); padding: 2px 4px; margin: 2px; text-decoration: none;\">The</span> <span style=\"background-color: rgba(247, 91, 65, 0.7); padding: 2px 4px; margin: 2px; text-decoration: none;\">cat</span> <span style=\"background-color: rgba(251, 144, 112, 0.7); padding: 2px 4px; margin: 2px; text-decoration: none;\">jumped</span> <span style=\"background-color: rgba(252, 162, 132, 0.7); padding: 2px 4px; margin: 2px; text-decoration: none;\">over</span> <span style=\"background-color: rgba(252, 151, 120, 0.7); padding: 2px 4px; margin: 2px; text-decoration: none;\">the</span> <span style=\"background-color: rgba(251, 107, 75, 0.7); padding: 2px 4px; margin: 2px; text-decoration: none;\">fence</span> <span style=\"background-color: rgba(110, 1, 14, 0.7); padding: 2px 4px; margin: 2px; text-decoration: none;\">and</span> <span style=\"background-color: rgba(251, 145, 113, 0.7); padding: 2px 4px; margin: 2px; text-decoration: none;\">ch</span> <span style=\"background-color: rgba(252, 177, 150, 0.7); padding: 2px 4px; margin: 2px; text-decoration: none;\">ased</span> <span style=\"background-color: rgba(252, 167, 138, 0.7); padding: 2px 4px; margin: 2px; text-decoration: none;\">a</span> <span style=\"background-color: rgba(252, 171, 142, 0.7); padding: 2px 4px; margin: 2px; text-decoration: none;\">butter</span> <span style=\"background-color: rgba(252, 158, 128, 0.7); padding: 2px 4px; margin: 2px; text-decoration: none;\">fly</span> <span style=\"background-color: rgba(252, 182, 156, 0.7); padding: 2px 4px; margin: 2px; text-decoration: none;\">in</span> <span style=\"background-color: rgba(252, 154, 123, 0.7); padding: 2px 4px; margin: 2px; text-decoration: none;\">the</span> <span style=\"background-color: rgba(251, 132, 100, 0.7); padding: 2px 4px; margin: 2px; text-decoration: none;\">back</span> <span style=\"background-color: rgba(251, 117, 85, 0.7); padding: 2px 4px; margin: 2px; text-decoration: none;\">yard</span> <span style=\"background-color: rgba(251, 134, 102, 0.7); padding: 2px 4px; margin: 2px; text-decoration: none;\">.</span> </p>"
      ],
      "text/plain": [
       "<IPython.core.display.HTML object>"
      ]
     },
     "metadata": {},
     "output_type": "display_data"
    }
   ],
   "source": [
    "theme_texts = [\n",
    "    \"The leader guided the team through difficult challenges with unwavering determination.\",\n",
    "    \"Her strategic decisions turned the company around during a financial crisis.\",\n",
    "    \"He inspired his soldiers with a bold plan that led to a decisive victory.\",\n",
    "    \"The CEO implemented innovative policies that boosted employee morale and productivity.\",\n",
    "    \"She organized a community effort to rebuild the town after the devastating storm.\",\n",
    "    \"The manager successfully negotiated a critical deal that saved the partnership.\",\n",
    "    \"He rallied the team to achieve a record-breaking performance in the quarter.\",\n",
    "    \"Her speeches have motivated countless individuals to pursue their dreams and ambitions.\",\n",
    "    \"The mayor took swift action to address the concerns of the citizens during the emergency.\",\n",
    "    \"He led the research team to develop groundbreaking technology that revolutionized the industry.\",\n",
    "    \"The principal transformed the failing school into one of the top institutions in the district.\",\n",
    "    \"She established a global initiative to tackle climate change and promote sustainability.\",\n",
    "    \"The coach instilled discipline and teamwork to lead the underdog team to the championship.\",\n",
    "    \"He introduced reforms that improved transparency and trust in the government.\",\n",
    "    \"The director managed to turn a small startup into a leading company in the tech sector.\",\n",
    "    \"Her bold vision for the future inspired her colleagues to embrace innovative solutions.\",\n",
    "    \"The admiral made critical decisions during the naval mission, ensuring the safety of his fleet.\",\n",
    "    \"The activist mobilized a massive movement for social justice and equality.\",\n",
    "    \"The commander devised a brilliant strategy that secured victory in the final battle.\",\n",
    "    \"The cat jumped over the fence and chased a butterfly in the backyard.\"  # Dummy sentence\n",
    "]\n",
    "\n",
    "active_features = analyze_feature_responses_grouped_and_visualize(\n",
    "    theme_texts=theme_texts,\n",
    "    tokenizer=tokenizer,\n",
    "    model=model,\n",
    "    sae_model=sae_model,\n",
    "    gather_residual_activations=gather_residual_activations,\n",
    "    layer_index=16,\n",
    "    activation_threshold=0.1,\n",
    "    num_activations=0.9,\n",
    "    display_n=5\n",
    ")\n"
   ]
  },
  {
   "cell_type": "code",
   "execution_count": 10,
   "id": "70733823",
   "metadata": {},
   "outputs": [
    {
     "name": "stderr",
     "output_type": "stream",
     "text": [
      "/tmp/ipykernel_696082/1489343889.py:10: MatplotlibDeprecationWarning: The get_cmap function was deprecated in Matplotlib 3.7 and will be removed in 3.11. Use ``matplotlib.colormaps[name]`` or ``matplotlib.colormaps.get_cmap()`` or ``pyplot.get_cmap()`` instead.\n",
      "  cmap = cm.get_cmap(\"Blues\")  # Color map for activation intensity\n"
     ]
    },
    {
     "data": {
      "image/png": "[encoded data removed]",
      "text/plain": [
       "<Figure size 800x200 with 1 Axes>"
      ]
     },
     "metadata": {},
     "output_type": "display_data"
    }
   ],
   "source": [
    "import numpy as np\n",
    "import matplotlib.pyplot as plt\n",
    "from matplotlib.colors import LinearSegmentedColormap\n",
    "\n",
    "# Define the custom pastel blue colormap\n",
    "# blue_pastel_cmap = LinearSegmentedColormap.from_list(\n",
    "#     \"blue_pastel\", [\"#D0E8F2\", \"#A9D6E5\", \"#89C2D9\", \"#61A5C2\", \"#468FAF\"]\n",
    "# )\n",
    "\n",
    "cmap = cm.get_cmap(\"Blues\")  # Color map for activation intensity\n",
    "\n",
    "blue_pastel_cmap = LinearSegmentedColormap.from_list(\n",
    "    \"blue_pastel\", [\"#D0E8F2\", \"#89C2D9\",\"#468FAF\"]\n",
    ")\n",
    "\n",
    "# Create a gradient to visualize the colormap\n",
    "gradient = np.linspace(0, 1, 256).reshape(1, -1)\n",
    "\n",
    "# Display the colormap\n",
    "plt.figure(figsize=(8, 2))\n",
    "plt.imshow(gradient, aspect='auto', cmap=blue_pastel_cmap)\n",
    "plt.axis('off')  # Remove axes for better visualization\n",
    "plt.title(\"Blue Pastel Colormap\", fontsize=14, pad=10)\n",
    "plt.show()\n",
    "\n"
   ]
  }
 ],
 "metadata": {
  "environment": {
   "kernel": ".env",
   "name": "common-cu113.m112",
   "type": "gcloud",
   "uri": "gcr.io/deeplearning-platform-release/base-cu113:m112"
  },
  "kernelspec": {
   "display_name": "Python 3 (ipykernel)",
   "language": "python",
   "name": "python3"
  },
  "language_info": {
   "codemirror_mode": {
    "name": "ipython",
    "version": 3
   },
   "file_extension": ".py",
   "mimetype": "text/x-python",
   "name": "python",
   "nbconvert_exporter": "python",
   "pygments_lexer": "ipython3",
   "version": "3.11.9"
  }
 },
 "nbformat": 4,
 "nbformat_minor": 5
}
